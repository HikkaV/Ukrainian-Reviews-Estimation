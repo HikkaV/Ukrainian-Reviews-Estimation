{
 "cells": [
  {
   "cell_type": "code",
   "execution_count": 1,
   "id": "ff1b1d28-850f-4755-b464-2cbc134e74bc",
   "metadata": {},
   "outputs": [],
   "source": [
    "#!pip install pyautogui"
   ]
  },
  {
   "cell_type": "code",
   "execution_count": 1,
   "id": "30f6f951-2b95-4cce-a1d2-33a3d8bd8fc3",
   "metadata": {},
   "outputs": [],
   "source": [
    "import pyautogui\n",
    "import time\n",
    "from tqdm import tqdm"
   ]
  },
  {
   "cell_type": "code",
   "execution_count": 2,
   "id": "9cc75b4b-5a7b-4553-9f98-2f94e7d08e73",
   "metadata": {},
   "outputs": [],
   "source": [
    "pyautogui.moveTo(100, 100, duration = 0)"
   ]
  },
  {
   "cell_type": "code",
   "execution_count": 4,
   "id": "4ce434ff-9849-4037-ae4a-2fc3ec8f2a83",
   "metadata": {},
   "outputs": [
    {
     "name": "stdout",
     "output_type": "stream",
     "text": [
      "Point(x=678, y=1056)\n"
     ]
    }
   ],
   "source": [
    "print(pyautogui.position())"
   ]
  },
  {
   "cell_type": "code",
   "execution_count": 5,
   "id": "edc5628d-8b72-41fe-bd20-e59f5bbd6b41",
   "metadata": {},
   "outputs": [],
   "source": [
    "time.sleep(10)\n",
    "pyautogui.moveTo(200, 200, duration = 1)\n",
    "pyautogui.click(200, 200)\n",
    "pyautogui.scroll(-2000)"
   ]
  },
  {
   "cell_type": "code",
   "execution_count": null,
   "id": "3defc65d-9809-4d17-9c04-e924a854aa72",
   "metadata": {
    "tags": []
   },
   "outputs": [
    {
     "name": "stdout",
     "output_type": "stream",
     "text": [
      "Size(width=1920, height=1080)\n"
     ]
    },
    {
     "name": "stderr",
     "output_type": "stream",
     "text": [
      " 97%|███████████████████████████████████████████████████████████████████████████████▌  | 33/34 [35:37<01:04, 64.82s/it]"
     ]
    }
   ],
   "source": [
    "from tqdm import tqdm\n",
    "import pyautogui\n",
    "import time\n",
    "print(pyautogui.size())\n",
    "\n",
    "time.sleep(4)\n",
    "for i in tqdm(range(34)):\n",
    "    \n",
    "    pyautogui.keyDown('shiftleft')\n",
    "    pyautogui.keyDown('shiftright')\n",
    "    # for i in range(0, 300-1):\n",
    "    #     pyautogui.hotkey('shiftright','shiftleft', 'down')\n",
    "    # for i in range(0, 300-1):\n",
    "    #        pyautogui.press('down')\n",
    "    pyautogui.press(['down','down','down','down','down','down','down','down','down','down','down','down','down','down','down','down','down','down','down','down','down','down','down','down','down','down','down','down','down','down','down','down','down','down','down','down','down','down','down','down','down','down','down','down','down','down','down','down','down','down','down','down','down','down','down','down','down','down','down','down','down','down','down','down','down','down','down','down','down','down','down','down','down','down','down','down','down','down','down','down','down','down','down','down','down','down','down','down','down','down','down','down','down','down','down','down','down','down','down','down','down','down','down','down','down','down','down','down','down','down','down','down','down','down','down','down','down','down','down','down','down','down','down','down','down','down','down','down','down','down','down','down','down','down','down','down','down','down','down','down','down','down','down','down','down','down','down','down','down','down','down','down','down','down','down','down','down','down','down','down','down','down','down','down','down','down','down','down','down','down','down','down','down','down','down','down','down','down','down','down','down','down','down','down','down','down','down','down','down','down','down','down','down','down','down','down','down','down','down','down','down','down','down','down','down','down','down','down','down','down','down','down','down','down','down','down','down','down','down','down','down','down','down','down','down','down','down','down','down','down','down','down','down','down','down','down','down','down','down','down','down','down','down','down','down','down','down','down','down','down','down','down','down','down','down','down','down','down','down','down','down','down','down','down','down','down','down','down','down','down','down','down','down','down','down','down','down','down','down','down','down','down','down','down','down','down','down','down','down','down','down','down','down','down','down','down','down','down','down'])\n",
    "    time.sleep(1)\n",
    "    pyautogui.press(['down','down','down','down','down','down','down','down','down','down','down','down','down','down','down','down','down','down','down','down','down','down','down','down','down','down','down','down','down','down','down','down','down','down','down','down','down','down','down','down','down','down','down','down','down','down','down','down','down','down','down','down','down','down','down','down','down','down','down','down','down','down','down','down','down','down','down','down','down','down','down','down','down','down','down','down','down','down','down','down','down','down','down','down','down','down','down','down','down','down','down','down','down','down','down','down','down','down','down','down','down','down','down','down','down','down','down','down','down','down','down','down','down','down','down','down','down','down','down','down','down','down','down','down','down','down','down','down','down','down','down','down','down','down','down','down','down','down','down','down','down','down','down','down','down','down','down','down','down','down','down','down','down','down','down','down','down','down','down','down','down','down','down','down','down','down','down','down','down','down','down','down','down','down','down','down','down','down','down','down','down','down','down','down','down','down','down','down','down','down','down','down','down','down','down','down','down','down','down','down','down','down','down','down','down','down','down','down','down','down','down','down','down','down','down','down','down','down','down','down','down','down','down','down','down','down','down','down','down','down','down','down','down','down','down','down','down','down','down','down','down','down','down','down','down','down','down','down','down','down','down','down','down','down','down','down','down','down','down','down','down','down','down','down','down','down','down','down','down','down','down','down','down','down','down','down','down','down','down','down','down','down','down','down','down','down','down','down','down','down','down','down','down','down','down','down','down','down','down','down'])\n",
    "    time.sleep(1)\n",
    "    pyautogui.press(['down','down','down','down','down','down','down','down','down','down','down','down','down','down','down','down','down','down','down','down','down','down','down','down','down','down','down','down','down','down','down','down','down','down','down','down','down','down','down','down','down','down','down','down','down','down','down','down','down','down','down','down','down','down','down','down','down','down','down','down','down','down','down','down','down','down','down','down','down','down','down','down','down','down','down','down','down','down','down','down','down','down','down','down','down','down','down','down','down','down','down','down','down','down','down','down','down','down','down','down','down','down','down','down','down','down','down','down','down','down','down','down','down','down','down','down','down','down','down','down','down','down','down','down','down','down','down','down','down','down','down','down','down','down','down','down','down','down','down','down','down','down','down','down','down','down','down','down','down','down','down','down','down','down','down','down','down','down','down','down','down','down','down','down','down','down','down','down','down','down','down','down','down','down','down','down','down','down','down','down','down','down','down','down','down','down','down','down','down','down','down','down','down','down','down','down','down','down','down','down','down','down','down','down','down','down','down','down','down','down','down','down','down','down','down','down','down','down','down','down','down','down','down','down','down','down','down','down','down','down','down','down','down','down','down','down','down','down','down','down','down','down','down','down','down','down','down','down','down','down','down','down','down','down','down','down','down','down','down','down','down','down','down','down','down','down','down','down','down','down','down','down','down','down','down','down','down','down','down','down','down','down','down','down','down','down','down','down','down','down','down','down','down','down','down','down','down','down','down','down'])\n",
    "    time.sleep(1)    \n",
    "    pyautogui.keyUp('shiftright')\n",
    "    pyautogui.keyUp('shiftleft')\n",
    "    time.sleep(2)\n",
    "    pyautogui.hotkey('ctrl', 'c', interval=0.25 )\n",
    "    time.sleep(1)\n",
    "    pyautogui.click(x=151, y=1058)\n",
    "    pyautogui.click(x=693, y=303)\n",
    "    pyautogui.hotkey('ctrl', 'a', interval=0.25 )\n",
    "    pyautogui.press('delete')\n",
    "    pyautogui.hotkey('ctrl', 'v')\n",
    "    time.sleep(1)\n",
    "    pyautogui.click(x=1827, y=588)\n",
    "    time.sleep(40)\n",
    "    pyautogui.click(x=1837, y=455)\n",
    "    pyautogui.click(x=1837, y=455)\n",
    "    pyautogui.hotkey('ctrl', 'a')\n",
    "    time.sleep(1)\n",
    "    pyautogui.hotkey('ctrl', 'c')\n",
    "    time.sleep(1)\n",
    "    pyautogui.hotkey('ctrl', 'w')\n",
    "    time.sleep(1)\n",
    "    pyautogui.click(x=957, y=568)\n",
    "    time.sleep(1)\n",
    "    pyautogui.click(x=1832, y=739)\n",
    "    time.sleep(1)\n",
    "    pyautogui.click(x=227, y=1055)\n",
    "    pyautogui.click(x=347, y=972)\n",
    "    time.sleep(1)\n",
    "    pyautogui.click(x=873, y=882)\n",
    "    pyautogui.hotkey('ctrl', 'up')\n",
    "    pyautogui.hotkey('ctrl', 'up')\n",
    "    pyautogui.hotkey('ctrl', 'up')\n",
    "    time.sleep(1)\n",
    "    pyautogui.hotkey('ctrl', 'down')\n",
    "    pyautogui.press('down')\n",
    "    time.sleep(1)\n",
    "    pyautogui.hotkey('ctrl', 'v')\n",
    "    time.sleep(3)\n",
    "    pyautogui.hotkey('ctrl', 'down')\n",
    "    pyautogui.press('down')\n",
    "    pyautogui.press('left')\n",
    "    \n",
    "    \n",
    "  "
   ]
  },
  {
   "cell_type": "code",
   "execution_count": null,
   "id": "cd46b419-1d92-49bc-863a-730bc3d656d6",
   "metadata": {
    "tags": []
   },
   "outputs": [],
   "source": []
  },
  {
   "cell_type": "code",
   "execution_count": 2,
   "id": "14c35052-13ca-4cbb-ac88-ece90e824db9",
   "metadata": {},
   "outputs": [],
   "source": [
    "time.sleep(5)\n",
    "pyautogui.hotkey('ctrl', 'a', interval=0.25 )\n",
    "pyautogui.hotkey('ctrl', 'c', interval=0.25 )"
   ]
  },
  {
   "cell_type": "code",
   "execution_count": null,
   "id": "81f4dc62-a170-4713-a25f-ab5115e1be56",
   "metadata": {},
   "outputs": [],
   "source": [
    "pyautogui.click(x=618, y=973)"
   ]
  },
  {
   "cell_type": "code",
   "execution_count": null,
   "id": "c61071ee-0427-4045-abc1-2c1da3905278",
   "metadata": {},
   "outputs": [],
   "source": []
  },
  {
   "cell_type": "code",
   "execution_count": null,
   "id": "65661e90-e883-46e6-89bc-f1cafbef1311",
   "metadata": {},
   "outputs": [],
   "source": [
    "time.sleep(5)\n",
    "\n",
    "pyautogui.hotkey('ctrl', 'up')\n",
    "pyautogui.hotkey('ctrl', 'up')\n",
    "pyautogui.hotkey('ctrl', 'up')\n",
    "pyautogui.hotkey('ctrl', 'down')\n",
    "pyautogui.press('down')\n",
    "pyautogui.hotkey('ctrl', 'v')\n",
    "time.sleep(1)\n",
    "pyautogui.hotkey('ctrl', 'down')\n",
    "pyautogui.press('down')\n",
    "pyautogui.press('left')"
   ]
  },
  {
   "cell_type": "code",
   "execution_count": null,
   "id": "a808bff7-7f92-47da-a3ff-4b82fbe92da3",
   "metadata": {},
   "outputs": [],
   "source": [
    "\n"
   ]
  },
  {
   "cell_type": "code",
   "execution_count": null,
   "id": "cd183e09-7def-4e24-b429-41374a51f034",
   "metadata": {},
   "outputs": [],
   "source": [
    "for i in range(100):\n",
    "     print(\"'down',\")"
   ]
  },
  {
   "cell_type": "code",
   "execution_count": null,
   "id": "df328376-bcc3-427b-af47-e8bcacdb26ed",
   "metadata": {},
   "outputs": [],
   "source": [
    "time.sleep(2)\n",
    "print(pyautogui.position())"
   ]
  },
  {
   "cell_type": "code",
   "execution_count": null,
   "id": "bb59a145-208e-4417-b1c3-6521422140d4",
   "metadata": {},
   "outputs": [],
   "source": [
    "Point(x=1048, y=1057) - chrome\n",
    "Point(x=911, y=939)\n",
    "Point(x=1125, y=1062)- word\n",
    "\n",
    "Point(x=1313, y=271) - word"
   ]
  },
  {
   "cell_type": "code",
   "execution_count": 2,
   "id": "4c19cbbc-b999-44f5-8ce8-0d4bb211d78e",
   "metadata": {},
   "outputs": [],
   "source": [
    "time.sleep(3)\n",
    "pyautogui.hotkey(\"ctrlleft\", \"a\")"
   ]
  },
  {
   "cell_type": "code",
   "execution_count": null,
   "id": "3160f061-39d0-4599-990c-94916a50b3de",
   "metadata": {},
   "outputs": [],
   "source": [
    "pyautogui.click(x=1837, y=455)"
   ]
  },
  {
   "cell_type": "code",
   "execution_count": null,
   "id": "d7f666d1-4e98-44f7-823a-995d7399377a",
   "metadata": {},
   "outputs": [],
   "source": [
    "time.sleep(3)\n",
    "pyautogui.click(x=1834, y=571)"
   ]
  },
  {
   "cell_type": "code",
   "execution_count": null,
   "id": "d85e3f21-e4a0-4628-853e-db92c579b18a",
   "metadata": {},
   "outputs": [],
   "source": [
    "pyautogui.click(x=1839, y=552)\n",
    "pyautogui.click(x=1839, y=552)"
   ]
  },
  {
   "cell_type": "code",
   "execution_count": null,
   "id": "8d340b70-d689-4f4f-8900-f0e662feeb57",
   "metadata": {},
   "outputs": [],
   "source": [
    "    pyautogui.click(x=1827, y=588)"
   ]
  },
  {
   "cell_type": "code",
   "execution_count": null,
   "id": "7eab8a5e-89b1-4787-b82f-bbd9bdb5cfc4",
   "metadata": {},
   "outputs": [],
   "source": [
    "time.sleep(1)\n",
    "pyautogui.click(x=227, y=1055)\n",
    "pyautogui.click(x=347, y=972)\n",
    "time.sleep(1)\n",
    "pyautogui.click(x=873, y=882)"
   ]
  },
  {
   "cell_type": "code",
   "execution_count": null,
   "id": "ba3bd6ec-b702-45ff-9946-3acf9a08e9f8",
   "metadata": {},
   "outputs": [],
   "source": [
    "time.sleep(2)\n",
    "print(pyautogui.position())"
   ]
  },
  {
   "cell_type": "code",
   "execution_count": null,
   "id": "51b0d339-5c6a-40ef-a0e4-82ba46fe333d",
   "metadata": {},
   "outputs": [],
   "source": [
    "time.sleep(2)\n",
    "print(pyautogui.position())"
   ]
  },
  {
   "cell_type": "code",
   "execution_count": null,
   "id": "9cdaf7de-05f6-4633-a77e-efc0da9df522",
   "metadata": {},
   "outputs": [],
   "source": [
    "time.sleep(1)\n",
    "pyautogui.click(x=151, y=1058)\n",
    "time.sleep(1)\n",
    "pyautogui.click(x=693, y=303)"
   ]
  },
  {
   "cell_type": "code",
   "execution_count": null,
   "id": "d3200455-8baf-4243-a900-c164d7a785e3",
   "metadata": {},
   "outputs": [],
   "source": [
    "time.sleep(1)\n",
    "pyautogui.click(x=151, y=1058)\n",
    "time.sleep(1)\n",
    "pyautogui.click(x=693, y=303)"
   ]
  },
  {
   "cell_type": "code",
   "execution_count": null,
   "id": "87dd7bb5-6301-48a1-9659-e766c070a5a9",
   "metadata": {},
   "outputs": [],
   "source": [
    "    time.sleep(1)\n",
    "    pyautogui.click(x=957, y=568)\n",
    "    time.sleep(1)\n",
    "    pyautogui.click(x=1832, y=739)\n",
    "    time.sleep(1)\n",
    "    pyautogui.click(x=227, y=1055)\n",
    "    pyautogui.click(x=347, y=972)\n",
    "    time.sleep(1)\n",
    "    pyautogui.click(x=873, y=882)"
   ]
  },
  {
   "cell_type": "code",
   "execution_count": null,
   "id": "d60b2aa8-8ea0-44ab-a693-0865334d10d1",
   "metadata": {},
   "outputs": [],
   "source": [
    "import pandas as pd\n",
    "\n",
    "df = pd.read_excel(r'C:\\Users\\user\\Desktop\\rozetka_translate.xlsx')\n"
   ]
  },
  {
   "cell_type": "code",
   "execution_count": null,
   "id": "12206bb8-6f18-454d-afa0-0e1eeb6bea1f",
   "metadata": {},
   "outputs": [],
   "source": [
    "df.head()"
   ]
  },
  {
   "cell_type": "code",
   "execution_count": null,
   "id": "b30f5b21-0704-4381-9068-55cd00a8bdb1",
   "metadata": {},
   "outputs": [],
   "source": [
    "df = df[df.rating != 0]"
   ]
  },
  {
   "cell_type": "code",
   "execution_count": null,
   "id": "e4c66191-5525-4089-bfe8-67cd02eeee39",
   "metadata": {},
   "outputs": [],
   "source": [
    "df = df[df.rating != -1]"
   ]
  },
  {
   "cell_type": "code",
   "execution_count": null,
   "id": "0acfd4c0-17d3-4cbb-b38b-1f88d25a7363",
   "metadata": {},
   "outputs": [],
   "source": [
    "print(df)"
   ]
  },
  {
   "cell_type": "code",
   "execution_count": null,
   "id": "ff561c18-c135-4872-8ebc-8f2aa5a2c2d1",
   "metadata": {},
   "outputs": [],
   "source": [
    "df.to_csv(r'C:\\Users\\user\\Desktop\\rozetka_translate_2.csv')"
   ]
  },
  {
   "cell_type": "code",
   "execution_count": null,
   "id": "f857a4ca-2c48-4be4-8b6a-e06853bbfb8c",
   "metadata": {},
   "outputs": [],
   "source": [
    "#df = df[df.line_race != 0]"
   ]
  }
 ],
 "metadata": {
  "kernelspec": {
   "display_name": "Python 3 (ipykernel)",
   "language": "python",
   "name": "python3"
  },
  "language_info": {
   "codemirror_mode": {
    "name": "ipython",
    "version": 3
   },
   "file_extension": ".py",
   "mimetype": "text/x-python",
   "name": "python",
   "nbconvert_exporter": "python",
   "pygments_lexer": "ipython3",
   "version": "3.10.2"
  }
 },
 "nbformat": 4,
 "nbformat_minor": 5
}
