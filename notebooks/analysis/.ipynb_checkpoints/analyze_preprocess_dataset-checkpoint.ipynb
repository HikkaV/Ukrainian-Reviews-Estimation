{
 "cells": [
  {
   "cell_type": "code",
   "execution_count": 1,
   "id": "397cddd0",
   "metadata": {},
   "outputs": [],
   "source": [
    "import os\n",
    "import pandas as pd\n",
    "import gc"
   ]
  },
  {
   "cell_type": "code",
   "execution_count": 2,
   "id": "59bf3eda",
   "metadata": {},
   "outputs": [],
   "source": [
    "from multiprocessing.pool import Pool\n",
    "from contextlib import closing\n",
    "from tqdm import tqdm\n",
    "\n",
    "\n",
    "def multiprocess_func(main_input, func, additional_inputs=None,\n",
    "                      gather_func=None, to_split=True, gather_func_args=None,\n",
    "                      chunk_size=100, n_processes=8):\n",
    "    if not gather_func_args:\n",
    "        gather_func_args = []\n",
    "    if not additional_inputs:\n",
    "        additional_inputs = []\n",
    "    if not gather_func:\n",
    "        gather_func = lambda x: [z for i in x for z in i]\n",
    "    if to_split:\n",
    "        splitted = [(main_input[i:i + chunk_size], *additional_inputs) if additional_inputs else main_input[i:i + chunk_size]\\\n",
    "                    for i in range(0, len(main_input), chunk_size)]\n",
    "    else:\n",
    "        splitted = [(i, *additional_inputs) if additional_inputs else i for i in main_input]\n",
    "    with closing(Pool(n_processes)) as p:\n",
    "        result = list(tqdm(p.imap(func, splitted),\n",
    "                           total=len(splitted)))\n",
    "    return gather_func(result, *gather_func_args)\n"
   ]
  },
  {
   "cell_type": "code",
   "execution_count": 3,
   "id": "1f245df1",
   "metadata": {},
   "outputs": [],
   "source": [
    "path = '../../../data_reviews/'"
   ]
  },
  {
   "cell_type": "code",
   "execution_count": 4,
   "id": "a1ac7bef",
   "metadata": {},
   "outputs": [
    {
     "name": "stdout",
     "output_type": "stream",
     "text": [
      "   80802 ../../../data_reviews//hotels_final.csv\n",
      "  228730 ../../../data_reviews//restaurants_review_final.csv\n",
      "  281221 ../../../data_reviews//rozetka_ru.csv\n",
      "  404907 ../../../data_reviews//rozetka_ukr.csv\n",
      "  995660 total\n"
     ]
    }
   ],
   "source": [
    "!wc -l $path/*"
   ]
  },
  {
   "cell_type": "markdown",
   "id": "5435f320",
   "metadata": {},
   "source": [
    "# Merging the data"
   ]
  },
  {
   "cell_type": "code",
   "execution_count": 5,
   "id": "f0ff82f1",
   "metadata": {},
   "outputs": [
    {
     "data": {
      "text/plain": [
       "(119194, 7)"
      ]
     },
     "execution_count": 5,
     "metadata": {},
     "output_type": "execute_result"
    }
   ],
   "source": [
    "df1 = pd.read_csv(os.path.join(path, 'rozetka_ukr.csv'), encoding='windows-1251', \n",
    "           sep=';')\n",
    "df1.shape"
   ]
  },
  {
   "cell_type": "code",
   "execution_count": 6,
   "id": "83695a92",
   "metadata": {},
   "outputs": [],
   "source": [
    "df1['entity_name'] = df1['prod_link'].apply(lambda x: x.split('/')[-3])"
   ]
  },
  {
   "cell_type": "code",
   "execution_count": 7,
   "id": "e2ce04c3",
   "metadata": {},
   "outputs": [],
   "source": [
    "df1 = df1[['comment','translate', 'rating', 'entity_name']]\\\n",
    ".rename(columns={'comment':'review', 'translate':'review_translate'})\n",
    "df1['dataset_name'] = 'rozetka'"
   ]
  },
  {
   "cell_type": "code",
   "execution_count": 8,
   "id": "ad7cc2a3",
   "metadata": {},
   "outputs": [
    {
     "data": {
      "text/plain": [
       "(281220, 7)"
      ]
     },
     "execution_count": 8,
     "metadata": {},
     "output_type": "execute_result"
    }
   ],
   "source": [
    "df2 = pd.read_csv(os.path.join(path, 'rozetka_ru.csv'), encoding='windows-1251', \n",
    "           sep=';')\n",
    "df2.shape"
   ]
  },
  {
   "cell_type": "code",
   "execution_count": 9,
   "id": "0228cdf8",
   "metadata": {},
   "outputs": [],
   "source": [
    "df2 = df2[~df2['prod_link'].isna()]"
   ]
  },
  {
   "cell_type": "code",
   "execution_count": 10,
   "id": "639c5d10",
   "metadata": {},
   "outputs": [],
   "source": [
    "df2['entity_name'] = df2['prod_link'].apply(lambda x: x.split('/')[-3])"
   ]
  },
  {
   "cell_type": "code",
   "execution_count": 11,
   "id": "3bffb88d",
   "metadata": {},
   "outputs": [],
   "source": [
    "df2 = df2[['comment','translate', 'rating', 'entity_name']]\\\n",
    ".rename(columns={'comment':'review', 'translate':'review_translate'})\n",
    "df2['dataset_name'] = 'rozetka'"
   ]
  },
  {
   "cell_type": "code",
   "execution_count": 12,
   "id": "bdbf590c",
   "metadata": {},
   "outputs": [
    {
     "data": {
      "text/plain": [
       "(80751, 12)"
      ]
     },
     "execution_count": 12,
     "metadata": {},
     "output_type": "execute_result"
    }
   ],
   "source": [
    "df3 = pd.read_csv(os.path.join(path, 'hotels_final.csv'), encoding='windows-1251', \n",
    "           sep=';')\n",
    "df3.shape"
   ]
  },
  {
   "cell_type": "code",
   "execution_count": 13,
   "id": "fb548a6f",
   "metadata": {},
   "outputs": [],
   "source": [
    "df3 = df3.rename(columns={'hotel_name':'entity_name'})"
   ]
  },
  {
   "cell_type": "code",
   "execution_count": 14,
   "id": "742887c3",
   "metadata": {},
   "outputs": [],
   "source": [
    "df3 = df3[['review', 'translate', 'overall_rating', 'entity_name']]\\\n",
    ".rename(columns={'overall_rating' : 'rating', 'translate':'review_translate'})\n",
    "df3['dataset_name'] = 'tripadvisor_hotels_ukraine'"
   ]
  },
  {
   "cell_type": "code",
   "execution_count": 15,
   "id": "40463177",
   "metadata": {},
   "outputs": [
    {
     "data": {
      "text/plain": [
       "(191833, 6)"
      ]
     },
     "execution_count": 15,
     "metadata": {},
     "output_type": "execute_result"
    }
   ],
   "source": [
    "df4 = pd.read_csv(os.path.join(path, 'restaurants_review_final.csv'), encoding='windows-1251', \n",
    "           sep=';')\n",
    "df4.shape"
   ]
  },
  {
   "cell_type": "code",
   "execution_count": 16,
   "id": "52f6d7f3",
   "metadata": {},
   "outputs": [],
   "source": [
    "df4 = df4.rename(columns={'name':'entity_name'})"
   ]
  },
  {
   "cell_type": "code",
   "execution_count": 17,
   "id": "e34bb9fd",
   "metadata": {},
   "outputs": [],
   "source": [
    "df4 = df4.rename(columns={'overall_rating' : 'rating'})[['review', 'title_translate', 'review_translate', 'rating',\n",
    "                                                        'entity_name']]\n",
    "df4['dataset_name'] = 'tripadvisor_restaurants_ukraine'"
   ]
  },
  {
   "cell_type": "code",
   "execution_count": 18,
   "id": "f58f2261",
   "metadata": {},
   "outputs": [],
   "source": [
    "df = pd.concat([df1, df2, df3, df4], axis=0)"
   ]
  },
  {
   "cell_type": "code",
   "execution_count": 19,
   "id": "ca171f6c",
   "metadata": {},
   "outputs": [
    {
     "data": {
      "text/html": [
       "<div>\n",
       "<style scoped>\n",
       "    .dataframe tbody tr th:only-of-type {\n",
       "        vertical-align: middle;\n",
       "    }\n",
       "\n",
       "    .dataframe tbody tr th {\n",
       "        vertical-align: top;\n",
       "    }\n",
       "\n",
       "    .dataframe thead th {\n",
       "        text-align: right;\n",
       "    }\n",
       "</style>\n",
       "<table border=\"1\" class=\"dataframe\">\n",
       "  <thead>\n",
       "    <tr style=\"text-align: right;\">\n",
       "      <th></th>\n",
       "      <th>review</th>\n",
       "      <th>review_translate</th>\n",
       "      <th>rating</th>\n",
       "      <th>entity_name</th>\n",
       "      <th>dataset_name</th>\n",
       "      <th>title_translate</th>\n",
       "    </tr>\n",
       "  </thead>\n",
       "  <tbody>\n",
       "    <tr>\n",
       "      <th>0</th>\n",
       "      <td>Якісна пластмаса, переворот 360 градусвв</td>\n",
       "      <td>Якісна пластмаса, переворот 360 градусвв</td>\n",
       "      <td>5.0</td>\n",
       "      <td>screechers_wild_eu684204</td>\n",
       "      <td>rozetka</td>\n",
       "      <td>NaN</td>\n",
       "    </tr>\n",
       "    <tr>\n",
       "      <th>1</th>\n",
       "      <td>За такі гроші це самий топ</td>\n",
       "      <td>За такі гроші це самий топ</td>\n",
       "      <td>5.0</td>\n",
       "      <td>xiaomi_hsej03jy_black</td>\n",
       "      <td>rozetka</td>\n",
       "      <td>NaN</td>\n",
       "    </tr>\n",
       "    <tr>\n",
       "      <th>2</th>\n",
       "      <td>За такі гроші - просто супер! Рекомендую.</td>\n",
       "      <td>За такі гроші - просто супер! Рекомендую.</td>\n",
       "      <td>5.0</td>\n",
       "      <td>esperanza_eza108</td>\n",
       "      <td>rozetka</td>\n",
       "      <td>NaN</td>\n",
       "    </tr>\n",
       "    <tr>\n",
       "      <th>3</th>\n",
       "      <td>Виконує свою роботу не погано.але що ви хотіли...</td>\n",
       "      <td>Виконує свою роботу не погано.але що ви хотіли...</td>\n",
       "      <td>4.0</td>\n",
       "      <td>voin_v_80</td>\n",
       "      <td>rozetka</td>\n",
       "      <td>NaN</td>\n",
       "    </tr>\n",
       "    <tr>\n",
       "      <th>4</th>\n",
       "      <td>Купляв на стару сістему як основний під віндов...</td>\n",
       "      <td>Купляв на стару сістему як основний під віндов...</td>\n",
       "      <td>4.0</td>\n",
       "      <td>kingston_sa400s37_240g</td>\n",
       "      <td>rozetka</td>\n",
       "      <td>NaN</td>\n",
       "    </tr>\n",
       "    <tr>\n",
       "      <th>...</th>\n",
       "      <td>...</td>\n",
       "      <td>...</td>\n",
       "      <td>...</td>\n",
       "      <td>...</td>\n",
       "      <td>...</td>\n",
       "      <td>...</td>\n",
       "    </tr>\n",
       "    <tr>\n",
       "      <th>191828</th>\n",
       "      <td>Очень приятная атмосфера. Хорошая диетическая ...</td>\n",
       "      <td>Дуже приємна атмосфера. Гарне дієтичне харчува...</td>\n",
       "      <td>5.0</td>\n",
       "      <td>Restaurant_Review-g4758410-d8674306-Reviews-Ca...</td>\n",
       "      <td>tripadvisor_restaurants_ukraine</td>\n",
       "      <td>Шикарне місце</td>\n",
       "    </tr>\n",
       "    <tr>\n",
       "      <th>191829</th>\n",
       "      <td>Понравилось диетическое питание. Быстро вкусно...</td>\n",
       "      <td>Сподобалося дієтичне харчування. Швидко смачно...</td>\n",
       "      <td>5.0</td>\n",
       "      <td>Restaurant_Review-g4758410-d8674306-Reviews-Ca...</td>\n",
       "      <td>tripadvisor_restaurants_ukraine</td>\n",
       "      <td>Дієтичні</td>\n",
       "    </tr>\n",
       "    <tr>\n",
       "      <th>191830</th>\n",
       "      <td>Заказали разные блюда, все было по-домашнему и...</td>\n",
       "      <td>Ми замовляли різні страви, все було домашнім і...</td>\n",
       "      <td>5.0</td>\n",
       "      <td>Restaurant_Review-g4758410-d8674306-Reviews-Ca...</td>\n",
       "      <td>tripadvisor_restaurants_ukraine</td>\n",
       "      <td>Смачна їжа за доступними цінами</td>\n",
       "    </tr>\n",
       "    <tr>\n",
       "      <th>191831</th>\n",
       "      <td>Это лучший ресторан в курортном городе Моршин....</td>\n",
       "      <td>Це кращий ресторан курортного міста Моршин. Ві...</td>\n",
       "      <td>5.0</td>\n",
       "      <td>Restaurant_Review-g4758410-d8674306-Reviews-Ca...</td>\n",
       "      <td>tripadvisor_restaurants_ukraine</td>\n",
       "      <td>Кращі в Моршині</td>\n",
       "    </tr>\n",
       "    <tr>\n",
       "      <th>191832</th>\n",
       "      <td>В виду того, что с недавних пор доступ к морю ...</td>\n",
       "      <td>З огляду на те, що останнім часом вихід до мор...</td>\n",
       "      <td>5.0</td>\n",
       "      <td>Restaurant_Review-g4758410-d8674306-Reviews-Ca...</td>\n",
       "      <td>tripadvisor_restaurants_ukraine</td>\n",
       "      <td>приємна несподіванка</td>\n",
       "    </tr>\n",
       "  </tbody>\n",
       "</table>\n",
       "<p>671998 rows × 6 columns</p>\n",
       "</div>"
      ],
      "text/plain": [
       "                                                   review  \\\n",
       "0               Якісна пластмаса, переворот 360 градусвв    \n",
       "1                             За такі гроші це самий топ    \n",
       "2              За такі гроші - просто супер! Рекомендую.    \n",
       "3       Виконує свою роботу не погано.але що ви хотіли...   \n",
       "4       Купляв на стару сістему як основний під віндов...   \n",
       "...                                                   ...   \n",
       "191828  Очень приятная атмосфера. Хорошая диетическая ...   \n",
       "191829  Понравилось диетическое питание. Быстро вкусно...   \n",
       "191830  Заказали разные блюда, все было по-домашнему и...   \n",
       "191831  Это лучший ресторан в курортном городе Моршин....   \n",
       "191832  В виду того, что с недавних пор доступ к морю ...   \n",
       "\n",
       "                                         review_translate  rating  \\\n",
       "0               Якісна пластмаса, переворот 360 градусвв      5.0   \n",
       "1                             За такі гроші це самий топ      5.0   \n",
       "2              За такі гроші - просто супер! Рекомендую.      5.0   \n",
       "3       Виконує свою роботу не погано.але що ви хотіли...     4.0   \n",
       "4       Купляв на стару сістему як основний під віндов...     4.0   \n",
       "...                                                   ...     ...   \n",
       "191828  Дуже приємна атмосфера. Гарне дієтичне харчува...     5.0   \n",
       "191829  Сподобалося дієтичне харчування. Швидко смачно...     5.0   \n",
       "191830  Ми замовляли різні страви, все було домашнім і...     5.0   \n",
       "191831  Це кращий ресторан курортного міста Моршин. Ві...     5.0   \n",
       "191832  З огляду на те, що останнім часом вихід до мор...     5.0   \n",
       "\n",
       "                                              entity_name  \\\n",
       "0                                screechers_wild_eu684204   \n",
       "1                                   xiaomi_hsej03jy_black   \n",
       "2                                        esperanza_eza108   \n",
       "3                                               voin_v_80   \n",
       "4                                  kingston_sa400s37_240g   \n",
       "...                                                   ...   \n",
       "191828  Restaurant_Review-g4758410-d8674306-Reviews-Ca...   \n",
       "191829  Restaurant_Review-g4758410-d8674306-Reviews-Ca...   \n",
       "191830  Restaurant_Review-g4758410-d8674306-Reviews-Ca...   \n",
       "191831  Restaurant_Review-g4758410-d8674306-Reviews-Ca...   \n",
       "191832  Restaurant_Review-g4758410-d8674306-Reviews-Ca...   \n",
       "\n",
       "                           dataset_name                  title_translate  \n",
       "0                               rozetka                              NaN  \n",
       "1                               rozetka                              NaN  \n",
       "2                               rozetka                              NaN  \n",
       "3                               rozetka                              NaN  \n",
       "4                               rozetka                              NaN  \n",
       "...                                 ...                              ...  \n",
       "191828  tripadvisor_restaurants_ukraine                    Шикарне місце  \n",
       "191829  tripadvisor_restaurants_ukraine                         Дієтичні  \n",
       "191830  tripadvisor_restaurants_ukraine  Смачна їжа за доступними цінами  \n",
       "191831  tripadvisor_restaurants_ukraine                  Кращі в Моршині  \n",
       "191832  tripadvisor_restaurants_ukraine             приємна несподіванка  \n",
       "\n",
       "[671998 rows x 6 columns]"
      ]
     },
     "execution_count": 19,
     "metadata": {},
     "output_type": "execute_result"
    }
   ],
   "source": [
    "df"
   ]
  },
  {
   "cell_type": "code",
   "execution_count": 20,
   "id": "07d5b576",
   "metadata": {},
   "outputs": [],
   "source": [
    "del df1, df2, df3, df4;\n",
    "gc.collect();"
   ]
  },
  {
   "cell_type": "code",
   "execution_count": 21,
   "id": "50f3a4ea",
   "metadata": {},
   "outputs": [],
   "source": [
    "df = df[~df['rating'].isna()]"
   ]
  },
  {
   "cell_type": "code",
   "execution_count": 22,
   "id": "74a35cf9",
   "metadata": {},
   "outputs": [
    {
     "name": "stderr",
     "output_type": "stream",
     "text": [
      "/Users/volodymyrkovenko/own_projects/shevchenko_ai/env/lib/python3.7/site-packages/ipykernel_launcher.py:1: SettingWithCopyWarning: \n",
      "A value is trying to be set on a copy of a slice from a DataFrame.\n",
      "Try using .loc[row_indexer,col_indexer] = value instead\n",
      "\n",
      "See the caveats in the documentation: https://pandas.pydata.org/pandas-docs/stable/user_guide/indexing.html#returning-a-view-versus-a-copy\n",
      "  \"\"\"Entry point for launching an IPython kernel.\n"
     ]
    }
   ],
   "source": [
    "df['title_translate'] = df['title_translate'].fillna('')"
   ]
  },
  {
   "cell_type": "code",
   "execution_count": 23,
   "id": "92e62ec4",
   "metadata": {},
   "outputs": [],
   "source": [
    "df = df[~df['review'].isna()]"
   ]
  },
  {
   "cell_type": "code",
   "execution_count": 24,
   "id": "097048fe",
   "metadata": {},
   "outputs": [],
   "source": [
    "df['translated'] = df['review']!=df['review_translate']"
   ]
  },
  {
   "cell_type": "code",
   "execution_count": 25,
   "id": "43eb4edf",
   "metadata": {},
   "outputs": [
    {
     "data": {
      "text/plain": [
       "review              0\n",
       "review_translate    0\n",
       "rating              0\n",
       "entity_name         0\n",
       "dataset_name        0\n",
       "title_translate     0\n",
       "translated          0\n",
       "dtype: int64"
      ]
     },
     "execution_count": 25,
     "metadata": {},
     "output_type": "execute_result"
    }
   ],
   "source": [
    "df.isna().sum()"
   ]
  },
  {
   "cell_type": "code",
   "execution_count": 26,
   "id": "0031fc4d",
   "metadata": {},
   "outputs": [
    {
     "data": {
      "text/plain": [
       "True     543725\n",
       "False    128266\n",
       "Name: translated, dtype: int64"
      ]
     },
     "execution_count": 26,
     "metadata": {},
     "output_type": "execute_result"
    }
   ],
   "source": [
    "df['translated'].value_counts()"
   ]
  },
  {
   "cell_type": "code",
   "execution_count": 27,
   "id": "c220c6fe",
   "metadata": {},
   "outputs": [
    {
     "data": {
      "text/plain": [
       "(671991, 7)"
      ]
     },
     "execution_count": 27,
     "metadata": {},
     "output_type": "execute_result"
    }
   ],
   "source": [
    "df.shape"
   ]
  },
  {
   "cell_type": "code",
   "execution_count": 28,
   "id": "c9349f35",
   "metadata": {},
   "outputs": [
    {
     "data": {
      "text/plain": [
       "array([['Купил 3 недели назад. За это время использовал 2-3 часа в день без сильных нагрузок (игр или значительного набора текста).Спустя две недели после начала эксплуатации, некоторые клавиши перестали реагировать - приходится переподключать кабель USB для возобновления их \"реакции\". Клавиша LED для переключения цвета подсветки \"умерла\" - светит только красным (стартовый цвет), подсветку теперь можно выключить только посредством Fn+\"Яркость\".Не лучший представитель мира китайских технологий.Рекомендовать не могу.',\n",
       "        'Купили 3 тижні тому. За цей час я використовував 2-3 години на день без великих навантажень (ігор або значного набору тексту).Через два тижні після початку роботи деякі клавіші перестали відповідати - доводиться заново підключати USB-кабель, щоб відновити їх «реакцію». Світлодіодна клавіша для перемикання кольору підсвічування «мертва» - світить тільки червоним (стартовий колір), підсвічування тепер можна відключати тільки за допомогою Fn + «Brightness».Чи не найкращий представник світу китайських технологій.Не можу рекомендувати.']],\n",
       "      dtype=object)"
      ]
     },
     "execution_count": 28,
     "metadata": {},
     "output_type": "execute_result"
    }
   ],
   "source": [
    "df[df['rating']==2].sample(1)[['review', 'review_translate']].values"
   ]
  },
  {
   "cell_type": "code",
   "execution_count": 29,
   "id": "75a19c6f",
   "metadata": {},
   "outputs": [
    {
     "data": {
      "text/plain": [
       "28069"
      ]
     },
     "execution_count": 29,
     "metadata": {},
     "output_type": "execute_result"
    }
   ],
   "source": [
    "df['entity_name'].nunique()"
   ]
  },
  {
   "cell_type": "markdown",
   "id": "876376a5",
   "metadata": {},
   "source": [
    "# Basic data analysis"
   ]
  },
  {
   "cell_type": "code",
   "execution_count": 30,
   "id": "84a05838",
   "metadata": {},
   "outputs": [],
   "source": [
    "import nltk\n",
    "import matplotlib.pyplot as plt\n",
    "import seaborn as sns\n",
    "import numpy as np"
   ]
  },
  {
   "cell_type": "code",
   "execution_count": 31,
   "id": "00ddaae4",
   "metadata": {},
   "outputs": [],
   "source": [
    "sns.set()"
   ]
  },
  {
   "cell_type": "code",
   "execution_count": 32,
   "id": "a5653ad2",
   "metadata": {},
   "outputs": [],
   "source": [
    "from nltk.tokenize import sent_tokenize"
   ]
  },
  {
   "cell_type": "markdown",
   "id": "1795fa4d",
   "metadata": {},
   "source": [
    "## Characters number "
   ]
  },
  {
   "cell_type": "code",
   "execution_count": 33,
   "id": "2ef7924e",
   "metadata": {},
   "outputs": [
    {
     "name": "stdout",
     "output_type": "stream",
     "text": [
      "Max number of characters in translated review : 24302\n",
      "Min number of characters in translated review : 1\n",
      "Mean number of characters in translated review : 255.07162893550657\n",
      "Median number of characters in translated review : 161.0\n"
     ]
    }
   ],
   "source": [
    "print('Max number of characters in translated review : {}'.format(df['review_translate'].apply(len).max()))\n",
    "print('Min number of characters in translated review : {}'.format(df['review_translate'].apply(len).min()))\n",
    "print('Mean number of characters in translated review : {}'.format(df['review_translate'].apply(len).mean()))\n",
    "print('Median number of characters in translated review : {}'.format(df['review_translate'].apply(len).median()))\n"
   ]
  },
  {
   "cell_type": "code",
   "execution_count": 34,
   "id": "729daf4b",
   "metadata": {},
   "outputs": [
    {
     "name": "stderr",
     "output_type": "stream",
     "text": [
      "/Users/volodymyrkovenko/own_projects/shevchenko_ai/env/lib/python3.7/site-packages/ipykernel_launcher.py:1: UserWarning: \n",
      "\n",
      "`distplot` is a deprecated function and will be removed in seaborn v0.14.0.\n",
      "\n",
      "Please adapt your code to use either `displot` (a figure-level function with\n",
      "similar flexibility) or `histplot` (an axes-level function for histograms).\n",
      "\n",
      "For a guide to updating your code to use the new functions, please see\n",
      "https://gist.github.com/mwaskom/de44147ed2974457ad6372750bbe5751\n",
      "\n",
      "  \"\"\"Entry point for launching an IPython kernel.\n"
     ]
    },
    {
     "data": {
      "text/plain": [
       "<AxesSubplot:xlabel='review_translate', ylabel='Density'>"
      ]
     },
     "execution_count": 34,
     "metadata": {},
     "output_type": "execute_result"
    },
    {
     "data": {
      "image/png": "[encoded data removed]",
      "text/plain": [
       "<Figure size 640x480 with 1 Axes>"
      ]
     },
     "metadata": {},
     "output_type": "display_data"
    }
   ],
   "source": [
    "sns.distplot(np.log10(df['review_translate'].apply(len)))"
   ]
  },
  {
   "cell_type": "code",
   "execution_count": 35,
   "id": "e0706daf",
   "metadata": {},
   "outputs": [
    {
     "data": {
      "text/plain": [
       "1.0"
      ]
     },
     "execution_count": 35,
     "metadata": {},
     "output_type": "execute_result"
    }
   ],
   "source": [
    "np.percentile(df['review_translate'].apply(len), q=0.2)"
   ]
  },
  {
   "cell_type": "markdown",
   "id": "82fd6db6",
   "metadata": {},
   "source": [
    "### filter out those reviews which char len is an outlier"
   ]
  },
  {
   "cell_type": "code",
   "execution_count": 36,
   "id": "cc8eafbf",
   "metadata": {},
   "outputs": [],
   "source": [
    "df = df[df['review_translate'].apply(len)>np.percentile(df['review_translate'].apply(len), q=0.2)]"
   ]
  },
  {
   "cell_type": "markdown",
   "id": "fb6ea0a9",
   "metadata": {},
   "source": [
    "### find those reviews which have a lot less characters that real text"
   ]
  },
  {
   "cell_type": "code",
   "execution_count": 37,
   "id": "cbe26a12",
   "metadata": {},
   "outputs": [],
   "source": [
    "df['diff_len'] = df['review'].apply(len)-df['review_translate'].apply(len)"
   ]
  },
  {
   "cell_type": "code",
   "execution_count": 38,
   "id": "4e770372",
   "metadata": {},
   "outputs": [],
   "source": [
    "df = df[df['review_translate']!='#ERROR!']"
   ]
  },
  {
   "cell_type": "code",
   "execution_count": 39,
   "id": "fc1d9ed8",
   "metadata": {},
   "outputs": [],
   "source": [
    "df['diff_len'] = df['diff_len'].apply(abs)"
   ]
  },
  {
   "cell_type": "code",
   "execution_count": 40,
   "id": "a35dccc6",
   "metadata": {},
   "outputs": [
    {
     "name": "stderr",
     "output_type": "stream",
     "text": [
      "/Users/volodymyrkovenko/own_projects/shevchenko_ai/env/lib/python3.7/site-packages/ipykernel_launcher.py:1: UserWarning: \n",
      "\n",
      "`distplot` is a deprecated function and will be removed in seaborn v0.14.0.\n",
      "\n",
      "Please adapt your code to use either `displot` (a figure-level function with\n",
      "similar flexibility) or `histplot` (an axes-level function for histograms).\n",
      "\n",
      "For a guide to updating your code to use the new functions, please see\n",
      "https://gist.github.com/mwaskom/de44147ed2974457ad6372750bbe5751\n",
      "\n",
      "  \"\"\"Entry point for launching an IPython kernel.\n"
     ]
    },
    {
     "data": {
      "text/plain": [
       "<AxesSubplot:xlabel='diff_len', ylabel='Density'>"
      ]
     },
     "execution_count": 40,
     "metadata": {},
     "output_type": "execute_result"
    },
    {
     "data": {
      "image/png": "[encoded data removed]",
      "text/plain": [
       "<Figure size 640x480 with 1 Axes>"
      ]
     },
     "metadata": {},
     "output_type": "display_data"
    }
   ],
   "source": [
    "sns.distplot(np.log1p(df['diff_len']))"
   ]
  },
  {
   "cell_type": "code",
   "execution_count": 41,
   "id": "2ea2d786",
   "metadata": {},
   "outputs": [],
   "source": [
    "df = df[df['diff_len']<200]"
   ]
  },
  {
   "cell_type": "code",
   "execution_count": 42,
   "id": "bd868ca7",
   "metadata": {},
   "outputs": [
    {
     "data": {
      "text/plain": [
       "199"
      ]
     },
     "execution_count": 42,
     "metadata": {},
     "output_type": "execute_result"
    }
   ],
   "source": [
    "df[df['translated']==True]['diff_len'].max()"
   ]
  },
  {
   "cell_type": "code",
   "execution_count": 43,
   "id": "75876145",
   "metadata": {},
   "outputs": [],
   "source": [
    "df = df.drop(columns=['diff_len'])"
   ]
  },
  {
   "cell_type": "markdown",
   "id": "30625276",
   "metadata": {},
   "source": [
    "### deleting empty symbols"
   ]
  },
  {
   "cell_type": "code",
   "execution_count": 44,
   "id": "2cf69039",
   "metadata": {},
   "outputs": [],
   "source": [
    "df['review_translate'] = df['review_translate'].str.strip()\n",
    "df = df[df['review_translate'].apply(lambda x: True if x else False)]"
   ]
  },
  {
   "cell_type": "markdown",
   "id": "3368d73d",
   "metadata": {},
   "source": [
    "### remove \\n char"
   ]
  },
  {
   "cell_type": "code",
   "execution_count": 45,
   "id": "6196cc09",
   "metadata": {},
   "outputs": [
    {
     "data": {
      "text/plain": [
       "True     542325\n",
       "False    125961\n",
       "Name: translated, dtype: int64"
      ]
     },
     "execution_count": 45,
     "metadata": {},
     "output_type": "execute_result"
    }
   ],
   "source": [
    "df['translated'].value_counts()"
   ]
  },
  {
   "cell_type": "code",
   "execution_count": 46,
   "id": "ff9722f8",
   "metadata": {},
   "outputs": [],
   "source": [
    "import re"
   ]
  },
  {
   "cell_type": "code",
   "execution_count": 47,
   "id": "b857850c",
   "metadata": {},
   "outputs": [],
   "source": [
    "def remove_multy_spaces(text):\n",
    "    try:\n",
    "        text = re.sub(r'\\s+', ' ', text)\n",
    "        return text\n",
    "    except Exception as ex:\n",
    "        return None"
   ]
  },
  {
   "cell_type": "code",
   "execution_count": 48,
   "id": "d539c08c",
   "metadata": {},
   "outputs": [],
   "source": [
    "df['review_translate'] = df['review_translate'].str.replace('\\n', '').str.strip()"
   ]
  },
  {
   "cell_type": "code",
   "execution_count": 49,
   "id": "be23a6f2",
   "metadata": {},
   "outputs": [
    {
     "name": "stderr",
     "output_type": "stream",
     "text": [
      "100%|████████████████████████████████| 668286/668286 [00:16<00:00, 40861.81it/s]\n"
     ]
    }
   ],
   "source": [
    "df['review_translate'] = multiprocess_func(df['review_translate'].values, \n",
    "                  func=remove_multy_spaces,\n",
    "                  gather_func=lambda x: x,\n",
    "                  to_split=False)"
   ]
  },
  {
   "cell_type": "markdown",
   "id": "00938eb7",
   "metadata": {},
   "source": [
    "## Sentence number"
   ]
  },
  {
   "cell_type": "code",
   "execution_count": 50,
   "id": "fe89eb4d",
   "metadata": {},
   "outputs": [
    {
     "name": "stderr",
     "output_type": "stream",
     "text": [
      "100%|████████████████████████████████| 668286/668286 [00:28<00:00, 23462.66it/s]\n"
     ]
    }
   ],
   "source": [
    "sent_tokenized = multiprocess_func(df['review_translate'].values, \n",
    "                  func=sent_tokenize,\n",
    "                  gather_func=lambda x: x,\n",
    "                  to_split=False)"
   ]
  },
  {
   "cell_type": "code",
   "execution_count": 51,
   "id": "0574d238",
   "metadata": {},
   "outputs": [
    {
     "name": "stderr",
     "output_type": "stream",
     "text": [
      "/Users/volodymyrkovenko/own_projects/shevchenko_ai/env/lib/python3.7/site-packages/ipykernel_launcher.py:1: UserWarning: \n",
      "\n",
      "`distplot` is a deprecated function and will be removed in seaborn v0.14.0.\n",
      "\n",
      "Please adapt your code to use either `displot` (a figure-level function with\n",
      "similar flexibility) or `histplot` (an axes-level function for histograms).\n",
      "\n",
      "For a guide to updating your code to use the new functions, please see\n",
      "https://gist.github.com/mwaskom/de44147ed2974457ad6372750bbe5751\n",
      "\n",
      "  \"\"\"Entry point for launching an IPython kernel.\n"
     ]
    },
    {
     "data": {
      "text/plain": [
       "<AxesSubplot:ylabel='Density'>"
      ]
     },
     "execution_count": 51,
     "metadata": {},
     "output_type": "execute_result"
    },
    {
     "data": {
      "image/png": "[encoded data removed]",
      "text/plain": [
       "<Figure size 640x480 with 1 Axes>"
      ]
     },
     "metadata": {},
     "output_type": "display_data"
    }
   ],
   "source": [
    "sns.distplot(np.log10([len(i) for i in sent_tokenized]))"
   ]
  },
  {
   "cell_type": "code",
   "execution_count": 52,
   "id": "20122800",
   "metadata": {},
   "outputs": [],
   "source": [
    "df['review_translate_sentences'] = sent_tokenized"
   ]
  },
  {
   "cell_type": "markdown",
   "id": "a73ffac2",
   "metadata": {},
   "source": [
    "# Delete those which are partially translated"
   ]
  },
  {
   "cell_type": "code",
   "execution_count": 53,
   "id": "999d5d94",
   "metadata": {},
   "outputs": [],
   "source": [
    "import fasttext\n",
    "from itertools import chain"
   ]
  },
  {
   "cell_type": "code",
   "execution_count": 54,
   "id": "12698590",
   "metadata": {},
   "outputs": [
    {
     "name": "stderr",
     "output_type": "stream",
     "text": [
      "Warning : `load_model` does not return WordVectorModel or SupervisedModel any more, but a `FastText` object which is very similar.\n"
     ]
    }
   ],
   "source": [
    "model = fasttext.load_model('/Users/volodymyrkovenko/Downloads/lid.176.bin')"
   ]
  },
  {
   "cell_type": "code",
   "execution_count": 55,
   "id": "57a15573",
   "metadata": {},
   "outputs": [],
   "source": [
    "def detect_lang_sentences(batched_texts, model):\n",
    "    result = []\n",
    "    for texts in tqdm(batched_texts):\n",
    "        lengths = [len(i) for i in texts]\n",
    "        sentences = list(chain(*texts))\n",
    "        predicted_langs, _ = model.predict(sentences)\n",
    "        predicted_langs = list(map(lambda x: x[0].split('__')[-1], predicted_langs))\n",
    "        assert sum(lengths)==len(sentences)\n",
    "        assert len(predicted_langs)==len(sentences)\n",
    "        batched_langs = []\n",
    "        start = 0\n",
    "        end = lengths[0]\n",
    "        for i in lengths[1:]:\n",
    "            to_add = predicted_langs[start:end]\n",
    "            if not to_add:\n",
    "                break\n",
    "            batched_langs.append(to_add)\n",
    "            start = end\n",
    "            end = end+i\n",
    "            \n",
    "        if predicted_langs[start:end]:\n",
    "                batched_langs.append(predicted_langs[start:end])\n",
    "        assert [len(i) for i in batched_langs]==lengths\n",
    "        result.extend(batched_langs)\n",
    "\n",
    "    return result"
   ]
  },
  {
   "cell_type": "code",
   "execution_count": 56,
   "id": "b0279049",
   "metadata": {},
   "outputs": [],
   "source": [
    "def detect_lang(batched_texts, model):\n",
    "    result = []\n",
    "    for texts in tqdm(batched_texts):\n",
    "        predicted_langs, _ = model.predict(list(texts))\n",
    "        result.extend(list(map(lambda x: x[0].split('__')[-1], predicted_langs)))\n",
    "\n",
    "    return result"
   ]
  },
  {
   "cell_type": "code",
   "execution_count": 57,
   "id": "6fdb5f79",
   "metadata": {},
   "outputs": [],
   "source": [
    "batch_size=100\n",
    "to_detect_lang = df.loc[df['translated']==True, 'review_translate_sentences'].values\n",
    "batches = [to_detect_lang[i:i+batch_size] for i in range(0, len(to_detect_lang), batch_size)]"
   ]
  },
  {
   "cell_type": "code",
   "execution_count": 58,
   "id": "50161d60",
   "metadata": {},
   "outputs": [
    {
     "data": {
      "text/plain": [
       "542325"
      ]
     },
     "execution_count": 58,
     "metadata": {},
     "output_type": "execute_result"
    }
   ],
   "source": [
    "sum([len(i) for i in batches])"
   ]
  },
  {
   "cell_type": "code",
   "execution_count": 59,
   "id": "87d63b07",
   "metadata": {},
   "outputs": [
    {
     "name": "stderr",
     "output_type": "stream",
     "text": [
      "100%|██████████████████████████████████████| 5424/5424 [00:25<00:00, 215.18it/s]\n"
     ]
    }
   ],
   "source": [
    "result = detect_lang_sentences(batches, model)"
   ]
  },
  {
   "cell_type": "code",
   "execution_count": 60,
   "id": "8fc43dca",
   "metadata": {},
   "outputs": [],
   "source": [
    "batch_size=100\n",
    "to_detect_lang = df.loc[df['translated']==True, 'review_translate'].values\n",
    "batches = [to_detect_lang[i:i+batch_size] for i in range(0, len(to_detect_lang), batch_size)]"
   ]
  },
  {
   "cell_type": "code",
   "execution_count": 61,
   "id": "b78ce4fe",
   "metadata": {},
   "outputs": [
    {
     "name": "stderr",
     "output_type": "stream",
     "text": [
      "100%|██████████████████████████████████████| 5424/5424 [00:18<00:00, 294.91it/s]\n"
     ]
    }
   ],
   "source": [
    "result = detect_lang(batches, model)"
   ]
  },
  {
   "cell_type": "code",
   "execution_count": 62,
   "id": "4feb81ad",
   "metadata": {},
   "outputs": [],
   "source": [
    "df['language_translated'] = 'uk'\n",
    "df.loc[df['translated']==True, 'language_translated'] = result"
   ]
  },
  {
   "cell_type": "code",
   "execution_count": 63,
   "id": "f4232059",
   "metadata": {},
   "outputs": [],
   "source": [
    "df = df[df['language_translated']=='uk']"
   ]
  },
  {
   "cell_type": "code",
   "execution_count": 64,
   "id": "6fd2ad09",
   "metadata": {},
   "outputs": [],
   "source": [
    "df.drop(columns='language_translated', inplace=True)"
   ]
  },
  {
   "cell_type": "markdown",
   "id": "dcb2141c",
   "metadata": {},
   "source": [
    "# Tokenize texts"
   ]
  },
  {
   "cell_type": "code",
   "execution_count": 65,
   "id": "a1a1a467",
   "metadata": {},
   "outputs": [],
   "source": [
    "from nltk.tokenize import regexp_tokenize"
   ]
  },
  {
   "cell_type": "code",
   "execution_count": 66,
   "id": "814ecdc3",
   "metadata": {},
   "outputs": [],
   "source": [
    "def NLTK_special_chars_excluded_tokenizer(input_text):\n",
    "    overall_pattern = r\"[\\w'-]+|[^\\w\\s'-]+\"\n",
    "    return regexp_tokenize(input_text, pattern=overall_pattern, gaps=False, discard_empty=True)"
   ]
  },
  {
   "cell_type": "code",
   "execution_count": 67,
   "id": "bcb8f97e",
   "metadata": {},
   "outputs": [],
   "source": [
    "def tokenize_sentence_tokens(sentences):\n",
    "    tokens = []\n",
    "    for sent in sentences:\n",
    "        tokens.append(NLTK_special_chars_excluded_tokenizer(sent))\n",
    "    return tokens"
   ]
  },
  {
   "cell_type": "code",
   "execution_count": 68,
   "id": "0adc2ee0",
   "metadata": {},
   "outputs": [
    {
     "name": "stderr",
     "output_type": "stream",
     "text": [
      "100%|████████████████████████████████| 663448/663448 [00:37<00:00, 17522.57it/s]\n"
     ]
    }
   ],
   "source": [
    "df['review_translate_sentences_tokens'] = multiprocess_func(df['review_translate_sentences'].values, \n",
    "                  func=tokenize_sentence_tokens,\n",
    "                  gather_func=lambda x: x,\n",
    "                  to_split=False)"
   ]
  },
  {
   "cell_type": "markdown",
   "id": "dac285e1",
   "metadata": {},
   "source": [
    "# Add spaces between chars "
   ]
  },
  {
   "cell_type": "code",
   "execution_count": 94,
   "id": "4862487c",
   "metadata": {},
   "outputs": [],
   "source": [
    "from functools import partial"
   ]
  },
  {
   "cell_type": "code",
   "execution_count": 93,
   "id": "b7b00405",
   "metadata": {},
   "outputs": [],
   "source": [
    "def apply_func_sent(sentences, func):\n",
    "    result = []\n",
    "    for sent in sentences:\n",
    "        result.append(func(sent))\n",
    "    return result"
   ]
  },
  {
   "cell_type": "code",
   "execution_count": 70,
   "id": "0d19a168",
   "metadata": {},
   "outputs": [],
   "source": [
    "def spacing_between_chars_tokens(tokens):\n",
    "    tokens = list(np.hstack([spacing_between_chars(i) for i in tokens]))\n",
    "    return [i for i in tokens if i]"
   ]
  },
  {
   "cell_type": "code",
   "execution_count": 71,
   "id": "9fa6441c",
   "metadata": {},
   "outputs": [],
   "source": [
    "def spacing_between_chars(text):\n",
    "    text = list(text)\n",
    "    new_text = []\n",
    "    for idx_char in range(len(text)):\n",
    "        if not text[idx_char].isalnum() and text[idx_char]!=\"'\":\n",
    "            new_text.append(' ')\n",
    "            new_text.append(text[idx_char])\n",
    "            new_text.append(' ')\n",
    "        else:\n",
    "            new_text.append(text[idx_char])\n",
    "\n",
    "    return ''.join(new_text).strip().split(' ')"
   ]
  },
  {
   "cell_type": "code",
   "execution_count": 95,
   "id": "bb22e843",
   "metadata": {},
   "outputs": [],
   "source": [
    "spacing_between_chars_sentences = partial(apply_func_sent, func=spacing_between_chars_tokens)"
   ]
  },
  {
   "cell_type": "code",
   "execution_count": 72,
   "id": "38f31e14",
   "metadata": {},
   "outputs": [
    {
     "name": "stderr",
     "output_type": "stream",
     "text": [
      "100%|█████████████████████████████████| 663448/663448 [02:36<00:00, 4240.86it/s]\n"
     ]
    }
   ],
   "source": [
    "df['review_translate_sentences_tokens'] = multiprocess_func(df['review_translate_sentences_tokens'].values, \n",
    "                  func=spacing_between_chars_sentences,\n",
    "                  gather_func=lambda x: x,\n",
    "                  to_split=False)"
   ]
  },
  {
   "cell_type": "code",
   "execution_count": 73,
   "id": "2109bec4",
   "metadata": {},
   "outputs": [
    {
     "data": {
      "text/plain": [
       "[['Якісна', 'пластмаса', ',', 'переворот', '360', 'градусвв']]"
      ]
     },
     "execution_count": 73,
     "metadata": {},
     "output_type": "execute_result"
    }
   ],
   "source": [
    "df['review_translate_sentences_tokens'].values[0]"
   ]
  },
  {
   "cell_type": "markdown",
   "id": "c8570369",
   "metadata": {},
   "source": [
    "# Find pos tags"
   ]
  },
  {
   "cell_type": "code",
   "execution_count": 76,
   "id": "d935a31c",
   "metadata": {},
   "outputs": [],
   "source": [
    "import pymorphy2"
   ]
  },
  {
   "cell_type": "code",
   "execution_count": 79,
   "id": "bb1e5112",
   "metadata": {},
   "outputs": [],
   "source": [
    "morph = pymorphy2.MorphAnalyzer(lang='uk')"
   ]
  },
  {
   "cell_type": "code",
   "execution_count": 92,
   "id": "23547cdb",
   "metadata": {},
   "outputs": [],
   "source": [
    "def pos_tagging(tokens, morph):\n",
    "    return [morph.parse(word)[0].tag._POS for word in tokens]"
   ]
  },
  {
   "cell_type": "code",
   "execution_count": 96,
   "id": "7b7fe949",
   "metadata": {},
   "outputs": [],
   "source": [
    "pos_tagging_sentences = partial(apply_func_sent, func=partial(pos_tagging, morph=morph))"
   ]
  },
  {
   "cell_type": "code",
   "execution_count": 99,
   "id": "704558ff",
   "metadata": {},
   "outputs": [
    {
     "name": "stderr",
     "output_type": "stream",
     "text": [
      "  0%|                                   | 1167/663448 [00:36<5:48:46, 31.65it/s]Process ForkPoolWorker-39:\n",
      "\n",
      "Process ForkPoolWorker-37:\n",
      "Process ForkPoolWorker-33:\n",
      "Process ForkPoolWorker-36:\n",
      "Process ForkPoolWorker-34:\n",
      "Process ForkPoolWorker-40:\n",
      "Process ForkPoolWorker-35:\n",
      "Process ForkPoolWorker-38:\n",
      "Traceback (most recent call last):\n",
      "Traceback (most recent call last):\n",
      "Traceback (most recent call last):\n",
      "Traceback (most recent call last):\n",
      "Traceback (most recent call last):\n",
      "Traceback (most recent call last):\n",
      "Traceback (most recent call last):\n",
      "Traceback (most recent call last):\n",
      "  File \"/usr/local/opt/python@3.7/Frameworks/Python.framework/Versions/3.7/lib/python3.7/multiprocessing/process.py\", line 297, in _bootstrap\n",
      "    self.run()\n",
      "  File \"/usr/local/opt/python@3.7/Frameworks/Python.framework/Versions/3.7/lib/python3.7/multiprocessing/process.py\", line 297, in _bootstrap\n",
      "    self.run()\n",
      "  File \"/usr/local/opt/python@3.7/Frameworks/Python.framework/Versions/3.7/lib/python3.7/multiprocessing/process.py\", line 297, in _bootstrap\n",
      "    self.run()\n",
      "  File \"/usr/local/opt/python@3.7/Frameworks/Python.framework/Versions/3.7/lib/python3.7/multiprocessing/process.py\", line 297, in _bootstrap\n",
      "    self.run()\n",
      "  File \"/usr/local/opt/python@3.7/Frameworks/Python.framework/Versions/3.7/lib/python3.7/multiprocessing/process.py\", line 297, in _bootstrap\n",
      "    self.run()\n",
      "  File \"/usr/local/opt/python@3.7/Frameworks/Python.framework/Versions/3.7/lib/python3.7/multiprocessing/process.py\", line 297, in _bootstrap\n",
      "    self.run()\n",
      "  File \"/usr/local/opt/python@3.7/Frameworks/Python.framework/Versions/3.7/lib/python3.7/multiprocessing/process.py\", line 297, in _bootstrap\n",
      "    self.run()\n",
      "ERROR:root:Internal Python error in the inspect module.\n",
      "Below is the traceback from this internal error.\n",
      "\n",
      "  File \"/usr/local/opt/python@3.7/Frameworks/Python.framework/Versions/3.7/lib/python3.7/multiprocessing/process.py\", line 297, in _bootstrap\n",
      "    self.run()\n",
      "  File \"/usr/local/opt/python@3.7/Frameworks/Python.framework/Versions/3.7/lib/python3.7/multiprocessing/process.py\", line 99, in run\n",
      "    self._target(*self._args, **self._kwargs)\n",
      "  File \"/usr/local/opt/python@3.7/Frameworks/Python.framework/Versions/3.7/lib/python3.7/multiprocessing/process.py\", line 99, in run\n",
      "    self._target(*self._args, **self._kwargs)\n",
      "  File \"/usr/local/opt/python@3.7/Frameworks/Python.framework/Versions/3.7/lib/python3.7/multiprocessing/process.py\", line 99, in run\n",
      "    self._target(*self._args, **self._kwargs)\n",
      "  File \"/usr/local/opt/python@3.7/Frameworks/Python.framework/Versions/3.7/lib/python3.7/multiprocessing/process.py\", line 99, in run\n",
      "    self._target(*self._args, **self._kwargs)\n",
      "  File \"/usr/local/opt/python@3.7/Frameworks/Python.framework/Versions/3.7/lib/python3.7/multiprocessing/process.py\", line 99, in run\n",
      "    self._target(*self._args, **self._kwargs)\n",
      "  File \"/usr/local/opt/python@3.7/Frameworks/Python.framework/Versions/3.7/lib/python3.7/multiprocessing/process.py\", line 99, in run\n",
      "    self._target(*self._args, **self._kwargs)\n",
      "  File \"/usr/local/opt/python@3.7/Frameworks/Python.framework/Versions/3.7/lib/python3.7/multiprocessing/process.py\", line 99, in run\n",
      "    self._target(*self._args, **self._kwargs)\n",
      "  File \"/usr/local/opt/python@3.7/Frameworks/Python.framework/Versions/3.7/lib/python3.7/multiprocessing/process.py\", line 99, in run\n",
      "    self._target(*self._args, **self._kwargs)\n",
      "  File \"/usr/local/opt/python@3.7/Frameworks/Python.framework/Versions/3.7/lib/python3.7/multiprocessing/pool.py\", line 110, in worker\n",
      "    task = get()\n",
      "  File \"/usr/local/opt/python@3.7/Frameworks/Python.framework/Versions/3.7/lib/python3.7/multiprocessing/pool.py\", line 110, in worker\n",
      "    task = get()\n",
      "  File \"/usr/local/opt/python@3.7/Frameworks/Python.framework/Versions/3.7/lib/python3.7/multiprocessing/pool.py\", line 110, in worker\n",
      "    task = get()\n"
     ]
    },
    {
     "name": "stdout",
     "output_type": "stream",
     "text": [
      "Traceback (most recent call last):\n",
      "  File \"/usr/local/opt/python@3.7/Frameworks/Python.framework/Versions/3.7/lib/python3.7/multiprocessing/pool.py\", line 733, in next\n",
      "    item = self._items.popleft()\n",
      "IndexError: pop from an empty deque\n",
      "\n",
      "During handling of the above exception, another exception occurred:\n",
      "\n",
      "Traceback (most recent call last):\n",
      "  File \"/Users/volodymyrkovenko/own_projects/shevchenko_ai/env/lib/python3.7/site-packages/IPython/core/interactiveshell.py\", line 3553, in run_code\n",
      "    exec(code_obj, self.user_global_ns, self.user_ns)\n",
      "  File \"/var/folders/1b/4bkzt9vx5y9b7lgzr5xr4x600000gn/T/ipykernel_19489/3807074604.py\", line 4, in <module>\n",
      "    to_split=False)\n",
      "  File \"/var/folders/1b/4bkzt9vx5y9b7lgzr5xr4x600000gn/T/ipykernel_19489/3299672894.py\", line 22, in multiprocess_func\n",
      "    total=len(splitted)))\n",
      "  File \"/Users/volodymyrkovenko/own_projects/shevchenko_ai/env/lib/python3.7/site-packages/tqdm/std.py\", line 1195, in __iter__\n",
      "    for obj in iterable:\n",
      "  File \"/usr/local/opt/python@3.7/Frameworks/Python.framework/Versions/3.7/lib/python3.7/multiprocessing/pool.py\", line 737, in next\n",
      "    self._cond.wait(timeout)\n",
      "  File \"/usr/local/opt/python@3.7/Frameworks/Python.framework/Versions/3.7/lib/python3.7/threading.py\", line 296, in wait\n",
      "    waiter.acquire()\n",
      "KeyboardInterrupt\n",
      "\n",
      "During handling of the above exception, another exception occurred:\n",
      "\n",
      "Traceback (most recent call last):\n",
      "  File \"/Users/volodymyrkovenko/own_projects/shevchenko_ai/env/lib/python3.7/site-packages/IPython/core/interactiveshell.py\", line 2099, in showtraceback\n",
      "    stb = value._render_traceback_()\n",
      "AttributeError: 'KeyboardInterrupt' object has no attribute '_render_traceback_'\n",
      "\n",
      "During handling of the above exception, another exception occurred:\n",
      "\n",
      "Traceback (most recent call last):\n",
      "  File \"/Users/volodymyrkovenko/own_projects/shevchenko_ai/env/lib/python3.7/site-packages/IPython/core/ultratb.py\", line 1101, in get_records\n",
      "    return _fixed_getinnerframes(etb, number_of_lines_of_context, tb_offset)\n",
      "  File \"/Users/volodymyrkovenko/own_projects/shevchenko_ai/env/lib/python3.7/site-packages/IPython/core/ultratb.py\", line 248, in wrapped\n",
      "    return f(*args, **kwargs)\n",
      "  File \"/Users/volodymyrkovenko/own_projects/shevchenko_ai/env/lib/python3.7/site-packages/IPython/core/ultratb.py\", line 281, in _fixed_getinnerframes\n",
      "    records = fix_frame_records_filenames(inspect.getinnerframes(etb, context))\n",
      "  File \"/usr/local/opt/python@3.7/Frameworks/Python.framework/Versions/3.7/lib/python3.7/inspect.py\", line 1502, in getinnerframes\n",
      "    frameinfo = (tb.tb_frame,) + getframeinfo(tb, context)\n",
      "  File \"/usr/local/opt/python@3.7/Frameworks/Python.framework/Versions/3.7/lib/python3.7/inspect.py\", line 1464, in getframeinfo\n",
      "    lines, lnum = findsource(frame)\n",
      "  File \"/Users/volodymyrkovenko/own_projects/shevchenko_ai/env/lib/python3.7/site-packages/IPython/core/ultratb.py\", line 182, in findsource\n",
      "    lines = linecache.getlines(file, globals_dict)\n",
      "  File \"/usr/local/opt/python@3.7/Frameworks/Python.framework/Versions/3.7/lib/python3.7/linecache.py\", line 47, in getlines\n",
      "    return updatecache(filename, module_globals)\n",
      "  File \"/usr/local/opt/python@3.7/Frameworks/Python.framework/Versions/3.7/lib/python3.7/linecache.py\", line 136, in updatecache\n",
      "    with tokenize.open(fullname) as fp:\n",
      "  File \"/usr/local/opt/python@3.7/Frameworks/Python.framework/Versions/3.7/lib/python3.7/tokenize.py\", line 447, in open\n",
      "    buffer = _builtin_open(filename, 'rb')\n",
      "KeyboardInterrupt\n"
     ]
    },
    {
     "ename": "TypeError",
     "evalue": "object of type 'NoneType' has no len()",
     "output_type": "error",
     "traceback": [
      "\u001b[0;31m---------------------------------------------------------------------------\u001b[0m",
      "\u001b[0;31mIndexError\u001b[0m                                Traceback (most recent call last)",
      "\u001b[0;32m/usr/local/opt/python@3.7/Frameworks/Python.framework/Versions/3.7/lib/python3.7/multiprocessing/pool.py\u001b[0m in \u001b[0;36mnext\u001b[0;34m(self, timeout)\u001b[0m\n\u001b[1;32m    732\u001b[0m             \u001b[0;32mtry\u001b[0m\u001b[0;34m:\u001b[0m\u001b[0;34m\u001b[0m\u001b[0;34m\u001b[0m\u001b[0m\n\u001b[0;32m--> 733\u001b[0;31m                 \u001b[0mitem\u001b[0m \u001b[0;34m=\u001b[0m \u001b[0mself\u001b[0m\u001b[0;34m.\u001b[0m\u001b[0m_items\u001b[0m\u001b[0;34m.\u001b[0m\u001b[0mpopleft\u001b[0m\u001b[0;34m(\u001b[0m\u001b[0;34m)\u001b[0m\u001b[0;34m\u001b[0m\u001b[0;34m\u001b[0m\u001b[0m\n\u001b[0m\u001b[1;32m    734\u001b[0m             \u001b[0;32mexcept\u001b[0m \u001b[0mIndexError\u001b[0m\u001b[0;34m:\u001b[0m\u001b[0;34m\u001b[0m\u001b[0;34m\u001b[0m\u001b[0m\n",
      "\u001b[0;31mIndexError\u001b[0m: pop from an empty deque",
      "\nDuring handling of the above exception, another exception occurred:\n",
      "\u001b[0;31mKeyboardInterrupt\u001b[0m                         Traceback (most recent call last)",
      "    \u001b[0;31m[... skipping hidden 1 frame]\u001b[0m\n",
      "\u001b[0;32m/var/folders/1b/4bkzt9vx5y9b7lgzr5xr4x600000gn/T/ipykernel_19489/3807074604.py\u001b[0m in \u001b[0;36m<module>\u001b[0;34m\u001b[0m\n\u001b[1;32m      3\u001b[0m                   \u001b[0mgather_func\u001b[0m\u001b[0;34m=\u001b[0m\u001b[0;32mlambda\u001b[0m \u001b[0mx\u001b[0m\u001b[0;34m:\u001b[0m \u001b[0mx\u001b[0m\u001b[0;34m,\u001b[0m\u001b[0;34m\u001b[0m\u001b[0;34m\u001b[0m\u001b[0m\n\u001b[0;32m----> 4\u001b[0;31m                   to_split=False)\n\u001b[0m",
      "\u001b[0;32m/var/folders/1b/4bkzt9vx5y9b7lgzr5xr4x600000gn/T/ipykernel_19489/3299672894.py\u001b[0m in \u001b[0;36mmultiprocess_func\u001b[0;34m(main_input, func, additional_inputs, gather_func, to_split, gather_func_args, chunk_size, n_processes)\u001b[0m\n\u001b[1;32m     21\u001b[0m         result = list(tqdm(p.imap(func, splitted),\n\u001b[0;32m---> 22\u001b[0;31m                            total=len(splitted)))\n\u001b[0m\u001b[1;32m     23\u001b[0m     \u001b[0;32mreturn\u001b[0m \u001b[0mgather_func\u001b[0m\u001b[0;34m(\u001b[0m\u001b[0mresult\u001b[0m\u001b[0;34m,\u001b[0m \u001b[0;34m*\u001b[0m\u001b[0mgather_func_args\u001b[0m\u001b[0;34m)\u001b[0m\u001b[0;34m\u001b[0m\u001b[0;34m\u001b[0m\u001b[0m\n",
      "\u001b[0;32m~/own_projects/shevchenko_ai/env/lib/python3.7/site-packages/tqdm/std.py\u001b[0m in \u001b[0;36m__iter__\u001b[0;34m(self)\u001b[0m\n\u001b[1;32m   1194\u001b[0m         \u001b[0;32mtry\u001b[0m\u001b[0;34m:\u001b[0m\u001b[0;34m\u001b[0m\u001b[0;34m\u001b[0m\u001b[0m\n\u001b[0;32m-> 1195\u001b[0;31m             \u001b[0;32mfor\u001b[0m \u001b[0mobj\u001b[0m \u001b[0;32min\u001b[0m \u001b[0miterable\u001b[0m\u001b[0;34m:\u001b[0m\u001b[0;34m\u001b[0m\u001b[0;34m\u001b[0m\u001b[0m\n\u001b[0m\u001b[1;32m   1196\u001b[0m                 \u001b[0;32myield\u001b[0m \u001b[0mobj\u001b[0m\u001b[0;34m\u001b[0m\u001b[0;34m\u001b[0m\u001b[0m\n",
      "\u001b[0;32m/usr/local/opt/python@3.7/Frameworks/Python.framework/Versions/3.7/lib/python3.7/multiprocessing/pool.py\u001b[0m in \u001b[0;36mnext\u001b[0;34m(self, timeout)\u001b[0m\n\u001b[1;32m    736\u001b[0m                     \u001b[0;32mraise\u001b[0m \u001b[0mStopIteration\u001b[0m \u001b[0;32mfrom\u001b[0m \u001b[0;32mNone\u001b[0m\u001b[0;34m\u001b[0m\u001b[0;34m\u001b[0m\u001b[0m\n\u001b[0;32m--> 737\u001b[0;31m                 \u001b[0mself\u001b[0m\u001b[0;34m.\u001b[0m\u001b[0m_cond\u001b[0m\u001b[0;34m.\u001b[0m\u001b[0mwait\u001b[0m\u001b[0;34m(\u001b[0m\u001b[0mtimeout\u001b[0m\u001b[0;34m)\u001b[0m\u001b[0;34m\u001b[0m\u001b[0;34m\u001b[0m\u001b[0m\n\u001b[0m\u001b[1;32m    738\u001b[0m                 \u001b[0;32mtry\u001b[0m\u001b[0;34m:\u001b[0m\u001b[0;34m\u001b[0m\u001b[0;34m\u001b[0m\u001b[0m\n",
      "\u001b[0;32m/usr/local/opt/python@3.7/Frameworks/Python.framework/Versions/3.7/lib/python3.7/threading.py\u001b[0m in \u001b[0;36mwait\u001b[0;34m(self, timeout)\u001b[0m\n\u001b[1;32m    295\u001b[0m             \u001b[0;32mif\u001b[0m \u001b[0mtimeout\u001b[0m \u001b[0;32mis\u001b[0m \u001b[0;32mNone\u001b[0m\u001b[0;34m:\u001b[0m\u001b[0;34m\u001b[0m\u001b[0;34m\u001b[0m\u001b[0m\n\u001b[0;32m--> 296\u001b[0;31m                 \u001b[0mwaiter\u001b[0m\u001b[0;34m.\u001b[0m\u001b[0macquire\u001b[0m\u001b[0;34m(\u001b[0m\u001b[0;34m)\u001b[0m\u001b[0;34m\u001b[0m\u001b[0;34m\u001b[0m\u001b[0m\n\u001b[0m\u001b[1;32m    297\u001b[0m                 \u001b[0mgotit\u001b[0m \u001b[0;34m=\u001b[0m \u001b[0;32mTrue\u001b[0m\u001b[0;34m\u001b[0m\u001b[0;34m\u001b[0m\u001b[0m\n",
      "\u001b[0;31mKeyboardInterrupt\u001b[0m: ",
      "\nDuring handling of the above exception, another exception occurred:\n",
      "\u001b[0;31mAttributeError\u001b[0m                            Traceback (most recent call last)",
      "\u001b[0;32m~/own_projects/shevchenko_ai/env/lib/python3.7/site-packages/IPython/core/interactiveshell.py\u001b[0m in \u001b[0;36mshowtraceback\u001b[0;34m(self, exc_tuple, filename, tb_offset, exception_only, running_compiled_code)\u001b[0m\n\u001b[1;32m   2098\u001b[0m                         \u001b[0;31m# in the engines. This should return a list of strings.\u001b[0m\u001b[0;34m\u001b[0m\u001b[0;34m\u001b[0m\u001b[0;34m\u001b[0m\u001b[0m\n\u001b[0;32m-> 2099\u001b[0;31m                         \u001b[0mstb\u001b[0m \u001b[0;34m=\u001b[0m \u001b[0mvalue\u001b[0m\u001b[0;34m.\u001b[0m\u001b[0m_render_traceback_\u001b[0m\u001b[0;34m(\u001b[0m\u001b[0;34m)\u001b[0m\u001b[0;34m\u001b[0m\u001b[0;34m\u001b[0m\u001b[0m\n\u001b[0m\u001b[1;32m   2100\u001b[0m                     \u001b[0;32mexcept\u001b[0m \u001b[0mException\u001b[0m\u001b[0;34m:\u001b[0m\u001b[0;34m\u001b[0m\u001b[0;34m\u001b[0m\u001b[0m\n",
      "\u001b[0;31mAttributeError\u001b[0m: 'KeyboardInterrupt' object has no attribute '_render_traceback_'",
      "\nDuring handling of the above exception, another exception occurred:\n",
      "\u001b[0;31mTypeError\u001b[0m                                 Traceback (most recent call last)",
      "    \u001b[0;31m[... skipping hidden 1 frame]\u001b[0m\n",
      "\u001b[0;32m~/own_projects/shevchenko_ai/env/lib/python3.7/site-packages/IPython/core/interactiveshell.py\u001b[0m in \u001b[0;36mshowtraceback\u001b[0;34m(self, exc_tuple, filename, tb_offset, exception_only, running_compiled_code)\u001b[0m\n\u001b[1;32m   2100\u001b[0m                     \u001b[0;32mexcept\u001b[0m \u001b[0mException\u001b[0m\u001b[0;34m:\u001b[0m\u001b[0;34m\u001b[0m\u001b[0;34m\u001b[0m\u001b[0m\n\u001b[1;32m   2101\u001b[0m                         stb = self.InteractiveTB.structured_traceback(etype,\n\u001b[0;32m-> 2102\u001b[0;31m                                             value, tb, tb_offset=tb_offset)\n\u001b[0m\u001b[1;32m   2103\u001b[0m \u001b[0;34m\u001b[0m\u001b[0m\n\u001b[1;32m   2104\u001b[0m                     \u001b[0mself\u001b[0m\u001b[0;34m.\u001b[0m\u001b[0m_showtraceback\u001b[0m\u001b[0;34m(\u001b[0m\u001b[0metype\u001b[0m\u001b[0;34m,\u001b[0m \u001b[0mvalue\u001b[0m\u001b[0;34m,\u001b[0m \u001b[0mstb\u001b[0m\u001b[0;34m)\u001b[0m\u001b[0;34m\u001b[0m\u001b[0;34m\u001b[0m\u001b[0m\n",
      "\u001b[0;32m~/own_projects/shevchenko_ai/env/lib/python3.7/site-packages/IPython/core/ultratb.py\u001b[0m in \u001b[0;36mstructured_traceback\u001b[0;34m(self, etype, value, tb, tb_offset, number_of_lines_of_context)\u001b[0m\n\u001b[1;32m   1366\u001b[0m             \u001b[0mself\u001b[0m\u001b[0;34m.\u001b[0m\u001b[0mtb\u001b[0m \u001b[0;34m=\u001b[0m \u001b[0mtb\u001b[0m\u001b[0;34m\u001b[0m\u001b[0;34m\u001b[0m\u001b[0m\n\u001b[1;32m   1367\u001b[0m         return FormattedTB.structured_traceback(\n\u001b[0;32m-> 1368\u001b[0;31m             self, etype, value, tb, tb_offset, number_of_lines_of_context)\n\u001b[0m\u001b[1;32m   1369\u001b[0m \u001b[0;34m\u001b[0m\u001b[0m\n\u001b[1;32m   1370\u001b[0m \u001b[0;34m\u001b[0m\u001b[0m\n",
      "\u001b[0;32m~/own_projects/shevchenko_ai/env/lib/python3.7/site-packages/IPython/core/ultratb.py\u001b[0m in \u001b[0;36mstructured_traceback\u001b[0;34m(self, etype, value, tb, tb_offset, number_of_lines_of_context)\u001b[0m\n\u001b[1;32m   1266\u001b[0m             \u001b[0;31m# Verbose modes need a full traceback\u001b[0m\u001b[0;34m\u001b[0m\u001b[0;34m\u001b[0m\u001b[0;34m\u001b[0m\u001b[0m\n\u001b[1;32m   1267\u001b[0m             return VerboseTB.structured_traceback(\n\u001b[0;32m-> 1268\u001b[0;31m                 \u001b[0mself\u001b[0m\u001b[0;34m,\u001b[0m \u001b[0metype\u001b[0m\u001b[0;34m,\u001b[0m \u001b[0mvalue\u001b[0m\u001b[0;34m,\u001b[0m \u001b[0mtb\u001b[0m\u001b[0;34m,\u001b[0m \u001b[0mtb_offset\u001b[0m\u001b[0;34m,\u001b[0m \u001b[0mnumber_of_lines_of_context\u001b[0m\u001b[0;34m\u001b[0m\u001b[0;34m\u001b[0m\u001b[0m\n\u001b[0m\u001b[1;32m   1269\u001b[0m             )\n\u001b[1;32m   1270\u001b[0m         \u001b[0;32melif\u001b[0m \u001b[0mmode\u001b[0m \u001b[0;34m==\u001b[0m \u001b[0;34m'Minimal'\u001b[0m\u001b[0;34m:\u001b[0m\u001b[0;34m\u001b[0m\u001b[0;34m\u001b[0m\u001b[0m\n",
      "\u001b[0;32m~/own_projects/shevchenko_ai/env/lib/python3.7/site-packages/IPython/core/ultratb.py\u001b[0m in \u001b[0;36mstructured_traceback\u001b[0;34m(self, etype, evalue, etb, tb_offset, number_of_lines_of_context)\u001b[0m\n\u001b[1;32m   1123\u001b[0m \u001b[0;34m\u001b[0m\u001b[0m\n\u001b[1;32m   1124\u001b[0m         formatted_exception = self.format_exception_as_a_whole(etype, evalue, etb, number_of_lines_of_context,\n\u001b[0;32m-> 1125\u001b[0;31m                                                                tb_offset)\n\u001b[0m\u001b[1;32m   1126\u001b[0m \u001b[0;34m\u001b[0m\u001b[0m\n\u001b[1;32m   1127\u001b[0m         \u001b[0mcolors\u001b[0m \u001b[0;34m=\u001b[0m \u001b[0mself\u001b[0m\u001b[0;34m.\u001b[0m\u001b[0mColors\u001b[0m  \u001b[0;31m# just a shorthand + quicker name lookup\u001b[0m\u001b[0;34m\u001b[0m\u001b[0;34m\u001b[0m\u001b[0m\n",
      "\u001b[0;32m~/own_projects/shevchenko_ai/env/lib/python3.7/site-packages/IPython/core/ultratb.py\u001b[0m in \u001b[0;36mformat_exception_as_a_whole\u001b[0;34m(self, etype, evalue, etb, number_of_lines_of_context, tb_offset)\u001b[0m\n\u001b[1;32m   1080\u001b[0m \u001b[0;34m\u001b[0m\u001b[0m\n\u001b[1;32m   1081\u001b[0m \u001b[0;34m\u001b[0m\u001b[0m\n\u001b[0;32m-> 1082\u001b[0;31m         \u001b[0mlast_unique\u001b[0m\u001b[0;34m,\u001b[0m \u001b[0mrecursion_repeat\u001b[0m \u001b[0;34m=\u001b[0m \u001b[0mfind_recursion\u001b[0m\u001b[0;34m(\u001b[0m\u001b[0morig_etype\u001b[0m\u001b[0;34m,\u001b[0m \u001b[0mevalue\u001b[0m\u001b[0;34m,\u001b[0m \u001b[0mrecords\u001b[0m\u001b[0;34m)\u001b[0m\u001b[0;34m\u001b[0m\u001b[0;34m\u001b[0m\u001b[0m\n\u001b[0m\u001b[1;32m   1083\u001b[0m \u001b[0;34m\u001b[0m\u001b[0m\n\u001b[1;32m   1084\u001b[0m         \u001b[0mframes\u001b[0m \u001b[0;34m=\u001b[0m \u001b[0mself\u001b[0m\u001b[0;34m.\u001b[0m\u001b[0mformat_records\u001b[0m\u001b[0;34m(\u001b[0m\u001b[0mrecords\u001b[0m\u001b[0;34m,\u001b[0m \u001b[0mlast_unique\u001b[0m\u001b[0;34m,\u001b[0m \u001b[0mrecursion_repeat\u001b[0m\u001b[0;34m)\u001b[0m\u001b[0;34m\u001b[0m\u001b[0;34m\u001b[0m\u001b[0m\n",
      "\u001b[0;32m~/own_projects/shevchenko_ai/env/lib/python3.7/site-packages/IPython/core/ultratb.py\u001b[0m in \u001b[0;36mfind_recursion\u001b[0;34m(etype, value, records)\u001b[0m\n\u001b[1;32m    380\u001b[0m     \u001b[0;31m# first frame (from in to out) that looks different.\u001b[0m\u001b[0;34m\u001b[0m\u001b[0;34m\u001b[0m\u001b[0;34m\u001b[0m\u001b[0m\n\u001b[1;32m    381\u001b[0m     \u001b[0;32mif\u001b[0m \u001b[0;32mnot\u001b[0m \u001b[0mis_recursion_error\u001b[0m\u001b[0;34m(\u001b[0m\u001b[0metype\u001b[0m\u001b[0;34m,\u001b[0m \u001b[0mvalue\u001b[0m\u001b[0;34m,\u001b[0m \u001b[0mrecords\u001b[0m\u001b[0;34m)\u001b[0m\u001b[0;34m:\u001b[0m\u001b[0;34m\u001b[0m\u001b[0;34m\u001b[0m\u001b[0m\n\u001b[0;32m--> 382\u001b[0;31m         \u001b[0;32mreturn\u001b[0m \u001b[0mlen\u001b[0m\u001b[0;34m(\u001b[0m\u001b[0mrecords\u001b[0m\u001b[0;34m)\u001b[0m\u001b[0;34m,\u001b[0m \u001b[0;36m0\u001b[0m\u001b[0;34m\u001b[0m\u001b[0;34m\u001b[0m\u001b[0m\n\u001b[0m\u001b[1;32m    383\u001b[0m \u001b[0;34m\u001b[0m\u001b[0m\n\u001b[1;32m    384\u001b[0m     \u001b[0;31m# Select filename, lineno, func_name to track frames with\u001b[0m\u001b[0;34m\u001b[0m\u001b[0;34m\u001b[0m\u001b[0;34m\u001b[0m\u001b[0m\n",
      "\u001b[0;31mTypeError\u001b[0m: object of type 'NoneType' has no len()"
     ]
    },
    {
     "name": "stderr",
     "output_type": "stream",
     "text": [
      "  File \"/usr/local/opt/python@3.7/Frameworks/Python.framework/Versions/3.7/lib/python3.7/multiprocessing/pool.py\", line 110, in worker\n",
      "    task = get()\n",
      "  File \"/usr/local/opt/python@3.7/Frameworks/Python.framework/Versions/3.7/lib/python3.7/multiprocessing/pool.py\", line 110, in worker\n",
      "    task = get()\n",
      "  File \"/usr/local/opt/python@3.7/Frameworks/Python.framework/Versions/3.7/lib/python3.7/multiprocessing/pool.py\", line 110, in worker\n",
      "    task = get()\n",
      "  File \"/usr/local/opt/python@3.7/Frameworks/Python.framework/Versions/3.7/lib/python3.7/multiprocessing/pool.py\", line 110, in worker\n",
      "    task = get()\n",
      "  File \"/usr/local/opt/python@3.7/Frameworks/Python.framework/Versions/3.7/lib/python3.7/multiprocessing/queues.py\", line 354, in get\n",
      "    return _ForkingPickler.loads(res)\n",
      "  File \"/usr/local/opt/python@3.7/Frameworks/Python.framework/Versions/3.7/lib/python3.7/multiprocessing/pool.py\", line 110, in worker\n",
      "    task = get()\n",
      "  File \"/usr/local/opt/python@3.7/Frameworks/Python.framework/Versions/3.7/lib/python3.7/multiprocessing/queues.py\", line 354, in get\n",
      "    return _ForkingPickler.loads(res)\n",
      "  File \"/usr/local/opt/python@3.7/Frameworks/Python.framework/Versions/3.7/lib/python3.7/multiprocessing/queues.py\", line 354, in get\n",
      "    return _ForkingPickler.loads(res)\n",
      "  File \"/usr/local/opt/python@3.7/Frameworks/Python.framework/Versions/3.7/lib/python3.7/multiprocessing/queues.py\", line 354, in get\n",
      "    return _ForkingPickler.loads(res)\n",
      "  File \"/usr/local/opt/python@3.7/Frameworks/Python.framework/Versions/3.7/lib/python3.7/multiprocessing/queues.py\", line 354, in get\n",
      "    return _ForkingPickler.loads(res)\n",
      "  File \"/usr/local/opt/python@3.7/Frameworks/Python.framework/Versions/3.7/lib/python3.7/multiprocessing/queues.py\", line 354, in get\n",
      "    return _ForkingPickler.loads(res)\n",
      "  File \"/usr/local/opt/python@3.7/Frameworks/Python.framework/Versions/3.7/lib/python3.7/multiprocessing/queues.py\", line 354, in get\n",
      "    return _ForkingPickler.loads(res)\n",
      "  File \"/Users/volodymyrkovenko/own_projects/shevchenko_ai/env/lib/python3.7/site-packages/pymorphy2/analyzer.py\", line 203, in __init__\n",
      "    self.dictionary = opencorpora_dict.Dictionary(path)\n",
      "  File \"/Users/volodymyrkovenko/own_projects/shevchenko_ai/env/lib/python3.7/site-packages/pymorphy2/analyzer.py\", line 203, in __init__\n",
      "    self.dictionary = opencorpora_dict.Dictionary(path)\n",
      "  File \"/Users/volodymyrkovenko/own_projects/shevchenko_ai/env/lib/python3.7/site-packages/pymorphy2/analyzer.py\", line 203, in __init__\n",
      "    self.dictionary = opencorpora_dict.Dictionary(path)\n",
      "  File \"/usr/local/opt/python@3.7/Frameworks/Python.framework/Versions/3.7/lib/python3.7/multiprocessing/queues.py\", line 354, in get\n",
      "    return _ForkingPickler.loads(res)\n",
      "  File \"/Users/volodymyrkovenko/own_projects/shevchenko_ai/env/lib/python3.7/site-packages/pymorphy2/analyzer.py\", line 203, in __init__\n",
      "    self.dictionary = opencorpora_dict.Dictionary(path)\n",
      "  File \"/Users/volodymyrkovenko/own_projects/shevchenko_ai/env/lib/python3.7/site-packages/pymorphy2/analyzer.py\", line 203, in __init__\n",
      "    self.dictionary = opencorpora_dict.Dictionary(path)\n",
      "  File \"/Users/volodymyrkovenko/own_projects/shevchenko_ai/env/lib/python3.7/site-packages/pymorphy2/analyzer.py\", line 203, in __init__\n",
      "    self.dictionary = opencorpora_dict.Dictionary(path)\n",
      "  File \"/Users/volodymyrkovenko/own_projects/shevchenko_ai/env/lib/python3.7/site-packages/pymorphy2/analyzer.py\", line 203, in __init__\n",
      "    self.dictionary = opencorpora_dict.Dictionary(path)\n",
      "  File \"/Users/volodymyrkovenko/own_projects/shevchenko_ai/env/lib/python3.7/site-packages/pymorphy2/opencorpora_dict/wrapper.py\", line 18, in __init__\n",
      "    self._data = load_dict(path)\n",
      "  File \"/Users/volodymyrkovenko/own_projects/shevchenko_ai/env/lib/python3.7/site-packages/pymorphy2/opencorpora_dict/wrapper.py\", line 18, in __init__\n",
      "    self._data = load_dict(path)\n",
      "  File \"/Users/volodymyrkovenko/own_projects/shevchenko_ai/env/lib/python3.7/site-packages/pymorphy2/analyzer.py\", line 200, in __init__\n",
      "    path = self.choose_dictionary_path(path, lang)\n",
      "  File \"/Users/volodymyrkovenko/own_projects/shevchenko_ai/env/lib/python3.7/site-packages/pymorphy2/opencorpora_dict/wrapper.py\", line 18, in __init__\n",
      "    self._data = load_dict(path)\n",
      "  File \"/Users/volodymyrkovenko/own_projects/shevchenko_ai/env/lib/python3.7/site-packages/pymorphy2/opencorpora_dict/wrapper.py\", line 18, in __init__\n",
      "    self._data = load_dict(path)\n",
      "  File \"/Users/volodymyrkovenko/own_projects/shevchenko_ai/env/lib/python3.7/site-packages/pymorphy2/opencorpora_dict/storage.py\", line 55, in load_dict\n",
      "    gramtab = [Tag(tag_str) for tag_str in str_gramtab]\n",
      "  File \"/Users/volodymyrkovenko/own_projects/shevchenko_ai/env/lib/python3.7/site-packages/pymorphy2/opencorpora_dict/wrapper.py\", line 18, in __init__\n",
      "    self._data = load_dict(path)\n",
      "  File \"/Users/volodymyrkovenko/own_projects/shevchenko_ai/env/lib/python3.7/site-packages/pymorphy2/opencorpora_dict/wrapper.py\", line 18, in __init__\n",
      "    self._data = load_dict(path)\n",
      "  File \"/Users/volodymyrkovenko/own_projects/shevchenko_ai/env/lib/python3.7/site-packages/pymorphy2/opencorpora_dict/wrapper.py\", line 18, in __init__\n",
      "    self._data = load_dict(path)\n",
      "  File \"/Users/volodymyrkovenko/own_projects/shevchenko_ai/env/lib/python3.7/site-packages/pymorphy2/opencorpora_dict/storage.py\", line 55, in load_dict\n",
      "    gramtab = [Tag(tag_str) for tag_str in str_gramtab]\n",
      "  File \"/Users/volodymyrkovenko/own_projects/shevchenko_ai/env/lib/python3.7/site-packages/pymorphy2/opencorpora_dict/storage.py\", line 55, in load_dict\n",
      "    gramtab = [Tag(tag_str) for tag_str in str_gramtab]\n",
      "  File \"/Users/volodymyrkovenko/own_projects/shevchenko_ai/env/lib/python3.7/site-packages/pymorphy2/analyzer.py\", line 280, in choose_dictionary_path\n",
      "    return lang_dict_path(lang)\n",
      "  File \"/Users/volodymyrkovenko/own_projects/shevchenko_ai/env/lib/python3.7/site-packages/pymorphy2/opencorpora_dict/storage.py\", line 54, in load_dict\n",
      "    str_gramtab = _load_gramtab(meta, gramtab_format, path)\n",
      "  File \"/Users/volodymyrkovenko/own_projects/shevchenko_ai/env/lib/python3.7/site-packages/pymorphy2/opencorpora_dict/storage.py\", line 55, in load_dict\n",
      "    gramtab = [Tag(tag_str) for tag_str in str_gramtab]\n",
      "  File \"/Users/volodymyrkovenko/own_projects/shevchenko_ai/env/lib/python3.7/site-packages/pymorphy2/opencorpora_dict/storage.py\", line 55, in <listcomp>\n",
      "    gramtab = [Tag(tag_str) for tag_str in str_gramtab]\n",
      "  File \"/Users/volodymyrkovenko/own_projects/shevchenko_ai/env/lib/python3.7/site-packages/pymorphy2/opencorpora_dict/storage.py\", line 59, in load_dict\n",
      "    words = dawg.WordsDawg().load(_f('words.dawg'))\n",
      "  File \"/Users/volodymyrkovenko/own_projects/shevchenko_ai/env/lib/python3.7/site-packages/pymorphy2/opencorpora_dict/storage.py\", line 55, in load_dict\n",
      "    gramtab = [Tag(tag_str) for tag_str in str_gramtab]\n",
      "  File \"/Users/volodymyrkovenko/own_projects/shevchenko_ai/env/lib/python3.7/site-packages/pymorphy2/opencorpora_dict/storage.py\", line 55, in <listcomp>\n",
      "    gramtab = [Tag(tag_str) for tag_str in str_gramtab]\n",
      "  File \"/Users/volodymyrkovenko/own_projects/shevchenko_ai/env/lib/python3.7/site-packages/pymorphy2/opencorpora_dict/storage.py\", line 55, in <listcomp>\n",
      "    gramtab = [Tag(tag_str) for tag_str in str_gramtab]\n",
      "  File \"/Users/volodymyrkovenko/own_projects/shevchenko_ai/env/lib/python3.7/site-packages/pymorphy2/opencorpora_dict/storage.py\", line 196, in _load_gramtab\n",
      "    return json_read(gramtab_filename)\n",
      "  File \"/Users/volodymyrkovenko/own_projects/shevchenko_ai/env/lib/python3.7/site-packages/pymorphy2/analyzer.py\", line 137, in lang_dict_path\n",
      "    lang_paths = _lang_dict_paths()\n",
      "  File \"/Users/volodymyrkovenko/own_projects/shevchenko_ai/env/lib/python3.7/site-packages/pymorphy2/opencorpora_dict/storage.py\", line 55, in <listcomp>\n",
      "    gramtab = [Tag(tag_str) for tag_str in str_gramtab]\n",
      "Process ForkPoolWorker-41:\n",
      "Traceback (most recent call last):\n",
      "  File \"/usr/local/opt/python@3.7/Frameworks/Python.framework/Versions/3.7/lib/python3.7/multiprocessing/process.py\", line 297, in _bootstrap\n",
      "    self.run()\n",
      "  File \"/usr/local/opt/python@3.7/Frameworks/Python.framework/Versions/3.7/lib/python3.7/multiprocessing/process.py\", line 99, in run\n",
      "    self._target(*self._args, **self._kwargs)\n"
     ]
    },
    {
     "name": "stderr",
     "output_type": "stream",
     "text": [
      "  File \"/usr/local/opt/python@3.7/Frameworks/Python.framework/Versions/3.7/lib/python3.7/multiprocessing/pool.py\", line 110, in worker\n",
      "    task = get()\n",
      "  File \"/usr/local/opt/python@3.7/Frameworks/Python.framework/Versions/3.7/lib/python3.7/multiprocessing/queues.py\", line 354, in get\n",
      "    return _ForkingPickler.loads(res)\n",
      "  File \"/Users/volodymyrkovenko/own_projects/shevchenko_ai/env/lib/python3.7/site-packages/pymorphy2/analyzer.py\", line 200, in __init__\n",
      "    path = self.choose_dictionary_path(path, lang)\n",
      "  File \"/Users/volodymyrkovenko/own_projects/shevchenko_ai/env/lib/python3.7/site-packages/pymorphy2/analyzer.py\", line 280, in choose_dictionary_path\n",
      "    return lang_dict_path(lang)\n",
      "  File \"/Users/volodymyrkovenko/own_projects/shevchenko_ai/env/lib/python3.7/site-packages/pymorphy2/analyzer.py\", line 137, in lang_dict_path\n",
      "    lang_paths = _lang_dict_paths()\n",
      "  File \"/Users/volodymyrkovenko/own_projects/shevchenko_ai/env/lib/python3.7/site-packages/pymorphy2/analyzer.py\", line 122, in _lang_dict_paths\n",
      "    for pkg in _iter_entry_points('pymorphy2_dicts')\n",
      "  File \"/Users/volodymyrkovenko/own_projects/shevchenko_ai/env/lib/python3.7/site-packages/pymorphy2/analyzer.py\", line 115, in _iter_entry_points\n",
      "    ws = pkg_resources.WorkingSet()\n",
      "  File \"/Users/volodymyrkovenko/own_projects/shevchenko_ai/env/lib/python3.7/site-packages/pkg_resources/__init__.py\", line 565, in __init__\n",
      "    self.add_entry(entry)\n",
      "  File \"/Users/volodymyrkovenko/own_projects/shevchenko_ai/env/lib/python3.7/site-packages/pkg_resources/__init__.py\", line 621, in add_entry\n",
      "    for dist in find_distributions(entry, True):\n",
      "  File \"/Users/volodymyrkovenko/own_projects/shevchenko_ai/env/lib/python3.7/site-packages/pkg_resources/__init__.py\", line 2092, in find_on_path\n",
      "    path_item_entries = _by_version_descending(filtered)\n",
      "  File \"/Users/volodymyrkovenko/own_projects/shevchenko_ai/env/lib/python3.7/site-packages/pkg_resources/__init__.py\", line 2062, in _by_version_descending\n",
      "    return sorted(names, key=_by_version, reverse=True)\n",
      "  File \"/Users/volodymyrkovenko/own_projects/shevchenko_ai/env/lib/python3.7/site-packages/pkg_resources/__init__.py\", line 2060, in _by_version\n",
      "    return [try_parse(part) for part in parts]\n",
      "  File \"/Users/volodymyrkovenko/own_projects/shevchenko_ai/env/lib/python3.7/site-packages/pkg_resources/__init__.py\", line 2060, in <listcomp>\n",
      "    return [try_parse(part) for part in parts]\n",
      "  File \"/Users/volodymyrkovenko/own_projects/shevchenko_ai/env/lib/python3.7/site-packages/pkg_resources/__init__.py\", line 2050, in try_parse\n",
      "    return packaging.version.Version(name)\n",
      "  File \"/Users/volodymyrkovenko/own_projects/shevchenko_ai/env/lib/python3.7/site-packages/pkg_resources/_vendor/packaging/version.py\", line 287, in __init__\n",
      "    self._version.local,\n",
      "  File \"/Users/volodymyrkovenko/own_projects/shevchenko_ai/env/lib/python3.7/site-packages/pkg_resources/_vendor/packaging/version.py\", line 459, in _cmpkey\n",
      "    reversed(list(itertools.dropwhile(lambda x: x == 0, reversed(release))))\n",
      "KeyboardInterrupt\n"
     ]
    }
   ],
   "source": [
    "df['review_translate_pos'] = multiprocess_func(df['review_translate_sentences_tokens'].values, \n",
    "                  func=pos_tagging_sentences,\n",
    "                  gather_func=lambda x: x,\n",
    "                  to_split=False)"
   ]
  },
  {
   "cell_type": "markdown",
   "id": "5ddc7f4f",
   "metadata": {},
   "source": [
    "# Find lemmas"
   ]
  },
  {
   "cell_type": "code",
   "execution_count": 80,
   "id": "7dcd4df5",
   "metadata": {},
   "outputs": [],
   "source": [
    "def lemmatize_pymorphy(tokens, morph):\n",
    "    return [morph.parse(token)[0].normal_form for token in tokens]"
   ]
  },
  {
   "cell_type": "code",
   "execution_count": 1,
   "id": "0899d983",
   "metadata": {},
   "outputs": [
    {
     "ename": "NameError",
     "evalue": "name 'partial' is not defined",
     "output_type": "error",
     "traceback": [
      "\u001b[0;31m---------------------------------------------------------------------------\u001b[0m",
      "\u001b[0;31mNameError\u001b[0m                                 Traceback (most recent call last)",
      "\u001b[0;32m/var/folders/1b/4bkzt9vx5y9b7lgzr5xr4x600000gn/T/ipykernel_19796/2577020240.py\u001b[0m in \u001b[0;36m<module>\u001b[0;34m\u001b[0m\n\u001b[0;32m----> 1\u001b[0;31m \u001b[0mlemmatizing_sentences\u001b[0m \u001b[0;34m=\u001b[0m \u001b[0mpartial\u001b[0m\u001b[0;34m(\u001b[0m\u001b[0mapply_func_sent\u001b[0m\u001b[0;34m,\u001b[0m \u001b[0mfunc\u001b[0m\u001b[0;34m=\u001b[0m\u001b[0mpartial\u001b[0m\u001b[0;34m(\u001b[0m\u001b[0mlemmatize_pymorphy\u001b[0m\u001b[0;34m,\u001b[0m \u001b[0mmorph\u001b[0m\u001b[0;34m=\u001b[0m\u001b[0mmorph\u001b[0m\u001b[0;34m)\u001b[0m\u001b[0;34m)\u001b[0m\u001b[0;34m\u001b[0m\u001b[0;34m\u001b[0m\u001b[0m\n\u001b[0m",
      "\u001b[0;31mNameError\u001b[0m: name 'partial' is not defined"
     ]
    }
   ],
   "source": [
    "lemmatizing_sentences = partial(apply_func_sent, func=partial(lemmatize_pymorphy, morph=morph))"
   ]
  },
  {
   "cell_type": "markdown",
   "id": "5e1b8374",
   "metadata": {},
   "source": [
    "# Delete plain questions"
   ]
  },
  {
   "cell_type": "code",
   "execution_count": null,
   "id": "ced6f9c7",
   "metadata": {},
   "outputs": [],
   "source": [
    "def is_question(entities):\n",
    "    words, tags = ents\n",
    "    tags = [tag for word, tag in list(zip(words, tags))\\\n",
    "            if not word in ['.', ',', '!', '?']]\n",
    "    \n",
    "    # Check if the last character of the sentence is a question mark\n",
    "    if text[-1] == \"?\":\n",
    "        # Check if the sentence ends with a verb or an auxiliary verb\n",
    "        if tags[-1] in [\"VERB\", \"INFN\"] or (tags[-1] == \"GRND\" and tags[-2] in [\"VERB\", \"INFN\"]):\n",
    "            return True\n",
    "        # Check if the sentence starts with an auxiliary verb and ends with a verb\n",
    "        elif tags[0] == \"PRCL\" and tags[-1] in [\"VERB\", \"INFN\"]:\n",
    "            return True\n",
    "        else:\n",
    "            return False\n",
    "    else:\n",
    "        return False\n"
   ]
  },
  {
   "cell_type": "code",
   "execution_count": null,
   "id": "800b7cf1",
   "metadata": {},
   "outputs": [],
   "source": []
  }
 ],
 "metadata": {
  "kernelspec": {
   "display_name": "Python 3 (ipykernel)",
   "language": "python",
   "name": "python3"
  },
  "language_info": {
   "codemirror_mode": {
    "name": "ipython",
    "version": 3
   },
   "file_extension": ".py",
   "mimetype": "text/x-python",
   "name": "python",
   "nbconvert_exporter": "python",
   "pygments_lexer": "ipython3",
   "version": "3.7.15"
  }
 },
 "nbformat": 4,
 "nbformat_minor": 5
}
