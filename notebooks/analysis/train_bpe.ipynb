{
 "cells": [
  {
   "cell_type": "code",
   "execution_count": 1,
   "id": "afb8a8cb-e08e-42f7-b93b-6dba4fc17a4d",
   "metadata": {
    "tags": []
   },
   "outputs": [],
   "source": [
    "import pandas as pd\n",
    "import ast"
   ]
  },
  {
   "cell_type": "code",
   "execution_count": 2,
   "id": "5ea1370b-1618-4ff1-8cdf-a5745cffff7a",
   "metadata": {
    "tags": []
   },
   "outputs": [],
   "source": [
    "def str_to_list(x):\n",
    "    try:\n",
    "        return list(ast.literal_eval(x))\n",
    "    except:\n",
    "        return None\n",
    "\n",
    "\n",
    "def string_to_list_dataframe(df):\n",
    "    columns = df.columns.tolist()\n",
    "    columns_w_lists = []\n",
    "    for column in columns:\n",
    "        if df[column].astype(str). \\\n",
    "                apply(lambda x: x.startswith('[') and x.endswith(']')) \\\n",
    "                .astype(int).mean() > 0.8:\n",
    "            columns_w_lists.append(column)\n",
    "    for column in columns_w_lists:\n",
    "        df[column] = df[column].apply(lambda x: str_to_list(x))\n",
    "        df = df[~df[column].isna()]\n",
    "    return df"
   ]
  },
  {
   "cell_type": "markdown",
   "id": "3a0bfa53-b10e-47d7-bec1-75196f325483",
   "metadata": {},
   "source": [
    "# Load data"
   ]
  },
  {
   "cell_type": "code",
   "execution_count": 3,
   "id": "cc9d14a6-b7a4-4634-9bba-85066b7cff4d",
   "metadata": {
    "tags": []
   },
   "outputs": [
    {
     "name": "stderr",
     "output_type": "stream",
     "text": [
      "/home/web/env/lib/python3.8/site-packages/IPython/core/interactiveshell.py:3221: DtypeWarning: Columns (5) have mixed types.Specify dtype option on import or set low_memory=False.\n",
      "  has_raised = await self.run_ast_nodes(code_ast.body, cell_name,\n"
     ]
    }
   ],
   "source": [
    "df = pd.read_csv('/home/web/files_for_research_Vova/processed_data.csv')"
   ]
  },
  {
   "cell_type": "code",
   "execution_count": 4,
   "id": "16d25a02-203f-49ba-b637-a9ae3c09b51a",
   "metadata": {
    "tags": []
   },
   "outputs": [],
   "source": [
    "df = string_to_list_dataframe(df)"
   ]
  },
  {
   "cell_type": "markdown",
   "id": "71e63c97-e126-4bb1-ad69-012bcfcbc63b",
   "metadata": {},
   "source": [
    "# See number of unique tokens"
   ]
  },
  {
   "cell_type": "code",
   "execution_count": 5,
   "id": "650d5eb3-5546-44cb-b9dc-27b7811c6c66",
   "metadata": {
    "tags": []
   },
   "outputs": [],
   "source": [
    "from itertools import chain"
   ]
  },
  {
   "cell_type": "code",
   "execution_count": 6,
   "id": "f78a2922-ed43-494e-980d-a49aa0890da0",
   "metadata": {
    "tags": []
   },
   "outputs": [
    {
     "data": {
      "text/plain": [
       "205161"
      ]
     },
     "execution_count": 6,
     "metadata": {},
     "output_type": "execute_result"
    }
   ],
   "source": [
    "len(set(chain(*list(chain(*df['review_translate_sentences_lemma'].values.tolist())))))"
   ]
  },
  {
   "cell_type": "code",
   "execution_count": 7,
   "id": "006d3161-f087-4451-811e-e8b4f10019dc",
   "metadata": {
    "tags": []
   },
   "outputs": [
    {
     "data": {
      "text/plain": [
       "437780"
      ]
     },
     "execution_count": 7,
     "metadata": {},
     "output_type": "execute_result"
    }
   ],
   "source": [
    "len(set(chain(*list(chain(*df['review_translate_sentences_tokens'].values.tolist())))))"
   ]
  },
  {
   "cell_type": "markdown",
   "id": "035bdfb0-a66c-49e8-a922-5955351456a3",
   "metadata": {},
   "source": [
    "# Train BPE tokenizer"
   ]
  },
  {
   "cell_type": "code",
   "execution_count": 8,
   "id": "59aea512-683a-4cbb-8a61-2d2ddad0738f",
   "metadata": {
    "tags": []
   },
   "outputs": [
    {
     "name": "stdout",
     "output_type": "stream",
     "text": [
      "NVIDIA-Linux-x86_64-525.78.01.run  miniconda3  nltk_data  snap\n"
     ]
    }
   ],
   "source": [
    "!ls /root"
   ]
  },
  {
   "cell_type": "code",
   "execution_count": 9,
   "id": "aee51b46-6366-4dd8-984f-f03473fe0e9c",
   "metadata": {
    "tags": []
   },
   "outputs": [],
   "source": [
    "from tokenizers import Tokenizer, models, pre_tokenizers, trainers, Regex\n",
    "import tokenizers\n",
    "from nltk.tokenize import regexp_tokenize"
   ]
  },
  {
   "cell_type": "code",
   "execution_count": 10,
   "id": "7936d2b4-285c-4dac-a7c2-4070b42fa522",
   "metadata": {
    "tags": []
   },
   "outputs": [],
   "source": [
    "df['review_translate'] = df['review_translate'].str.lower()"
   ]
  },
  {
   "cell_type": "code",
   "execution_count": 11,
   "id": "8e66b9f9-6e25-4013-8c5f-b00ac1f9d75d",
   "metadata": {
    "tags": []
   },
   "outputs": [],
   "source": [
    "pre_tok = pre_tokenizers.Split(Regex(r\"[\\w'-]+|[^\\w\\s'-]+\"),'removed', True)"
   ]
  },
  {
   "cell_type": "code",
   "execution_count": 28,
   "id": "f48663c8-3ecf-4c55-989b-20946c16c082",
   "metadata": {
    "tags": []
   },
   "outputs": [],
   "source": [
    "bpe = models.BPE()\n"
   ]
  },
  {
   "cell_type": "code",
   "execution_count": 29,
   "id": "cf75b2cc-1061-4c5f-afad-30058d76e002",
   "metadata": {
    "tags": []
   },
   "outputs": [],
   "source": [
    "tokenizer = Tokenizer(model=bpe)\n",
    "tokenizer.pre_tokenizer = pre_tok"
   ]
  },
  {
   "cell_type": "code",
   "execution_count": 45,
   "id": "a2cc2727-b5b8-4aa0-87fc-05f7d97b0b8b",
   "metadata": {
    "tags": []
   },
   "outputs": [],
   "source": [
    "trainer = trainers.BpeTrainer(special_tokens\\\n",
    "                              =[\"[UNK]\", \"[PAD]\"],\n",
    "                             min_frequency=5, end_of_word_suffix='</w>')"
   ]
  },
  {
   "cell_type": "code",
   "execution_count": 46,
   "id": "265c2683-7619-419d-98c8-fab7e91ab22b",
   "metadata": {
    "tags": []
   },
   "outputs": [],
   "source": [
    "data = df['review_translate'].values.tolist()"
   ]
  },
  {
   "cell_type": "code",
   "execution_count": 47,
   "id": "af19b2a9-4f45-4fe4-ba0f-c2f4e34dc9f2",
   "metadata": {
    "tags": []
   },
   "outputs": [
    {
     "name": "stdout",
     "output_type": "stream",
     "text": [
      "\n",
      "\n",
      "\n"
     ]
    }
   ],
   "source": [
    "tokenizer.train_from_iterator(data, trainer=trainer)"
   ]
  },
  {
   "cell_type": "code",
   "execution_count": 48,
   "id": "695c6aad-3061-429a-9322-e7f748632e57",
   "metadata": {
    "tags": []
   },
   "outputs": [
    {
     "data": {
      "text/plain": [
       "['привіт</w>', 'пан</w>', 'сте', 'пан</w>']"
      ]
     },
     "execution_count": 48,
     "metadata": {},
     "output_type": "execute_result"
    }
   ],
   "source": [
    "tokenizer.encode('привіт пан степан').tokens"
   ]
  },
  {
   "cell_type": "code",
   "execution_count": 49,
   "id": "b3d59848-fd6c-49f8-a8f6-0099f208b4fa",
   "metadata": {
    "tags": []
   },
   "outputs": [
    {
     "data": {
      "text/plain": [
       "30000"
      ]
     },
     "execution_count": 49,
     "metadata": {},
     "output_type": "execute_result"
    }
   ],
   "source": [
    "tokenizer.get_vocab_size()"
   ]
  },
  {
   "cell_type": "markdown",
   "id": "d96fa6f4-154a-452a-9dc2-f0ac0849574d",
   "metadata": {},
   "source": [
    "# Save tokenizer"
   ]
  },
  {
   "cell_type": "code",
   "execution_count": 50,
   "id": "a6370e4a-f9df-40b7-bd36-1484d312cc3c",
   "metadata": {
    "tags": []
   },
   "outputs": [
    {
     "data": {
      "text/plain": [
       "['./vocab.json', './merges.txt']"
      ]
     },
     "execution_count": 50,
     "metadata": {},
     "output_type": "execute_result"
    }
   ],
   "source": [
    "tokenizer.model.save(\".\")"
   ]
  },
  {
   "cell_type": "code",
   "execution_count": 51,
   "id": "a1e003fa-1f80-424f-bb07-82ed542a5680",
   "metadata": {
    "tags": []
   },
   "outputs": [
    {
     "name": "stdout",
     "output_type": "stream",
     "text": [
      "huggingface/tokenizers: The current process just got forked, after parallelism has already been used. Disabling parallelism to avoid deadlocks...\n",
      "To disable this warning, you can either:\n",
      "\t- Avoid using `tokenizers` before the fork if possible\n",
      "\t- Explicitly set the environment variable TOKENIZERS_PARALLELISM=(true | false)\n",
      "huggingface/tokenizers: The current process just got forked, after parallelism has already been used. Disabling parallelism to avoid deadlocks...\n",
      "To disable this warning, you can either:\n",
      "\t- Avoid using `tokenizers` before the fork if possible\n",
      "\t- Explicitly set the environment variable TOKENIZERS_PARALLELISM=(true | false)\n"
     ]
    }
   ],
   "source": [
    "!mv ./vocab.json /home/web/files_for_research_Vova/tokenizer_30k.json\n",
    "!mv ./merges.txt /home/web/files_for_research_Vova/merges_tokenizer.txt\n"
   ]
  },
  {
   "cell_type": "code",
   "execution_count": null,
   "id": "5f0b80ee-0570-4429-87de-12a7df4bd83e",
   "metadata": {},
   "outputs": [],
   "source": []
  }
 ],
 "metadata": {
  "kernelspec": {
   "display_name": "Python 3 (ipykernel)",
   "language": "python",
   "name": "python3"
  },
  "language_info": {
   "codemirror_mode": {
    "name": "ipython",
    "version": 3
   },
   "file_extension": ".py",
   "mimetype": "text/x-python",
   "name": "python",
   "nbconvert_exporter": "python",
   "pygments_lexer": "ipython3",
   "version": "3.8.10"
  }
 },
 "nbformat": 4,
 "nbformat_minor": 5
}
