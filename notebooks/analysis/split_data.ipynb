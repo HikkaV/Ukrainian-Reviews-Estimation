{
 "cells": [
  {
   "cell_type": "code",
   "execution_count": null,
   "id": "13fc7425-c02b-4a8c-ada8-05076135cce6",
   "metadata": {},
   "outputs": [],
   "source": [
    "import pandas as pd"
   ]
  },
  {
   "cell_type": "markdown",
   "id": "e19d622c-59c7-495e-810a-1c96c62e9a7a",
   "metadata": {},
   "source": [
    "# Load data"
   ]
  },
  {
   "cell_type": "code",
   "execution_count": null,
   "id": "dd89c4a0-f5e4-43c4-9d01-d30d99f64a3a",
   "metadata": {},
   "outputs": [],
   "source": [
    "df = pd.read_csv('processed_data.csv')"
   ]
  },
  {
   "cell_type": "code",
   "execution_count": null,
   "id": "fd8429a0-ff5e-44de-8c57-af41bddc54ab",
   "metadata": {},
   "outputs": [],
   "source": [
    "df.head(1)"
   ]
  },
  {
   "cell_type": "markdown",
   "id": "8a5f44ad-2be6-4c91-958b-1412a001367e",
   "metadata": {},
   "source": [
    "# Stratify split on the level of dataset and rating"
   ]
  },
  {
   "cell_type": "code",
   "execution_count": null,
   "id": "6077f246-ad6d-4c52-8343-36acdf79424a",
   "metadata": {},
   "outputs": [],
   "source": [
    "from sklearn.model_selection import train_test_split "
   ]
  },
  {
   "cell_type": "code",
   "execution_count": null,
   "id": "5a27bfc1-158f-4467-a0c9-504e7e2dd9e8",
   "metadata": {},
   "outputs": [],
   "source": [
    "grouped = df.groupby('dataset_name')"
   ]
  },
  {
   "cell_type": "code",
   "execution_count": null,
   "id": "5ae5f9dc-0c3d-4c3c-8f90-0eac5b4a6c3c",
   "metadata": {},
   "outputs": [],
   "source": [
    "indices_df = []\n",
    "for key in grouped.groups.keys():\n",
    "    tmp_df = pd.DataFrame()\n",
    "    group = grouped.get_group(key)\n",
    "    train_index, val_index = train_test_split(group.index.tolist(), test_size=0.2, stratify=group['rating'])\n",
    "    val_index, test_index = train_test_split(val_index, test_size=0.5,\\\n",
    "                                             stratify=group[group.index.isin(val_index)]['rating'])\n",
    "    tmp_df['index'] = group.index.tolist()\n",
    "    tmp_df['split'] = None\n",
    "    tmp_df.loc[tmp_df['index'].isin(train_index), 'split'] = 'train'\n",
    "    tmp_df.loc[tmp_df['index'].isin(val_index), 'split'] = 'val'\n",
    "    tmp_df.loc[tmp_df['index'].isin(test_index), 'split'] = 'test'\n",
    "    indices_df.append(tmp_df)"
   ]
  },
  {
   "cell_type": "code",
   "execution_count": null,
   "id": "0bc552c4-802c-43b2-93db-34438881a4c0",
   "metadata": {},
   "outputs": [],
   "source": [
    "indices_df = pd.concat(indices_df, axis=0)"
   ]
  },
  {
   "cell_type": "markdown",
   "id": "b9e27445-e742-4cae-aacf-987c4a8544a4",
   "metadata": {},
   "source": [
    "### check"
   ]
  },
  {
   "cell_type": "code",
   "execution_count": null,
   "id": "b55dac83-d4e0-4ce0-af4b-ed2b9849e9b5",
   "metadata": {},
   "outputs": [],
   "source": [
    "df[df.index.isin(indices_df[indices_df['split']=='train']['index'])][['dataset_name', 'rating']].value_counts()"
   ]
  },
  {
   "cell_type": "code",
   "execution_count": null,
   "id": "b0fc2d49-482e-408f-90ed-ed37bc81d820",
   "metadata": {},
   "outputs": [],
   "source": [
    "df[df.index.isin(indices_df[indices_df['split']=='test']['index'])][['dataset_name', 'rating']].value_counts()"
   ]
  },
  {
   "cell_type": "code",
   "execution_count": null,
   "id": "02d50b5b-336a-479e-9639-8bd1bc678341",
   "metadata": {},
   "outputs": [],
   "source": [
    "df[df.index.isin(indices_df[indices_df['split']=='val']['index'])][['dataset_name', 'rating']].value_counts()"
   ]
  },
  {
   "cell_type": "markdown",
   "id": "da69a715-2abe-4180-9984-7ac502c16d7b",
   "metadata": {},
   "source": [
    "### Save dataframe"
   ]
  },
  {
   "cell_type": "code",
   "execution_count": null,
   "id": "97740bd0-4c81-404b-9872-e942afc2815f",
   "metadata": {},
   "outputs": [],
   "source": [
    "indices_df.to_csv('train_val_test_indices.csv', index=False)"
   ]
  },
  {
   "cell_type": "code",
   "execution_count": null,
   "id": "9bae2fe3-c767-4514-9ae4-c8b052d573ae",
   "metadata": {},
   "outputs": [],
   "source": []
  }
 ],
 "metadata": {
  "language_info": {
   "name": "python",
   "pygments_lexer": "ipython3"
  }
 },
 "nbformat": 4,
 "nbformat_minor": 5
}
