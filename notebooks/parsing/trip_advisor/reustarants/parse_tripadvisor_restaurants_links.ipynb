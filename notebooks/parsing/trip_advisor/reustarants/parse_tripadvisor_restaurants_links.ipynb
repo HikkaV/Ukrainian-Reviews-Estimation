{
 "cells": [
  {
   "cell_type": "code",
   "execution_count": 2,
   "id": "177e3218",
   "metadata": {},
   "outputs": [],
   "source": [
    "import bs4 \n",
    "import pandas as pd \n",
    "import numpy as np\n",
    "import seaborn as sns\n",
    "import matplotlib.pyplot as plt\n",
    "import requests\n",
    "from multiprocessing.pool import ThreadPool\n",
    "from tqdm import tqdm\n",
    "import time\n",
    "from selenium import webdriver\n",
    "from selenium.webdriver.common.by import By\n",
    "from selenium.webdriver.support.ui import Select\n",
    "from selenium.common.exceptions import ElementClickInterceptedException, StaleElementReferenceException\n",
    "import os\n",
    "from random_user_agent.user_agent import UserAgent\n",
    "from random_user_agent.params import SoftwareName, OperatingSystem\n",
    "from selenium.webdriver.support.ui import WebDriverWait\n",
    "from selenium.webdriver.support import expected_conditions as EC\n",
    "import json\n",
    "import pickle\n",
    "import urllib\n",
    "from functools import partial\n",
    "sns.set()"
   ]
  },
  {
   "cell_type": "code",
   "execution_count": 3,
   "id": "f09d43c4",
   "metadata": {},
   "outputs": [],
   "source": [
    "from multiprocessing.pool import Pool\n",
    "from contextlib import closing"
   ]
  },
  {
   "cell_type": "code",
   "execution_count": 4,
   "id": "24f7b44f",
   "metadata": {},
   "outputs": [],
   "source": [
    "def multiprocess_func(main_input, func, additional_inputs=None,\n",
    "                      gather_func=None, to_split=True, gather_func_args=None,\n",
    "                      chunk_size=100, n_processes=8, use_threads=False):\n",
    "    if not gather_func_args:\n",
    "        gather_func_args = []\n",
    "    if not additional_inputs:\n",
    "        additional_inputs = []\n",
    "    if not gather_func:\n",
    "        gather_func = lambda x: [z for i in x for z in i]\n",
    "    if to_split:\n",
    "        splitted = [(main_input[i:i + chunk_size], *additional_inputs) if additional_inputs else main_input[i:i + chunk_size]\\\n",
    "                    for i in range(0, len(main_input), chunk_size)]\n",
    "    else:\n",
    "        splitted = [(i, *additional_inputs) if additional_inputs else i for i in main_input]\n",
    "        \n",
    "    if not use_threads:\n",
    "        with closing(Pool(n_processes)) as p:\n",
    "            result = list(tqdm(p.imap(func, splitted),\n",
    "                               total=len(splitted)))\n",
    "    else:\n",
    "        with closing(ThreadPool(n_processes)) as p:\n",
    "            result = list(tqdm(p.imap(func, splitted),\n",
    "                               total=len(splitted)))\n",
    "    return gather_func(result, *gather_func_args)"
   ]
  },
  {
   "cell_type": "markdown",
   "id": "51318547",
   "metadata": {},
   "source": [
    "# First level parsing"
   ]
  },
  {
   "cell_type": "code",
   "execution_count": 5,
   "id": "7505164d",
   "metadata": {},
   "outputs": [],
   "source": [
    "software_names = [SoftwareName.CHROME.value]\n",
    "operating_systems = [OperatingSystem.LINUX.value, OperatingSystem.WINDOWS.value, OperatingSystem.MACOS.value]\n",
    "user_agent_rotator = UserAgent(software_names=software_names,\n",
    "                              operating_systems=operating_systems,\n",
    "                              limit=100)\n",
    "main_link = 'https://www.tripadvisor.ru/Restaurants-g294473-Ukraine.html#LOCATION_LIST'"
   ]
  },
  {
   "cell_type": "code",
   "execution_count": 6,
   "id": "46781a6c",
   "metadata": {},
   "outputs": [],
   "source": [
    "main_url = 'https://www.tripadvisor.ru/'"
   ]
  },
  {
   "cell_type": "code",
   "execution_count": 7,
   "id": "310dc3c9",
   "metadata": {},
   "outputs": [],
   "source": [
    "def parse_sites(main_link, user_agent_rotator, max_ex=100):\n",
    "    first_button_cls = 'nav.next'\n",
    "    next_page_cls = 'guiArw.sprite-pageNext'\n",
    "    prox = \"socks5://localhost:9050\"\n",
    "\n",
    "    user = user_agent_rotator.get_random_user_agent()\n",
    "    custom_options = webdriver.ChromeOptions()\n",
    "    custom_options.add_argument(f'user_agent={user}')\n",
    "    custom_options.add_argument('--proxy-server=%s' % prox)\n",
    "    \n",
    "    driver = webdriver.Chrome(options=custom_options)\n",
    "    driver.get(main_link)\n",
    "    WebDriverWait(driver, 90).until(EC.presence_of_element_located((By.CLASS_NAME, first_button_cls)))\n",
    "    driver.find_element(by=By.CLASS_NAME, value=first_button_cls).click()\n",
    "    \n",
    "    pages = [driver.page_source]\n",
    "    ex_counter=0\n",
    "    while True:\n",
    "        try:\n",
    "            WebDriverWait(driver, 90).until(EC.presence_of_element_located((By.CLASS_NAME, next_page_cls)))\n",
    "            driver.find_element(by=By.CLASS_NAME, value=next_page_cls).click()\n",
    "            ex_counter = 0\n",
    "        except Exception as ex:\n",
    "            if not isinstance(ex, (StaleElementReferenceException, ElementClickInterceptedException)):\n",
    "                print(ex)\n",
    "                if not ex_counter:\n",
    "                    pages.append(driver.page_source)\n",
    "                break\n",
    "            else:\n",
    "                ex_counter+=1\n",
    "                \n",
    "            if ex_counter>=max_ex:\n",
    "                break\n",
    "        time.sleep(15)\n",
    "        pages.append(driver.page_source)\n",
    "    driver.quit()\n",
    "    return pages"
   ]
  },
  {
   "cell_type": "code",
   "execution_count": 8,
   "id": "cafe58cd",
   "metadata": {},
   "outputs": [],
   "source": [
    "def parse_first_lvl(page):\n",
    "    list_links = bs4.BeautifulSoup(page).find('ul', {'class':'geoList'})\n",
    "    links = []\n",
    "    for link in list_links.find_all('a'):\n",
    "        links.append([link.get('href'), link.text])\n",
    "    return links"
   ]
  },
  {
   "cell_type": "code",
   "execution_count": 9,
   "id": "a249173e",
   "metadata": {},
   "outputs": [
    {
     "name": "stdout",
     "output_type": "stream",
     "text": [
      "Message: \n",
      "Stacktrace:\n",
      "0   chromedriver                        0x00000001010d62c8 chromedriver + 4752072\n",
      "1   chromedriver                        0x0000000101056463 chromedriver + 4228195\n",
      "2   chromedriver                        0x0000000100cb9b18 chromedriver + 441112\n",
      "3   chromedriver                        0x0000000100cf6e21 chromedriver + 691745\n",
      "4   chromedriver                        0x0000000100cf7061 chromedriver + 692321\n",
      "5   chromedriver                        0x0000000100d325e4 chromedriver + 935396\n",
      "6   chromedriver                        0x0000000100d17d2d chromedriver + 826669\n",
      "7   chromedriver                        0x0000000100d30134 chromedriver + 926004\n",
      "8   chromedriver                        0x0000000100d17b33 chromedriver + 826163\n",
      "9   chromedriver                        0x0000000100ce89fd chromedriver + 633341\n",
      "10  chromedriver                        0x0000000100cea051 chromedriver + 639057\n",
      "11  chromedriver                        0x00000001010a330e chromedriver + 4543246\n",
      "12  chromedriver                        0x00000001010a7a88 chromedriver + 4561544\n",
      "13  chromedriver                        0x00000001010af6df chromedriver + 4593375\n",
      "14  chromedriver                        0x00000001010a88fa chromedriver + 4565242\n",
      "15  chromedriver                        0x000000010107e2cf chromedriver + 4391631\n",
      "16  chromedriver                        0x00000001010c75b8 chromedriver + 4691384\n",
      "17  chromedriver                        0x00000001010c7739 chromedriver + 4691769\n",
      "18  chromedriver                        0x00000001010dd81e chromedriver + 4782110\n",
      "19  libsystem_pthread.dylib             0x00007ff80b4614e1 _pthread_start + 125\n",
      "20  libsystem_pthread.dylib             0x00007ff80b45cf6b thread_start + 15\n",
      "\n"
     ]
    }
   ],
   "source": [
    "pages = parse_sites(main_link, user_agent_rotator)"
   ]
  },
  {
   "cell_type": "code",
   "execution_count": 10,
   "id": "9658bca2",
   "metadata": {},
   "outputs": [
    {
     "name": "stderr",
     "output_type": "stream",
     "text": [
      "100%|████████████████████████████████████████| 25/25 [00:00<00:00, 89.79it/s]\n"
     ]
    }
   ],
   "source": [
    "sites_links = pd.DataFrame(multiprocess_func(pages, parse_first_lvl,\n",
    "                      gather_func=None, to_split=False,\n",
    "                      n_processes=8), columns=['link_to_city', 'title_of_city'])"
   ]
  },
  {
   "cell_type": "code",
   "execution_count": 11,
   "id": "bc81dbfe",
   "metadata": {},
   "outputs": [],
   "source": [
    "sites_links['title_of_city'] = sites_links['title_of_city'].apply(lambda x: x.replace('/','\\\\'))"
   ]
  },
  {
   "cell_type": "code",
   "execution_count": 12,
   "id": "04e212b9",
   "metadata": {},
   "outputs": [],
   "source": [
    "sites_links['link_to_city'] = sites_links['link_to_city'].apply(lambda x: urllib.parse.urljoin(main_url, x))"
   ]
  },
  {
   "cell_type": "code",
   "execution_count": 13,
   "id": "713d412a",
   "metadata": {},
   "outputs": [
    {
     "data": {
      "text/plain": [
       "(500, 2)"
      ]
     },
     "execution_count": 13,
     "metadata": {},
     "output_type": "execute_result"
    }
   ],
   "source": [
    "sites_links.shape"
   ]
  },
  {
   "cell_type": "markdown",
   "id": "d5bc5513",
   "metadata": {},
   "source": [
    "# Second level parsing"
   ]
  },
  {
   "cell_type": "code",
   "execution_count": 14,
   "id": "f3a56b20",
   "metadata": {},
   "outputs": [],
   "source": [
    "n_threads = 10"
   ]
  },
  {
   "cell_type": "code",
   "execution_count": 15,
   "id": "8bad653f",
   "metadata": {},
   "outputs": [],
   "source": [
    "ABS_PATH = 'trip_advisor_data_restaurants_links'\n",
    "if not os.path.exists(ABS_PATH):\n",
    "    os.mkdir(ABS_PATH)\n",
    "    \n",
    "for i in sites_links['title_of_city']:\n",
    "    dir_path = os.path.join(ABS_PATH,i)\n",
    "\n",
    "    if not os.path.exists(dir_path):\n",
    "        os.mkdir(dir_path)\n"
   ]
  },
  {
   "cell_type": "code",
   "execution_count": 16,
   "id": "e0a822c9",
   "metadata": {},
   "outputs": [],
   "source": [
    "def save_html(file, path):\n",
    "    with open(path+'.html', 'w') as f:\n",
    "        f.write(file)"
   ]
  },
  {
   "cell_type": "code",
   "execution_count": 17,
   "id": "fb0bd907",
   "metadata": {},
   "outputs": [],
   "source": [
    "def parse_sites_lvl2(main_link, path, \n",
    "                     abs_path, \n",
    "                     user_agent_rotator, max_ex=5):\n",
    "    \n",
    "    next_page_cls = 'nav.next'\n",
    "    prox = \"socks5://localhost:9050\"\n",
    "\n",
    "    user = user_agent_rotator.get_random_user_agent()\n",
    "    custom_options = webdriver.ChromeOptions()\n",
    "    custom_options.add_argument(f'user_agent={user}')\n",
    "    custom_options.add_argument('--proxy-server=%s' % prox)\n",
    "    custom_options.add_argument('headless')\n",
    "    \n",
    "    \n",
    "    # overall path\n",
    "    path_to_save = os.path.join(abs_path, path)\n",
    "\n",
    "    \n",
    "    try:\n",
    "        driver = webdriver.Chrome(options=custom_options)\n",
    "        driver.get(main_link)\n",
    "    except:\n",
    "        return 0\n",
    "    \n",
    "    c = 0\n",
    "    ex_counter=0\n",
    "    while True:\n",
    "        try:\n",
    "            WebDriverWait(driver, 90).until(EC.presence_of_element_located((By.CLASS_NAME, next_page_cls)))\n",
    "            driver.find_element(by=By.CLASS_NAME, value=next_page_cls).click()\n",
    "            ex_counter = 0\n",
    "            c+=1\n",
    "        except Exception as ex:\n",
    "            if not isinstance(ex, (StaleElementReferenceException, ElementClickInterceptedException)):\n",
    "                if not ex_counter:\n",
    "                    save_html(driver.page_source, os.path.join(path_to_save, f'page_{str(c)}'))\n",
    "                break\n",
    "            else:\n",
    "                ex_counter+=1\n",
    "                \n",
    "            if ex_counter>=max_ex:\n",
    "                break\n",
    "        time.sleep(2)\n",
    "        save_html(driver.page_source, os.path.join(path_to_save, f'page_{str(c)}'))\n",
    "        \n",
    "    return 0"
   ]
  },
  {
   "cell_type": "code",
   "execution_count": 18,
   "id": "eb555d5b",
   "metadata": {},
   "outputs": [],
   "source": [
    "parse_sites_lvl2_partial = partial(parse_sites_lvl2, user_agent_rotator=user_agent_rotator,\n",
    "                                  abs_path=ABS_PATH)"
   ]
  },
  {
   "cell_type": "code",
   "execution_count": 19,
   "id": "7ebf8f5e",
   "metadata": {},
   "outputs": [],
   "source": [
    "def parse_links_multiprocessing(input_tuple):\n",
    "    link, title = input_tuple\n",
    "    code = parse_sites_lvl2_partial(link, path=title)\n",
    "    return code"
   ]
  },
  {
   "cell_type": "code",
   "execution_count": 20,
   "id": "630000f8",
   "metadata": {
    "scrolled": true
   },
   "outputs": [
    {
     "name": "stderr",
     "output_type": "stream",
     "text": [
      "100%|████████████████████████████████████| 500/500 [2:00:19<00:00, 14.44s/it]\n"
     ]
    }
   ],
   "source": [
    "with closing(ThreadPool(n_threads)) as p:\n",
    "     list(tqdm(p.imap(parse_links_multiprocessing, sites_links[['link_to_city', 'title_of_city']].values),\\\n",
    "                            total=sites_links.shape[0]))"
   ]
  },
  {
   "cell_type": "code",
   "execution_count": 21,
   "id": "edf30145",
   "metadata": {},
   "outputs": [],
   "source": [
    "def read_file(path):\n",
    "    with open(path, 'r') as f\n",
    "        return f.read()"
   ]
  },
  {
   "cell_type": "code",
   "execution_count": 22,
   "id": "6624e46d",
   "metadata": {},
   "outputs": [],
   "source": [
    "def bs4_parse_links(page, name):\n",
    "    records = []\n",
    "    for review_page in bs4.BeautifulSoup(page).find_all('div', {'class':'zdCeB Vt o'}):\n",
    "        record = {}\n",
    "        if  review_page.find('svg', {'class':'UctUV d H0'}):\n",
    "            record['rating'] = review_page.find('svg', {'class':'UctUV d H0'}).get('aria-label')\n",
    "            found_a = review_page.find('div',{'class':'RfBGI'}).a\n",
    "            record['link'] = found_a.get('href')\n",
    "            record['title_of_restaurant'] = found_a.text\n",
    "            record['title_of_city'] = name\n",
    "            records.append(record)\n",
    "    return records"
   ]
  },
  {
   "cell_type": "code",
   "execution_count": 23,
   "id": "871f60b2",
   "metadata": {},
   "outputs": [],
   "source": [
    "def parse_lvl2(name, abs_path):\n",
    "    path = os.path.join(abs_path,name)\n",
    "    records = []\n",
    "    for path_page in os.listdir(path):\n",
    "        page = read_file(os.path.join(path,path_page))\n",
    "        records.extend(bs4_parse_links(page, name))\n",
    "    return records"
   ]
  },
  {
   "cell_type": "code",
   "execution_count": 24,
   "id": "e4ab5998",
   "metadata": {},
   "outputs": [],
   "source": [
    "parse_lvl2_partial = partial(parse_lvl2, abs_path=ABS_PATH)"
   ]
  },
  {
   "cell_type": "code",
   "execution_count": 25,
   "id": "c913d1e2",
   "metadata": {},
   "outputs": [
    {
     "name": "stderr",
     "output_type": "stream",
     "text": [
      "100%|██████████████████████████████████████| 465/465 [01:32<00:00,  5.05it/s]\n"
     ]
    }
   ],
   "source": [
    "links = multiprocess_func([i for i in os.listdir(ABS_PATH) if not i.startswith('.')],\n",
    "                  func=parse_lvl2_partial,\n",
    "                  to_split=False,\n",
    "                 n_processes=8,\n",
    "                         use_threads=False)"
   ]
  },
  {
   "cell_type": "code",
   "execution_count": 26,
   "id": "d4c5116f",
   "metadata": {},
   "outputs": [],
   "source": [
    "links = pd.DataFrame(links)"
   ]
  },
  {
   "cell_type": "code",
   "execution_count": 27,
   "id": "c890e298",
   "metadata": {},
   "outputs": [],
   "source": [
    "links = links.drop_duplicates(subset=['link'])"
   ]
  },
  {
   "cell_type": "code",
   "execution_count": 28,
   "id": "22b96562",
   "metadata": {},
   "outputs": [
    {
     "data": {
      "text/plain": [
       "(7397, 4)"
      ]
     },
     "execution_count": 28,
     "metadata": {},
     "output_type": "execute_result"
    }
   ],
   "source": [
    "links.shape"
   ]
  },
  {
   "cell_type": "code",
   "execution_count": 45,
   "id": "04f93f01",
   "metadata": {},
   "outputs": [],
   "source": [
    "links['rating'] = links['rating'].apply(lambda x: float(x.split('из')[0].replace(',','.')))"
   ]
  },
  {
   "cell_type": "code",
   "execution_count": 46,
   "id": "056ede35",
   "metadata": {},
   "outputs": [],
   "source": [
    "links['link'] = links['link'].apply(lambda x: urllib.parse.urljoin(main_url, x))"
   ]
  },
  {
   "cell_type": "code",
   "execution_count": 52,
   "id": "a77b3dda",
   "metadata": {},
   "outputs": [],
   "source": [
    "links['title_of_restaurant'] = links['title_of_restaurant'].apply(lambda x: '.'.join(x.split('.')[1:]).strip())"
   ]
  },
  {
   "cell_type": "code",
   "execution_count": 60,
   "id": "6ce3d508",
   "metadata": {},
   "outputs": [],
   "source": [
    "links['name_to_save'] = links['link'].apply(lambda x: x.split('/')[-1].split('.')[0])"
   ]
  },
  {
   "cell_type": "code",
   "execution_count": 6,
   "id": "0848f4f0",
   "metadata": {},
   "outputs": [],
   "source": [
    "links['parsed'] = False"
   ]
  },
  {
   "cell_type": "code",
   "execution_count": 7,
   "id": "d5eca51d",
   "metadata": {},
   "outputs": [],
   "source": [
    "links.to_csv('links_to_restaurants.csv', index=False) "
   ]
  },
  {
   "cell_type": "code",
   "execution_count": null,
   "id": "8f29751d",
   "metadata": {},
   "outputs": [],
   "source": []
  }
 ],
 "metadata": {
  "kernelspec": {
   "display_name": "Python 3 (ipykernel)",
   "language": "python",
   "name": "python3"
  },
  "language_info": {
   "codemirror_mode": {
    "name": "ipython",
    "version": 3
   },
   "file_extension": ".py",
   "mimetype": "text/x-python",
   "name": "python",
   "nbconvert_exporter": "python",
   "pygments_lexer": "ipython3",
   "version": "3.7.15"
  }
 },
 "nbformat": 4,
 "nbformat_minor": 5
}
