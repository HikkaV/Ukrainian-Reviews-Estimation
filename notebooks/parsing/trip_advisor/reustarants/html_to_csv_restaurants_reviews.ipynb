{
 "cells": [
  {
   "cell_type": "code",
   "execution_count": 1,
   "id": "cca5b477",
   "metadata": {},
   "outputs": [],
   "source": [
    "import bs4 \n",
    "import pandas as pd \n",
    "import numpy as np\n",
    "import seaborn as sns\n",
    "import matplotlib.pyplot as plt\n",
    "import requests\n",
    "from multiprocessing.pool import ThreadPool\n",
    "from tqdm import tqdm\n",
    "import time\n",
    "from selenium import webdriver\n",
    "from selenium.webdriver.common.by import By\n",
    "from selenium.webdriver.support.ui import Select\n",
    "from selenium.common.exceptions import ElementClickInterceptedException, StaleElementReferenceException\n",
    "import os\n",
    "from random_user_agent.user_agent import UserAgent\n",
    "from random_user_agent.params import SoftwareName, OperatingSystem\n",
    "from selenium.webdriver.support.ui import WebDriverWait\n",
    "from selenium.webdriver.support import expected_conditions as EC\n",
    "import json\n",
    "import pickle\n",
    "import urllib\n",
    "sns.set()"
   ]
  },
  {
   "cell_type": "code",
   "execution_count": 2,
   "id": "9c335d1f",
   "metadata": {},
   "outputs": [],
   "source": [
    "ABS_PATH = 'trip_advisor_data_restaurants/'"
   ]
  },
  {
   "cell_type": "code",
   "execution_count": 3,
   "id": "aa963a7c",
   "metadata": {},
   "outputs": [],
   "source": [
    "from multiprocessing.pool import Pool\n",
    "from contextlib import closing"
   ]
  },
  {
   "cell_type": "code",
   "execution_count": 4,
   "id": "9f3fa2b4",
   "metadata": {},
   "outputs": [],
   "source": [
    "from functools import partial"
   ]
  },
  {
   "cell_type": "code",
   "execution_count": 5,
   "id": "cf7f14f0",
   "metadata": {},
   "outputs": [],
   "source": [
    "def read_file(path):\n",
    "    with open(path, 'r') as f:\n",
    "        return f.read()"
   ]
  },
  {
   "cell_type": "code",
   "execution_count": 6,
   "id": "33016a90",
   "metadata": {},
   "outputs": [],
   "source": [
    "def multiprocess_func(main_input, func, additional_inputs=None,\n",
    "                      gather_func=None, to_split=True, gather_func_args=None,\n",
    "                      chunk_size=100, n_processes=8):\n",
    "    if not gather_func_args:\n",
    "        gather_func_args = []\n",
    "    if not additional_inputs:\n",
    "        additional_inputs = []\n",
    "    if not gather_func:\n",
    "        gather_func = lambda x: [z for i in x for z in i]\n",
    "    if to_split:\n",
    "        splitted = [(main_input[i:i + chunk_size], *additional_inputs) if additional_inputs else main_input[i:i + chunk_size]\\\n",
    "                    for i in range(0, len(main_input), chunk_size)]\n",
    "    else:\n",
    "        splitted = [(i, *additional_inputs) if additional_inputs else i for i in main_input]\n",
    "    with closing(Pool(n_processes)) as p:\n",
    "        result = list(tqdm(p.imap(func, splitted),\n",
    "                           total=len(splitted)))\n",
    "    return gather_func(result, *gather_func_args)"
   ]
  },
  {
   "cell_type": "code",
   "execution_count": 7,
   "id": "25f1f80c",
   "metadata": {},
   "outputs": [],
   "source": [
    "def process_buble(x):\n",
    "    return float('.'.join(x))"
   ]
  },
  {
   "cell_type": "code",
   "execution_count": 8,
   "id": "19bb13a7",
   "metadata": {},
   "outputs": [],
   "source": [
    "def bs4_parse_reviews(input_tuple):\n",
    "    page_to_parse, name = input_tuple\n",
    "    records = []\n",
    "    for review_page in bs4.BeautifulSoup(page_to_parse).find_all('div', {'class':'ui_column is-9'}):\n",
    "        try:\n",
    "            record = {} \n",
    "            record['overall_rating'] = process_buble(review_page.find('span', {'class': 'ui_bubble_rating'})\\\n",
    "                                                     .get('class')[1].split('_')[-1])\n",
    "            record['title'] = review_page.find('span',{'class':'noQuotes'}).text\n",
    "            record['review'] = review_page.find('p',{'class':'partial_entry'}).text\n",
    "            record['name'] = name\n",
    "            records.append(record)\n",
    "        except:\n",
    "            pass\n",
    "\n",
    "        \n",
    "    return records"
   ]
  },
  {
   "cell_type": "code",
   "execution_count": 9,
   "id": "7a541848",
   "metadata": {},
   "outputs": [],
   "source": [
    "def parse_reviews_multiproc(name, abs_path):\n",
    "    path = os.path.join(abs_path, name)\n",
    "    records = []\n",
    "    for path_page in os.listdir(path):\n",
    "        page = read_file(os.path.join(path,path_page))\n",
    "        records.extend(bs4_parse_reviews((page, name)))\n",
    "    return records"
   ]
  },
  {
   "cell_type": "code",
   "execution_count": 10,
   "id": "66af93c3",
   "metadata": {},
   "outputs": [],
   "source": [
    "partial_parse_reviews_multiproc = partial(parse_reviews_multiproc, abs_path=ABS_PATH)\n"
   ]
  },
  {
   "cell_type": "code",
   "execution_count": 11,
   "id": "c67d5214",
   "metadata": {},
   "outputs": [],
   "source": [
    "df = pd.read_csv('links_to_restaurants.csv')"
   ]
  },
  {
   "cell_type": "code",
   "execution_count": 12,
   "id": "61879c55",
   "metadata": {},
   "outputs": [],
   "source": [
    "tmp_df = df[(df['parsed']==True) & (df['review_parsed']==False)]"
   ]
  },
  {
   "cell_type": "code",
   "execution_count": 13,
   "id": "fb690951",
   "metadata": {},
   "outputs": [
    {
     "data": {
      "text/plain": [
       "(5305, 7)"
      ]
     },
     "execution_count": 13,
     "metadata": {},
     "output_type": "execute_result"
    }
   ],
   "source": [
    "tmp_df.shape"
   ]
  },
  {
   "cell_type": "code",
   "execution_count": 14,
   "id": "0b9f062e",
   "metadata": {
    "scrolled": true
   },
   "outputs": [
    {
     "name": "stderr",
     "output_type": "stream",
     "text": [
      "100%|████████████████████████████████████| 5305/5305 [08:53<00:00,  9.94it/s]\n"
     ]
    }
   ],
   "source": [
    "reviews = multiprocess_func(tmp_df['name_to_save'].values,\n",
    "                  func=partial_parse_reviews_multiproc,\n",
    "                  to_split=False,\n",
    "                 n_processes=8)"
   ]
  },
  {
   "cell_type": "code",
   "execution_count": 15,
   "id": "909deaa9",
   "metadata": {},
   "outputs": [],
   "source": [
    "reviews = pd.DataFrame(reviews).drop_duplicates(subset=['name', 'review', 'overall_rating'])"
   ]
  },
  {
   "cell_type": "code",
   "execution_count": 16,
   "id": "b32ab495",
   "metadata": {},
   "outputs": [],
   "source": [
    "reviews.to_csv('restaurants_reviews_3.csv', index=False, mode='w')"
   ]
  },
  {
   "cell_type": "code",
   "execution_count": 17,
   "id": "75a2ea2b",
   "metadata": {},
   "outputs": [],
   "source": [
    "df.loc[df['parsed']==True, 'review_parsed'] = True"
   ]
  },
  {
   "cell_type": "code",
   "execution_count": 18,
   "id": "e258bc82",
   "metadata": {},
   "outputs": [],
   "source": [
    "df.to_csv('links_to_restaurants.csv', index= False)"
   ]
  },
  {
   "cell_type": "code",
   "execution_count": 19,
   "id": "e2667496",
   "metadata": {},
   "outputs": [
    {
     "data": {
      "text/plain": [
       "True     7228\n",
       "False     169\n",
       "Name: parsed, dtype: int64"
      ]
     },
     "execution_count": 19,
     "metadata": {},
     "output_type": "execute_result"
    }
   ],
   "source": [
    "df['parsed'].value_counts()"
   ]
  },
  {
   "cell_type": "code",
   "execution_count": null,
   "id": "c486db8a",
   "metadata": {},
   "outputs": [],
   "source": []
  }
 ],
 "metadata": {
  "kernelspec": {
   "display_name": "Python 3 (ipykernel)",
   "language": "python",
   "name": "python3"
  },
  "language_info": {
   "codemirror_mode": {
    "name": "ipython",
    "version": 3
   },
   "file_extension": ".py",
   "mimetype": "text/x-python",
   "name": "python",
   "nbconvert_exporter": "python",
   "pygments_lexer": "ipython3",
   "version": "3.7.15"
  }
 },
 "nbformat": 4,
 "nbformat_minor": 5
}
