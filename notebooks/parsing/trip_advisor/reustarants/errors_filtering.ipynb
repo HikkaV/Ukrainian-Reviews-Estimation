{
 "cells": [
  {
   "cell_type": "code",
   "execution_count": 1,
   "id": "31333aca",
   "metadata": {},
   "outputs": [],
   "source": [
    "import pandas as pd"
   ]
  },
  {
   "cell_type": "code",
   "execution_count": 3,
   "id": "ef57af45",
   "metadata": {},
   "outputs": [],
   "source": [
    "errors = pd.read_csv('res - restaurants_reviews.csv')"
   ]
  },
  {
   "cell_type": "code",
   "execution_count": 7,
   "id": "a5124111",
   "metadata": {},
   "outputs": [
    {
     "data": {
      "text/plain": [
       "False    25197\n",
       "True      1418\n",
       "Name: not_full_text, dtype: int64"
      ]
     },
     "execution_count": 7,
     "metadata": {},
     "output_type": "execute_result"
    }
   ],
   "source": [
    "errors['not_full_text'].value_counts()"
   ]
  },
  {
   "cell_type": "code",
   "execution_count": 10,
   "id": "d3b8f538",
   "metadata": {},
   "outputs": [
    {
     "data": {
      "text/plain": [
       "Restaurant_Review-g295377-d6375805-Reviews-Atlas-Lviv_Lviv_Oblast                   123\n",
       "Restaurant_Review-g295377-d2660092-Reviews-Cafe_Centaur-Lviv_Lviv_Oblast            109\n",
       "Restaurant_Review-g294474-d1537342-Reviews-Pervak-Kyiv                              102\n",
       "Restaurant_Review-g295377-d4259739-Reviews-Trout_Bread_and_Wine-Lviv_Lviv_Oblast     53\n",
       "Restaurant_Review-g295377-d2423576-Reviews-Split-Lviv_Lviv_Oblast                    48\n",
       "                                                                                   ... \n",
       "Restaurant_Review-g295377-d8683295-Reviews-Bubble_Waffle-Lviv_Lviv_Oblast             1\n",
       "Restaurant_Review-g294474-d11919735-Reviews-Eurasia_at_Lyuteranskaya-Kyiv             1\n",
       "Restaurant_Review-g294474-d10295950-Reviews-Georgian_House-Kyiv                       1\n",
       "Restaurant_Review-g6819118-d10125384-Reviews-Toscana_Grill-Bucha_Kiev_Oblast          1\n",
       "Restaurant_Review-g294474-d23805391-Reviews-Avtostantsiya_Pizzeriya-Kyiv              1\n",
       "Name: name, Length: 165, dtype: int64"
      ]
     },
     "execution_count": 10,
     "metadata": {},
     "output_type": "execute_result"
    }
   ],
   "source": [
    "errors[errors['not_full_text']==True]['name'].value_counts()"
   ]
  },
  {
   "cell_type": "code",
   "execution_count": 11,
   "id": "56e0e537",
   "metadata": {},
   "outputs": [
    {
     "data": {
      "text/plain": [
       "False    712\n",
       "True     123\n",
       "Name: not_full_text, dtype: int64"
      ]
     },
     "execution_count": 11,
     "metadata": {},
     "output_type": "execute_result"
    }
   ],
   "source": [
    "errors[errors['name']=='Restaurant_Review-g295377-d6375805-Reviews-Atlas-Lviv_Lviv_Oblast']['not_full_text'].value_counts()"
   ]
  },
  {
   "cell_type": "code",
   "execution_count": null,
   "id": "5fc1c475",
   "metadata": {},
   "outputs": [],
   "source": []
  }
 ],
 "metadata": {
  "kernelspec": {
   "display_name": "Python 3 (ipykernel)",
   "language": "python",
   "name": "python3"
  },
  "language_info": {
   "codemirror_mode": {
    "name": "ipython",
    "version": 3
   },
   "file_extension": ".py",
   "mimetype": "text/x-python",
   "name": "python",
   "nbconvert_exporter": "python",
   "pygments_lexer": "ipython3",
   "version": "3.7.15"
  }
 },
 "nbformat": 4,
 "nbformat_minor": 5
}
