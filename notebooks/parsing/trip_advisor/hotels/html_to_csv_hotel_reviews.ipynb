{
 "cells": [
  {
   "cell_type": "code",
   "execution_count": null,
   "id": "50abbf7f",
   "metadata": {},
   "outputs": [],
   "source": [
    "import bs4 \n",
    "import pandas as pd \n",
    "import numpy as np\n",
    "import seaborn as sns\n",
    "import matplotlib.pyplot as plt\n",
    "import requests\n",
    "from multiprocessing.pool import ThreadPool\n",
    "from tqdm import tqdm\n",
    "import time\n",
    "from selenium import webdriver\n",
    "from selenium.webdriver.common.by import By\n",
    "from selenium.webdriver.support.ui import Select\n",
    "from selenium.common.exceptions import ElementClickInterceptedException, StaleElementReferenceException\n",
    "import os\n",
    "from random_user_agent.user_agent import UserAgent\n",
    "from random_user_agent.params import SoftwareName, OperatingSystem\n",
    "from selenium.webdriver.support.ui import WebDriverWait\n",
    "from selenium.webdriver.support import expected_conditions as EC\n",
    "import json\n",
    "import pickle\n",
    "import urllib\n",
    "sns.set()"
   ]
  },
  {
   "cell_type": "code",
   "execution_count": null,
   "id": "02e7e39a",
   "metadata": {},
   "outputs": [],
   "source": [
    "from multiprocessing.pool import Pool\n",
    "from contextlib import closing"
   ]
  },
  {
   "cell_type": "code",
   "execution_count": null,
   "id": "652c7557",
   "metadata": {},
   "outputs": [],
   "source": [
    "from functools import partial"
   ]
  },
  {
   "cell_type": "code",
   "execution_count": null,
   "id": "f563f309",
   "metadata": {},
   "outputs": [],
   "source": [
    "def multiprocess_func(main_input, func, additional_inputs=None,\n",
    "                      gather_func=None, to_split=True, gather_func_args=None,\n",
    "                      chunk_size=100, n_processes=8):\n",
    "    if not gather_func_args:\n",
    "        gather_func_args = []\n",
    "    if not additional_inputs:\n",
    "        additional_inputs = []\n",
    "    if not gather_func:\n",
    "        gather_func = lambda x: [z for i in x for z in i]\n",
    "    if to_split:\n",
    "        splitted = [(main_input[i:i + chunk_size], *additional_inputs) if additional_inputs else main_input[i:i + chunk_size]\\\n",
    "                    for i in range(0, len(main_input), chunk_size)]\n",
    "    else:\n",
    "        splitted = [(i, *additional_inputs) if additional_inputs else i for i in main_input]\n",
    "    with closing(Pool(n_processes)) as p:\n",
    "        result = list(tqdm(p.imap(func, splitted),\n",
    "                           total=len(splitted)))\n",
    "    return gather_func(result, *gather_func_args)"
   ]
  },
  {
   "cell_type": "code",
   "execution_count": null,
   "id": "29c31977",
   "metadata": {},
   "outputs": [],
   "source": [
    "def process_buble(x):\n",
    "    return float('.'.join(x))"
   ]
  },
  {
   "cell_type": "code",
   "execution_count": null,
   "id": "c8c9fc1b",
   "metadata": {},
   "outputs": [],
   "source": [
    "def bs4_parse_reviews(input_tuple):\n",
    "    page_to_parse, hotel_name = input_tuple\n",
    "    records = []\n",
    "    try:\n",
    "        for review_page in bs4.BeautifulSoup(page_to_parse).find_all('div', {'class':'WAllg _T'}):\n",
    "\n",
    "            record = {}\n",
    "            record['overall_rating'] = process_buble(review_page.find('div',{'data-test-target':'review-rating'})\\\n",
    "                                           .span['class'][-1].split('_')[-1])\n",
    "            per_type_bubble = review_page.find_all('div', {'class':'hemdC S2 H2 WWOoy'})\n",
    "\n",
    "            if per_type_bubble:\n",
    "                for j in per_type_bubble:\n",
    "                    record[j.text+'_rating'] = process_buble(j.span.span['class'][-1].split('_')[-1])\n",
    "\n",
    "\n",
    "            record['review'] = review_page.find('div',{'class':'fIrGe _T'}).text\n",
    "            record['hotel_name'] = hotel_name\n",
    "            \n",
    "            records.append(record)\n",
    "    except Exception as ex:\n",
    "        print(ex)\n",
    "        \n",
    "    return records"
   ]
  },
  {
   "cell_type": "code",
   "execution_count": null,
   "id": "bb08709a",
   "metadata": {},
   "outputs": [],
   "source": [
    "def read_file(path):\n",
    "    with open(path, 'r') as f:\n",
    "        return f.read()"
   ]
  },
  {
   "cell_type": "code",
   "execution_count": null,
   "id": "766b2187",
   "metadata": {},
   "outputs": [],
   "source": [
    "def parse_reviews_multiproc(name, abs_path):\n",
    "    path = os.path.join(abs_path,name)\n",
    "    records = []\n",
    "    for path_page in os.listdir(path):\n",
    "        page = read_file(os.path.join(path,path_page))\n",
    "        records.extend(bs4_parse_reviews((page, name)))\n",
    "    return records"
   ]
  },
  {
   "cell_type": "code",
   "execution_count": null,
   "id": "e5e16979",
   "metadata": {},
   "outputs": [],
   "source": [
    "ABS_PATH = 'trip_advisor_data_hotels'\n"
   ]
  },
  {
   "cell_type": "code",
   "execution_count": null,
   "id": "fe1c5abf",
   "metadata": {},
   "outputs": [],
   "source": [
    "hotels_df = pd.read_csv('hotels_links.csv')"
   ]
  },
  {
   "cell_type": "code",
   "execution_count": null,
   "id": "c6fb652f",
   "metadata": {},
   "outputs": [],
   "source": [
    "hotels_to_load = hotels_df[hotels_df['parsed']==True]['title'].values.tolist()"
   ]
  },
  {
   "cell_type": "code",
   "execution_count": null,
   "id": "68f60d6e",
   "metadata": {},
   "outputs": [],
   "source": [
    "partial_parse_reviews_multiproc = partial(parse_reviews_multiproc, abs_path=ABS_PATH)\n"
   ]
  },
  {
   "cell_type": "code",
   "execution_count": null,
   "id": "c2a04031",
   "metadata": {},
   "outputs": [],
   "source": [
    "reviews = multiprocess_func([i for i in os.listdir(ABS_PATH) if not i.startswith('.')],\n",
    "                  func=partial_parse_reviews_multiproc,\n",
    "                  to_split=False,\n",
    "                 n_processes=8)"
   ]
  },
  {
   "cell_type": "code",
   "execution_count": null,
   "id": "1084c727",
   "metadata": {},
   "outputs": [],
   "source": [
    "reviews = pd.DataFrame(reviews)"
   ]
  },
  {
   "cell_type": "code",
   "execution_count": null,
   "id": "5b029aa2",
   "metadata": {},
   "outputs": [],
   "source": [
    "reviews = reviews.drop_duplicates(['review', 'hotel_name'])"
   ]
  },
  {
   "cell_type": "code",
   "execution_count": null,
   "id": "28c0f171",
   "metadata": {},
   "outputs": [],
   "source": [
    "reviews.head()"
   ]
  },
  {
   "cell_type": "code",
   "execution_count": null,
   "id": "fbc617d2",
   "metadata": {},
   "outputs": [],
   "source": [
    "reviews.shape"
   ]
  },
  {
   "cell_type": "code",
   "execution_count": null,
   "id": "921820ed",
   "metadata": {},
   "outputs": [],
   "source": [
    "reviews['overall_rating'].value_counts().plot.bar()"
   ]
  },
  {
   "cell_type": "code",
   "execution_count": null,
   "id": "9f02bed1",
   "metadata": {},
   "outputs": [],
   "source": [
    "reviews['overall_rating'].value_counts()"
   ]
  },
  {
   "cell_type": "code",
   "execution_count": null,
   "id": "3016f79d",
   "metadata": {},
   "outputs": [],
   "source": [
    "reviews.isna().sum()"
   ]
  },
  {
   "cell_type": "code",
   "execution_count": null,
   "id": "d64d470a",
   "metadata": {},
   "outputs": [],
   "source": [
    "reviews[reviews['overall_rating']==3.0].sample()['review'].values[0]"
   ]
  },
  {
   "cell_type": "code",
   "execution_count": null,
   "id": "aa3f3628",
   "metadata": {},
   "outputs": [],
   "source": [
    "reviews.to_csv('hotel_reviews.csv', index=False)"
   ]
  },
  {
   "cell_type": "code",
   "execution_count": null,
   "id": "fa82287e",
   "metadata": {},
   "outputs": [],
   "source": []
  }
 ],
 "metadata": {
  "language_info": {
   "name": "python",
   "pygments_lexer": "ipython3"
  }
 },
 "nbformat": 4,
 "nbformat_minor": 5
}
