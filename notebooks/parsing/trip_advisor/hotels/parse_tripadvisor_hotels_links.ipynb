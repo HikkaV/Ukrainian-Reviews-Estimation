{
 "cells": [
  {
   "cell_type": "code",
   "execution_count": 1,
   "id": "177e3218",
   "metadata": {},
   "outputs": [],
   "source": [
    "import bs4 \n",
    "import pandas as pd \n",
    "import numpy as np\n",
    "import seaborn as sns\n",
    "import matplotlib.pyplot as plt\n",
    "import requests\n",
    "from multiprocessing.pool import ThreadPool\n",
    "from tqdm import tqdm\n",
    "import time\n",
    "from selenium import webdriver\n",
    "from selenium.webdriver.common.by import By\n",
    "from selenium.webdriver.support.ui import Select\n",
    "from selenium.common.exceptions import ElementClickInterceptedException, StaleElementReferenceException\n",
    "import os\n",
    "from random_user_agent.user_agent import UserAgent\n",
    "from random_user_agent.params import SoftwareName, OperatingSystem\n",
    "from selenium.webdriver.support.ui import WebDriverWait\n",
    "from selenium.webdriver.support import expected_conditions as EC\n",
    "import json\n",
    "import pickle\n",
    "import urllib\n",
    "sns.set()"
   ]
  },
  {
   "cell_type": "code",
   "execution_count": 2,
   "id": "f09d43c4",
   "metadata": {},
   "outputs": [],
   "source": [
    "from multiprocessing.pool import Pool\n",
    "from contextlib import closing"
   ]
  },
  {
   "cell_type": "code",
   "execution_count": 3,
   "id": "24f7b44f",
   "metadata": {},
   "outputs": [],
   "source": [
    "def multiprocess_func(main_input, func, additional_inputs=None,\n",
    "                      gather_func=None, to_split=True, gather_func_args=None,\n",
    "                      chunk_size=100, n_processes=8):\n",
    "    if not gather_func_args:\n",
    "        gather_func_args = []\n",
    "    if not additional_inputs:\n",
    "        additional_inputs = []\n",
    "    if not gather_func:\n",
    "        gather_func = lambda x: [z for i in x for z in i]\n",
    "    if to_split:\n",
    "        splitted = [(main_input[i:i + chunk_size], *additional_inputs) if additional_inputs else main_input[i:i + chunk_size]\\\n",
    "                    for i in range(0, len(main_input), chunk_size)]\n",
    "    else:\n",
    "        splitted = [(i, *additional_inputs) if additional_inputs else i for i in main_input]\n",
    "    with closing(Pool(n_processes)) as p:\n",
    "        result = list(tqdm(p.imap(func, splitted),\n",
    "                           total=len(splitted)))\n",
    "    return gather_func(result, *gather_func_args)"
   ]
  },
  {
   "cell_type": "markdown",
   "id": "51318547",
   "metadata": {},
   "source": [
    "# First level parsing"
   ]
  },
  {
   "cell_type": "code",
   "execution_count": 4,
   "id": "7505164d",
   "metadata": {},
   "outputs": [],
   "source": [
    "software_names = [SoftwareName.CHROME.value]\n",
    "operating_systems = [OperatingSystem.LINUX.value, OperatingSystem.WINDOWS.value, OperatingSystem.MACOS.value]\n",
    "user_agent_rotator = UserAgent(software_names=software_names,\n",
    "                              operating_systems=operating_systems,\n",
    "                              limit=100)\n",
    "main_link = 'https://www.tripadvisor.ru/Hotels-g294473-Ukraine-Hotels.html#LEAF_GEO_LIST'"
   ]
  },
  {
   "cell_type": "code",
   "execution_count": 5,
   "id": "46781a6c",
   "metadata": {},
   "outputs": [],
   "source": [
    "main_url = 'https://www.tripadvisor.ru/'"
   ]
  },
  {
   "cell_type": "code",
   "execution_count": 9,
   "id": "310dc3c9",
   "metadata": {},
   "outputs": [],
   "source": [
    "def parse_sites(main_link, user_agent_rotator, max_ex=100):\n",
    "    first_button_xpath = '//*[@id=\"component_7\"]/div/button'\n",
    "    next_page_xpath = '//*[@id=\"taplc_main_pagination_bar_hotels_less_links_v2_0\"]/div/div/div/span[2]'\n",
    "    \n",
    "    user = user_agent_rotator.get_random_user_agent()\n",
    "    custom_options = webdriver.ChromeOptions()\n",
    "    custom_options.add_argument(f'user_agent={user}')\n",
    "    \n",
    "    driver = webdriver.Chrome(options=custom_options)\n",
    "    driver.get(main_link)\n",
    "    WebDriverWait(driver, 90).until(EC.presence_of_element_located((By.XPATH, first_button_xpath)))\n",
    "    driver.find_element(by=By.XPATH, value=first_button_xpath).click()\n",
    "    \n",
    "    pages = [driver.page_source]\n",
    "    ex_counter=0\n",
    "    while True:\n",
    "        try:\n",
    "            WebDriverWait(driver, 90).until(EC.presence_of_element_located((By.XPATH, next_page_xpath)))\n",
    "            driver.find_element(by=By.XPATH, value=next_page_xpath).click()\n",
    "            ex_counter = 0\n",
    "        except Exception as ex:\n",
    "            if not isinstance(ex, (StaleElementReferenceException, ElementClickInterceptedException)):\n",
    "                print(ex)\n",
    "                break\n",
    "            else:\n",
    "                ex_counter+=1\n",
    "                \n",
    "            if ex_counter>=max_ex:\n",
    "                break\n",
    "        time.sleep(15)\n",
    "        pages.append(driver.page_source)\n",
    "    driver.quit()\n",
    "    return pages"
   ]
  },
  {
   "cell_type": "code",
   "execution_count": 10,
   "id": "f844121f",
   "metadata": {},
   "outputs": [],
   "source": [
    "def parse_first_lvl(page):\n",
    "    soup = bs4.BeautifulSoup(page)\n",
    "    to_save = []\n",
    "    for ui_column in soup.find_all('div', {'class':'ui_column is-8 main_col allowEllipsis'}):\n",
    "        try:\n",
    "            bubble_rating_parsed = ui_column.find('a', {'data-clicksource':'BubbleRating'})\n",
    "\n",
    "            to_save.append((bubble_rating_parsed.get('alt'), bubble_rating_parsed.get('href'),\n",
    "                        ui_column.find('div', {'class':'listing_title'}).text))\n",
    "        except:\n",
    "            pass\n",
    "    return to_save"
   ]
  },
  {
   "cell_type": "code",
   "execution_count": null,
   "id": "a249173e",
   "metadata": {},
   "outputs": [],
   "source": [
    "pages = parse_sites(main_link, user_agent_rotator)"
   ]
  },
  {
   "cell_type": "code",
   "execution_count": null,
   "id": "3bf0e0bb",
   "metadata": {},
   "outputs": [],
   "source": [
    "hotels_df = pd.DataFrame(multiprocess_func(pages, parse_first_lvl,\n",
    "                      gather_func=None, to_split=False,\n",
    "                      n_processes=8), columns=['rating', 'link', 'title'])"
   ]
  },
  {
   "cell_type": "code",
   "execution_count": null,
   "id": "35057d82",
   "metadata": {},
   "outputs": [],
   "source": [
    "hotels_df = hotels_df.drop_duplicates()"
   ]
  },
  {
   "cell_type": "code",
   "execution_count": 13,
   "id": "da7a9362",
   "metadata": {},
   "outputs": [],
   "source": [
    "hotels_df['link'] = hotels_df['link'].apply(lambda x: urllib.parse.urljoin(main_url, x))\n",
    "hotels_df['title'] = hotels_df['title'].apply(lambda x: '.'.join(x.split('.')[1:]).strip())\n",
    "hotels_df['rating'] = hotels_df['rating'].apply(lambda x: float(x.split('of')[0].strip().replace(',','.')))"
   ]
  },
  {
   "cell_type": "code",
   "execution_count": 37,
   "id": "c129f216",
   "metadata": {},
   "outputs": [],
   "source": [
    "hotels_df['title'] = hotels_df['title'].apply(lambda x: x.replace('/','\\\\'))"
   ]
  },
  {
   "cell_type": "code",
   "execution_count": 38,
   "id": "13cd8263",
   "metadata": {},
   "outputs": [],
   "source": [
    "hotels_df['parsed'] = False"
   ]
  },
  {
   "cell_type": "code",
   "execution_count": 39,
   "id": "714ef4e9",
   "metadata": {},
   "outputs": [],
   "source": [
    "hotels_df.to_csv('hotels_links.csv', index=False)"
   ]
  },
  {
   "cell_type": "code",
   "execution_count": null,
   "id": "871f60b2",
   "metadata": {},
   "outputs": [],
   "source": []
  }
 ],
 "metadata": {
  "kernelspec": {
   "display_name": "Python 3 (ipykernel)",
   "language": "python",
   "name": "python3"
  },
  "language_info": {
   "codemirror_mode": {
    "name": "ipython",
    "version": 3
   },
   "file_extension": ".py",
   "mimetype": "text/x-python",
   "name": "python",
   "nbconvert_exporter": "python",
   "pygments_lexer": "ipython3",
   "version": "3.7.15"
  }
 },
 "nbformat": 4,
 "nbformat_minor": 5
}
