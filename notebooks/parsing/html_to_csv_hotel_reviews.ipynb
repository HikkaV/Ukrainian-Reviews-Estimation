{
 "cells": [
  {
   "cell_type": "code",
   "execution_count": 1,
   "id": "50abbf7f",
   "metadata": {},
   "outputs": [],
   "source": [
    "import bs4 \n",
    "import pandas as pd \n",
    "import numpy as np\n",
    "import seaborn as sns\n",
    "import matplotlib.pyplot as plt\n",
    "import requests\n",
    "from multiprocessing.pool import ThreadPool\n",
    "from tqdm import tqdm\n",
    "import time\n",
    "from selenium import webdriver\n",
    "from selenium.webdriver.common.by import By\n",
    "from selenium.webdriver.support.ui import Select\n",
    "from selenium.common.exceptions import ElementClickInterceptedException, StaleElementReferenceException\n",
    "import os\n",
    "from random_user_agent.user_agent import UserAgent\n",
    "from random_user_agent.params import SoftwareName, OperatingSystem\n",
    "from selenium.webdriver.support.ui import WebDriverWait\n",
    "from selenium.webdriver.support import expected_conditions as EC\n",
    "import json\n",
    "import pickle\n",
    "import urllib\n",
    "sns.set()"
   ]
  },
  {
   "cell_type": "code",
   "execution_count": 2,
   "id": "02e7e39a",
   "metadata": {},
   "outputs": [],
   "source": [
    "from multiprocessing.pool import Pool\n",
    "from contextlib import closing"
   ]
  },
  {
   "cell_type": "code",
   "execution_count": 3,
   "id": "652c7557",
   "metadata": {},
   "outputs": [],
   "source": [
    "from functools import partial"
   ]
  },
  {
   "cell_type": "code",
   "execution_count": 4,
   "id": "f563f309",
   "metadata": {},
   "outputs": [],
   "source": [
    "def multiprocess_func(main_input, func, additional_inputs=None,\n",
    "                      gather_func=None, to_split=True, gather_func_args=None,\n",
    "                      chunk_size=100, n_processes=8):\n",
    "    if not gather_func_args:\n",
    "        gather_func_args = []\n",
    "    if not additional_inputs:\n",
    "        additional_inputs = []\n",
    "    if not gather_func:\n",
    "        gather_func = lambda x: [z for i in x for z in i]\n",
    "    if to_split:\n",
    "        splitted = [(main_input[i:i + chunk_size], *additional_inputs) if additional_inputs else main_input[i:i + chunk_size]\\\n",
    "                    for i in range(0, len(main_input), chunk_size)]\n",
    "    else:\n",
    "        splitted = [(i, *additional_inputs) if additional_inputs else i for i in main_input]\n",
    "    with closing(Pool(n_processes)) as p:\n",
    "        result = list(tqdm(p.imap(func, splitted),\n",
    "                           total=len(splitted)))\n",
    "    return gather_func(result, *gather_func_args)"
   ]
  },
  {
   "cell_type": "code",
   "execution_count": 5,
   "id": "29c31977",
   "metadata": {},
   "outputs": [],
   "source": [
    "def process_buble(x):\n",
    "    return float('.'.join(x))"
   ]
  },
  {
   "cell_type": "code",
   "execution_count": 6,
   "id": "c8c9fc1b",
   "metadata": {},
   "outputs": [],
   "source": [
    "def bs4_parse_reviews(input_tuple):\n",
    "    page_to_parse, hotel_name = input_tuple\n",
    "    records = []\n",
    "    try:\n",
    "        for review_page in bs4.BeautifulSoup(page_to_parse).find_all('div', {'class':'WAllg _T'}):\n",
    "\n",
    "            record = {}\n",
    "            record['overall_rating'] = process_buble(review_page.find('div',{'data-test-target':'review-rating'})\\\n",
    "                                           .span['class'][-1].split('_')[-1])\n",
    "            per_type_bubble = review_page.find_all('div', {'class':'hemdC S2 H2 WWOoy'})\n",
    "\n",
    "            if per_type_bubble:\n",
    "                for j in per_type_bubble:\n",
    "                    record[j.text+'_rating'] = process_buble(j.span.span['class'][-1].split('_')[-1])\n",
    "\n",
    "\n",
    "            record['review'] = review_page.find('div',{'class':'fIrGe _T'}).text\n",
    "            record['hotel_name'] = hotel_name\n",
    "            \n",
    "            records.append(record)\n",
    "    except Exception as ex:\n",
    "        print(ex)\n",
    "        \n",
    "    return records"
   ]
  },
  {
   "cell_type": "code",
   "execution_count": 7,
   "id": "bb08709a",
   "metadata": {},
   "outputs": [],
   "source": [
    "def read_file(path):\n",
    "    with open(path, 'r') as f:\n",
    "        return f.read()"
   ]
  },
  {
   "cell_type": "code",
   "execution_count": 8,
   "id": "766b2187",
   "metadata": {},
   "outputs": [],
   "source": [
    "def parse_reviews_multiproc(name, abs_path):\n",
    "    path = os.path.join(abs_path,name)\n",
    "    records = []\n",
    "    for path_page in os.listdir(path):\n",
    "        page = read_file(os.path.join(path,path_page))\n",
    "        records.extend(bs4_parse_reviews((page, name)))\n",
    "    return records"
   ]
  },
  {
   "cell_type": "code",
   "execution_count": 9,
   "id": "e5e16979",
   "metadata": {},
   "outputs": [],
   "source": [
    "ABS_PATH = 'trip_advisor_data'\n"
   ]
  },
  {
   "cell_type": "code",
   "execution_count": 10,
   "id": "fe1c5abf",
   "metadata": {},
   "outputs": [],
   "source": [
    "hotels_df = pd.read_csv('hotels_links.csv')"
   ]
  },
  {
   "cell_type": "code",
   "execution_count": 11,
   "id": "c6fb652f",
   "metadata": {},
   "outputs": [],
   "source": [
    "hotels_to_load = hotels_df[hotels_df['parsed']==True]['title'].values.tolist()"
   ]
  },
  {
   "cell_type": "code",
   "execution_count": 12,
   "id": "68f60d6e",
   "metadata": {},
   "outputs": [],
   "source": [
    "partial_parse_reviews_multiproc = partial(parse_reviews_multiproc, abs_path=ABS_PATH)\n"
   ]
  },
  {
   "cell_type": "code",
   "execution_count": 13,
   "id": "c2a04031",
   "metadata": {},
   "outputs": [
    {
     "name": "stderr",
     "output_type": "stream",
     "text": [
      "100%|████████████████████████████████████| 2848/2848 [07:19<00:00,  6.48it/s]\n"
     ]
    }
   ],
   "source": [
    "reviews = multiprocess_func([i for i in os.listdir('trip_advisor_data/') if not i.startswith('.')],\n",
    "                  func=partial_parse_reviews_multiproc,\n",
    "                  to_split=False,\n",
    "                 n_processes=8)"
   ]
  },
  {
   "cell_type": "code",
   "execution_count": 14,
   "id": "1084c727",
   "metadata": {},
   "outputs": [],
   "source": [
    "reviews = pd.DataFrame(reviews)"
   ]
  },
  {
   "cell_type": "code",
   "execution_count": 15,
   "id": "5b029aa2",
   "metadata": {},
   "outputs": [],
   "source": [
    "reviews = reviews.drop_duplicates(['review', 'hotel_name'])"
   ]
  },
  {
   "cell_type": "code",
   "execution_count": 16,
   "id": "28c0f171",
   "metadata": {},
   "outputs": [
    {
     "data": {
      "text/html": [
       "<div>\n",
       "<style scoped>\n",
       "    .dataframe tbody tr th:only-of-type {\n",
       "        vertical-align: middle;\n",
       "    }\n",
       "\n",
       "    .dataframe tbody tr th {\n",
       "        vertical-align: top;\n",
       "    }\n",
       "\n",
       "    .dataframe thead th {\n",
       "        text-align: right;\n",
       "    }\n",
       "</style>\n",
       "<table border=\"1\" class=\"dataframe\">\n",
       "  <thead>\n",
       "    <tr style=\"text-align: right;\">\n",
       "      <th></th>\n",
       "      <th>overall_rating</th>\n",
       "      <th>review</th>\n",
       "      <th>hotel_name</th>\n",
       "      <th>Номера_rating</th>\n",
       "      <th>Расположение_rating</th>\n",
       "      <th>Обслуживание_rating</th>\n",
       "      <th>Чистота_rating</th>\n",
       "      <th>Цена/качество_rating</th>\n",
       "      <th>Качество сна_rating</th>\n",
       "      <th>Стойка регистрации_rating</th>\n",
       "      <th>Бизнес-услуги (например, доступ в Интернет)_rating</th>\n",
       "    </tr>\n",
       "  </thead>\n",
       "  <tbody>\n",
       "    <tr>\n",
       "      <th>0</th>\n",
       "      <td>5.0</td>\n",
       "      <td>Уже не первый раз останавливаемся в отеле Тайм...</td>\n",
       "      <td>Time Hotel</td>\n",
       "      <td>NaN</td>\n",
       "      <td>NaN</td>\n",
       "      <td>NaN</td>\n",
       "      <td>NaN</td>\n",
       "      <td>NaN</td>\n",
       "      <td>NaN</td>\n",
       "      <td>NaN</td>\n",
       "      <td>NaN</td>\n",
       "    </tr>\n",
       "    <tr>\n",
       "      <th>1</th>\n",
       "      <td>3.0</td>\n",
       "      <td>Большое спасибо гостинице и персоналу за теплы...</td>\n",
       "      <td>Time Hotel</td>\n",
       "      <td>3.0</td>\n",
       "      <td>3.0</td>\n",
       "      <td>5.0</td>\n",
       "      <td>NaN</td>\n",
       "      <td>NaN</td>\n",
       "      <td>NaN</td>\n",
       "      <td>NaN</td>\n",
       "      <td>NaN</td>\n",
       "    </tr>\n",
       "    <tr>\n",
       "      <th>2</th>\n",
       "      <td>4.0</td>\n",
       "      <td>Когда мы впервые приехали в Киев, мы выбрали э...</td>\n",
       "      <td>Time Hotel</td>\n",
       "      <td>NaN</td>\n",
       "      <td>NaN</td>\n",
       "      <td>NaN</td>\n",
       "      <td>NaN</td>\n",
       "      <td>NaN</td>\n",
       "      <td>NaN</td>\n",
       "      <td>NaN</td>\n",
       "      <td>NaN</td>\n",
       "    </tr>\n",
       "    <tr>\n",
       "      <th>3</th>\n",
       "      <td>5.0</td>\n",
       "      <td>Останавливались здесь на две ночи. Регистрация...</td>\n",
       "      <td>Time Hotel</td>\n",
       "      <td>NaN</td>\n",
       "      <td>NaN</td>\n",
       "      <td>NaN</td>\n",
       "      <td>NaN</td>\n",
       "      <td>NaN</td>\n",
       "      <td>NaN</td>\n",
       "      <td>NaN</td>\n",
       "      <td>NaN</td>\n",
       "    </tr>\n",
       "    <tr>\n",
       "      <th>4</th>\n",
       "      <td>5.0</td>\n",
       "      <td>Отличный персонал ,чистый уютный номер.Админис...</td>\n",
       "      <td>Time Hotel</td>\n",
       "      <td>5.0</td>\n",
       "      <td>NaN</td>\n",
       "      <td>5.0</td>\n",
       "      <td>5.0</td>\n",
       "      <td>NaN</td>\n",
       "      <td>NaN</td>\n",
       "      <td>NaN</td>\n",
       "      <td>NaN</td>\n",
       "    </tr>\n",
       "  </tbody>\n",
       "</table>\n",
       "</div>"
      ],
      "text/plain": [
       "   overall_rating                                             review  \\\n",
       "0             5.0  Уже не первый раз останавливаемся в отеле Тайм...   \n",
       "1             3.0  Большое спасибо гостинице и персоналу за теплы...   \n",
       "2             4.0  Когда мы впервые приехали в Киев, мы выбрали э...   \n",
       "3             5.0  Останавливались здесь на две ночи. Регистрация...   \n",
       "4             5.0  Отличный персонал ,чистый уютный номер.Админис...   \n",
       "\n",
       "   hotel_name  Номера_rating  Расположение_rating  Обслуживание_rating  \\\n",
       "0  Time Hotel            NaN                  NaN                  NaN   \n",
       "1  Time Hotel            3.0                  3.0                  5.0   \n",
       "2  Time Hotel            NaN                  NaN                  NaN   \n",
       "3  Time Hotel            NaN                  NaN                  NaN   \n",
       "4  Time Hotel            5.0                  NaN                  5.0   \n",
       "\n",
       "   Чистота_rating  Цена/качество_rating  Качество сна_rating  \\\n",
       "0             NaN                   NaN                  NaN   \n",
       "1             NaN                   NaN                  NaN   \n",
       "2             NaN                   NaN                  NaN   \n",
       "3             NaN                   NaN                  NaN   \n",
       "4             5.0                   NaN                  NaN   \n",
       "\n",
       "   Стойка регистрации_rating  \\\n",
       "0                        NaN   \n",
       "1                        NaN   \n",
       "2                        NaN   \n",
       "3                        NaN   \n",
       "4                        NaN   \n",
       "\n",
       "   Бизнес-услуги (например, доступ в Интернет)_rating  \n",
       "0                                                NaN   \n",
       "1                                                NaN   \n",
       "2                                                NaN   \n",
       "3                                                NaN   \n",
       "4                                                NaN   "
      ]
     },
     "execution_count": 16,
     "metadata": {},
     "output_type": "execute_result"
    }
   ],
   "source": [
    "reviews.head()"
   ]
  },
  {
   "cell_type": "code",
   "execution_count": 17,
   "id": "921820ed",
   "metadata": {},
   "outputs": [
    {
     "data": {
      "text/plain": [
       "<AxesSubplot:>"
      ]
     },
     "execution_count": 17,
     "metadata": {},
     "output_type": "execute_result"
    },
    {
     "data": {
      "image/png": "[encoded data removed]",
      "text/plain": [
       "<Figure size 640x480 with 1 Axes>"
      ]
     },
     "metadata": {},
     "output_type": "display_data"
    }
   ],
   "source": [
    "reviews['overall_rating'].value_counts().plot.bar()"
   ]
  },
  {
   "cell_type": "code",
   "execution_count": 18,
   "id": "9f02bed1",
   "metadata": {},
   "outputs": [
    {
     "data": {
      "text/plain": [
       "5.0    42474\n",
       "4.0    18761\n",
       "3.0     7985\n",
       "1.0     3656\n",
       "2.0     3415\n",
       "Name: overall_rating, dtype: int64"
      ]
     },
     "execution_count": 18,
     "metadata": {},
     "output_type": "execute_result"
    }
   ],
   "source": [
    "reviews['overall_rating'].value_counts()"
   ]
  },
  {
   "cell_type": "code",
   "execution_count": 19,
   "id": "3016f79d",
   "metadata": {},
   "outputs": [
    {
     "data": {
      "text/plain": [
       "overall_rating                                            0\n",
       "review                                                    0\n",
       "hotel_name                                                0\n",
       "Номера_rating                                         50445\n",
       "Расположение_rating                                   50316\n",
       "Обслуживание_rating                                   32202\n",
       "Чистота_rating                                        50025\n",
       "Цена/качество_rating                                  49928\n",
       "Качество сна_rating                                   51744\n",
       "Стойка регистрации_rating                             75996\n",
       "Бизнес-услуги (например, доступ в Интернет)_rating    76088\n",
       "dtype: int64"
      ]
     },
     "execution_count": 19,
     "metadata": {},
     "output_type": "execute_result"
    }
   ],
   "source": [
    "reviews.isna().sum()"
   ]
  },
  {
   "cell_type": "code",
   "execution_count": 20,
   "id": "d64d470a",
   "metadata": {},
   "outputs": [
    {
     "data": {
      "text/plain": [
       "'Приехали на пару дней ! Все стандартно , стараются . Кухня на четыре ! Но еда маленькие но можно переиначивать. Есть все для обычного обывателя . Роскоши нет . Парковка есть но внизу если снегопад то потрудитесь выехать . Рядом река живописное место .  Заехать можно!'"
      ]
     },
     "execution_count": 20,
     "metadata": {},
     "output_type": "execute_result"
    }
   ],
   "source": [
    "reviews[reviews['overall_rating']==3.0].sample()['review'].values[0]"
   ]
  },
  {
   "cell_type": "code",
   "execution_count": null,
   "id": "aa3f3628",
   "metadata": {},
   "outputs": [],
   "source": []
  }
 ],
 "metadata": {
  "kernelspec": {
   "display_name": "Python 3 (ipykernel)",
   "language": "python",
   "name": "python3"
  },
  "language_info": {
   "codemirror_mode": {
    "name": "ipython",
    "version": 3
   },
   "file_extension": ".py",
   "mimetype": "text/x-python",
   "name": "python",
   "nbconvert_exporter": "python",
   "pygments_lexer": "ipython3",
   "version": "3.7.15"
  }
 },
 "nbformat": 4,
 "nbformat_minor": 5
}
