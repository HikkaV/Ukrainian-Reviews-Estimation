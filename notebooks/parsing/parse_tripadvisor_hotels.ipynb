{
 "cells": [
  {
   "cell_type": "code",
   "execution_count": 1,
   "id": "177e3218",
   "metadata": {},
   "outputs": [],
   "source": [
    "import bs4 \n",
    "import pandas as pd \n",
    "import numpy as np\n",
    "import seaborn as sns\n",
    "import matplotlib.pyplot as plt\n",
    "import requests\n",
    "from multiprocessing.pool import ThreadPool\n",
    "from tqdm import tqdm\n",
    "import time\n",
    "from selenium import webdriver\n",
    "from selenium.webdriver.common.by import By\n",
    "from selenium.webdriver.support.ui import Select\n",
    "from selenium.common.exceptions import ElementClickInterceptedException, StaleElementReferenceException\n",
    "import os\n",
    "from random_user_agent.user_agent import UserAgent\n",
    "from random_user_agent.params import SoftwareName, OperatingSystem\n",
    "from selenium.webdriver.support.ui import WebDriverWait\n",
    "from selenium.webdriver.support import expected_conditions as EC\n",
    "import json\n",
    "import pickle\n",
    "import urllib\n",
    "sns.set()"
   ]
  },
  {
   "cell_type": "code",
   "execution_count": 2,
   "id": "f09d43c4",
   "metadata": {},
   "outputs": [],
   "source": [
    "from multiprocessing.pool import Pool\n",
    "from contextlib import closing"
   ]
  },
  {
   "cell_type": "code",
   "execution_count": 3,
   "id": "24f7b44f",
   "metadata": {},
   "outputs": [],
   "source": [
    "def multiprocess_func(main_input, func, additional_inputs=None,\n",
    "                      gather_func=None, to_split=True, gather_func_args=None,\n",
    "                      chunk_size=100, n_processes=8):\n",
    "    if not gather_func_args:\n",
    "        gather_func_args = []\n",
    "    if not additional_inputs:\n",
    "        additional_inputs = []\n",
    "    if not gather_func:\n",
    "        gather_func = lambda x: [z for i in x for z in i]\n",
    "    if to_split:\n",
    "        splitted = [(main_input[i:i + chunk_size], *additional_inputs) if additional_inputs else main_input[i:i + chunk_size]\\\n",
    "                    for i in range(0, len(main_input), chunk_size)]\n",
    "    else:\n",
    "        splitted = [(i, *additional_inputs) if additional_inputs else i for i in main_input]\n",
    "    with closing(Pool(n_processes)) as p:\n",
    "        result = list(tqdm(p.imap(func, splitted),\n",
    "                           total=len(splitted)))\n",
    "    return gather_func(result, *gather_func_args)"
   ]
  },
  {
   "cell_type": "markdown",
   "id": "51318547",
   "metadata": {},
   "source": [
    "# First level parsing"
   ]
  },
  {
   "cell_type": "code",
   "execution_count": 4,
   "id": "7505164d",
   "metadata": {},
   "outputs": [],
   "source": [
    "software_names = [SoftwareName.CHROME.value]\n",
    "operating_systems = [OperatingSystem.LINUX.value, OperatingSystem.WINDOWS.value, OperatingSystem.MACOS.value]\n",
    "user_agent_rotator = UserAgent(software_names=software_names,\n",
    "                              operating_systems=operating_systems,\n",
    "                              limit=100)\n",
    "main_link = 'https://www.tripadvisor.ru/Hotels-g294473-Ukraine-Hotels.html#LEAF_GEO_LIST'"
   ]
  },
  {
   "cell_type": "code",
   "execution_count": 5,
   "id": "46781a6c",
   "metadata": {},
   "outputs": [],
   "source": [
    "main_url = 'https://www.tripadvisor.ru/'"
   ]
  },
  {
   "cell_type": "code",
   "execution_count": 9,
   "id": "310dc3c9",
   "metadata": {},
   "outputs": [],
   "source": [
    "def parse_sites(main_link, user_agent_rotator, max_ex=100):\n",
    "    first_button_xpath = '//*[@id=\"component_7\"]/div/button'\n",
    "    next_page_xpath = '//*[@id=\"taplc_main_pagination_bar_hotels_less_links_v2_0\"]/div/div/div/span[2]'\n",
    "    \n",
    "    user = user_agent_rotator.get_random_user_agent()\n",
    "    custom_options = webdriver.ChromeOptions()\n",
    "    custom_options = webdriver.ChromeOptions()\n",
    "    custom_options.add_argument(f'user_agent={user}')\n",
    "    \n",
    "    driver = webdriver.Chrome(options=custom_options)\n",
    "    driver.get(main_link)\n",
    "    WebDriverWait(driver, 90).until(EC.presence_of_element_located((By.XPATH, first_button_xpath)))\n",
    "    driver.find_element(by=By.XPATH, value=first_button_xpath).click()\n",
    "    \n",
    "    pages = [driver.page_source]\n",
    "    ex_counter=0\n",
    "    while True:\n",
    "        try:\n",
    "            WebDriverWait(driver, 90).until(EC.presence_of_element_located((By.XPATH, next_page_xpath)))\n",
    "            driver.find_element(by=By.XPATH, value=next_page_xpath).click()\n",
    "            ex_counter = 0\n",
    "        except Exception as ex:\n",
    "            if not isinstance(ex, (StaleElementReferenceException, ElementClickInterceptedException)):\n",
    "                print(ex)\n",
    "                break\n",
    "            else:\n",
    "                ex_counter+=1\n",
    "                \n",
    "            if ex_counter>=max_ex:\n",
    "                break\n",
    "        time.sleep(15)\n",
    "        pages.append(driver.page_source)\n",
    "    driver.quit()\n",
    "    return pages"
   ]
  },
  {
   "cell_type": "code",
   "execution_count": 10,
   "id": "f844121f",
   "metadata": {},
   "outputs": [],
   "source": [
    "def parse_first_lvl(page):\n",
    "    soup = bs4.BeautifulSoup(page)\n",
    "    to_save = []\n",
    "    for ui_column in soup.find_all('div', {'class':'ui_column is-8 main_col allowEllipsis'}):\n",
    "        try:\n",
    "            bubble_rating_parsed = ui_column.find('a', {'data-clicksource':'BubbleRating'})\n",
    "\n",
    "            to_save.append((bubble_rating_parsed.get('alt'), bubble_rating_parsed.get('href'),\n",
    "                        ui_column.find('div', {'class':'listing_title'}).text))\n",
    "        except:\n",
    "            pass\n",
    "    return to_save"
   ]
  },
  {
   "cell_type": "code",
   "execution_count": null,
   "id": "a249173e",
   "metadata": {},
   "outputs": [],
   "source": [
    "pages = parse_sites(main_link, user_agent_rotator)"
   ]
  },
  {
   "cell_type": "code",
   "execution_count": null,
   "id": "3bf0e0bb",
   "metadata": {},
   "outputs": [],
   "source": [
    "hotels_df = pd.DataFrame(multiprocess_func(pages, parse_first_lvl,\n",
    "                      gather_func=None, to_split=False,\n",
    "                      n_processes=8), columns=['rating', 'link', 'title'])"
   ]
  },
  {
   "cell_type": "code",
   "execution_count": null,
   "id": "35057d82",
   "metadata": {},
   "outputs": [],
   "source": [
    "hotels_df = hotels_df.drop_duplicates()"
   ]
  },
  {
   "cell_type": "code",
   "execution_count": 13,
   "id": "da7a9362",
   "metadata": {},
   "outputs": [],
   "source": [
    "hotels_df['link'] = hotels_df['link'].apply(lambda x: urllib.parse.urljoin(main_url, x))\n",
    "hotels_df['title'] = hotels_df['title'].apply(lambda x: '.'.join(x.split('.')[1:]).strip())\n",
    "hotels_df['rating'] = hotels_df['rating'].apply(lambda x: float(x.split('of')[0].strip().replace(',','.')))"
   ]
  },
  {
   "cell_type": "code",
   "execution_count": 46,
   "id": "13cd8263",
   "metadata": {},
   "outputs": [],
   "source": [
    "hotels_df['parsed'] = False"
   ]
  },
  {
   "cell_type": "code",
   "execution_count": 47,
   "id": "714ef4e9",
   "metadata": {},
   "outputs": [],
   "source": [
    "hotels_df.to_csv('hotels_links.csv', index=False)"
   ]
  },
  {
   "cell_type": "markdown",
   "id": "e1236cfb",
   "metadata": {},
   "source": [
    "# Second level parsing with translate + selenium"
   ]
  },
  {
   "cell_type": "code",
   "execution_count": 61,
   "id": "2c846bd2",
   "metadata": {},
   "outputs": [],
   "source": [
    "hotels_df = pd.read_csv('hotels_links.csv')"
   ]
  },
  {
   "cell_type": "code",
   "execution_count": 6,
   "id": "66c60189",
   "metadata": {},
   "outputs": [],
   "source": [
    "from functools import partial\n",
    "from selenium.webdriver.common.action_chains import ActionChains\n",
    "from random_user_agent.user_agent import UserAgent\n",
    "from random_user_agent.params import OperatingSystem, SoftwareName\n",
    "import pyautogui\n",
    "import threading\n",
    "import multiprocessing\n",
    "from selenium.webdriver.common.proxy import Proxy, ProxyType"
   ]
  },
  {
   "cell_type": "code",
   "execution_count": 7,
   "id": "7b5b4973",
   "metadata": {},
   "outputs": [],
   "source": [
    "software_names = [SoftwareName.CHROME.value]\n",
    "operating_systems = [OperatingSystem.LINUX, OperatingSystem.MACOS.value,\n",
    "                    OperatingSystem.WINDOWS]"
   ]
  },
  {
   "cell_type": "code",
   "execution_count": 8,
   "id": "3f9cd1bd",
   "metadata": {},
   "outputs": [],
   "source": [
    "user_agent_rotator = UserAgent(software_names=software_names,\n",
    "                               operating_systems=operating_systems, limit=hotels_df.shape[0]*2)"
   ]
  },
  {
   "cell_type": "code",
   "execution_count": 9,
   "id": "1d89a3bd",
   "metadata": {},
   "outputs": [],
   "source": [
    "max_ex = 100"
   ]
  },
  {
   "cell_type": "code",
   "execution_count": 10,
   "id": "2f9b534b",
   "metadata": {},
   "outputs": [],
   "source": [
    "def decline_offer(driver, time_sleep=15):\n",
    "    not_interested_xpath = '//*[@id=\"BODY_BLOCK_JQUERY_REFLOW\"]/div[14]/div/div/div[2]/div/div/div/div[2]/div[2]/button[1]'\n",
    "    try:\n",
    "        WebDriverWait(driver, time_sleep).until(EC.presence_of_element_located((By.XPATH, not_interested_xpath)))\n",
    "        driver.find_element(by=By.XPATH, value=button_xpath).click()\n",
    "    except:\n",
    "        pass\n",
    "    "
   ]
  },
  {
   "cell_type": "code",
   "execution_count": 11,
   "id": "e5c0ddf5",
   "metadata": {},
   "outputs": [],
   "source": [
    "def wait_and_click_by_xpath(driver, button_xpath, time_sleep=15):\n",
    "    WebDriverWait(driver, time_sleep).until(EC.presence_of_element_located((By.XPATH, button_xpath)))\n",
    "    driver.find_element(by=By.XPATH, value=button_xpath).click()\n",
    "    "
   ]
  },
  {
   "cell_type": "code",
   "execution_count": 12,
   "id": "55d69dfe",
   "metadata": {},
   "outputs": [],
   "source": [
    "def wait_and_click_by_css(driver, button_css, time_sleep=15):\n",
    "    WebDriverWait(driver, time_sleep).until(EC.presence_of_element_located((By.CSS_SELECTOR, button_css)))\n",
    "    driver.find_element(by=By.CSS_SELECTOR, value=button_css).click()\n",
    "    "
   ]
  },
  {
   "cell_type": "code",
   "execution_count": 13,
   "id": "ca7df4a4",
   "metadata": {},
   "outputs": [],
   "source": [
    "def click_translate(driver, time_sleep=2):\n",
    "    ActionChains(driver).context_click().perform()\n",
    "    time.sleep(time_sleep)\n",
    "    for i in range(8):\n",
    "        pyautogui.press('down')\n",
    "    pyautogui.press('enter')\n",
    "    "
   ]
  },
  {
   "cell_type": "code",
   "execution_count": 14,
   "id": "3fa311ea",
   "metadata": {},
   "outputs": [],
   "source": [
    "def init(lock):\n",
    "    global starting\n",
    "    starting = lock"
   ]
  },
  {
   "cell_type": "code",
   "execution_count": 15,
   "id": "8b571213",
   "metadata": {},
   "outputs": [],
   "source": [
    "def save_pickle(file, path):\n",
    "    with open(path, 'wb') as f:\n",
    "        pickle.dump(file, f)"
   ]
  },
  {
   "cell_type": "code",
   "execution_count": 16,
   "id": "8b33cafb",
   "metadata": {},
   "outputs": [],
   "source": [
    "def get_driver(address, run_headless=False):\n",
    "    custom_options = webdriver.ChromeOptions()\n",
    "    capabilities = capabilities = webdriver.DesiredCapabilities.CHROME\n",
    "    prox = Proxy({\n",
    "        'proxyType': ProxyType.MANUAL,\n",
    "        'httpProxy': address,\n",
    "        'ftpProxy' : address,\n",
    "        'sslProxy' : address,\n",
    "        'noProxy'  : ''\n",
    "    })\n",
    "\n",
    "    prox.add_to_capabilities(capabilities)\n",
    "    prox.autodetect = False\n",
    "    \n",
    "    if run_headless:\n",
    "        custom_options.add_argument('headless')\n",
    "    custom_options.add_argument(\"lang=uk\")\n",
    "    custom_options.add_argument('--ignore-certificate-errors')\n",
    "    custom_options.add_argument('--disable-dev-shm-usage')\n",
    "    driver = webdriver.Chrome(options=custom_options, desired_capabilities=capabilities)\n",
    "    return driver"
   ]
  },
  {
   "cell_type": "code",
   "execution_count": 17,
   "id": "74a72aa9",
   "metadata": {},
   "outputs": [],
   "source": [
    "def parse_reviews(link, path, abs_path, user_agent, max_ex=100,\n",
    "                 parts_scroll=8, to_translate=False, to_scroll=False, \n",
    "                 parallel=False):\n",
    "    #aquire item from queue \n",
    "    driver = drivers.get()\n",
    "    \n",
    "    if parallel and to_translate:\n",
    "        starting.acquire() \n",
    "        \n",
    "    #change user agent\n",
    "    driver.execute_cdp_cmd('Network.setUserAgentOverride', {\"userAgent\": user_agent})\n",
    "\n",
    "    #next page css\n",
    "    next_page_css = '#component_16 > div > div:nth-child(3) > div.MD > div > a'\n",
    "    \n",
    "    #exception handling \n",
    "    passed = {'got_initial_link' : False,\n",
    "    'see_all_languages' : False}\n",
    "    \n",
    "    caught_ex = None\n",
    "    \n",
    "    \n",
    "    #initial link getting\n",
    "    time.sleep(5)\n",
    "    driver.get(link)\n",
    "\n",
    "    passed['got_initial_link'] = True\n",
    "    \n",
    "    #decline offer\n",
    "    decline_offer(driver, time_sleep=15)\n",
    "    \n",
    "    #see all languages\n",
    "    try:\n",
    "        wait_and_click_by_xpath(driver, '//*[@id=\"component_16\"]/div/div[3]/div[1]/div[1]/div[4]/ul/li[1]/label',\n",
    "                               180)\n",
    "        passed['see_all_languages'] = True\n",
    "        time.sleep(5)    \n",
    "    except:\n",
    "        passed['see_all_languages'] = False\n",
    "    \n",
    "    \n",
    "    #click translate\n",
    "    if to_translate:\n",
    "        driver.switch_to.window(driver.current_window_handle)\n",
    "        time.sleep(2)\n",
    "        click_translate(driver)\n",
    "        time.sleep(10)\n",
    "        passed['click_translate'] = True\n",
    "    \n",
    "        if parallel:\n",
    "            threading.Timer(1, starting.release).start()\n",
    "        \n",
    "    pages = []\n",
    "    ex_counter=0\n",
    "    c = 0\n",
    "    \n",
    "    current_height = driver.execute_script(\"return window.scrollY\")\n",
    "    \n",
    "    while True:\n",
    "        passed['show_more'] = False\n",
    "        \n",
    "        if to_scroll:\n",
    "            passed['scroll'] = False\n",
    "            \n",
    "        passed['next_page'] = False\n",
    "        \n",
    "        if c!=0:\n",
    "            next_page_css = '#component_16 > div > div:nth-child(3) > div.MD > div > a.ui_button.nav.next.primary'\n",
    "            \n",
    "        try:\n",
    "            #show more \n",
    "            wait_and_click_by_css(driver, '#component_16 > div > div:nth-child(3) > div:nth-child(3) > div.WAllg._T > div.vTVDc > div._T.FKffI.bmUTE > div.lszDU > div > span.Ignyf._S.Z',\n",
    "                                 30)\n",
    "            time.sleep(2)\n",
    "            passed['show_more'] = True\n",
    "            \n",
    "            if to_scroll:\n",
    "                # scrolling\n",
    "                overall_height = driver.execute_script(\"return document.documentElement.scrollHeight\")\n",
    "                batch = (overall_height-current_height)//parts_scroll\n",
    "                scroll_len = batch\n",
    "                for i in range(parts_scroll-1):\n",
    "                    driver.execute_script(f\"window.scrollTo(0, {current_height+scroll_len});\")\n",
    "                    scroll_len+=batch\n",
    "                    time.sleep(2)\n",
    "\n",
    "                driver.execute_script(f\"window.scrollTo(0, {current_height});\")\n",
    "                time.sleep(2)\n",
    "\n",
    "                passed['scroll'] = True\n",
    "            \n",
    "            pages.append(driver.page_source)\n",
    "            \n",
    "            #next page\n",
    "            wait_and_click_by_css(driver, next_page_css,90)                \n",
    "            passed['next_page'] = True\n",
    "            \n",
    "            ex_counter = 0\n",
    "            c+=1\n",
    "        except Exception as ex:\n",
    "            if not isinstance(ex, (StaleElementReferenceException, ElementClickInterceptedException)):\n",
    "                caught_ex = ex\n",
    "                break\n",
    "            else:\n",
    "                ex_counter+=1\n",
    "            if ex_counter>=max_ex:\n",
    "                break   \n",
    "        finally:\n",
    "            #needed only if we wait for translate to load\n",
    "            if to_translate:\n",
    "                time.sleep(3)\n",
    "                \n",
    "    time.sleep(2)\n",
    "        \n",
    "    if not caught_ex:\n",
    "        passed = dict([(k, True) for k in passed.keys()])\n",
    "        \n",
    "    try:\n",
    "        passed['num_overall'] = int(bs4.BeautifulSoup(pages[0]).find_all('span', {'data-test-target':'CC_TAB_Reviews_LABEL'})[0]\\\n",
    "        .find('span', {'class':'iypZC Mc _R b'}).text)\n",
    "        passed['got_overall_num'] = True\n",
    "    except:\n",
    "        passed['got_overall_num'] = False\n",
    "        passed['num_overall'] = 0\n",
    "        \n",
    "    passed['num_parsed'] = len(pages)*5\n",
    "    passed['exception'] = caught_ex\n",
    "    passed['link'] = link\n",
    "    passed['hotel_name'] = path\n",
    "    \n",
    "    #saving to file in order not to consume to much memory\n",
    "    save_pickle(pages, os.path.join(abs_path, path))\n",
    "    time.sleep(1)\n",
    "    \n",
    "    #put item to queue\n",
    "    drivers.put(driver)\n",
    "    \n",
    "    return passed"
   ]
  },
  {
   "cell_type": "code",
   "execution_count": 18,
   "id": "9f749f85",
   "metadata": {},
   "outputs": [],
   "source": [
    "def check_ip_proxy(address):\n",
    "    options = webdriver.ChromeOptions()\n",
    "    options.add_argument('--ignore-certificate-errors')\n",
    "    options.add_argument('headless')\n",
    "    prox = Proxy({\n",
    "            'proxyType': ProxyType.MANUAL,\n",
    "            'httpProxy': address,\n",
    "            'ftpProxy' : address,\n",
    "            'sslProxy' : address,\n",
    "            'noProxy'  : ''\n",
    "        })\n",
    "    prox.autodetect = True\n",
    "    \n",
    "    capabilities = webdriver.DesiredCapabilities.CHROME\n",
    "    prox.add_to_capabilities(capabilities)\n",
    "\n",
    "    driver = webdriver.Chrome(options=options, desired_capabilities=capabilities)\n",
    "    driver.get('https://api.ipify.org/')\n",
    "    ip_address = driver.find_element(By.TAG_NAME, \"body\").text\n",
    "    driver.quit()\n",
    "    \n",
    "    return ip_address"
   ]
  },
  {
   "cell_type": "code",
   "execution_count": 19,
   "id": "a93619be",
   "metadata": {},
   "outputs": [],
   "source": [
    "def check_change_ip(address, default_ip_address, debug=False):\n",
    "    try:\n",
    "        ip_address = check_ip_proxy(address)\n",
    "    except:\n",
    "        ip_address = None\n",
    "    \n",
    "    if debug:\n",
    "        print(f'Old ip: {default_ip_address}, new ip : {ip_address}')\n",
    "        \n",
    "    if default_ip_address!=ip_address and ip_address:\n",
    "        if debug:\n",
    "            print('IPs are different')\n",
    "        return True\n",
    "    return False"
   ]
  },
  {
   "cell_type": "markdown",
   "id": "47747028",
   "metadata": {},
   "source": [
    "## proxies list"
   ]
  },
  {
   "cell_type": "code",
   "execution_count": 20,
   "id": "c7ad83a7",
   "metadata": {},
   "outputs": [],
   "source": [
    "proxies_list = \"\"\"\n",
    "66.29.154.105:3128\n",
    "45.79.111.38:9994\n",
    "139.59.1.14:8080\n",
    "149.129.191.110:8080\n",
    "159.138.169.48:8080\n",
    "169.57.1.85:8123\n",
    "146.196.48.2:80\n",
    "121.1.41.162:111\n",
    "219.78.228.211:80\n",
    "138.68.235.51:80\n",
    "128.199.202.122:8080\n",
    "47.254.47.61:8080\n",
    "202.6.233.133:80\n",
    "173.212.195.139:80\n",
    "103.152.112.162:80\n",
    "35.193.113.186:80\n",
    "185.125.125.157:80\n",
    "62.171.188.233:8000\n",
    "139.99.237.62:80\n",
    "68.183.111.90:80\n",
    "47.74.152.29:8888\n",
    "51.159.207.156:3128\n",
    "83.229.72.174:80\n",
    "20.54.56.26:8080\n",
    "183.89.165.39:8080\n",
    "158.193.206.136:8080\n",
    "200.105.215.18:33630\n",
    "20.111.54.16:80\n",
    "20.206.106.192:8123\n",
    "42.3.182.149:80\n",
    "219.78.194.41:80\n",
    "43.154.216.109:80\n",
    "203.198.207.253:80\n",
    "81.200.123.74:80\n",
    "110.164.3.7:8888\n",
    "112.120.41.171:80\n",
    "219.77.188.21:80\n",
    "20.210.113.32:8123\n",
    "20.24.43.214:8123\n",
    "201.91.18.82:8000\n",
    "8.209.246.6:80\n",
    "45.153.185.174:80\n",
    "185.15.172.212:3128\n",
    "193.122.71.184:3128\n",
    "80.48.119.28:8080\n",
    "41.65.252.105:1981\n",
    "41.65.236.43:1976\n",
    "198.59.191.234:8080\n",
    "177.12.238.1:3128\n",
    "45.169.162.1:3128\n",
    "177.12.238.100:3128\n",
    "198.49.68.80:80\n",
    "165.154.243.252:80\n",
    "130.41.55.190:8080\n",
    "164.132.170.100:80\n",
    "78.157.42.105:80\n",
    "41.188.149.79:80\n",
    "165.154.226.12:80\n",
    "180.211.158.122:58375\n",
    "165.154.243.53:80\n",
    "221.132.18.26:8090\n",
    "165.154.225.65:80\n",
    "221.132.28.18:8090\n",
    "129.154.54.57:3128\n",
    "49.207.36.81:80\n",
    "164.92.75.10:80\n",
    "187.32.147.196:80\n",
    "139.162.153.173:80\n",
    "58.27.59.249:80\n",
    "78.157.42.106:80\n",
    "118.26.110.48:8080\n",
    "23.238.33.186:80\n",
    "161.35.223.141:80\n",
    "149.129.239.170:8080\n",
    "41.33.219.141:8080\n",
    "51.15.242.202:8888\n",
    "204.185.204.64:8080\n",
    "187.60.46.119:80\n",
    "178.79.191.47:54417\n",
    "8.209.64.208:8080\n",
    "137.184.197.190:80\n",
    "118.42.15.57:4003\n",
    "70.90.138.109:8080\n",
    "190.120.250.122:999\n",
    "187.188.167.108:8080\n",
    "45.32.101.24:80\n",
    "96.126.124.197:81\n",
    "47.241.245.186:80\n",
    "167.99.236.14:80\n",
    "117.54.114.35:80\n",
    "178.79.138.253:8080\n",
    "178.217.172.206:55443\n",
    "47.253.214.60:57114\n",
    "144.217.240.185:9300\n",
    "72.55.155.80:80\n",
    "61.78.63.200:30000\n",
    "47.252.1.180:3128\n",
    "3.212.9.208:80\n",
    "173.255.209.155:1080\n",
    "194.195.216.153:4145\n",
    "185.216.116.18:80\n",
    "188.166.164.141:80\n",
    "51.91.62.219:80\n",
    "103.66.196.218:23500\n",
    "188.0.147.102:3128\n",
    "172.105.13.173:80\n",
    "135.181.199.92:9300\n",
    "45.79.94.19:80\n",
    "172.104.206.170:80\n",
    "148.204.171.217:80\n",
    "103.167.134.31:80\n",
    "172.104.111.212:80\n",
    "213.14.174.70:3128\n",
    "43.129.223.147:38080\n",
    "113.161.59.136:8080\n",
    "62.33.8.148:8081\n",
    "143.0.67.18:8080\n",
    "141.11.182.4:3128\n",
    "62.122.201.105:8080\n",
    "103.174.234.71:8080\n",
    "45.56.75.90:5344\n",
    "45.79.142.211:3128\n",
    "47.254.195.196:8080\n",
    "8.209.249.96:8080\n",
    "201.229.250.22:8080\n",
    "172.105.172.220:3128\n",
    "146.59.199.12:80\n",
    "207.154.252.96:80\n",
    "44.193.229.111:80\n",
    "51.38.71.232:80\n",
    "143.244.134.24:80\n",
    "142.93.223.246:80\n",
    "141.95.122.232:80\n",
    "158.193.206.137:8080\n",
    "54.161.135.247:80\n",
    "100.20.101.185:80\n",
    "178.128.55.68:36894\n",
    "82.223.102.92:9443\n",
    "44.197.16.217:80\n",
    "161.97.92.160:80\n",
    "50.18.70.79:80\n",
    "54.86.198.153:80\n",
    "94.242.55.10:80\n",
    "72.170.220.17:8080\n",
    "52.47.137.181:80\n",
    "116.111.93.89:5000\n",
    "20.81.62.32:3128\n",
    "34.81.72.31:80\n",
    "187.60.46.118:80\n",
    "47.90.202.21:24007\n",
    "64.227.14.149:80\n",
    "202.169.229.139:53281\n",
    "194.31.55.247:80\n",
    "34.142.43.20:80\n",
    "167.99.210.216:80\n",
    "13.81.217.201:80\n",
    "207.154.228.158:80\n",
    "3.109.85.109:80\n",
    "167.99.174.59:80\n",
    "45.120.136.104:80\n",
    "128.199.13.74:80\n",
    "74.208.212.244:3128\n",
    "112.78.137.106:8080\n",
    "77.68.117.95:3128\n",
    "13.127.179.255:80\n",
    "5.189.184.6:80\n",
    "149.129.179.23:8080\n",
    "185.105.102.179:80\n",
    "158.193.206.135:8080\n",
    "3.1.248.232:80\n",
    "14.139.242.7:80\n",
    "143.198.228.250:80\n",
    "121.155.237.155:8080\n",
    "116.58.166.194:8080\n",
    "45.79.253.142:3128\n",
    "187.60.46.114:80\n",
    "124.106.226.240:3128\n",
    "115.96.208.124:8080\n",
    "45.149.43.56:53281\n",
    "50.192.195.69:52018\n",
    "207.180.228.55:80\n",
    "46.242.131.110:8000\n",
    "159.203.13.121:80\n",
    "209.126.6.159:80\n",
    "14.207.205.75:8080\n",
    "91.233.169.23:8081\n",
    "212.73.73.234:8081\n",
    "187.87.206.97:3128\n",
    "12.144.254.185:9080\n",
    "192.53.163.144:3128\n",
    "206.189.146.13:8080\n",
    "62.193.68.91:1976\n",
    "159.138.158.36:8888\n",
    "188.235.0.207:8282\n",
    "172.105.184.208:8001\n",
    "162.144.233.16:80\n",
    "158.193.206.131:8080\n",
    "187.60.46.112:80\n",
    "161.35.214.127:46795\n",
    "41.39.244.130:32604\n",
    "103.248.120.5:8080\n",
    "103.80.237.211:3888\n",
    "69.75.140.157:8080\n",
    "138.121.161.83:8190\n",
    "168.196.124.149:999\n",
    "193.46.80.15:8086\n",
    "45.79.208.64:44554\n",
    "212.71.255.43:38613\n",
    "170.187.141.197:8080\n",
    "172.104.252.86:80\n",
    "8.210.83.33:80\n",
    "15.236.134.130:80\n",
    "118.140.152.250:80\n",
    "96.126.103.64:9991\n",
    "172.105.190.51:8017\n",
    "149.129.187.190:3128\n",
    "47.245.34.161:8080\n",
    "20.212.168.206:80\n",
    "38.94.109.12:80\n",
    "116.58.254.126:8080\n",
    "198.74.56.87:3128\n",
    "47.243.244.2:80\n",
    "216.137.184.253:80\n",
    "143.198.182.218:80\n",
    "147.139.164.26:8080\n",
    "149.129.213.200:8080\n",
    "43.255.113.232:8082\n",
    "54.210.239.35:80\n",
    "187.60.46.117:80\n",
    "187.60.46.116:80\n",
    "173.249.37.45:5005\n",
    "128.0.179.234:41258\n",
    "134.209.241.12:80\n",
    "52.200.191.158:80\n",
    "80.81.243.26:8800\n",
    "200.114.97.200:999\n",
    "187.188.108.114:8080\n",
    "212.23.217.47:8080\n",
    "170.155.2.119:80\n",
    "18.188.246.60:80\n",
    "82.66.196.208:80\n",
    "8.210.149.174:80\n",
    "155.4.244.218:80\n",
    "103.59.41.180:10919\n",
    "200.7.10.158:8080\n",
    "45.79.158.235:1080\n",
    "198.11.175.192:8080\n",
    "187.60.46.113:80\n",
    "3.226.168.144:80\n",
    "110.238.113.119:8080\n",
    "196.1.95.117:80\n",
    "103.133.26.107:8181\n",
    "173.197.167.242:8080\n",
    "203.24.103.63:80\n",
    "45.85.160.67:7159\n",
    "194.110.150.44:8085\n",
    "23.95.69.132:3128\n",
    "23.94.242.35:3128\n",
    "106.107.205.112:80\n",
    "23.227.38.200:80\n",
    "193.233.138.229:8085\n",
    "193.233.228.142:8085\n",
    "154.201.34.215:3128\n",
    "193.202.15.74:8085\n",
    "149.18.56.148:8085\n",
    "203.22.223.39:80\n",
    "149.18.59.55:8085\n",
    "154.201.33.156:3128\n",
    "193.233.137.238:8085\n",
    "154.201.38.52:3128\n",
    "193.233.228.45:8085\n",
    "91.188.247.130:8085\n",
    "154.201.33.220:3128\n",
    "45.199.132.85:3128\n",
    "154.201.34.39:3128\n",
    "203.34.28.124:80\n",
    "203.24.102.76:80\n",
    "185.162.231.163:80\n",
    "45.145.129.81:8085\n",
    "154.201.37.27:3128\n",
    "85.208.209.219:8085\n",
    "154.201.34.152:3128\n",
    "154.201.37.222:3128\n",
    "154.201.33.131:3128\n",
    "170.244.93.150:7711\n",
    "203.32.121.9:80\n",
    "91.226.97.248:80\n",
    "203.13.32.1:80\n",
    "45.8.105.254:80\n",
    "154.201.34.140:3128\n",
    "85.208.209.154:8085\n",
    "66.151.50.58:6861\n",
    "193.233.143.232:8085\n",
    "85.209.151.221:8085\n",
    "154.201.34.244:3128\n",
    "154.201.33.15:3128\n",
    "154.201.37.45:3128\n",
    "149.18.56.174:8085\n",
    "5.183.253.175:8085\n",
    "45.72.40.35:9129\n",
    "\"\"\""
   ]
  },
  {
   "cell_type": "code",
   "execution_count": 21,
   "id": "a3e6a0a3",
   "metadata": {},
   "outputs": [],
   "source": [
    "proxies_list = [i for i in proxies_list.split('\\n') if i]"
   ]
  },
  {
   "cell_type": "code",
   "execution_count": 22,
   "id": "423b1d2a",
   "metadata": {},
   "outputs": [],
   "source": [
    "default_ip = check_ip_proxy('')"
   ]
  },
  {
   "cell_type": "code",
   "execution_count": 23,
   "id": "2208e9e0",
   "metadata": {},
   "outputs": [
    {
     "data": {
      "text/plain": [
       "'185.235.174.60'"
      ]
     },
     "execution_count": 23,
     "metadata": {},
     "output_type": "execute_result"
    }
   ],
   "source": [
    "default_ip"
   ]
  },
  {
   "cell_type": "code",
   "execution_count": 24,
   "id": "11b57a9e",
   "metadata": {},
   "outputs": [],
   "source": [
    "n_threads = 8"
   ]
  },
  {
   "cell_type": "code",
   "execution_count": 25,
   "id": "0a0d0823",
   "metadata": {},
   "outputs": [],
   "source": [
    "check_change_ip_partial = partial(check_change_ip, default_ip_address=default_ip)"
   ]
  },
  {
   "cell_type": "code",
   "execution_count": 26,
   "id": "63287df8",
   "metadata": {},
   "outputs": [
    {
     "name": "stderr",
     "output_type": "stream",
     "text": [
      "100%|█████████████████████████████████████████| 300/300 [05:14<00:00,  1.05s/it]\n"
     ]
    }
   ],
   "source": [
    "with closing(ThreadPool(n_threads)) as p:\n",
    "        mask = list(tqdm(p.imap(check_change_ip_partial, proxies_list), total=len(proxies_list)))"
   ]
  },
  {
   "cell_type": "code",
   "execution_count": 27,
   "id": "ed39202b",
   "metadata": {},
   "outputs": [],
   "source": [
    "proxies_list = [i for c, i in enumerate(proxies_list) if mask[c]]"
   ]
  },
  {
   "cell_type": "code",
   "execution_count": 28,
   "id": "5ad6d1ce",
   "metadata": {},
   "outputs": [
    {
     "data": {
      "text/plain": [
       "18"
      ]
     },
     "execution_count": 28,
     "metadata": {},
     "output_type": "execute_result"
    }
   ],
   "source": [
    "len(proxies_list)"
   ]
  },
  {
   "cell_type": "markdown",
   "id": "3ed09ed3",
   "metadata": {},
   "source": [
    "## parsing itself"
   ]
  },
  {
   "cell_type": "code",
   "execution_count": 45,
   "id": "ee3e2143",
   "metadata": {},
   "outputs": [],
   "source": [
    "import os\n",
    "import queue"
   ]
  },
  {
   "cell_type": "code",
   "execution_count": 46,
   "id": "74ce48bf",
   "metadata": {},
   "outputs": [],
   "source": [
    "ABS_PATH = 'trip_advisor_data'\n",
    "if not os.path.exists(ABS_PATH):\n",
    "    os.mkdir(ABS_PATH)"
   ]
  },
  {
   "cell_type": "code",
   "execution_count": 47,
   "id": "e50211b3",
   "metadata": {},
   "outputs": [],
   "source": [
    "n_threads = 2\n",
    "to_translate = False\n",
    "to_scroll = False\n",
    "parallel = True\n",
    "headless = False"
   ]
  },
  {
   "cell_type": "code",
   "execution_count": 48,
   "id": "1efe3a1d",
   "metadata": {},
   "outputs": [],
   "source": [
    "drivers = queue.Queue(maxsize=n_threads)\n",
    "[drivers.put(get_driver(address=proxies_list[3],\n",
    "                        run_headless=headless)) for i in range(n_threads)];"
   ]
  },
  {
   "cell_type": "code",
   "execution_count": 49,
   "id": "0f69b5d5",
   "metadata": {},
   "outputs": [],
   "source": [
    "parse_reviews_partial = partial(parse_reviews,\n",
    "                                 max_ex=max_ex, parts_scroll=5,\n",
    "                                 to_translate=to_translate,\n",
    "                                 to_scroll=to_scroll,\n",
    "                               parallel=parallel,\n",
    "                               abs_path=ABS_PATH)"
   ]
  },
  {
   "cell_type": "code",
   "execution_count": 50,
   "id": "f2b926ee",
   "metadata": {},
   "outputs": [],
   "source": [
    "user_agents = [user_agent_rotator.get_random_user_agent() for i in range(hotels_df.shape[0])]"
   ]
  },
  {
   "cell_type": "code",
   "execution_count": 51,
   "id": "70c9a9b6",
   "metadata": {},
   "outputs": [],
   "source": [
    "sub_df = hotels_df[hotels_df['parsed']==False]\n",
    "input_tuples = list(zip(sub_df['link'].values.tolist(), sub_df['title'].values.tolist(), user_agents))[:4]"
   ]
  },
  {
   "cell_type": "code",
   "execution_count": 52,
   "id": "f8f5a4b6",
   "metadata": {},
   "outputs": [],
   "source": [
    "def parse_reviews_multiprocessing(input_tuple):\n",
    "    link, path, user_agent = input_tuple\n",
    "    passed_dict = parse_reviews_partial(link, path=path, user_agent=user_agent)\n",
    "    return passed_dict"
   ]
  },
  {
   "cell_type": "code",
   "execution_count": 53,
   "id": "97948ca7",
   "metadata": {},
   "outputs": [
    {
     "name": "stderr",
     "output_type": "stream",
     "text": [
      "100%|████████████████████████████████████████████| 4/4 [17:18<00:00, 259.54s/it]\n"
     ]
    }
   ],
   "source": [
    "if parallel and to_translate:\n",
    "    with closing(ThreadPool(n_threads, init, initargs=[multiprocessing.Lock()])) as p:\n",
    "        results = list(tqdm(p.imap(parse_reviews_multiprocessing, input_tuples), total=len(input_tuples)))\n",
    "else:\n",
    "    with closing(ThreadPool(n_threads)) as p:\n",
    "        results = list(tqdm(p.imap(parse_reviews_multiprocessing, input_tuples), total=len(input_tuples)))"
   ]
  },
  {
   "cell_type": "code",
   "execution_count": 54,
   "id": "0f2479d9",
   "metadata": {},
   "outputs": [],
   "source": [
    "for _ in range(drivers.qsize()):\n",
    "    drivers.get().quit()"
   ]
  },
  {
   "cell_type": "markdown",
   "id": "193f2aa6",
   "metadata": {},
   "source": [
    "## mark those we parsed sucessfully"
   ]
  },
  {
   "cell_type": "code",
   "execution_count": 56,
   "id": "dafe3fe4",
   "metadata": {},
   "outputs": [],
   "source": [
    "mask_passed = dict([(i['link'], i['num_parsed']/i['num_overall']>0.8) for i in results])"
   ]
  },
  {
   "cell_type": "code",
   "execution_count": 57,
   "id": "d0d9bce3",
   "metadata": {},
   "outputs": [
    {
     "data": {
      "text/plain": [
       "{'https://www.tripadvisor.ru/Hotel_Review-g295377-d8318640-Reviews-Ibis_Styles_Lviv_Center-Lviv_Lviv_Oblast.html#REVIEWS': True,\n",
       " 'https://www.tripadvisor.ru/Hotel_Review-g295377-d305221-Reviews-Grand_Hotel_Lviv_Luxury_Spa-Lviv_Lviv_Oblast.html#REVIEWS': False,\n",
       " 'https://www.tripadvisor.ru/Hotel_Review-g1816350-d3426924-Reviews-Radisson_Blu_Resort_Bukovel-Yaremche_Ivano_Frankivsk_Oblast.html#REVIEWS': True,\n",
       " 'https://www.tripadvisor.ru/Hotel_Review-g295377-d4061858-Reviews-Astoria_Hotel-Lviv_Lviv_Oblast.html#REVIEWS': True}"
      ]
     },
     "execution_count": 57,
     "metadata": {},
     "output_type": "execute_result"
    }
   ],
   "source": [
    "mask_passed"
   ]
  },
  {
   "cell_type": "code",
   "execution_count": 62,
   "id": "05765578",
   "metadata": {},
   "outputs": [],
   "source": [
    "hotels_df.loc[hotels_df['parsed']==False,'parsed'] = hotels_df.loc[hotels_df['parsed']==False,'link']\\\n",
    ".apply(lambda x: mask_passed.get(x, False))"
   ]
  },
  {
   "cell_type": "code",
   "execution_count": 63,
   "id": "f5e5b979",
   "metadata": {},
   "outputs": [
    {
     "data": {
      "text/html": [
       "<div>\n",
       "<style scoped>\n",
       "    .dataframe tbody tr th:only-of-type {\n",
       "        vertical-align: middle;\n",
       "    }\n",
       "\n",
       "    .dataframe tbody tr th {\n",
       "        vertical-align: top;\n",
       "    }\n",
       "\n",
       "    .dataframe thead th {\n",
       "        text-align: right;\n",
       "    }\n",
       "</style>\n",
       "<table border=\"1\" class=\"dataframe\">\n",
       "  <thead>\n",
       "    <tr style=\"text-align: right;\">\n",
       "      <th></th>\n",
       "      <th>rating</th>\n",
       "      <th>link</th>\n",
       "      <th>title</th>\n",
       "      <th>parsed</th>\n",
       "    </tr>\n",
       "  </thead>\n",
       "  <tbody>\n",
       "    <tr>\n",
       "      <th>0</th>\n",
       "      <td>4.5</td>\n",
       "      <td>https://www.tripadvisor.ru/Hotel_Review-g29537...</td>\n",
       "      <td>ibis Styles Lviv Center</td>\n",
       "      <td>True</td>\n",
       "    </tr>\n",
       "    <tr>\n",
       "      <th>1</th>\n",
       "      <td>4.5</td>\n",
       "      <td>https://www.tripadvisor.ru/Hotel_Review-g29536...</td>\n",
       "      <td>NEMO Hotel Resort &amp; Spa</td>\n",
       "      <td>True</td>\n",
       "    </tr>\n",
       "    <tr>\n",
       "      <th>2</th>\n",
       "      <td>4.5</td>\n",
       "      <td>https://www.tripadvisor.ru/Hotel_Review-g29537...</td>\n",
       "      <td>Grand Hotel Lviv Luxury &amp; Spa</td>\n",
       "      <td>False</td>\n",
       "    </tr>\n",
       "    <tr>\n",
       "      <th>3</th>\n",
       "      <td>4.5</td>\n",
       "      <td>https://www.tripadvisor.ru/Hotel_Review-g29447...</td>\n",
       "      <td>Ibis Kiev Railway Station</td>\n",
       "      <td>True</td>\n",
       "    </tr>\n",
       "    <tr>\n",
       "      <th>4</th>\n",
       "      <td>4.5</td>\n",
       "      <td>https://www.tripadvisor.ru/Hotel_Review-g18163...</td>\n",
       "      <td>Radisson Blu Resort Bukovel</td>\n",
       "      <td>True</td>\n",
       "    </tr>\n",
       "  </tbody>\n",
       "</table>\n",
       "</div>"
      ],
      "text/plain": [
       "   rating                                               link  \\\n",
       "0     4.5  https://www.tripadvisor.ru/Hotel_Review-g29537...   \n",
       "1     4.5  https://www.tripadvisor.ru/Hotel_Review-g29536...   \n",
       "2     4.5  https://www.tripadvisor.ru/Hotel_Review-g29537...   \n",
       "3     4.5  https://www.tripadvisor.ru/Hotel_Review-g29447...   \n",
       "4     4.5  https://www.tripadvisor.ru/Hotel_Review-g18163...   \n",
       "\n",
       "                           title  parsed  \n",
       "0        ibis Styles Lviv Center    True  \n",
       "1        NEMO Hotel Resort & Spa    True  \n",
       "2  Grand Hotel Lviv Luxury & Spa   False  \n",
       "3      Ibis Kiev Railway Station    True  \n",
       "4    Radisson Blu Resort Bukovel    True  "
      ]
     },
     "execution_count": 63,
     "metadata": {},
     "output_type": "execute_result"
    }
   ],
   "source": [
    "hotels_df.head()"
   ]
  },
  {
   "cell_type": "code",
   "execution_count": 64,
   "id": "c104ae02",
   "metadata": {},
   "outputs": [
    {
     "data": {
      "text/plain": [
       "False    2924\n",
       "True        5\n",
       "Name: parsed, dtype: int64"
      ]
     },
     "execution_count": 64,
     "metadata": {},
     "output_type": "execute_result"
    }
   ],
   "source": [
    "hotels_df['parsed'].value_counts()"
   ]
  },
  {
   "cell_type": "code",
   "execution_count": 65,
   "id": "d4dc608d",
   "metadata": {},
   "outputs": [],
   "source": [
    "hotels_df.to_csv('hotels_links.csv', index=False)"
   ]
  },
  {
   "cell_type": "markdown",
   "id": "592bda32",
   "metadata": {},
   "source": [
    "## parse reviews using bs4"
   ]
  },
  {
   "cell_type": "code",
   "execution_count": 66,
   "id": "8bf1a5c4",
   "metadata": {},
   "outputs": [],
   "source": [
    "def process_buble(x):\n",
    "    return float('.'.join(x))"
   ]
  },
  {
   "cell_type": "code",
   "execution_count": 67,
   "id": "abb64670",
   "metadata": {},
   "outputs": [],
   "source": [
    "def load_pickle(path):\n",
    "    with open(path,'rb') as f:\n",
    "        file = pickle.load(f)\n",
    "    return file"
   ]
  },
  {
   "cell_type": "code",
   "execution_count": 68,
   "id": "297a696b",
   "metadata": {},
   "outputs": [],
   "source": [
    "def bs4_parse_reviews(input_tuple):\n",
    "    page_to_parse, hotel_name = input_tuple\n",
    "    records = []\n",
    "    try:\n",
    "        for review_page in bs4.BeautifulSoup(page_to_parse).find_all('div', {'class':'WAllg _T'}):\n",
    "\n",
    "            record = {}\n",
    "            record['overall_rating'] = process_buble(review_page.find('div',{'data-test-target':'review-rating'})\\\n",
    "                                           .span['class'][-1].split('_')[-1])\n",
    "            per_type_bubble = review_page.find_all('div', {'class':'hemdC S2 H2 WWOoy'})\n",
    "\n",
    "            if per_type_bubble:\n",
    "                for j in per_type_bubble:\n",
    "                    record[j.text+'_rating'] = process_buble(j.span.span['class'][-1].split('_')[-1])\n",
    "\n",
    "\n",
    "            record['review'] = review_page.find('div',{'class':'fIrGe _T'}).text\n",
    "            record['hotel_name'] = hotel_name\n",
    "            \n",
    "            records.append(record)\n",
    "    except Exception as ex:\n",
    "        print(ex)\n",
    "        \n",
    "    return records"
   ]
  },
  {
   "cell_type": "code",
   "execution_count": 69,
   "id": "251a2927",
   "metadata": {},
   "outputs": [],
   "source": [
    "def parse_reviews_multiproc(name, abs_path):\n",
    "    pages_to_parse = load_pickle(os.path.join(abs_path,name))\n",
    "    records = []\n",
    "    for page in pages_to_parse:\n",
    "        records.extend(bs4_parse_reviews((page, name)))\n",
    "    return records"
   ]
  },
  {
   "cell_type": "code",
   "execution_count": 70,
   "id": "2cd06176",
   "metadata": {},
   "outputs": [],
   "source": [
    "partial_parse_reviews_multiproc = partial(parse_reviews_multiproc, abs_path=ABS_PATH)"
   ]
  },
  {
   "cell_type": "code",
   "execution_count": 71,
   "id": "7803996a",
   "metadata": {},
   "outputs": [],
   "source": [
    "inputs = hotels_df[hotels_df['parsed']==True]['title'].values.tolist()"
   ]
  },
  {
   "cell_type": "code",
   "execution_count": 72,
   "id": "aae4d1a4",
   "metadata": {},
   "outputs": [
    {
     "name": "stderr",
     "output_type": "stream",
     "text": [
      "100%|█████████████████████████████████████████████| 5/5 [00:24<00:00,  4.80s/it]\n"
     ]
    }
   ],
   "source": [
    "reviews = multiprocess_func(inputs,\n",
    "                  func=partial_parse_reviews_multiproc,\n",
    "                  to_split=False,\n",
    "                 n_processes=8)"
   ]
  },
  {
   "cell_type": "code",
   "execution_count": 73,
   "id": "908ccde1",
   "metadata": {},
   "outputs": [],
   "source": [
    "reviews = pd.DataFrame(reviews)"
   ]
  },
  {
   "cell_type": "code",
   "execution_count": 74,
   "id": "137f4d78",
   "metadata": {},
   "outputs": [
    {
     "data": {
      "text/plain": [
       "5.0    2298\n",
       "4.0     534\n",
       "3.0     170\n",
       "1.0      67\n",
       "2.0      59\n",
       "Name: overall_rating, dtype: int64"
      ]
     },
     "execution_count": 74,
     "metadata": {},
     "output_type": "execute_result"
    }
   ],
   "source": [
    "reviews['overall_rating'].value_counts()"
   ]
  },
  {
   "cell_type": "code",
   "execution_count": 76,
   "id": "d04eb297",
   "metadata": {},
   "outputs": [
    {
     "data": {
      "text/plain": [
       "overall_rating             0\n",
       "review                     0\n",
       "hotel_name                 0\n",
       "Цена/качество_rating    2261\n",
       "Расположение_rating     2199\n",
       "Обслуживание_rating     1731\n",
       "Номера_rating           2217\n",
       "Качество сна_rating     2285\n",
       "Чистота_rating          2230\n",
       "dtype: int64"
      ]
     },
     "execution_count": 76,
     "metadata": {},
     "output_type": "execute_result"
    }
   ],
   "source": [
    "reviews.isna().sum()"
   ]
  },
  {
   "cell_type": "code",
   "execution_count": 77,
   "id": "b71797b5",
   "metadata": {},
   "outputs": [
    {
     "data": {
      "text/plain": [
       "(3128, 9)"
      ]
     },
     "execution_count": 77,
     "metadata": {},
     "output_type": "execute_result"
    }
   ],
   "source": [
    "reviews.shape"
   ]
  },
  {
   "cell_type": "code",
   "execution_count": null,
   "id": "37ad7cd9",
   "metadata": {},
   "outputs": [],
   "source": []
  }
 ],
 "metadata": {
  "kernelspec": {
   "display_name": "Python 3 (ipykernel)",
   "language": "python",
   "name": "python3"
  },
  "language_info": {
   "codemirror_mode": {
    "name": "ipython",
    "version": 3
   },
   "file_extension": ".py",
   "mimetype": "text/x-python",
   "name": "python",
   "nbconvert_exporter": "python",
   "pygments_lexer": "ipython3",
   "version": "3.7.13"
  }
 },
 "nbformat": 4,
 "nbformat_minor": 5
}
