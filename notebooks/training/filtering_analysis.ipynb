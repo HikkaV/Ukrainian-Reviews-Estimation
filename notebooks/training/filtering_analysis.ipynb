{
 "cells": [
  {
   "cell_type": "code",
   "execution_count": 1,
   "id": "062f954d-4c8b-44be-b1d7-c3b0eac21d0f",
   "metadata": {
    "tags": []
   },
   "outputs": [],
   "source": [
    "import os\n",
    "import pandas as pd\n",
    "import numpy as np\n",
    "import gc"
   ]
  },
  {
   "cell_type": "code",
   "execution_count": 2,
   "id": "f6ca99c1-3704-4a3f-8d01-558f40482193",
   "metadata": {
    "tags": []
   },
   "outputs": [],
   "source": [
    "files = os.listdir('/home/web/files_for_research_Vova/')\n",
    "files = [file for file in files if 'filtering' in file]"
   ]
  },
  {
   "cell_type": "code",
   "execution_count": 3,
   "id": "a1283731-c7d0-4910-911f-e444d853e34a",
   "metadata": {
    "tags": []
   },
   "outputs": [
    {
     "name": "stderr",
     "output_type": "stream",
     "text": [
      "/home/web/env/lib/python3.8/site-packages/IPython/core/interactiveshell.py:3221: DtypeWarning: Columns (0,2) have mixed types.Specify dtype option on import or set low_memory=False.\n",
      "  has_raised = await self.run_ast_nodes(code_ast.body, cell_name,\n"
     ]
    }
   ],
   "source": [
    "df = []\n",
    "for c,i in enumerate(files):\n",
    "    name = i.split('.')[0]\n",
    "    tmp = pd.read_csv(os.path.join('/home/web/files_for_research_Vova/', i))\n",
    "    tmp = tmp.rename(columns={'y_predicted_proba' : f'y_predict_proba_{name}'})\n",
    "    if c!=0:\n",
    "        tmp = tmp[[f'y_predict_proba_{name}', 'id']]\n",
    "    tmp = tmp[tmp['id']!='id']\n",
    "    tmp = tmp.reset_index().drop(columns='index')\n",
    "    df.append(tmp)\n",
    "    \n",
    "del tmp\n",
    "gc.collect();\n",
    "    "
   ]
  },
  {
   "cell_type": "code",
   "execution_count": 5,
   "id": "07e5f073-e893-4550-b184-dca7ef3778dd",
   "metadata": {
    "tags": []
   },
   "outputs": [],
   "source": [
    "overall_df = df[0]\n",
    "for i in df[1:]:\n",
    "    overall_df = overall_df.merge(i, left_index=True, right_index=True, how='inner')"
   ]
  },
  {
   "cell_type": "code",
   "execution_count": 6,
   "id": "847e3dc6-ab5e-4877-ab3c-68cd8681326d",
   "metadata": {
    "tags": []
   },
   "outputs": [
    {
     "data": {
      "text/html": [
       "<div>\n",
       "<style scoped>\n",
       "    .dataframe tbody tr th:only-of-type {\n",
       "        vertical-align: middle;\n",
       "    }\n",
       "\n",
       "    .dataframe tbody tr th {\n",
       "        vertical-align: top;\n",
       "    }\n",
       "\n",
       "    .dataframe thead th {\n",
       "        text-align: right;\n",
       "    }\n",
       "</style>\n",
       "<table border=\"1\" class=\"dataframe\">\n",
       "  <thead>\n",
       "    <tr style=\"text-align: right;\">\n",
       "      <th></th>\n",
       "      <th>id_x</th>\n",
       "      <th>y_predict_proba_filtering_lstm_attention</th>\n",
       "      <th>y_true</th>\n",
       "      <th>y_predict_proba_filtering_lstm</th>\n",
       "      <th>id_y</th>\n",
       "      <th>y_predict_proba_filtering_deep_bilstm</th>\n",
       "      <th>id_x</th>\n",
       "      <th>y_predict_proba_filtering_cnn_lstm</th>\n",
       "      <th>id_y</th>\n",
       "      <th>y_predict_proba_filtering_bilstm</th>\n",
       "      <th>id_x</th>\n",
       "      <th>y_predict_proba_filtering_deep_lstm</th>\n",
       "      <th>id_y</th>\n",
       "      <th>y_predict_proba_filtering_kimcnn_more_layers</th>\n",
       "      <th>id_x</th>\n",
       "      <th>y_predict_proba_filtering_lstm_cnn</th>\n",
       "      <th>id_y</th>\n",
       "      <th>y_predict_proba_filtering_kimcnn</th>\n",
       "      <th>id</th>\n",
       "    </tr>\n",
       "  </thead>\n",
       "  <tbody>\n",
       "    <tr>\n",
       "      <th>0</th>\n",
       "      <td>0</td>\n",
       "      <td>[0.9280965328216553, 0.06201505288481712, 0.00...</td>\n",
       "      <td>0</td>\n",
       "      <td>[0.8730350732803345, 0.10365699231624603, 0.00...</td>\n",
       "      <td>0</td>\n",
       "      <td>[0.9265488982200623, 0.06940566748380661, 0.00...</td>\n",
       "      <td>0</td>\n",
       "      <td>[0.8926669955253601, 0.08882036805152893, 0.00...</td>\n",
       "      <td>0</td>\n",
       "      <td>[0.9343565106391907, 0.061586540192365646, 0.0...</td>\n",
       "      <td>0</td>\n",
       "      <td>[0.8250420689582825, 0.16267219185829163, 0.00...</td>\n",
       "      <td>0</td>\n",
       "      <td>[0.8464611172676086, 0.11527323722839355, 0.00...</td>\n",
       "      <td>0</td>\n",
       "      <td>[0.8320139050483704, 0.14929316937923431, 0.00...</td>\n",
       "      <td>0</td>\n",
       "      <td>[0.776045024394989, 0.15206599235534668, 0.019...</td>\n",
       "      <td>0</td>\n",
       "    </tr>\n",
       "    <tr>\n",
       "      <th>1</th>\n",
       "      <td>1</td>\n",
       "      <td>[0.8721458911895752, 0.11205775290727615, 0.00...</td>\n",
       "      <td>0</td>\n",
       "      <td>[0.8737232089042664, 0.11476629972457886, 0.00...</td>\n",
       "      <td>1</td>\n",
       "      <td>[0.8540807962417603, 0.13354460895061493, 0.00...</td>\n",
       "      <td>1</td>\n",
       "      <td>[0.8650140762329102, 0.12326382100582123, 0.00...</td>\n",
       "      <td>1</td>\n",
       "      <td>[0.8513664603233337, 0.1319066286087036, 0.002...</td>\n",
       "      <td>1</td>\n",
       "      <td>[0.8714586496353149, 0.12165933847427368, 0.00...</td>\n",
       "      <td>1</td>\n",
       "      <td>[0.8521738052368164, 0.1286715269088745, 0.002...</td>\n",
       "      <td>1</td>\n",
       "      <td>[0.883476734161377, 0.11025379598140717, 0.000...</td>\n",
       "      <td>1</td>\n",
       "      <td>[0.8382772207260132, 0.12871260941028595, 0.00...</td>\n",
       "      <td>1</td>\n",
       "    </tr>\n",
       "    <tr>\n",
       "      <th>2</th>\n",
       "      <td>2</td>\n",
       "      <td>[0.9768645167350769, 0.022737203165888786, 3.0...</td>\n",
       "      <td>0</td>\n",
       "      <td>[0.976650595664978, 0.02302486263215542, 1.472...</td>\n",
       "      <td>2</td>\n",
       "      <td>[0.9777127504348755, 0.021998055279254913, 2.4...</td>\n",
       "      <td>2</td>\n",
       "      <td>[0.972676157951355, 0.027132103219628334, 3.63...</td>\n",
       "      <td>2</td>\n",
       "      <td>[0.9468942284584045, 0.04997611045837402, 0.00...</td>\n",
       "      <td>2</td>\n",
       "      <td>[0.9820185899734497, 0.01779773458838463, 1.01...</td>\n",
       "      <td>2</td>\n",
       "      <td>[0.9620953798294067, 0.035610709339380264, 0.0...</td>\n",
       "      <td>2</td>\n",
       "      <td>[0.9819530844688416, 0.01794533059000969, 5.14...</td>\n",
       "      <td>2</td>\n",
       "      <td>[0.9423099160194397, 0.05016128346323967, 0.00...</td>\n",
       "      <td>2</td>\n",
       "    </tr>\n",
       "    <tr>\n",
       "      <th>3</th>\n",
       "      <td>3</td>\n",
       "      <td>[0.45096421241760254, 0.4117566645145416, 0.00...</td>\n",
       "      <td>1</td>\n",
       "      <td>[0.4511595368385315, 0.3520524799823761, 0.018...</td>\n",
       "      <td>3</td>\n",
       "      <td>[0.7774321436882019, 0.21355561912059784, 8.39...</td>\n",
       "      <td>3</td>\n",
       "      <td>[0.6724462509155273, 0.27627691626548767, 0.00...</td>\n",
       "      <td>3</td>\n",
       "      <td>[0.6194842457771301, 0.3277783989906311, 0.001...</td>\n",
       "      <td>3</td>\n",
       "      <td>[0.82100909948349, 0.16706468164920807, 0.0003...</td>\n",
       "      <td>3</td>\n",
       "      <td>[0.703730583190918, 0.2402326464653015, 0.0024...</td>\n",
       "      <td>3</td>\n",
       "      <td>[0.8288870453834534, 0.15750575065612793, 0.00...</td>\n",
       "      <td>3</td>\n",
       "      <td>[0.4995603859424591, 0.35169869661331177, 0.00...</td>\n",
       "      <td>3</td>\n",
       "    </tr>\n",
       "    <tr>\n",
       "      <th>4</th>\n",
       "      <td>4</td>\n",
       "      <td>[0.7544170022010803, 0.1578798145055771, 0.020...</td>\n",
       "      <td>1</td>\n",
       "      <td>[0.7365557551383972, 0.15736928582191467, 0.02...</td>\n",
       "      <td>4</td>\n",
       "      <td>[0.6982035636901855, 0.19794072210788727, 0.01...</td>\n",
       "      <td>4</td>\n",
       "      <td>[0.6761450171470642, 0.14567363262176514, 0.08...</td>\n",
       "      <td>4</td>\n",
       "      <td>[0.7740525603294373, 0.13860653340816498, 0.02...</td>\n",
       "      <td>4</td>\n",
       "      <td>[0.869747519493103, 0.09689832478761673, 0.007...</td>\n",
       "      <td>4</td>\n",
       "      <td>[0.5605959892272949, 0.2306126207113266, 0.048...</td>\n",
       "      <td>4</td>\n",
       "      <td>[0.896424412727356, 0.0870978906750679, 0.0028...</td>\n",
       "      <td>4</td>\n",
       "      <td>[0.6234948635101318, 0.17845074832439423, 0.09...</td>\n",
       "      <td>4</td>\n",
       "    </tr>\n",
       "    <tr>\n",
       "      <th>...</th>\n",
       "      <td>...</td>\n",
       "      <td>...</td>\n",
       "      <td>...</td>\n",
       "      <td>...</td>\n",
       "      <td>...</td>\n",
       "      <td>...</td>\n",
       "      <td>...</td>\n",
       "      <td>...</td>\n",
       "      <td>...</td>\n",
       "      <td>...</td>\n",
       "      <td>...</td>\n",
       "      <td>...</td>\n",
       "      <td>...</td>\n",
       "      <td>...</td>\n",
       "      <td>...</td>\n",
       "      <td>...</td>\n",
       "      <td>...</td>\n",
       "      <td>...</td>\n",
       "      <td>...</td>\n",
       "    </tr>\n",
       "    <tr>\n",
       "      <th>662902</th>\n",
       "      <td>662902</td>\n",
       "      <td>[0.7230800986289978, 0.26653915643692017, 6.15...</td>\n",
       "      <td>0</td>\n",
       "      <td>[0.6872529983520508, 0.29162487387657166, 0.00...</td>\n",
       "      <td>662902</td>\n",
       "      <td>[0.712020754814148, 0.27877575159072876, 3.330...</td>\n",
       "      <td>662902</td>\n",
       "      <td>[0.6312274932861328, 0.349878191947937, 5.3018...</td>\n",
       "      <td>662902</td>\n",
       "      <td>[0.7053426504135132, 0.2697981595993042, 0.000...</td>\n",
       "      <td>662902</td>\n",
       "      <td>[0.4747436046600342, 0.4882262051105499, 8.130...</td>\n",
       "      <td>662902</td>\n",
       "      <td>[0.6695981621742249, 0.30863791704177856, 8.98...</td>\n",
       "      <td>662902</td>\n",
       "      <td>[0.6958690881729126, 0.28213655948638916, 0.00...</td>\n",
       "      <td>662902</td>\n",
       "      <td>[0.7378848195075989, 0.23864302039146423, 6.88...</td>\n",
       "      <td>662902</td>\n",
       "    </tr>\n",
       "    <tr>\n",
       "      <th>662903</th>\n",
       "      <td>662903</td>\n",
       "      <td>[0.8769958019256592, 0.12063857167959213, 2.97...</td>\n",
       "      <td>0</td>\n",
       "      <td>[0.8698951005935669, 0.12666074931621552, 0.00...</td>\n",
       "      <td>662903</td>\n",
       "      <td>[0.938269317150116, 0.060757096856832504, 2.99...</td>\n",
       "      <td>662903</td>\n",
       "      <td>[0.9007540345191956, 0.09791810810565948, 5.82...</td>\n",
       "      <td>662903</td>\n",
       "      <td>[0.8494845628738403, 0.14822006225585938, 1.52...</td>\n",
       "      <td>662903</td>\n",
       "      <td>[0.8790361881256104, 0.11744020134210587, 0.00...</td>\n",
       "      <td>662903</td>\n",
       "      <td>[0.9173831939697266, 0.08098781853914261, 3.81...</td>\n",
       "      <td>662903</td>\n",
       "      <td>[0.8131758570671082, 0.17895042896270752, 0.00...</td>\n",
       "      <td>662903</td>\n",
       "      <td>[0.915595293045044, 0.08105514943599701, 3.317...</td>\n",
       "      <td>662903</td>\n",
       "    </tr>\n",
       "    <tr>\n",
       "      <th>662904</th>\n",
       "      <td>662904</td>\n",
       "      <td>[0.7244799137115479, 0.222696453332901, 0.0045...</td>\n",
       "      <td>0</td>\n",
       "      <td>[0.7045383453369141, 0.2401505559682846, 0.004...</td>\n",
       "      <td>662904</td>\n",
       "      <td>[0.8193674087524414, 0.17846232652664185, 5.56...</td>\n",
       "      <td>662904</td>\n",
       "      <td>[0.5751171112060547, 0.35969749093055725, 0.00...</td>\n",
       "      <td>662904</td>\n",
       "      <td>[0.6667205095291138, 0.2767857015132904, 0.003...</td>\n",
       "      <td>662904</td>\n",
       "      <td>[0.6116209626197815, 0.3746134340763092, 4.130...</td>\n",
       "      <td>662904</td>\n",
       "      <td>[0.5395596623420715, 0.33710581064224243, 0.00...</td>\n",
       "      <td>662904</td>\n",
       "      <td>[0.5755947232246399, 0.32547661662101746, 0.00...</td>\n",
       "      <td>662904</td>\n",
       "      <td>[0.5968471765518188, 0.2751086354255676, 0.007...</td>\n",
       "      <td>662904</td>\n",
       "    </tr>\n",
       "    <tr>\n",
       "      <th>662905</th>\n",
       "      <td>662905</td>\n",
       "      <td>[0.9162772297859192, 0.08285694569349289, 5.58...</td>\n",
       "      <td>0</td>\n",
       "      <td>[0.8985807299613953, 0.09997517615556717, 3.95...</td>\n",
       "      <td>662905</td>\n",
       "      <td>[0.9140042662620544, 0.08515013754367828, 6.02...</td>\n",
       "      <td>662905</td>\n",
       "      <td>[0.9153822660446167, 0.08403044939041138, 1.40...</td>\n",
       "      <td>662905</td>\n",
       "      <td>[0.9107614159584045, 0.08756835758686066, 2.12...</td>\n",
       "      <td>662905</td>\n",
       "      <td>[0.9045683741569519, 0.0945817157626152, 1.338...</td>\n",
       "      <td>662905</td>\n",
       "      <td>[0.8670247793197632, 0.1305151730775833, 1.055...</td>\n",
       "      <td>662905</td>\n",
       "      <td>[0.8458225727081299, 0.15040674805641174, 7.03...</td>\n",
       "      <td>662905</td>\n",
       "      <td>[0.9249055981636047, 0.07269137352705002, 7.15...</td>\n",
       "      <td>662905</td>\n",
       "    </tr>\n",
       "    <tr>\n",
       "      <th>662906</th>\n",
       "      <td>662906</td>\n",
       "      <td>[0.9488856196403503, 0.05034186691045761, 2.15...</td>\n",
       "      <td>0</td>\n",
       "      <td>[0.9601929783821106, 0.039551399648189545, 9.3...</td>\n",
       "      <td>662906</td>\n",
       "      <td>[0.9672109484672546, 0.03211396560072899, 2.81...</td>\n",
       "      <td>662906</td>\n",
       "      <td>[0.9419565200805664, 0.057508233934640884, 6.4...</td>\n",
       "      <td>662906</td>\n",
       "      <td>[0.805798351764679, 0.17580023407936096, 0.000...</td>\n",
       "      <td>662906</td>\n",
       "      <td>[0.9934362173080444, 0.006524038501083851, 3.4...</td>\n",
       "      <td>662906</td>\n",
       "      <td>[0.8138918876647949, 0.17448163032531738, 0.00...</td>\n",
       "      <td>662906</td>\n",
       "      <td>[0.9123561978340149, 0.08621124923229218, 3.32...</td>\n",
       "      <td>662906</td>\n",
       "      <td>[0.6498780250549316, 0.31846070289611816, 0.00...</td>\n",
       "      <td>662906</td>\n",
       "    </tr>\n",
       "  </tbody>\n",
       "</table>\n",
       "<p>662907 rows × 19 columns</p>\n",
       "</div>"
      ],
      "text/plain": [
       "          id_x           y_predict_proba_filtering_lstm_attention y_true  \\\n",
       "0            0  [0.9280965328216553, 0.06201505288481712, 0.00...      0   \n",
       "1            1  [0.8721458911895752, 0.11205775290727615, 0.00...      0   \n",
       "2            2  [0.9768645167350769, 0.022737203165888786, 3.0...      0   \n",
       "3            3  [0.45096421241760254, 0.4117566645145416, 0.00...      1   \n",
       "4            4  [0.7544170022010803, 0.1578798145055771, 0.020...      1   \n",
       "...        ...                                                ...    ...   \n",
       "662902  662902  [0.7230800986289978, 0.26653915643692017, 6.15...      0   \n",
       "662903  662903  [0.8769958019256592, 0.12063857167959213, 2.97...      0   \n",
       "662904  662904  [0.7244799137115479, 0.222696453332901, 0.0045...      0   \n",
       "662905  662905  [0.9162772297859192, 0.08285694569349289, 5.58...      0   \n",
       "662906  662906  [0.9488856196403503, 0.05034186691045761, 2.15...      0   \n",
       "\n",
       "                           y_predict_proba_filtering_lstm    id_y  \\\n",
       "0       [0.8730350732803345, 0.10365699231624603, 0.00...       0   \n",
       "1       [0.8737232089042664, 0.11476629972457886, 0.00...       1   \n",
       "2       [0.976650595664978, 0.02302486263215542, 1.472...       2   \n",
       "3       [0.4511595368385315, 0.3520524799823761, 0.018...       3   \n",
       "4       [0.7365557551383972, 0.15736928582191467, 0.02...       4   \n",
       "...                                                   ...     ...   \n",
       "662902  [0.6872529983520508, 0.29162487387657166, 0.00...  662902   \n",
       "662903  [0.8698951005935669, 0.12666074931621552, 0.00...  662903   \n",
       "662904  [0.7045383453369141, 0.2401505559682846, 0.004...  662904   \n",
       "662905  [0.8985807299613953, 0.09997517615556717, 3.95...  662905   \n",
       "662906  [0.9601929783821106, 0.039551399648189545, 9.3...  662906   \n",
       "\n",
       "                    y_predict_proba_filtering_deep_bilstm    id_x  \\\n",
       "0       [0.9265488982200623, 0.06940566748380661, 0.00...       0   \n",
       "1       [0.8540807962417603, 0.13354460895061493, 0.00...       1   \n",
       "2       [0.9777127504348755, 0.021998055279254913, 2.4...       2   \n",
       "3       [0.7774321436882019, 0.21355561912059784, 8.39...       3   \n",
       "4       [0.6982035636901855, 0.19794072210788727, 0.01...       4   \n",
       "...                                                   ...     ...   \n",
       "662902  [0.712020754814148, 0.27877575159072876, 3.330...  662902   \n",
       "662903  [0.938269317150116, 0.060757096856832504, 2.99...  662903   \n",
       "662904  [0.8193674087524414, 0.17846232652664185, 5.56...  662904   \n",
       "662905  [0.9140042662620544, 0.08515013754367828, 6.02...  662905   \n",
       "662906  [0.9672109484672546, 0.03211396560072899, 2.81...  662906   \n",
       "\n",
       "                       y_predict_proba_filtering_cnn_lstm    id_y  \\\n",
       "0       [0.8926669955253601, 0.08882036805152893, 0.00...       0   \n",
       "1       [0.8650140762329102, 0.12326382100582123, 0.00...       1   \n",
       "2       [0.972676157951355, 0.027132103219628334, 3.63...       2   \n",
       "3       [0.6724462509155273, 0.27627691626548767, 0.00...       3   \n",
       "4       [0.6761450171470642, 0.14567363262176514, 0.08...       4   \n",
       "...                                                   ...     ...   \n",
       "662902  [0.6312274932861328, 0.349878191947937, 5.3018...  662902   \n",
       "662903  [0.9007540345191956, 0.09791810810565948, 5.82...  662903   \n",
       "662904  [0.5751171112060547, 0.35969749093055725, 0.00...  662904   \n",
       "662905  [0.9153822660446167, 0.08403044939041138, 1.40...  662905   \n",
       "662906  [0.9419565200805664, 0.057508233934640884, 6.4...  662906   \n",
       "\n",
       "                         y_predict_proba_filtering_bilstm    id_x  \\\n",
       "0       [0.9343565106391907, 0.061586540192365646, 0.0...       0   \n",
       "1       [0.8513664603233337, 0.1319066286087036, 0.002...       1   \n",
       "2       [0.9468942284584045, 0.04997611045837402, 0.00...       2   \n",
       "3       [0.6194842457771301, 0.3277783989906311, 0.001...       3   \n",
       "4       [0.7740525603294373, 0.13860653340816498, 0.02...       4   \n",
       "...                                                   ...     ...   \n",
       "662902  [0.7053426504135132, 0.2697981595993042, 0.000...  662902   \n",
       "662903  [0.8494845628738403, 0.14822006225585938, 1.52...  662903   \n",
       "662904  [0.6667205095291138, 0.2767857015132904, 0.003...  662904   \n",
       "662905  [0.9107614159584045, 0.08756835758686066, 2.12...  662905   \n",
       "662906  [0.805798351764679, 0.17580023407936096, 0.000...  662906   \n",
       "\n",
       "                      y_predict_proba_filtering_deep_lstm    id_y  \\\n",
       "0       [0.8250420689582825, 0.16267219185829163, 0.00...       0   \n",
       "1       [0.8714586496353149, 0.12165933847427368, 0.00...       1   \n",
       "2       [0.9820185899734497, 0.01779773458838463, 1.01...       2   \n",
       "3       [0.82100909948349, 0.16706468164920807, 0.0003...       3   \n",
       "4       [0.869747519493103, 0.09689832478761673, 0.007...       4   \n",
       "...                                                   ...     ...   \n",
       "662902  [0.4747436046600342, 0.4882262051105499, 8.130...  662902   \n",
       "662903  [0.8790361881256104, 0.11744020134210587, 0.00...  662903   \n",
       "662904  [0.6116209626197815, 0.3746134340763092, 4.130...  662904   \n",
       "662905  [0.9045683741569519, 0.0945817157626152, 1.338...  662905   \n",
       "662906  [0.9934362173080444, 0.006524038501083851, 3.4...  662906   \n",
       "\n",
       "             y_predict_proba_filtering_kimcnn_more_layers    id_x  \\\n",
       "0       [0.8464611172676086, 0.11527323722839355, 0.00...       0   \n",
       "1       [0.8521738052368164, 0.1286715269088745, 0.002...       1   \n",
       "2       [0.9620953798294067, 0.035610709339380264, 0.0...       2   \n",
       "3       [0.703730583190918, 0.2402326464653015, 0.0024...       3   \n",
       "4       [0.5605959892272949, 0.2306126207113266, 0.048...       4   \n",
       "...                                                   ...     ...   \n",
       "662902  [0.6695981621742249, 0.30863791704177856, 8.98...  662902   \n",
       "662903  [0.9173831939697266, 0.08098781853914261, 3.81...  662903   \n",
       "662904  [0.5395596623420715, 0.33710581064224243, 0.00...  662904   \n",
       "662905  [0.8670247793197632, 0.1305151730775833, 1.055...  662905   \n",
       "662906  [0.8138918876647949, 0.17448163032531738, 0.00...  662906   \n",
       "\n",
       "                       y_predict_proba_filtering_lstm_cnn    id_y  \\\n",
       "0       [0.8320139050483704, 0.14929316937923431, 0.00...       0   \n",
       "1       [0.883476734161377, 0.11025379598140717, 0.000...       1   \n",
       "2       [0.9819530844688416, 0.01794533059000969, 5.14...       2   \n",
       "3       [0.8288870453834534, 0.15750575065612793, 0.00...       3   \n",
       "4       [0.896424412727356, 0.0870978906750679, 0.0028...       4   \n",
       "...                                                   ...     ...   \n",
       "662902  [0.6958690881729126, 0.28213655948638916, 0.00...  662902   \n",
       "662903  [0.8131758570671082, 0.17895042896270752, 0.00...  662903   \n",
       "662904  [0.5755947232246399, 0.32547661662101746, 0.00...  662904   \n",
       "662905  [0.8458225727081299, 0.15040674805641174, 7.03...  662905   \n",
       "662906  [0.9123561978340149, 0.08621124923229218, 3.32...  662906   \n",
       "\n",
       "                         y_predict_proba_filtering_kimcnn      id  \n",
       "0       [0.776045024394989, 0.15206599235534668, 0.019...       0  \n",
       "1       [0.8382772207260132, 0.12871260941028595, 0.00...       1  \n",
       "2       [0.9423099160194397, 0.05016128346323967, 0.00...       2  \n",
       "3       [0.4995603859424591, 0.35169869661331177, 0.00...       3  \n",
       "4       [0.6234948635101318, 0.17845074832439423, 0.09...       4  \n",
       "...                                                   ...     ...  \n",
       "662902  [0.7378848195075989, 0.23864302039146423, 6.88...  662902  \n",
       "662903  [0.915595293045044, 0.08105514943599701, 3.317...  662903  \n",
       "662904  [0.5968471765518188, 0.2751086354255676, 0.007...  662904  \n",
       "662905  [0.9249055981636047, 0.07269137352705002, 7.15...  662905  \n",
       "662906  [0.6498780250549316, 0.31846070289611816, 0.00...  662906  \n",
       "\n",
       "[662907 rows x 19 columns]"
      ]
     },
     "execution_count": 6,
     "metadata": {},
     "output_type": "execute_result"
    }
   ],
   "source": [
    "overall_df"
   ]
  },
  {
   "cell_type": "code",
   "execution_count": 7,
   "id": "7e3fd156-cb16-4125-a82f-105ba92b08bc",
   "metadata": {
    "tags": []
   },
   "outputs": [],
   "source": [
    "overall_df['id'] = overall_df['id_x']\n",
    "overall_df.drop(columns=[i for i in overall_df.columns \\\n",
    "                         if 'id' in i and len(i)>2], inplace=True)"
   ]
  },
  {
   "cell_type": "markdown",
   "id": "c6928234-5fb1-40ab-b7a1-5f0ad323308b",
   "metadata": {},
   "source": [
    "# String to list dataframe"
   ]
  },
  {
   "cell_type": "code",
   "execution_count": 8,
   "id": "e5046e13-23c9-4757-a4c1-9be56f4702e8",
   "metadata": {
    "tags": []
   },
   "outputs": [],
   "source": [
    "import ast \n",
    "def str_to_list(x):\n",
    "    try:\n",
    "        return list(ast.literal_eval(x))\n",
    "    except:\n",
    "        return None\n",
    "\n",
    "\n",
    "def string_to_list_dataframe(df):\n",
    "    columns = df.columns.tolist()\n",
    "    columns_w_lists = []\n",
    "    for column in columns:\n",
    "        if df[column].astype(str). \\\n",
    "                apply(lambda x: x.startswith('[') and x.endswith(']')) \\\n",
    "                .astype(int).mean() > 0.8:\n",
    "            columns_w_lists.append(column)\n",
    "    for column in columns_w_lists:\n",
    "        df[column] = df[column].apply(lambda x: str_to_list(x))\n",
    "        df = df[~df[column].isna()]\n",
    "    return df"
   ]
  },
  {
   "cell_type": "code",
   "execution_count": 9,
   "id": "b41a4193-e199-4e7b-91e9-36cc2de8b7c2",
   "metadata": {
    "tags": []
   },
   "outputs": [],
   "source": [
    "overall_df = string_to_list_dataframe(overall_df)"
   ]
  },
  {
   "cell_type": "markdown",
   "id": "77cae3da-822c-4e19-961f-657ab0bee757",
   "metadata": {
    "tags": []
   },
   "source": [
    "# Get argmax on columns"
   ]
  },
  {
   "cell_type": "code",
   "execution_count": 10,
   "id": "7b56fadc-0726-470a-8f6d-c02d65fa9aee",
   "metadata": {
    "tags": []
   },
   "outputs": [],
   "source": [
    "cols_of_interest = [i for i in overall_df.columns.tolist() \n",
    "                   if 'y_predict_proba' in i]"
   ]
  },
  {
   "cell_type": "code",
   "execution_count": 11,
   "id": "11aa166f-265f-4b8b-96b3-d62612392f31",
   "metadata": {
    "tags": []
   },
   "outputs": [],
   "source": [
    "for col in cols_of_interest:\n",
    "    overall_df[col] = overall_df[col].apply(lambda x: np.argmax(x))"
   ]
  },
  {
   "cell_type": "markdown",
   "id": "ad1582b3-0a65-4739-9366-2d9a477c9ad9",
   "metadata": {
    "tags": []
   },
   "source": [
    "# Get samples where all model made mistake"
   ]
  },
  {
   "cell_type": "code",
   "execution_count": 12,
   "id": "8ce547a7-913a-4285-b3fe-7e11f7d84c79",
   "metadata": {
    "tags": []
   },
   "outputs": [],
   "source": [
    "def get_all_wrong(x):\n",
    "    x = dict(x)\n",
    "    unique_preds = set([v for k,v in x.items() if 'predict_proba' in k])\n",
    "    return len(unique_preds)==1 and list(unique_preds)[0]!=x['y_true']\n",
    "        "
   ]
  },
  {
   "cell_type": "code",
   "execution_count": 13,
   "id": "9d9fb6f8-cb9b-43ce-b02a-154e19089c98",
   "metadata": {
    "tags": []
   },
   "outputs": [],
   "source": [
    "for i in overall_df.columns:\n",
    "    overall_df[i] = overall_df[i].astype(int)"
   ]
  },
  {
   "cell_type": "code",
   "execution_count": 14,
   "id": "986ace57-c860-41c3-8159-b437573df1eb",
   "metadata": {
    "tags": []
   },
   "outputs": [],
   "source": [
    "overall_df['all_wrong'] = overall_df.apply(get_all_wrong, axis=1)"
   ]
  },
  {
   "cell_type": "code",
   "execution_count": 15,
   "id": "5d426f39-d90b-4e56-a56b-21f971343c09",
   "metadata": {
    "tags": []
   },
   "outputs": [
    {
     "data": {
      "text/plain": [
       "False    605126\n",
       "True      57781\n",
       "Name: all_wrong, dtype: int64"
      ]
     },
     "execution_count": 15,
     "metadata": {},
     "output_type": "execute_result"
    }
   ],
   "source": [
    "overall_df['all_wrong'].value_counts()"
   ]
  },
  {
   "cell_type": "code",
   "execution_count": 129,
   "id": "5b73e56c-68f0-4382-a9b9-19ae65eb40e8",
   "metadata": {
    "tags": []
   },
   "outputs": [],
   "source": [
    "bad_ids_frame = overall_df[overall_df['all_wrong']==True]\\\n",
    "[['id', 'y_predict_proba_filtering_lstm_attention']]\\\n",
    ".rename(columns={\"y_predict_proba_filtering_lstm_attention\":\"y_pred\"})"
   ]
  },
  {
   "cell_type": "code",
   "execution_count": 130,
   "id": "773ff37d-3f92-4984-b1bc-6f0a7da58c3d",
   "metadata": {
    "tags": []
   },
   "outputs": [],
   "source": [
    "bad_ids_frame.to_csv('/home/web/files_for_research_Vova/bad_ids.csv', index=False)"
   ]
  },
  {
   "cell_type": "markdown",
   "id": "07d9b7b1-318c-4fd8-a9c3-2f931a06e650",
   "metadata": {},
   "source": [
    "# Check"
   ]
  },
  {
   "cell_type": "code",
   "execution_count": 18,
   "id": "62cfade3-4ab8-4fc5-b32e-effcb5eb3f54",
   "metadata": {
    "tags": []
   },
   "outputs": [],
   "source": [
    "df = pd.read_csv('/home/web/files_for_research_Vova/processed_data.csv',\\\n",
    "                 usecols=['review_translate', 'review','rating', 'dataset_name'] )"
   ]
  },
  {
   "cell_type": "code",
   "execution_count": 20,
   "id": "51c7dd6e-2cab-4309-9935-2ef760576e5d",
   "metadata": {
    "tags": []
   },
   "outputs": [],
   "source": [
    "mapping = dict([(i,c) for c,i in enumerate(df['rating'].unique())])"
   ]
  },
  {
   "cell_type": "code",
   "execution_count": 25,
   "id": "4899e34a-7b86-4c79-a870-6aaa09190397",
   "metadata": {
    "tags": []
   },
   "outputs": [],
   "source": [
    "mapping = dict([(v,k) for k,v in mapping.items()])"
   ]
  },
  {
   "cell_type": "code",
   "execution_count": 131,
   "id": "2edbc267-1ea8-472c-b889-41b5638952e1",
   "metadata": {
    "tags": []
   },
   "outputs": [],
   "source": [
    "bad_results = df[df.index.isin(bad_ids_frame['id'].values)]"
   ]
  },
  {
   "cell_type": "code",
   "execution_count": 134,
   "id": "9fa40ba2-5fdd-43ca-b31c-a49dc8b4c1da",
   "metadata": {
    "tags": []
   },
   "outputs": [],
   "source": [
    "bad_results = bad_results.merge(bad_ids_frame, left_index=True, right_on='id')"
   ]
  },
  {
   "cell_type": "code",
   "execution_count": 135,
   "id": "28c076dc-a3b3-463e-aa9e-043af48b6112",
   "metadata": {
    "tags": []
   },
   "outputs": [],
   "source": [
    "bad_results['y_pred'] = bad_results['y_pred'].map(mapping)"
   ]
  },
  {
   "cell_type": "code",
   "execution_count": 136,
   "id": "d0539f0f-4cc1-4846-b262-a04b5c2919ab",
   "metadata": {
    "tags": []
   },
   "outputs": [
    {
     "data": {
      "text/plain": [
       "4.0    42727\n",
       "2.0     6357\n",
       "3.0     5891\n",
       "5.0     1828\n",
       "1.0      978\n",
       "Name: rating, dtype: int64"
      ]
     },
     "execution_count": 136,
     "metadata": {},
     "output_type": "execute_result"
    }
   ],
   "source": [
    "bad_results['rating'].value_counts()"
   ]
  },
  {
   "cell_type": "code",
   "execution_count": 137,
   "id": "f2746fa9-4305-4f60-9f5e-99f677f9bb5b",
   "metadata": {
    "tags": []
   },
   "outputs": [
    {
     "data": {
      "text/plain": [
       "rozetka                            37217\n",
       "tripadvisor_restaurants_ukraine    15801\n",
       "tripadvisor_hotels_ukraine          4763\n",
       "Name: dataset_name, dtype: int64"
      ]
     },
     "execution_count": 137,
     "metadata": {},
     "output_type": "execute_result"
    }
   ],
   "source": [
    "bad_results['dataset_name'].value_counts()"
   ]
  },
  {
   "cell_type": "code",
   "execution_count": 138,
   "id": "c7c9528a-1db1-4a78-9d32-c301edd1b294",
   "metadata": {
    "tags": []
   },
   "outputs": [],
   "source": [
    "bad_results['rating'] = bad_results['rating'].astype(int)\n",
    "bad_results['y_pred'] = bad_results['y_pred'].astype(int)"
   ]
  },
  {
   "cell_type": "code",
   "execution_count": 139,
   "id": "b5306c7f-ea67-4ac2-bd48-8fbaaefa5c4e",
   "metadata": {
    "tags": []
   },
   "outputs": [
    {
     "name": "stdout",
     "output_type": "stream",
     "text": [
      "Original review : Можно сказать, что это лучший лимонад с лимонным вкусом, для тех кто любит больше кислотный напиток подойдёт)\n",
      "Translated review : Можна сказати , що це кращий лимонад зі смаком лимона , для тих , хто любить більш кислий напій підійде )\n",
      "Real rating : 4\n",
      "Predicted rating : 5\n"
     ]
    }
   ],
   "source": [
    "for i in bad_results.sample(1).iterrows():\n",
    "    print(f'Original review : {i[1].review}')\n",
    "    print(f'Translated review : {i[1].review_translate}')\n",
    "    print(f'Real rating : {i[1].rating}')\n",
    "    print(f'Predicted rating : {i[1].y_pred}')"
   ]
  },
  {
   "cell_type": "code",
   "execution_count": 140,
   "id": "fbd5d573-4e63-47ed-ae1f-079e3871a143",
   "metadata": {
    "tags": []
   },
   "outputs": [],
   "source": [
    "from sklearn.metrics import confusion_matrix\n",
    "import matplotlib.pyplot as plt\n",
    "import seaborn as sns"
   ]
  },
  {
   "cell_type": "code",
   "execution_count": 141,
   "id": "143dfd88-44b1-4d4d-9a67-49210d55ecaa",
   "metadata": {
    "tags": []
   },
   "outputs": [],
   "source": [
    "unique_rating = sorted(bad_results['rating'].unique())\n"
   ]
  },
  {
   "cell_type": "code",
   "execution_count": 142,
   "id": "e3dbf879-0438-4973-9ae8-837d1eea9951",
   "metadata": {
    "tags": []
   },
   "outputs": [
    {
     "data": {
      "image/png": "[encoded data removed]",
      "text/plain": [
       "<Figure size 1400x1000 with 2 Axes>"
      ]
     },
     "metadata": {},
     "output_type": "display_data"
    }
   ],
   "source": [
    "matrix = confusion_matrix(bad_results['rating'], bad_results['y_pred'])\n",
    "matrix_scaled = matrix.astype('float') / matrix.sum(axis=1)[:, np.newaxis]\n",
    "plt.figure(figsize=(14,10))\n",
    "sns.heatmap(matrix_scaled, annot=True, cmap=plt.cm.Blues, xticklabels=unique_rating,\\\n",
    "            yticklabels=unique_rating)\n",
    "plt.title('Confusion matrix')\n",
    "plt.xlabel('Predicted label')\n",
    "plt.ylabel('True label')\n",
    "\n",
    "plt.show()"
   ]
  },
  {
   "cell_type": "code",
   "execution_count": 146,
   "id": "f0fe30c7-d5db-44ec-bfeb-e5ce33da6516",
   "metadata": {
    "tags": []
   },
   "outputs": [],
   "source": [
    "def candidates_to_check(y_true, y_pred):\n",
    "    return abs(y_true-y_pred)>1"
   ]
  },
  {
   "cell_type": "code",
   "execution_count": 148,
   "id": "699ec0a7-a8c1-4288-8952-499f2ac0c468",
   "metadata": {
    "tags": []
   },
   "outputs": [],
   "source": [
    "bad_results['to_check'] = bad_results[['rating', 'y_pred']].apply(lambda x: candidates_to_check(x.rating, x.y_pred), axis=1)"
   ]
  },
  {
   "cell_type": "code",
   "execution_count": 151,
   "id": "f29a4628-5a1a-4a51-99cc-1217b2fe9588",
   "metadata": {
    "tags": []
   },
   "outputs": [
    {
     "data": {
      "text/plain": [
       "False    50344\n",
       "True      7437\n",
       "Name: to_check, dtype: int64"
      ]
     },
     "execution_count": 151,
     "metadata": {},
     "output_type": "execute_result"
    }
   ],
   "source": [
    "bad_results['to_check'].value_counts()"
   ]
  },
  {
   "cell_type": "code",
   "execution_count": 152,
   "id": "f8ca5d9b-c7cb-4d4a-a0b6-aae9d42518bf",
   "metadata": {
    "tags": []
   },
   "outputs": [],
   "source": [
    "bad_results[bad_results['to_check']==True].to_csv('files_to_check.csv', index=False)"
   ]
  },
  {
   "cell_type": "code",
   "execution_count": null,
   "id": "8d24086d-92c3-4da9-9b0f-cfbd48624d4e",
   "metadata": {},
   "outputs": [],
   "source": []
  }
 ],
 "metadata": {
  "kernelspec": {
   "display_name": "Python 3 (ipykernel)",
   "language": "python",
   "name": "python3"
  },
  "language_info": {
   "codemirror_mode": {
    "name": "ipython",
    "version": 3
   },
   "file_extension": ".py",
   "mimetype": "text/x-python",
   "name": "python",
   "nbconvert_exporter": "python",
   "pygments_lexer": "ipython3",
   "version": "3.8.10"
  }
 },
 "nbformat": 4,
 "nbformat_minor": 5
}
