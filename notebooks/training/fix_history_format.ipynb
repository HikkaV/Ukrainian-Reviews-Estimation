{
 "cells": [
  {
   "cell_type": "code",
   "execution_count": null,
   "id": "f89fbcc1-f92c-40cd-b9b5-698ba1e1c3e7",
   "metadata": {},
   "outputs": [],
   "source": [
    "import pandas as pd"
   ]
  },
  {
   "cell_type": "code",
   "execution_count": null,
   "id": "bbcc0cb6-63fd-4990-8153-52a7c7eefafa",
   "metadata": {},
   "outputs": [],
   "source": [
    "df = pd.read_csv('training_results.csv')"
   ]
  },
  {
   "cell_type": "code",
   "execution_count": null,
   "id": "90bc1917-8c95-48e8-9d88-b61da79247e7",
   "metadata": {},
   "outputs": [],
   "source": [
    "new_data = []\n",
    "for c, i in enumerate(df.values):\n",
    "    if c<49:\n",
    "        new_data.append(i)\n",
    "    else:\n",
    "        print(i)"
   ]
  },
  {
   "cell_type": "code",
   "execution_count": null,
   "id": "1a5365fe-b0c8-4957-8ce8-eac2f65fd028",
   "metadata": {},
   "outputs": [],
   "source": [
    "new_data.append(['0.8571405781888606;0.8271014152787551;0.8311757937130603;0.839315925058003;0.8747080165001739;0.7611925059982644;0.6654572751157263;0.6909357183953135;0.7187860733569167;0.7746422893481717;0.846029974129023;0.729386031075577;0.48496097326278687;0.873744010925293;0.7671201408918042;0.6861396047035276;0.7020920502092051;0.7297100909226412;0.7764044053561523;kim_cnn_more_layers_word_tokenizer+w2v_embeddings'])"
   ]
  },
  {
   "cell_type": "code",
   "execution_count": null,
   "id": "d146b7b0-55a3-4b2a-bcbe-6c16755e369e",
   "metadata": {},
   "outputs": [],
   "source": [
    "new_data.append([';;;;;;;;;;;;;;0.7649506112968683;0.6845133850387791;0.7125;;;kim_cnn_more_layers_different_datasets'])"
   ]
  },
  {
   "cell_type": "code",
   "execution_count": null,
   "id": "0a9ce882-2483-4998-b8a9-37aa6968eed1",
   "metadata": {},
   "outputs": [],
   "source": [
    "new_data = [i[0].split(';') for i in new_data]"
   ]
  },
  {
   "cell_type": "code",
   "execution_count": null,
   "id": "c1f27f52-8a24-4715-9d58-49f5853cede4",
   "metadata": {},
   "outputs": [],
   "source": [
    "df = pd.DataFrame(new_data, columns=df.columns.tolist()[0].split(';'))"
   ]
  },
  {
   "cell_type": "code",
   "execution_count": null,
   "id": "ee90f165-dfa8-44d2-b8c3-e40980491bff",
   "metadata": {},
   "outputs": [],
   "source": [
    "df.to_csv('training_results.csv', sep=',', index=False)"
   ]
  },
  {
   "cell_type": "code",
   "execution_count": null,
   "id": "2a377eb3-4774-4a5e-a08e-efdc5dbe2dab",
   "metadata": {},
   "outputs": [],
   "source": []
  }
 ],
 "metadata": {
  "language_info": {
   "name": "python",
   "pygments_lexer": "ipython3"
  }
 },
 "nbformat": 4,
 "nbformat_minor": 5
}
