{
 "cells": [
  {
   "cell_type": "code",
   "execution_count": 1,
   "id": "94761116-1530-448d-a1f6-593d90bec639",
   "metadata": {},
   "outputs": [
    {
     "name": "stdout",
     "output_type": "stream",
     "text": [
      "Collecting tokenizers\n",
      "  Downloading tokenizers-0.13.3-cp38-cp38-manylinux_2_17_x86_64.manylinux2014_x86_64.whl (7.8 MB)\n",
      "\u001b[2K     \u001b[90m━━━━━━━━━━━━━━━━━━━━━━━━━━━━━━━━━━━━━━━━\u001b[0m \u001b[32m7.8/7.8 MB\u001b[0m \u001b[31m11.0 MB/s\u001b[0m eta \u001b[36m0:00:00\u001b[0m00:01\u001b[0m00:01\u001b[0m\n",
      "\u001b[?25hInstalling collected packages: tokenizers\n",
      "Successfully installed tokenizers-0.13.3\n",
      "\u001b[33mWARNING: Running pip as the 'root' user can result in broken permissions and conflicting behaviour with the system package manager. It is recommended to use a virtual environment instead: https://pip.pypa.io/warnings/venv\u001b[0m\u001b[33m\n",
      "\u001b[0m"
     ]
    },
    {
     "name": "stderr",
     "output_type": "stream",
     "text": [
      "2023-05-07 16:59:13.952437: I tensorflow/core/platform/cpu_feature_guard.cc:194] This TensorFlow binary is optimized with oneAPI Deep Neural Network Library (oneDNN) to use the following CPU instructions in performance-critical operations:  SSE3 SSE4.1 SSE4.2 AVX\n",
      "To enable them in other operations, rebuild TensorFlow with the appropriate compiler flags.\n"
     ]
    }
   ],
   "source": [
    "!pip install tokenizers\n",
    "import tensorflow as tf\n",
    "from tokenizers import Tokenizer, models, pre_tokenizers, trainers, Regex\n",
    "import tokenizers\n",
    "import pandas as pd"
   ]
  },
  {
   "cell_type": "code",
   "execution_count": 2,
   "id": "fada8fbb-9dc2-4e9d-935d-2cb0d6684738",
   "metadata": {},
   "outputs": [],
   "source": [
    "model_name = 'lstm_cnn'"
   ]
  },
  {
   "cell_type": "markdown",
   "id": "aa46fb49-08a8-4809-b697-680813299d47",
   "metadata": {},
   "source": [
    "# Load data"
   ]
  },
  {
   "cell_type": "code",
   "execution_count": 3,
   "id": "d01ad050-f023-4253-bc33-72c76bce3944",
   "metadata": {},
   "outputs": [],
   "source": [
    "df = pd.read_csv('/home/user/files_for_research_Vova/processed_data.csv',\\\n",
    "                 usecols=['review_translate',\n",
    "                                                            'dataset_name',\n",
    "                                                            'rating',\n",
    "                                                           'translated'])"
   ]
  },
  {
   "cell_type": "code",
   "execution_count": 4,
   "id": "99ee8e3a-2281-4ec1-8107-49e3ba47d2a9",
   "metadata": {},
   "outputs": [
    {
     "data": {
      "text/html": [
       "<div>\n",
       "<style scoped>\n",
       "    .dataframe tbody tr th:only-of-type {\n",
       "        vertical-align: middle;\n",
       "    }\n",
       "\n",
       "    .dataframe tbody tr th {\n",
       "        vertical-align: top;\n",
       "    }\n",
       "\n",
       "    .dataframe thead th {\n",
       "        text-align: right;\n",
       "    }\n",
       "</style>\n",
       "<table border=\"1\" class=\"dataframe\">\n",
       "  <thead>\n",
       "    <tr style=\"text-align: right;\">\n",
       "      <th></th>\n",
       "      <th>review_translate</th>\n",
       "      <th>rating</th>\n",
       "      <th>dataset_name</th>\n",
       "      <th>translated</th>\n",
       "    </tr>\n",
       "  </thead>\n",
       "  <tbody>\n",
       "    <tr>\n",
       "      <th>0</th>\n",
       "      <td>Якісна пластмаса , переворот 360 градусвв</td>\n",
       "      <td>5.0</td>\n",
       "      <td>rozetka</td>\n",
       "      <td>False</td>\n",
       "    </tr>\n",
       "    <tr>\n",
       "      <th>1</th>\n",
       "      <td>За такі гроші це самий топ</td>\n",
       "      <td>5.0</td>\n",
       "      <td>rozetka</td>\n",
       "      <td>False</td>\n",
       "    </tr>\n",
       "    <tr>\n",
       "      <th>2</th>\n",
       "      <td>За такі гроші - просто супер ! Рекомендую .</td>\n",
       "      <td>5.0</td>\n",
       "      <td>rozetka</td>\n",
       "      <td>False</td>\n",
       "    </tr>\n",
       "    <tr>\n",
       "      <th>3</th>\n",
       "      <td>Виконує свою роботу не погано . але що ви хоті...</td>\n",
       "      <td>4.0</td>\n",
       "      <td>rozetka</td>\n",
       "      <td>False</td>\n",
       "    </tr>\n",
       "    <tr>\n",
       "      <th>4</th>\n",
       "      <td>Купляв на стару сістему як основний під віндов...</td>\n",
       "      <td>4.0</td>\n",
       "      <td>rozetka</td>\n",
       "      <td>False</td>\n",
       "    </tr>\n",
       "  </tbody>\n",
       "</table>\n",
       "</div>"
      ],
      "text/plain": [
       "                                    review_translate  rating dataset_name  \\\n",
       "0          Якісна пластмаса , переворот 360 градусвв     5.0      rozetka   \n",
       "1                         За такі гроші це самий топ     5.0      rozetka   \n",
       "2        За такі гроші - просто супер ! Рекомендую .     5.0      rozetka   \n",
       "3  Виконує свою роботу не погано . але що ви хоті...     4.0      rozetka   \n",
       "4  Купляв на стару сістему як основний під віндов...     4.0      rozetka   \n",
       "\n",
       "   translated  \n",
       "0       False  \n",
       "1       False  \n",
       "2       False  \n",
       "3       False  \n",
       "4       False  "
      ]
     },
     "execution_count": 4,
     "metadata": {},
     "output_type": "execute_result"
    }
   ],
   "source": [
    "df.head()"
   ]
  },
  {
   "cell_type": "code",
   "execution_count": 5,
   "id": "870b0de2-18ef-42ce-9bd5-1ff68b8a1776",
   "metadata": {},
   "outputs": [],
   "source": [
    "subsets = pd.read_csv('/home/user/files_for_research_Vova/train_val_test_indices.csv')"
   ]
  },
  {
   "cell_type": "code",
   "execution_count": 6,
   "id": "778fb1c0-5396-480b-8ce5-e728d06fc3d8",
   "metadata": {},
   "outputs": [
    {
     "data": {
      "text/html": [
       "<div>\n",
       "<style scoped>\n",
       "    .dataframe tbody tr th:only-of-type {\n",
       "        vertical-align: middle;\n",
       "    }\n",
       "\n",
       "    .dataframe tbody tr th {\n",
       "        vertical-align: top;\n",
       "    }\n",
       "\n",
       "    .dataframe thead th {\n",
       "        text-align: right;\n",
       "    }\n",
       "</style>\n",
       "<table border=\"1\" class=\"dataframe\">\n",
       "  <thead>\n",
       "    <tr style=\"text-align: right;\">\n",
       "      <th></th>\n",
       "      <th>index</th>\n",
       "      <th>split</th>\n",
       "    </tr>\n",
       "  </thead>\n",
       "  <tbody>\n",
       "    <tr>\n",
       "      <th>0</th>\n",
       "      <td>0</td>\n",
       "      <td>train</td>\n",
       "    </tr>\n",
       "    <tr>\n",
       "      <th>1</th>\n",
       "      <td>1</td>\n",
       "      <td>test</td>\n",
       "    </tr>\n",
       "    <tr>\n",
       "      <th>2</th>\n",
       "      <td>2</td>\n",
       "      <td>train</td>\n",
       "    </tr>\n",
       "    <tr>\n",
       "      <th>3</th>\n",
       "      <td>3</td>\n",
       "      <td>train</td>\n",
       "    </tr>\n",
       "    <tr>\n",
       "      <th>4</th>\n",
       "      <td>4</td>\n",
       "      <td>train</td>\n",
       "    </tr>\n",
       "  </tbody>\n",
       "</table>\n",
       "</div>"
      ],
      "text/plain": [
       "   index  split\n",
       "0      0  train\n",
       "1      1   test\n",
       "2      2  train\n",
       "3      3  train\n",
       "4      4  train"
      ]
     },
     "execution_count": 6,
     "metadata": {},
     "output_type": "execute_result"
    }
   ],
   "source": [
    "subsets.head()"
   ]
  },
  {
   "cell_type": "code",
   "execution_count": 7,
   "id": "bb145e0a-2bf5-4004-b334-15433414769a",
   "metadata": {},
   "outputs": [],
   "source": [
    "subsets = subsets.merge(df[['dataset_name', 'translated']], left_on='index', right_index=True)"
   ]
  },
  {
   "cell_type": "markdown",
   "id": "2fe0c095-3a54-4967-994d-4117bf0ad6b1",
   "metadata": {},
   "source": [
    "# Filter data"
   ]
  },
  {
   "cell_type": "code",
   "execution_count": 8,
   "id": "644e66a2-4830-40b7-9b13-9eb38aed44f4",
   "metadata": {},
   "outputs": [],
   "source": [
    "bad_indices = pd.read_csv('/home/user/files_for_research_Vova/files_to_check.csv')"
   ]
  },
  {
   "cell_type": "code",
   "execution_count": 9,
   "id": "2bbd7d18-4c8e-4035-a971-c57dba152976",
   "metadata": {},
   "outputs": [],
   "source": [
    "subsets = subsets[~subsets.index.isin(bad_indices['id'].values)]"
   ]
  },
  {
   "cell_type": "code",
   "execution_count": 10,
   "id": "4e5d1659-306d-4f1e-a3b3-e7a7adfaf948",
   "metadata": {},
   "outputs": [],
   "source": [
    "df = df[~df.index.isin(bad_indices['id'].values)]"
   ]
  },
  {
   "cell_type": "code",
   "execution_count": 11,
   "id": "b26a6d87-e1cc-4d11-bf78-62c58df82b5f",
   "metadata": {},
   "outputs": [],
   "source": [
    "df, subsets = df.reset_index().drop(columns='index'), subsets.reset_index().drop(columns='index')"
   ]
  },
  {
   "cell_type": "markdown",
   "id": "f35025fc-9c2c-490e-9231-10f4b38e230b",
   "metadata": {},
   "source": [
    "# Load tokenizer"
   ]
  },
  {
   "cell_type": "code",
   "execution_count": 12,
   "id": "dc7ca142-1e37-49c2-b8b8-2d5f74ee98c8",
   "metadata": {},
   "outputs": [],
   "source": [
    "tokenizer = Tokenizer.from_file(\"/home/user/files_for_research_Vova/tokenizer_30k.json\")\n"
   ]
  },
  {
   "cell_type": "markdown",
   "id": "a86c13af-5e8f-49e4-b337-7b3a70163c1c",
   "metadata": {},
   "source": [
    "# Encode text"
   ]
  },
  {
   "cell_type": "code",
   "execution_count": 13,
   "id": "ef69c9c8-b050-4904-8e93-5e1b89361f8d",
   "metadata": {},
   "outputs": [],
   "source": [
    "import seaborn as sns\n",
    "import numpy as np"
   ]
  },
  {
   "cell_type": "code",
   "execution_count": 14,
   "id": "e2e913ba-749b-4161-a2db-0cb6af2b025c",
   "metadata": {},
   "outputs": [],
   "source": [
    "sns.set()"
   ]
  },
  {
   "cell_type": "code",
   "execution_count": 15,
   "id": "0dda1c9a-9961-4097-bd69-3e5bd58d6789",
   "metadata": {},
   "outputs": [],
   "source": [
    "df['review_translate'] = df['review_translate'].str.lower()"
   ]
  },
  {
   "cell_type": "code",
   "execution_count": 16,
   "id": "3151fe97-eded-408c-be0d-df2b49051e7c",
   "metadata": {},
   "outputs": [],
   "source": [
    "df['encoded'] = tokenizer.encode_batch(df['review_translate'].values)"
   ]
  },
  {
   "cell_type": "code",
   "execution_count": 17,
   "id": "8c01d676-5e85-4b7d-b7c0-5d99b8ba1d44",
   "metadata": {},
   "outputs": [],
   "source": [
    "df['encoded'] = df['encoded'].apply(lambda x: x.ids)"
   ]
  },
  {
   "cell_type": "code",
   "execution_count": 18,
   "id": "47ddda71-f140-49f7-89c8-fea94b8bcdfd",
   "metadata": {},
   "outputs": [
    {
     "name": "stderr",
     "output_type": "stream",
     "text": [
      "/tmp/ipykernel_1/3749403729.py:1: UserWarning: \n",
      "\n",
      "`distplot` is a deprecated function and will be removed in seaborn v0.14.0.\n",
      "\n",
      "Please adapt your code to use either `displot` (a figure-level function with\n",
      "similar flexibility) or `histplot` (an axes-level function for histograms).\n",
      "\n",
      "For a guide to updating your code to use the new functions, please see\n",
      "https://gist.github.com/mwaskom/de44147ed2974457ad6372750bbe5751\n",
      "\n",
      "  sns.distplot(np.log10(df['encoded'].apply(len)))\n"
     ]
    },
    {
     "data": {
      "text/plain": [
       "<AxesSubplot: xlabel='encoded', ylabel='Density'>"
      ]
     },
     "execution_count": 18,
     "metadata": {},
     "output_type": "execute_result"
    },
    {
     "data": {
      "image/png": "[encoded data removed]",
      "text/plain": [
       "<Figure size 640x480 with 1 Axes>"
      ]
     },
     "metadata": {},
     "output_type": "display_data"
    }
   ],
   "source": [
    "sns.distplot(np.log10(df['encoded'].apply(len)))"
   ]
  },
  {
   "cell_type": "code",
   "execution_count": 19,
   "id": "e81a0c0b-0dd0-4437-872e-0c13fc041b99",
   "metadata": {},
   "outputs": [
    {
     "data": {
      "text/plain": [
       "324.0"
      ]
     },
     "execution_count": 19,
     "metadata": {},
     "output_type": "execute_result"
    }
   ],
   "source": [
    "np.percentile(df['encoded'].apply(len), 99)"
   ]
  },
  {
   "cell_type": "code",
   "execution_count": 20,
   "id": "c680a61a-cee2-4fbd-9a97-17a9c7ec74a9",
   "metadata": {},
   "outputs": [],
   "source": [
    "encoded_tokens = df['encoded'].values"
   ]
  },
  {
   "cell_type": "code",
   "execution_count": 21,
   "id": "b3d6e285-87e6-4ce1-be8a-cb614270a8a4",
   "metadata": {},
   "outputs": [],
   "source": [
    "from itertools import chain"
   ]
  },
  {
   "cell_type": "code",
   "execution_count": 22,
   "id": "7f8c9fac-7ed8-45c3-8114-763b1ed0c138",
   "metadata": {},
   "outputs": [],
   "source": [
    "padded_tokens = tf.keras.preprocessing.sequence\\\n",
    ".pad_sequences(encoded_tokens, maxlen=300, padding=\"post\")\n"
   ]
  },
  {
   "cell_type": "code",
   "execution_count": 23,
   "id": "8137187b-fd7f-4199-883e-7ff778a94c0a",
   "metadata": {},
   "outputs": [
    {
     "data": {
      "text/plain": [
       "(655470, 300)"
      ]
     },
     "execution_count": 23,
     "metadata": {},
     "output_type": "execute_result"
    }
   ],
   "source": [
    "padded_tokens.shape"
   ]
  },
  {
   "cell_type": "markdown",
   "id": "5bc9a5b3-3794-4ab8-a16d-fa572ac9d2f6",
   "metadata": {},
   "source": [
    "# Get labels and split data"
   ]
  },
  {
   "cell_type": "code",
   "execution_count": 24,
   "id": "fbdb3b33-cbb6-4024-b683-8819ad6d7b3f",
   "metadata": {},
   "outputs": [],
   "source": [
    "mapping = dict([(i,c) for c,i in enumerate(df['rating'].unique())])"
   ]
  },
  {
   "cell_type": "code",
   "execution_count": 25,
   "id": "0d9dcd18-b69c-4b71-8f83-85f750be1daa",
   "metadata": {},
   "outputs": [],
   "source": [
    "y = df['rating'].map(mapping).values"
   ]
  },
  {
   "cell_type": "code",
   "execution_count": 26,
   "id": "abf0a14a-7050-4689-806f-dbe4f094f0d8",
   "metadata": {},
   "outputs": [],
   "source": [
    "num_classes = len(set(y))"
   ]
  },
  {
   "cell_type": "code",
   "execution_count": 27,
   "id": "59b5a397-faf0-43be-b498-a3d4af06fbc0",
   "metadata": {},
   "outputs": [],
   "source": [
    "train_indices, val_indices, test_indices = subsets[subsets['split']=='train'].index.tolist(),\\\n",
    "subsets[subsets['split']=='val'].index.tolist(),\\\n",
    "subsets[subsets['split']=='test'].index.tolist()\n"
   ]
  },
  {
   "cell_type": "code",
   "execution_count": 28,
   "id": "7564a2e1-11d7-44cf-803b-03b4eb3b0dce",
   "metadata": {},
   "outputs": [],
   "source": [
    "train_y, val_y, test_y = y[train_indices], y[val_indices], y[test_indices]"
   ]
  },
  {
   "cell_type": "code",
   "execution_count": 29,
   "id": "39adcfe4-0446-4673-bbad-dfdc972fb7d0",
   "metadata": {},
   "outputs": [],
   "source": [
    "train_x, val_x, test_x = padded_tokens[train_indices], padded_tokens[val_indices],\\\n",
    "padded_tokens[test_indices]"
   ]
  },
  {
   "cell_type": "code",
   "execution_count": 30,
   "id": "bce92ef9-7a5c-4f99-86e0-18544e93101f",
   "metadata": {},
   "outputs": [
    {
     "data": {
      "text/plain": [
       "(524346, 300)"
      ]
     },
     "execution_count": 30,
     "metadata": {},
     "output_type": "execute_result"
    }
   ],
   "source": [
    "train_x.shape"
   ]
  },
  {
   "cell_type": "markdown",
   "id": "a0f0ac0e-11a7-436a-9fd3-cfa9229d7ec8",
   "metadata": {},
   "source": [
    "# Create  model"
   ]
  },
  {
   "cell_type": "code",
   "execution_count": 48,
   "id": "9f289fe1-9416-4bba-90c9-5422ebd88c1d",
   "metadata": {},
   "outputs": [],
   "source": [
    "tf.keras.backend.clear_session()\n",
    "np.random.seed(0)\n",
    "tf.random.set_seed(0)\n",
    "input_layer = tf.keras.layers.Input(shape=(300,), name='input')\n",
    "word_embedding = tf.keras.layers.Embedding(input_dim=tokenizer.get_vocab_size(),\n",
    "                                                   output_dim=300,\n",
    "                                                   trainable=True,\n",
    "                                           name='embedding',\n",
    "                                           mask_zero=True\n",
    "                                                   )\n",
    "conv1d = tf.keras.layers.Conv1D(filters=32, kernel_size=3, activation='relu',\n",
    "                                   name=f'conv_ngram_3')\n",
    "max_pooling = tf.keras.layers.MaxPool1D(pool_size=2, strides=1,\n",
    "                                           padding='valid')\n",
    "dropout = tf.keras.layers.SpatialDropout1D(0.3)\n",
    "lstm = tf.keras.layers.LSTM(128, name='lstm',\n",
    "                           return_sequences=True)\n",
    "\n",
    "embedded = dropout(word_embedding(input_layer))\n",
    "hidden_states = lstm(embedded)\n",
    "after_conv1d = conv1d(hidden_states)\n",
    "pooled = max_pooling(after_conv1d)\n",
    "x = tf.keras.layers.Flatten(name='flatten')(pooled)\n",
    "x = tf.keras.layers.Dense(128, activation='relu', name='dense')(x)\n",
    "x = tf.keras.layers.Dropout(0.5, name='dropout')(x)\n",
    "output = tf.keras.layers.Dense(num_classes, activation='softmax', name='output')(x)\n",
    "model = tf.keras.Model(input_layer, output)"
   ]
  },
  {
   "cell_type": "markdown",
   "id": "5df15e13-921d-4eaa-b433-7500dc153a5f",
   "metadata": {},
   "source": [
    "# Compile model"
   ]
  },
  {
   "cell_type": "code",
   "execution_count": 49,
   "id": "a272e87d-a23a-4940-81fa-569451e2ea5c",
   "metadata": {},
   "outputs": [],
   "source": [
    "model.compile(loss='sparse_categorical_crossentropy', \\\n",
    "              optimizer=tf.keras.optimizers.Adam(),\n",
    "             metrics=['acc'])"
   ]
  },
  {
   "cell_type": "code",
   "execution_count": 50,
   "id": "7baa74f7-21cf-42b1-83fa-bb1bed688e6e",
   "metadata": {},
   "outputs": [
    {
     "name": "stdout",
     "output_type": "stream",
     "text": [
      "Model: \"model\"\n",
      "_________________________________________________________________\n",
      " Layer (type)                Output Shape              Param #   \n",
      "=================================================================\n",
      " input (InputLayer)          [(None, 300)]             0         \n",
      "                                                                 \n",
      " embedding (Embedding)       (None, 300, 300)          9000000   \n",
      "                                                                 \n",
      " spatial_dropout1d (SpatialD  (None, 300, 300)         0         \n",
      " ropout1D)                                                       \n",
      "                                                                 \n",
      " lstm (LSTM)                 (None, 300, 128)          219648    \n",
      "                                                                 \n",
      " conv_ngram_3 (Conv1D)       (None, 298, 32)           12320     \n",
      "                                                                 \n",
      " max_pooling1d (MaxPooling1D  (None, 297, 32)          0         \n",
      " )                                                               \n",
      "                                                                 \n",
      " flatten (Flatten)           (None, 9504)              0         \n",
      "                                                                 \n",
      " dense (Dense)               (None, 128)               1216640   \n",
      "                                                                 \n",
      " dropout (Dropout)           (None, 128)               0         \n",
      "                                                                 \n",
      " output (Dense)              (None, 5)                 645       \n",
      "                                                                 \n",
      "=================================================================\n",
      "Total params: 10,449,253\n",
      "Trainable params: 10,449,253\n",
      "Non-trainable params: 0\n",
      "_________________________________________________________________\n"
     ]
    }
   ],
   "source": [
    "model.summary()"
   ]
  },
  {
   "cell_type": "markdown",
   "id": "d9db9424-2b20-4d10-8da4-0c55152abe57",
   "metadata": {},
   "source": [
    "# Early stopping"
   ]
  },
  {
   "cell_type": "code",
   "execution_count": 34,
   "id": "9c9801fe-9cd2-47e2-9cad-58efbf4205a7",
   "metadata": {},
   "outputs": [],
   "source": [
    "import operator\n",
    "class EarlyStopping:\n",
    "    def __init__(self, tolerance=5, mode='min'):\n",
    "        assert mode in ['min','max'], 'Mode should be min or max'\n",
    "        self.mode = operator.lt if mode=='min' else operator.gt \n",
    "        self.tolerance = tolerance\n",
    "        self.counter = 0\n",
    "        self.early_stop = False\n",
    "        self.extremum_value = None\n",
    "        self.best_model = None\n",
    "    \n",
    "    @staticmethod\n",
    "    def copy_model(model):\n",
    "        copied_model = tf.keras.models.clone_model(model)\n",
    "        copied_model.set_weights(model.get_weights())\n",
    "        return copied_model\n",
    "        \n",
    "    def __call__(self, val, model):\n",
    "        if self.extremum_value is None:\n",
    "            self.extremum_value = val\n",
    "            self.best_model = self.copy_model(model)\n",
    "        else:\n",
    "            if not self.mode(val, self.extremum_value):\n",
    "                self.counter+=1\n",
    "            else:\n",
    "                self.extremum_value = val\n",
    "                self.best_model = self.copy_model(model)\n",
    "                self.counter = 0\n",
    "        \n",
    "        if self.counter==self.tolerance:\n",
    "            self.early_stop=True"
   ]
  },
  {
   "cell_type": "markdown",
   "id": "7676e473-8116-488e-990d-dc7937d9119c",
   "metadata": {},
   "source": [
    "# Train model"
   ]
  },
  {
   "cell_type": "code",
   "execution_count": 35,
   "id": "eed6de2d-be45-45cd-af31-b9042d1a20af",
   "metadata": {},
   "outputs": [],
   "source": [
    "from sklearn.metrics import f1_score"
   ]
  },
  {
   "cell_type": "code",
   "execution_count": 43,
   "id": "fbe8fc41-6661-4a56-ad5d-d1a4ed3e53f5",
   "metadata": {},
   "outputs": [],
   "source": [
    "def evaluate_on_datasets(y_true, y_pred, split='val'):\n",
    "    d = {}\n",
    "    for dataset_name in subsets['dataset_name'].unique():\n",
    "            idx = subsets[subsets['split']==split].copy()\n",
    "            idx['index'] = list(range(idx.shape[0]))\n",
    "            idx = idx[(idx['dataset_name']==dataset_name)]\\\n",
    "            ['index'].values.tolist()\n",
    "            score = f1_score(y_true=y_true[idx], y_pred=y_pred[idx],\n",
    "                                 average='macro')\n",
    "            print(f'{split} f1 score for dataset {dataset_name} : {score}')\n",
    "            d[f'{split}_f1_{dataset_name}'] = score\n",
    "            \n",
    "    for flag in [True, False]:\n",
    "        idx = subsets[subsets['split']==split].copy()\n",
    "        idx['index'] = list(range(idx.shape[0]))\n",
    "        idx = idx[idx['translated']==flag]['index'].values.tolist()\n",
    "        score = f1_score(y_true=y_true[idx], y_pred=y_pred[idx],\n",
    "                                 average='macro')\n",
    "        print(f'{split} f1 score for translated=={flag} : {score}')\n",
    "        d[f'{split}_f1_translated=={flag}'] = score\n",
    "    return d"
   ]
  },
  {
   "cell_type": "code",
   "execution_count": 44,
   "id": "f43c7824-1d7a-4fc1-b095-53902f428b3f",
   "metadata": {},
   "outputs": [],
   "source": [
    "def update_history(history, d):\n",
    "    for key, value in d.items():\n",
    "        res = history.get(key, [])\n",
    "        res.append(value)\n",
    "        history[key] = res"
   ]
  },
  {
   "cell_type": "code",
   "execution_count": 45,
   "id": "39c90c92-f6c9-4f00-94f0-582ebdf71912",
   "metadata": {},
   "outputs": [],
   "source": [
    "early_stopping = EarlyStopping(mode='max', tolerance=4)"
   ]
  },
  {
   "cell_type": "code",
   "execution_count": 46,
   "id": "e4354a40-79f8-4991-a26e-6d2422a4b9dd",
   "metadata": {},
   "outputs": [],
   "source": [
    "def training_loop(model, epochs=10, batch_size=128):\n",
    "    dict_history = {}\n",
    "    for i in range(epochs):\n",
    "        \n",
    "        #train model\n",
    "        history = model.fit(train_x, train_y, validation_data=(val_x, val_y), \n",
    "          epochs=1, batch_size=batch_size,\n",
    "                           verbose=0)\n",
    "        train_loss, val_loss = history.history['loss'][-1], history.history['val_loss'][-1]\n",
    "        \n",
    "        #evaluate model\n",
    "        train_prediction = np.argmax(model.predict(train_x, batch_size=batch_size), axis=-1)\n",
    "        val_prediction = np.argmax(model.predict(val_x, batch_size=batch_size), axis=-1)\n",
    "        train_f1 = f1_score(y_true=train_y, y_pred=train_prediction,\n",
    "                           average='macro')\n",
    "        val_f1 = f1_score(y_true=val_y, y_pred=val_prediction,\n",
    "                         average='macro')\n",
    "        \n",
    "        #printing evaluation\n",
    "        print(f'Epoch {i}')\n",
    "        print(f'Overall train f1 : {train_f1}, overall val f1: {val_f1}')\n",
    "        print(f'Train loss : {train_loss}, val loss: {val_loss}')\n",
    "        d_train = evaluate_on_datasets(y_true=train_y, y_pred=train_prediction, split='train')\n",
    "        d_val = evaluate_on_datasets(y_true=val_y, y_pred=val_prediction, split='val')\n",
    "            \n",
    "        if i!=epochs-1:\n",
    "            print('-'*30)\n",
    "            \n",
    "        #save history\n",
    "        update_history(dict_history, d_train)\n",
    "        update_history(dict_history, d_val)\n",
    "        update_history(dict_history, {'train_f1': train_f1})\n",
    "        update_history(dict_history, {'val_f1': val_f1})\n",
    "        update_history(dict_history, {'train_loss': train_loss})\n",
    "        update_history(dict_history, {'val_loss': val_loss})\n",
    "        #early stopping\n",
    "        \n",
    "        early_stopping(val_f1, model)\n",
    "        if early_stopping.early_stop:\n",
    "            print('Stopping early')\n",
    "            model = early_stopping.best_model\n",
    "            break\n",
    "        \n",
    "    return dict_history, model"
   ]
  },
  {
   "cell_type": "code",
   "execution_count": 51,
   "id": "73c7d40c-fd2c-41cc-9938-ee4f58a8a0b5",
   "metadata": {},
   "outputs": [
    {
     "name": "stdout",
     "output_type": "stream",
     "text": [
      "257/257 [==============================] - 9s 29ms/step\n",
      "33/33 [==============================] - 1s 27ms/step\n",
      "Epoch 0\n",
      "Overall train f1 : 0.4864567954656104, overall val f1: 0.4597009147151027\n",
      "Train loss : 0.7724502086639404, val loss: 0.6457168459892273\n",
      "train f1 score for dataset rozetka : 0.430498318689554\n",
      "train f1 score for dataset tripadvisor_hotels_ukraine : 0.526375161832965\n",
      "train f1 score for dataset tripadvisor_restaurants_ukraine : 0.5242237548299542\n",
      "train f1 score for translated==True : 0.4944717723990665\n",
      "train f1 score for translated==False : 0.42702888225716834\n",
      "val f1 score for dataset rozetka : 0.4008195452928641\n",
      "val f1 score for dataset tripadvisor_hotels_ukraine : 0.5022060374440758\n",
      "val f1 score for dataset tripadvisor_restaurants_ukraine : 0.49839591217020773\n",
      "val f1 score for translated==True : 0.46723645264160096\n",
      "val f1 score for translated==False : 0.40038348742446955\n",
      "------------------------------\n",
      "257/257 [==============================] - 7s 28ms/step\n",
      "33/33 [==============================] - 1s 27ms/step\n",
      "Epoch 1\n",
      "Overall train f1 : 0.5496582115495575, overall val f1: 0.498396260077568\n",
      "Train loss : 0.6148660778999329, val loss: 0.6237049102783203\n",
      "train f1 score for dataset rozetka : 0.49634867116227993\n",
      "train f1 score for dataset tripadvisor_hotels_ukraine : 0.5842874900537763\n",
      "train f1 score for dataset tripadvisor_restaurants_ukraine : 0.5881874879371336\n",
      "train f1 score for translated==True : 0.5561128261615879\n",
      "train f1 score for translated==False : 0.5018320071328958\n",
      "val f1 score for dataset rozetka : 0.44640995194180605\n",
      "val f1 score for dataset tripadvisor_hotels_ukraine : 0.5382094505421318\n",
      "val f1 score for dataset tripadvisor_restaurants_ukraine : 0.5337937883196654\n",
      "val f1 score for translated==True : 0.5049451402926771\n",
      "val f1 score for translated==False : 0.4487212009868514\n",
      "------------------------------\n",
      "257/257 [==============================] - 7s 28ms/step\n",
      "33/33 [==============================] - 1s 27ms/step\n",
      "Epoch 2\n",
      "Overall train f1 : 0.5451053085219669, overall val f1: 0.4869094576584219\n",
      "Train loss : 0.5709483623504639, val loss: 0.6638162732124329\n",
      "train f1 score for dataset rozetka : 0.5003002678072163\n",
      "train f1 score for dataset tripadvisor_hotels_ukraine : 0.5692144904196865\n",
      "train f1 score for dataset tripadvisor_restaurants_ukraine : 0.579039734233153\n",
      "train f1 score for translated==True : 0.5511020535647406\n",
      "train f1 score for translated==False : 0.5015303021944264\n",
      "val f1 score for dataset rozetka : 0.4401447216996635\n",
      "val f1 score for dataset tripadvisor_hotels_ukraine : 0.5146573803895265\n",
      "val f1 score for dataset tripadvisor_restaurants_ukraine : 0.5213531717188628\n",
      "val f1 score for translated==True : 0.49311384286944665\n",
      "val f1 score for translated==False : 0.44008055052641826\n",
      "------------------------------\n",
      "257/257 [==============================] - 7s 28ms/step\n",
      "33/33 [==============================] - 1s 26ms/step\n",
      "Epoch 3\n",
      "Overall train f1 : 0.5867449482231255, overall val f1: 0.4955961140699623\n",
      "Train loss : 0.5366981029510498, val loss: 0.6642857193946838\n",
      "train f1 score for dataset rozetka : 0.5389457913914963\n",
      "train f1 score for dataset tripadvisor_hotels_ukraine : 0.618704924751688\n",
      "train f1 score for dataset tripadvisor_restaurants_ukraine : 0.6234718461391401\n",
      "train f1 score for translated==True : 0.5925764769173649\n",
      "train f1 score for translated==False : 0.544950703480706\n",
      "val f1 score for dataset rozetka : 0.4506794522884081\n",
      "val f1 score for dataset tripadvisor_hotels_ukraine : 0.5249769901990523\n",
      "val f1 score for dataset tripadvisor_restaurants_ukraine : 0.5294851770467066\n",
      "val f1 score for translated==True : 0.5007705421280194\n",
      "val f1 score for translated==False : 0.45501353496335273\n",
      "------------------------------\n",
      "257/257 [==============================] - 7s 28ms/step\n",
      "33/33 [==============================] - 1s 26ms/step\n",
      "Epoch 4\n",
      "Overall train f1 : 0.6283669448694942, overall val f1: 0.51092728970461\n",
      "Train loss : 0.5079786777496338, val loss: 0.7003982067108154\n",
      "train f1 score for dataset rozetka : 0.5865133870698462\n",
      "train f1 score for dataset tripadvisor_hotels_ukraine : 0.6557024184976384\n",
      "train f1 score for dataset tripadvisor_restaurants_ukraine : 0.6588823166126734\n",
      "train f1 score for translated==True : 0.6332456341126874\n",
      "train f1 score for translated==False : 0.5923971590903464\n",
      "val f1 score for dataset rozetka : 0.47025732344041626\n",
      "val f1 score for dataset tripadvisor_hotels_ukraine : 0.5290518478557653\n",
      "val f1 score for dataset tripadvisor_restaurants_ukraine : 0.5409326528018357\n",
      "val f1 score for translated==True : 0.5164961674721733\n",
      "val f1 score for translated==False : 0.46734986478096585\n",
      "------------------------------\n",
      "257/257 [==============================] - 7s 29ms/step\n",
      "33/33 [==============================] - 1s 26ms/step\n",
      "Epoch 5\n",
      "Overall train f1 : 0.6108054467777266, overall val f1: 0.5045455135739874\n",
      "Train loss : 0.4794912040233612, val loss: 0.8135397434234619\n",
      "train f1 score for dataset rozetka : 0.5691574283019413\n",
      "train f1 score for dataset tripadvisor_hotels_ukraine : 0.633763608275458\n",
      "train f1 score for dataset tripadvisor_restaurants_ukraine : 0.6423513631115233\n",
      "train f1 score for translated==True : 0.6157609960999688\n",
      "train f1 score for translated==False : 0.5747326886782913\n",
      "val f1 score for dataset rozetka : 0.46689117007164427\n",
      "val f1 score for dataset tripadvisor_hotels_ukraine : 0.5147503417682596\n",
      "val f1 score for dataset tripadvisor_restaurants_ukraine : 0.5340433310147519\n",
      "val f1 score for translated==True : 0.5107097367763103\n",
      "val f1 score for translated==False : 0.4570395238805647\n",
      "------------------------------\n",
      "257/257 [==============================] - 7s 28ms/step\n",
      "33/33 [==============================] - 1s 26ms/step\n",
      "Epoch 6\n",
      "Overall train f1 : 0.6247808768231672, overall val f1: 0.5048424725963805\n",
      "Train loss : 0.45861467719078064, val loss: 0.8319470882415771\n",
      "train f1 score for dataset rozetka : 0.5914812927256757\n",
      "train f1 score for dataset tripadvisor_hotels_ukraine : 0.6400042621120747\n",
      "train f1 score for dataset tripadvisor_restaurants_ukraine : 0.6496993759079978\n",
      "train f1 score for translated==True : 0.6286875472119922\n",
      "train f1 score for translated==False : 0.5955766298831098\n",
      "val f1 score for dataset rozetka : 0.46982356037970324\n",
      "val f1 score for dataset tripadvisor_hotels_ukraine : 0.5163720925827429\n",
      "val f1 score for dataset tripadvisor_restaurants_ukraine : 0.5299366827018795\n",
      "val f1 score for translated==True : 0.5102079564075306\n",
      "val f1 score for translated==False : 0.46335826313898726\n",
      "------------------------------\n",
      "257/257 [==============================] - 7s 28ms/step\n",
      "33/33 [==============================] - 1s 26ms/step\n",
      "Epoch 7\n",
      "Overall train f1 : 0.6752195186595834, overall val f1: 0.5083454263717131\n",
      "Train loss : 0.44040918350219727, val loss: 0.768973708152771\n",
      "train f1 score for dataset rozetka : 0.6373992956312227\n",
      "train f1 score for dataset tripadvisor_hotels_ukraine : 0.6995714261242583\n",
      "train f1 score for dataset tripadvisor_restaurants_ukraine : 0.7024209118084794\n",
      "train f1 score for translated==True : 0.6793193436678217\n",
      "train f1 score for translated==False : 0.6442450593196384\n",
      "val f1 score for dataset rozetka : 0.47550733930077865\n",
      "val f1 score for dataset tripadvisor_hotels_ukraine : 0.5140660555962325\n",
      "val f1 score for dataset tripadvisor_restaurants_ukraine : 0.5329858541948261\n",
      "val f1 score for translated==True : 0.5106881266520097\n",
      "val f1 score for translated==False : 0.4849979703049462\n",
      "------------------------------\n",
      "257/257 [==============================] - 7s 28ms/step\n",
      "33/33 [==============================] - 1s 27ms/step\n",
      "Epoch 8\n",
      "Overall train f1 : 0.6370925269276851, overall val f1: 0.4905058540614634\n",
      "Train loss : 0.41718050837516785, val loss: 0.8331370949745178\n",
      "train f1 score for dataset rozetka : 0.6047539780454335\n",
      "train f1 score for dataset tripadvisor_hotels_ukraine : 0.6489391033266786\n",
      "train f1 score for dataset tripadvisor_restaurants_ukraine : 0.6624064462115239\n",
      "train f1 score for translated==True : 0.6403330327149765\n",
      "train f1 score for translated==False : 0.6118055235053257\n",
      "val f1 score for dataset rozetka : 0.46025760760243334\n",
      "val f1 score for dataset tripadvisor_hotels_ukraine : 0.49473708216254914\n",
      "val f1 score for dataset tripadvisor_restaurants_ukraine : 0.5144236221692242\n",
      "val f1 score for translated==True : 0.49290224581722325\n",
      "val f1 score for translated==False : 0.4688022100435071\n",
      "------------------------------\n",
      "Stopping early\n"
     ]
    }
   ],
   "source": [
    "dict_history, model = \\\n",
    "training_loop(model, epochs=20, batch_size=2048)"
   ]
  },
  {
   "cell_type": "code",
   "execution_count": 52,
   "id": "fc16eb41-29c6-443e-95a6-b263a76a65bc",
   "metadata": {},
   "outputs": [
    {
     "data": {
      "text/plain": [
       "{'train_f1_rozetka': [0.430498318689554,\n",
       "  0.49634867116227993,\n",
       "  0.5003002678072163,\n",
       "  0.5389457913914963,\n",
       "  0.5865133870698462,\n",
       "  0.5691574283019413,\n",
       "  0.5914812927256757,\n",
       "  0.6373992956312227,\n",
       "  0.6047539780454335],\n",
       " 'train_f1_tripadvisor_hotels_ukraine': [0.526375161832965,\n",
       "  0.5842874900537763,\n",
       "  0.5692144904196865,\n",
       "  0.618704924751688,\n",
       "  0.6557024184976384,\n",
       "  0.633763608275458,\n",
       "  0.6400042621120747,\n",
       "  0.6995714261242583,\n",
       "  0.6489391033266786],\n",
       " 'train_f1_tripadvisor_restaurants_ukraine': [0.5242237548299542,\n",
       "  0.5881874879371336,\n",
       "  0.579039734233153,\n",
       "  0.6234718461391401,\n",
       "  0.6588823166126734,\n",
       "  0.6423513631115233,\n",
       "  0.6496993759079978,\n",
       "  0.7024209118084794,\n",
       "  0.6624064462115239],\n",
       " 'train_f1_translated==True': [0.4944717723990665,\n",
       "  0.5561128261615879,\n",
       "  0.5511020535647406,\n",
       "  0.5925764769173649,\n",
       "  0.6332456341126874,\n",
       "  0.6157609960999688,\n",
       "  0.6286875472119922,\n",
       "  0.6793193436678217,\n",
       "  0.6403330327149765],\n",
       " 'train_f1_translated==False': [0.42702888225716834,\n",
       "  0.5018320071328958,\n",
       "  0.5015303021944264,\n",
       "  0.544950703480706,\n",
       "  0.5923971590903464,\n",
       "  0.5747326886782913,\n",
       "  0.5955766298831098,\n",
       "  0.6442450593196384,\n",
       "  0.6118055235053257],\n",
       " 'val_f1_rozetka': [0.4008195452928641,\n",
       "  0.44640995194180605,\n",
       "  0.4401447216996635,\n",
       "  0.4506794522884081,\n",
       "  0.47025732344041626,\n",
       "  0.46689117007164427,\n",
       "  0.46982356037970324,\n",
       "  0.47550733930077865,\n",
       "  0.46025760760243334],\n",
       " 'val_f1_tripadvisor_hotels_ukraine': [0.5022060374440758,\n",
       "  0.5382094505421318,\n",
       "  0.5146573803895265,\n",
       "  0.5249769901990523,\n",
       "  0.5290518478557653,\n",
       "  0.5147503417682596,\n",
       "  0.5163720925827429,\n",
       "  0.5140660555962325,\n",
       "  0.49473708216254914],\n",
       " 'val_f1_tripadvisor_restaurants_ukraine': [0.49839591217020773,\n",
       "  0.5337937883196654,\n",
       "  0.5213531717188628,\n",
       "  0.5294851770467066,\n",
       "  0.5409326528018357,\n",
       "  0.5340433310147519,\n",
       "  0.5299366827018795,\n",
       "  0.5329858541948261,\n",
       "  0.5144236221692242],\n",
       " 'val_f1_translated==True': [0.46723645264160096,\n",
       "  0.5049451402926771,\n",
       "  0.49311384286944665,\n",
       "  0.5007705421280194,\n",
       "  0.5164961674721733,\n",
       "  0.5107097367763103,\n",
       "  0.5102079564075306,\n",
       "  0.5106881266520097,\n",
       "  0.49290224581722325],\n",
       " 'val_f1_translated==False': [0.40038348742446955,\n",
       "  0.4487212009868514,\n",
       "  0.44008055052641826,\n",
       "  0.45501353496335273,\n",
       "  0.46734986478096585,\n",
       "  0.4570395238805647,\n",
       "  0.46335826313898726,\n",
       "  0.4849979703049462,\n",
       "  0.4688022100435071],\n",
       " 'train_f1': [0.4864567954656104,\n",
       "  0.5496582115495575,\n",
       "  0.5451053085219669,\n",
       "  0.5867449482231255,\n",
       "  0.6283669448694942,\n",
       "  0.6108054467777266,\n",
       "  0.6247808768231672,\n",
       "  0.6752195186595834,\n",
       "  0.6370925269276851],\n",
       " 'val_f1': [0.4597009147151027,\n",
       "  0.498396260077568,\n",
       "  0.4869094576584219,\n",
       "  0.4955961140699623,\n",
       "  0.51092728970461,\n",
       "  0.5045455135739874,\n",
       "  0.5048424725963805,\n",
       "  0.5083454263717131,\n",
       "  0.4905058540614634],\n",
       " 'train_loss': [0.7724502086639404,\n",
       "  0.6148660778999329,\n",
       "  0.5709483623504639,\n",
       "  0.5366981029510498,\n",
       "  0.5079786777496338,\n",
       "  0.4794912040233612,\n",
       "  0.45861467719078064,\n",
       "  0.44040918350219727,\n",
       "  0.41718050837516785],\n",
       " 'val_loss': [0.6457168459892273,\n",
       "  0.6237049102783203,\n",
       "  0.6638162732124329,\n",
       "  0.6642857193946838,\n",
       "  0.7003982067108154,\n",
       "  0.8135397434234619,\n",
       "  0.8319470882415771,\n",
       "  0.768973708152771,\n",
       "  0.8331370949745178]}"
      ]
     },
     "execution_count": 52,
     "metadata": {},
     "output_type": "execute_result"
    }
   ],
   "source": [
    "dict_history"
   ]
  },
  {
   "cell_type": "markdown",
   "id": "b8d77413-4c00-4295-b7db-fe06dd7b23b5",
   "metadata": {},
   "source": [
    "# Show charts"
   ]
  },
  {
   "cell_type": "code",
   "execution_count": 53,
   "id": "b7f8ef02-623e-4ebb-8e1d-8da77c3ed9bc",
   "metadata": {},
   "outputs": [],
   "source": [
    "import seaborn as sns\n",
    "import matplotlib.pyplot as plt"
   ]
  },
  {
   "cell_type": "code",
   "execution_count": 54,
   "id": "521cf7cf-e1b2-42ce-8e95-5a2e61440247",
   "metadata": {},
   "outputs": [],
   "source": [
    "def plot_history(dict_history, columns):\n",
    "    plt.figure(figsize=(12,8))\n",
    "    for i in columns:\n",
    "        to_plot = dict_history[i]\n",
    "        plt.plot(range(len(to_plot)), to_plot, 'o-')\n",
    "    plt.xticks(range(len(to_plot)), range(len(to_plot)))\n",
    "    plt.xlabel('Epochs')\n",
    "    plt.legend(columns)"
   ]
  },
  {
   "cell_type": "code",
   "execution_count": 55,
   "id": "7c3ca35a-2166-4552-bc23-67c6bfe314d7",
   "metadata": {},
   "outputs": [
    {
     "data": {
      "image/png": "[encoded data removed]",
      "text/plain": [
       "<Figure size 1200x800 with 1 Axes>"
      ]
     },
     "metadata": {},
     "output_type": "display_data"
    }
   ],
   "source": [
    "plot_history(dict_history, ['val_loss', 'train_loss'])"
   ]
  },
  {
   "cell_type": "code",
   "execution_count": 56,
   "id": "09978e6c-1975-4fe9-b6ed-064e00c1809e",
   "metadata": {},
   "outputs": [
    {
     "data": {
      "image/png": "[encoded data removed]",
      "text/plain": [
       "<Figure size 1200x800 with 1 Axes>"
      ]
     },
     "metadata": {},
     "output_type": "display_data"
    }
   ],
   "source": [
    "plot_history(dict_history, ['val_f1', 'train_f1'])"
   ]
  },
  {
   "cell_type": "markdown",
   "id": "9763d7cb-3c09-425e-984f-7675f7fae0e9",
   "metadata": {},
   "source": [
    "# Evaluate model"
   ]
  },
  {
   "cell_type": "code",
   "execution_count": 57,
   "id": "4bb7e54e-5868-4379-8456-c3c5ef648c33",
   "metadata": {},
   "outputs": [
    {
     "name": "stdout",
     "output_type": "stream",
     "text": [
      "33/33 [==============================] - 3s 26ms/step\n"
     ]
    }
   ],
   "source": [
    "test_predictions = np.argmax(model.predict(test_x, 2048), axis=-1)"
   ]
  },
  {
   "cell_type": "code",
   "execution_count": 58,
   "id": "bc061fbf-e0a9-40be-8cb7-e356aef090d5",
   "metadata": {},
   "outputs": [
    {
     "name": "stdout",
     "output_type": "stream",
     "text": [
      "Overall test f1-score : 0.5212747145424681\n"
     ]
    }
   ],
   "source": [
    "test_f1 = f1_score(y_true=test_y, y_pred=test_predictions,\n",
    "                         average='macro')\n",
    "print(f'Overall test f1-score : {test_f1}')"
   ]
  },
  {
   "cell_type": "code",
   "execution_count": 59,
   "id": "24a4badc-8c22-4bdc-8fb2-f7f68dbb56b7",
   "metadata": {},
   "outputs": [
    {
     "name": "stdout",
     "output_type": "stream",
     "text": [
      "test f1 score for dataset rozetka : 0.4827010086758062\n",
      "test f1 score for dataset tripadvisor_hotels_ukraine : 0.5507857440358805\n",
      "test f1 score for dataset tripadvisor_restaurants_ukraine : 0.5468290408741845\n",
      "test f1 score for translated==True : 0.5266106351714457\n",
      "test f1 score for translated==False : 0.47959031480082465\n"
     ]
    }
   ],
   "source": [
    "test_results = evaluate_on_datasets(y_true=test_y, y_pred=test_predictions,split='test')\n",
    "                     "
   ]
  },
  {
   "cell_type": "markdown",
   "id": "5447ad8a-3695-499c-9fe3-6d6d9cc2834c",
   "metadata": {},
   "source": [
    "# Save history results"
   ]
  },
  {
   "cell_type": "code",
   "execution_count": 60,
   "id": "b1d1cb15-8dae-414b-80c9-cabbcfd4168d",
   "metadata": {},
   "outputs": [],
   "source": [
    "history = pd.DataFrame(dict_history)\n",
    "for k,v in test_results.items():\n",
    "    history[k] = v"
   ]
  },
  {
   "cell_type": "code",
   "execution_count": 61,
   "id": "b2fc4c15-4277-4913-8080-91cddcc4d734",
   "metadata": {},
   "outputs": [],
   "source": [
    "history['model'] = model_name"
   ]
  },
  {
   "cell_type": "code",
   "execution_count": 62,
   "id": "344fd96f-8e81-47b6-8332-0bb3892edfa4",
   "metadata": {},
   "outputs": [],
   "source": [
    "history.to_csv(\"/home/user/jupyter_notebooks/Ukranian-SA/notebooks/training/training_results_filtered.csv\", mode='a', header=None, index=None)"
   ]
  },
  {
   "cell_type": "markdown",
   "id": "95cf90b5-fcc2-4c1c-bd3c-3084bf2c8e7d",
   "metadata": {},
   "source": [
    "# Save model"
   ]
  },
  {
   "cell_type": "code",
   "execution_count": 63,
   "id": "cf61010a-6dee-42b8-93a1-f9a02ebb4d07",
   "metadata": {},
   "outputs": [
    {
     "name": "stdout",
     "output_type": "stream",
     "text": [
      "WARNING:tensorflow:Compiled the loaded model, but the compiled metrics have yet to be built. `model.compile_metrics` will be empty until you train or evaluate the model.\n"
     ]
    }
   ],
   "source": [
    "model.save(f'/home/user/files_for_research_Vova/{model_name}.h5')"
   ]
  },
  {
   "cell_type": "code",
   "execution_count": null,
   "id": "6f484bf1-0929-4958-a69d-d75488ada5ec",
   "metadata": {},
   "outputs": [],
   "source": []
  }
 ],
 "metadata": {
  "kernelspec": {
   "display_name": "tensorflow_cuda12",
   "language": "python",
   "name": "tensorflow_cuda12"
  },
  "language_info": {
   "codemirror_mode": {
    "name": "ipython",
    "version": 3
   },
   "file_extension": ".py",
   "mimetype": "text/x-python",
   "name": "python",
   "nbconvert_exporter": "python",
   "pygments_lexer": "ipython3",
   "version": "3.8.10"
  }
 },
 "nbformat": 4,
 "nbformat_minor": 5
}
