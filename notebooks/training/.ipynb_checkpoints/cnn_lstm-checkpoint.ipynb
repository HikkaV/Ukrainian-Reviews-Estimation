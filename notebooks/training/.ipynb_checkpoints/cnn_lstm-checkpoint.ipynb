{
 "cells": [
  {
   "cell_type": "code",
   "execution_count": 1,
   "id": "94761116-1530-448d-a1f6-593d90bec639",
   "metadata": {},
   "outputs": [
    {
     "name": "stdout",
     "output_type": "stream",
     "text": [
      "Collecting tokenizers\n",
      "  Downloading tokenizers-0.13.3-cp38-cp38-manylinux_2_17_x86_64.manylinux2014_x86_64.whl (7.8 MB)\n",
      "\u001b[2K     \u001b[90m━━━━━━━━━━━━━━━━━━━━━━━━━━━━━━━━━━━━━━━━\u001b[0m \u001b[32m7.8/7.8 MB\u001b[0m \u001b[31m11.0 MB/s\u001b[0m eta \u001b[36m0:00:00\u001b[0m00:01\u001b[0m00:01\u001b[0m\n",
      "\u001b[?25hInstalling collected packages: tokenizers\n",
      "Successfully installed tokenizers-0.13.3\n",
      "\u001b[33mWARNING: Running pip as the 'root' user can result in broken permissions and conflicting behaviour with the system package manager. It is recommended to use a virtual environment instead: https://pip.pypa.io/warnings/venv\u001b[0m\u001b[33m\n",
      "\u001b[0m"
     ]
    },
    {
     "name": "stderr",
     "output_type": "stream",
     "text": [
      "2023-04-11 13:56:10.139605: I tensorflow/core/platform/cpu_feature_guard.cc:194] This TensorFlow binary is optimized with oneAPI Deep Neural Network Library (oneDNN) to use the following CPU instructions in performance-critical operations:  SSE3 SSE4.1 SSE4.2 AVX\n",
      "To enable them in other operations, rebuild TensorFlow with the appropriate compiler flags.\n"
     ]
    }
   ],
   "source": [
    "!pip install tokenizers\n",
    "import tensorflow as tf\n",
    "from tokenizers import Tokenizer, models, pre_tokenizers, trainers, Regex\n",
    "import tokenizers\n",
    "import pandas as pd"
   ]
  },
  {
   "cell_type": "code",
   "execution_count": 2,
   "id": "fada8fbb-9dc2-4e9d-935d-2cb0d6684738",
   "metadata": {},
   "outputs": [],
   "source": [
    "model_name = 'cnn_lstm'"
   ]
  },
  {
   "cell_type": "markdown",
   "id": "aa46fb49-08a8-4809-b697-680813299d47",
   "metadata": {},
   "source": [
    "# Load data"
   ]
  },
  {
   "cell_type": "code",
   "execution_count": 3,
   "id": "d01ad050-f023-4253-bc33-72c76bce3944",
   "metadata": {},
   "outputs": [],
   "source": [
    "df = pd.read_csv('/home/user/files_for_research_Vova/processed_data.csv', usecols=['review_translate',\n",
    "                                                            'dataset_name',\n",
    "                                                            'rating',\n",
    "                                                           'translated'])"
   ]
  },
  {
   "cell_type": "code",
   "execution_count": 4,
   "id": "99ee8e3a-2281-4ec1-8107-49e3ba47d2a9",
   "metadata": {},
   "outputs": [
    {
     "data": {
      "text/html": [
       "<div>\n",
       "<style scoped>\n",
       "    .dataframe tbody tr th:only-of-type {\n",
       "        vertical-align: middle;\n",
       "    }\n",
       "\n",
       "    .dataframe tbody tr th {\n",
       "        vertical-align: top;\n",
       "    }\n",
       "\n",
       "    .dataframe thead th {\n",
       "        text-align: right;\n",
       "    }\n",
       "</style>\n",
       "<table border=\"1\" class=\"dataframe\">\n",
       "  <thead>\n",
       "    <tr style=\"text-align: right;\">\n",
       "      <th></th>\n",
       "      <th>review_translate</th>\n",
       "      <th>rating</th>\n",
       "      <th>dataset_name</th>\n",
       "      <th>translated</th>\n",
       "    </tr>\n",
       "  </thead>\n",
       "  <tbody>\n",
       "    <tr>\n",
       "      <th>0</th>\n",
       "      <td>Якісна пластмаса , переворот 360 градусвв</td>\n",
       "      <td>5.0</td>\n",
       "      <td>rozetka</td>\n",
       "      <td>False</td>\n",
       "    </tr>\n",
       "    <tr>\n",
       "      <th>1</th>\n",
       "      <td>За такі гроші це самий топ</td>\n",
       "      <td>5.0</td>\n",
       "      <td>rozetka</td>\n",
       "      <td>False</td>\n",
       "    </tr>\n",
       "    <tr>\n",
       "      <th>2</th>\n",
       "      <td>За такі гроші - просто супер ! Рекомендую .</td>\n",
       "      <td>5.0</td>\n",
       "      <td>rozetka</td>\n",
       "      <td>False</td>\n",
       "    </tr>\n",
       "    <tr>\n",
       "      <th>3</th>\n",
       "      <td>Виконує свою роботу не погано . але що ви хоті...</td>\n",
       "      <td>4.0</td>\n",
       "      <td>rozetka</td>\n",
       "      <td>False</td>\n",
       "    </tr>\n",
       "    <tr>\n",
       "      <th>4</th>\n",
       "      <td>Купляв на стару сістему як основний під віндов...</td>\n",
       "      <td>4.0</td>\n",
       "      <td>rozetka</td>\n",
       "      <td>False</td>\n",
       "    </tr>\n",
       "  </tbody>\n",
       "</table>\n",
       "</div>"
      ],
      "text/plain": [
       "                                    review_translate  rating dataset_name  \\\n",
       "0          Якісна пластмаса , переворот 360 градусвв     5.0      rozetka   \n",
       "1                         За такі гроші це самий топ     5.0      rozetka   \n",
       "2        За такі гроші - просто супер ! Рекомендую .     5.0      rozetka   \n",
       "3  Виконує свою роботу не погано . але що ви хоті...     4.0      rozetka   \n",
       "4  Купляв на стару сістему як основний під віндов...     4.0      rozetka   \n",
       "\n",
       "   translated  \n",
       "0       False  \n",
       "1       False  \n",
       "2       False  \n",
       "3       False  \n",
       "4       False  "
      ]
     },
     "execution_count": 4,
     "metadata": {},
     "output_type": "execute_result"
    }
   ],
   "source": [
    "df.head()"
   ]
  },
  {
   "cell_type": "code",
   "execution_count": 5,
   "id": "870b0de2-18ef-42ce-9bd5-1ff68b8a1776",
   "metadata": {},
   "outputs": [],
   "source": [
    "subsets = pd.read_csv('/home/user/files_for_research_Vova/train_val_test_indices.csv')"
   ]
  },
  {
   "cell_type": "code",
   "execution_count": 6,
   "id": "778fb1c0-5396-480b-8ce5-e728d06fc3d8",
   "metadata": {},
   "outputs": [
    {
     "data": {
      "text/html": [
       "<div>\n",
       "<style scoped>\n",
       "    .dataframe tbody tr th:only-of-type {\n",
       "        vertical-align: middle;\n",
       "    }\n",
       "\n",
       "    .dataframe tbody tr th {\n",
       "        vertical-align: top;\n",
       "    }\n",
       "\n",
       "    .dataframe thead th {\n",
       "        text-align: right;\n",
       "    }\n",
       "</style>\n",
       "<table border=\"1\" class=\"dataframe\">\n",
       "  <thead>\n",
       "    <tr style=\"text-align: right;\">\n",
       "      <th></th>\n",
       "      <th>index</th>\n",
       "      <th>split</th>\n",
       "    </tr>\n",
       "  </thead>\n",
       "  <tbody>\n",
       "    <tr>\n",
       "      <th>0</th>\n",
       "      <td>0</td>\n",
       "      <td>train</td>\n",
       "    </tr>\n",
       "    <tr>\n",
       "      <th>1</th>\n",
       "      <td>1</td>\n",
       "      <td>test</td>\n",
       "    </tr>\n",
       "    <tr>\n",
       "      <th>2</th>\n",
       "      <td>2</td>\n",
       "      <td>train</td>\n",
       "    </tr>\n",
       "    <tr>\n",
       "      <th>3</th>\n",
       "      <td>3</td>\n",
       "      <td>train</td>\n",
       "    </tr>\n",
       "    <tr>\n",
       "      <th>4</th>\n",
       "      <td>4</td>\n",
       "      <td>train</td>\n",
       "    </tr>\n",
       "  </tbody>\n",
       "</table>\n",
       "</div>"
      ],
      "text/plain": [
       "   index  split\n",
       "0      0  train\n",
       "1      1   test\n",
       "2      2  train\n",
       "3      3  train\n",
       "4      4  train"
      ]
     },
     "execution_count": 6,
     "metadata": {},
     "output_type": "execute_result"
    }
   ],
   "source": [
    "subsets.head()"
   ]
  },
  {
   "cell_type": "code",
   "execution_count": 7,
   "id": "bb145e0a-2bf5-4004-b334-15433414769a",
   "metadata": {},
   "outputs": [],
   "source": [
    "subsets = subsets.merge(df[['dataset_name', 'translated']], left_on='index', right_index=True)"
   ]
  },
  {
   "cell_type": "markdown",
   "id": "f35025fc-9c2c-490e-9231-10f4b38e230b",
   "metadata": {},
   "source": [
    "# Load tokenizer"
   ]
  },
  {
   "cell_type": "code",
   "execution_count": 8,
   "id": "dc7ca142-1e37-49c2-b8b8-2d5f74ee98c8",
   "metadata": {},
   "outputs": [],
   "source": [
    "tokenizer = Tokenizer.from_file(\"/home/user/files_for_research_Vova/tokenizer_30k.json\")\n"
   ]
  },
  {
   "cell_type": "markdown",
   "id": "a86c13af-5e8f-49e4-b337-7b3a70163c1c",
   "metadata": {},
   "source": [
    "# Encode text"
   ]
  },
  {
   "cell_type": "code",
   "execution_count": 9,
   "id": "ef69c9c8-b050-4904-8e93-5e1b89361f8d",
   "metadata": {},
   "outputs": [],
   "source": [
    "import seaborn as sns\n",
    "import numpy as np"
   ]
  },
  {
   "cell_type": "code",
   "execution_count": 10,
   "id": "e2e913ba-749b-4161-a2db-0cb6af2b025c",
   "metadata": {},
   "outputs": [],
   "source": [
    "sns.set()"
   ]
  },
  {
   "cell_type": "code",
   "execution_count": 11,
   "id": "0dda1c9a-9961-4097-bd69-3e5bd58d6789",
   "metadata": {},
   "outputs": [],
   "source": [
    "df['review_translate'] = df['review_translate'].str.lower()"
   ]
  },
  {
   "cell_type": "code",
   "execution_count": 12,
   "id": "3151fe97-eded-408c-be0d-df2b49051e7c",
   "metadata": {},
   "outputs": [],
   "source": [
    "df['encoded'] = tokenizer.encode_batch(df['review_translate'].values)"
   ]
  },
  {
   "cell_type": "code",
   "execution_count": 13,
   "id": "8c01d676-5e85-4b7d-b7c0-5d99b8ba1d44",
   "metadata": {},
   "outputs": [],
   "source": [
    "df['encoded'] = df['encoded'].apply(lambda x: x.ids)"
   ]
  },
  {
   "cell_type": "code",
   "execution_count": 14,
   "id": "47ddda71-f140-49f7-89c8-fea94b8bcdfd",
   "metadata": {},
   "outputs": [
    {
     "name": "stderr",
     "output_type": "stream",
     "text": [
      "/tmp/ipykernel_1/3749403729.py:1: UserWarning: \n",
      "\n",
      "`distplot` is a deprecated function and will be removed in seaborn v0.14.0.\n",
      "\n",
      "Please adapt your code to use either `displot` (a figure-level function with\n",
      "similar flexibility) or `histplot` (an axes-level function for histograms).\n",
      "\n",
      "For a guide to updating your code to use the new functions, please see\n",
      "https://gist.github.com/mwaskom/de44147ed2974457ad6372750bbe5751\n",
      "\n",
      "  sns.distplot(np.log10(df['encoded'].apply(len)))\n"
     ]
    },
    {
     "data": {
      "text/plain": [
       "<AxesSubplot: xlabel='encoded', ylabel='Density'>"
      ]
     },
     "execution_count": 14,
     "metadata": {},
     "output_type": "execute_result"
    },
    {
     "data": {
      "image/png": "[encoded data removed]",
      "text/plain": [
       "<Figure size 640x480 with 1 Axes>"
      ]
     },
     "metadata": {},
     "output_type": "display_data"
    }
   ],
   "source": [
    "sns.distplot(np.log10(df['encoded'].apply(len)))"
   ]
  },
  {
   "cell_type": "code",
   "execution_count": 15,
   "id": "e81a0c0b-0dd0-4437-872e-0c13fc041b99",
   "metadata": {},
   "outputs": [
    {
     "data": {
      "text/plain": [
       "323.0"
      ]
     },
     "execution_count": 15,
     "metadata": {},
     "output_type": "execute_result"
    }
   ],
   "source": [
    "np.percentile(df['encoded'].apply(len), 99)"
   ]
  },
  {
   "cell_type": "code",
   "execution_count": 16,
   "id": "c680a61a-cee2-4fbd-9a97-17a9c7ec74a9",
   "metadata": {},
   "outputs": [],
   "source": [
    "encoded_tokens = df['encoded'].values"
   ]
  },
  {
   "cell_type": "code",
   "execution_count": 17,
   "id": "b3d6e285-87e6-4ce1-be8a-cb614270a8a4",
   "metadata": {},
   "outputs": [],
   "source": [
    "from itertools import chain"
   ]
  },
  {
   "cell_type": "code",
   "execution_count": 18,
   "id": "7f8c9fac-7ed8-45c3-8114-763b1ed0c138",
   "metadata": {},
   "outputs": [],
   "source": [
    "padded_tokens = tf.keras.preprocessing.sequence\\\n",
    ".pad_sequences(encoded_tokens, maxlen=300, padding=\"post\")\n"
   ]
  },
  {
   "cell_type": "code",
   "execution_count": 19,
   "id": "8137187b-fd7f-4199-883e-7ff778a94c0a",
   "metadata": {},
   "outputs": [
    {
     "data": {
      "text/plain": [
       "(662907, 300)"
      ]
     },
     "execution_count": 19,
     "metadata": {},
     "output_type": "execute_result"
    }
   ],
   "source": [
    "padded_tokens.shape"
   ]
  },
  {
   "cell_type": "markdown",
   "id": "5bc9a5b3-3794-4ab8-a16d-fa572ac9d2f6",
   "metadata": {},
   "source": [
    "# Get labels and split data"
   ]
  },
  {
   "cell_type": "code",
   "execution_count": 20,
   "id": "fbdb3b33-cbb6-4024-b683-8819ad6d7b3f",
   "metadata": {},
   "outputs": [],
   "source": [
    "mapping = dict([(i,c) for c,i in enumerate(df['rating'].unique())])"
   ]
  },
  {
   "cell_type": "code",
   "execution_count": 21,
   "id": "0d9dcd18-b69c-4b71-8f83-85f750be1daa",
   "metadata": {},
   "outputs": [],
   "source": [
    "y = df['rating'].map(mapping).values"
   ]
  },
  {
   "cell_type": "code",
   "execution_count": 22,
   "id": "abf0a14a-7050-4689-806f-dbe4f094f0d8",
   "metadata": {},
   "outputs": [],
   "source": [
    "num_classes = len(set(y))"
   ]
  },
  {
   "cell_type": "code",
   "execution_count": 23,
   "id": "59b5a397-faf0-43be-b498-a3d4af06fbc0",
   "metadata": {},
   "outputs": [],
   "source": [
    "train_indices, val_indices, test_indices = subsets[subsets['split']=='train'].index.tolist(),\\\n",
    "subsets[subsets['split']=='val'].index.tolist(),\\\n",
    "subsets[subsets['split']=='test'].index.tolist()\n"
   ]
  },
  {
   "cell_type": "code",
   "execution_count": 24,
   "id": "7564a2e1-11d7-44cf-803b-03b4eb3b0dce",
   "metadata": {},
   "outputs": [],
   "source": [
    "train_y, val_y, test_y = y[train_indices], y[val_indices], y[test_indices]"
   ]
  },
  {
   "cell_type": "code",
   "execution_count": 25,
   "id": "39adcfe4-0446-4673-bbad-dfdc972fb7d0",
   "metadata": {},
   "outputs": [],
   "source": [
    "train_x, val_x, test_x = padded_tokens[train_indices], padded_tokens[val_indices],\\\n",
    "padded_tokens[test_indices]"
   ]
  },
  {
   "cell_type": "code",
   "execution_count": 26,
   "id": "bce92ef9-7a5c-4f99-86e0-18544e93101f",
   "metadata": {},
   "outputs": [
    {
     "data": {
      "text/plain": [
       "(530324, 300)"
      ]
     },
     "execution_count": 26,
     "metadata": {},
     "output_type": "execute_result"
    }
   ],
   "source": [
    "train_x.shape"
   ]
  },
  {
   "cell_type": "markdown",
   "id": "a0f0ac0e-11a7-436a-9fd3-cfa9229d7ec8",
   "metadata": {},
   "source": [
    "# Create  model"
   ]
  },
  {
   "cell_type": "code",
   "execution_count": 27,
   "id": "91941772-c544-43ae-bf45-b08d249c49c7",
   "metadata": {},
   "outputs": [
    {
     "name": "stderr",
     "output_type": "stream",
     "text": [
      "2023-04-11 13:57:45.834725: I tensorflow/core/platform/cpu_feature_guard.cc:194] This TensorFlow binary is optimized with oneAPI Deep Neural Network Library (oneDNN) to use the following CPU instructions in performance-critical operations:  SSE3 SSE4.1 SSE4.2 AVX\n",
      "To enable them in other operations, rebuild TensorFlow with the appropriate compiler flags.\n",
      "2023-04-11 13:57:46.030253: I tensorflow/core/common_runtime/gpu/gpu_device.cc:1621] Created device /job:localhost/replica:0/task:0/device:GPU:0 with 14148 MB memory:  -> device: 0, name: NVIDIA RTX A4000, pci bus id: 0000:03:00.0, compute capability: 8.6\n"
     ]
    }
   ],
   "source": [
    "tf.keras.backend.clear_session()\n",
    "np.random.seed(0)\n",
    "tf.random.set_seed(0)\n",
    "input_layer = tf.keras.layers.Input(shape=(300,), name='input')\n",
    "word_embedding = tf.keras.layers.Embedding(input_dim=tokenizer.get_vocab_size(),\n",
    "                                                   output_dim=300,\n",
    "                                                   trainable=True,\n",
    "                                           name='embedding',\n",
    "                                           mask_zero=True\n",
    "                                                   )\n",
    "conv1d = tf.keras.layers.Conv1D(filters=100, kernel_size=3, activation='relu',\n",
    "                                   name=f'conv_ngram_3')\n",
    "max_pooling = tf.keras.layers.MaxPool1D(pool_size=2, strides=1,\n",
    "                                           padding='valid')\n",
    "dropout = tf.keras.layers.SpatialDropout1D(0.3)\n",
    "lstm = tf.keras.layers.LSTM(128, name='lstm',\n",
    "                           return_sequences=False)\n",
    "\n",
    "embedded = dropout(word_embedding(input_layer))\n",
    "convolved = conv1d(embedded)\n",
    "max_pooled = max_pooling(convolved)\n",
    "hidden_state = lstm(max_pooled)\n",
    "x = tf.keras.layers.Dense(128, activation='relu', name='dense')(hidden_state)\n",
    "x = tf.keras.layers.Dropout(0.5, name='dropout')(x)\n",
    "output = tf.keras.layers.Dense(num_classes, activation='softmax', name='output')(x)\n",
    "model = tf.keras.Model(input_layer, output)"
   ]
  },
  {
   "cell_type": "code",
   "execution_count": 28,
   "id": "ff15a6a7-6034-4532-9002-8ae18b12b1c2",
   "metadata": {
    "tags": []
   },
   "outputs": [
    {
     "name": "stdout",
     "output_type": "stream",
     "text": [
      "Model: \"model\"\n",
      "_________________________________________________________________\n",
      " Layer (type)                Output Shape              Param #   \n",
      "=================================================================\n",
      " input (InputLayer)          [(None, 300)]             0         \n",
      "                                                                 \n",
      " embedding (Embedding)       (None, 300, 300)          9000000   \n",
      "                                                                 \n",
      " spatial_dropout1d (SpatialD  (None, 300, 300)         0         \n",
      " ropout1D)                                                       \n",
      "                                                                 \n",
      " conv_ngram_3 (Conv1D)       (None, 298, 100)          90100     \n",
      "                                                                 \n",
      " max_pooling1d (MaxPooling1D  (None, 297, 100)         0         \n",
      " )                                                               \n",
      "                                                                 \n",
      " lstm (LSTM)                 (None, 128)               117248    \n",
      "                                                                 \n",
      " dense (Dense)               (None, 128)               16512     \n",
      "                                                                 \n",
      " dropout (Dropout)           (None, 128)               0         \n",
      "                                                                 \n",
      " output (Dense)              (None, 5)                 645       \n",
      "                                                                 \n",
      "=================================================================\n",
      "Total params: 9,224,505\n",
      "Trainable params: 9,224,505\n",
      "Non-trainable params: 0\n",
      "_________________________________________________________________\n"
     ]
    }
   ],
   "source": [
    "model.summary()"
   ]
  },
  {
   "cell_type": "markdown",
   "id": "5df15e13-921d-4eaa-b433-7500dc153a5f",
   "metadata": {},
   "source": [
    "# Compile model"
   ]
  },
  {
   "cell_type": "code",
   "execution_count": 29,
   "id": "a272e87d-a23a-4940-81fa-569451e2ea5c",
   "metadata": {},
   "outputs": [],
   "source": [
    "model.compile(loss='sparse_categorical_crossentropy', \\\n",
    "              optimizer=tf.keras.optimizers.Adam(),\n",
    "             metrics=['acc'])"
   ]
  },
  {
   "cell_type": "markdown",
   "id": "d9db9424-2b20-4d10-8da4-0c55152abe57",
   "metadata": {},
   "source": [
    "# Early stopping"
   ]
  },
  {
   "cell_type": "code",
   "execution_count": 30,
   "id": "9c9801fe-9cd2-47e2-9cad-58efbf4205a7",
   "metadata": {},
   "outputs": [],
   "source": [
    "import operator\n",
    "class EarlyStopping:\n",
    "    def __init__(self, tolerance=5, mode='min'):\n",
    "        assert mode in ['min','max'], 'Mode should be min or max'\n",
    "        self.mode = operator.lt if mode=='min' else operator.gt \n",
    "        self.tolerance = tolerance\n",
    "        self.counter = 0\n",
    "        self.early_stop = False\n",
    "        self.extremum_value = None\n",
    "        self.best_model = None\n",
    "    \n",
    "    @staticmethod\n",
    "    def copy_model(model):\n",
    "        copied_model = tf.keras.models.clone_model(model)\n",
    "        copied_model.set_weights(model.get_weights())\n",
    "        return copied_model\n",
    "        \n",
    "    def __call__(self, val, model):\n",
    "        if self.extremum_value is None:\n",
    "            self.extremum_value = val\n",
    "            self.best_model = self.copy_model(model)\n",
    "        else:\n",
    "            if not self.mode(val, self.extremum_value):\n",
    "                self.counter+=1\n",
    "            else:\n",
    "                self.extremum_value = val\n",
    "                self.best_model = self.copy_model(model)\n",
    "                self.counter = 0\n",
    "        \n",
    "        if self.counter==self.tolerance:\n",
    "            self.early_stop=True"
   ]
  },
  {
   "cell_type": "markdown",
   "id": "7676e473-8116-488e-990d-dc7937d9119c",
   "metadata": {},
   "source": [
    "# Train model"
   ]
  },
  {
   "cell_type": "code",
   "execution_count": 31,
   "id": "eed6de2d-be45-45cd-af31-b9042d1a20af",
   "metadata": {},
   "outputs": [],
   "source": [
    "from sklearn.metrics import f1_score"
   ]
  },
  {
   "cell_type": "code",
   "execution_count": 32,
   "id": "fbe8fc41-6661-4a56-ad5d-d1a4ed3e53f5",
   "metadata": {},
   "outputs": [],
   "source": [
    "def evaluate_on_datasets(y_true, y_pred, split='val'):\n",
    "    d = {}\n",
    "    for dataset_name in subsets['dataset_name'].unique():\n",
    "            idx = subsets[subsets['split']==split].copy()\n",
    "            idx['index'] = list(range(idx.shape[0]))\n",
    "            idx = idx[(idx['dataset_name']==dataset_name)]\\\n",
    "            ['index'].values.tolist()\n",
    "            score = f1_score(y_true=y_true[idx], y_pred=y_pred[idx],\n",
    "                                 average='micro')\n",
    "            print(f'{split} f1 score for dataset {dataset_name} : {score}')\n",
    "            d[f'{split}_f1_{dataset_name}'] = score\n",
    "            \n",
    "    for flag in [True, False]:\n",
    "        idx = subsets[subsets['split']==split].copy()\n",
    "        idx['index'] = list(range(idx.shape[0]))\n",
    "        idx = idx[idx['translated']==flag]['index'].values.tolist()\n",
    "        score = f1_score(y_true=y_true[idx], y_pred=y_pred[idx],\n",
    "                                 average='micro')\n",
    "        print(f'{split} f1 score for translated=={flag} : {score}')\n",
    "        d[f'{split}_f1_translated=={flag}'] = score\n",
    "    return d"
   ]
  },
  {
   "cell_type": "code",
   "execution_count": 33,
   "id": "f43c7824-1d7a-4fc1-b095-53902f428b3f",
   "metadata": {},
   "outputs": [],
   "source": [
    "def update_history(history, d):\n",
    "    for key, value in d.items():\n",
    "        res = history.get(key, [])\n",
    "        res.append(value)\n",
    "        history[key] = res"
   ]
  },
  {
   "cell_type": "code",
   "execution_count": 34,
   "id": "39c90c92-f6c9-4f00-94f0-582ebdf71912",
   "metadata": {},
   "outputs": [],
   "source": [
    "early_stopping = EarlyStopping(mode='max', tolerance=4)"
   ]
  },
  {
   "cell_type": "code",
   "execution_count": 35,
   "id": "e4354a40-79f8-4991-a26e-6d2422a4b9dd",
   "metadata": {},
   "outputs": [],
   "source": [
    "def training_loop(model, epochs=10, batch_size=128):\n",
    "    dict_history = {}\n",
    "    for i in range(epochs):\n",
    "        \n",
    "        #train model\n",
    "        history = model.fit(train_x, train_y, validation_data=(val_x, val_y), \n",
    "          epochs=1, batch_size=batch_size,\n",
    "                           verbose=0)\n",
    "        train_loss, val_loss = history.history['loss'][-1], history.history['val_loss'][-1]\n",
    "        \n",
    "        #evaluate model\n",
    "        train_prediction = np.argmax(model.predict(train_x, batch_size), axis=-1)\n",
    "        val_prediction = np.argmax(model.predict(val_x, batch_size), axis=-1)\n",
    "        train_f1 = f1_score(y_true=train_y, y_pred=train_prediction,\n",
    "                           average='micro')\n",
    "        val_f1 = f1_score(y_true=val_y, y_pred=val_prediction,\n",
    "                         average='micro')\n",
    "        \n",
    "        #printing evaluation\n",
    "        print(f'Epoch {i}')\n",
    "        print(f'Overall train f1 : {train_f1}, overall val f1: {val_f1}')\n",
    "        print(f'Train loss : {train_loss}, val loss: {val_loss}')\n",
    "        d_train = evaluate_on_datasets(y_true=train_y, y_pred=train_prediction, split='train')\n",
    "        d_val = evaluate_on_datasets(y_true=val_y, y_pred=val_prediction, split='val')\n",
    "            \n",
    "        if i!=epochs-1:\n",
    "            print('-'*30)\n",
    "            \n",
    "        #save history\n",
    "        update_history(dict_history, d_train)\n",
    "        update_history(dict_history, d_val)\n",
    "        update_history(dict_history, {'train_f1': train_f1})\n",
    "        update_history(dict_history, {'val_f1': val_f1})\n",
    "        update_history(dict_history, {'train_loss': train_loss})\n",
    "        update_history(dict_history, {'val_loss': val_loss})\n",
    "        #early stopping\n",
    "        \n",
    "        early_stopping(val_f1, model)\n",
    "        if early_stopping.early_stop:\n",
    "            print('Stopping early')\n",
    "            model = early_stopping.best_model\n",
    "            break\n",
    "        \n",
    "    return dict_history, model"
   ]
  },
  {
   "cell_type": "code",
   "execution_count": 36,
   "id": "73c7d40c-fd2c-41cc-9938-ee4f58a8a0b5",
   "metadata": {},
   "outputs": [
    {
     "name": "stderr",
     "output_type": "stream",
     "text": [
      "2023-04-11 13:58:07.103810: I tensorflow/compiler/xla/stream_executor/cuda/cuda_dnn.cc:428] Loaded cuDNN version 8700\n",
      "2023-04-11 13:58:07.650907: I tensorflow/compiler/xla/stream_executor/cuda/cuda_blas.cc:648] TensorFloat-32 will be used for the matrix multiplication. This will only be logged once.\n",
      "2023-04-11 13:58:07.716873: I tensorflow/compiler/xla/service/service.cc:173] XLA service 0x7f72ec9418b0 initialized for platform CUDA (this does not guarantee that XLA will be used). Devices:\n",
      "2023-04-11 13:58:07.716962: I tensorflow/compiler/xla/service/service.cc:181]   StreamExecutor device (0): NVIDIA RTX A4000, Compute Capability 8.6\n",
      "2023-04-11 13:58:07.724323: I tensorflow/compiler/mlir/tensorflow/utils/dump_mlir_util.cc:268] disabling MLIR crash reproducer, set env var `MLIR_CRASH_REPRODUCER_DIRECTORY` to enable.\n",
      "2023-04-11 13:58:07.894833: I tensorflow/compiler/jit/xla_compilation_cache.cc:480] Compiled cluster using XLA!  This line is logged at most once for the lifetime of the process.\n"
     ]
    },
    {
     "name": "stdout",
     "output_type": "stream",
     "text": [
      "518/518 [==============================] - 13s 23ms/step\n",
      "65/65 [==============================] - 2s 24ms/step\n",
      "Epoch 0\n",
      "Overall train f1 : 0.6556143037086762, overall val f1: 0.6554382259767687\n",
      "Train loss : 1.0960532426834106, val loss: 1.076014518737793\n",
      "train f1 score for dataset rozetka : 0.7133590915907053\n",
      "train f1 score for dataset tripadvisor_hotels_ukraine : 0.5578231292517006\n",
      "train f1 score for dataset tripadvisor_restaurants_ukraine : 0.5781683142423767\n",
      "train f1 score for translated==True : 0.6391641979991576\n",
      "train f1 score for translated==False : 0.7258784354654341\n",
      "val f1 score for dataset rozetka : 0.7142273725049773\n",
      "val f1 score for dataset tripadvisor_hotels_ukraine : 0.5567371450018767\n",
      "val f1 score for dataset tripadvisor_restaurants_ukraine : 0.5762330665829802\n",
      "val f1 score for translated==True : 0.6383168869856638\n",
      "val f1 score for translated==False : 0.7285373608903021\n",
      "------------------------------\n",
      "518/518 [==============================] - 12s 24ms/step\n",
      "65/65 [==============================] - 2s 24ms/step\n",
      "Epoch 1\n",
      "Overall train f1 : 0.6552352901245276, overall val f1: 0.6550912656509278\n",
      "Train loss : 1.0840831995010376, val loss: 1.077491044998169\n",
      "train f1 score for dataset rozetka : 0.7134420455161808\n",
      "train f1 score for dataset tripadvisor_hotels_ukraine : 0.5570099304089452\n",
      "train f1 score for dataset tripadvisor_restaurants_ukraine : 0.577024164443747\n",
      "train f1 score for translated==True : 0.6386778336540856\n",
      "train f1 score for translated==False : 0.7259579543760251\n",
      "val f1 score for dataset rozetka : 0.7142273725049773\n",
      "val f1 score for dataset tripadvisor_hotels_ukraine : 0.5557362692355812\n",
      "val f1 score for dataset tripadvisor_restaurants_ukraine : 0.5754485067210628\n",
      "val f1 score for translated==True : 0.6378514243157699\n",
      "val f1 score for translated==False : 0.7286963434022258\n",
      "------------------------------\n",
      "518/518 [==============================] - 12s 24ms/step\n",
      "65/65 [==============================] - 2s 24ms/step\n",
      "Epoch 2\n",
      "Overall train f1 : 0.6550636969098136, overall val f1: 0.6550761804193694\n",
      "Train loss : 1.0830459594726562, val loss: 1.0775412321090698\n",
      "train f1 score for dataset rozetka : 0.7133814253398718\n",
      "train f1 score for dataset tripadvisor_hotels_ukraine : 0.5557744937055282\n",
      "train f1 score for dataset tripadvisor_restaurants_ukraine : 0.5770699304356922\n",
      "train f1 score for translated==True : 0.638482357075205\n",
      "train f1 score for translated==False : 0.725888375329258\n",
      "val f1 score for dataset rozetka : 0.7143294706212671\n",
      "val f1 score for dataset tripadvisor_hotels_ukraine : 0.5549856124108595\n",
      "val f1 score for dataset tripadvisor_restaurants_ukraine : 0.5755008107118573\n",
      "val f1 score for translated==True : 0.6377955687953826\n",
      "val f1 score for translated==False : 0.7288553259141495\n",
      "------------------------------\n",
      "518/518 [==============================] - 12s 24ms/step\n",
      "65/65 [==============================] - 2s 24ms/step\n",
      "Epoch 3\n",
      "Overall train f1 : 0.7218888830224542, overall val f1: 0.7134560265500075\n",
      "Train loss : 0.8534256815910339, val loss: 0.7184286117553711\n",
      "train f1 score for dataset rozetka : 0.7630070159877739\n",
      "train f1 score for dataset tripadvisor_hotels_ukraine : 0.6322308233638283\n",
      "train f1 score for dataset tripadvisor_restaurants_ukraine : 0.675113761179978\n",
      "train f1 score for translated==True : 0.7099406821667182\n",
      "train f1 score for translated==False : 0.77292381094379\n",
      "val f1 score for dataset rozetka : 0.753203328398591\n",
      "val f1 score for dataset tripadvisor_hotels_ukraine : 0.6237958213436757\n",
      "val f1 score for dataset tripadvisor_restaurants_ukraine : 0.6694910821695695\n",
      "val f1 score for translated==True : 0.7013777695028859\n",
      "val f1 score for translated==False : 0.7650238473767884\n",
      "------------------------------\n",
      "518/518 [==============================] - 12s 24ms/step\n",
      "65/65 [==============================] - 2s 24ms/step\n",
      "Epoch 4\n",
      "Overall train f1 : 0.7775491963403505, overall val f1: 0.7408055513652134\n",
      "Train loss : 0.6595878005027771, val loss: 0.6585495471954346\n",
      "train f1 score for dataset rozetka : 0.7972606061379524\n",
      "train f1 score for dataset tripadvisor_hotels_ukraine : 0.7346938775510203\n",
      "train f1 score for dataset tripadvisor_restaurants_ukraine : 0.7550734871070662\n",
      "train f1 score for translated==True : 0.7709363560838596\n",
      "train f1 score for translated==False : 0.8057949406093137\n",
      "val f1 score for dataset rozetka : 0.7674204910919393\n",
      "val f1 score for dataset tripadvisor_hotels_ukraine : 0.6773426748404854\n",
      "val f1 score for dataset tripadvisor_restaurants_ukraine : 0.7127987865474136\n",
      "val f1 score for translated==True : 0.7320238316886986\n",
      "val f1 score for translated==False : 0.7782988871224166\n",
      "------------------------------\n",
      "518/518 [==============================] - 12s 24ms/step\n",
      "65/65 [==============================] - 2s 24ms/step\n",
      "Epoch 5\n",
      "Overall train f1 : 0.8037954156327075, overall val f1: 0.7348619701312415\n",
      "Train loss : 0.5891523957252502, val loss: 0.6799300312995911\n",
      "train f1 score for dataset rozetka : 0.8191030128227625\n",
      "train f1 score for dataset tripadvisor_hotels_ukraine : 0.7709281413714911\n",
      "train f1 score for dataset tripadvisor_restaurants_ukraine : 0.7861682096343952\n",
      "train f1 score for translated==True : 0.7978004230671671\n",
      "train f1 score for translated==False : 0.8294021171909944\n",
      "val f1 score for dataset rozetka : 0.7601715248353668\n",
      "val f1 score for dataset tripadvisor_hotels_ukraine : 0.6763417990741899\n",
      "val f1 score for dataset tripadvisor_restaurants_ukraine : 0.7074637794863748\n",
      "val f1 score for translated==True : 0.725991435486874\n",
      "val f1 score for translated==False : 0.7727344992050873\n",
      "------------------------------\n",
      "518/518 [==============================] - 12s 24ms/step\n",
      "65/65 [==============================] - 2s 24ms/step\n",
      "Epoch 6\n",
      "Overall train f1 : 0.8197630127997224, overall val f1: 0.7293407753809021\n",
      "Train loss : 0.5431560277938843, val loss: 0.7069432735443115\n",
      "train f1 score for dataset rozetka : 0.8324139273259802\n",
      "train f1 score for dataset tripadvisor_hotels_ukraine : 0.7918836500117287\n",
      "train f1 score for dataset tripadvisor_restaurants_ukraine : 0.805494534232962\n",
      "train f1 score for translated==True : 0.8145695210125686\n",
      "train f1 score for translated==False : 0.8419462253367129\n",
      "val f1 score for dataset rozetka : 0.7559855020674868\n",
      "val f1 score for dataset tripadvisor_hotels_ukraine : 0.6673339171775303\n",
      "val f1 score for dataset tripadvisor_restaurants_ukraine : 0.7006642606830901\n",
      "val f1 score for translated==True : 0.7192701545336065\n",
      "val f1 score for translated==False : 0.7723370429252783\n",
      "------------------------------\n",
      "518/518 [==============================] - 12s 24ms/step\n",
      "65/65 [==============================] - 2s 24ms/step\n",
      "Epoch 7\n",
      "Overall train f1 : 0.8365810334814189, overall val f1: 0.7351636747624075\n",
      "Train loss : 0.5054939985275269, val loss: 0.7390609383583069\n",
      "train f1 score for dataset rozetka : 0.8489313301023843\n",
      "train f1 score for dataset tripadvisor_hotels_ukraine : 0.8110876534521855\n",
      "train f1 score for dataset tripadvisor_restaurants_ukraine : 0.8219310633401329\n",
      "train f1 score for translated==True : 0.8319064318775758\n",
      "train f1 score for translated==False : 0.8565478852939715\n",
      "val f1 score for dataset rozetka : 0.7637194343764357\n",
      "val f1 score for dataset tripadvisor_hotels_ukraine : 0.6722131865382209\n",
      "val f1 score for dataset tripadvisor_restaurants_ukraine : 0.702965636278048\n",
      "val f1 score for translated==True : 0.7245578104636008\n",
      "val f1 score for translated==False : 0.7804451510333863\n",
      "------------------------------\n",
      "518/518 [==============================] - 12s 24ms/step\n",
      "65/65 [==============================] - 2s 24ms/step\n",
      "Epoch 8\n",
      "Overall train f1 : 0.8451418378198988, overall val f1: 0.7175592095338663\n",
      "Train loss : 0.47003865242004395, val loss: 0.7942872047424316\n",
      "train f1 score for dataset rozetka : 0.8548019155975713\n",
      "train f1 score for dataset tripadvisor_hotels_ukraine : 0.8217374306044257\n",
      "train f1 score for dataset tripadvisor_restaurants_ukraine : 0.8351312830168942\n",
      "train f1 score for translated==True : 0.8407145134378512\n",
      "train f1 score for translated==False : 0.86405248248099\n",
      "val f1 score for dataset rozetka : 0.7483026188166828\n",
      "val f1 score for dataset tripadvisor_hotels_ukraine : 0.6451895408482422\n",
      "val f1 score for dataset tripadvisor_restaurants_ukraine : 0.6848161514723573\n",
      "val f1 score for translated==True : 0.7063116738037609\n",
      "val f1 score for translated==False : 0.7655802861685215\n",
      "------------------------------\n",
      "Stopping early\n"
     ]
    }
   ],
   "source": [
    "dict_history, model = \\\n",
    "training_loop(model, epochs=20, batch_size=1024)"
   ]
  },
  {
   "cell_type": "code",
   "execution_count": 37,
   "id": "fc16eb41-29c6-443e-95a6-b263a76a65bc",
   "metadata": {},
   "outputs": [
    {
     "data": {
      "text/plain": [
       "{'train_f1_rozetka': [0.7133590915907053,\n",
       "  0.7134420455161808,\n",
       "  0.7133814253398718,\n",
       "  0.7630070159877739,\n",
       "  0.7972606061379524,\n",
       "  0.8191030128227625,\n",
       "  0.8324139273259802,\n",
       "  0.8489313301023843,\n",
       "  0.8548019155975713],\n",
       " 'train_f1_tripadvisor_hotels_ukraine': [0.5578231292517006,\n",
       "  0.5570099304089452,\n",
       "  0.5557744937055282,\n",
       "  0.6322308233638283,\n",
       "  0.7346938775510203,\n",
       "  0.7709281413714911,\n",
       "  0.7918836500117287,\n",
       "  0.8110876534521855,\n",
       "  0.8217374306044257],\n",
       " 'train_f1_tripadvisor_restaurants_ukraine': [0.5781683142423767,\n",
       "  0.577024164443747,\n",
       "  0.5770699304356922,\n",
       "  0.675113761179978,\n",
       "  0.7550734871070662,\n",
       "  0.7861682096343952,\n",
       "  0.805494534232962,\n",
       "  0.8219310633401329,\n",
       "  0.8351312830168942],\n",
       " 'train_f1_translated==True': [0.6391641979991576,\n",
       "  0.6386778336540856,\n",
       "  0.638482357075205,\n",
       "  0.7099406821667182,\n",
       "  0.7709363560838596,\n",
       "  0.7978004230671671,\n",
       "  0.8145695210125686,\n",
       "  0.8319064318775758,\n",
       "  0.8407145134378512],\n",
       " 'train_f1_translated==False': [0.7258784354654341,\n",
       "  0.7259579543760251,\n",
       "  0.725888375329258,\n",
       "  0.77292381094379,\n",
       "  0.8057949406093137,\n",
       "  0.8294021171909944,\n",
       "  0.8419462253367129,\n",
       "  0.8565478852939715,\n",
       "  0.86405248248099],\n",
       " 'val_f1_rozetka': [0.7142273725049773,\n",
       "  0.7142273725049773,\n",
       "  0.7143294706212671,\n",
       "  0.753203328398591,\n",
       "  0.7674204910919393,\n",
       "  0.7601715248353668,\n",
       "  0.7559855020674868,\n",
       "  0.7637194343764357,\n",
       "  0.7483026188166828],\n",
       " 'val_f1_tripadvisor_hotels_ukraine': [0.5567371450018767,\n",
       "  0.5557362692355812,\n",
       "  0.5549856124108595,\n",
       "  0.6237958213436757,\n",
       "  0.6773426748404854,\n",
       "  0.6763417990741899,\n",
       "  0.6673339171775303,\n",
       "  0.6722131865382209,\n",
       "  0.6451895408482422],\n",
       " 'val_f1_tripadvisor_restaurants_ukraine': [0.5762330665829802,\n",
       "  0.5754485067210628,\n",
       "  0.5755008107118573,\n",
       "  0.6694910821695695,\n",
       "  0.7127987865474136,\n",
       "  0.7074637794863748,\n",
       "  0.7006642606830901,\n",
       "  0.702965636278048,\n",
       "  0.6848161514723573],\n",
       " 'val_f1_translated==True': [0.6383168869856638,\n",
       "  0.6378514243157699,\n",
       "  0.6377955687953826,\n",
       "  0.7013777695028859,\n",
       "  0.7320238316886986,\n",
       "  0.725991435486874,\n",
       "  0.7192701545336065,\n",
       "  0.7245578104636008,\n",
       "  0.7063116738037609],\n",
       " 'val_f1_translated==False': [0.7285373608903021,\n",
       "  0.7286963434022258,\n",
       "  0.7288553259141495,\n",
       "  0.7650238473767884,\n",
       "  0.7782988871224166,\n",
       "  0.7727344992050873,\n",
       "  0.7723370429252783,\n",
       "  0.7804451510333863,\n",
       "  0.7655802861685215],\n",
       " 'train_f1': [0.6556143037086762,\n",
       "  0.6552352901245276,\n",
       "  0.6550636969098136,\n",
       "  0.7218888830224542,\n",
       "  0.7775491963403505,\n",
       "  0.8037954156327075,\n",
       "  0.8197630127997224,\n",
       "  0.8365810334814189,\n",
       "  0.8451418378198988],\n",
       " 'val_f1': [0.6554382259767687,\n",
       "  0.6550912656509278,\n",
       "  0.6550761804193694,\n",
       "  0.7134560265500075,\n",
       "  0.7408055513652134,\n",
       "  0.7348619701312415,\n",
       "  0.7293407753809021,\n",
       "  0.7351636747624075,\n",
       "  0.7175592095338663],\n",
       " 'train_loss': [1.0960532426834106,\n",
       "  1.0840831995010376,\n",
       "  1.0830459594726562,\n",
       "  0.8534256815910339,\n",
       "  0.6595878005027771,\n",
       "  0.5891523957252502,\n",
       "  0.5431560277938843,\n",
       "  0.5054939985275269,\n",
       "  0.47003865242004395],\n",
       " 'val_loss': [1.076014518737793,\n",
       "  1.077491044998169,\n",
       "  1.0775412321090698,\n",
       "  0.7184286117553711,\n",
       "  0.6585495471954346,\n",
       "  0.6799300312995911,\n",
       "  0.7069432735443115,\n",
       "  0.7390609383583069,\n",
       "  0.7942872047424316]}"
      ]
     },
     "execution_count": 37,
     "metadata": {},
     "output_type": "execute_result"
    }
   ],
   "source": [
    "dict_history"
   ]
  },
  {
   "cell_type": "markdown",
   "id": "b8d77413-4c00-4295-b7db-fe06dd7b23b5",
   "metadata": {},
   "source": [
    "# Show charts"
   ]
  },
  {
   "cell_type": "code",
   "execution_count": 38,
   "id": "b7f8ef02-623e-4ebb-8e1d-8da77c3ed9bc",
   "metadata": {},
   "outputs": [],
   "source": [
    "import seaborn as sns\n",
    "import matplotlib.pyplot as plt"
   ]
  },
  {
   "cell_type": "code",
   "execution_count": 39,
   "id": "521cf7cf-e1b2-42ce-8e95-5a2e61440247",
   "metadata": {},
   "outputs": [],
   "source": [
    "def plot_history(dict_history, columns):\n",
    "    plt.figure(figsize=(12,8))\n",
    "    for i in columns:\n",
    "        to_plot = dict_history[i]\n",
    "        plt.plot(range(len(to_plot)), to_plot, 'o-')\n",
    "    plt.xticks(range(len(to_plot)), range(len(to_plot)))\n",
    "    plt.xlabel('Epochs')\n",
    "    plt.legend(columns)"
   ]
  },
  {
   "cell_type": "code",
   "execution_count": 40,
   "id": "7c3ca35a-2166-4552-bc23-67c6bfe314d7",
   "metadata": {},
   "outputs": [
    {
     "data": {
      "image/png": "[encoded data removed]",
      "text/plain": [
       "<Figure size 1200x800 with 1 Axes>"
      ]
     },
     "metadata": {},
     "output_type": "display_data"
    }
   ],
   "source": [
    "plot_history(dict_history, ['val_loss', 'train_loss'])"
   ]
  },
  {
   "cell_type": "code",
   "execution_count": 41,
   "id": "09978e6c-1975-4fe9-b6ed-064e00c1809e",
   "metadata": {},
   "outputs": [
    {
     "data": {
      "image/png": "[encoded data removed]",
      "text/plain": [
       "<Figure size 1200x800 with 1 Axes>"
      ]
     },
     "metadata": {},
     "output_type": "display_data"
    }
   ],
   "source": [
    "plot_history(dict_history, ['val_f1', 'train_f1'])"
   ]
  },
  {
   "cell_type": "markdown",
   "id": "9763d7cb-3c09-425e-984f-7675f7fae0e9",
   "metadata": {},
   "source": [
    "# Evaluate model"
   ]
  },
  {
   "cell_type": "code",
   "execution_count": 45,
   "id": "4bb7e54e-5868-4379-8456-c3c5ef648c33",
   "metadata": {},
   "outputs": [
    {
     "name": "stdout",
     "output_type": "stream",
     "text": [
      "65/65 [==============================] - 2s 22ms/step\n"
     ]
    }
   ],
   "source": [
    "test_predictions = np.argmax(model.predict(test_x, batch_size=1024), axis=-1)"
   ]
  },
  {
   "cell_type": "code",
   "execution_count": 46,
   "id": "bc061fbf-e0a9-40be-8cb7-e356aef090d5",
   "metadata": {},
   "outputs": [
    {
     "name": "stdout",
     "output_type": "stream",
     "text": [
      "Overall test f1-score : 0.742370989395562\n"
     ]
    }
   ],
   "source": [
    "test_f1 = f1_score(y_true=test_y, y_pred=test_predictions,\n",
    "                         average='micro')\n",
    "print(f'Overall test f1-score : {test_f1}')"
   ]
  },
  {
   "cell_type": "code",
   "execution_count": 47,
   "id": "24a4badc-8c22-4bdc-8fb2-f7f68dbb56b7",
   "metadata": {},
   "outputs": [
    {
     "name": "stdout",
     "output_type": "stream",
     "text": [
      "test f1 score for dataset rozetka : 0.7671201408918042\n",
      "test f1 score for dataset tripadvisor_hotels_ukraine : 0.6906429822366775\n",
      "test f1 score for dataset tripadvisor_restaurants_ukraine : 0.7132845188284518\n",
      "test f1 score for translated==True : 0.7336413772544342\n",
      "test f1 score for translated==False : 0.7794944933048095\n"
     ]
    }
   ],
   "source": [
    "test_results = evaluate_on_datasets(y_true=test_y, y_pred=test_predictions,split='test')\n",
    "                     "
   ]
  },
  {
   "cell_type": "markdown",
   "id": "fe8efb21-1b71-49e7-8483-c00a9c357b1f",
   "metadata": {},
   "source": [
    "# Confusion matrix"
   ]
  },
  {
   "cell_type": "code",
   "execution_count": 48,
   "id": "5ea3f06f-0b96-4d3c-97bf-aad82784f2ac",
   "metadata": {},
   "outputs": [],
   "source": [
    "from sklearn.metrics import confusion_matrix"
   ]
  },
  {
   "cell_type": "code",
   "execution_count": 49,
   "id": "ab600e88-5b7f-43e8-8bae-52d9abe58ca3",
   "metadata": {},
   "outputs": [
    {
     "data": {
      "text/plain": [
       "array([0, 1, 2, 3, 4])"
      ]
     },
     "execution_count": 49,
     "metadata": {},
     "output_type": "execute_result"
    }
   ],
   "source": [
    "np.unique(test_y)"
   ]
  },
  {
   "cell_type": "code",
   "execution_count": 50,
   "id": "701c2bfe-a20e-4880-a580-01dbf0f8f92c",
   "metadata": {},
   "outputs": [
    {
     "data": {
      "image/png": "[encoded data removed]",
      "text/plain": [
       "<Figure size 1400x1000 with 2 Axes>"
      ]
     },
     "metadata": {},
     "output_type": "display_data"
    }
   ],
   "source": [
    "matrix = confusion_matrix(test_y, test_predictions)\n",
    "matrix_scaled = matrix.astype('float') / matrix.sum(axis=1)[:, np.newaxis]\n",
    "plt.figure(figsize=(14,10))\n",
    "sns.heatmap(matrix_scaled, annot=True, cmap=plt.cm.Blues, xticklabels=np.unique(test_y),\\\n",
    "            yticklabels=np.unique(test_y))\n",
    "plt.title('Confusion matrix')\n",
    "plt.xlabel('Predicted label')\n",
    "plt.ylabel('True label')\n",
    "\n",
    "plt.show()"
   ]
  },
  {
   "cell_type": "markdown",
   "id": "5447ad8a-3695-499c-9fe3-6d6d9cc2834c",
   "metadata": {},
   "source": [
    "# Save history results"
   ]
  },
  {
   "cell_type": "code",
   "execution_count": 51,
   "id": "b1d1cb15-8dae-414b-80c9-cabbcfd4168d",
   "metadata": {},
   "outputs": [],
   "source": [
    "history = pd.DataFrame(dict_history)\n",
    "for k,v in test_results.items():\n",
    "    history[k] = v"
   ]
  },
  {
   "cell_type": "code",
   "execution_count": 52,
   "id": "b2fc4c15-4277-4913-8080-91cddcc4d734",
   "metadata": {},
   "outputs": [],
   "source": [
    "history['model'] = model_name"
   ]
  },
  {
   "cell_type": "code",
   "execution_count": 53,
   "id": "344fd96f-8e81-47b6-8332-0bb3892edfa4",
   "metadata": {},
   "outputs": [],
   "source": [
    "history.to_csv(\"/home/user/jupyter_notebooks/Ukranian-SA/notebooks/training/training_results.csv\", mode='a', header=None, index=None)"
   ]
  },
  {
   "cell_type": "code",
   "execution_count": null,
   "id": "fa349138-0297-447d-bad4-30b30ed0b94b",
   "metadata": {},
   "outputs": [],
   "source": []
  },
  {
   "cell_type": "code",
   "execution_count": null,
   "id": "cf61010a-6dee-42b8-93a1-f9a02ebb4d07",
   "metadata": {},
   "outputs": [],
   "source": []
  }
 ],
 "metadata": {
  "kernelspec": {
   "display_name": "tensorflow_cuda12",
   "language": "python",
   "name": "tensorflow_cuda12"
  },
  "language_info": {
   "codemirror_mode": {
    "name": "ipython",
    "version": 3
   },
   "file_extension": ".py",
   "mimetype": "text/x-python",
   "name": "python",
   "nbconvert_exporter": "python",
   "pygments_lexer": "ipython3",
   "version": "3.8.10"
  }
 },
 "nbformat": 4,
 "nbformat_minor": 5
}
