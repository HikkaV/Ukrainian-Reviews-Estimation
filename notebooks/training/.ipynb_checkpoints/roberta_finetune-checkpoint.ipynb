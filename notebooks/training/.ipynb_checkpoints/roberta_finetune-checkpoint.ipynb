{
 "cells": [
  {
   "cell_type": "code",
   "execution_count": 1,
   "id": "94761116-1530-448d-a1f6-593d90bec639",
   "metadata": {},
   "outputs": [],
   "source": [
    "import transformers\n",
    "import tokenizers\n",
    "import pandas as pd\n",
    "import torch\n",
    "import numpy as np\n",
    "import os\n",
    "import random"
   ]
  },
  {
   "cell_type": "code",
   "execution_count": 2,
   "id": "9fd6a8d5-9561-4260-a29d-d3fb91e75930",
   "metadata": {
    "tags": []
   },
   "outputs": [],
   "source": [
    "def reset_random_seeds():\n",
    "   os.environ['PYTHONHASHSEED']=str(2)\n",
    "   np.random.seed(2)\n",
    "   random.seed(2)\n",
    "   torch.manual_seed(2)"
   ]
  },
  {
   "cell_type": "code",
   "execution_count": 3,
   "id": "de043b82-754e-4794-95da-c7d610b51f10",
   "metadata": {
    "tags": []
   },
   "outputs": [
    {
     "data": {
      "text/plain": [
       "True"
      ]
     },
     "execution_count": 3,
     "metadata": {},
     "output_type": "execute_result"
    }
   ],
   "source": [
    "torch.cuda.is_available()"
   ]
  },
  {
   "cell_type": "code",
   "execution_count": 4,
   "id": "fada8fbb-9dc2-4e9d-935d-2cb0d6684738",
   "metadata": {},
   "outputs": [],
   "source": [
    "model_name = 'roberta_finetune'"
   ]
  },
  {
   "cell_type": "markdown",
   "id": "aa46fb49-08a8-4809-b697-680813299d47",
   "metadata": {},
   "source": [
    "# Load data"
   ]
  },
  {
   "cell_type": "code",
   "execution_count": 5,
   "id": "d01ad050-f023-4253-bc33-72c76bce3944",
   "metadata": {},
   "outputs": [],
   "source": [
    "df = pd.read_csv('/home/web/files_for_research_Vova/processed_data.csv', usecols=['review_translate',\n",
    "                                                            'dataset_name',\n",
    "                                                            'rating',\n",
    "                                                           'translated'])"
   ]
  },
  {
   "cell_type": "code",
   "execution_count": 6,
   "id": "99ee8e3a-2281-4ec1-8107-49e3ba47d2a9",
   "metadata": {},
   "outputs": [
    {
     "data": {
      "text/html": [
       "<div>\n",
       "<style scoped>\n",
       "    .dataframe tbody tr th:only-of-type {\n",
       "        vertical-align: middle;\n",
       "    }\n",
       "\n",
       "    .dataframe tbody tr th {\n",
       "        vertical-align: top;\n",
       "    }\n",
       "\n",
       "    .dataframe thead th {\n",
       "        text-align: right;\n",
       "    }\n",
       "</style>\n",
       "<table border=\"1\" class=\"dataframe\">\n",
       "  <thead>\n",
       "    <tr style=\"text-align: right;\">\n",
       "      <th></th>\n",
       "      <th>review_translate</th>\n",
       "      <th>rating</th>\n",
       "      <th>dataset_name</th>\n",
       "      <th>translated</th>\n",
       "    </tr>\n",
       "  </thead>\n",
       "  <tbody>\n",
       "    <tr>\n",
       "      <th>0</th>\n",
       "      <td>Якісна пластмаса , переворот 360 градусвв</td>\n",
       "      <td>5.0</td>\n",
       "      <td>rozetka</td>\n",
       "      <td>False</td>\n",
       "    </tr>\n",
       "    <tr>\n",
       "      <th>1</th>\n",
       "      <td>За такі гроші це самий топ</td>\n",
       "      <td>5.0</td>\n",
       "      <td>rozetka</td>\n",
       "      <td>False</td>\n",
       "    </tr>\n",
       "    <tr>\n",
       "      <th>2</th>\n",
       "      <td>За такі гроші - просто супер ! Рекомендую .</td>\n",
       "      <td>5.0</td>\n",
       "      <td>rozetka</td>\n",
       "      <td>False</td>\n",
       "    </tr>\n",
       "    <tr>\n",
       "      <th>3</th>\n",
       "      <td>Виконує свою роботу не погано . але що ви хоті...</td>\n",
       "      <td>4.0</td>\n",
       "      <td>rozetka</td>\n",
       "      <td>False</td>\n",
       "    </tr>\n",
       "    <tr>\n",
       "      <th>4</th>\n",
       "      <td>Купляв на стару сістему як основний під віндов...</td>\n",
       "      <td>4.0</td>\n",
       "      <td>rozetka</td>\n",
       "      <td>False</td>\n",
       "    </tr>\n",
       "  </tbody>\n",
       "</table>\n",
       "</div>"
      ],
      "text/plain": [
       "                                    review_translate  rating dataset_name  \\\n",
       "0          Якісна пластмаса , переворот 360 градусвв     5.0      rozetka   \n",
       "1                         За такі гроші це самий топ     5.0      rozetka   \n",
       "2        За такі гроші - просто супер ! Рекомендую .     5.0      rozetka   \n",
       "3  Виконує свою роботу не погано . але що ви хоті...     4.0      rozetka   \n",
       "4  Купляв на стару сістему як основний під віндов...     4.0      rozetka   \n",
       "\n",
       "   translated  \n",
       "0       False  \n",
       "1       False  \n",
       "2       False  \n",
       "3       False  \n",
       "4       False  "
      ]
     },
     "execution_count": 6,
     "metadata": {},
     "output_type": "execute_result"
    }
   ],
   "source": [
    "df.head()"
   ]
  },
  {
   "cell_type": "code",
   "execution_count": 7,
   "id": "870b0de2-18ef-42ce-9bd5-1ff68b8a1776",
   "metadata": {},
   "outputs": [],
   "source": [
    "subsets = pd.read_csv('/home/web/files_for_research_Vova/train_val_test_indices.csv')"
   ]
  },
  {
   "cell_type": "code",
   "execution_count": 8,
   "id": "778fb1c0-5396-480b-8ce5-e728d06fc3d8",
   "metadata": {},
   "outputs": [
    {
     "data": {
      "text/html": [
       "<div>\n",
       "<style scoped>\n",
       "    .dataframe tbody tr th:only-of-type {\n",
       "        vertical-align: middle;\n",
       "    }\n",
       "\n",
       "    .dataframe tbody tr th {\n",
       "        vertical-align: top;\n",
       "    }\n",
       "\n",
       "    .dataframe thead th {\n",
       "        text-align: right;\n",
       "    }\n",
       "</style>\n",
       "<table border=\"1\" class=\"dataframe\">\n",
       "  <thead>\n",
       "    <tr style=\"text-align: right;\">\n",
       "      <th></th>\n",
       "      <th>index</th>\n",
       "      <th>split</th>\n",
       "    </tr>\n",
       "  </thead>\n",
       "  <tbody>\n",
       "    <tr>\n",
       "      <th>0</th>\n",
       "      <td>0</td>\n",
       "      <td>train</td>\n",
       "    </tr>\n",
       "    <tr>\n",
       "      <th>1</th>\n",
       "      <td>1</td>\n",
       "      <td>test</td>\n",
       "    </tr>\n",
       "    <tr>\n",
       "      <th>2</th>\n",
       "      <td>2</td>\n",
       "      <td>train</td>\n",
       "    </tr>\n",
       "    <tr>\n",
       "      <th>3</th>\n",
       "      <td>3</td>\n",
       "      <td>train</td>\n",
       "    </tr>\n",
       "    <tr>\n",
       "      <th>4</th>\n",
       "      <td>4</td>\n",
       "      <td>train</td>\n",
       "    </tr>\n",
       "  </tbody>\n",
       "</table>\n",
       "</div>"
      ],
      "text/plain": [
       "   index  split\n",
       "0      0  train\n",
       "1      1   test\n",
       "2      2  train\n",
       "3      3  train\n",
       "4      4  train"
      ]
     },
     "execution_count": 8,
     "metadata": {},
     "output_type": "execute_result"
    }
   ],
   "source": [
    "subsets.head()"
   ]
  },
  {
   "cell_type": "code",
   "execution_count": 9,
   "id": "bb145e0a-2bf5-4004-b334-15433414769a",
   "metadata": {},
   "outputs": [],
   "source": [
    "subsets = subsets.merge(df[['dataset_name', 'translated']], left_on='index', right_index=True)"
   ]
  },
  {
   "cell_type": "markdown",
   "id": "a86c13af-5e8f-49e4-b337-7b3a70163c1c",
   "metadata": {},
   "source": [
    "# Creation of dataset"
   ]
  },
  {
   "cell_type": "code",
   "execution_count": 10,
   "id": "b3d6e285-87e6-4ce1-be8a-cb614270a8a4",
   "metadata": {},
   "outputs": [],
   "source": [
    "from itertools import chain"
   ]
  },
  {
   "cell_type": "code",
   "execution_count": 11,
   "id": "c88e2c70-4004-4fb8-9555-7ede3429cb6f",
   "metadata": {
    "tags": []
   },
   "outputs": [],
   "source": [
    "class ReviewsDataset(torch.utils.data.Dataset):\n",
    "    def __init__(self, df, tokenizer):\n",
    "        self.tokenizer = tokenizer\n",
    "        X = self.map_X(df)\n",
    "        self.X, self.mask = X['input_ids'], X['attention_mask']\n",
    "        self.y = self.map_y(df)\n",
    "        self.num_classes = df['rating'].nunique()\n",
    "    \n",
    "    def map_X(self, df):\n",
    "        reviews = df['review_translate'].values.tolist()\n",
    "        return self.tokenizer(reviews, padding=True, truncation=True, return_tensors='pt')\n",
    "    \n",
    "    def map_y(self, df):\n",
    "        mapping = dict([(i,c) for c,i in enumerate(df['rating'].unique())])\n",
    "        return torch.tensor(df['rating'].map(mapping).values.tolist())\n",
    "    \n",
    "    def __len__(self):\n",
    "        return len(self.X)\n",
    "\n",
    "    def __getitem__(self, idx):\n",
    "        if torch.is_tensor(idx):\n",
    "            idx = idx.tolist()\n",
    "        return self.X[idx], self.mask[idx], self.y[idx]"
   ]
  },
  {
   "cell_type": "code",
   "execution_count": 12,
   "id": "8df906e5-54c5-4d33-9d1c-c12880c8dbb3",
   "metadata": {
    "tags": []
   },
   "outputs": [],
   "source": [
    "tokenizer = transformers.AutoTokenizer\\\n",
    ".from_pretrained('youscan/ukr-roberta-base')"
   ]
  },
  {
   "cell_type": "markdown",
   "id": "5bc9a5b3-3794-4ab8-a16d-fa572ac9d2f6",
   "metadata": {},
   "source": [
    "## Get labels and split data"
   ]
  },
  {
   "cell_type": "code",
   "execution_count": 13,
   "id": "59b5a397-faf0-43be-b498-a3d4af06fbc0",
   "metadata": {},
   "outputs": [],
   "source": [
    "train_indices, val_indices, test_indices = subsets[subsets['split']=='train'].index.tolist(),\\\n",
    "subsets[subsets['split']=='val'].index.tolist(),\\\n",
    "subsets[subsets['split']=='test'].index.tolist()\n"
   ]
  },
  {
   "cell_type": "code",
   "execution_count": 14,
   "id": "7564a2e1-11d7-44cf-803b-03b4eb3b0dce",
   "metadata": {},
   "outputs": [],
   "source": [
    "train_df, val_df, test_df = df.loc[train_indices], df.loc[val_indices], df.loc[test_indices]"
   ]
  },
  {
   "cell_type": "code",
   "execution_count": 15,
   "id": "8435f563-61d2-4298-9948-dd6f9c2785aa",
   "metadata": {
    "tags": []
   },
   "outputs": [],
   "source": [
    "train_dataset = ReviewsDataset(train_df, tokenizer)"
   ]
  },
  {
   "cell_type": "code",
   "execution_count": 16,
   "id": "0806d8ff-9b80-4391-b048-3c54d7c660f1",
   "metadata": {
    "tags": []
   },
   "outputs": [],
   "source": [
    "val_dataset = ReviewsDataset(val_df, tokenizer)"
   ]
  },
  {
   "cell_type": "code",
   "execution_count": 17,
   "id": "13a5a2a5-8e31-46b0-8248-719f16b6ded8",
   "metadata": {
    "tags": []
   },
   "outputs": [],
   "source": [
    "test_dataset = ReviewsDataset(test_df, tokenizer)"
   ]
  },
  {
   "cell_type": "markdown",
   "id": "a0f0ac0e-11a7-436a-9fd3-cfa9229d7ec8",
   "metadata": {},
   "source": [
    "# Create  model"
   ]
  },
  {
   "cell_type": "code",
   "execution_count": 18,
   "id": "5457f3b5-59ca-455a-9570-469e79c2dda9",
   "metadata": {
    "tags": []
   },
   "outputs": [
    {
     "name": "stderr",
     "output_type": "stream",
     "text": [
      "Some weights of the model checkpoint at youscan/ukr-roberta-base were not used when initializing RobertaForSequenceClassification: ['lm_head.decoder.weight', 'roberta.pooler.dense.weight', 'lm_head.dense.weight', 'lm_head.dense.bias', 'lm_head.layer_norm.weight', 'lm_head.layer_norm.bias', 'lm_head.decoder.bias', 'lm_head.bias', 'roberta.pooler.dense.bias']\n",
      "- This IS expected if you are initializing RobertaForSequenceClassification from the checkpoint of a model trained on another task or with another architecture (e.g. initializing a BertForSequenceClassification model from a BertForPreTraining model).\n",
      "- This IS NOT expected if you are initializing RobertaForSequenceClassification from the checkpoint of a model that you expect to be exactly identical (initializing a BertForSequenceClassification model from a BertForSequenceClassification model).\n",
      "Some weights of RobertaForSequenceClassification were not initialized from the model checkpoint at youscan/ukr-roberta-base and are newly initialized: ['classifier.out_proj.bias', 'classifier.dense.weight', 'classifier.dense.bias', 'classifier.out_proj.weight']\n",
      "You should probably TRAIN this model on a down-stream task to be able to use it for predictions and inference.\n"
     ]
    }
   ],
   "source": [
    "model = transformers.RobertaForSequenceClassification.from_pretrained('youscan/ukr-roberta-base',\n",
    "                                                             num_labels=train_dataset.num_classes)"
   ]
  },
  {
   "cell_type": "code",
   "execution_count": 19,
   "id": "9019bcbe-8339-4004-bad5-2fa1aca378d4",
   "metadata": {
    "tags": []
   },
   "outputs": [],
   "source": [
    "for param in model.base_model.parameters():\n",
    "    param.requires_grad = False\n"
   ]
  },
  {
   "cell_type": "code",
   "execution_count": 20,
   "id": "7e8dba84-2e34-4574-9626-d307fc6371c1",
   "metadata": {
    "tags": []
   },
   "outputs": [
    {
     "data": {
      "text/plain": [
       "RobertaForSequenceClassification(\n",
       "  (roberta): RobertaModel(\n",
       "    (embeddings): RobertaEmbeddings(\n",
       "      (word_embeddings): Embedding(52000, 768, padding_idx=1)\n",
       "      (position_embeddings): Embedding(514, 768, padding_idx=1)\n",
       "      (token_type_embeddings): Embedding(1, 768)\n",
       "      (LayerNorm): LayerNorm((768,), eps=1e-12, elementwise_affine=True)\n",
       "      (dropout): Dropout(p=0.1, inplace=False)\n",
       "    )\n",
       "    (encoder): RobertaEncoder(\n",
       "      (layer): ModuleList(\n",
       "        (0-11): 12 x RobertaLayer(\n",
       "          (attention): RobertaAttention(\n",
       "            (self): RobertaSelfAttention(\n",
       "              (query): Linear(in_features=768, out_features=768, bias=True)\n",
       "              (key): Linear(in_features=768, out_features=768, bias=True)\n",
       "              (value): Linear(in_features=768, out_features=768, bias=True)\n",
       "              (dropout): Dropout(p=0.1, inplace=False)\n",
       "            )\n",
       "            (output): RobertaSelfOutput(\n",
       "              (dense): Linear(in_features=768, out_features=768, bias=True)\n",
       "              (LayerNorm): LayerNorm((768,), eps=1e-12, elementwise_affine=True)\n",
       "              (dropout): Dropout(p=0.1, inplace=False)\n",
       "            )\n",
       "          )\n",
       "          (intermediate): RobertaIntermediate(\n",
       "            (dense): Linear(in_features=768, out_features=3072, bias=True)\n",
       "            (intermediate_act_fn): GELUActivation()\n",
       "          )\n",
       "          (output): RobertaOutput(\n",
       "            (dense): Linear(in_features=3072, out_features=768, bias=True)\n",
       "            (LayerNorm): LayerNorm((768,), eps=1e-12, elementwise_affine=True)\n",
       "            (dropout): Dropout(p=0.1, inplace=False)\n",
       "          )\n",
       "        )\n",
       "      )\n",
       "    )\n",
       "  )\n",
       "  (classifier): RobertaClassificationHead(\n",
       "    (dense): Linear(in_features=768, out_features=768, bias=True)\n",
       "    (dropout): Dropout(p=0.1, inplace=False)\n",
       "    (out_proj): Linear(in_features=768, out_features=5, bias=True)\n",
       "  )\n",
       ")"
      ]
     },
     "execution_count": 20,
     "metadata": {},
     "output_type": "execute_result"
    }
   ],
   "source": [
    "device = torch.device(\"cuda\")\n",
    "model.to(device)"
   ]
  },
  {
   "cell_type": "markdown",
   "id": "d9db9424-2b20-4d10-8da4-0c55152abe57",
   "metadata": {},
   "source": [
    "# Early stopping"
   ]
  },
  {
   "cell_type": "code",
   "execution_count": 21,
   "id": "7302f57d-623a-482f-92fb-895e7971f5ba",
   "metadata": {
    "tags": []
   },
   "outputs": [],
   "source": [
    "import operator\n",
    "class EarlyStopping:\n",
    "    def __init__(self, tolerance=5, mode='min'):\n",
    "        assert mode in ['min','max'], 'Mode should be min or max'\n",
    "        self.mode = operator.lt if mode=='min' else operator.gt \n",
    "        self.tolerance = tolerance\n",
    "        self.counter = 0\n",
    "        self.early_stop = False\n",
    "        self.extremum_value = None\n",
    "        \n",
    "    def __call__(self, val):\n",
    "        if self.extremum_value is None:\n",
    "            self.extremum_value = val\n",
    "        else:\n",
    "            if not self.mode(val, self.extremum_value):\n",
    "                self.counter+=1\n",
    "            else:\n",
    "                self.extremum_value = val\n",
    "                self.counter = 0\n",
    "        \n",
    "        if self.counter==self.tolerance:\n",
    "            self.early_stop=True"
   ]
  },
  {
   "cell_type": "code",
   "execution_count": 22,
   "id": "fc5ff815-5d5a-463c-913a-e9732fe98dee",
   "metadata": {
    "tags": []
   },
   "outputs": [],
   "source": [
    "early_stopping = EarlyStopping(tolerance=4, mode='max')"
   ]
  },
  {
   "cell_type": "markdown",
   "id": "7676e473-8116-488e-990d-dc7937d9119c",
   "metadata": {},
   "source": [
    "# Train model"
   ]
  },
  {
   "cell_type": "code",
   "execution_count": 23,
   "id": "eed6de2d-be45-45cd-af31-b9042d1a20af",
   "metadata": {},
   "outputs": [],
   "source": [
    "from sklearn.metrics import f1_score"
   ]
  },
  {
   "cell_type": "code",
   "execution_count": 42,
   "id": "fbe8fc41-6661-4a56-ad5d-d1a4ed3e53f5",
   "metadata": {},
   "outputs": [],
   "source": [
    "def evaluate_on_datasets(y_true, y_pred, split='val'):\n",
    "    d = {}\n",
    "    for dataset_name in subsets['dataset_name'].unique():\n",
    "        idx = subsets[subsets['split']==split].copy()\n",
    "        idx['index'] = list(range(idx.shape[0]))\n",
    "        idx = idx[(idx['dataset_name']==dataset_name)]\\\n",
    "        ['index'].values.tolist()\n",
    "        score = f1_score(y_true=y_true[idx], y_pred=y_pred[idx],\n",
    "                             average='micro')\n",
    "        print(f'{split} f1 score for dataset {dataset_name} : {score}')\n",
    "        d[f'{split}_f1_{dataset_name}'] = score\n",
    "\n",
    "    for flag in [True, False]:\n",
    "        idx = subsets[subsets['split']==split].copy()\n",
    "        idx['index'] = list(range(idx.shape[0]))\n",
    "        idx = idx[idx['translated']==flag]['index'].values.tolist()\n",
    "        score = f1_score(y_true=y_true[idx], y_pred=y_pred[idx],\n",
    "                                 average='micro')\n",
    "        print(f'{split} f1 score for translated=={flag} : {score}')\n",
    "        d[f'{split}_f1_translated=={flag}'] = score\n",
    "    return d"
   ]
  },
  {
   "cell_type": "code",
   "execution_count": 25,
   "id": "f43c7824-1d7a-4fc1-b095-53902f428b3f",
   "metadata": {},
   "outputs": [],
   "source": [
    "def update_history(history, d):\n",
    "    for key, value in d.items():\n",
    "        res = history.get(key, [])\n",
    "        res.append(value)\n",
    "        history[key] = res"
   ]
  },
  {
   "cell_type": "code",
   "execution_count": 26,
   "id": "e6103492-b5c9-4465-a756-cff893912b44",
   "metadata": {
    "tags": []
   },
   "outputs": [],
   "source": [
    "def train_step(model, train_dataset, batch_size):\n",
    "    model.train()\n",
    "    tmp_train_loss = []\n",
    "    train_labels = []\n",
    "    train_predictions = []\n",
    "    for train_idx in tqdm(range(0, len(train_dataset), batch_size)):\n",
    "\n",
    "            inputs, mask, labels = train_dataset[train_idx:train_idx+batch_size]\n",
    "            train_labels.extend(labels.detach().cpu().numpy())\n",
    "            inputs, mask, labels = inputs.to(device), mask.to(device), labels.to(device)\n",
    "            # zero the parameter gradients\n",
    "            optimizer.zero_grad()\n",
    "\n",
    "            # forward + backward + optimize\n",
    "            outputs = model(inputs, mask)\n",
    "            train_predictions.extend(np.argmax(outputs['logits'].detach().cpu().numpy(),axis=1))\n",
    "            loss_result = loss(outputs['logits'], labels)\n",
    "            loss_result.backward()\n",
    "            optimizer.step()\n",
    "\n",
    "            tmp_train_loss.append(loss_result.item())\n",
    "            \n",
    "    epoch_train_loss = np.mean(tmp_train_loss)\n",
    "    \n",
    "    return model, epoch_train_loss, train_predictions, train_labels"
   ]
  },
  {
   "cell_type": "code",
   "execution_count": 27,
   "id": "a47b8c6d-560d-4bca-96bc-09b68a698a5d",
   "metadata": {
    "tags": []
   },
   "outputs": [],
   "source": [
    "def eval_step(model, eval_dataset, batch_size):\n",
    "    model.eval()\n",
    "    with torch.no_grad():\n",
    "        tmp_eval_loss = []\n",
    "        eval_labels = []\n",
    "        eval_predictions = []\n",
    "        for eval_idx in range(0, len(eval_dataset), batch_size):\n",
    "\n",
    "                inputs, mask, labels = eval_dataset[eval_idx:eval_idx+batch_size]\n",
    "                eval_labels.extend(labels.detach().cpu().numpy())\n",
    "                inputs, mask, labels = inputs.to(device), mask.to(device), labels.to(device)\n",
    "                \n",
    "                outputs = model(inputs, mask)\n",
    "                eval_predictions.extend(np.argmax(outputs['logits'].detach().cpu().numpy(),axis=1))\n",
    "                loss_result = loss(outputs['logits'], labels)\n",
    "\n",
    "                tmp_eval_loss.append(loss_result.item())\n",
    "\n",
    "    epoch_eval_loss = np.mean(tmp_eval_loss)\n",
    "    \n",
    "    return epoch_eval_loss, eval_predictions, eval_labels"
   ]
  },
  {
   "cell_type": "code",
   "execution_count": 28,
   "id": "01323779-cf1c-4841-8a96-9e738356bc8c",
   "metadata": {
    "tags": []
   },
   "outputs": [],
   "source": [
    "from tqdm import tqdm"
   ]
  },
  {
   "cell_type": "code",
   "execution_count": 29,
   "id": "1cebc550-ea2f-4854-b4f3-58dfeb786e82",
   "metadata": {
    "tags": []
   },
   "outputs": [
    {
     "name": "stderr",
     "output_type": "stream",
     "text": [
      "100%|██████████| 2072/2072 [2:35:14<00:00,  4.50s/it]  \n"
     ]
    },
    {
     "name": "stdout",
     "output_type": "stream",
     "text": [
      "train f1 score for dataset rozetka : 0.7206654181037371\n",
      "train f1 score for dataset tripadvisor_hotels_ukraine : 0.5986394557823129\n",
      "train f1 score for dataset tripadvisor_restaurants_ukraine : 0.6407369632302945\n",
      "train f1 score for translated==True : 0.6719577212085107\n",
      "train f1 score for translated==False : 0.7296357039908553\n",
      "val f1 score for dataset rozetka : 0.14712338557353616\n",
      "val f1 score for dataset tripadvisor_hotels_ukraine : 0.23508069560865757\n",
      "val f1 score for dataset tripadvisor_restaurants_ukraine : 0.22773157591924265\n",
      "val f1 score for translated==True : 0.19015080990504563\n",
      "val f1 score for translated==False : 0.14181240063593004\n",
      "Epoch 0\n",
      "Overall train f1 : 0.6828995104879282, overall val f1: 0.18097752300497816\n",
      "Train loss : 0.8431614498287785, val loss: 1.7794350450103347\n",
      "------------------------------\n"
     ]
    },
    {
     "name": "stderr",
     "output_type": "stream",
     "text": [
      "100%|██████████| 2072/2072 [2:34:59<00:00,  4.49s/it]  \n"
     ]
    },
    {
     "name": "stdout",
     "output_type": "stream",
     "text": [
      "train f1 score for dataset rozetka : 0.7236070919225209\n",
      "train f1 score for dataset tripadvisor_hotels_ukraine : 0.6077253890061772\n",
      "train f1 score for dataset tripadvisor_restaurants_ukraine : 0.6436136827239919\n",
      "train f1 score for translated==True : 0.6753948510538282\n",
      "train f1 score for translated==False : 0.7342676805327766\n",
      "val f1 score for dataset rozetka : 0.13778140793302363\n",
      "val f1 score for dataset tripadvisor_hotels_ukraine : 0.24383835856374328\n",
      "val f1 score for dataset tripadvisor_restaurants_ukraine : 0.2325435430723364\n",
      "val f1 score for translated==True : 0.1876373114876187\n",
      "val f1 score for translated==False : 0.1363275039745628\n",
      "Epoch 1\n",
      "Overall train f1 : 0.6865633084680308, overall val f1: 0.177900135767084\n",
      "Train loss : 0.8286544849024546, val loss: 1.751820817877427\n",
      "------------------------------\n"
     ]
    },
    {
     "name": "stderr",
     "output_type": "stream",
     "text": [
      "100%|█████████▉| 2068/2072 [2:34:52<00:17,  4.50s/it]  "
     ]
    },
    {
     "name": "stdout",
     "output_type": "stream",
     "text": [
      "val f1 score for dataset rozetka : 0.1472765327479708\n",
      "val f1 score for dataset tripadvisor_hotels_ukraine : 0.24083573126485674\n",
      "val f1 score for dataset tripadvisor_restaurants_ukraine : 0.2328050630263089\n",
      "val f1 score for translated==True : 0.19158443492831878\n",
      "val f1 score for translated==False : 0.14753577106518284\n",
      "Epoch 2\n",
      "Overall train f1 : 0.6868046703524637, overall val f1: 0.1832252225071655\n",
      "Train loss : 0.8260770866855921, val loss: 1.7251512470392647\n",
      "------------------------------\n"
     ]
    },
    {
     "name": "stderr",
     "output_type": "stream",
     "text": [
      "100%|██████████| 2072/2072 [2:35:09<00:00,  4.49s/it]t]\n"
     ]
    },
    {
     "name": "stdout",
     "output_type": "stream",
     "text": [
      "train f1 score for dataset rozetka : 0.7251513111506029\n",
      "train f1 score for dataset tripadvisor_hotels_ukraine : 0.6059895222456799\n",
      "train f1 score for dataset tripadvisor_restaurants_ukraine : 0.6466407761912234\n",
      "train f1 score for translated==True : 0.6769958973189456\n",
      "train f1 score for translated==False : 0.7357387803787087\n",
      "val f1 score for dataset rozetka : 0.13387615498494052\n",
      "val f1 score for dataset tripadvisor_hotels_ukraine : 0.23795821343675716\n",
      "val f1 score for dataset tripadvisor_restaurants_ukraine : 0.23018986348658402\n",
      "val f1 score for translated==True : 0.184118413703221\n",
      "val f1 score for translated==False : 0.13187599364069952\n",
      "Epoch 3\n",
      "Overall train f1 : 0.6881397032757334, overall val f1: 0.17420425403529943\n",
      "Train loss : 0.8236960508648493, val loss: 1.8159153074831575\n",
      "------------------------------\n"
     ]
    },
    {
     "name": "stderr",
     "output_type": "stream",
     "text": [
      " 94%|█████████▎| 1938/2072 [2:25:10<10:02,  4.50s/it]  "
     ]
    },
    {
     "name": "stdout",
     "output_type": "stream",
     "text": [
      "val f1 score for dataset rozetka : 0.14995660830057686\n",
      "val f1 score for dataset tripadvisor_hotels_ukraine : 0.23845865131990493\n",
      "val f1 score for dataset tripadvisor_restaurants_ukraine : 0.23175898321041896\n",
      "val f1 score for translated==True : 0.19272016384285984\n",
      "val f1 score for translated==False : 0.14793322734499206\n",
      "Epoch 4\n",
      "Overall train f1 : 0.6883527805643342, overall val f1: 0.1842208477900136\n",
      "Train loss : 0.8212296330733189, val loss: 1.7811143163548473\n",
      "------------------------------\n"
     ]
    },
    {
     "name": "stderr",
     "output_type": "stream",
     "text": [
      "100%|██████████| 2072/2072 [2:34:58<00:00,  4.49s/it]t]\n"
     ]
    },
    {
     "name": "stdout",
     "output_type": "stream",
     "text": [
      "train f1 score for dataset rozetka : 0.7260989002223803\n",
      "train f1 score for dataset tripadvisor_hotels_ukraine : 0.6088826335131754\n",
      "train f1 score for dataset tripadvisor_restaurants_ukraine : 0.6458235263350594\n",
      "train f1 score for translated==True : 0.6771983552042149\n",
      "train f1 score for translated==False : 0.7384225436111526\n",
      "val f1 score for dataset rozetka : 0.13208943794986983\n",
      "val f1 score for dataset tripadvisor_hotels_ukraine : 0.23620668084574004\n",
      "val f1 score for dataset tripadvisor_restaurants_ukraine : 0.2303467754589675\n",
      "val f1 score for translated==True : 0.18253584062558187\n",
      "val f1 score for translated==False : 0.1321939586645469\n",
      "Epoch 5\n",
      "Overall train f1 : 0.6888128766565345, overall val f1: 0.1729823502790768\n",
      "Train loss : 0.8199452047297393, val loss: 1.781492119590288\n",
      "------------------------------\n"
     ]
    },
    {
     "name": "stderr",
     "output_type": "stream",
     "text": [
      "100%|██████████| 2072/2072 [2:34:48<00:00,  4.48s/it]t]\n"
     ]
    },
    {
     "name": "stdout",
     "output_type": "stream",
     "text": [
      "train f1 score for dataset rozetka : 0.7260638043308331\n",
      "train f1 score for dataset tripadvisor_hotels_ukraine : 0.6101806239737274\n",
      "train f1 score for dataset tripadvisor_restaurants_ukraine : 0.6453004864271144\n",
      "train f1 score for translated==True : 0.6773635794554116\n",
      "train f1 score for translated==False : 0.7376372943690671\n",
      "val f1 score for dataset rozetka : 0.1377558834039512\n",
      "val f1 score for dataset tripadvisor_hotels_ukraine : 0.22794945577380207\n",
      "val f1 score for dataset tripadvisor_restaurants_ukraine : 0.22752235995606465\n",
      "val f1 score for translated==True : 0.18337367343139077\n",
      "val f1 score for translated==False : 0.13672496025437203\n",
      "Epoch 6\n",
      "Overall train f1 : 0.6887977915387574, overall val f1: 0.17452104389802384\n",
      "Train loss : 0.8196797747610849, val loss: 1.7952698050318538\n",
      "------------------------------\n"
     ]
    },
    {
     "name": "stderr",
     "output_type": "stream",
     "text": [
      "100%|██████████| 2072/2072 [2:34:33<00:00,  4.48s/it]  \n"
     ]
    },
    {
     "name": "stdout",
     "output_type": "stream",
     "text": [
      "train f1 score for dataset rozetka : 0.7260957096867852\n",
      "train f1 score for dataset tripadvisor_hotels_ukraine : 0.6111502072093206\n",
      "train f1 score for dataset tripadvisor_restaurants_ukraine : 0.6465884722004289\n",
      "train f1 score for translated==True : 0.6779639718048306\n",
      "train f1 score for translated==False : 0.7377466328711296\n",
      "val f1 score for dataset rozetka : 0.1479912195619991\n",
      "val f1 score for dataset tripadvisor_hotels_ukraine : 0.23433003878393593\n",
      "val f1 score for dataset tripadvisor_restaurants_ukraine : 0.23207280715518597\n",
      "val f1 score for translated==True : 0.1918450940234593\n",
      "val f1 score for translated==False : 0.14340222575516692\n",
      "Epoch 8\n",
      "Overall train f1 : 0.689305028624011, overall val f1: 0.18265198370794988\n",
      "Train loss : 0.8178001204397688, val loss: 1.7753456264849334\n",
      "------------------------------\n",
      "Stopping early\n"
     ]
    }
   ],
   "source": [
    "epochs = 10\n",
    "batch_size = 256\n",
    "lr = 1e-3\n",
    "\n",
    "loss = torch.nn.CrossEntropyLoss()\n",
    "optimizer = torch.optim.Adam(model.parameters(), lr=lr)\n",
    "\n",
    "dict_history = {}\n",
    "for i in range(epochs):\n",
    "    #train \n",
    "    model, train_loss, train_predictions, train_labels = \\\n",
    "    train_step(model, train_dataset, batch_size)\n",
    "    \n",
    "    #get metrics\n",
    "    train_f1 = f1_score(y_true=train_labels, y_pred=train_predictions,\n",
    "                           average='micro')\n",
    "    \n",
    "    d_train = evaluate_on_datasets(y_true=np.array(train_labels), y_pred=np.array(train_predictions), \\\n",
    "                                   split='train')\n",
    "    \n",
    "    \n",
    "    #evaluate\n",
    "    val_loss, val_predictions, val_labels = eval_step(model, val_dataset, batch_size)\n",
    "    \n",
    "    #get metrics\n",
    "    val_f1 = f1_score(y_true=val_labels, y_pred=val_predictions,\n",
    "                     average='micro')\n",
    "    d_val = evaluate_on_datasets(y_true=np.array(val_labels), y_pred=np.array(val_predictions),\\\n",
    "                                 split='val')\n",
    "\n",
    "\n",
    "    #printing evaluation\n",
    "    print(f'Epoch {i}')\n",
    "    print(f'Overall train f1 : {train_f1}, overall val f1: {val_f1}')\n",
    "    print(f'Train loss : {train_loss}, val loss: {val_loss}')\n",
    "\n",
    "    if i!=epochs-1:\n",
    "        print('-'*30)\n",
    "\n",
    "    #save history\n",
    "    update_history(dict_history, d_train)\n",
    "    update_history(dict_history, d_val)\n",
    "    update_history(dict_history, {'train_f1': train_f1})\n",
    "    update_history(dict_history, {'val_f1': val_f1})\n",
    "    update_history(dict_history, {'train_loss': train_loss})\n",
    "    update_history(dict_history, {'val_loss': val_loss})\n",
    "    #early stopping\n",
    "\n",
    "    early_stopping(val_f1)\n",
    "    if early_stopping.early_stop:\n",
    "        print('Stopping early')\n",
    "        break\n"
   ]
  },
  {
   "cell_type": "markdown",
   "id": "b8d77413-4c00-4295-b7db-fe06dd7b23b5",
   "metadata": {},
   "source": [
    "# Show charts"
   ]
  },
  {
   "cell_type": "code",
   "execution_count": 30,
   "id": "b7f8ef02-623e-4ebb-8e1d-8da77c3ed9bc",
   "metadata": {},
   "outputs": [],
   "source": [
    "import seaborn as sns\n",
    "import matplotlib.pyplot as plt"
   ]
  },
  {
   "cell_type": "code",
   "execution_count": 31,
   "id": "521cf7cf-e1b2-42ce-8e95-5a2e61440247",
   "metadata": {},
   "outputs": [],
   "source": [
    "def plot_history(dict_history, columns):\n",
    "    plt.figure(figsize=(12,8))\n",
    "    for i in columns:\n",
    "        to_plot = dict_history[i]\n",
    "        plt.plot(range(len(to_plot)), to_plot, 'o-')\n",
    "    plt.xticks(range(len(to_plot)), range(len(to_plot)))\n",
    "    plt.xlabel('Epochs')\n",
    "    plt.legend(columns)"
   ]
  },
  {
   "cell_type": "code",
   "execution_count": 32,
   "id": "7c3ca35a-2166-4552-bc23-67c6bfe314d7",
   "metadata": {},
   "outputs": [
    {
     "data": {
      "image/png": "[encoded data removed]",
      "text/plain": [
       "<Figure size 1200x800 with 1 Axes>"
      ]
     },
     "metadata": {},
     "output_type": "display_data"
    }
   ],
   "source": [
    "plot_history(dict_history, ['val_loss', 'train_loss'])"
   ]
  },
  {
   "cell_type": "code",
   "execution_count": 33,
   "id": "09978e6c-1975-4fe9-b6ed-064e00c1809e",
   "metadata": {},
   "outputs": [
    {
     "data": {
      "image/png": "[encoded data removed]",
      "text/plain": [
       "<Figure size 1200x800 with 1 Axes>"
      ]
     },
     "metadata": {},
     "output_type": "display_data"
    }
   ],
   "source": [
    "plot_history(dict_history, ['val_f1', 'train_f1'])"
   ]
  },
  {
   "cell_type": "markdown",
   "id": "9763d7cb-3c09-425e-984f-7675f7fae0e9",
   "metadata": {},
   "source": [
    "# Evaluate model"
   ]
  },
  {
   "cell_type": "code",
   "execution_count": 34,
   "id": "fb71066e-c2ab-4848-9885-214d4d71f532",
   "metadata": {
    "tags": []
   },
   "outputs": [],
   "source": [
    "test_loss, test_predictions, test_labels  = eval_step(model, test_dataset, 256)"
   ]
  },
  {
   "cell_type": "code",
   "execution_count": 35,
   "id": "bc061fbf-e0a9-40be-8cb7-e356aef090d5",
   "metadata": {},
   "outputs": [
    {
     "name": "stdout",
     "output_type": "stream",
     "text": [
      "Overall test f1-score : 0.555186822138084\n"
     ]
    }
   ],
   "source": [
    "test_f1 = f1_score(y_true=test_labels, y_pred=test_predictions,\n",
    "                         average='micro')\n",
    "print(f'Overall test f1-score : {test_f1}')"
   ]
  },
  {
   "cell_type": "code",
   "execution_count": 37,
   "id": "57f1bbcd-d390-4e93-8497-014b7dc91a55",
   "metadata": {
    "tags": []
   },
   "outputs": [
    {
     "data": {
      "text/plain": [
       "66293"
      ]
     },
     "execution_count": 37,
     "metadata": {},
     "output_type": "execute_result"
    }
   ],
   "source": [
    "len(test_labels)"
   ]
  },
  {
   "cell_type": "code",
   "execution_count": 43,
   "id": "24a4badc-8c22-4bdc-8fb2-f7f68dbb56b7",
   "metadata": {},
   "outputs": [
    {
     "name": "stdout",
     "output_type": "stream",
     "text": [
      "test f1 score for dataset rozetka : 0.5564460552847188\n",
      "test f1 score for dataset tripadvisor_hotels_ukraine : 0.5298974230673005\n",
      "test f1 score for dataset tripadvisor_restaurants_ukraine : 0.5631799163179916\n",
      "test f1 score for translated==True : 0.5469332240274258\n",
      "test f1 score for translated==False : 0.5902860312178115\n"
     ]
    }
   ],
   "source": [
    "test_results = evaluate_on_datasets(y_true=np.array(test_labels),\\\n",
    "                                    y_pred=np.array(test_predictions),split='test')\n",
    "                     "
   ]
  },
  {
   "cell_type": "markdown",
   "id": "5447ad8a-3695-499c-9fe3-6d6d9cc2834c",
   "metadata": {},
   "source": [
    "# Save history results"
   ]
  },
  {
   "cell_type": "code",
   "execution_count": 44,
   "id": "b1d1cb15-8dae-414b-80c9-cabbcfd4168d",
   "metadata": {},
   "outputs": [],
   "source": [
    "history = pd.DataFrame(dict_history)\n",
    "for k,v in test_results.items():\n",
    "    history[k] = v"
   ]
  },
  {
   "cell_type": "code",
   "execution_count": 45,
   "id": "b2fc4c15-4277-4913-8080-91cddcc4d734",
   "metadata": {},
   "outputs": [],
   "source": [
    "history['model'] = model_name"
   ]
  },
  {
   "cell_type": "code",
   "execution_count": 46,
   "id": "344fd96f-8e81-47b6-8332-0bb3892edfa4",
   "metadata": {},
   "outputs": [],
   "source": [
    "history.to_csv(\"training_results.csv\", mode='a')"
   ]
  },
  {
   "cell_type": "code",
   "execution_count": null,
   "id": "fa349138-0297-447d-bad4-30b30ed0b94b",
   "metadata": {},
   "outputs": [],
   "source": []
  },
  {
   "cell_type": "code",
   "execution_count": null,
   "id": "cf61010a-6dee-42b8-93a1-f9a02ebb4d07",
   "metadata": {},
   "outputs": [],
   "source": []
  }
 ],
 "metadata": {
  "kernelspec": {
   "display_name": "Python 3 (ipykernel)",
   "language": "python",
   "name": "python3"
  },
  "language_info": {
   "codemirror_mode": {
    "name": "ipython",
    "version": 3
   },
   "file_extension": ".py",
   "mimetype": "text/x-python",
   "name": "python",
   "nbconvert_exporter": "python",
   "pygments_lexer": "ipython3",
   "version": "3.8.10"
  }
 },
 "nbformat": 4,
 "nbformat_minor": 5
}
