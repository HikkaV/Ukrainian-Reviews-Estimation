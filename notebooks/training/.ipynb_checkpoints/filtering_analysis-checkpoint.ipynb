{
 "cells": [
  {
   "cell_type": "code",
   "execution_count": 1,
   "id": "062f954d-4c8b-44be-b1d7-c3b0eac21d0f",
   "metadata": {
    "tags": []
   },
   "outputs": [],
   "source": [
    "import os\n",
    "import pandas as pd\n",
    "import numpy as np\n",
    "import gc"
   ]
  },
  {
   "cell_type": "code",
   "execution_count": 2,
   "id": "f6ca99c1-3704-4a3f-8d01-558f40482193",
   "metadata": {
    "tags": []
   },
   "outputs": [],
   "source": [
    "files = os.listdir('/home/web/files_for_research_Vova/')\n",
    "files = [file for file in files if 'filtering' in file]"
   ]
  },
  {
   "cell_type": "code",
   "execution_count": 3,
   "id": "a1283731-c7d0-4910-911f-e444d853e34a",
   "metadata": {
    "tags": []
   },
   "outputs": [
    {
     "name": "stderr",
     "output_type": "stream",
     "text": [
      "/home/web/env/lib/python3.8/site-packages/IPython/core/interactiveshell.py:3221: DtypeWarning: Columns (0,2) have mixed types.Specify dtype option on import or set low_memory=False.\n",
      "  has_raised = await self.run_ast_nodes(code_ast.body, cell_name,\n"
     ]
    }
   ],
   "source": [
    "df = []\n",
    "for c,i in enumerate(files):\n",
    "    name = i.split('.')[0]\n",
    "    tmp = pd.read_csv(os.path.join('/home/web/files_for_research_Vova/', i))\n",
    "    tmp = tmp.rename(columns={'y_predicted_proba' : f'y_predict_proba_{name}'})\n",
    "    if c!=0:\n",
    "        tmp = tmp[[f'y_predict_proba_{name}', 'id']]\n",
    "    tmp = tmp[tmp['id']!='id']\n",
    "    df.append(tmp)\n",
    "    \n",
    "del tmp\n",
    "gc.collect();\n",
    "    "
   ]
  },
  {
   "cell_type": "code",
   "execution_count": 5,
   "id": "07e5f073-e893-4550-b184-dca7ef3778dd",
   "metadata": {
    "tags": []
   },
   "outputs": [],
   "source": [
    "overall_df = df[0]\n",
    "for i in df[1:]:\n",
    "    overall_df = overall_df.merge(i, left_index=True, right_index=True, how='inner')"
   ]
  },
  {
   "cell_type": "code",
   "execution_count": 8,
   "id": "7e3fd156-cb16-4125-a82f-105ba92b08bc",
   "metadata": {
    "tags": []
   },
   "outputs": [],
   "source": [
    "overall_df['id'] = overall_df['id_x']\n",
    "overall_df.drop(columns=[i for i in overall_df.columns \\\n",
    "                         if 'id' in i and len(i)>2], inplace=True)"
   ]
  },
  {
   "cell_type": "markdown",
   "id": "c6928234-5fb1-40ab-b7a1-5f0ad323308b",
   "metadata": {},
   "source": [
    "# String to list dataframe"
   ]
  },
  {
   "cell_type": "code",
   "execution_count": 13,
   "id": "e5046e13-23c9-4757-a4c1-9be56f4702e8",
   "metadata": {
    "tags": []
   },
   "outputs": [],
   "source": [
    "import ast \n",
    "def str_to_list(x):\n",
    "    try:\n",
    "        return list(ast.literal_eval(x))\n",
    "    except:\n",
    "        return None\n",
    "\n",
    "\n",
    "def string_to_list_dataframe(df):\n",
    "    columns = df.columns.tolist()\n",
    "    columns_w_lists = []\n",
    "    for column in columns:\n",
    "        if df[column].astype(str). \\\n",
    "                apply(lambda x: x.startswith('[') and x.endswith(']')) \\\n",
    "                .astype(int).mean() > 0.8:\n",
    "            columns_w_lists.append(column)\n",
    "    for column in columns_w_lists:\n",
    "        df[column] = df[column].apply(lambda x: str_to_list(x))\n",
    "        df = df[~df[column].isna()]\n",
    "    return df"
   ]
  },
  {
   "cell_type": "code",
   "execution_count": 14,
   "id": "b41a4193-e199-4e7b-91e9-36cc2de8b7c2",
   "metadata": {
    "tags": []
   },
   "outputs": [],
   "source": [
    "overall_df = string_to_list_dataframe(overall_df)"
   ]
  },
  {
   "cell_type": "markdown",
   "id": "77cae3da-822c-4e19-961f-657ab0bee757",
   "metadata": {
    "tags": []
   },
   "source": [
    "# Get argmax on columns"
   ]
  },
  {
   "cell_type": "code",
   "execution_count": 15,
   "id": "7b56fadc-0726-470a-8f6d-c02d65fa9aee",
   "metadata": {
    "tags": []
   },
   "outputs": [],
   "source": [
    "cols_of_interest = [i for i in overall_df.columns.tolist() \n",
    "                   if 'y_predict_proba' in i]"
   ]
  },
  {
   "cell_type": "code",
   "execution_count": 16,
   "id": "11aa166f-265f-4b8b-96b3-d62612392f31",
   "metadata": {
    "tags": []
   },
   "outputs": [],
   "source": [
    "for col in cols_of_interest:\n",
    "    overall_df[col] = overall_df[col].apply(lambda x: np.argmax(x))"
   ]
  },
  {
   "cell_type": "markdown",
   "id": "ad1582b3-0a65-4739-9366-2d9a477c9ad9",
   "metadata": {
    "tags": []
   },
   "source": [
    "# Get samples where all model made mistake"
   ]
  },
  {
   "cell_type": "code",
   "execution_count": null,
   "id": "f756462c-882d-4ba7-8763-af5e6b397f9d",
   "metadata": {},
   "outputs": [],
   "source": []
  }
 ],
 "metadata": {
  "kernelspec": {
   "display_name": "Python 3 (ipykernel)",
   "language": "python",
   "name": "python3"
  },
  "language_info": {
   "codemirror_mode": {
    "name": "ipython",
    "version": 3
   },
   "file_extension": ".py",
   "mimetype": "text/x-python",
   "name": "python",
   "nbconvert_exporter": "python",
   "pygments_lexer": "ipython3",
   "version": "3.8.10"
  }
 },
 "nbformat": 4,
 "nbformat_minor": 5
}
