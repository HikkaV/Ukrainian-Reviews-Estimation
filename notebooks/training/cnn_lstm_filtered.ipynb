{
 "cells": [
  {
   "cell_type": "code",
   "execution_count": 1,
   "id": "94761116-1530-448d-a1f6-593d90bec639",
   "metadata": {},
   "outputs": [
    {
     "name": "stdout",
     "output_type": "stream",
     "text": [
      "Collecting tokenizers\n",
      "  Downloading tokenizers-0.13.3-cp38-cp38-manylinux_2_17_x86_64.manylinux2014_x86_64.whl (7.8 MB)\n",
      "\u001b[2K     \u001b[90m━━━━━━━━━━━━━━━━━━━━━━━━━━━━━━━━━━━━━━━━\u001b[0m \u001b[32m7.8/7.8 MB\u001b[0m \u001b[31m10.9 MB/s\u001b[0m eta \u001b[36m0:00:00\u001b[0m00:01\u001b[0m00:01\u001b[0m\n",
      "\u001b[?25hInstalling collected packages: tokenizers\n",
      "Successfully installed tokenizers-0.13.3\n",
      "\u001b[33mWARNING: Running pip as the 'root' user can result in broken permissions and conflicting behaviour with the system package manager. It is recommended to use a virtual environment instead: https://pip.pypa.io/warnings/venv\u001b[0m\u001b[33m\n",
      "\u001b[0m"
     ]
    },
    {
     "name": "stderr",
     "output_type": "stream",
     "text": [
      "2023-05-07 17:34:13.499476: I tensorflow/core/platform/cpu_feature_guard.cc:194] This TensorFlow binary is optimized with oneAPI Deep Neural Network Library (oneDNN) to use the following CPU instructions in performance-critical operations:  SSE3 SSE4.1 SSE4.2 AVX\n",
      "To enable them in other operations, rebuild TensorFlow with the appropriate compiler flags.\n"
     ]
    }
   ],
   "source": [
    "!pip install tokenizers\n",
    "import tensorflow as tf\n",
    "from tokenizers import Tokenizer, models, pre_tokenizers, trainers, Regex\n",
    "import tokenizers\n",
    "import pandas as pd"
   ]
  },
  {
   "cell_type": "code",
   "execution_count": 2,
   "id": "fada8fbb-9dc2-4e9d-935d-2cb0d6684738",
   "metadata": {},
   "outputs": [],
   "source": [
    "model_name = 'cnn_lstm'"
   ]
  },
  {
   "cell_type": "markdown",
   "id": "aa46fb49-08a8-4809-b697-680813299d47",
   "metadata": {},
   "source": [
    "# Load data"
   ]
  },
  {
   "cell_type": "code",
   "execution_count": 3,
   "id": "d01ad050-f023-4253-bc33-72c76bce3944",
   "metadata": {},
   "outputs": [],
   "source": [
    "df = pd.read_csv('/home/user/files_for_research_Vova/processed_data.csv',\\\n",
    "                 usecols=['review_translate',\n",
    "                                                            'dataset_name',\n",
    "                                                            'rating',\n",
    "                                                           'translated'])"
   ]
  },
  {
   "cell_type": "code",
   "execution_count": 4,
   "id": "99ee8e3a-2281-4ec1-8107-49e3ba47d2a9",
   "metadata": {},
   "outputs": [
    {
     "data": {
      "text/html": [
       "<div>\n",
       "<style scoped>\n",
       "    .dataframe tbody tr th:only-of-type {\n",
       "        vertical-align: middle;\n",
       "    }\n",
       "\n",
       "    .dataframe tbody tr th {\n",
       "        vertical-align: top;\n",
       "    }\n",
       "\n",
       "    .dataframe thead th {\n",
       "        text-align: right;\n",
       "    }\n",
       "</style>\n",
       "<table border=\"1\" class=\"dataframe\">\n",
       "  <thead>\n",
       "    <tr style=\"text-align: right;\">\n",
       "      <th></th>\n",
       "      <th>review_translate</th>\n",
       "      <th>rating</th>\n",
       "      <th>dataset_name</th>\n",
       "      <th>translated</th>\n",
       "    </tr>\n",
       "  </thead>\n",
       "  <tbody>\n",
       "    <tr>\n",
       "      <th>0</th>\n",
       "      <td>Якісна пластмаса , переворот 360 градусвв</td>\n",
       "      <td>5.0</td>\n",
       "      <td>rozetka</td>\n",
       "      <td>False</td>\n",
       "    </tr>\n",
       "    <tr>\n",
       "      <th>1</th>\n",
       "      <td>За такі гроші це самий топ</td>\n",
       "      <td>5.0</td>\n",
       "      <td>rozetka</td>\n",
       "      <td>False</td>\n",
       "    </tr>\n",
       "    <tr>\n",
       "      <th>2</th>\n",
       "      <td>За такі гроші - просто супер ! Рекомендую .</td>\n",
       "      <td>5.0</td>\n",
       "      <td>rozetka</td>\n",
       "      <td>False</td>\n",
       "    </tr>\n",
       "    <tr>\n",
       "      <th>3</th>\n",
       "      <td>Виконує свою роботу не погано . але що ви хоті...</td>\n",
       "      <td>4.0</td>\n",
       "      <td>rozetka</td>\n",
       "      <td>False</td>\n",
       "    </tr>\n",
       "    <tr>\n",
       "      <th>4</th>\n",
       "      <td>Купляв на стару сістему як основний під віндов...</td>\n",
       "      <td>4.0</td>\n",
       "      <td>rozetka</td>\n",
       "      <td>False</td>\n",
       "    </tr>\n",
       "  </tbody>\n",
       "</table>\n",
       "</div>"
      ],
      "text/plain": [
       "                                    review_translate  rating dataset_name  \\\n",
       "0          Якісна пластмаса , переворот 360 градусвв     5.0      rozetka   \n",
       "1                         За такі гроші це самий топ     5.0      rozetka   \n",
       "2        За такі гроші - просто супер ! Рекомендую .     5.0      rozetka   \n",
       "3  Виконує свою роботу не погано . але що ви хоті...     4.0      rozetka   \n",
       "4  Купляв на стару сістему як основний під віндов...     4.0      rozetka   \n",
       "\n",
       "   translated  \n",
       "0       False  \n",
       "1       False  \n",
       "2       False  \n",
       "3       False  \n",
       "4       False  "
      ]
     },
     "execution_count": 4,
     "metadata": {},
     "output_type": "execute_result"
    }
   ],
   "source": [
    "df.head()"
   ]
  },
  {
   "cell_type": "code",
   "execution_count": 5,
   "id": "870b0de2-18ef-42ce-9bd5-1ff68b8a1776",
   "metadata": {},
   "outputs": [],
   "source": [
    "subsets = pd.read_csv('/home/user/files_for_research_Vova/train_val_test_indices.csv')"
   ]
  },
  {
   "cell_type": "code",
   "execution_count": 6,
   "id": "778fb1c0-5396-480b-8ce5-e728d06fc3d8",
   "metadata": {},
   "outputs": [
    {
     "data": {
      "text/html": [
       "<div>\n",
       "<style scoped>\n",
       "    .dataframe tbody tr th:only-of-type {\n",
       "        vertical-align: middle;\n",
       "    }\n",
       "\n",
       "    .dataframe tbody tr th {\n",
       "        vertical-align: top;\n",
       "    }\n",
       "\n",
       "    .dataframe thead th {\n",
       "        text-align: right;\n",
       "    }\n",
       "</style>\n",
       "<table border=\"1\" class=\"dataframe\">\n",
       "  <thead>\n",
       "    <tr style=\"text-align: right;\">\n",
       "      <th></th>\n",
       "      <th>index</th>\n",
       "      <th>split</th>\n",
       "    </tr>\n",
       "  </thead>\n",
       "  <tbody>\n",
       "    <tr>\n",
       "      <th>0</th>\n",
       "      <td>0</td>\n",
       "      <td>train</td>\n",
       "    </tr>\n",
       "    <tr>\n",
       "      <th>1</th>\n",
       "      <td>1</td>\n",
       "      <td>test</td>\n",
       "    </tr>\n",
       "    <tr>\n",
       "      <th>2</th>\n",
       "      <td>2</td>\n",
       "      <td>train</td>\n",
       "    </tr>\n",
       "    <tr>\n",
       "      <th>3</th>\n",
       "      <td>3</td>\n",
       "      <td>train</td>\n",
       "    </tr>\n",
       "    <tr>\n",
       "      <th>4</th>\n",
       "      <td>4</td>\n",
       "      <td>train</td>\n",
       "    </tr>\n",
       "  </tbody>\n",
       "</table>\n",
       "</div>"
      ],
      "text/plain": [
       "   index  split\n",
       "0      0  train\n",
       "1      1   test\n",
       "2      2  train\n",
       "3      3  train\n",
       "4      4  train"
      ]
     },
     "execution_count": 6,
     "metadata": {},
     "output_type": "execute_result"
    }
   ],
   "source": [
    "subsets.head()"
   ]
  },
  {
   "cell_type": "code",
   "execution_count": 7,
   "id": "bb145e0a-2bf5-4004-b334-15433414769a",
   "metadata": {},
   "outputs": [],
   "source": [
    "subsets = subsets.merge(df[['dataset_name', 'translated']], left_on='index', right_index=True)"
   ]
  },
  {
   "cell_type": "markdown",
   "id": "2fe0c095-3a54-4967-994d-4117bf0ad6b1",
   "metadata": {},
   "source": [
    "# Filter data"
   ]
  },
  {
   "cell_type": "code",
   "execution_count": 8,
   "id": "644e66a2-4830-40b7-9b13-9eb38aed44f4",
   "metadata": {},
   "outputs": [],
   "source": [
    "bad_indices = pd.read_csv('/home/user/files_for_research_Vova/files_to_check.csv')"
   ]
  },
  {
   "cell_type": "code",
   "execution_count": 9,
   "id": "2bbd7d18-4c8e-4035-a971-c57dba152976",
   "metadata": {},
   "outputs": [],
   "source": [
    "subsets = subsets[~subsets.index.isin(bad_indices['id'].values)]"
   ]
  },
  {
   "cell_type": "code",
   "execution_count": 10,
   "id": "4e5d1659-306d-4f1e-a3b3-e7a7adfaf948",
   "metadata": {},
   "outputs": [],
   "source": [
    "df = df[~df.index.isin(bad_indices['id'].values)]"
   ]
  },
  {
   "cell_type": "code",
   "execution_count": 11,
   "id": "b26a6d87-e1cc-4d11-bf78-62c58df82b5f",
   "metadata": {},
   "outputs": [],
   "source": [
    "df, subsets = df.reset_index().drop(columns='index'), subsets.reset_index().drop(columns='index')"
   ]
  },
  {
   "cell_type": "markdown",
   "id": "f35025fc-9c2c-490e-9231-10f4b38e230b",
   "metadata": {},
   "source": [
    "# Load tokenizer"
   ]
  },
  {
   "cell_type": "code",
   "execution_count": 12,
   "id": "dc7ca142-1e37-49c2-b8b8-2d5f74ee98c8",
   "metadata": {},
   "outputs": [],
   "source": [
    "tokenizer = Tokenizer.from_file(\"/home/user/files_for_research_Vova/tokenizer_30k.json\")\n"
   ]
  },
  {
   "cell_type": "markdown",
   "id": "a86c13af-5e8f-49e4-b337-7b3a70163c1c",
   "metadata": {},
   "source": [
    "# Encode text"
   ]
  },
  {
   "cell_type": "code",
   "execution_count": 13,
   "id": "ef69c9c8-b050-4904-8e93-5e1b89361f8d",
   "metadata": {},
   "outputs": [],
   "source": [
    "import seaborn as sns\n",
    "import numpy as np"
   ]
  },
  {
   "cell_type": "code",
   "execution_count": 14,
   "id": "e2e913ba-749b-4161-a2db-0cb6af2b025c",
   "metadata": {},
   "outputs": [],
   "source": [
    "sns.set()"
   ]
  },
  {
   "cell_type": "code",
   "execution_count": 15,
   "id": "0dda1c9a-9961-4097-bd69-3e5bd58d6789",
   "metadata": {},
   "outputs": [],
   "source": [
    "df['review_translate'] = df['review_translate'].str.lower()"
   ]
  },
  {
   "cell_type": "code",
   "execution_count": 16,
   "id": "3151fe97-eded-408c-be0d-df2b49051e7c",
   "metadata": {},
   "outputs": [],
   "source": [
    "df['encoded'] = tokenizer.encode_batch(df['review_translate'].values)"
   ]
  },
  {
   "cell_type": "code",
   "execution_count": 17,
   "id": "8c01d676-5e85-4b7d-b7c0-5d99b8ba1d44",
   "metadata": {},
   "outputs": [],
   "source": [
    "df['encoded'] = df['encoded'].apply(lambda x: x.ids)"
   ]
  },
  {
   "cell_type": "code",
   "execution_count": 18,
   "id": "47ddda71-f140-49f7-89c8-fea94b8bcdfd",
   "metadata": {},
   "outputs": [
    {
     "name": "stderr",
     "output_type": "stream",
     "text": [
      "/tmp/ipykernel_1/3749403729.py:1: UserWarning: \n",
      "\n",
      "`distplot` is a deprecated function and will be removed in seaborn v0.14.0.\n",
      "\n",
      "Please adapt your code to use either `displot` (a figure-level function with\n",
      "similar flexibility) or `histplot` (an axes-level function for histograms).\n",
      "\n",
      "For a guide to updating your code to use the new functions, please see\n",
      "https://gist.github.com/mwaskom/de44147ed2974457ad6372750bbe5751\n",
      "\n",
      "  sns.distplot(np.log10(df['encoded'].apply(len)))\n"
     ]
    },
    {
     "data": {
      "text/plain": [
       "<AxesSubplot: xlabel='encoded', ylabel='Density'>"
      ]
     },
     "execution_count": 18,
     "metadata": {},
     "output_type": "execute_result"
    },
    {
     "data": {
      "image/png": "[encoded data removed]",
      "text/plain": [
       "<Figure size 640x480 with 1 Axes>"
      ]
     },
     "metadata": {},
     "output_type": "display_data"
    }
   ],
   "source": [
    "sns.distplot(np.log10(df['encoded'].apply(len)))"
   ]
  },
  {
   "cell_type": "code",
   "execution_count": 19,
   "id": "e81a0c0b-0dd0-4437-872e-0c13fc041b99",
   "metadata": {},
   "outputs": [
    {
     "data": {
      "text/plain": [
       "324.0"
      ]
     },
     "execution_count": 19,
     "metadata": {},
     "output_type": "execute_result"
    }
   ],
   "source": [
    "np.percentile(df['encoded'].apply(len), 99)"
   ]
  },
  {
   "cell_type": "code",
   "execution_count": 20,
   "id": "c680a61a-cee2-4fbd-9a97-17a9c7ec74a9",
   "metadata": {},
   "outputs": [],
   "source": [
    "encoded_tokens = df['encoded'].values"
   ]
  },
  {
   "cell_type": "code",
   "execution_count": 21,
   "id": "b3d6e285-87e6-4ce1-be8a-cb614270a8a4",
   "metadata": {},
   "outputs": [],
   "source": [
    "from itertools import chain"
   ]
  },
  {
   "cell_type": "code",
   "execution_count": 22,
   "id": "7f8c9fac-7ed8-45c3-8114-763b1ed0c138",
   "metadata": {},
   "outputs": [],
   "source": [
    "padded_tokens = tf.keras.preprocessing.sequence\\\n",
    ".pad_sequences(encoded_tokens, maxlen=300, padding=\"post\")\n"
   ]
  },
  {
   "cell_type": "code",
   "execution_count": 23,
   "id": "8137187b-fd7f-4199-883e-7ff778a94c0a",
   "metadata": {},
   "outputs": [
    {
     "data": {
      "text/plain": [
       "(655470, 300)"
      ]
     },
     "execution_count": 23,
     "metadata": {},
     "output_type": "execute_result"
    }
   ],
   "source": [
    "padded_tokens.shape"
   ]
  },
  {
   "cell_type": "markdown",
   "id": "5bc9a5b3-3794-4ab8-a16d-fa572ac9d2f6",
   "metadata": {},
   "source": [
    "# Get labels and split data"
   ]
  },
  {
   "cell_type": "code",
   "execution_count": 24,
   "id": "fbdb3b33-cbb6-4024-b683-8819ad6d7b3f",
   "metadata": {},
   "outputs": [],
   "source": [
    "mapping = dict([(i,c) for c,i in enumerate(df['rating'].unique())])"
   ]
  },
  {
   "cell_type": "code",
   "execution_count": 25,
   "id": "0d9dcd18-b69c-4b71-8f83-85f750be1daa",
   "metadata": {},
   "outputs": [],
   "source": [
    "y = df['rating'].map(mapping).values"
   ]
  },
  {
   "cell_type": "code",
   "execution_count": 26,
   "id": "abf0a14a-7050-4689-806f-dbe4f094f0d8",
   "metadata": {},
   "outputs": [],
   "source": [
    "num_classes = len(set(y))"
   ]
  },
  {
   "cell_type": "code",
   "execution_count": 27,
   "id": "59b5a397-faf0-43be-b498-a3d4af06fbc0",
   "metadata": {},
   "outputs": [],
   "source": [
    "train_indices, val_indices, test_indices = subsets[subsets['split']=='train'].index.tolist(),\\\n",
    "subsets[subsets['split']=='val'].index.tolist(),\\\n",
    "subsets[subsets['split']=='test'].index.tolist()\n"
   ]
  },
  {
   "cell_type": "code",
   "execution_count": 28,
   "id": "7564a2e1-11d7-44cf-803b-03b4eb3b0dce",
   "metadata": {},
   "outputs": [],
   "source": [
    "train_y, val_y, test_y = y[train_indices], y[val_indices], y[test_indices]"
   ]
  },
  {
   "cell_type": "code",
   "execution_count": 29,
   "id": "39adcfe4-0446-4673-bbad-dfdc972fb7d0",
   "metadata": {},
   "outputs": [],
   "source": [
    "train_x, val_x, test_x = padded_tokens[train_indices], padded_tokens[val_indices],\\\n",
    "padded_tokens[test_indices]"
   ]
  },
  {
   "cell_type": "code",
   "execution_count": 30,
   "id": "bce92ef9-7a5c-4f99-86e0-18544e93101f",
   "metadata": {},
   "outputs": [
    {
     "data": {
      "text/plain": [
       "(524346, 300)"
      ]
     },
     "execution_count": 30,
     "metadata": {},
     "output_type": "execute_result"
    }
   ],
   "source": [
    "train_x.shape"
   ]
  },
  {
   "cell_type": "markdown",
   "id": "a0f0ac0e-11a7-436a-9fd3-cfa9229d7ec8",
   "metadata": {},
   "source": [
    "# Create  model"
   ]
  },
  {
   "cell_type": "code",
   "execution_count": 31,
   "id": "9f289fe1-9416-4bba-90c9-5422ebd88c1d",
   "metadata": {},
   "outputs": [
    {
     "name": "stderr",
     "output_type": "stream",
     "text": [
      "2023-05-07 17:35:09.889696: I tensorflow/core/platform/cpu_feature_guard.cc:194] This TensorFlow binary is optimized with oneAPI Deep Neural Network Library (oneDNN) to use the following CPU instructions in performance-critical operations:  SSE3 SSE4.1 SSE4.2 AVX\n",
      "To enable them in other operations, rebuild TensorFlow with the appropriate compiler flags.\n",
      "2023-05-07 17:35:10.068030: I tensorflow/core/common_runtime/gpu/gpu_device.cc:1621] Created device /job:localhost/replica:0/task:0/device:GPU:0 with 14148 MB memory:  -> device: 0, name: NVIDIA RTX A4000, pci bus id: 0000:03:00.0, compute capability: 8.6\n"
     ]
    }
   ],
   "source": [
    "tf.keras.backend.clear_session()\n",
    "np.random.seed(0)\n",
    "tf.random.set_seed(0)\n",
    "input_layer = tf.keras.layers.Input(shape=(300,), name='input')\n",
    "word_embedding = tf.keras.layers.Embedding(input_dim=tokenizer.get_vocab_size(),\n",
    "                                                   output_dim=300,\n",
    "                                                   trainable=True,\n",
    "                                           name='embedding',\n",
    "                                           mask_zero=True\n",
    "                                                   )\n",
    "conv1d = tf.keras.layers.Conv1D(filters=100, kernel_size=3, activation='relu',\n",
    "                                   name=f'conv_ngram_3')\n",
    "max_pooling = tf.keras.layers.MaxPool1D(pool_size=2, strides=1,\n",
    "                                           padding='valid')\n",
    "dropout = tf.keras.layers.SpatialDropout1D(0.3)\n",
    "lstm = tf.keras.layers.LSTM(128, name='lstm',\n",
    "                           return_sequences=False)\n",
    "\n",
    "embedded = dropout(word_embedding(input_layer))\n",
    "convolved = conv1d(embedded)\n",
    "max_pooled = max_pooling(convolved)\n",
    "hidden_state = lstm(max_pooled)\n",
    "x = tf.keras.layers.Dense(128, activation='relu', name='dense')(hidden_state)\n",
    "x = tf.keras.layers.Dropout(0.5, name='dropout')(x)\n",
    "output = tf.keras.layers.Dense(num_classes, activation='softmax', name='output')(x)\n",
    "model = tf.keras.Model(input_layer, output)"
   ]
  },
  {
   "cell_type": "markdown",
   "id": "5df15e13-921d-4eaa-b433-7500dc153a5f",
   "metadata": {},
   "source": [
    "# Compile model"
   ]
  },
  {
   "cell_type": "code",
   "execution_count": 32,
   "id": "a272e87d-a23a-4940-81fa-569451e2ea5c",
   "metadata": {},
   "outputs": [],
   "source": [
    "model.compile(loss='sparse_categorical_crossentropy', \\\n",
    "              optimizer=tf.keras.optimizers.Adam(),\n",
    "             metrics=['acc'])"
   ]
  },
  {
   "cell_type": "code",
   "execution_count": 33,
   "id": "7baa74f7-21cf-42b1-83fa-bb1bed688e6e",
   "metadata": {},
   "outputs": [
    {
     "name": "stdout",
     "output_type": "stream",
     "text": [
      "Model: \"model\"\n",
      "_________________________________________________________________\n",
      " Layer (type)                Output Shape              Param #   \n",
      "=================================================================\n",
      " input (InputLayer)          [(None, 300)]             0         \n",
      "                                                                 \n",
      " embedding (Embedding)       (None, 300, 300)          9000000   \n",
      "                                                                 \n",
      " spatial_dropout1d (SpatialD  (None, 300, 300)         0         \n",
      " ropout1D)                                                       \n",
      "                                                                 \n",
      " conv_ngram_3 (Conv1D)       (None, 298, 100)          90100     \n",
      "                                                                 \n",
      " max_pooling1d (MaxPooling1D  (None, 297, 100)         0         \n",
      " )                                                               \n",
      "                                                                 \n",
      " lstm (LSTM)                 (None, 128)               117248    \n",
      "                                                                 \n",
      " dense (Dense)               (None, 128)               16512     \n",
      "                                                                 \n",
      " dropout (Dropout)           (None, 128)               0         \n",
      "                                                                 \n",
      " output (Dense)              (None, 5)                 645       \n",
      "                                                                 \n",
      "=================================================================\n",
      "Total params: 9,224,505\n",
      "Trainable params: 9,224,505\n",
      "Non-trainable params: 0\n",
      "_________________________________________________________________\n"
     ]
    }
   ],
   "source": [
    "model.summary()"
   ]
  },
  {
   "cell_type": "markdown",
   "id": "d9db9424-2b20-4d10-8da4-0c55152abe57",
   "metadata": {},
   "source": [
    "# Early stopping"
   ]
  },
  {
   "cell_type": "code",
   "execution_count": 34,
   "id": "9c9801fe-9cd2-47e2-9cad-58efbf4205a7",
   "metadata": {},
   "outputs": [],
   "source": [
    "import operator\n",
    "class EarlyStopping:\n",
    "    def __init__(self, tolerance=5, mode='min'):\n",
    "        assert mode in ['min','max'], 'Mode should be min or max'\n",
    "        self.mode = operator.lt if mode=='min' else operator.gt \n",
    "        self.tolerance = tolerance\n",
    "        self.counter = 0\n",
    "        self.early_stop = False\n",
    "        self.extremum_value = None\n",
    "        self.best_model = None\n",
    "    \n",
    "    @staticmethod\n",
    "    def copy_model(model):\n",
    "        copied_model = tf.keras.models.clone_model(model)\n",
    "        copied_model.set_weights(model.get_weights())\n",
    "        return copied_model\n",
    "        \n",
    "    def __call__(self, val, model):\n",
    "        if self.extremum_value is None:\n",
    "            self.extremum_value = val\n",
    "            self.best_model = self.copy_model(model)\n",
    "        else:\n",
    "            if not self.mode(val, self.extremum_value):\n",
    "                self.counter+=1\n",
    "            else:\n",
    "                self.extremum_value = val\n",
    "                self.best_model = self.copy_model(model)\n",
    "                self.counter = 0\n",
    "        \n",
    "        if self.counter==self.tolerance:\n",
    "            self.early_stop=True"
   ]
  },
  {
   "cell_type": "markdown",
   "id": "7676e473-8116-488e-990d-dc7937d9119c",
   "metadata": {},
   "source": [
    "# Train model"
   ]
  },
  {
   "cell_type": "code",
   "execution_count": 35,
   "id": "eed6de2d-be45-45cd-af31-b9042d1a20af",
   "metadata": {},
   "outputs": [],
   "source": [
    "from sklearn.metrics import f1_score"
   ]
  },
  {
   "cell_type": "code",
   "execution_count": 36,
   "id": "fbe8fc41-6661-4a56-ad5d-d1a4ed3e53f5",
   "metadata": {},
   "outputs": [],
   "source": [
    "def evaluate_on_datasets(y_true, y_pred, split='val'):\n",
    "    d = {}\n",
    "    for dataset_name in subsets['dataset_name'].unique():\n",
    "            idx = subsets[subsets['split']==split].copy()\n",
    "            idx['index'] = list(range(idx.shape[0]))\n",
    "            idx = idx[(idx['dataset_name']==dataset_name)]\\\n",
    "            ['index'].values.tolist()\n",
    "            score = f1_score(y_true=y_true[idx], y_pred=y_pred[idx],\n",
    "                                 average='macro')\n",
    "            print(f'{split} f1 score for dataset {dataset_name} : {score}')\n",
    "            d[f'{split}_f1_{dataset_name}'] = score\n",
    "            \n",
    "    for flag in [True, False]:\n",
    "        idx = subsets[subsets['split']==split].copy()\n",
    "        idx['index'] = list(range(idx.shape[0]))\n",
    "        idx = idx[idx['translated']==flag]['index'].values.tolist()\n",
    "        score = f1_score(y_true=y_true[idx], y_pred=y_pred[idx],\n",
    "                                 average='macro')\n",
    "        print(f'{split} f1 score for translated=={flag} : {score}')\n",
    "        d[f'{split}_f1_translated=={flag}'] = score\n",
    "    return d"
   ]
  },
  {
   "cell_type": "code",
   "execution_count": 37,
   "id": "f43c7824-1d7a-4fc1-b095-53902f428b3f",
   "metadata": {},
   "outputs": [],
   "source": [
    "def update_history(history, d):\n",
    "    for key, value in d.items():\n",
    "        res = history.get(key, [])\n",
    "        res.append(value)\n",
    "        history[key] = res"
   ]
  },
  {
   "cell_type": "code",
   "execution_count": 38,
   "id": "39c90c92-f6c9-4f00-94f0-582ebdf71912",
   "metadata": {},
   "outputs": [],
   "source": [
    "early_stopping = EarlyStopping(mode='max', tolerance=4)"
   ]
  },
  {
   "cell_type": "code",
   "execution_count": 39,
   "id": "e4354a40-79f8-4991-a26e-6d2422a4b9dd",
   "metadata": {},
   "outputs": [],
   "source": [
    "def training_loop(model, epochs=10, batch_size=128):\n",
    "    dict_history = {}\n",
    "    for i in range(epochs):\n",
    "        \n",
    "        #train model\n",
    "        history = model.fit(train_x, train_y, validation_data=(val_x, val_y), \n",
    "          epochs=1, batch_size=batch_size,\n",
    "                           verbose=0)\n",
    "        train_loss, val_loss = history.history['loss'][-1], history.history['val_loss'][-1]\n",
    "        \n",
    "        #evaluate model\n",
    "        train_prediction = np.argmax(model.predict(train_x, batch_size=batch_size), axis=-1)\n",
    "        val_prediction = np.argmax(model.predict(val_x, batch_size=batch_size), axis=-1)\n",
    "        train_f1 = f1_score(y_true=train_y, y_pred=train_prediction,\n",
    "                           average='macro')\n",
    "        val_f1 = f1_score(y_true=val_y, y_pred=val_prediction,\n",
    "                         average='macro')\n",
    "        \n",
    "        #printing evaluation\n",
    "        print(f'Epoch {i}')\n",
    "        print(f'Overall train f1 : {train_f1}, overall val f1: {val_f1}')\n",
    "        print(f'Train loss : {train_loss}, val loss: {val_loss}')\n",
    "        d_train = evaluate_on_datasets(y_true=train_y, y_pred=train_prediction, split='train')\n",
    "        d_val = evaluate_on_datasets(y_true=val_y, y_pred=val_prediction, split='val')\n",
    "            \n",
    "        if i!=epochs-1:\n",
    "            print('-'*30)\n",
    "            \n",
    "        #save history\n",
    "        update_history(dict_history, d_train)\n",
    "        update_history(dict_history, d_val)\n",
    "        update_history(dict_history, {'train_f1': train_f1})\n",
    "        update_history(dict_history, {'val_f1': val_f1})\n",
    "        update_history(dict_history, {'train_loss': train_loss})\n",
    "        update_history(dict_history, {'val_loss': val_loss})\n",
    "        #early stopping\n",
    "        \n",
    "        early_stopping(val_f1, model)\n",
    "        if early_stopping.early_stop:\n",
    "            print('Stopping early')\n",
    "            model = early_stopping.best_model\n",
    "            break\n",
    "        \n",
    "    return dict_history, model"
   ]
  },
  {
   "cell_type": "code",
   "execution_count": 40,
   "id": "73c7d40c-fd2c-41cc-9938-ee4f58a8a0b5",
   "metadata": {},
   "outputs": [
    {
     "name": "stderr",
     "output_type": "stream",
     "text": [
      "2023-05-07 17:35:28.434597: I tensorflow/compiler/xla/stream_executor/cuda/cuda_dnn.cc:428] Loaded cuDNN version 8700\n",
      "2023-05-07 17:35:28.765072: I tensorflow/compiler/xla/stream_executor/cuda/cuda_blas.cc:648] TensorFloat-32 will be used for the matrix multiplication. This will only be logged once.\n",
      "2023-05-07 17:35:28.844282: I tensorflow/compiler/xla/service/service.cc:173] XLA service 0x7f6df4941930 initialized for platform CUDA (this does not guarantee that XLA will be used). Devices:\n",
      "2023-05-07 17:35:28.844360: I tensorflow/compiler/xla/service/service.cc:181]   StreamExecutor device (0): NVIDIA RTX A4000, Compute Capability 8.6\n",
      "2023-05-07 17:35:28.851581: I tensorflow/compiler/mlir/tensorflow/utils/dump_mlir_util.cc:268] disabling MLIR crash reproducer, set env var `MLIR_CRASH_REPRODUCER_DIRECTORY` to enable.\n",
      "2023-05-07 17:35:29.016039: I tensorflow/compiler/jit/xla_compilation_cache.cc:480] Compiled cluster using XLA!  This line is logged at most once for the lifetime of the process.\n"
     ]
    },
    {
     "name": "stdout",
     "output_type": "stream",
     "text": [
      "257/257 [==============================] - 14s 52ms/step\n",
      "33/33 [==============================] - 2s 53ms/step\n",
      "Epoch 0\n",
      "Overall train f1 : 0.17148625957986965, overall val f1: 0.16745329650934562\n",
      "Train loss : 1.090311050415039, val loss: 1.0594035387039185\n",
      "train f1 score for dataset rozetka : 0.16982466750304376\n",
      "train f1 score for dataset tripadvisor_hotels_ukraine : 0.18378714341212393\n",
      "train f1 score for dataset tripadvisor_restaurants_ukraine : 0.16347279985307434\n",
      "train f1 score for translated==True : 0.17047621080148956\n",
      "train f1 score for translated==False : 0.17270918256162177\n",
      "val f1 score for dataset rozetka : 0.16984344582495314\n",
      "val f1 score for dataset tripadvisor_hotels_ukraine : 0.165905178275003\n",
      "val f1 score for dataset tripadvisor_restaurants_ukraine : 0.1589609653220621\n",
      "val f1 score for translated==True : 0.16591031176959\n",
      "val f1 score for translated==False : 0.17213154019839608\n",
      "------------------------------\n",
      "257/257 [==============================] - 14s 53ms/step\n",
      "33/33 [==============================] - 2s 53ms/step\n",
      "Epoch 1\n",
      "Overall train f1 : 0.18226094098669499, overall val f1: 0.17972637375294898\n",
      "Train loss : 1.0696592330932617, val loss: 1.0553590059280396\n",
      "train f1 score for dataset rozetka : 0.1720978156689867\n",
      "train f1 score for dataset tripadvisor_hotels_ukraine : 0.19927342935842335\n",
      "train f1 score for dataset tripadvisor_restaurants_ukraine : 0.1807054613986011\n",
      "train f1 score for translated==True : 0.1824219498121694\n",
      "train f1 score for translated==False : 0.1755735932723613\n",
      "val f1 score for dataset rozetka : 0.17333278630394444\n",
      "val f1 score for dataset tripadvisor_hotels_ukraine : 0.18981803547302153\n",
      "val f1 score for dataset tripadvisor_restaurants_ukraine : 0.1769654091747482\n",
      "val f1 score for translated==True : 0.17941427376492405\n",
      "val f1 score for translated==False : 0.17699845240782555\n",
      "------------------------------\n",
      "257/257 [==============================] - 14s 53ms/step\n",
      "33/33 [==============================] - 2s 53ms/step\n",
      "Epoch 2\n",
      "Overall train f1 : 0.16184689593752266, overall val f1: 0.16036166152447778\n",
      "Train loss : 1.0600861310958862, val loss: 1.024826169013977\n",
      "train f1 score for dataset rozetka : 0.16844546904121083\n",
      "train f1 score for dataset tripadvisor_hotels_ukraine : 0.15142037532005106\n",
      "train f1 score for dataset tripadvisor_restaurants_ukraine : 0.15056390240114775\n",
      "train f1 score for translated==True : 0.15942710153396195\n",
      "train f1 score for translated==False : 0.1713099244653832\n",
      "val f1 score for dataset rozetka : 0.16843441205130388\n",
      "val f1 score for dataset tripadvisor_hotels_ukraine : 0.14582022290421578\n",
      "val f1 score for dataset tripadvisor_restaurants_ukraine : 0.14813472558982135\n",
      "val f1 score for translated==True : 0.15783732145156087\n",
      "val f1 score for translated==False : 0.17036140089418778\n",
      "------------------------------\n",
      "257/257 [==============================] - 14s 53ms/step\n",
      "33/33 [==============================] - 2s 53ms/step\n",
      "Epoch 3\n",
      "Overall train f1 : 0.2216201273000611, overall val f1: 0.2184211852607838\n",
      "Train loss : 1.0421754121780396, val loss: 1.0335849523544312\n",
      "train f1 score for dataset rozetka : 0.21412421223392886\n",
      "train f1 score for dataset tripadvisor_hotels_ukraine : 0.21668510261567003\n",
      "train f1 score for dataset tripadvisor_restaurants_ukraine : 0.22815201561454304\n",
      "train f1 score for translated==True : 0.2209647429475948\n",
      "train f1 score for translated==False : 0.22181676948735082\n",
      "val f1 score for dataset rozetka : 0.21031496796608154\n",
      "val f1 score for dataset tripadvisor_hotels_ukraine : 0.21102147684934175\n",
      "val f1 score for dataset tripadvisor_restaurants_ukraine : 0.22684505592900378\n",
      "val f1 score for translated==True : 0.21852779978397824\n",
      "val f1 score for translated==False : 0.21541599973702114\n",
      "------------------------------\n",
      "257/257 [==============================] - 14s 53ms/step\n",
      "33/33 [==============================] - 2s 53ms/step\n",
      "Epoch 4\n",
      "Overall train f1 : 0.27357494318822034, overall val f1: 0.2705204066359318\n",
      "Train loss : 0.9965943694114685, val loss: 0.8600199818611145\n",
      "train f1 score for dataset rozetka : 0.2617861547832049\n",
      "train f1 score for dataset tripadvisor_hotels_ukraine : 0.26658962666855823\n",
      "train f1 score for dataset tripadvisor_restaurants_ukraine : 0.2796549681363636\n",
      "train f1 score for translated==True : 0.27417471383333053\n",
      "train f1 score for translated==False : 0.2630282150738412\n",
      "val f1 score for dataset rozetka : 0.2567906100616152\n",
      "val f1 score for dataset tripadvisor_hotels_ukraine : 0.2647155847155397\n",
      "val f1 score for dataset tripadvisor_restaurants_ukraine : 0.2785162640618547\n",
      "val f1 score for translated==True : 0.27158743689635456\n",
      "val f1 score for translated==False : 0.2571696142950788\n",
      "------------------------------\n",
      "257/257 [==============================] - 14s 54ms/step\n",
      "33/33 [==============================] - 2s 53ms/step\n",
      "Epoch 5\n",
      "Overall train f1 : 0.4394787982308433, overall val f1: 0.4172110646940502\n",
      "Train loss : 0.7347349524497986, val loss: 0.6659311652183533\n",
      "train f1 score for dataset rozetka : 0.4072300966054511\n",
      "train f1 score for dataset tripadvisor_hotels_ukraine : 0.45485371733804864\n",
      "train f1 score for dataset tripadvisor_restaurants_ukraine : 0.46173797691089735\n",
      "train f1 score for translated==True : 0.4438965918148279\n",
      "train f1 score for translated==False : 0.4041439653342661\n",
      "val f1 score for dataset rozetka : 0.386850305008465\n",
      "val f1 score for dataset tripadvisor_hotels_ukraine : 0.42986512615476613\n",
      "val f1 score for dataset tripadvisor_restaurants_ukraine : 0.43794543974568223\n",
      "val f1 score for translated==True : 0.4209640254738992\n",
      "val f1 score for translated==False : 0.3856307241637233\n",
      "------------------------------\n",
      "257/257 [==============================] - 14s 53ms/step\n",
      "33/33 [==============================] - 2s 53ms/step\n",
      "Epoch 6\n",
      "Overall train f1 : 0.5502493717371151, overall val f1: 0.5016551474050607\n",
      "Train loss : 0.6210230588912964, val loss: 0.643886148929596\n",
      "train f1 score for dataset rozetka : 0.5059987742365084\n",
      "train f1 score for dataset tripadvisor_hotels_ukraine : 0.5814112697576552\n",
      "train f1 score for dataset tripadvisor_restaurants_ukraine : 0.5808488245286912\n",
      "train f1 score for translated==True : 0.5550502546847798\n",
      "train f1 score for translated==False : 0.5129910444850937\n",
      "val f1 score for dataset rozetka : 0.4531062295664059\n",
      "val f1 score for dataset tripadvisor_hotels_ukraine : 0.5283852106254578\n",
      "val f1 score for dataset tripadvisor_restaurants_ukraine : 0.5380889356491475\n",
      "val f1 score for translated==True : 0.5080810039359387\n",
      "val f1 score for translated==False : 0.45240237168442715\n",
      "------------------------------\n",
      "257/257 [==============================] - 14s 53ms/step\n",
      "33/33 [==============================] - 2s 53ms/step\n",
      "Epoch 7\n",
      "Overall train f1 : 0.5761754885854105, overall val f1: 0.5004727238668373\n",
      "Train loss : 0.5676820874214172, val loss: 0.6578713059425354\n",
      "train f1 score for dataset rozetka : 0.5320146168186685\n",
      "train f1 score for dataset tripadvisor_hotels_ukraine : 0.6055329376965638\n",
      "train f1 score for dataset tripadvisor_restaurants_ukraine : 0.6077994596900937\n",
      "train f1 score for translated==True : 0.5813812227897153\n",
      "train f1 score for translated==False : 0.5375231593837049\n",
      "val f1 score for dataset rozetka : 0.4566913922891541\n",
      "val f1 score for dataset tripadvisor_hotels_ukraine : 0.5208777226773591\n",
      "val f1 score for dataset tripadvisor_restaurants_ukraine : 0.5340739399405238\n",
      "val f1 score for translated==True : 0.5055859054123695\n",
      "val f1 score for translated==False : 0.45916352007111116\n",
      "------------------------------\n",
      "257/257 [==============================] - 14s 53ms/step\n",
      "33/33 [==============================] - 2s 53ms/step\n",
      "Epoch 8\n",
      "Overall train f1 : 0.61168121653912, overall val f1: 0.5025353373533157\n",
      "Train loss : 0.5315529108047485, val loss: 0.6846287250518799\n",
      "train f1 score for dataset rozetka : 0.5706093123503682\n",
      "train f1 score for dataset tripadvisor_hotels_ukraine : 0.6397838208516188\n",
      "train f1 score for dataset tripadvisor_restaurants_ukraine : 0.6416044508431835\n",
      "train f1 score for translated==True : 0.6167759517327136\n",
      "train f1 score for translated==False : 0.5747307676202299\n",
      "val f1 score for dataset rozetka : 0.4596312221299047\n",
      "val f1 score for dataset tripadvisor_hotels_ukraine : 0.5352491734253476\n",
      "val f1 score for dataset tripadvisor_restaurants_ukraine : 0.5322686269270013\n",
      "val f1 score for translated==True : 0.5074454834832491\n",
      "val f1 score for translated==False : 0.4635886917953891\n",
      "------------------------------\n",
      "257/257 [==============================] - 14s 53ms/step\n",
      "33/33 [==============================] - 2s 53ms/step\n",
      "Epoch 9\n",
      "Overall train f1 : 0.604376395996933, overall val f1: 0.49566507916942754\n",
      "Train loss : 0.5028650164604187, val loss: 0.7374165654182434\n",
      "train f1 score for dataset rozetka : 0.5726459718089447\n",
      "train f1 score for dataset tripadvisor_hotels_ukraine : 0.624635282014595\n",
      "train f1 score for dataset tripadvisor_restaurants_ukraine : 0.6270975044104896\n",
      "train f1 score for translated==True : 0.6078594537195975\n",
      "train f1 score for translated==False : 0.5778855106951151\n",
      "val f1 score for dataset rozetka : 0.4573074797299349\n",
      "val f1 score for dataset tripadvisor_hotels_ukraine : 0.5035468592824631\n",
      "val f1 score for dataset tripadvisor_restaurants_ukraine : 0.5273882124936063\n",
      "val f1 score for translated==True : 0.5011840416037566\n",
      "val f1 score for translated==False : 0.45299483599519813\n",
      "------------------------------\n",
      "257/257 [==============================] - 14s 53ms/step\n",
      "33/33 [==============================] - 2s 53ms/step\n",
      "Epoch 10\n",
      "Overall train f1 : 0.6739086506269544, overall val f1: 0.5183542235841486\n",
      "Train loss : 0.4759586751461029, val loss: 0.769911527633667\n",
      "train f1 score for dataset rozetka : 0.6446348030531663\n",
      "train f1 score for dataset tripadvisor_hotels_ukraine : 0.6856432298699062\n",
      "train f1 score for dataset tripadvisor_restaurants_ukraine : 0.6967724195668601\n",
      "train f1 score for translated==True : 0.6760799650397772\n",
      "train f1 score for translated==False : 0.6554065419748198\n",
      "val f1 score for dataset rozetka : 0.48170032535986784\n",
      "val f1 score for dataset tripadvisor_hotels_ukraine : 0.542523365591114\n",
      "val f1 score for dataset tripadvisor_restaurants_ukraine : 0.5420406969566107\n",
      "val f1 score for translated==True : 0.5210654075487009\n",
      "val f1 score for translated==False : 0.49227443253552466\n",
      "------------------------------\n",
      "257/257 [==============================] - 14s 53ms/step\n",
      "33/33 [==============================] - 2s 52ms/step\n",
      "Epoch 11\n",
      "Overall train f1 : 0.6643423652510344, overall val f1: 0.4999867742556322\n",
      "Train loss : 0.45541366934776306, val loss: 0.7892099618911743\n",
      "train f1 score for dataset rozetka : 0.6348978870150186\n",
      "train f1 score for dataset tripadvisor_hotels_ukraine : 0.6810999199960104\n",
      "train f1 score for dataset tripadvisor_restaurants_ukraine : 0.6871685298515443\n",
      "train f1 score for translated==True : 0.6678584357678151\n",
      "train f1 score for translated==False : 0.6390077163145067\n",
      "val f1 score for dataset rozetka : 0.4671299168073887\n",
      "val f1 score for dataset tripadvisor_hotels_ukraine : 0.5184217068101115\n",
      "val f1 score for dataset tripadvisor_restaurants_ukraine : 0.5228952567351001\n",
      "val f1 score for translated==True : 0.5034620933900669\n",
      "val f1 score for translated==False : 0.4706378718886158\n",
      "------------------------------\n",
      "257/257 [==============================] - 14s 53ms/step\n",
      "33/33 [==============================] - 2s 53ms/step\n",
      "Epoch 12\n",
      "Overall train f1 : 0.7512574910502072, overall val f1: 0.5280057814394312\n",
      "Train loss : 0.4303738474845886, val loss: 0.7976011037826538\n",
      "train f1 score for dataset rozetka : 0.7293025138169819\n",
      "train f1 score for dataset tripadvisor_hotels_ukraine : 0.7565131351610457\n",
      "train f1 score for dataset tripadvisor_restaurants_ukraine : 0.7700596143128664\n",
      "train f1 score for translated==True : 0.7526066131158109\n",
      "train f1 score for translated==False : 0.7394253783340995\n",
      "val f1 score for dataset rozetka : 0.5005714505702187\n",
      "val f1 score for dataset tripadvisor_hotels_ukraine : 0.5284377593693803\n",
      "val f1 score for dataset tripadvisor_restaurants_ukraine : 0.5489550963574026\n",
      "val f1 score for translated==True : 0.5306122016157498\n",
      "val f1 score for translated==False : 0.5036679816722681\n",
      "------------------------------\n",
      "257/257 [==============================] - 14s 53ms/step\n",
      "33/33 [==============================] - 2s 53ms/step\n",
      "Epoch 13\n",
      "Overall train f1 : 0.732463879615134, overall val f1: 0.5230452890660389\n",
      "Train loss : 0.40738239884376526, val loss: 0.85427325963974\n",
      "train f1 score for dataset rozetka : 0.7171889418927618\n",
      "train f1 score for dataset tripadvisor_hotels_ukraine : 0.72531870617032\n",
      "train f1 score for dataset tripadvisor_restaurants_ukraine : 0.7458543588074698\n",
      "train f1 score for translated==True : 0.7324437295506174\n",
      "train f1 score for translated==False : 0.7282983452932791\n",
      "val f1 score for dataset rozetka : 0.500853120593517\n",
      "val f1 score for dataset tripadvisor_hotels_ukraine : 0.5203052627016023\n",
      "val f1 score for dataset tripadvisor_restaurants_ukraine : 0.5377607301593013\n",
      "val f1 score for translated==True : 0.5253396279656888\n",
      "val f1 score for translated==False : 0.49935305317797385\n",
      "------------------------------\n",
      "257/257 [==============================] - 14s 53ms/step\n",
      "33/33 [==============================] - 2s 53ms/step\n",
      "Epoch 14\n",
      "Overall train f1 : 0.8000290688419331, overall val f1: 0.529765689928227\n",
      "Train loss : 0.38913241028785706, val loss: 0.8880643844604492\n",
      "train f1 score for dataset rozetka : 0.7794785829157929\n",
      "train f1 score for dataset tripadvisor_hotels_ukraine : 0.8134596965369656\n",
      "train f1 score for dataset tripadvisor_restaurants_ukraine : 0.8164544386493329\n",
      "train f1 score for translated==True : 0.8011944681517129\n",
      "train f1 score for translated==False : 0.7911357021542078\n",
      "val f1 score for dataset rozetka : 0.5079826870296122\n",
      "val f1 score for dataset tripadvisor_hotels_ukraine : 0.5370246445719926\n",
      "val f1 score for dataset tripadvisor_restaurants_ukraine : 0.5441569128988286\n",
      "val f1 score for translated==True : 0.5320904520096015\n",
      "val f1 score for translated==False : 0.5072934656189337\n",
      "------------------------------\n",
      "257/257 [==============================] - 14s 53ms/step\n",
      "33/33 [==============================] - 2s 52ms/step\n",
      "Epoch 15\n",
      "Overall train f1 : 0.7934440144840573, overall val f1: 0.5163949562858048\n",
      "Train loss : 0.36713963747024536, val loss: 0.9414704442024231\n",
      "train f1 score for dataset rozetka : 0.7754287725316962\n",
      "train f1 score for dataset tripadvisor_hotels_ukraine : 0.8095350605289868\n",
      "train f1 score for dataset tripadvisor_restaurants_ukraine : 0.8061466731125989\n",
      "train f1 score for translated==True : 0.7947648437437584\n",
      "train f1 score for translated==False : 0.7842927416537633\n",
      "val f1 score for dataset rozetka : 0.4990440093898695\n",
      "val f1 score for dataset tripadvisor_hotels_ukraine : 0.5254397853122075\n",
      "val f1 score for dataset tripadvisor_restaurants_ukraine : 0.5265510389056282\n",
      "val f1 score for translated==True : 0.5173633935536835\n",
      "val f1 score for translated==False : 0.5044402800334259\n",
      "------------------------------\n",
      "257/257 [==============================] - 14s 53ms/step\n",
      "33/33 [==============================] - 2s 53ms/step\n",
      "Epoch 16\n",
      "Overall train f1 : 0.817342861695933, overall val f1: 0.5229628871994584\n",
      "Train loss : 0.3515186607837677, val loss: 0.9678604602813721\n",
      "train f1 score for dataset rozetka : 0.7957774484940504\n",
      "train f1 score for dataset tripadvisor_hotels_ukraine : 0.8360925042199299\n",
      "train f1 score for dataset tripadvisor_restaurants_ukraine : 0.8349309057043452\n",
      "train f1 score for translated==True : 0.8192404378297964\n",
      "train f1 score for translated==False : 0.8051273020049017\n",
      "val f1 score for dataset rozetka : 0.5046559045048798\n",
      "val f1 score for dataset tripadvisor_hotels_ukraine : 0.532453469889766\n",
      "val f1 score for dataset tripadvisor_restaurants_ukraine : 0.5338926250441115\n",
      "val f1 score for translated==True : 0.5249035968289306\n",
      "val f1 score for translated==False : 0.5031873080237532\n",
      "------------------------------\n",
      "257/257 [==============================] - 14s 54ms/step\n",
      "33/33 [==============================] - 2s 53ms/step\n",
      "Epoch 17\n",
      "Overall train f1 : 0.7934998786752732, overall val f1: 0.5217121596524656\n",
      "Train loss : 0.3394371569156647, val loss: 1.007596492767334\n",
      "train f1 score for dataset rozetka : 0.7720667697307543\n",
      "train f1 score for dataset tripadvisor_hotels_ukraine : 0.8077669956618696\n",
      "train f1 score for dataset tripadvisor_restaurants_ukraine : 0.8102739207535873\n",
      "train f1 score for translated==True : 0.7954057116825395\n",
      "train f1 score for translated==False : 0.7790119639249651\n",
      "val f1 score for dataset rozetka : 0.5009008368141957\n",
      "val f1 score for dataset tripadvisor_hotels_ukraine : 0.5245783306081696\n",
      "val f1 score for dataset tripadvisor_restaurants_ukraine : 0.5344581188312232\n",
      "val f1 score for translated==True : 0.5232330413067054\n",
      "val f1 score for translated==False : 0.5031133384405241\n",
      "------------------------------\n",
      "257/257 [==============================] - 14s 53ms/step\n",
      "33/33 [==============================] - 2s 52ms/step\n",
      "Epoch 18\n",
      "Overall train f1 : 0.8336185276590543, overall val f1: 0.5281666735109635\n",
      "Train loss : 0.32345619797706604, val loss: 1.0383812189102173\n",
      "train f1 score for dataset rozetka : 0.8111514244077448\n",
      "train f1 score for dataset tripadvisor_hotels_ukraine : 0.854876997790378\n",
      "train f1 score for dataset tripadvisor_restaurants_ukraine : 0.8511597730543581\n",
      "train f1 score for translated==True : 0.8356694684785715\n",
      "train f1 score for translated==False : 0.8202397777514199\n",
      "val f1 score for dataset rozetka : 0.5101896697960225\n",
      "val f1 score for dataset tripadvisor_hotels_ukraine : 0.5346162514897266\n",
      "val f1 score for dataset tripadvisor_restaurants_ukraine : 0.5391814458184488\n",
      "val f1 score for translated==True : 0.5308482521944529\n",
      "val f1 score for translated==False : 0.503731045885143\n",
      "------------------------------\n",
      "Stopping early\n"
     ]
    }
   ],
   "source": [
    "dict_history, model = \\\n",
    "training_loop(model, epochs=20, batch_size=2048)"
   ]
  },
  {
   "cell_type": "code",
   "execution_count": 41,
   "id": "fc16eb41-29c6-443e-95a6-b263a76a65bc",
   "metadata": {},
   "outputs": [
    {
     "data": {
      "text/plain": [
       "{'train_f1_rozetka': [0.16982466750304376,\n",
       "  0.1720978156689867,\n",
       "  0.16844546904121083,\n",
       "  0.21412421223392886,\n",
       "  0.2617861547832049,\n",
       "  0.4072300966054511,\n",
       "  0.5059987742365084,\n",
       "  0.5320146168186685,\n",
       "  0.5706093123503682,\n",
       "  0.5726459718089447,\n",
       "  0.6446348030531663,\n",
       "  0.6348978870150186,\n",
       "  0.7293025138169819,\n",
       "  0.7171889418927618,\n",
       "  0.7794785829157929,\n",
       "  0.7754287725316962,\n",
       "  0.7957774484940504,\n",
       "  0.7720667697307543,\n",
       "  0.8111514244077448],\n",
       " 'train_f1_tripadvisor_hotels_ukraine': [0.18378714341212393,\n",
       "  0.19927342935842335,\n",
       "  0.15142037532005106,\n",
       "  0.21668510261567003,\n",
       "  0.26658962666855823,\n",
       "  0.45485371733804864,\n",
       "  0.5814112697576552,\n",
       "  0.6055329376965638,\n",
       "  0.6397838208516188,\n",
       "  0.624635282014595,\n",
       "  0.6856432298699062,\n",
       "  0.6810999199960104,\n",
       "  0.7565131351610457,\n",
       "  0.72531870617032,\n",
       "  0.8134596965369656,\n",
       "  0.8095350605289868,\n",
       "  0.8360925042199299,\n",
       "  0.8077669956618696,\n",
       "  0.854876997790378],\n",
       " 'train_f1_tripadvisor_restaurants_ukraine': [0.16347279985307434,\n",
       "  0.1807054613986011,\n",
       "  0.15056390240114775,\n",
       "  0.22815201561454304,\n",
       "  0.2796549681363636,\n",
       "  0.46173797691089735,\n",
       "  0.5808488245286912,\n",
       "  0.6077994596900937,\n",
       "  0.6416044508431835,\n",
       "  0.6270975044104896,\n",
       "  0.6967724195668601,\n",
       "  0.6871685298515443,\n",
       "  0.7700596143128664,\n",
       "  0.7458543588074698,\n",
       "  0.8164544386493329,\n",
       "  0.8061466731125989,\n",
       "  0.8349309057043452,\n",
       "  0.8102739207535873,\n",
       "  0.8511597730543581],\n",
       " 'train_f1_translated==True': [0.17047621080148956,\n",
       "  0.1824219498121694,\n",
       "  0.15942710153396195,\n",
       "  0.2209647429475948,\n",
       "  0.27417471383333053,\n",
       "  0.4438965918148279,\n",
       "  0.5550502546847798,\n",
       "  0.5813812227897153,\n",
       "  0.6167759517327136,\n",
       "  0.6078594537195975,\n",
       "  0.6760799650397772,\n",
       "  0.6678584357678151,\n",
       "  0.7526066131158109,\n",
       "  0.7324437295506174,\n",
       "  0.8011944681517129,\n",
       "  0.7947648437437584,\n",
       "  0.8192404378297964,\n",
       "  0.7954057116825395,\n",
       "  0.8356694684785715],\n",
       " 'train_f1_translated==False': [0.17270918256162177,\n",
       "  0.1755735932723613,\n",
       "  0.1713099244653832,\n",
       "  0.22181676948735082,\n",
       "  0.2630282150738412,\n",
       "  0.4041439653342661,\n",
       "  0.5129910444850937,\n",
       "  0.5375231593837049,\n",
       "  0.5747307676202299,\n",
       "  0.5778855106951151,\n",
       "  0.6554065419748198,\n",
       "  0.6390077163145067,\n",
       "  0.7394253783340995,\n",
       "  0.7282983452932791,\n",
       "  0.7911357021542078,\n",
       "  0.7842927416537633,\n",
       "  0.8051273020049017,\n",
       "  0.7790119639249651,\n",
       "  0.8202397777514199],\n",
       " 'val_f1_rozetka': [0.16984344582495314,\n",
       "  0.17333278630394444,\n",
       "  0.16843441205130388,\n",
       "  0.21031496796608154,\n",
       "  0.2567906100616152,\n",
       "  0.386850305008465,\n",
       "  0.4531062295664059,\n",
       "  0.4566913922891541,\n",
       "  0.4596312221299047,\n",
       "  0.4573074797299349,\n",
       "  0.48170032535986784,\n",
       "  0.4671299168073887,\n",
       "  0.5005714505702187,\n",
       "  0.500853120593517,\n",
       "  0.5079826870296122,\n",
       "  0.4990440093898695,\n",
       "  0.5046559045048798,\n",
       "  0.5009008368141957,\n",
       "  0.5101896697960225],\n",
       " 'val_f1_tripadvisor_hotels_ukraine': [0.165905178275003,\n",
       "  0.18981803547302153,\n",
       "  0.14582022290421578,\n",
       "  0.21102147684934175,\n",
       "  0.2647155847155397,\n",
       "  0.42986512615476613,\n",
       "  0.5283852106254578,\n",
       "  0.5208777226773591,\n",
       "  0.5352491734253476,\n",
       "  0.5035468592824631,\n",
       "  0.542523365591114,\n",
       "  0.5184217068101115,\n",
       "  0.5284377593693803,\n",
       "  0.5203052627016023,\n",
       "  0.5370246445719926,\n",
       "  0.5254397853122075,\n",
       "  0.532453469889766,\n",
       "  0.5245783306081696,\n",
       "  0.5346162514897266],\n",
       " 'val_f1_tripadvisor_restaurants_ukraine': [0.1589609653220621,\n",
       "  0.1769654091747482,\n",
       "  0.14813472558982135,\n",
       "  0.22684505592900378,\n",
       "  0.2785162640618547,\n",
       "  0.43794543974568223,\n",
       "  0.5380889356491475,\n",
       "  0.5340739399405238,\n",
       "  0.5322686269270013,\n",
       "  0.5273882124936063,\n",
       "  0.5420406969566107,\n",
       "  0.5228952567351001,\n",
       "  0.5489550963574026,\n",
       "  0.5377607301593013,\n",
       "  0.5441569128988286,\n",
       "  0.5265510389056282,\n",
       "  0.5338926250441115,\n",
       "  0.5344581188312232,\n",
       "  0.5391814458184488],\n",
       " 'val_f1_translated==True': [0.16591031176959,\n",
       "  0.17941427376492405,\n",
       "  0.15783732145156087,\n",
       "  0.21852779978397824,\n",
       "  0.27158743689635456,\n",
       "  0.4209640254738992,\n",
       "  0.5080810039359387,\n",
       "  0.5055859054123695,\n",
       "  0.5074454834832491,\n",
       "  0.5011840416037566,\n",
       "  0.5210654075487009,\n",
       "  0.5034620933900669,\n",
       "  0.5306122016157498,\n",
       "  0.5253396279656888,\n",
       "  0.5320904520096015,\n",
       "  0.5173633935536835,\n",
       "  0.5249035968289306,\n",
       "  0.5232330413067054,\n",
       "  0.5308482521944529],\n",
       " 'val_f1_translated==False': [0.17213154019839608,\n",
       "  0.17699845240782555,\n",
       "  0.17036140089418778,\n",
       "  0.21541599973702114,\n",
       "  0.2571696142950788,\n",
       "  0.3856307241637233,\n",
       "  0.45240237168442715,\n",
       "  0.45916352007111116,\n",
       "  0.4635886917953891,\n",
       "  0.45299483599519813,\n",
       "  0.49227443253552466,\n",
       "  0.4706378718886158,\n",
       "  0.5036679816722681,\n",
       "  0.49935305317797385,\n",
       "  0.5072934656189337,\n",
       "  0.5044402800334259,\n",
       "  0.5031873080237532,\n",
       "  0.5031133384405241,\n",
       "  0.503731045885143],\n",
       " 'train_f1': [0.17148625957986965,\n",
       "  0.18226094098669499,\n",
       "  0.16184689593752266,\n",
       "  0.2216201273000611,\n",
       "  0.27357494318822034,\n",
       "  0.4394787982308433,\n",
       "  0.5502493717371151,\n",
       "  0.5761754885854105,\n",
       "  0.61168121653912,\n",
       "  0.604376395996933,\n",
       "  0.6739086506269544,\n",
       "  0.6643423652510344,\n",
       "  0.7512574910502072,\n",
       "  0.732463879615134,\n",
       "  0.8000290688419331,\n",
       "  0.7934440144840573,\n",
       "  0.817342861695933,\n",
       "  0.7934998786752732,\n",
       "  0.8336185276590543],\n",
       " 'val_f1': [0.16745329650934562,\n",
       "  0.17972637375294898,\n",
       "  0.16036166152447778,\n",
       "  0.2184211852607838,\n",
       "  0.2705204066359318,\n",
       "  0.4172110646940502,\n",
       "  0.5016551474050607,\n",
       "  0.5004727238668373,\n",
       "  0.5025353373533157,\n",
       "  0.49566507916942754,\n",
       "  0.5183542235841486,\n",
       "  0.4999867742556322,\n",
       "  0.5280057814394312,\n",
       "  0.5230452890660389,\n",
       "  0.529765689928227,\n",
       "  0.5163949562858048,\n",
       "  0.5229628871994584,\n",
       "  0.5217121596524656,\n",
       "  0.5281666735109635],\n",
       " 'train_loss': [1.090311050415039,\n",
       "  1.0696592330932617,\n",
       "  1.0600861310958862,\n",
       "  1.0421754121780396,\n",
       "  0.9965943694114685,\n",
       "  0.7347349524497986,\n",
       "  0.6210230588912964,\n",
       "  0.5676820874214172,\n",
       "  0.5315529108047485,\n",
       "  0.5028650164604187,\n",
       "  0.4759586751461029,\n",
       "  0.45541366934776306,\n",
       "  0.4303738474845886,\n",
       "  0.40738239884376526,\n",
       "  0.38913241028785706,\n",
       "  0.36713963747024536,\n",
       "  0.3515186607837677,\n",
       "  0.3394371569156647,\n",
       "  0.32345619797706604],\n",
       " 'val_loss': [1.0594035387039185,\n",
       "  1.0553590059280396,\n",
       "  1.024826169013977,\n",
       "  1.0335849523544312,\n",
       "  0.8600199818611145,\n",
       "  0.6659311652183533,\n",
       "  0.643886148929596,\n",
       "  0.6578713059425354,\n",
       "  0.6846287250518799,\n",
       "  0.7374165654182434,\n",
       "  0.769911527633667,\n",
       "  0.7892099618911743,\n",
       "  0.7976011037826538,\n",
       "  0.85427325963974,\n",
       "  0.8880643844604492,\n",
       "  0.9414704442024231,\n",
       "  0.9678604602813721,\n",
       "  1.007596492767334,\n",
       "  1.0383812189102173]}"
      ]
     },
     "execution_count": 41,
     "metadata": {},
     "output_type": "execute_result"
    }
   ],
   "source": [
    "dict_history"
   ]
  },
  {
   "cell_type": "markdown",
   "id": "b8d77413-4c00-4295-b7db-fe06dd7b23b5",
   "metadata": {},
   "source": [
    "# Show charts"
   ]
  },
  {
   "cell_type": "code",
   "execution_count": 42,
   "id": "b7f8ef02-623e-4ebb-8e1d-8da77c3ed9bc",
   "metadata": {},
   "outputs": [],
   "source": [
    "import seaborn as sns\n",
    "import matplotlib.pyplot as plt"
   ]
  },
  {
   "cell_type": "code",
   "execution_count": 43,
   "id": "521cf7cf-e1b2-42ce-8e95-5a2e61440247",
   "metadata": {},
   "outputs": [],
   "source": [
    "def plot_history(dict_history, columns):\n",
    "    plt.figure(figsize=(12,8))\n",
    "    for i in columns:\n",
    "        to_plot = dict_history[i]\n",
    "        plt.plot(range(len(to_plot)), to_plot, 'o-')\n",
    "    plt.xticks(range(len(to_plot)), range(len(to_plot)))\n",
    "    plt.xlabel('Epochs')\n",
    "    plt.legend(columns)"
   ]
  },
  {
   "cell_type": "code",
   "execution_count": 44,
   "id": "7c3ca35a-2166-4552-bc23-67c6bfe314d7",
   "metadata": {},
   "outputs": [
    {
     "data": {
      "image/png": "[encoded data removed]",
      "text/plain": [
       "<Figure size 1200x800 with 1 Axes>"
      ]
     },
     "metadata": {},
     "output_type": "display_data"
    }
   ],
   "source": [
    "plot_history(dict_history, ['val_loss', 'train_loss'])"
   ]
  },
  {
   "cell_type": "code",
   "execution_count": 45,
   "id": "09978e6c-1975-4fe9-b6ed-064e00c1809e",
   "metadata": {},
   "outputs": [
    {
     "data": {
      "image/png": "[encoded data removed]",
      "text/plain": [
       "<Figure size 1200x800 with 1 Axes>"
      ]
     },
     "metadata": {},
     "output_type": "display_data"
    }
   ],
   "source": [
    "plot_history(dict_history, ['val_f1', 'train_f1'])"
   ]
  },
  {
   "cell_type": "markdown",
   "id": "9763d7cb-3c09-425e-984f-7675f7fae0e9",
   "metadata": {},
   "source": [
    "# Evaluate model"
   ]
  },
  {
   "cell_type": "code",
   "execution_count": 46,
   "id": "4bb7e54e-5868-4379-8456-c3c5ef648c33",
   "metadata": {},
   "outputs": [
    {
     "name": "stdout",
     "output_type": "stream",
     "text": [
      "33/33 [==============================] - 2s 50ms/step\n"
     ]
    }
   ],
   "source": [
    "test_predictions = np.argmax(model.predict(test_x, 2048), axis=-1)"
   ]
  },
  {
   "cell_type": "code",
   "execution_count": 47,
   "id": "bc061fbf-e0a9-40be-8cb7-e356aef090d5",
   "metadata": {},
   "outputs": [
    {
     "name": "stdout",
     "output_type": "stream",
     "text": [
      "Overall test f1-score : 0.5282964941880023\n"
     ]
    }
   ],
   "source": [
    "test_f1 = f1_score(y_true=test_y, y_pred=test_predictions,\n",
    "                         average='macro')\n",
    "print(f'Overall test f1-score : {test_f1}')"
   ]
  },
  {
   "cell_type": "code",
   "execution_count": 48,
   "id": "24a4badc-8c22-4bdc-8fb2-f7f68dbb56b7",
   "metadata": {},
   "outputs": [
    {
     "name": "stdout",
     "output_type": "stream",
     "text": [
      "test f1 score for dataset rozetka : 0.5101434447255255\n",
      "test f1 score for dataset tripadvisor_hotels_ukraine : 0.528906737910045\n",
      "test f1 score for dataset tripadvisor_restaurants_ukraine : 0.541190113645089\n",
      "test f1 score for translated==True : 0.5288460652196726\n",
      "test f1 score for translated==False : 0.5187892932727344\n"
     ]
    }
   ],
   "source": [
    "test_results = evaluate_on_datasets(y_true=test_y, y_pred=test_predictions,split='test')\n",
    "                     "
   ]
  },
  {
   "cell_type": "markdown",
   "id": "5447ad8a-3695-499c-9fe3-6d6d9cc2834c",
   "metadata": {},
   "source": [
    "# Save history results"
   ]
  },
  {
   "cell_type": "code",
   "execution_count": 49,
   "id": "b1d1cb15-8dae-414b-80c9-cabbcfd4168d",
   "metadata": {},
   "outputs": [],
   "source": [
    "history = pd.DataFrame(dict_history)\n",
    "for k,v in test_results.items():\n",
    "    history[k] = v"
   ]
  },
  {
   "cell_type": "code",
   "execution_count": 50,
   "id": "b2fc4c15-4277-4913-8080-91cddcc4d734",
   "metadata": {},
   "outputs": [],
   "source": [
    "history['model'] = model_name"
   ]
  },
  {
   "cell_type": "code",
   "execution_count": 51,
   "id": "344fd96f-8e81-47b6-8332-0bb3892edfa4",
   "metadata": {},
   "outputs": [],
   "source": [
    "history.to_csv(\"/home/user/jupyter_notebooks/Ukranian-SA/notebooks/training/training_results_filtered.csv\", mode='a', header=None, index=None)"
   ]
  },
  {
   "cell_type": "code",
   "execution_count": 52,
   "id": "fa349138-0297-447d-bad4-30b30ed0b94b",
   "metadata": {},
   "outputs": [
    {
     "name": "stdout",
     "output_type": "stream",
     "text": [
      "WARNING:tensorflow:Compiled the loaded model, but the compiled metrics have yet to be built. `model.compile_metrics` will be empty until you train or evaluate the model.\n"
     ]
    }
   ],
   "source": [
    "model.save(f'/home/user/files_for_research_Vova/{model_name}.h5')"
   ]
  },
  {
   "cell_type": "code",
   "execution_count": null,
   "id": "cf61010a-6dee-42b8-93a1-f9a02ebb4d07",
   "metadata": {},
   "outputs": [],
   "source": []
  }
 ],
 "metadata": {
  "kernelspec": {
   "display_name": "tensorflow_cuda12",
   "language": "python",
   "name": "tensorflow_cuda12"
  },
  "language_info": {
   "codemirror_mode": {
    "name": "ipython",
    "version": 3
   },
   "file_extension": ".py",
   "mimetype": "text/x-python",
   "name": "python",
   "nbconvert_exporter": "python",
   "pygments_lexer": "ipython3",
   "version": "3.8.10"
  }
 },
 "nbformat": 4,
 "nbformat_minor": 5
}
