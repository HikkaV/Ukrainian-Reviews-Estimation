{
 "cells": [
  {
   "cell_type": "code",
   "execution_count": 1,
   "id": "94761116-1530-448d-a1f6-593d90bec639",
   "metadata": {},
   "outputs": [
    {
     "name": "stdout",
     "output_type": "stream",
     "text": [
      "Collecting tokenizers\n",
      "  Downloading tokenizers-0.13.3-cp38-cp38-manylinux_2_17_x86_64.manylinux2014_x86_64.whl (7.8 MB)\n",
      "\u001b[2K     \u001b[90m━━━━━━━━━━━━━━━━━━━━━━━━━━━━━━━━━━━━━━━━\u001b[0m \u001b[32m7.8/7.8 MB\u001b[0m \u001b[31m10.8 MB/s\u001b[0m eta \u001b[36m0:00:00\u001b[0m00:01\u001b[0m00:01\u001b[0m\n",
      "\u001b[?25hInstalling collected packages: tokenizers\n",
      "Successfully installed tokenizers-0.13.3\n",
      "\u001b[33mWARNING: Running pip as the 'root' user can result in broken permissions and conflicting behaviour with the system package manager. It is recommended to use a virtual environment instead: https://pip.pypa.io/warnings/venv\u001b[0m\u001b[33m\n",
      "\u001b[0m"
     ]
    },
    {
     "name": "stderr",
     "output_type": "stream",
     "text": [
      "2023-05-07 16:38:59.973916: I tensorflow/core/platform/cpu_feature_guard.cc:194] This TensorFlow binary is optimized with oneAPI Deep Neural Network Library (oneDNN) to use the following CPU instructions in performance-critical operations:  SSE3 SSE4.1 SSE4.2 AVX\n",
      "To enable them in other operations, rebuild TensorFlow with the appropriate compiler flags.\n"
     ]
    }
   ],
   "source": [
    "!pip install tokenizers\n",
    "import tensorflow as tf\n",
    "from tokenizers import Tokenizer, models, pre_tokenizers, trainers, Regex\n",
    "import tokenizers\n",
    "import pandas as pd"
   ]
  },
  {
   "cell_type": "code",
   "execution_count": 2,
   "id": "fada8fbb-9dc2-4e9d-935d-2cb0d6684738",
   "metadata": {},
   "outputs": [],
   "source": [
    "model_name = 'kim_cnn_more_layers_spatial_drop'"
   ]
  },
  {
   "cell_type": "markdown",
   "id": "aa46fb49-08a8-4809-b697-680813299d47",
   "metadata": {},
   "source": [
    "# Load data"
   ]
  },
  {
   "cell_type": "code",
   "execution_count": 3,
   "id": "d01ad050-f023-4253-bc33-72c76bce3944",
   "metadata": {},
   "outputs": [],
   "source": [
    "df = pd.read_csv('/home/user/files_for_research_Vova/processed_data.csv',\\\n",
    "                 usecols=['review_translate',\n",
    "                                                            'dataset_name',\n",
    "                                                            'rating',\n",
    "                                                           'translated'])"
   ]
  },
  {
   "cell_type": "code",
   "execution_count": 4,
   "id": "99ee8e3a-2281-4ec1-8107-49e3ba47d2a9",
   "metadata": {},
   "outputs": [
    {
     "data": {
      "text/html": [
       "<div>\n",
       "<style scoped>\n",
       "    .dataframe tbody tr th:only-of-type {\n",
       "        vertical-align: middle;\n",
       "    }\n",
       "\n",
       "    .dataframe tbody tr th {\n",
       "        vertical-align: top;\n",
       "    }\n",
       "\n",
       "    .dataframe thead th {\n",
       "        text-align: right;\n",
       "    }\n",
       "</style>\n",
       "<table border=\"1\" class=\"dataframe\">\n",
       "  <thead>\n",
       "    <tr style=\"text-align: right;\">\n",
       "      <th></th>\n",
       "      <th>review_translate</th>\n",
       "      <th>rating</th>\n",
       "      <th>dataset_name</th>\n",
       "      <th>translated</th>\n",
       "    </tr>\n",
       "  </thead>\n",
       "  <tbody>\n",
       "    <tr>\n",
       "      <th>0</th>\n",
       "      <td>Якісна пластмаса , переворот 360 градусвв</td>\n",
       "      <td>5.0</td>\n",
       "      <td>rozetka</td>\n",
       "      <td>False</td>\n",
       "    </tr>\n",
       "    <tr>\n",
       "      <th>1</th>\n",
       "      <td>За такі гроші це самий топ</td>\n",
       "      <td>5.0</td>\n",
       "      <td>rozetka</td>\n",
       "      <td>False</td>\n",
       "    </tr>\n",
       "    <tr>\n",
       "      <th>2</th>\n",
       "      <td>За такі гроші - просто супер ! Рекомендую .</td>\n",
       "      <td>5.0</td>\n",
       "      <td>rozetka</td>\n",
       "      <td>False</td>\n",
       "    </tr>\n",
       "    <tr>\n",
       "      <th>3</th>\n",
       "      <td>Виконує свою роботу не погано . але що ви хоті...</td>\n",
       "      <td>4.0</td>\n",
       "      <td>rozetka</td>\n",
       "      <td>False</td>\n",
       "    </tr>\n",
       "    <tr>\n",
       "      <th>4</th>\n",
       "      <td>Купляв на стару сістему як основний під віндов...</td>\n",
       "      <td>4.0</td>\n",
       "      <td>rozetka</td>\n",
       "      <td>False</td>\n",
       "    </tr>\n",
       "  </tbody>\n",
       "</table>\n",
       "</div>"
      ],
      "text/plain": [
       "                                    review_translate  rating dataset_name  \\\n",
       "0          Якісна пластмаса , переворот 360 градусвв     5.0      rozetka   \n",
       "1                         За такі гроші це самий топ     5.0      rozetka   \n",
       "2        За такі гроші - просто супер ! Рекомендую .     5.0      rozetka   \n",
       "3  Виконує свою роботу не погано . але що ви хоті...     4.0      rozetka   \n",
       "4  Купляв на стару сістему як основний під віндов...     4.0      rozetka   \n",
       "\n",
       "   translated  \n",
       "0       False  \n",
       "1       False  \n",
       "2       False  \n",
       "3       False  \n",
       "4       False  "
      ]
     },
     "execution_count": 4,
     "metadata": {},
     "output_type": "execute_result"
    }
   ],
   "source": [
    "df.head()"
   ]
  },
  {
   "cell_type": "code",
   "execution_count": 5,
   "id": "870b0de2-18ef-42ce-9bd5-1ff68b8a1776",
   "metadata": {},
   "outputs": [],
   "source": [
    "subsets = pd.read_csv('/home/user/files_for_research_Vova/train_val_test_indices.csv')"
   ]
  },
  {
   "cell_type": "code",
   "execution_count": 6,
   "id": "778fb1c0-5396-480b-8ce5-e728d06fc3d8",
   "metadata": {},
   "outputs": [
    {
     "data": {
      "text/html": [
       "<div>\n",
       "<style scoped>\n",
       "    .dataframe tbody tr th:only-of-type {\n",
       "        vertical-align: middle;\n",
       "    }\n",
       "\n",
       "    .dataframe tbody tr th {\n",
       "        vertical-align: top;\n",
       "    }\n",
       "\n",
       "    .dataframe thead th {\n",
       "        text-align: right;\n",
       "    }\n",
       "</style>\n",
       "<table border=\"1\" class=\"dataframe\">\n",
       "  <thead>\n",
       "    <tr style=\"text-align: right;\">\n",
       "      <th></th>\n",
       "      <th>index</th>\n",
       "      <th>split</th>\n",
       "    </tr>\n",
       "  </thead>\n",
       "  <tbody>\n",
       "    <tr>\n",
       "      <th>0</th>\n",
       "      <td>0</td>\n",
       "      <td>train</td>\n",
       "    </tr>\n",
       "    <tr>\n",
       "      <th>1</th>\n",
       "      <td>1</td>\n",
       "      <td>test</td>\n",
       "    </tr>\n",
       "    <tr>\n",
       "      <th>2</th>\n",
       "      <td>2</td>\n",
       "      <td>train</td>\n",
       "    </tr>\n",
       "    <tr>\n",
       "      <th>3</th>\n",
       "      <td>3</td>\n",
       "      <td>train</td>\n",
       "    </tr>\n",
       "    <tr>\n",
       "      <th>4</th>\n",
       "      <td>4</td>\n",
       "      <td>train</td>\n",
       "    </tr>\n",
       "  </tbody>\n",
       "</table>\n",
       "</div>"
      ],
      "text/plain": [
       "   index  split\n",
       "0      0  train\n",
       "1      1   test\n",
       "2      2  train\n",
       "3      3  train\n",
       "4      4  train"
      ]
     },
     "execution_count": 6,
     "metadata": {},
     "output_type": "execute_result"
    }
   ],
   "source": [
    "subsets.head()"
   ]
  },
  {
   "cell_type": "code",
   "execution_count": 7,
   "id": "bb145e0a-2bf5-4004-b334-15433414769a",
   "metadata": {},
   "outputs": [],
   "source": [
    "subsets = subsets.merge(df[['dataset_name', 'translated']], left_on='index', right_index=True)"
   ]
  },
  {
   "cell_type": "markdown",
   "id": "2fe0c095-3a54-4967-994d-4117bf0ad6b1",
   "metadata": {},
   "source": [
    "# Filter data"
   ]
  },
  {
   "cell_type": "code",
   "execution_count": 8,
   "id": "644e66a2-4830-40b7-9b13-9eb38aed44f4",
   "metadata": {},
   "outputs": [],
   "source": [
    "bad_indices = pd.read_csv('/home/user/files_for_research_Vova/files_to_check.csv')"
   ]
  },
  {
   "cell_type": "code",
   "execution_count": 9,
   "id": "2bbd7d18-4c8e-4035-a971-c57dba152976",
   "metadata": {},
   "outputs": [],
   "source": [
    "subsets = subsets[~subsets.index.isin(bad_indices['id'].values)]"
   ]
  },
  {
   "cell_type": "code",
   "execution_count": 10,
   "id": "4e5d1659-306d-4f1e-a3b3-e7a7adfaf948",
   "metadata": {},
   "outputs": [],
   "source": [
    "df = df[~df.index.isin(bad_indices['id'].values)]"
   ]
  },
  {
   "cell_type": "code",
   "execution_count": 11,
   "id": "b26a6d87-e1cc-4d11-bf78-62c58df82b5f",
   "metadata": {},
   "outputs": [],
   "source": [
    "df, subsets = df.reset_index().drop(columns='index'), subsets.reset_index().drop(columns='index')"
   ]
  },
  {
   "cell_type": "markdown",
   "id": "f35025fc-9c2c-490e-9231-10f4b38e230b",
   "metadata": {},
   "source": [
    "# Load tokenizer"
   ]
  },
  {
   "cell_type": "code",
   "execution_count": 12,
   "id": "dc7ca142-1e37-49c2-b8b8-2d5f74ee98c8",
   "metadata": {},
   "outputs": [],
   "source": [
    "tokenizer = Tokenizer.from_file(\"/home/user/files_for_research_Vova/tokenizer_30k.json\")\n"
   ]
  },
  {
   "cell_type": "markdown",
   "id": "a86c13af-5e8f-49e4-b337-7b3a70163c1c",
   "metadata": {},
   "source": [
    "# Encode text"
   ]
  },
  {
   "cell_type": "code",
   "execution_count": 13,
   "id": "ef69c9c8-b050-4904-8e93-5e1b89361f8d",
   "metadata": {},
   "outputs": [],
   "source": [
    "import seaborn as sns\n",
    "import numpy as np"
   ]
  },
  {
   "cell_type": "code",
   "execution_count": 14,
   "id": "e2e913ba-749b-4161-a2db-0cb6af2b025c",
   "metadata": {},
   "outputs": [],
   "source": [
    "sns.set()"
   ]
  },
  {
   "cell_type": "code",
   "execution_count": 15,
   "id": "0dda1c9a-9961-4097-bd69-3e5bd58d6789",
   "metadata": {},
   "outputs": [],
   "source": [
    "df['review_translate'] = df['review_translate'].str.lower()"
   ]
  },
  {
   "cell_type": "code",
   "execution_count": 16,
   "id": "3151fe97-eded-408c-be0d-df2b49051e7c",
   "metadata": {},
   "outputs": [],
   "source": [
    "df['encoded'] = tokenizer.encode_batch(df['review_translate'].values)"
   ]
  },
  {
   "cell_type": "code",
   "execution_count": 17,
   "id": "8c01d676-5e85-4b7d-b7c0-5d99b8ba1d44",
   "metadata": {},
   "outputs": [],
   "source": [
    "df['encoded'] = df['encoded'].apply(lambda x: x.ids)"
   ]
  },
  {
   "cell_type": "code",
   "execution_count": 18,
   "id": "47ddda71-f140-49f7-89c8-fea94b8bcdfd",
   "metadata": {},
   "outputs": [
    {
     "name": "stderr",
     "output_type": "stream",
     "text": [
      "/tmp/ipykernel_1/3749403729.py:1: UserWarning: \n",
      "\n",
      "`distplot` is a deprecated function and will be removed in seaborn v0.14.0.\n",
      "\n",
      "Please adapt your code to use either `displot` (a figure-level function with\n",
      "similar flexibility) or `histplot` (an axes-level function for histograms).\n",
      "\n",
      "For a guide to updating your code to use the new functions, please see\n",
      "https://gist.github.com/mwaskom/de44147ed2974457ad6372750bbe5751\n",
      "\n",
      "  sns.distplot(np.log10(df['encoded'].apply(len)))\n"
     ]
    },
    {
     "data": {
      "text/plain": [
       "<AxesSubplot: xlabel='encoded', ylabel='Density'>"
      ]
     },
     "execution_count": 18,
     "metadata": {},
     "output_type": "execute_result"
    },
    {
     "data": {
      "image/png": "[encoded data removed]",
      "text/plain": [
       "<Figure size 640x480 with 1 Axes>"
      ]
     },
     "metadata": {},
     "output_type": "display_data"
    }
   ],
   "source": [
    "sns.distplot(np.log10(df['encoded'].apply(len)))"
   ]
  },
  {
   "cell_type": "code",
   "execution_count": 19,
   "id": "e81a0c0b-0dd0-4437-872e-0c13fc041b99",
   "metadata": {},
   "outputs": [
    {
     "data": {
      "text/plain": [
       "324.0"
      ]
     },
     "execution_count": 19,
     "metadata": {},
     "output_type": "execute_result"
    }
   ],
   "source": [
    "np.percentile(df['encoded'].apply(len), 99)"
   ]
  },
  {
   "cell_type": "code",
   "execution_count": 20,
   "id": "c680a61a-cee2-4fbd-9a97-17a9c7ec74a9",
   "metadata": {},
   "outputs": [],
   "source": [
    "encoded_tokens = df['encoded'].values"
   ]
  },
  {
   "cell_type": "code",
   "execution_count": 21,
   "id": "b3d6e285-87e6-4ce1-be8a-cb614270a8a4",
   "metadata": {},
   "outputs": [],
   "source": [
    "from itertools import chain"
   ]
  },
  {
   "cell_type": "code",
   "execution_count": 22,
   "id": "7f8c9fac-7ed8-45c3-8114-763b1ed0c138",
   "metadata": {},
   "outputs": [],
   "source": [
    "padded_tokens = tf.keras.preprocessing.sequence\\\n",
    ".pad_sequences(encoded_tokens, maxlen=300, padding=\"post\")\n"
   ]
  },
  {
   "cell_type": "code",
   "execution_count": 23,
   "id": "8137187b-fd7f-4199-883e-7ff778a94c0a",
   "metadata": {},
   "outputs": [
    {
     "data": {
      "text/plain": [
       "(655470, 300)"
      ]
     },
     "execution_count": 23,
     "metadata": {},
     "output_type": "execute_result"
    }
   ],
   "source": [
    "padded_tokens.shape"
   ]
  },
  {
   "cell_type": "markdown",
   "id": "5bc9a5b3-3794-4ab8-a16d-fa572ac9d2f6",
   "metadata": {},
   "source": [
    "# Get labels and split data"
   ]
  },
  {
   "cell_type": "code",
   "execution_count": 24,
   "id": "fbdb3b33-cbb6-4024-b683-8819ad6d7b3f",
   "metadata": {},
   "outputs": [],
   "source": [
    "mapping = dict([(i,c) for c,i in enumerate(df['rating'].unique())])"
   ]
  },
  {
   "cell_type": "code",
   "execution_count": 25,
   "id": "0d9dcd18-b69c-4b71-8f83-85f750be1daa",
   "metadata": {},
   "outputs": [],
   "source": [
    "y = df['rating'].map(mapping).values"
   ]
  },
  {
   "cell_type": "code",
   "execution_count": 26,
   "id": "abf0a14a-7050-4689-806f-dbe4f094f0d8",
   "metadata": {},
   "outputs": [],
   "source": [
    "num_classes = len(set(y))"
   ]
  },
  {
   "cell_type": "code",
   "execution_count": 27,
   "id": "59b5a397-faf0-43be-b498-a3d4af06fbc0",
   "metadata": {},
   "outputs": [],
   "source": [
    "train_indices, val_indices, test_indices = subsets[subsets['split']=='train'].index.tolist(),\\\n",
    "subsets[subsets['split']=='val'].index.tolist(),\\\n",
    "subsets[subsets['split']=='test'].index.tolist()\n"
   ]
  },
  {
   "cell_type": "code",
   "execution_count": 28,
   "id": "7564a2e1-11d7-44cf-803b-03b4eb3b0dce",
   "metadata": {},
   "outputs": [],
   "source": [
    "train_y, val_y, test_y = y[train_indices], y[val_indices], y[test_indices]"
   ]
  },
  {
   "cell_type": "code",
   "execution_count": 29,
   "id": "39adcfe4-0446-4673-bbad-dfdc972fb7d0",
   "metadata": {},
   "outputs": [],
   "source": [
    "train_x, val_x, test_x = padded_tokens[train_indices], padded_tokens[val_indices],\\\n",
    "padded_tokens[test_indices]"
   ]
  },
  {
   "cell_type": "code",
   "execution_count": 30,
   "id": "bce92ef9-7a5c-4f99-86e0-18544e93101f",
   "metadata": {},
   "outputs": [
    {
     "data": {
      "text/plain": [
       "(524346, 300)"
      ]
     },
     "execution_count": 30,
     "metadata": {},
     "output_type": "execute_result"
    }
   ],
   "source": [
    "train_x.shape"
   ]
  },
  {
   "cell_type": "markdown",
   "id": "a0f0ac0e-11a7-436a-9fd3-cfa9229d7ec8",
   "metadata": {},
   "source": [
    "# Create  model"
   ]
  },
  {
   "cell_type": "code",
   "execution_count": 31,
   "id": "264a00a2-4b18-4523-a1d4-6286b9f3a016",
   "metadata": {},
   "outputs": [],
   "source": [
    "n_grams_max = 8\n",
    "n_grams_min = 2\n",
    "pool_window = 3\n",
    "n_grams_num = [3, 4, 5, 7, 9]\n",
    "output_dim = 300"
   ]
  },
  {
   "cell_type": "code",
   "execution_count": 32,
   "id": "91941772-c544-43ae-bf45-b08d249c49c7",
   "metadata": {},
   "outputs": [
    {
     "name": "stderr",
     "output_type": "stream",
     "text": [
      "2023-05-07 16:39:59.715353: I tensorflow/core/platform/cpu_feature_guard.cc:194] This TensorFlow binary is optimized with oneAPI Deep Neural Network Library (oneDNN) to use the following CPU instructions in performance-critical operations:  SSE3 SSE4.1 SSE4.2 AVX\n",
      "To enable them in other operations, rebuild TensorFlow with the appropriate compiler flags.\n",
      "2023-05-07 16:39:59.866814: I tensorflow/core/common_runtime/gpu/gpu_device.cc:1621] Created device /job:localhost/replica:0/task:0/device:GPU:0 with 14148 MB memory:  -> device: 0, name: NVIDIA RTX A4000, pci bus id: 0000:03:00.0, compute capability: 8.6\n"
     ]
    }
   ],
   "source": [
    "tf.keras.backend.clear_session()\n",
    "np.random.seed(0)\n",
    "tf.random.set_seed(0)\n",
    "input_layer = tf.keras.layers.Input(shape=(300,), name='input')\n",
    "word_embedding = tf.keras.layers.Embedding(input_dim=tokenizer.get_vocab_size(),\n",
    "                                                   output_dim=300,\n",
    "                                                   trainable=True,\n",
    "                                           name='embedding',\n",
    "                                           mask_zero=True\n",
    "                                                   )\n",
    "spat_drop = tf.keras.layers.SpatialDropout1D(0.1, name='spatial_dropout')\n",
    "relu = tf.keras.layers.ReLU(name='relu')\n",
    "concat = []\n",
    "embedded = spat_drop(word_embedding(input_layer))\n",
    "for c,i in enumerate(n_grams_num):\n",
    "    conv1d = tf.keras.layers.Conv1D(filters=32, kernel_size=i, activation=None,\n",
    "                                   name=f'conv_ngram_{i}')\n",
    "    max_pooling = tf.keras.layers.MaxPool1D(pool_size=pool_window, strides=1,\n",
    "                                           padding='valid')\n",
    "    dropout = tf.keras.layers.Dropout(0.1, name=f'dropout_cnn_{c}')\n",
    "    concat.append(dropout(max_pooling(relu(conv1d(embedded)))))\n",
    "\n",
    "x = tf.keras.layers.concatenate(concat, axis=1, name='concat')\n",
    "x = tf.keras.layers.Flatten(name='flatten')(x)\n",
    "x = tf.keras.layers.Dense(512, activation='relu', name='dense_512')(x)\n",
    "x = tf.keras.layers.Dropout(0.3, name='dropout')(x)\n",
    "output = tf.keras.layers.Dense(num_classes, activation='softmax', name='output')(x)\n",
    "model = tf.keras.Model(input_layer, output)"
   ]
  },
  {
   "cell_type": "markdown",
   "id": "5df15e13-921d-4eaa-b433-7500dc153a5f",
   "metadata": {},
   "source": [
    "# Compile model"
   ]
  },
  {
   "cell_type": "code",
   "execution_count": 33,
   "id": "a272e87d-a23a-4940-81fa-569451e2ea5c",
   "metadata": {},
   "outputs": [],
   "source": [
    "model.compile(loss='sparse_categorical_crossentropy', \\\n",
    "              optimizer=tf.keras.optimizers.Adam(),\n",
    "             metrics=['acc'])"
   ]
  },
  {
   "cell_type": "code",
   "execution_count": 34,
   "id": "7baa74f7-21cf-42b1-83fa-bb1bed688e6e",
   "metadata": {},
   "outputs": [
    {
     "name": "stdout",
     "output_type": "stream",
     "text": [
      "Model: \"model\"\n",
      "__________________________________________________________________________________________________\n",
      " Layer (type)                   Output Shape         Param #     Connected to                     \n",
      "==================================================================================================\n",
      " input (InputLayer)             [(None, 300)]        0           []                               \n",
      "                                                                                                  \n",
      " embedding (Embedding)          (None, 300, 300)     9000000     ['input[0][0]']                  \n",
      "                                                                                                  \n",
      " spatial_dropout (SpatialDropou  (None, 300, 300)    0           ['embedding[0][0]']              \n",
      " t1D)                                                                                             \n",
      "                                                                                                  \n",
      " conv_ngram_3 (Conv1D)          (None, 298, 32)      28832       ['spatial_dropout[0][0]']        \n",
      "                                                                                                  \n",
      " conv_ngram_4 (Conv1D)          (None, 297, 32)      38432       ['spatial_dropout[0][0]']        \n",
      "                                                                                                  \n",
      " conv_ngram_5 (Conv1D)          (None, 296, 32)      48032       ['spatial_dropout[0][0]']        \n",
      "                                                                                                  \n",
      " conv_ngram_7 (Conv1D)          (None, 294, 32)      67232       ['spatial_dropout[0][0]']        \n",
      "                                                                                                  \n",
      " conv_ngram_9 (Conv1D)          (None, 292, 32)      86432       ['spatial_dropout[0][0]']        \n",
      "                                                                                                  \n",
      " relu (ReLU)                    multiple             0           ['conv_ngram_3[0][0]',           \n",
      "                                                                  'conv_ngram_4[0][0]',           \n",
      "                                                                  'conv_ngram_5[0][0]',           \n",
      "                                                                  'conv_ngram_7[0][0]',           \n",
      "                                                                  'conv_ngram_9[0][0]']           \n",
      "                                                                                                  \n",
      " max_pooling1d (MaxPooling1D)   (None, 296, 32)      0           ['relu[0][0]']                   \n",
      "                                                                                                  \n",
      " max_pooling1d_1 (MaxPooling1D)  (None, 295, 32)     0           ['relu[1][0]']                   \n",
      "                                                                                                  \n",
      " max_pooling1d_2 (MaxPooling1D)  (None, 294, 32)     0           ['relu[2][0]']                   \n",
      "                                                                                                  \n",
      " max_pooling1d_3 (MaxPooling1D)  (None, 292, 32)     0           ['relu[3][0]']                   \n",
      "                                                                                                  \n",
      " max_pooling1d_4 (MaxPooling1D)  (None, 290, 32)     0           ['relu[4][0]']                   \n",
      "                                                                                                  \n",
      " dropout_cnn_0 (Dropout)        (None, 296, 32)      0           ['max_pooling1d[0][0]']          \n",
      "                                                                                                  \n",
      " dropout_cnn_1 (Dropout)        (None, 295, 32)      0           ['max_pooling1d_1[0][0]']        \n",
      "                                                                                                  \n",
      " dropout_cnn_2 (Dropout)        (None, 294, 32)      0           ['max_pooling1d_2[0][0]']        \n",
      "                                                                                                  \n",
      " dropout_cnn_3 (Dropout)        (None, 292, 32)      0           ['max_pooling1d_3[0][0]']        \n",
      "                                                                                                  \n",
      " dropout_cnn_4 (Dropout)        (None, 290, 32)      0           ['max_pooling1d_4[0][0]']        \n",
      "                                                                                                  \n",
      " concat (Concatenate)           (None, 1467, 32)     0           ['dropout_cnn_0[0][0]',          \n",
      "                                                                  'dropout_cnn_1[0][0]',          \n",
      "                                                                  'dropout_cnn_2[0][0]',          \n",
      "                                                                  'dropout_cnn_3[0][0]',          \n",
      "                                                                  'dropout_cnn_4[0][0]']          \n",
      "                                                                                                  \n",
      " flatten (Flatten)              (None, 46944)        0           ['concat[0][0]']                 \n",
      "                                                                                                  \n",
      " dense_512 (Dense)              (None, 512)          24035840    ['flatten[0][0]']                \n",
      "                                                                                                  \n",
      " dropout (Dropout)              (None, 512)          0           ['dense_512[0][0]']              \n",
      "                                                                                                  \n",
      " output (Dense)                 (None, 5)            2565        ['dropout[0][0]']                \n",
      "                                                                                                  \n",
      "==================================================================================================\n",
      "Total params: 33,307,365\n",
      "Trainable params: 33,307,365\n",
      "Non-trainable params: 0\n",
      "__________________________________________________________________________________________________\n"
     ]
    }
   ],
   "source": [
    "model.summary()"
   ]
  },
  {
   "cell_type": "markdown",
   "id": "d9db9424-2b20-4d10-8da4-0c55152abe57",
   "metadata": {},
   "source": [
    "# Early stopping"
   ]
  },
  {
   "cell_type": "code",
   "execution_count": 35,
   "id": "9c9801fe-9cd2-47e2-9cad-58efbf4205a7",
   "metadata": {},
   "outputs": [],
   "source": [
    "import operator\n",
    "class EarlyStopping:\n",
    "    def __init__(self, tolerance=5, mode='min'):\n",
    "        assert mode in ['min','max'], 'Mode should be min or max'\n",
    "        self.mode = operator.lt if mode=='min' else operator.gt \n",
    "        self.tolerance = tolerance\n",
    "        self.counter = 0\n",
    "        self.early_stop = False\n",
    "        self.extremum_value = None\n",
    "        self.best_model = None\n",
    "    \n",
    "    @staticmethod\n",
    "    def copy_model(model):\n",
    "        copied_model = tf.keras.models.clone_model(model)\n",
    "        copied_model.set_weights(model.get_weights())\n",
    "        return copied_model\n",
    "        \n",
    "    def __call__(self, val, model):\n",
    "        if self.extremum_value is None:\n",
    "            self.extremum_value = val\n",
    "            self.best_model = self.copy_model(model)\n",
    "        else:\n",
    "            if not self.mode(val, self.extremum_value):\n",
    "                self.counter+=1\n",
    "            else:\n",
    "                self.extremum_value = val\n",
    "                self.best_model = self.copy_model(model)\n",
    "                self.counter = 0\n",
    "        \n",
    "        if self.counter==self.tolerance:\n",
    "            self.early_stop=True"
   ]
  },
  {
   "cell_type": "markdown",
   "id": "7676e473-8116-488e-990d-dc7937d9119c",
   "metadata": {},
   "source": [
    "# Train model"
   ]
  },
  {
   "cell_type": "code",
   "execution_count": 36,
   "id": "eed6de2d-be45-45cd-af31-b9042d1a20af",
   "metadata": {},
   "outputs": [],
   "source": [
    "from sklearn.metrics import f1_score"
   ]
  },
  {
   "cell_type": "code",
   "execution_count": 37,
   "id": "fbe8fc41-6661-4a56-ad5d-d1a4ed3e53f5",
   "metadata": {},
   "outputs": [],
   "source": [
    "def evaluate_on_datasets(y_true, y_pred, split='val'):\n",
    "    d = {}\n",
    "    for dataset_name in subsets['dataset_name'].unique():\n",
    "            idx = subsets[subsets['split']==split].copy()\n",
    "            idx['index'] = list(range(idx.shape[0]))\n",
    "            idx = idx[(idx['dataset_name']==dataset_name)]\\\n",
    "            ['index'].values.tolist()\n",
    "            score = f1_score(y_true=y_true[idx], y_pred=y_pred[idx],\n",
    "                                 average='macro')\n",
    "            print(f'{split} f1 score for dataset {dataset_name} : {score}')\n",
    "            d[f'{split}_f1_{dataset_name}'] = score\n",
    "            \n",
    "    for flag in [True, False]:\n",
    "        idx = subsets[subsets['split']==split].copy()\n",
    "        idx['index'] = list(range(idx.shape[0]))\n",
    "        idx = idx[idx['translated']==flag]['index'].values.tolist()\n",
    "        score = f1_score(y_true=y_true[idx], y_pred=y_pred[idx],\n",
    "                                 average='macro')\n",
    "        print(f'{split} f1 score for translated=={flag} : {score}')\n",
    "        d[f'{split}_f1_translated=={flag}'] = score\n",
    "    return d"
   ]
  },
  {
   "cell_type": "code",
   "execution_count": 38,
   "id": "f43c7824-1d7a-4fc1-b095-53902f428b3f",
   "metadata": {},
   "outputs": [],
   "source": [
    "def update_history(history, d):\n",
    "    for key, value in d.items():\n",
    "        res = history.get(key, [])\n",
    "        res.append(value)\n",
    "        history[key] = res"
   ]
  },
  {
   "cell_type": "code",
   "execution_count": 39,
   "id": "39c90c92-f6c9-4f00-94f0-582ebdf71912",
   "metadata": {},
   "outputs": [],
   "source": [
    "early_stopping = EarlyStopping(mode='max', tolerance=4)"
   ]
  },
  {
   "cell_type": "code",
   "execution_count": 40,
   "id": "e4354a40-79f8-4991-a26e-6d2422a4b9dd",
   "metadata": {},
   "outputs": [],
   "source": [
    "def training_loop(model, epochs=10, batch_size=128):\n",
    "    dict_history = {}\n",
    "    for i in range(epochs):\n",
    "        \n",
    "        #train model\n",
    "        history = model.fit(train_x, train_y, validation_data=(val_x, val_y), \n",
    "          epochs=1, batch_size=batch_size,\n",
    "                           verbose=0)\n",
    "        train_loss, val_loss = history.history['loss'][-1], history.history['val_loss'][-1]\n",
    "        \n",
    "        #evaluate model\n",
    "        train_prediction = np.argmax(model.predict(train_x, batch_size=batch_size), axis=-1)\n",
    "        val_prediction = np.argmax(model.predict(val_x, batch_size=batch_size), axis=-1)\n",
    "        train_f1 = f1_score(y_true=train_y, y_pred=train_prediction,\n",
    "                           average='macro')\n",
    "        val_f1 = f1_score(y_true=val_y, y_pred=val_prediction,\n",
    "                         average='macro')\n",
    "        \n",
    "        #printing evaluation\n",
    "        print(f'Epoch {i}')\n",
    "        print(f'Overall train f1 : {train_f1}, overall val f1: {val_f1}')\n",
    "        print(f'Train loss : {train_loss}, val loss: {val_loss}')\n",
    "        d_train = evaluate_on_datasets(y_true=train_y, y_pred=train_prediction, split='train')\n",
    "        d_val = evaluate_on_datasets(y_true=val_y, y_pred=val_prediction, split='val')\n",
    "            \n",
    "        if i!=epochs-1:\n",
    "            print('-'*30)\n",
    "            \n",
    "        #save history\n",
    "        update_history(dict_history, d_train)\n",
    "        update_history(dict_history, d_val)\n",
    "        update_history(dict_history, {'train_f1': train_f1})\n",
    "        update_history(dict_history, {'val_f1': val_f1})\n",
    "        update_history(dict_history, {'train_loss': train_loss})\n",
    "        update_history(dict_history, {'val_loss': val_loss})\n",
    "        #early stopping\n",
    "        \n",
    "        early_stopping(val_f1, model)\n",
    "        if early_stopping.early_stop:\n",
    "            print('Stopping early')\n",
    "            model = early_stopping.best_model\n",
    "            break\n",
    "        \n",
    "    return dict_history, model"
   ]
  },
  {
   "cell_type": "code",
   "execution_count": 41,
   "id": "73c7d40c-fd2c-41cc-9938-ee4f58a8a0b5",
   "metadata": {},
   "outputs": [
    {
     "name": "stderr",
     "output_type": "stream",
     "text": [
      "2023-05-07 16:40:03.200837: I tensorflow/compiler/xla/stream_executor/cuda/cuda_dnn.cc:428] Loaded cuDNN version 8700\n",
      "2023-05-07 16:40:03.927243: I tensorflow/compiler/xla/stream_executor/cuda/cuda_blas.cc:648] TensorFloat-32 will be used for the matrix multiplication. This will only be logged once.\n",
      "2023-05-07 16:40:03.988910: I tensorflow/compiler/xla/service/service.cc:173] XLA service 0x6343170 initialized for platform CUDA (this does not guarantee that XLA will be used). Devices:\n",
      "2023-05-07 16:40:03.988974: I tensorflow/compiler/xla/service/service.cc:181]   StreamExecutor device (0): NVIDIA RTX A4000, Compute Capability 8.6\n",
      "2023-05-07 16:40:03.996462: I tensorflow/compiler/mlir/tensorflow/utils/dump_mlir_util.cc:268] disabling MLIR crash reproducer, set env var `MLIR_CRASH_REPRODUCER_DIRECTORY` to enable.\n",
      "2023-05-07 16:40:04.161222: I tensorflow/compiler/jit/xla_compilation_cache.cc:480] Compiled cluster using XLA!  This line is logged at most once for the lifetime of the process.\n"
     ]
    },
    {
     "name": "stdout",
     "output_type": "stream",
     "text": [
      "257/257 [==============================] - 15s 58ms/step\n",
      "33/33 [==============================] - 2s 59ms/step\n",
      "Epoch 0\n",
      "Overall train f1 : 0.47468096600673826, overall val f1: 0.44736843108163055\n",
      "Train loss : 0.8158371448516846, val loss: 0.6500180959701538\n",
      "train f1 score for dataset rozetka : 0.42064069605255855\n",
      "train f1 score for dataset tripadvisor_hotels_ukraine : 0.5130129647257636\n",
      "train f1 score for dataset tripadvisor_restaurants_ukraine : 0.5097224520966642\n",
      "train f1 score for translated==True : 0.48238657319722067\n",
      "train f1 score for translated==False : 0.4176153987981981\n",
      "val f1 score for dataset rozetka : 0.3898013403572389\n",
      "val f1 score for dataset tripadvisor_hotels_ukraine : 0.484813768096776\n",
      "val f1 score for dataset tripadvisor_restaurants_ukraine : 0.48660377882320904\n",
      "val f1 score for translated==True : 0.4552853905662488\n",
      "val f1 score for translated==False : 0.3872272902119386\n",
      "------------------------------\n",
      "257/257 [==============================] - 15s 59ms/step\n",
      "33/33 [==============================] - 2s 59ms/step\n",
      "Epoch 1\n",
      "Overall train f1 : 0.5652467919683128, overall val f1: 0.49254483407756905\n",
      "Train loss : 0.600759744644165, val loss: 0.62975013256073\n",
      "train f1 score for dataset rozetka : 0.5131576969241031\n",
      "train f1 score for dataset tripadvisor_hotels_ukraine : 0.5996230556632653\n",
      "train f1 score for dataset tripadvisor_restaurants_ukraine : 0.6022613675510031\n",
      "train f1 score for translated==True : 0.571118222903157\n",
      "train f1 score for translated==False : 0.5223080033969211\n",
      "val f1 score for dataset rozetka : 0.4393065642587288\n",
      "val f1 score for dataset tripadvisor_hotels_ukraine : 0.5242739304358522\n",
      "val f1 score for dataset tripadvisor_restaurants_ukraine : 0.5302666782487452\n",
      "val f1 score for translated==True : 0.49982586905937776\n",
      "val f1 score for translated==False : 0.4367201114967065\n",
      "------------------------------\n",
      "257/257 [==============================] - 15s 59ms/step\n",
      "33/33 [==============================] - 2s 59ms/step\n",
      "Epoch 2\n",
      "Overall train f1 : 0.6525474363228649, overall val f1: 0.5179058016519488\n",
      "Train loss : 0.5236406326293945, val loss: 0.6664257645606995\n",
      "train f1 score for dataset rozetka : 0.6126841289626308\n",
      "train f1 score for dataset tripadvisor_hotels_ukraine : 0.67988838508664\n",
      "train f1 score for dataset tripadvisor_restaurants_ukraine : 0.6816099147997521\n",
      "train f1 score for translated==True : 0.6569569454612754\n",
      "train f1 score for translated==False : 0.6207175409499949\n",
      "val f1 score for dataset rozetka : 0.47347115634335923\n",
      "val f1 score for dataset tripadvisor_hotels_ukraine : 0.5390548230499865\n",
      "val f1 score for dataset tripadvisor_restaurants_ukraine : 0.5506197622749849\n",
      "val f1 score for translated==True : 0.5242342425021393\n",
      "val f1 score for translated==False : 0.46972676430265603\n",
      "------------------------------\n",
      "257/257 [==============================] - 15s 59ms/step\n",
      "33/33 [==============================] - 2s 59ms/step\n",
      "Epoch 3\n",
      "Overall train f1 : 0.7179980915161417, overall val f1: 0.5117623365845613\n",
      "Train loss : 0.4300573170185089, val loss: 0.8128119111061096\n",
      "train f1 score for dataset rozetka : 0.683975278425841\n",
      "train f1 score for dataset tripadvisor_hotels_ukraine : 0.7355563047352931\n",
      "train f1 score for dataset tripadvisor_restaurants_ukraine : 0.7469193811209899\n",
      "train f1 score for translated==True : 0.7222442420464328\n",
      "train f1 score for translated==False : 0.6885750688590583\n",
      "val f1 score for dataset rozetka : 0.480952367942321\n",
      "val f1 score for dataset tripadvisor_hotels_ukraine : 0.5163635879299436\n",
      "val f1 score for dataset tripadvisor_restaurants_ukraine : 0.5364134509056585\n",
      "val f1 score for translated==True : 0.5158307319279906\n",
      "val f1 score for translated==False : 0.4781876579319391\n",
      "------------------------------\n",
      "257/257 [==============================] - 15s 59ms/step\n",
      "33/33 [==============================] - 2s 59ms/step\n",
      "Epoch 4\n",
      "Overall train f1 : 0.7529628860139314, overall val f1: 0.5047718059622195\n",
      "Train loss : 0.34773489832878113, val loss: 0.9448052048683167\n",
      "train f1 score for dataset rozetka : 0.7431663451176209\n",
      "train f1 score for dataset tripadvisor_hotels_ukraine : 0.740196484414809\n",
      "train f1 score for dataset tripadvisor_restaurants_ukraine : 0.7656824730724763\n",
      "train f1 score for translated==True : 0.7543586847376542\n",
      "train f1 score for translated==False : 0.7430366509431219\n",
      "val f1 score for dataset rozetka : 0.4900205771522364\n",
      "val f1 score for dataset tripadvisor_hotels_ukraine : 0.4985063043330939\n",
      "val f1 score for dataset tripadvisor_restaurants_ukraine : 0.5162348524708044\n",
      "val f1 score for translated==True : 0.5060313578414993\n",
      "val f1 score for translated==False : 0.4920197118575277\n",
      "------------------------------\n",
      "257/257 [==============================] - 15s 59ms/step\n",
      "33/33 [==============================] - 2s 59ms/step\n",
      "Epoch 5\n",
      "Overall train f1 : 0.853822702875887, overall val f1: 0.5319680189892788\n",
      "Train loss : 0.2917589843273163, val loss: 1.0442157983779907\n",
      "train f1 score for dataset rozetka : 0.8404648797626448\n",
      "train f1 score for dataset tripadvisor_hotels_ukraine : 0.8544789242028308\n",
      "train f1 score for dataset tripadvisor_restaurants_ukraine : 0.8674690232128246\n",
      "train f1 score for translated==True : 0.8557473583090515\n",
      "train f1 score for translated==False : 0.8401580354549643\n",
      "val f1 score for dataset rozetka : 0.5169384820551721\n",
      "val f1 score for dataset tripadvisor_hotels_ukraine : 0.5215694245319853\n",
      "val f1 score for dataset tripadvisor_restaurants_ukraine : 0.5407998497237524\n",
      "val f1 score for translated==True : 0.5330850478299566\n",
      "val f1 score for translated==False : 0.5172043882367191\n",
      "------------------------------\n",
      "257/257 [==============================] - 15s 59ms/step\n",
      "33/33 [==============================] - 2s 59ms/step\n",
      "Epoch 6\n",
      "Overall train f1 : 0.8238550544033538, overall val f1: 0.5098488100059803\n",
      "Train loss : 0.23267580568790436, val loss: 1.1921608448028564\n",
      "train f1 score for dataset rozetka : 0.8266859678423449\n",
      "train f1 score for dataset tripadvisor_hotels_ukraine : 0.7973799983770211\n",
      "train f1 score for dataset tripadvisor_restaurants_ukraine : 0.8301983575883682\n",
      "train f1 score for translated==True : 0.8231896143297786\n",
      "train f1 score for translated==False : 0.8290731151768437\n",
      "val f1 score for dataset rozetka : 0.5031253369888705\n",
      "val f1 score for dataset tripadvisor_hotels_ukraine : 0.4905852084264355\n",
      "val f1 score for dataset tripadvisor_restaurants_ukraine : 0.5131765935264883\n",
      "val f1 score for translated==True : 0.5113112663982946\n",
      "val f1 score for translated==False : 0.49302740985701954\n",
      "------------------------------\n",
      "257/257 [==============================] - 15s 59ms/step\n",
      "33/33 [==============================] - 2s 59ms/step\n",
      "Epoch 7\n",
      "Overall train f1 : 0.8498290018655, overall val f1: 0.49718234502406666\n",
      "Train loss : 0.20266009867191315, val loss: 1.4546771049499512\n",
      "train f1 score for dataset rozetka : 0.8597246362776492\n",
      "train f1 score for dataset tripadvisor_hotels_ukraine : 0.8073152130015829\n",
      "train f1 score for dataset tripadvisor_restaurants_ukraine : 0.8493905208154263\n",
      "train f1 score for translated==True : 0.8475039130036357\n",
      "train f1 score for translated==False : 0.8627151831844614\n",
      "val f1 score for dataset rozetka : 0.5034178758793374\n",
      "val f1 score for dataset tripadvisor_hotels_ukraine : 0.4675461073069577\n",
      "val f1 score for dataset tripadvisor_restaurants_ukraine : 0.49461621908087094\n",
      "val f1 score for translated==True : 0.4953548533578577\n",
      "val f1 score for translated==False : 0.5059560758904864\n",
      "------------------------------\n",
      "257/257 [==============================] - 15s 59ms/step\n",
      "33/33 [==============================] - 2s 59ms/step\n",
      "Epoch 8\n",
      "Overall train f1 : 0.8895513738349097, overall val f1: 0.5221178464045275\n",
      "Train loss : 0.18108013272285461, val loss: 1.3563032150268555\n",
      "train f1 score for dataset rozetka : 0.877499916042302\n",
      "train f1 score for dataset tripadvisor_hotels_ukraine : 0.8930602359152964\n",
      "train f1 score for dataset tripadvisor_restaurants_ukraine : 0.9011979028793717\n",
      "train f1 score for translated==True : 0.8919351142778453\n",
      "train f1 score for translated==False : 0.8747401041964554\n",
      "val f1 score for dataset rozetka : 0.5112097394109816\n",
      "val f1 score for dataset tripadvisor_hotels_ukraine : 0.5079442364976742\n",
      "val f1 score for dataset tripadvisor_restaurants_ukraine : 0.5303539605269815\n",
      "val f1 score for translated==True : 0.522701370538573\n",
      "val f1 score for translated==False : 0.5113939292099243\n",
      "------------------------------\n",
      "257/257 [==============================] - 15s 59ms/step\n",
      "33/33 [==============================] - 2s 59ms/step\n",
      "Epoch 9\n",
      "Overall train f1 : 0.9380409539146962, overall val f1: 0.5290387447681307\n",
      "Train loss : 0.16498053073883057, val loss: 1.4270092248916626\n",
      "train f1 score for dataset rozetka : 0.9271515755280637\n",
      "train f1 score for dataset tripadvisor_hotels_ukraine : 0.940320247989454\n",
      "train f1 score for dataset tripadvisor_restaurants_ukraine : 0.9494562313937841\n",
      "train f1 score for translated==True : 0.9400611018357014\n",
      "train f1 score for translated==False : 0.9254837596212508\n",
      "val f1 score for dataset rozetka : 0.5248485285773457\n",
      "val f1 score for dataset tripadvisor_hotels_ukraine : 0.5087238585888905\n",
      "val f1 score for dataset tripadvisor_restaurants_ukraine : 0.5268560728903231\n",
      "val f1 score for translated==True : 0.5286379579720023\n",
      "val f1 score for translated==False : 0.5240472887392018\n",
      "------------------------------\n",
      "Stopping early\n"
     ]
    }
   ],
   "source": [
    "dict_history, model = \\\n",
    "training_loop(model, epochs=20, batch_size=2048)"
   ]
  },
  {
   "cell_type": "code",
   "execution_count": 42,
   "id": "fc16eb41-29c6-443e-95a6-b263a76a65bc",
   "metadata": {},
   "outputs": [
    {
     "data": {
      "text/plain": [
       "{'train_f1_rozetka': [0.42064069605255855,\n",
       "  0.5131576969241031,\n",
       "  0.6126841289626308,\n",
       "  0.683975278425841,\n",
       "  0.7431663451176209,\n",
       "  0.8404648797626448,\n",
       "  0.8266859678423449,\n",
       "  0.8597246362776492,\n",
       "  0.877499916042302,\n",
       "  0.9271515755280637],\n",
       " 'train_f1_tripadvisor_hotels_ukraine': [0.5130129647257636,\n",
       "  0.5996230556632653,\n",
       "  0.67988838508664,\n",
       "  0.7355563047352931,\n",
       "  0.740196484414809,\n",
       "  0.8544789242028308,\n",
       "  0.7973799983770211,\n",
       "  0.8073152130015829,\n",
       "  0.8930602359152964,\n",
       "  0.940320247989454],\n",
       " 'train_f1_tripadvisor_restaurants_ukraine': [0.5097224520966642,\n",
       "  0.6022613675510031,\n",
       "  0.6816099147997521,\n",
       "  0.7469193811209899,\n",
       "  0.7656824730724763,\n",
       "  0.8674690232128246,\n",
       "  0.8301983575883682,\n",
       "  0.8493905208154263,\n",
       "  0.9011979028793717,\n",
       "  0.9494562313937841],\n",
       " 'train_f1_translated==True': [0.48238657319722067,\n",
       "  0.571118222903157,\n",
       "  0.6569569454612754,\n",
       "  0.7222442420464328,\n",
       "  0.7543586847376542,\n",
       "  0.8557473583090515,\n",
       "  0.8231896143297786,\n",
       "  0.8475039130036357,\n",
       "  0.8919351142778453,\n",
       "  0.9400611018357014],\n",
       " 'train_f1_translated==False': [0.4176153987981981,\n",
       "  0.5223080033969211,\n",
       "  0.6207175409499949,\n",
       "  0.6885750688590583,\n",
       "  0.7430366509431219,\n",
       "  0.8401580354549643,\n",
       "  0.8290731151768437,\n",
       "  0.8627151831844614,\n",
       "  0.8747401041964554,\n",
       "  0.9254837596212508],\n",
       " 'val_f1_rozetka': [0.3898013403572389,\n",
       "  0.4393065642587288,\n",
       "  0.47347115634335923,\n",
       "  0.480952367942321,\n",
       "  0.4900205771522364,\n",
       "  0.5169384820551721,\n",
       "  0.5031253369888705,\n",
       "  0.5034178758793374,\n",
       "  0.5112097394109816,\n",
       "  0.5248485285773457],\n",
       " 'val_f1_tripadvisor_hotels_ukraine': [0.484813768096776,\n",
       "  0.5242739304358522,\n",
       "  0.5390548230499865,\n",
       "  0.5163635879299436,\n",
       "  0.4985063043330939,\n",
       "  0.5215694245319853,\n",
       "  0.4905852084264355,\n",
       "  0.4675461073069577,\n",
       "  0.5079442364976742,\n",
       "  0.5087238585888905],\n",
       " 'val_f1_tripadvisor_restaurants_ukraine': [0.48660377882320904,\n",
       "  0.5302666782487452,\n",
       "  0.5506197622749849,\n",
       "  0.5364134509056585,\n",
       "  0.5162348524708044,\n",
       "  0.5407998497237524,\n",
       "  0.5131765935264883,\n",
       "  0.49461621908087094,\n",
       "  0.5303539605269815,\n",
       "  0.5268560728903231],\n",
       " 'val_f1_translated==True': [0.4552853905662488,\n",
       "  0.49982586905937776,\n",
       "  0.5242342425021393,\n",
       "  0.5158307319279906,\n",
       "  0.5060313578414993,\n",
       "  0.5330850478299566,\n",
       "  0.5113112663982946,\n",
       "  0.4953548533578577,\n",
       "  0.522701370538573,\n",
       "  0.5286379579720023],\n",
       " 'val_f1_translated==False': [0.3872272902119386,\n",
       "  0.4367201114967065,\n",
       "  0.46972676430265603,\n",
       "  0.4781876579319391,\n",
       "  0.4920197118575277,\n",
       "  0.5172043882367191,\n",
       "  0.49302740985701954,\n",
       "  0.5059560758904864,\n",
       "  0.5113939292099243,\n",
       "  0.5240472887392018],\n",
       " 'train_f1': [0.47468096600673826,\n",
       "  0.5652467919683128,\n",
       "  0.6525474363228649,\n",
       "  0.7179980915161417,\n",
       "  0.7529628860139314,\n",
       "  0.853822702875887,\n",
       "  0.8238550544033538,\n",
       "  0.8498290018655,\n",
       "  0.8895513738349097,\n",
       "  0.9380409539146962],\n",
       " 'val_f1': [0.44736843108163055,\n",
       "  0.49254483407756905,\n",
       "  0.5179058016519488,\n",
       "  0.5117623365845613,\n",
       "  0.5047718059622195,\n",
       "  0.5319680189892788,\n",
       "  0.5098488100059803,\n",
       "  0.49718234502406666,\n",
       "  0.5221178464045275,\n",
       "  0.5290387447681307],\n",
       " 'train_loss': [0.8158371448516846,\n",
       "  0.600759744644165,\n",
       "  0.5236406326293945,\n",
       "  0.4300573170185089,\n",
       "  0.34773489832878113,\n",
       "  0.2917589843273163,\n",
       "  0.23267580568790436,\n",
       "  0.20266009867191315,\n",
       "  0.18108013272285461,\n",
       "  0.16498053073883057],\n",
       " 'val_loss': [0.6500180959701538,\n",
       "  0.62975013256073,\n",
       "  0.6664257645606995,\n",
       "  0.8128119111061096,\n",
       "  0.9448052048683167,\n",
       "  1.0442157983779907,\n",
       "  1.1921608448028564,\n",
       "  1.4546771049499512,\n",
       "  1.3563032150268555,\n",
       "  1.4270092248916626]}"
      ]
     },
     "execution_count": 42,
     "metadata": {},
     "output_type": "execute_result"
    }
   ],
   "source": [
    "dict_history"
   ]
  },
  {
   "cell_type": "markdown",
   "id": "b8d77413-4c00-4295-b7db-fe06dd7b23b5",
   "metadata": {},
   "source": [
    "# Show charts"
   ]
  },
  {
   "cell_type": "code",
   "execution_count": 43,
   "id": "b7f8ef02-623e-4ebb-8e1d-8da77c3ed9bc",
   "metadata": {},
   "outputs": [],
   "source": [
    "import seaborn as sns\n",
    "import matplotlib.pyplot as plt"
   ]
  },
  {
   "cell_type": "code",
   "execution_count": 44,
   "id": "521cf7cf-e1b2-42ce-8e95-5a2e61440247",
   "metadata": {},
   "outputs": [],
   "source": [
    "def plot_history(dict_history, columns):\n",
    "    plt.figure(figsize=(12,8))\n",
    "    for i in columns:\n",
    "        to_plot = dict_history[i]\n",
    "        plt.plot(range(len(to_plot)), to_plot, 'o-')\n",
    "    plt.xticks(range(len(to_plot)), range(len(to_plot)))\n",
    "    plt.xlabel('Epochs')\n",
    "    plt.legend(columns)"
   ]
  },
  {
   "cell_type": "code",
   "execution_count": 45,
   "id": "7c3ca35a-2166-4552-bc23-67c6bfe314d7",
   "metadata": {},
   "outputs": [
    {
     "data": {
      "image/png": "[encoded data removed]",
      "text/plain": [
       "<Figure size 1200x800 with 1 Axes>"
      ]
     },
     "metadata": {},
     "output_type": "display_data"
    }
   ],
   "source": [
    "plot_history(dict_history, ['val_loss', 'train_loss'])"
   ]
  },
  {
   "cell_type": "code",
   "execution_count": 46,
   "id": "09978e6c-1975-4fe9-b6ed-064e00c1809e",
   "metadata": {},
   "outputs": [
    {
     "data": {
      "image/png": "[encoded data removed]",
      "text/plain": [
       "<Figure size 1200x800 with 1 Axes>"
      ]
     },
     "metadata": {},
     "output_type": "display_data"
    }
   ],
   "source": [
    "plot_history(dict_history, ['val_f1', 'train_f1'])"
   ]
  },
  {
   "cell_type": "markdown",
   "id": "9763d7cb-3c09-425e-984f-7675f7fae0e9",
   "metadata": {},
   "source": [
    "# Evaluate model"
   ]
  },
  {
   "cell_type": "code",
   "execution_count": 47,
   "id": "4bb7e54e-5868-4379-8456-c3c5ef648c33",
   "metadata": {},
   "outputs": [
    {
     "name": "stdout",
     "output_type": "stream",
     "text": [
      "33/33 [==============================] - 2s 59ms/step\n"
     ]
    }
   ],
   "source": [
    "test_predictions = np.argmax(model.predict(test_x, 2048), axis=-1)"
   ]
  },
  {
   "cell_type": "code",
   "execution_count": 48,
   "id": "bc061fbf-e0a9-40be-8cb7-e356aef090d5",
   "metadata": {},
   "outputs": [
    {
     "name": "stdout",
     "output_type": "stream",
     "text": [
      "Overall test f1-score : 0.5333693558980893\n"
     ]
    }
   ],
   "source": [
    "test_f1 = f1_score(y_true=test_y, y_pred=test_predictions,\n",
    "                         average='macro')\n",
    "print(f'Overall test f1-score : {test_f1}')"
   ]
  },
  {
   "cell_type": "code",
   "execution_count": 49,
   "id": "24a4badc-8c22-4bdc-8fb2-f7f68dbb56b7",
   "metadata": {},
   "outputs": [
    {
     "name": "stdout",
     "output_type": "stream",
     "text": [
      "test f1 score for dataset rozetka : 0.5131310379576464\n",
      "test f1 score for dataset tripadvisor_hotels_ukraine : 0.5320541938612934\n",
      "test f1 score for dataset tripadvisor_restaurants_ukraine : 0.5466209055945421\n",
      "test f1 score for translated==True : 0.5350511067329494\n",
      "test f1 score for translated==False : 0.5143627605461795\n"
     ]
    }
   ],
   "source": [
    "test_results = evaluate_on_datasets(y_true=test_y, y_pred=test_predictions,split='test')\n",
    "                     "
   ]
  },
  {
   "cell_type": "markdown",
   "id": "5447ad8a-3695-499c-9fe3-6d6d9cc2834c",
   "metadata": {},
   "source": [
    "# Save history results"
   ]
  },
  {
   "cell_type": "code",
   "execution_count": 50,
   "id": "b1d1cb15-8dae-414b-80c9-cabbcfd4168d",
   "metadata": {},
   "outputs": [],
   "source": [
    "history = pd.DataFrame(dict_history)\n",
    "for k,v in test_results.items():\n",
    "    history[k] = v"
   ]
  },
  {
   "cell_type": "code",
   "execution_count": 51,
   "id": "b2fc4c15-4277-4913-8080-91cddcc4d734",
   "metadata": {},
   "outputs": [],
   "source": [
    "history['model'] = model_name"
   ]
  },
  {
   "cell_type": "code",
   "execution_count": 52,
   "id": "344fd96f-8e81-47b6-8332-0bb3892edfa4",
   "metadata": {},
   "outputs": [],
   "source": [
    "history.to_csv(\"/home/user/jupyter_notebooks/Ukranian-SA/notebooks/training/training_results_filtered.csv\", mode='a', header=None, index=None)"
   ]
  },
  {
   "cell_type": "code",
   "execution_count": null,
   "id": "fa349138-0297-447d-bad4-30b30ed0b94b",
   "metadata": {},
   "outputs": [],
   "source": []
  },
  {
   "cell_type": "code",
   "execution_count": null,
   "id": "cf61010a-6dee-42b8-93a1-f9a02ebb4d07",
   "metadata": {},
   "outputs": [],
   "source": []
  }
 ],
 "metadata": {
  "kernelspec": {
   "display_name": "tensorflow_cuda12",
   "language": "python",
   "name": "tensorflow_cuda12"
  },
  "language_info": {
   "codemirror_mode": {
    "name": "ipython",
    "version": 3
   },
   "file_extension": ".py",
   "mimetype": "text/x-python",
   "name": "python",
   "nbconvert_exporter": "python",
   "pygments_lexer": "ipython3",
   "version": "3.8.10"
  }
 },
 "nbformat": 4,
 "nbformat_minor": 5
}
