{
 "cells": [
  {
   "cell_type": "code",
   "execution_count": null,
   "id": "84209c44-c658-40d4-b119-aac0d9ccd218",
   "metadata": {},
   "outputs": [],
   "source": [
    "import pandas as pd\n",
    "import numpy as np"
   ]
  },
  {
   "cell_type": "code",
   "execution_count": null,
   "id": "55f51fb4-34ee-423f-9487-55660aeef41f",
   "metadata": {},
   "outputs": [],
   "source": [
    "df = pd.read_csv('training_results.csv')"
   ]
  },
  {
   "cell_type": "code",
   "execution_count": null,
   "id": "37b40b84-aa89-4a4e-9d7b-53e40d6d3fa8",
   "metadata": {},
   "outputs": [],
   "source": [
    "results = df.groupby('model')\\\n",
    ".agg({'test_f1_rozetka': max, 'test_f1_tripadvisor_hotels_ukraine':max,\n",
    "     'test_f1_tripadvisor_restaurants_ukraine' : max})"
   ]
  },
  {
   "cell_type": "code",
   "execution_count": null,
   "id": "b9cab5e1-de29-46b2-93a1-63d97f3f6f2f",
   "metadata": {},
   "outputs": [],
   "source": [
    "results['test_f1_avg'] = results.apply(lambda x: np.mean(x), axis=1)"
   ]
  },
  {
   "cell_type": "code",
   "execution_count": null,
   "id": "ce51a605-5ae2-48a0-ad29-77eb44390c0d",
   "metadata": {},
   "outputs": [],
   "source": [
    "results"
   ]
  },
  {
   "cell_type": "code",
   "execution_count": null,
   "id": "0e288487-8835-4c1d-9a99-9a06c947eaa8",
   "metadata": {},
   "outputs": [],
   "source": []
  }
 ],
 "metadata": {
  "language_info": {
   "name": "python",
   "pygments_lexer": "ipython3"
  }
 },
 "nbformat": 4,
 "nbformat_minor": 5
}
