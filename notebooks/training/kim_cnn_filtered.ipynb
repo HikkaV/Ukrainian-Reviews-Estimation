{
 "cells": [
  {
   "cell_type": "code",
   "execution_count": 1,
   "id": "94761116-1530-448d-a1f6-593d90bec639",
   "metadata": {},
   "outputs": [
    {
     "name": "stdout",
     "output_type": "stream",
     "text": [
      "Collecting tokenizers\n",
      "  Downloading tokenizers-0.13.3-cp38-cp38-manylinux_2_17_x86_64.manylinux2014_x86_64.whl (7.8 MB)\n",
      "\u001b[2K     \u001b[90m━━━━━━━━━━━━━━━━━━━━━━━━━━━━━━━━━━━━━━━━\u001b[0m \u001b[32m7.8/7.8 MB\u001b[0m \u001b[31m10.7 MB/s\u001b[0m eta \u001b[36m0:00:00\u001b[0m00:01\u001b[0m00:01\u001b[0m\n",
      "\u001b[?25hInstalling collected packages: tokenizers\n",
      "Successfully installed tokenizers-0.13.3\n",
      "\u001b[33mWARNING: Running pip as the 'root' user can result in broken permissions and conflicting behaviour with the system package manager. It is recommended to use a virtual environment instead: https://pip.pypa.io/warnings/venv\u001b[0m\u001b[33m\n",
      "\u001b[0m"
     ]
    },
    {
     "name": "stderr",
     "output_type": "stream",
     "text": [
      "2023-05-07 17:14:31.853991: I tensorflow/core/platform/cpu_feature_guard.cc:194] This TensorFlow binary is optimized with oneAPI Deep Neural Network Library (oneDNN) to use the following CPU instructions in performance-critical operations:  SSE3 SSE4.1 SSE4.2 AVX\n",
      "To enable them in other operations, rebuild TensorFlow with the appropriate compiler flags.\n"
     ]
    }
   ],
   "source": [
    "!pip install tokenizers\n",
    "import tensorflow as tf\n",
    "from tokenizers import Tokenizer, models, pre_tokenizers, trainers, Regex\n",
    "import tokenizers\n",
    "import pandas as pd"
   ]
  },
  {
   "cell_type": "code",
   "execution_count": 2,
   "id": "fada8fbb-9dc2-4e9d-935d-2cb0d6684738",
   "metadata": {},
   "outputs": [],
   "source": [
    "model_name = 'kim_cnn'"
   ]
  },
  {
   "cell_type": "markdown",
   "id": "aa46fb49-08a8-4809-b697-680813299d47",
   "metadata": {},
   "source": [
    "# Load data"
   ]
  },
  {
   "cell_type": "code",
   "execution_count": 6,
   "id": "d01ad050-f023-4253-bc33-72c76bce3944",
   "metadata": {},
   "outputs": [],
   "source": [
    "df = pd.read_csv('/home/user/files_for_research_Vova/processed_data.csv', usecols=['review_translate',\n",
    "                                                            'dataset_name',\n",
    "                                                            'rating',\n",
    "                                                           'translated'])"
   ]
  },
  {
   "cell_type": "code",
   "execution_count": 7,
   "id": "99ee8e3a-2281-4ec1-8107-49e3ba47d2a9",
   "metadata": {},
   "outputs": [
    {
     "data": {
      "text/html": [
       "<div>\n",
       "<style scoped>\n",
       "    .dataframe tbody tr th:only-of-type {\n",
       "        vertical-align: middle;\n",
       "    }\n",
       "\n",
       "    .dataframe tbody tr th {\n",
       "        vertical-align: top;\n",
       "    }\n",
       "\n",
       "    .dataframe thead th {\n",
       "        text-align: right;\n",
       "    }\n",
       "</style>\n",
       "<table border=\"1\" class=\"dataframe\">\n",
       "  <thead>\n",
       "    <tr style=\"text-align: right;\">\n",
       "      <th></th>\n",
       "      <th>review_translate</th>\n",
       "      <th>rating</th>\n",
       "      <th>dataset_name</th>\n",
       "      <th>translated</th>\n",
       "    </tr>\n",
       "  </thead>\n",
       "  <tbody>\n",
       "    <tr>\n",
       "      <th>0</th>\n",
       "      <td>Якісна пластмаса , переворот 360 градусвв</td>\n",
       "      <td>5.0</td>\n",
       "      <td>rozetka</td>\n",
       "      <td>False</td>\n",
       "    </tr>\n",
       "    <tr>\n",
       "      <th>1</th>\n",
       "      <td>За такі гроші це самий топ</td>\n",
       "      <td>5.0</td>\n",
       "      <td>rozetka</td>\n",
       "      <td>False</td>\n",
       "    </tr>\n",
       "    <tr>\n",
       "      <th>2</th>\n",
       "      <td>За такі гроші - просто супер ! Рекомендую .</td>\n",
       "      <td>5.0</td>\n",
       "      <td>rozetka</td>\n",
       "      <td>False</td>\n",
       "    </tr>\n",
       "    <tr>\n",
       "      <th>3</th>\n",
       "      <td>Виконує свою роботу не погано . але що ви хоті...</td>\n",
       "      <td>4.0</td>\n",
       "      <td>rozetka</td>\n",
       "      <td>False</td>\n",
       "    </tr>\n",
       "    <tr>\n",
       "      <th>4</th>\n",
       "      <td>Купляв на стару сістему як основний під віндов...</td>\n",
       "      <td>4.0</td>\n",
       "      <td>rozetka</td>\n",
       "      <td>False</td>\n",
       "    </tr>\n",
       "  </tbody>\n",
       "</table>\n",
       "</div>"
      ],
      "text/plain": [
       "                                    review_translate  rating dataset_name  \\\n",
       "0          Якісна пластмаса , переворот 360 градусвв     5.0      rozetka   \n",
       "1                         За такі гроші це самий топ     5.0      rozetka   \n",
       "2        За такі гроші - просто супер ! Рекомендую .     5.0      rozetka   \n",
       "3  Виконує свою роботу не погано . але що ви хоті...     4.0      rozetka   \n",
       "4  Купляв на стару сістему як основний під віндов...     4.0      rozetka   \n",
       "\n",
       "   translated  \n",
       "0       False  \n",
       "1       False  \n",
       "2       False  \n",
       "3       False  \n",
       "4       False  "
      ]
     },
     "execution_count": 7,
     "metadata": {},
     "output_type": "execute_result"
    }
   ],
   "source": [
    "df.head()"
   ]
  },
  {
   "cell_type": "code",
   "execution_count": 8,
   "id": "870b0de2-18ef-42ce-9bd5-1ff68b8a1776",
   "metadata": {},
   "outputs": [],
   "source": [
    "subsets = pd.read_csv('/home/user/files_for_research_Vova/train_val_test_indices.csv')"
   ]
  },
  {
   "cell_type": "code",
   "execution_count": 9,
   "id": "778fb1c0-5396-480b-8ce5-e728d06fc3d8",
   "metadata": {},
   "outputs": [
    {
     "data": {
      "text/html": [
       "<div>\n",
       "<style scoped>\n",
       "    .dataframe tbody tr th:only-of-type {\n",
       "        vertical-align: middle;\n",
       "    }\n",
       "\n",
       "    .dataframe tbody tr th {\n",
       "        vertical-align: top;\n",
       "    }\n",
       "\n",
       "    .dataframe thead th {\n",
       "        text-align: right;\n",
       "    }\n",
       "</style>\n",
       "<table border=\"1\" class=\"dataframe\">\n",
       "  <thead>\n",
       "    <tr style=\"text-align: right;\">\n",
       "      <th></th>\n",
       "      <th>index</th>\n",
       "      <th>split</th>\n",
       "    </tr>\n",
       "  </thead>\n",
       "  <tbody>\n",
       "    <tr>\n",
       "      <th>0</th>\n",
       "      <td>0</td>\n",
       "      <td>train</td>\n",
       "    </tr>\n",
       "    <tr>\n",
       "      <th>1</th>\n",
       "      <td>1</td>\n",
       "      <td>test</td>\n",
       "    </tr>\n",
       "    <tr>\n",
       "      <th>2</th>\n",
       "      <td>2</td>\n",
       "      <td>train</td>\n",
       "    </tr>\n",
       "    <tr>\n",
       "      <th>3</th>\n",
       "      <td>3</td>\n",
       "      <td>train</td>\n",
       "    </tr>\n",
       "    <tr>\n",
       "      <th>4</th>\n",
       "      <td>4</td>\n",
       "      <td>train</td>\n",
       "    </tr>\n",
       "  </tbody>\n",
       "</table>\n",
       "</div>"
      ],
      "text/plain": [
       "   index  split\n",
       "0      0  train\n",
       "1      1   test\n",
       "2      2  train\n",
       "3      3  train\n",
       "4      4  train"
      ]
     },
     "execution_count": 9,
     "metadata": {},
     "output_type": "execute_result"
    }
   ],
   "source": [
    "subsets.head()"
   ]
  },
  {
   "cell_type": "code",
   "execution_count": 10,
   "id": "bb145e0a-2bf5-4004-b334-15433414769a",
   "metadata": {},
   "outputs": [],
   "source": [
    "subsets = subsets.merge(df[['dataset_name', 'translated']], left_on='index', right_index=True)"
   ]
  },
  {
   "cell_type": "code",
   "execution_count": 11,
   "id": "5fd8d22c-fa2c-478f-9cdc-e936aba67a74",
   "metadata": {},
   "outputs": [],
   "source": [
    "bad_indices = pd.read_csv('/home/user/files_for_research_Vova/files_to_check.csv')\n",
    "subsets = subsets[~subsets.index.isin(bad_indices['id'].values)]\n",
    "df = df[~df.index.isin(bad_indices['id'].values)]\n",
    "df, subsets = df.reset_index().drop(columns='index'), subsets.reset_index().drop(columns='index')"
   ]
  },
  {
   "cell_type": "markdown",
   "id": "f35025fc-9c2c-490e-9231-10f4b38e230b",
   "metadata": {},
   "source": [
    "# Load tokenizer"
   ]
  },
  {
   "cell_type": "code",
   "execution_count": 13,
   "id": "dc7ca142-1e37-49c2-b8b8-2d5f74ee98c8",
   "metadata": {},
   "outputs": [],
   "source": [
    "tokenizer = Tokenizer.from_file(\"/home/user/files_for_research_Vova/tokenizer_30k.json\")\n"
   ]
  },
  {
   "cell_type": "markdown",
   "id": "a86c13af-5e8f-49e4-b337-7b3a70163c1c",
   "metadata": {},
   "source": [
    "# Encode text"
   ]
  },
  {
   "cell_type": "code",
   "execution_count": 14,
   "id": "ef69c9c8-b050-4904-8e93-5e1b89361f8d",
   "metadata": {},
   "outputs": [],
   "source": [
    "import seaborn as sns\n",
    "import numpy as np"
   ]
  },
  {
   "cell_type": "code",
   "execution_count": 15,
   "id": "e2e913ba-749b-4161-a2db-0cb6af2b025c",
   "metadata": {},
   "outputs": [],
   "source": [
    "sns.set()"
   ]
  },
  {
   "cell_type": "code",
   "execution_count": 16,
   "id": "0dda1c9a-9961-4097-bd69-3e5bd58d6789",
   "metadata": {},
   "outputs": [],
   "source": [
    "df['review_translate'] = df['review_translate'].str.lower()"
   ]
  },
  {
   "cell_type": "code",
   "execution_count": 17,
   "id": "3151fe97-eded-408c-be0d-df2b49051e7c",
   "metadata": {},
   "outputs": [],
   "source": [
    "df['encoded'] = tokenizer.encode_batch(df['review_translate'].values)"
   ]
  },
  {
   "cell_type": "code",
   "execution_count": 18,
   "id": "8c01d676-5e85-4b7d-b7c0-5d99b8ba1d44",
   "metadata": {},
   "outputs": [],
   "source": [
    "df['encoded'] = df['encoded'].apply(lambda x: x.ids)"
   ]
  },
  {
   "cell_type": "code",
   "execution_count": 19,
   "id": "47ddda71-f140-49f7-89c8-fea94b8bcdfd",
   "metadata": {},
   "outputs": [
    {
     "name": "stderr",
     "output_type": "stream",
     "text": [
      "/tmp/ipykernel_1/3749403729.py:1: UserWarning: \n",
      "\n",
      "`distplot` is a deprecated function and will be removed in seaborn v0.14.0.\n",
      "\n",
      "Please adapt your code to use either `displot` (a figure-level function with\n",
      "similar flexibility) or `histplot` (an axes-level function for histograms).\n",
      "\n",
      "For a guide to updating your code to use the new functions, please see\n",
      "https://gist.github.com/mwaskom/de44147ed2974457ad6372750bbe5751\n",
      "\n",
      "  sns.distplot(np.log10(df['encoded'].apply(len)))\n"
     ]
    },
    {
     "data": {
      "text/plain": [
       "<AxesSubplot: xlabel='encoded', ylabel='Density'>"
      ]
     },
     "execution_count": 19,
     "metadata": {},
     "output_type": "execute_result"
    },
    {
     "data": {
      "image/png": "[encoded data removed]",
      "text/plain": [
       "<Figure size 640x480 with 1 Axes>"
      ]
     },
     "metadata": {},
     "output_type": "display_data"
    }
   ],
   "source": [
    "sns.distplot(np.log10(df['encoded'].apply(len)))"
   ]
  },
  {
   "cell_type": "code",
   "execution_count": 20,
   "id": "e81a0c0b-0dd0-4437-872e-0c13fc041b99",
   "metadata": {},
   "outputs": [
    {
     "data": {
      "text/plain": [
       "324.0"
      ]
     },
     "execution_count": 20,
     "metadata": {},
     "output_type": "execute_result"
    }
   ],
   "source": [
    "np.percentile(df['encoded'].apply(len), 99)"
   ]
  },
  {
   "cell_type": "code",
   "execution_count": 21,
   "id": "c680a61a-cee2-4fbd-9a97-17a9c7ec74a9",
   "metadata": {},
   "outputs": [],
   "source": [
    "encoded_tokens = df['encoded'].values"
   ]
  },
  {
   "cell_type": "code",
   "execution_count": 22,
   "id": "b3d6e285-87e6-4ce1-be8a-cb614270a8a4",
   "metadata": {},
   "outputs": [],
   "source": [
    "from itertools import chain"
   ]
  },
  {
   "cell_type": "code",
   "execution_count": 23,
   "id": "7f8c9fac-7ed8-45c3-8114-763b1ed0c138",
   "metadata": {},
   "outputs": [],
   "source": [
    "padded_tokens = tf.keras.preprocessing.sequence\\\n",
    ".pad_sequences(encoded_tokens, maxlen=300, padding=\"post\")\n"
   ]
  },
  {
   "cell_type": "code",
   "execution_count": 24,
   "id": "8137187b-fd7f-4199-883e-7ff778a94c0a",
   "metadata": {},
   "outputs": [
    {
     "data": {
      "text/plain": [
       "(655470, 300)"
      ]
     },
     "execution_count": 24,
     "metadata": {},
     "output_type": "execute_result"
    }
   ],
   "source": [
    "padded_tokens.shape"
   ]
  },
  {
   "cell_type": "markdown",
   "id": "5bc9a5b3-3794-4ab8-a16d-fa572ac9d2f6",
   "metadata": {},
   "source": [
    "# Get labels and split data"
   ]
  },
  {
   "cell_type": "code",
   "execution_count": 25,
   "id": "fbdb3b33-cbb6-4024-b683-8819ad6d7b3f",
   "metadata": {},
   "outputs": [],
   "source": [
    "mapping = dict([(i,c) for c,i in enumerate(df['rating'].unique())])"
   ]
  },
  {
   "cell_type": "code",
   "execution_count": 26,
   "id": "0d9dcd18-b69c-4b71-8f83-85f750be1daa",
   "metadata": {},
   "outputs": [],
   "source": [
    "y = df['rating'].map(mapping).values"
   ]
  },
  {
   "cell_type": "code",
   "execution_count": 27,
   "id": "abf0a14a-7050-4689-806f-dbe4f094f0d8",
   "metadata": {},
   "outputs": [],
   "source": [
    "num_classes = len(set(y))"
   ]
  },
  {
   "cell_type": "code",
   "execution_count": 28,
   "id": "59b5a397-faf0-43be-b498-a3d4af06fbc0",
   "metadata": {},
   "outputs": [],
   "source": [
    "train_indices, val_indices, test_indices = subsets[subsets['split']=='train'].index.tolist(),\\\n",
    "subsets[subsets['split']=='val'].index.tolist(),\\\n",
    "subsets[subsets['split']=='test'].index.tolist()\n"
   ]
  },
  {
   "cell_type": "code",
   "execution_count": 29,
   "id": "7564a2e1-11d7-44cf-803b-03b4eb3b0dce",
   "metadata": {},
   "outputs": [],
   "source": [
    "train_y, val_y, test_y = y[train_indices], y[val_indices], y[test_indices]"
   ]
  },
  {
   "cell_type": "code",
   "execution_count": 30,
   "id": "39adcfe4-0446-4673-bbad-dfdc972fb7d0",
   "metadata": {},
   "outputs": [],
   "source": [
    "train_x, val_x, test_x = padded_tokens[train_indices], padded_tokens[val_indices],\\\n",
    "padded_tokens[test_indices]"
   ]
  },
  {
   "cell_type": "code",
   "execution_count": 31,
   "id": "bce92ef9-7a5c-4f99-86e0-18544e93101f",
   "metadata": {},
   "outputs": [
    {
     "data": {
      "text/plain": [
       "(524346, 300)"
      ]
     },
     "execution_count": 31,
     "metadata": {},
     "output_type": "execute_result"
    }
   ],
   "source": [
    "train_x.shape"
   ]
  },
  {
   "cell_type": "markdown",
   "id": "a0f0ac0e-11a7-436a-9fd3-cfa9229d7ec8",
   "metadata": {},
   "source": [
    "# Create  model"
   ]
  },
  {
   "cell_type": "code",
   "execution_count": 32,
   "id": "264a00a2-4b18-4523-a1d4-6286b9f3a016",
   "metadata": {},
   "outputs": [],
   "source": [
    "n_grams_max = 5\n",
    "n_grams_min = 3\n",
    "pool_window = 2\n",
    "output_dim = 300"
   ]
  },
  {
   "cell_type": "code",
   "execution_count": 42,
   "id": "91941772-c544-43ae-bf45-b08d249c49c7",
   "metadata": {},
   "outputs": [],
   "source": [
    "tf.keras.backend.clear_session()\n",
    "np.random.seed(0)\n",
    "tf.random.set_seed(0)\n",
    "input_layer = tf.keras.layers.Input(shape=(300,), name='input')\n",
    "word_embedding = tf.keras.layers.Embedding(input_dim=tokenizer.get_vocab_size(),\n",
    "                                                   output_dim=300,\n",
    "                                                   trainable=True,\n",
    "                                           name='embedding',\n",
    "                                           mask_zero=True\n",
    "                                                   )\n",
    "relu = tf.keras.layers.ReLU(name='relu')\n",
    "concat = []\n",
    "embedded = word_embedding(input_layer)\n",
    "for i in range(n_grams_min, n_grams_max+1):\n",
    "    conv1d = tf.keras.layers.Conv1D(filters=32, kernel_size=i, activation=None,\n",
    "                                   name=f'conv_ngram_{i}')\n",
    "    max_pooling = tf.keras.layers.MaxPool1D(pool_size=pool_window, strides=1,\n",
    "                                           padding='valid')\n",
    "    concat.append(max_pooling(relu(conv1d(embedded))))\n",
    "\n",
    "x = tf.keras.layers.concatenate(concat, axis=1, name='concat')\n",
    "x = tf.keras.layers.Flatten(name='flatten')(x)\n",
    "x = tf.keras.layers.Dropout(0.5, name='dropout')(x)\n",
    "output = tf.keras.layers.Dense(num_classes, activation='softmax', name='output')(x)\n",
    "model = tf.keras.Model(input_layer, output)"
   ]
  },
  {
   "cell_type": "markdown",
   "id": "5df15e13-921d-4eaa-b433-7500dc153a5f",
   "metadata": {},
   "source": [
    "# Compile model"
   ]
  },
  {
   "cell_type": "code",
   "execution_count": 43,
   "id": "a272e87d-a23a-4940-81fa-569451e2ea5c",
   "metadata": {},
   "outputs": [],
   "source": [
    "model.compile(loss='sparse_categorical_crossentropy', \\\n",
    "              optimizer=tf.keras.optimizers.Adam(),\n",
    "             metrics=['acc'])"
   ]
  },
  {
   "cell_type": "markdown",
   "id": "d9db9424-2b20-4d10-8da4-0c55152abe57",
   "metadata": {},
   "source": [
    "# Early stopping"
   ]
  },
  {
   "cell_type": "code",
   "execution_count": 35,
   "id": "9c9801fe-9cd2-47e2-9cad-58efbf4205a7",
   "metadata": {},
   "outputs": [],
   "source": [
    "import operator\n",
    "class EarlyStopping:\n",
    "    def __init__(self, tolerance=5, mode='min'):\n",
    "        assert mode in ['min','max'], 'Mode should be min or max'\n",
    "        self.mode = operator.lt if mode=='min' else operator.gt \n",
    "        self.tolerance = tolerance\n",
    "        self.counter = 0\n",
    "        self.early_stop = False\n",
    "        self.extremum_value = None\n",
    "        self.best_model = None\n",
    "    \n",
    "    @staticmethod\n",
    "    def copy_model(model):\n",
    "        copied_model = tf.keras.models.clone_model(model)\n",
    "        copied_model.set_weights(model.get_weights())\n",
    "        return copied_model\n",
    "        \n",
    "    def __call__(self, val, model):\n",
    "        if self.extremum_value is None:\n",
    "            self.extremum_value = val\n",
    "            self.best_model = self.copy_model(model)\n",
    "        else:\n",
    "            if not self.mode(val, self.extremum_value):\n",
    "                self.counter+=1\n",
    "            else:\n",
    "                self.extremum_value = val\n",
    "                self.best_model = self.copy_model(model)\n",
    "                self.counter = 0\n",
    "        \n",
    "        if self.counter==self.tolerance:\n",
    "            self.early_stop=True"
   ]
  },
  {
   "cell_type": "markdown",
   "id": "7676e473-8116-488e-990d-dc7937d9119c",
   "metadata": {},
   "source": [
    "# Train model"
   ]
  },
  {
   "cell_type": "code",
   "execution_count": 36,
   "id": "eed6de2d-be45-45cd-af31-b9042d1a20af",
   "metadata": {},
   "outputs": [],
   "source": [
    "from sklearn.metrics import f1_score"
   ]
  },
  {
   "cell_type": "code",
   "execution_count": 37,
   "id": "fbe8fc41-6661-4a56-ad5d-d1a4ed3e53f5",
   "metadata": {},
   "outputs": [],
   "source": [
    "def evaluate_on_datasets(y_true, y_pred, split='val'):\n",
    "    d = {}\n",
    "    for dataset_name in subsets['dataset_name'].unique():\n",
    "            idx = subsets[subsets['split']==split].copy()\n",
    "            idx['index'] = list(range(idx.shape[0]))\n",
    "            idx = idx[(idx['dataset_name']==dataset_name)]\\\n",
    "            ['index'].values.tolist()\n",
    "            score = f1_score(y_true=y_true[idx], y_pred=y_pred[idx],\n",
    "                                 average='macro')\n",
    "            print(f'{split} f1 score for dataset {dataset_name} : {score}')\n",
    "            d[f'{split}_f1_{dataset_name}'] = score\n",
    "            \n",
    "    for flag in [True, False]:\n",
    "        idx = subsets[subsets['split']==split].copy()\n",
    "        idx['index'] = list(range(idx.shape[0]))\n",
    "        idx = idx[idx['translated']==flag]['index'].values.tolist()\n",
    "        score = f1_score(y_true=y_true[idx], y_pred=y_pred[idx],\n",
    "                                 average='macro')\n",
    "        print(f'{split} f1 score for translated=={flag} : {score}')\n",
    "        d[f'{split}_f1_translated=={flag}'] = score\n",
    "    return d"
   ]
  },
  {
   "cell_type": "code",
   "execution_count": 38,
   "id": "f43c7824-1d7a-4fc1-b095-53902f428b3f",
   "metadata": {},
   "outputs": [],
   "source": [
    "def update_history(history, d):\n",
    "    for key, value in d.items():\n",
    "        res = history.get(key, [])\n",
    "        res.append(value)\n",
    "        history[key] = res"
   ]
  },
  {
   "cell_type": "code",
   "execution_count": 39,
   "id": "39c90c92-f6c9-4f00-94f0-582ebdf71912",
   "metadata": {},
   "outputs": [],
   "source": [
    "early_stopping = EarlyStopping(mode='max', tolerance=4)"
   ]
  },
  {
   "cell_type": "code",
   "execution_count": 44,
   "id": "e4354a40-79f8-4991-a26e-6d2422a4b9dd",
   "metadata": {},
   "outputs": [],
   "source": [
    "def training_loop(model, epochs=10, batch_size=128):\n",
    "    dict_history = {}\n",
    "    for i in range(epochs):\n",
    "        \n",
    "        #train model\n",
    "        history = model.fit(train_x, train_y, validation_data=(val_x, val_y), \n",
    "          epochs=1, batch_size=batch_size,\n",
    "                           verbose=0)\n",
    "        train_loss, val_loss = history.history['loss'][-1], history.history['val_loss'][-1]\n",
    "        \n",
    "        #evaluate model\n",
    "        train_prediction = np.argmax(model.predict(train_x,batch_size=batch_size), axis=-1)\n",
    "        val_prediction = np.argmax(model.predict(val_x, batch_size=batch_size), axis=-1)\n",
    "        train_f1 = f1_score(y_true=train_y, y_pred=train_prediction,\n",
    "                           average='macro')\n",
    "        val_f1 = f1_score(y_true=val_y, y_pred=val_prediction,\n",
    "                         average='macro')\n",
    "        \n",
    "        #printing evaluation\n",
    "        print(f'Epoch {i}')\n",
    "        print(f'Overall train f1 : {train_f1}, overall val f1: {val_f1}')\n",
    "        print(f'Train loss : {train_loss}, val loss: {val_loss}')\n",
    "        d_train = evaluate_on_datasets(y_true=train_y, y_pred=train_prediction, split='train')\n",
    "        d_val = evaluate_on_datasets(y_true=val_y, y_pred=val_prediction, split='val')\n",
    "            \n",
    "        if i!=epochs-1:\n",
    "            print('-'*30)\n",
    "            \n",
    "        #save history\n",
    "        update_history(dict_history, d_train)\n",
    "        update_history(dict_history, d_val)\n",
    "        update_history(dict_history, {'train_f1': train_f1})\n",
    "        update_history(dict_history, {'val_f1': val_f1})\n",
    "        update_history(dict_history, {'train_loss': train_loss})\n",
    "        update_history(dict_history, {'val_loss': val_loss})\n",
    "        #early stopping\n",
    "        \n",
    "        early_stopping(val_f1, model)\n",
    "        if early_stopping.early_stop:\n",
    "            print('Stopping early')\n",
    "            model = early_stopping.best_model\n",
    "            break\n",
    "        \n",
    "    return dict_history, model"
   ]
  },
  {
   "cell_type": "code",
   "execution_count": 45,
   "id": "73c7d40c-fd2c-41cc-9938-ee4f58a8a0b5",
   "metadata": {},
   "outputs": [
    {
     "name": "stdout",
     "output_type": "stream",
     "text": [
      "257/257 [==============================] - 8s 31ms/step\n",
      "33/33 [==============================] - 1s 31ms/step\n",
      "Epoch 0\n",
      "Overall train f1 : 0.5015339615379424, overall val f1: 0.46369019139342305\n",
      "Train loss : 0.7821829915046692, val loss: 0.6519105434417725\n",
      "train f1 score for dataset rozetka : 0.4232776927096845\n",
      "train f1 score for dataset tripadvisor_hotels_ukraine : 0.5671197198506875\n",
      "train f1 score for dataset tripadvisor_restaurants_ukraine : 0.5487436398863965\n",
      "train f1 score for translated==True : 0.5118610493526641\n",
      "train f1 score for translated==False : 0.4225770503526001\n",
      "val f1 score for dataset rozetka : 0.3953096984931623\n",
      "val f1 score for dataset tripadvisor_hotels_ukraine : 0.5169654923620361\n",
      "val f1 score for dataset tripadvisor_restaurants_ukraine : 0.504984875403558\n",
      "val f1 score for translated==True : 0.47265954008217453\n",
      "val f1 score for translated==False : 0.39381832860777954\n",
      "------------------------------\n",
      "257/257 [==============================] - 8s 32ms/step\n",
      "33/33 [==============================] - 1s 31ms/step\n",
      "Epoch 1\n",
      "Overall train f1 : 0.5815587285871928, overall val f1: 0.4880028852337695\n",
      "Train loss : 0.6079012751579285, val loss: 0.6416930556297302\n",
      "train f1 score for dataset rozetka : 0.5081653044067274\n",
      "train f1 score for dataset tripadvisor_hotels_ukraine : 0.6507407291380728\n",
      "train f1 score for dataset tripadvisor_restaurants_ukraine : 0.625792644155786\n",
      "train f1 score for translated==True : 0.5904143725117967\n",
      "train f1 score for translated==False : 0.5158154631380871\n",
      "val f1 score for dataset rozetka : 0.4293629138614598\n",
      "val f1 score for dataset tripadvisor_hotels_ukraine : 0.526805781569414\n",
      "val f1 score for dataset tripadvisor_restaurants_ukraine : 0.5261547185714857\n",
      "val f1 score for translated==True : 0.4945017009845681\n",
      "val f1 score for translated==False : 0.4350110838282749\n",
      "------------------------------\n",
      "257/257 [==============================] - 8s 31ms/step\n",
      "33/33 [==============================] - 1s 31ms/step\n",
      "Epoch 2\n",
      "Overall train f1 : 0.6525904664470112, overall val f1: 0.49076648433616193\n",
      "Train loss : 0.5444852709770203, val loss: 0.6547550559043884\n",
      "train f1 score for dataset rozetka : 0.5878098577124721\n",
      "train f1 score for dataset tripadvisor_hotels_ukraine : 0.7273935419737142\n",
      "train f1 score for dataset tripadvisor_restaurants_ukraine : 0.6895397998039918\n",
      "train f1 score for translated==True : 0.6603702652526116\n",
      "train f1 score for translated==False : 0.5975143820713118\n",
      "val f1 score for dataset rozetka : 0.44619896423053673\n",
      "val f1 score for dataset tripadvisor_hotels_ukraine : 0.5186679158558694\n",
      "val f1 score for dataset tripadvisor_restaurants_ukraine : 0.519639516381724\n",
      "val f1 score for translated==True : 0.4958045362128585\n",
      "val f1 score for translated==False : 0.4503920840686435\n",
      "------------------------------\n",
      "257/257 [==============================] - 8s 31ms/step\n",
      "33/33 [==============================] - 1s 31ms/step\n",
      "Epoch 3\n",
      "Overall train f1 : 0.768067030695579, overall val f1: 0.5104410488807866\n",
      "Train loss : 0.46967458724975586, val loss: 0.6920524835586548\n",
      "train f1 score for dataset rozetka : 0.7098709954238344\n",
      "train f1 score for dataset tripadvisor_hotels_ukraine : 0.8416482331377925\n",
      "train f1 score for dataset tripadvisor_restaurants_ukraine : 0.802034057143868\n",
      "train f1 score for translated==True : 0.7750572477738693\n",
      "train f1 score for translated==False : 0.7202720737249991\n",
      "val f1 score for dataset rozetka : 0.4770941636494127\n",
      "val f1 score for dataset tripadvisor_hotels_ukraine : 0.5266194932817494\n",
      "val f1 score for dataset tripadvisor_restaurants_ukraine : 0.5321294674612167\n",
      "val f1 score for translated==True : 0.5134153868889342\n",
      "val f1 score for translated==False : 0.4846440187533328\n",
      "------------------------------\n",
      "257/257 [==============================] - 8s 31ms/step\n",
      "33/33 [==============================] - 1s 31ms/step\n",
      "Epoch 4\n",
      "Overall train f1 : 0.8445971971150193, overall val f1: 0.5220520825905177\n",
      "Train loss : 0.38688528537750244, val loss: 0.7722910642623901\n",
      "train f1 score for dataset rozetka : 0.8070426781716401\n",
      "train f1 score for dataset tripadvisor_hotels_ukraine : 0.8982279419455393\n",
      "train f1 score for dataset tripadvisor_restaurants_ukraine : 0.8658310818641406\n",
      "train f1 score for translated==True : 0.8493841749467901\n",
      "train f1 score for translated==False : 0.8127785306106654\n",
      "val f1 score for dataset rozetka : 0.5067172786396689\n",
      "val f1 score for dataset tripadvisor_hotels_ukraine : 0.5176160100063011\n",
      "val f1 score for dataset tripadvisor_restaurants_ukraine : 0.5275094458162048\n",
      "val f1 score for translated==True : 0.5213464722134588\n",
      "val f1 score for translated==False : 0.5170705317107525\n",
      "------------------------------\n",
      "257/257 [==============================] - 8s 31ms/step\n",
      "33/33 [==============================] - 1s 31ms/step\n",
      "Epoch 5\n",
      "Overall train f1 : 0.8919789173241399, overall val f1: 0.5012494895258863\n",
      "Train loss : 0.31928518414497375, val loss: 0.8587079644203186\n",
      "train f1 score for dataset rozetka : 0.8533171972123295\n",
      "train f1 score for dataset tripadvisor_hotels_ukraine : 0.939737490531242\n",
      "train f1 score for dataset tripadvisor_restaurants_ukraine : 0.918820664679633\n",
      "train f1 score for translated==True : 0.8973733259264881\n",
      "train f1 score for translated==False : 0.8577048677848416\n",
      "val f1 score for dataset rozetka : 0.49464529695251863\n",
      "val f1 score for dataset tripadvisor_hotels_ukraine : 0.4900097674663817\n",
      "val f1 score for dataset tripadvisor_restaurants_ukraine : 0.5049029446478904\n",
      "val f1 score for translated==True : 0.5009657178483515\n",
      "val f1 score for translated==False : 0.4993308147121226\n",
      "------------------------------\n",
      "257/257 [==============================] - 8s 31ms/step\n",
      "33/33 [==============================] - 1s 31ms/step\n",
      "Epoch 6\n",
      "Overall train f1 : 0.9368794864335023, overall val f1: 0.525145874610454\n",
      "Train loss : 0.25832244753837585, val loss: 0.8970467448234558\n",
      "train f1 score for dataset rozetka : 0.9069525603335776\n",
      "train f1 score for dataset tripadvisor_hotels_ukraine : 0.9741157926099488\n",
      "train f1 score for dataset tripadvisor_restaurants_ukraine : 0.9584625312892001\n",
      "train f1 score for translated==True : 0.9416095580846555\n",
      "train f1 score for translated==False : 0.9072175326384663\n",
      "val f1 score for dataset rozetka : 0.5177125385340897\n",
      "val f1 score for dataset tripadvisor_hotels_ukraine : 0.5069455294851068\n",
      "val f1 score for dataset tripadvisor_restaurants_ukraine : 0.5268031626185172\n",
      "val f1 score for translated==True : 0.5247090652105814\n",
      "val f1 score for translated==False : 0.5203686297715684\n",
      "------------------------------\n",
      "257/257 [==============================] - 8s 31ms/step\n",
      "33/33 [==============================] - 1s 31ms/step\n",
      "Epoch 7\n",
      "Overall train f1 : 0.9568001298893327, overall val f1: 0.5239214920470961\n",
      "Train loss : 0.2072952687740326, val loss: 0.9669740200042725\n",
      "train f1 score for dataset rozetka : 0.9315006557710419\n",
      "train f1 score for dataset tripadvisor_hotels_ukraine : 0.9869057796641474\n",
      "train f1 score for dataset tripadvisor_restaurants_ukraine : 0.9761499875066526\n",
      "train f1 score for translated==True : 0.9611752406007874\n",
      "train f1 score for translated==False : 0.9298302764734263\n",
      "val f1 score for dataset rozetka : 0.52174371000304\n",
      "val f1 score for dataset tripadvisor_hotels_ukraine : 0.5156233081043364\n",
      "val f1 score for dataset tripadvisor_restaurants_ukraine : 0.5165645502568272\n",
      "val f1 score for translated==True : 0.5229946961601046\n",
      "val f1 score for translated==False : 0.5226837981420112\n",
      "------------------------------\n",
      "257/257 [==============================] - 8s 31ms/step\n",
      "33/33 [==============================] - 1s 31ms/step\n",
      "Epoch 8\n",
      "Overall train f1 : 0.9447721151343387, overall val f1: 0.48887954609894646\n",
      "Train loss : 0.17498110234737396, val loss: 1.1816797256469727\n",
      "train f1 score for dataset rozetka : 0.9225064246878436\n",
      "train f1 score for dataset tripadvisor_hotels_ukraine : 0.9666059970549654\n",
      "train f1 score for dataset tripadvisor_restaurants_ukraine : 0.9632880823715422\n",
      "train f1 score for translated==True : 0.9484616047369634\n",
      "train f1 score for translated==False : 0.9219822940517067\n",
      "val f1 score for dataset rozetka : 0.5010265773829976\n",
      "val f1 score for dataset tripadvisor_hotels_ukraine : 0.47047137740669004\n",
      "val f1 score for dataset tripadvisor_restaurants_ukraine : 0.4733118843322612\n",
      "val f1 score for translated==True : 0.48600655695349904\n",
      "val f1 score for translated==False : 0.5042166927120285\n",
      "------------------------------\n",
      "257/257 [==============================] - 8s 31ms/step\n",
      "33/33 [==============================] - 1s 31ms/step\n",
      "Epoch 9\n",
      "Overall train f1 : 0.9545565369693249, overall val f1: 0.4891205482724915\n",
      "Train loss : 0.15317216515541077, val loss: 1.2580101490020752\n",
      "train f1 score for dataset rozetka : 0.9363628952886482\n",
      "train f1 score for dataset tripadvisor_hotels_ukraine : 0.969467786030736\n",
      "train f1 score for dataset tripadvisor_restaurants_ukraine : 0.970182846258265\n",
      "train f1 score for translated==True : 0.957810944334275\n",
      "train f1 score for translated==False : 0.9344993383182901\n",
      "val f1 score for dataset rozetka : 0.504194012453113\n",
      "val f1 score for dataset tripadvisor_hotels_ukraine : 0.45989768464878394\n",
      "val f1 score for dataset tripadvisor_restaurants_ukraine : 0.4723466441587546\n",
      "val f1 score for translated==True : 0.4866834200628557\n",
      "val f1 score for translated==False : 0.5017521403093823\n",
      "------------------------------\n",
      "257/257 [==============================] - 8s 31ms/step\n",
      "33/33 [==============================] - 1s 31ms/step\n",
      "Epoch 10\n",
      "Overall train f1 : 0.9773184875926763, overall val f1: 0.5204524668607948\n",
      "Train loss : 0.1339506059885025, val loss: 1.197901725769043\n",
      "train f1 score for dataset rozetka : 0.9600005743759604\n",
      "train f1 score for dataset tripadvisor_hotels_ukraine : 0.9953567141592172\n",
      "train f1 score for dataset tripadvisor_restaurants_ukraine : 0.9924503410795511\n",
      "train f1 score for translated==True : 0.9805944605998251\n",
      "train f1 score for translated==False : 0.9577210831212712\n",
      "val f1 score for dataset rozetka : 0.5214078549252148\n",
      "val f1 score for dataset tripadvisor_hotels_ukraine : 0.5042197010200846\n",
      "val f1 score for dataset tripadvisor_restaurants_ukraine : 0.5123073166757482\n",
      "val f1 score for translated==True : 0.5196738633205398\n",
      "val f1 score for translated==False : 0.5203495913093792\n",
      "------------------------------\n",
      "Stopping early\n"
     ]
    }
   ],
   "source": [
    "dict_history, model = \\\n",
    "training_loop(model, epochs=20, batch_size=2048)"
   ]
  },
  {
   "cell_type": "code",
   "execution_count": 46,
   "id": "fc16eb41-29c6-443e-95a6-b263a76a65bc",
   "metadata": {},
   "outputs": [
    {
     "data": {
      "text/plain": [
       "{'train_f1_rozetka': [0.4232776927096845,\n",
       "  0.5081653044067274,\n",
       "  0.5878098577124721,\n",
       "  0.7098709954238344,\n",
       "  0.8070426781716401,\n",
       "  0.8533171972123295,\n",
       "  0.9069525603335776,\n",
       "  0.9315006557710419,\n",
       "  0.9225064246878436,\n",
       "  0.9363628952886482,\n",
       "  0.9600005743759604],\n",
       " 'train_f1_tripadvisor_hotels_ukraine': [0.5671197198506875,\n",
       "  0.6507407291380728,\n",
       "  0.7273935419737142,\n",
       "  0.8416482331377925,\n",
       "  0.8982279419455393,\n",
       "  0.939737490531242,\n",
       "  0.9741157926099488,\n",
       "  0.9869057796641474,\n",
       "  0.9666059970549654,\n",
       "  0.969467786030736,\n",
       "  0.9953567141592172],\n",
       " 'train_f1_tripadvisor_restaurants_ukraine': [0.5487436398863965,\n",
       "  0.625792644155786,\n",
       "  0.6895397998039918,\n",
       "  0.802034057143868,\n",
       "  0.8658310818641406,\n",
       "  0.918820664679633,\n",
       "  0.9584625312892001,\n",
       "  0.9761499875066526,\n",
       "  0.9632880823715422,\n",
       "  0.970182846258265,\n",
       "  0.9924503410795511],\n",
       " 'train_f1_translated==True': [0.5118610493526641,\n",
       "  0.5904143725117967,\n",
       "  0.6603702652526116,\n",
       "  0.7750572477738693,\n",
       "  0.8493841749467901,\n",
       "  0.8973733259264881,\n",
       "  0.9416095580846555,\n",
       "  0.9611752406007874,\n",
       "  0.9484616047369634,\n",
       "  0.957810944334275,\n",
       "  0.9805944605998251],\n",
       " 'train_f1_translated==False': [0.4225770503526001,\n",
       "  0.5158154631380871,\n",
       "  0.5975143820713118,\n",
       "  0.7202720737249991,\n",
       "  0.8127785306106654,\n",
       "  0.8577048677848416,\n",
       "  0.9072175326384663,\n",
       "  0.9298302764734263,\n",
       "  0.9219822940517067,\n",
       "  0.9344993383182901,\n",
       "  0.9577210831212712],\n",
       " 'val_f1_rozetka': [0.3953096984931623,\n",
       "  0.4293629138614598,\n",
       "  0.44619896423053673,\n",
       "  0.4770941636494127,\n",
       "  0.5067172786396689,\n",
       "  0.49464529695251863,\n",
       "  0.5177125385340897,\n",
       "  0.52174371000304,\n",
       "  0.5010265773829976,\n",
       "  0.504194012453113,\n",
       "  0.5214078549252148],\n",
       " 'val_f1_tripadvisor_hotels_ukraine': [0.5169654923620361,\n",
       "  0.526805781569414,\n",
       "  0.5186679158558694,\n",
       "  0.5266194932817494,\n",
       "  0.5176160100063011,\n",
       "  0.4900097674663817,\n",
       "  0.5069455294851068,\n",
       "  0.5156233081043364,\n",
       "  0.47047137740669004,\n",
       "  0.45989768464878394,\n",
       "  0.5042197010200846],\n",
       " 'val_f1_tripadvisor_restaurants_ukraine': [0.504984875403558,\n",
       "  0.5261547185714857,\n",
       "  0.519639516381724,\n",
       "  0.5321294674612167,\n",
       "  0.5275094458162048,\n",
       "  0.5049029446478904,\n",
       "  0.5268031626185172,\n",
       "  0.5165645502568272,\n",
       "  0.4733118843322612,\n",
       "  0.4723466441587546,\n",
       "  0.5123073166757482],\n",
       " 'val_f1_translated==True': [0.47265954008217453,\n",
       "  0.4945017009845681,\n",
       "  0.4958045362128585,\n",
       "  0.5134153868889342,\n",
       "  0.5213464722134588,\n",
       "  0.5009657178483515,\n",
       "  0.5247090652105814,\n",
       "  0.5229946961601046,\n",
       "  0.48600655695349904,\n",
       "  0.4866834200628557,\n",
       "  0.5196738633205398],\n",
       " 'val_f1_translated==False': [0.39381832860777954,\n",
       "  0.4350110838282749,\n",
       "  0.4503920840686435,\n",
       "  0.4846440187533328,\n",
       "  0.5170705317107525,\n",
       "  0.4993308147121226,\n",
       "  0.5203686297715684,\n",
       "  0.5226837981420112,\n",
       "  0.5042166927120285,\n",
       "  0.5017521403093823,\n",
       "  0.5203495913093792],\n",
       " 'train_f1': [0.5015339615379424,\n",
       "  0.5815587285871928,\n",
       "  0.6525904664470112,\n",
       "  0.768067030695579,\n",
       "  0.8445971971150193,\n",
       "  0.8919789173241399,\n",
       "  0.9368794864335023,\n",
       "  0.9568001298893327,\n",
       "  0.9447721151343387,\n",
       "  0.9545565369693249,\n",
       "  0.9773184875926763],\n",
       " 'val_f1': [0.46369019139342305,\n",
       "  0.4880028852337695,\n",
       "  0.49076648433616193,\n",
       "  0.5104410488807866,\n",
       "  0.5220520825905177,\n",
       "  0.5012494895258863,\n",
       "  0.525145874610454,\n",
       "  0.5239214920470961,\n",
       "  0.48887954609894646,\n",
       "  0.4891205482724915,\n",
       "  0.5204524668607948],\n",
       " 'train_loss': [0.7821829915046692,\n",
       "  0.6079012751579285,\n",
       "  0.5444852709770203,\n",
       "  0.46967458724975586,\n",
       "  0.38688528537750244,\n",
       "  0.31928518414497375,\n",
       "  0.25832244753837585,\n",
       "  0.2072952687740326,\n",
       "  0.17498110234737396,\n",
       "  0.15317216515541077,\n",
       "  0.1339506059885025],\n",
       " 'val_loss': [0.6519105434417725,\n",
       "  0.6416930556297302,\n",
       "  0.6547550559043884,\n",
       "  0.6920524835586548,\n",
       "  0.7722910642623901,\n",
       "  0.8587079644203186,\n",
       "  0.8970467448234558,\n",
       "  0.9669740200042725,\n",
       "  1.1816797256469727,\n",
       "  1.2580101490020752,\n",
       "  1.197901725769043]}"
      ]
     },
     "execution_count": 46,
     "metadata": {},
     "output_type": "execute_result"
    }
   ],
   "source": [
    "dict_history"
   ]
  },
  {
   "cell_type": "markdown",
   "id": "b8d77413-4c00-4295-b7db-fe06dd7b23b5",
   "metadata": {},
   "source": [
    "# Show charts"
   ]
  },
  {
   "cell_type": "code",
   "execution_count": 47,
   "id": "b7f8ef02-623e-4ebb-8e1d-8da77c3ed9bc",
   "metadata": {},
   "outputs": [],
   "source": [
    "import seaborn as sns\n",
    "import matplotlib.pyplot as plt"
   ]
  },
  {
   "cell_type": "code",
   "execution_count": 48,
   "id": "521cf7cf-e1b2-42ce-8e95-5a2e61440247",
   "metadata": {},
   "outputs": [],
   "source": [
    "def plot_history(dict_history, columns):\n",
    "    plt.figure(figsize=(12,8))\n",
    "    for i in columns:\n",
    "        to_plot = dict_history[i]\n",
    "        plt.plot(range(len(to_plot)), to_plot, 'o-')\n",
    "    plt.xticks(range(len(to_plot)), range(len(to_plot)))\n",
    "    plt.xlabel('Epochs')\n",
    "    plt.legend(columns)"
   ]
  },
  {
   "cell_type": "code",
   "execution_count": 49,
   "id": "7c3ca35a-2166-4552-bc23-67c6bfe314d7",
   "metadata": {},
   "outputs": [
    {
     "data": {
      "image/png": "[encoded data removed]",
      "text/plain": [
       "<Figure size 1200x800 with 1 Axes>"
      ]
     },
     "metadata": {},
     "output_type": "display_data"
    }
   ],
   "source": [
    "plot_history(dict_history, ['val_loss', 'train_loss'])"
   ]
  },
  {
   "cell_type": "code",
   "execution_count": 50,
   "id": "09978e6c-1975-4fe9-b6ed-064e00c1809e",
   "metadata": {},
   "outputs": [
    {
     "data": {
      "image/png": "[encoded data removed]",
      "text/plain": [
       "<Figure size 1200x800 with 1 Axes>"
      ]
     },
     "metadata": {},
     "output_type": "display_data"
    }
   ],
   "source": [
    "plot_history(dict_history, ['val_f1', 'train_f1'])"
   ]
  },
  {
   "cell_type": "markdown",
   "id": "9763d7cb-3c09-425e-984f-7675f7fae0e9",
   "metadata": {},
   "source": [
    "# Evaluate model"
   ]
  },
  {
   "cell_type": "code",
   "execution_count": 51,
   "id": "4bb7e54e-5868-4379-8456-c3c5ef648c33",
   "metadata": {},
   "outputs": [
    {
     "name": "stdout",
     "output_type": "stream",
     "text": [
      "33/33 [==============================] - 1s 30ms/step\n"
     ]
    }
   ],
   "source": [
    "test_predictions = np.argmax(model.predict(test_x, batch_size=2048), axis=-1)"
   ]
  },
  {
   "cell_type": "code",
   "execution_count": 52,
   "id": "bc061fbf-e0a9-40be-8cb7-e356aef090d5",
   "metadata": {},
   "outputs": [
    {
     "name": "stdout",
     "output_type": "stream",
     "text": [
      "Overall test f1-score : 0.5277892537864977\n"
     ]
    }
   ],
   "source": [
    "test_f1 = f1_score(y_true=test_y, y_pred=test_predictions,\n",
    "                         average='macro')\n",
    "print(f'Overall test f1-score : {test_f1}')"
   ]
  },
  {
   "cell_type": "code",
   "execution_count": 53,
   "id": "24a4badc-8c22-4bdc-8fb2-f7f68dbb56b7",
   "metadata": {},
   "outputs": [
    {
     "name": "stdout",
     "output_type": "stream",
     "text": [
      "test f1 score for dataset rozetka : 0.5170935874512221\n",
      "test f1 score for dataset tripadvisor_hotels_ukraine : 0.5100050001894492\n",
      "test f1 score for dataset tripadvisor_restaurants_ukraine : 0.5340690352798076\n",
      "test f1 score for translated==True : 0.528218515604155\n",
      "test f1 score for translated==False : 0.516634922727219\n"
     ]
    }
   ],
   "source": [
    "test_results = evaluate_on_datasets(y_true=test_y, y_pred=test_predictions,split='test')\n",
    "                     "
   ]
  },
  {
   "cell_type": "markdown",
   "id": "5447ad8a-3695-499c-9fe3-6d6d9cc2834c",
   "metadata": {},
   "source": [
    "# Save history results"
   ]
  },
  {
   "cell_type": "code",
   "execution_count": 54,
   "id": "b1d1cb15-8dae-414b-80c9-cabbcfd4168d",
   "metadata": {},
   "outputs": [],
   "source": [
    "history = pd.DataFrame(dict_history)\n",
    "for k,v in test_results.items():\n",
    "    history[k] = v"
   ]
  },
  {
   "cell_type": "code",
   "execution_count": 55,
   "id": "b2fc4c15-4277-4913-8080-91cddcc4d734",
   "metadata": {},
   "outputs": [],
   "source": [
    "history['model'] = model_name"
   ]
  },
  {
   "cell_type": "code",
   "execution_count": 56,
   "id": "344fd96f-8e81-47b6-8332-0bb3892edfa4",
   "metadata": {},
   "outputs": [],
   "source": [
    "history.to_csv(\"/home/user/jupyter_notebooks/Ukranian-SA/notebooks/training/training_results_filtered.csv\", mode='a', header=None, index=None)"
   ]
  },
  {
   "cell_type": "markdown",
   "id": "8839b8c8-1909-4c80-a5d7-d29101cda54f",
   "metadata": {},
   "source": [
    "# Save model"
   ]
  },
  {
   "cell_type": "code",
   "execution_count": null,
   "id": "cf61010a-6dee-42b8-93a1-f9a02ebb4d07",
   "metadata": {},
   "outputs": [
    {
     "name": "stdout",
     "output_type": "stream",
     "text": [
      "WARNING:tensorflow:Compiled the loaded model, but the compiled metrics have yet to be built. `model.compile_metrics` will be empty until you train or evaluate the model.\n"
     ]
    }
   ],
   "source": [
    "model.save(f'/home/user/files_for_research_Vova/{model_name}.h5')"
   ]
  },
  {
   "cell_type": "code",
   "execution_count": null,
   "id": "1969d0d8-c079-41d2-a2fe-fbe770738392",
   "metadata": {},
   "outputs": [],
   "source": []
  }
 ],
 "metadata": {
  "kernelspec": {
   "display_name": "tensorflow_cuda12",
   "language": "python",
   "name": "tensorflow_cuda12"
  },
  "language_info": {
   "codemirror_mode": {
    "name": "ipython",
    "version": 3
   },
   "file_extension": ".py",
   "mimetype": "text/x-python",
   "name": "python",
   "nbconvert_exporter": "python",
   "pygments_lexer": "ipython3",
   "version": "3.8.10"
  }
 },
 "nbformat": 4,
 "nbformat_minor": 5
}
