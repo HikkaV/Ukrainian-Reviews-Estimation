{
 "cells": [
  {
   "cell_type": "code",
   "execution_count": 1,
   "id": "94761116-1530-448d-a1f6-593d90bec639",
   "metadata": {},
   "outputs": [
    {
     "name": "stdout",
     "output_type": "stream",
     "text": [
      "Collecting tokenizers\n",
      "  Downloading tokenizers-0.13.3-cp38-cp38-manylinux_2_17_x86_64.manylinux2014_x86_64.whl (7.8 MB)\n",
      "\u001b[2K     \u001b[90m━━━━━━━━━━━━━━━━━━━━━━━━━━━━━━━━━━━━━━━━\u001b[0m \u001b[32m7.8/7.8 MB\u001b[0m \u001b[31m10.8 MB/s\u001b[0m eta \u001b[36m0:00:00\u001b[0m00:01\u001b[0m00:01\u001b[0m\n",
      "\u001b[?25hInstalling collected packages: tokenizers\n",
      "Successfully installed tokenizers-0.13.3\n",
      "\u001b[33mWARNING: Running pip as the 'root' user can result in broken permissions and conflicting behaviour with the system package manager. It is recommended to use a virtual environment instead: https://pip.pypa.io/warnings/venv\u001b[0m\u001b[33m\n",
      "\u001b[0m"
     ]
    },
    {
     "name": "stderr",
     "output_type": "stream",
     "text": [
      "2023-05-08 08:52:08.442425: I tensorflow/core/platform/cpu_feature_guard.cc:194] This TensorFlow binary is optimized with oneAPI Deep Neural Network Library (oneDNN) to use the following CPU instructions in performance-critical operations:  SSE3 SSE4.1 SSE4.2 AVX\n",
      "To enable them in other operations, rebuild TensorFlow with the appropriate compiler flags.\n"
     ]
    }
   ],
   "source": [
    "!pip install tokenizers\n",
    "import tensorflow as tf\n",
    "from tokenizers import Tokenizer, models, pre_tokenizers, trainers, Regex\n",
    "import tokenizers\n",
    "import pandas as pd"
   ]
  },
  {
   "cell_type": "code",
   "execution_count": 2,
   "id": "fada8fbb-9dc2-4e9d-935d-2cb0d6684738",
   "metadata": {},
   "outputs": [],
   "source": [
    "model_name = 'bilstm_cnn2d'"
   ]
  },
  {
   "cell_type": "markdown",
   "id": "aa46fb49-08a8-4809-b697-680813299d47",
   "metadata": {},
   "source": [
    "# Load data"
   ]
  },
  {
   "cell_type": "code",
   "execution_count": 3,
   "id": "d01ad050-f023-4253-bc33-72c76bce3944",
   "metadata": {},
   "outputs": [],
   "source": [
    "df = pd.read_csv('/home/user/files_for_research_Vova/processed_data.csv',\\\n",
    "                 usecols=['review_translate',\n",
    "                                                            'dataset_name',\n",
    "                                                            'rating',\n",
    "                                                           'translated'])"
   ]
  },
  {
   "cell_type": "code",
   "execution_count": 4,
   "id": "99ee8e3a-2281-4ec1-8107-49e3ba47d2a9",
   "metadata": {},
   "outputs": [
    {
     "data": {
      "text/html": [
       "<div>\n",
       "<style scoped>\n",
       "    .dataframe tbody tr th:only-of-type {\n",
       "        vertical-align: middle;\n",
       "    }\n",
       "\n",
       "    .dataframe tbody tr th {\n",
       "        vertical-align: top;\n",
       "    }\n",
       "\n",
       "    .dataframe thead th {\n",
       "        text-align: right;\n",
       "    }\n",
       "</style>\n",
       "<table border=\"1\" class=\"dataframe\">\n",
       "  <thead>\n",
       "    <tr style=\"text-align: right;\">\n",
       "      <th></th>\n",
       "      <th>review_translate</th>\n",
       "      <th>rating</th>\n",
       "      <th>dataset_name</th>\n",
       "      <th>translated</th>\n",
       "    </tr>\n",
       "  </thead>\n",
       "  <tbody>\n",
       "    <tr>\n",
       "      <th>0</th>\n",
       "      <td>Якісна пластмаса , переворот 360 градусвв</td>\n",
       "      <td>5.0</td>\n",
       "      <td>rozetka</td>\n",
       "      <td>False</td>\n",
       "    </tr>\n",
       "    <tr>\n",
       "      <th>1</th>\n",
       "      <td>За такі гроші це самий топ</td>\n",
       "      <td>5.0</td>\n",
       "      <td>rozetka</td>\n",
       "      <td>False</td>\n",
       "    </tr>\n",
       "    <tr>\n",
       "      <th>2</th>\n",
       "      <td>За такі гроші - просто супер ! Рекомендую .</td>\n",
       "      <td>5.0</td>\n",
       "      <td>rozetka</td>\n",
       "      <td>False</td>\n",
       "    </tr>\n",
       "    <tr>\n",
       "      <th>3</th>\n",
       "      <td>Виконує свою роботу не погано . але що ви хоті...</td>\n",
       "      <td>4.0</td>\n",
       "      <td>rozetka</td>\n",
       "      <td>False</td>\n",
       "    </tr>\n",
       "    <tr>\n",
       "      <th>4</th>\n",
       "      <td>Купляв на стару сістему як основний під віндов...</td>\n",
       "      <td>4.0</td>\n",
       "      <td>rozetka</td>\n",
       "      <td>False</td>\n",
       "    </tr>\n",
       "  </tbody>\n",
       "</table>\n",
       "</div>"
      ],
      "text/plain": [
       "                                    review_translate  rating dataset_name  \\\n",
       "0          Якісна пластмаса , переворот 360 градусвв     5.0      rozetka   \n",
       "1                         За такі гроші це самий топ     5.0      rozetka   \n",
       "2        За такі гроші - просто супер ! Рекомендую .     5.0      rozetka   \n",
       "3  Виконує свою роботу не погано . але що ви хоті...     4.0      rozetka   \n",
       "4  Купляв на стару сістему як основний під віндов...     4.0      rozetka   \n",
       "\n",
       "   translated  \n",
       "0       False  \n",
       "1       False  \n",
       "2       False  \n",
       "3       False  \n",
       "4       False  "
      ]
     },
     "execution_count": 4,
     "metadata": {},
     "output_type": "execute_result"
    }
   ],
   "source": [
    "df.head()"
   ]
  },
  {
   "cell_type": "code",
   "execution_count": 5,
   "id": "870b0de2-18ef-42ce-9bd5-1ff68b8a1776",
   "metadata": {},
   "outputs": [],
   "source": [
    "subsets = pd.read_csv('/home/user/files_for_research_Vova/train_val_test_indices.csv')"
   ]
  },
  {
   "cell_type": "code",
   "execution_count": 6,
   "id": "778fb1c0-5396-480b-8ce5-e728d06fc3d8",
   "metadata": {},
   "outputs": [
    {
     "data": {
      "text/html": [
       "<div>\n",
       "<style scoped>\n",
       "    .dataframe tbody tr th:only-of-type {\n",
       "        vertical-align: middle;\n",
       "    }\n",
       "\n",
       "    .dataframe tbody tr th {\n",
       "        vertical-align: top;\n",
       "    }\n",
       "\n",
       "    .dataframe thead th {\n",
       "        text-align: right;\n",
       "    }\n",
       "</style>\n",
       "<table border=\"1\" class=\"dataframe\">\n",
       "  <thead>\n",
       "    <tr style=\"text-align: right;\">\n",
       "      <th></th>\n",
       "      <th>index</th>\n",
       "      <th>split</th>\n",
       "    </tr>\n",
       "  </thead>\n",
       "  <tbody>\n",
       "    <tr>\n",
       "      <th>0</th>\n",
       "      <td>0</td>\n",
       "      <td>train</td>\n",
       "    </tr>\n",
       "    <tr>\n",
       "      <th>1</th>\n",
       "      <td>1</td>\n",
       "      <td>test</td>\n",
       "    </tr>\n",
       "    <tr>\n",
       "      <th>2</th>\n",
       "      <td>2</td>\n",
       "      <td>train</td>\n",
       "    </tr>\n",
       "    <tr>\n",
       "      <th>3</th>\n",
       "      <td>3</td>\n",
       "      <td>train</td>\n",
       "    </tr>\n",
       "    <tr>\n",
       "      <th>4</th>\n",
       "      <td>4</td>\n",
       "      <td>train</td>\n",
       "    </tr>\n",
       "  </tbody>\n",
       "</table>\n",
       "</div>"
      ],
      "text/plain": [
       "   index  split\n",
       "0      0  train\n",
       "1      1   test\n",
       "2      2  train\n",
       "3      3  train\n",
       "4      4  train"
      ]
     },
     "execution_count": 6,
     "metadata": {},
     "output_type": "execute_result"
    }
   ],
   "source": [
    "subsets.head()"
   ]
  },
  {
   "cell_type": "code",
   "execution_count": 7,
   "id": "bb145e0a-2bf5-4004-b334-15433414769a",
   "metadata": {},
   "outputs": [],
   "source": [
    "subsets = subsets.merge(df[['dataset_name', 'translated']], left_on='index', right_index=True)"
   ]
  },
  {
   "cell_type": "markdown",
   "id": "2fe0c095-3a54-4967-994d-4117bf0ad6b1",
   "metadata": {},
   "source": [
    "# Filter data"
   ]
  },
  {
   "cell_type": "code",
   "execution_count": 8,
   "id": "644e66a2-4830-40b7-9b13-9eb38aed44f4",
   "metadata": {},
   "outputs": [],
   "source": [
    "bad_indices = pd.read_csv('/home/user/files_for_research_Vova/files_to_check.csv')"
   ]
  },
  {
   "cell_type": "code",
   "execution_count": 9,
   "id": "2bbd7d18-4c8e-4035-a971-c57dba152976",
   "metadata": {},
   "outputs": [],
   "source": [
    "subsets = subsets[~subsets.index.isin(bad_indices['id'].values)]"
   ]
  },
  {
   "cell_type": "code",
   "execution_count": 10,
   "id": "4e5d1659-306d-4f1e-a3b3-e7a7adfaf948",
   "metadata": {},
   "outputs": [],
   "source": [
    "df = df[~df.index.isin(bad_indices['id'].values)]"
   ]
  },
  {
   "cell_type": "code",
   "execution_count": 11,
   "id": "b26a6d87-e1cc-4d11-bf78-62c58df82b5f",
   "metadata": {},
   "outputs": [],
   "source": [
    "df, subsets = df.reset_index().drop(columns='index'), subsets.reset_index().drop(columns='index')"
   ]
  },
  {
   "cell_type": "markdown",
   "id": "f35025fc-9c2c-490e-9231-10f4b38e230b",
   "metadata": {},
   "source": [
    "# Load tokenizer"
   ]
  },
  {
   "cell_type": "code",
   "execution_count": 12,
   "id": "dc7ca142-1e37-49c2-b8b8-2d5f74ee98c8",
   "metadata": {},
   "outputs": [],
   "source": [
    "tokenizer = Tokenizer.from_file(\"/home/user/files_for_research_Vova/tokenizer_30k.json\")\n"
   ]
  },
  {
   "cell_type": "markdown",
   "id": "a86c13af-5e8f-49e4-b337-7b3a70163c1c",
   "metadata": {},
   "source": [
    "# Encode text"
   ]
  },
  {
   "cell_type": "code",
   "execution_count": 13,
   "id": "ef69c9c8-b050-4904-8e93-5e1b89361f8d",
   "metadata": {},
   "outputs": [],
   "source": [
    "import seaborn as sns\n",
    "import numpy as np"
   ]
  },
  {
   "cell_type": "code",
   "execution_count": 14,
   "id": "e2e913ba-749b-4161-a2db-0cb6af2b025c",
   "metadata": {},
   "outputs": [],
   "source": [
    "sns.set()"
   ]
  },
  {
   "cell_type": "code",
   "execution_count": 15,
   "id": "0dda1c9a-9961-4097-bd69-3e5bd58d6789",
   "metadata": {},
   "outputs": [],
   "source": [
    "df['review_translate'] = df['review_translate'].str.lower()"
   ]
  },
  {
   "cell_type": "code",
   "execution_count": 16,
   "id": "3151fe97-eded-408c-be0d-df2b49051e7c",
   "metadata": {},
   "outputs": [],
   "source": [
    "df['encoded'] = tokenizer.encode_batch(df['review_translate'].values)"
   ]
  },
  {
   "cell_type": "code",
   "execution_count": 17,
   "id": "8c01d676-5e85-4b7d-b7c0-5d99b8ba1d44",
   "metadata": {},
   "outputs": [],
   "source": [
    "df['encoded'] = df['encoded'].apply(lambda x: x.ids)"
   ]
  },
  {
   "cell_type": "code",
   "execution_count": 18,
   "id": "47ddda71-f140-49f7-89c8-fea94b8bcdfd",
   "metadata": {},
   "outputs": [
    {
     "name": "stderr",
     "output_type": "stream",
     "text": [
      "/tmp/ipykernel_1/3749403729.py:1: UserWarning: \n",
      "\n",
      "`distplot` is a deprecated function and will be removed in seaborn v0.14.0.\n",
      "\n",
      "Please adapt your code to use either `displot` (a figure-level function with\n",
      "similar flexibility) or `histplot` (an axes-level function for histograms).\n",
      "\n",
      "For a guide to updating your code to use the new functions, please see\n",
      "https://gist.github.com/mwaskom/de44147ed2974457ad6372750bbe5751\n",
      "\n",
      "  sns.distplot(np.log10(df['encoded'].apply(len)))\n"
     ]
    },
    {
     "data": {
      "text/plain": [
       "<AxesSubplot: xlabel='encoded', ylabel='Density'>"
      ]
     },
     "execution_count": 18,
     "metadata": {},
     "output_type": "execute_result"
    },
    {
     "data": {
      "image/png": "[encoded data removed]",
      "text/plain": [
       "<Figure size 640x480 with 1 Axes>"
      ]
     },
     "metadata": {},
     "output_type": "display_data"
    }
   ],
   "source": [
    "sns.distplot(np.log10(df['encoded'].apply(len)))"
   ]
  },
  {
   "cell_type": "code",
   "execution_count": 19,
   "id": "e81a0c0b-0dd0-4437-872e-0c13fc041b99",
   "metadata": {},
   "outputs": [
    {
     "data": {
      "text/plain": [
       "324.0"
      ]
     },
     "execution_count": 19,
     "metadata": {},
     "output_type": "execute_result"
    }
   ],
   "source": [
    "np.percentile(df['encoded'].apply(len), 99)"
   ]
  },
  {
   "cell_type": "code",
   "execution_count": 20,
   "id": "c680a61a-cee2-4fbd-9a97-17a9c7ec74a9",
   "metadata": {},
   "outputs": [],
   "source": [
    "encoded_tokens = df['encoded'].values"
   ]
  },
  {
   "cell_type": "code",
   "execution_count": 21,
   "id": "b3d6e285-87e6-4ce1-be8a-cb614270a8a4",
   "metadata": {},
   "outputs": [],
   "source": [
    "from itertools import chain"
   ]
  },
  {
   "cell_type": "code",
   "execution_count": 22,
   "id": "7f8c9fac-7ed8-45c3-8114-763b1ed0c138",
   "metadata": {},
   "outputs": [],
   "source": [
    "padded_tokens = tf.keras.preprocessing.sequence\\\n",
    ".pad_sequences(encoded_tokens, maxlen=300, padding=\"post\")\n"
   ]
  },
  {
   "cell_type": "code",
   "execution_count": 23,
   "id": "8137187b-fd7f-4199-883e-7ff778a94c0a",
   "metadata": {},
   "outputs": [
    {
     "data": {
      "text/plain": [
       "(655470, 300)"
      ]
     },
     "execution_count": 23,
     "metadata": {},
     "output_type": "execute_result"
    }
   ],
   "source": [
    "padded_tokens.shape"
   ]
  },
  {
   "cell_type": "markdown",
   "id": "5bc9a5b3-3794-4ab8-a16d-fa572ac9d2f6",
   "metadata": {},
   "source": [
    "# Get labels and split data"
   ]
  },
  {
   "cell_type": "code",
   "execution_count": 24,
   "id": "fbdb3b33-cbb6-4024-b683-8819ad6d7b3f",
   "metadata": {},
   "outputs": [],
   "source": [
    "mapping = dict([(i,c) for c,i in enumerate(df['rating'].unique())])"
   ]
  },
  {
   "cell_type": "code",
   "execution_count": 25,
   "id": "0d9dcd18-b69c-4b71-8f83-85f750be1daa",
   "metadata": {},
   "outputs": [],
   "source": [
    "y = df['rating'].map(mapping).values"
   ]
  },
  {
   "cell_type": "code",
   "execution_count": 26,
   "id": "abf0a14a-7050-4689-806f-dbe4f094f0d8",
   "metadata": {},
   "outputs": [],
   "source": [
    "num_classes = len(set(y))"
   ]
  },
  {
   "cell_type": "code",
   "execution_count": 27,
   "id": "59b5a397-faf0-43be-b498-a3d4af06fbc0",
   "metadata": {},
   "outputs": [],
   "source": [
    "train_indices, val_indices, test_indices = subsets[subsets['split']=='train'].index.tolist(),\\\n",
    "subsets[subsets['split']=='val'].index.tolist(),\\\n",
    "subsets[subsets['split']=='test'].index.tolist()\n"
   ]
  },
  {
   "cell_type": "code",
   "execution_count": 28,
   "id": "7564a2e1-11d7-44cf-803b-03b4eb3b0dce",
   "metadata": {},
   "outputs": [],
   "source": [
    "train_y, val_y, test_y = y[train_indices], y[val_indices], y[test_indices]"
   ]
  },
  {
   "cell_type": "code",
   "execution_count": 29,
   "id": "39adcfe4-0446-4673-bbad-dfdc972fb7d0",
   "metadata": {},
   "outputs": [],
   "source": [
    "train_x, val_x, test_x = padded_tokens[train_indices], padded_tokens[val_indices],\\\n",
    "padded_tokens[test_indices]"
   ]
  },
  {
   "cell_type": "code",
   "execution_count": 30,
   "id": "bce92ef9-7a5c-4f99-86e0-18544e93101f",
   "metadata": {},
   "outputs": [
    {
     "data": {
      "text/plain": [
       "(524346, 300)"
      ]
     },
     "execution_count": 30,
     "metadata": {},
     "output_type": "execute_result"
    }
   ],
   "source": [
    "train_x.shape"
   ]
  },
  {
   "cell_type": "markdown",
   "id": "a0f0ac0e-11a7-436a-9fd3-cfa9229d7ec8",
   "metadata": {},
   "source": [
    "# Create  model"
   ]
  },
  {
   "cell_type": "code",
   "execution_count": 31,
   "id": "9f289fe1-9416-4bba-90c9-5422ebd88c1d",
   "metadata": {},
   "outputs": [
    {
     "name": "stderr",
     "output_type": "stream",
     "text": [
      "2023-05-08 08:53:04.358471: I tensorflow/core/platform/cpu_feature_guard.cc:194] This TensorFlow binary is optimized with oneAPI Deep Neural Network Library (oneDNN) to use the following CPU instructions in performance-critical operations:  SSE3 SSE4.1 SSE4.2 AVX\n",
      "To enable them in other operations, rebuild TensorFlow with the appropriate compiler flags.\n",
      "2023-05-08 08:53:04.516807: I tensorflow/core/common_runtime/gpu/gpu_device.cc:1621] Created device /job:localhost/replica:0/task:0/device:GPU:0 with 14148 MB memory:  -> device: 0, name: NVIDIA RTX A4000, pci bus id: 0000:03:00.0, compute capability: 8.6\n"
     ]
    }
   ],
   "source": [
    "tf.keras.backend.clear_session()\n",
    "np.random.seed(0)\n",
    "tf.random.set_seed(0)\n",
    "input_layer = tf.keras.layers.Input(shape=(300,), name='input')\n",
    "word_embedding = tf.keras.layers.Embedding(input_dim=tokenizer.get_vocab_size(),\n",
    "                                                   output_dim=300,\n",
    "                                                   trainable=True,\n",
    "                                           name='embedding',\n",
    "                                           mask_zero=True)\n",
    "\n",
    "dropout = tf.keras.layers.SpatialDropout1D(0.3)\n",
    "dropout_lstm = tf.keras.layers.Dropout(0.2, name='dropout_lstm')\n",
    "\n",
    "bilstm = tf.keras.layers.Bidirectional(\\\n",
    "                                       tf.keras.layers.LSTM(300, name='bilstm', \\\n",
    "                                                            return_sequences=True))\n",
    "conv2d = tf.keras.layers.Conv2D(filters=100, kernel_size=(3,3), activation='relu',\n",
    "                               padding='valid', strides=1, name='conv2d')\n",
    "\n",
    "max_pool = tf.keras.layers.MaxPool2D(strides=(2,2), name='max_pool_2d')\n",
    "\n",
    "embedded = dropout(word_embedding(input_layer))\n",
    "hidden_states = bilstm(embedded)\n",
    "convolved = conv2d(tf.expand_dims(dropout_lstm(hidden_states), axis=-1))\n",
    "pooled = max_pool(convolved)\n",
    "output = tf.keras.layers.Dense(num_classes, activation='softmax', name='output')(tf.keras.layers.Flatten()(pooled))\n",
    "model = tf.keras.Model(input_layer, output)"
   ]
  },
  {
   "cell_type": "markdown",
   "id": "5df15e13-921d-4eaa-b433-7500dc153a5f",
   "metadata": {},
   "source": [
    "# Compile model"
   ]
  },
  {
   "cell_type": "code",
   "execution_count": 32,
   "id": "a272e87d-a23a-4940-81fa-569451e2ea5c",
   "metadata": {},
   "outputs": [],
   "source": [
    "model.compile(loss='sparse_categorical_crossentropy', \\\n",
    "              optimizer=tf.keras.optimizers.Adam(),\n",
    "             metrics=['acc'])"
   ]
  },
  {
   "cell_type": "code",
   "execution_count": 33,
   "id": "7baa74f7-21cf-42b1-83fa-bb1bed688e6e",
   "metadata": {},
   "outputs": [
    {
     "name": "stdout",
     "output_type": "stream",
     "text": [
      "Model: \"model\"\n",
      "_________________________________________________________________\n",
      " Layer (type)                Output Shape              Param #   \n",
      "=================================================================\n",
      " input (InputLayer)          [(None, 300)]             0         \n",
      "                                                                 \n",
      " embedding (Embedding)       (None, 300, 300)          9000000   \n",
      "                                                                 \n",
      " spatial_dropout1d (SpatialD  (None, 300, 300)         0         \n",
      " ropout1D)                                                       \n",
      "                                                                 \n",
      " bidirectional (Bidirectiona  (None, 300, 600)         1442400   \n",
      " l)                                                              \n",
      "                                                                 \n",
      " dropout_lstm (Dropout)      (None, 300, 600)          0         \n",
      "                                                                 \n",
      " tf.expand_dims (TFOpLambda)  (None, 300, 600, 1)      0         \n",
      "                                                                 \n",
      " conv2d (Conv2D)             (None, 298, 598, 100)     1000      \n",
      "                                                                 \n",
      " max_pool_2d (MaxPooling2D)  (None, 149, 299, 100)     0         \n",
      "                                                                 \n",
      " flatten (Flatten)           (None, 4455100)           0         \n",
      "                                                                 \n",
      " output (Dense)              (None, 5)                 22275505  \n",
      "                                                                 \n",
      "=================================================================\n",
      "Total params: 32,718,905\n",
      "Trainable params: 32,718,905\n",
      "Non-trainable params: 0\n",
      "_________________________________________________________________\n"
     ]
    }
   ],
   "source": [
    "model.summary()"
   ]
  },
  {
   "cell_type": "markdown",
   "id": "d9db9424-2b20-4d10-8da4-0c55152abe57",
   "metadata": {},
   "source": [
    "# Early stopping"
   ]
  },
  {
   "cell_type": "code",
   "execution_count": 34,
   "id": "9c9801fe-9cd2-47e2-9cad-58efbf4205a7",
   "metadata": {},
   "outputs": [],
   "source": [
    "import operator\n",
    "class EarlyStopping:\n",
    "    def __init__(self, tolerance=5, mode='min'):\n",
    "        assert mode in ['min','max'], 'Mode should be min or max'\n",
    "        self.mode = operator.lt if mode=='min' else operator.gt \n",
    "        self.tolerance = tolerance\n",
    "        self.counter = 0\n",
    "        self.early_stop = False\n",
    "        self.extremum_value = None\n",
    "        self.best_model = None\n",
    "    \n",
    "    @staticmethod\n",
    "    def copy_model(model):\n",
    "        copied_model = tf.keras.models.clone_model(model)\n",
    "        copied_model.set_weights(model.get_weights())\n",
    "        return copied_model\n",
    "        \n",
    "    def __call__(self, val, model):\n",
    "        if self.extremum_value is None:\n",
    "            self.extremum_value = val\n",
    "            self.best_model = self.copy_model(model)\n",
    "        else:\n",
    "            if not self.mode(val, self.extremum_value):\n",
    "                self.counter+=1\n",
    "            else:\n",
    "                self.extremum_value = val\n",
    "                self.best_model = self.copy_model(model)\n",
    "                self.counter = 0\n",
    "        \n",
    "        if self.counter==self.tolerance:\n",
    "            self.early_stop=True"
   ]
  },
  {
   "cell_type": "markdown",
   "id": "7676e473-8116-488e-990d-dc7937d9119c",
   "metadata": {},
   "source": [
    "# Train model"
   ]
  },
  {
   "cell_type": "code",
   "execution_count": 35,
   "id": "eed6de2d-be45-45cd-af31-b9042d1a20af",
   "metadata": {},
   "outputs": [],
   "source": [
    "from sklearn.metrics import f1_score"
   ]
  },
  {
   "cell_type": "code",
   "execution_count": 36,
   "id": "fbe8fc41-6661-4a56-ad5d-d1a4ed3e53f5",
   "metadata": {},
   "outputs": [],
   "source": [
    "def evaluate_on_datasets(y_true, y_pred, split='val'):\n",
    "    d = {}\n",
    "    for dataset_name in subsets['dataset_name'].unique():\n",
    "            idx = subsets[subsets['split']==split].copy()\n",
    "            idx['index'] = list(range(idx.shape[0]))\n",
    "            idx = idx[(idx['dataset_name']==dataset_name)]\\\n",
    "            ['index'].values.tolist()\n",
    "            score = f1_score(y_true=y_true[idx], y_pred=y_pred[idx],\n",
    "                                 average='macro')\n",
    "            print(f'{split} f1 score for dataset {dataset_name} : {score}')\n",
    "            d[f'{split}_f1_{dataset_name}'] = score\n",
    "            \n",
    "    for flag in [True, False]:\n",
    "        idx = subsets[subsets['split']==split].copy()\n",
    "        idx['index'] = list(range(idx.shape[0]))\n",
    "        idx = idx[idx['translated']==flag]['index'].values.tolist()\n",
    "        score = f1_score(y_true=y_true[idx], y_pred=y_pred[idx],\n",
    "                                 average='macro')\n",
    "        print(f'{split} f1 score for translated=={flag} : {score}')\n",
    "        d[f'{split}_f1_translated=={flag}'] = score\n",
    "    return d"
   ]
  },
  {
   "cell_type": "code",
   "execution_count": 37,
   "id": "f43c7824-1d7a-4fc1-b095-53902f428b3f",
   "metadata": {},
   "outputs": [],
   "source": [
    "def update_history(history, d):\n",
    "    for key, value in d.items():\n",
    "        res = history.get(key, [])\n",
    "        res.append(value)\n",
    "        history[key] = res"
   ]
  },
  {
   "cell_type": "code",
   "execution_count": 38,
   "id": "39c90c92-f6c9-4f00-94f0-582ebdf71912",
   "metadata": {},
   "outputs": [],
   "source": [
    "early_stopping = EarlyStopping(mode='max', tolerance=4)"
   ]
  },
  {
   "cell_type": "code",
   "execution_count": 39,
   "id": "e4354a40-79f8-4991-a26e-6d2422a4b9dd",
   "metadata": {},
   "outputs": [],
   "source": [
    "def training_loop(model, epochs=10, batch_size=128):\n",
    "    dict_history = {}\n",
    "    for i in range(epochs):\n",
    "        \n",
    "        #train model\n",
    "        history = model.fit(train_x, train_y, validation_data=(val_x, val_y), \n",
    "          epochs=1, batch_size=batch_size,\n",
    "                           verbose=0)\n",
    "        train_loss, val_loss = history.history['loss'][-1], history.history['val_loss'][-1]\n",
    "        \n",
    "        #evaluate model\n",
    "        train_prediction = np.argmax(model.predict(train_x, batch_size=batch_size), axis=-1)\n",
    "        val_prediction = np.argmax(model.predict(val_x, batch_size=batch_size), axis=-1)\n",
    "        train_f1 = f1_score(y_true=train_y, y_pred=train_prediction,\n",
    "                           average='macro')\n",
    "        val_f1 = f1_score(y_true=val_y, y_pred=val_prediction,\n",
    "                         average='macro')\n",
    "        \n",
    "        #printing evaluation\n",
    "        print(f'Epoch {i}')\n",
    "        print(f'Overall train f1 : {train_f1}, overall val f1: {val_f1}')\n",
    "        print(f'Train loss : {train_loss}, val loss: {val_loss}')\n",
    "        d_train = evaluate_on_datasets(y_true=train_y, y_pred=train_prediction, split='train')\n",
    "        d_val = evaluate_on_datasets(y_true=val_y, y_pred=val_prediction, split='val')\n",
    "            \n",
    "        if i!=epochs-1:\n",
    "            print('-'*30)\n",
    "            \n",
    "        #save history\n",
    "        update_history(dict_history, d_train)\n",
    "        update_history(dict_history, d_val)\n",
    "        update_history(dict_history, {'train_f1': train_f1})\n",
    "        update_history(dict_history, {'val_f1': val_f1})\n",
    "        update_history(dict_history, {'train_loss': train_loss})\n",
    "        update_history(dict_history, {'val_loss': val_loss})\n",
    "        #early stopping\n",
    "        \n",
    "        early_stopping(val_f1, model)\n",
    "        if early_stopping.early_stop:\n",
    "            print('Stopping early')\n",
    "            model = early_stopping.best_model\n",
    "            break\n",
    "        \n",
    "    return dict_history, model"
   ]
  },
  {
   "cell_type": "code",
   "execution_count": 40,
   "id": "73c7d40c-fd2c-41cc-9938-ee4f58a8a0b5",
   "metadata": {},
   "outputs": [
    {
     "name": "stderr",
     "output_type": "stream",
     "text": [
      "2023-05-08 08:53:15.952373: W tensorflow/core/common_runtime/type_inference.cc:339] Type inference failed. This indicates an invalid graph that escaped type checking. Error message: INVALID_ARGUMENT: expected compatible input types, but input 1:\n",
      "type_id: TFT_OPTIONAL\n",
      "args {\n",
      "  type_id: TFT_PRODUCT\n",
      "  args {\n",
      "    type_id: TFT_TENSOR\n",
      "    args {\n",
      "      type_id: TFT_INT32\n",
      "    }\n",
      "  }\n",
      "}\n",
      " is neither a subtype nor a supertype of the combined inputs preceding it:\n",
      "type_id: TFT_OPTIONAL\n",
      "args {\n",
      "  type_id: TFT_PRODUCT\n",
      "  args {\n",
      "    type_id: TFT_TENSOR\n",
      "    args {\n",
      "      type_id: TFT_FLOAT\n",
      "    }\n",
      "  }\n",
      "}\n",
      "\n",
      "\twhile inferring type of node 'cond_42/output/_24'\n",
      "2023-05-08 08:53:16.307370: I tensorflow/compiler/xla/stream_executor/cuda/cuda_dnn.cc:428] Loaded cuDNN version 8700\n",
      "2023-05-08 08:53:17.149426: I tensorflow/compiler/xla/stream_executor/cuda/cuda_blas.cc:648] TensorFloat-32 will be used for the matrix multiplication. This will only be logged once.\n",
      "2023-05-08 08:53:17.205681: I tensorflow/compiler/xla/service/service.cc:173] XLA service 0x7f86645282b0 initialized for platform CUDA (this does not guarantee that XLA will be used). Devices:\n",
      "2023-05-08 08:53:17.205767: I tensorflow/compiler/xla/service/service.cc:181]   StreamExecutor device (0): NVIDIA RTX A4000, Compute Capability 8.6\n",
      "2023-05-08 08:53:17.213095: I tensorflow/compiler/mlir/tensorflow/utils/dump_mlir_util.cc:268] disabling MLIR crash reproducer, set env var `MLIR_CRASH_REPRODUCER_DIRECTORY` to enable.\n",
      "2023-05-08 08:53:17.375200: I tensorflow/compiler/jit/xla_compilation_cache.cc:480] Compiled cluster using XLA!  This line is logged at most once for the lifetime of the process.\n"
     ]
    },
    {
     "name": "stdout",
     "output_type": "stream",
     "text": [
      "16386/16386 [==============================] - 746s 45ms/step\n",
      "2049/2049 [==============================] - 93s 45ms/step\n",
      "Epoch 0\n",
      "Overall train f1 : 0.5626150474431393, overall val f1: 0.5145060861920924\n",
      "Train loss : 0.6525354385375977, val loss: 0.603744387626648\n",
      "train f1 score for dataset rozetka : 0.4919291833649191\n",
      "train f1 score for dataset tripadvisor_hotels_ukraine : 0.6115788968557923\n",
      "train f1 score for dataset tripadvisor_restaurants_ukraine : 0.6103770647255737\n",
      "train f1 score for translated==True : 0.5720351474717565\n",
      "train f1 score for translated==False : 0.4918744242727797\n",
      "val f1 score for dataset rozetka : 0.454737564299821\n",
      "val f1 score for dataset tripadvisor_hotels_ukraine : 0.5567701987370565\n",
      "val f1 score for dataset tripadvisor_restaurants_ukraine : 0.5526869077032546\n",
      "val f1 score for translated==True : 0.5217069953893467\n",
      "val f1 score for translated==False : 0.4571982643499929\n",
      "------------------------------\n",
      "16386/16386 [==============================] - 737s 45ms/step\n",
      "2049/2049 [==============================] - 93s 45ms/step\n",
      "Epoch 1\n",
      "Overall train f1 : 0.6393118399959611, overall val f1: 0.5286697536865826\n",
      "Train loss : 0.5554052591323853, val loss: 0.6130883693695068\n",
      "train f1 score for dataset rozetka : 0.5776711251245186\n",
      "train f1 score for dataset tripadvisor_hotels_ukraine : 0.6929057685868598\n",
      "train f1 score for dataset tripadvisor_restaurants_ukraine : 0.6801703876441\n",
      "train f1 score for translated==True : 0.6468246205386068\n",
      "train f1 score for translated==False : 0.5851133196155756\n",
      "val f1 score for dataset rozetka : 0.481916767554582\n",
      "val f1 score for dataset tripadvisor_hotels_ukraine : 0.5583121601489416\n",
      "val f1 score for dataset tripadvisor_restaurants_ukraine : 0.5587299356021199\n",
      "val f1 score for translated==True : 0.5341315046810795\n",
      "val f1 score for translated==False : 0.48448032653531026\n",
      "------------------------------\n",
      "16386/16386 [==============================] - 742s 45ms/step\n",
      "2049/2049 [==============================] - 94s 46ms/step\n",
      "Epoch 2\n",
      "Overall train f1 : 0.7140716038613164, overall val f1: 0.532294069634091\n",
      "Train loss : 0.489879846572876, val loss: 0.640938401222229\n",
      "train f1 score for dataset rozetka : 0.6623924613346129\n",
      "train f1 score for dataset tripadvisor_hotels_ukraine : 0.7741111098545448\n",
      "train f1 score for dataset tripadvisor_restaurants_ukraine : 0.7451994725737683\n",
      "train f1 score for translated==True : 0.720643581765453\n",
      "train f1 score for translated==False : 0.6683832459809996\n",
      "val f1 score for dataset rozetka : 0.4970283069371602\n",
      "val f1 score for dataset tripadvisor_hotels_ukraine : 0.5475880731097797\n",
      "val f1 score for dataset tripadvisor_restaurants_ukraine : 0.5576218744739083\n",
      "val f1 score for translated==True : 0.5352253251309724\n",
      "val f1 score for translated==False : 0.5047572830537995\n",
      "------------------------------\n",
      "16386/16386 [==============================] - 743s 45ms/step\n",
      "2049/2049 [==============================] - 92s 45ms/step\n",
      "Epoch 3\n",
      "Overall train f1 : 0.7685198382243426, overall val f1: 0.5330419294473957\n",
      "Train loss : 0.4298974573612213, val loss: 0.6741308569908142\n",
      "train f1 score for dataset rozetka : 0.721052333443663\n",
      "train f1 score for dataset tripadvisor_hotels_ukraine : 0.8272645265423699\n",
      "train f1 score for dataset tripadvisor_restaurants_ukraine : 0.7969760832487865\n",
      "train f1 score for translated==True : 0.7741983070385309\n",
      "train f1 score for translated==False : 0.729570629536928\n",
      "val f1 score for dataset rozetka : 0.4998092546409193\n",
      "val f1 score for dataset tripadvisor_hotels_ukraine : 0.5498052191263668\n",
      "val f1 score for dataset tripadvisor_restaurants_ukraine : 0.5555521529547385\n",
      "val f1 score for translated==True : 0.5361934252757711\n",
      "val f1 score for translated==False : 0.5036000140958579\n",
      "------------------------------\n",
      "16386/16386 [==============================] - 741s 45ms/step\n",
      "2049/2049 [==============================] - 93s 46ms/step\n",
      "Epoch 4\n",
      "Overall train f1 : 0.8064015081934016, overall val f1: 0.5308128465676771\n",
      "Train loss : 0.3804885149002075, val loss: 0.7322173118591309\n",
      "train f1 score for dataset rozetka : 0.7645328275774987\n",
      "train f1 score for dataset tripadvisor_hotels_ukraine : 0.8591884438724484\n",
      "train f1 score for dataset tripadvisor_restaurants_ukraine : 0.8311813793545261\n",
      "train f1 score for translated==True : 0.8117902896191369\n",
      "train f1 score for translated==False : 0.7696551812169276\n",
      "val f1 score for dataset rozetka : 0.5061121283113177\n",
      "val f1 score for dataset tripadvisor_hotels_ukraine : 0.5285209732836759\n",
      "val f1 score for dataset tripadvisor_restaurants_ukraine : 0.5502370928858428\n",
      "val f1 score for translated==True : 0.5327412113888153\n",
      "val f1 score for translated==False : 0.5093923155145966\n",
      "------------------------------\n",
      "16386/16386 [==============================] - 744s 45ms/step\n",
      "2049/2049 [==============================] - 94s 46ms/step\n",
      "Epoch 5\n",
      "Overall train f1 : 0.8394569019851815, overall val f1: 0.5305318641763365\n",
      "Train loss : 0.34358906745910645, val loss: 0.7652146220207214\n",
      "train f1 score for dataset rozetka : 0.7995590139215302\n",
      "train f1 score for dataset tripadvisor_hotels_ukraine : 0.8932621023368744\n",
      "train f1 score for dataset tripadvisor_restaurants_ukraine : 0.8633543024751775\n",
      "train f1 score for translated==True : 0.8445416970808877\n",
      "train f1 score for translated==False : 0.8058919488798635\n",
      "val f1 score for dataset rozetka : 0.5083728123397501\n",
      "val f1 score for dataset tripadvisor_hotels_ukraine : 0.5250655539392627\n",
      "val f1 score for dataset tripadvisor_restaurants_ukraine : 0.5484369097638686\n",
      "val f1 score for translated==True : 0.531881387506187\n",
      "val f1 score for translated==False : 0.5133068678488727\n",
      "------------------------------\n",
      "16386/16386 [==============================] - 740s 45ms/step\n",
      "2049/2049 [==============================] - 93s 46ms/step\n",
      "Epoch 6\n",
      "Overall train f1 : 0.8542911371417059, overall val f1: 0.5274815846748468\n",
      "Train loss : 0.3163447678089142, val loss: 0.7765619158744812\n",
      "train f1 score for dataset rozetka : 0.8208402074122165\n",
      "train f1 score for dataset tripadvisor_hotels_ukraine : 0.8978881655168729\n",
      "train f1 score for dataset tripadvisor_restaurants_ukraine : 0.8747784622626094\n",
      "train f1 score for translated==True : 0.858674072411598\n",
      "train f1 score for translated==False : 0.8254653225418002\n",
      "val f1 score for dataset rozetka : 0.5082663058733481\n",
      "val f1 score for dataset tripadvisor_hotels_ukraine : 0.5217941837687309\n",
      "val f1 score for dataset tripadvisor_restaurants_ukraine : 0.5422046694080407\n",
      "val f1 score for translated==True : 0.5289037905063977\n",
      "val f1 score for translated==False : 0.5109101726006868\n",
      "------------------------------\n",
      "16386/16386 [==============================] - 744s 45ms/step\n",
      "2049/2049 [==============================] - 93s 45ms/step\n",
      "Epoch 7\n",
      "Overall train f1 : 0.869086232275625, overall val f1: 0.5250958330805712\n",
      "Train loss : 0.2961478531360626, val loss: 0.8076961040496826\n",
      "train f1 score for dataset rozetka : 0.8364279360453718\n",
      "train f1 score for dataset tripadvisor_hotels_ukraine : 0.9121619208318344\n",
      "train f1 score for dataset tripadvisor_restaurants_ukraine : 0.8894820940018372\n",
      "train f1 score for translated==True : 0.8732253731835655\n",
      "train f1 score for translated==False : 0.841987431242685\n",
      "val f1 score for dataset rozetka : 0.5124252863124996\n",
      "val f1 score for dataset tripadvisor_hotels_ukraine : 0.5101318012205616\n",
      "val f1 score for dataset tripadvisor_restaurants_ukraine : 0.5366670104191364\n",
      "val f1 score for translated==True : 0.5264527986176158\n",
      "val f1 score for translated==False : 0.5093385688851113\n",
      "------------------------------\n",
      "Stopping early\n"
     ]
    }
   ],
   "source": [
    "dict_history, model = \\\n",
    "training_loop(model, epochs=20, batch_size=32)"
   ]
  },
  {
   "cell_type": "code",
   "execution_count": 41,
   "id": "fc16eb41-29c6-443e-95a6-b263a76a65bc",
   "metadata": {},
   "outputs": [
    {
     "data": {
      "text/plain": [
       "{'train_f1_rozetka': [0.4919291833649191,\n",
       "  0.5776711251245186,\n",
       "  0.6623924613346129,\n",
       "  0.721052333443663,\n",
       "  0.7645328275774987,\n",
       "  0.7995590139215302,\n",
       "  0.8208402074122165,\n",
       "  0.8364279360453718],\n",
       " 'train_f1_tripadvisor_hotels_ukraine': [0.6115788968557923,\n",
       "  0.6929057685868598,\n",
       "  0.7741111098545448,\n",
       "  0.8272645265423699,\n",
       "  0.8591884438724484,\n",
       "  0.8932621023368744,\n",
       "  0.8978881655168729,\n",
       "  0.9121619208318344],\n",
       " 'train_f1_tripadvisor_restaurants_ukraine': [0.6103770647255737,\n",
       "  0.6801703876441,\n",
       "  0.7451994725737683,\n",
       "  0.7969760832487865,\n",
       "  0.8311813793545261,\n",
       "  0.8633543024751775,\n",
       "  0.8747784622626094,\n",
       "  0.8894820940018372],\n",
       " 'train_f1_translated==True': [0.5720351474717565,\n",
       "  0.6468246205386068,\n",
       "  0.720643581765453,\n",
       "  0.7741983070385309,\n",
       "  0.8117902896191369,\n",
       "  0.8445416970808877,\n",
       "  0.858674072411598,\n",
       "  0.8732253731835655],\n",
       " 'train_f1_translated==False': [0.4918744242727797,\n",
       "  0.5851133196155756,\n",
       "  0.6683832459809996,\n",
       "  0.729570629536928,\n",
       "  0.7696551812169276,\n",
       "  0.8058919488798635,\n",
       "  0.8254653225418002,\n",
       "  0.841987431242685],\n",
       " 'val_f1_rozetka': [0.454737564299821,\n",
       "  0.481916767554582,\n",
       "  0.4970283069371602,\n",
       "  0.4998092546409193,\n",
       "  0.5061121283113177,\n",
       "  0.5083728123397501,\n",
       "  0.5082663058733481,\n",
       "  0.5124252863124996],\n",
       " 'val_f1_tripadvisor_hotels_ukraine': [0.5567701987370565,\n",
       "  0.5583121601489416,\n",
       "  0.5475880731097797,\n",
       "  0.5498052191263668,\n",
       "  0.5285209732836759,\n",
       "  0.5250655539392627,\n",
       "  0.5217941837687309,\n",
       "  0.5101318012205616],\n",
       " 'val_f1_tripadvisor_restaurants_ukraine': [0.5526869077032546,\n",
       "  0.5587299356021199,\n",
       "  0.5576218744739083,\n",
       "  0.5555521529547385,\n",
       "  0.5502370928858428,\n",
       "  0.5484369097638686,\n",
       "  0.5422046694080407,\n",
       "  0.5366670104191364],\n",
       " 'val_f1_translated==True': [0.5217069953893467,\n",
       "  0.5341315046810795,\n",
       "  0.5352253251309724,\n",
       "  0.5361934252757711,\n",
       "  0.5327412113888153,\n",
       "  0.531881387506187,\n",
       "  0.5289037905063977,\n",
       "  0.5264527986176158],\n",
       " 'val_f1_translated==False': [0.4571982643499929,\n",
       "  0.48448032653531026,\n",
       "  0.5047572830537995,\n",
       "  0.5036000140958579,\n",
       "  0.5093923155145966,\n",
       "  0.5133068678488727,\n",
       "  0.5109101726006868,\n",
       "  0.5093385688851113],\n",
       " 'train_f1': [0.5626150474431393,\n",
       "  0.6393118399959611,\n",
       "  0.7140716038613164,\n",
       "  0.7685198382243426,\n",
       "  0.8064015081934016,\n",
       "  0.8394569019851815,\n",
       "  0.8542911371417059,\n",
       "  0.869086232275625],\n",
       " 'val_f1': [0.5145060861920924,\n",
       "  0.5286697536865826,\n",
       "  0.532294069634091,\n",
       "  0.5330419294473957,\n",
       "  0.5308128465676771,\n",
       "  0.5305318641763365,\n",
       "  0.5274815846748468,\n",
       "  0.5250958330805712],\n",
       " 'train_loss': [0.6525354385375977,\n",
       "  0.5554052591323853,\n",
       "  0.489879846572876,\n",
       "  0.4298974573612213,\n",
       "  0.3804885149002075,\n",
       "  0.34358906745910645,\n",
       "  0.3163447678089142,\n",
       "  0.2961478531360626],\n",
       " 'val_loss': [0.603744387626648,\n",
       "  0.6130883693695068,\n",
       "  0.640938401222229,\n",
       "  0.6741308569908142,\n",
       "  0.7322173118591309,\n",
       "  0.7652146220207214,\n",
       "  0.7765619158744812,\n",
       "  0.8076961040496826]}"
      ]
     },
     "execution_count": 41,
     "metadata": {},
     "output_type": "execute_result"
    }
   ],
   "source": [
    "dict_history"
   ]
  },
  {
   "cell_type": "markdown",
   "id": "b8d77413-4c00-4295-b7db-fe06dd7b23b5",
   "metadata": {},
   "source": [
    "# Show charts"
   ]
  },
  {
   "cell_type": "code",
   "execution_count": 42,
   "id": "b7f8ef02-623e-4ebb-8e1d-8da77c3ed9bc",
   "metadata": {},
   "outputs": [],
   "source": [
    "import seaborn as sns\n",
    "import matplotlib.pyplot as plt"
   ]
  },
  {
   "cell_type": "code",
   "execution_count": 43,
   "id": "521cf7cf-e1b2-42ce-8e95-5a2e61440247",
   "metadata": {},
   "outputs": [],
   "source": [
    "def plot_history(dict_history, columns):\n",
    "    plt.figure(figsize=(12,8))\n",
    "    for i in columns:\n",
    "        to_plot = dict_history[i]\n",
    "        plt.plot(range(len(to_plot)), to_plot, 'o-')\n",
    "    plt.xticks(range(len(to_plot)), range(len(to_plot)))\n",
    "    plt.xlabel('Epochs')\n",
    "    plt.legend(columns)"
   ]
  },
  {
   "cell_type": "code",
   "execution_count": 44,
   "id": "7c3ca35a-2166-4552-bc23-67c6bfe314d7",
   "metadata": {},
   "outputs": [
    {
     "data": {
      "image/png": "[encoded data removed]",
      "text/plain": [
       "<Figure size 1200x800 with 1 Axes>"
      ]
     },
     "metadata": {},
     "output_type": "display_data"
    }
   ],
   "source": [
    "plot_history(dict_history, ['val_loss', 'train_loss'])"
   ]
  },
  {
   "cell_type": "code",
   "execution_count": 45,
   "id": "09978e6c-1975-4fe9-b6ed-064e00c1809e",
   "metadata": {},
   "outputs": [
    {
     "data": {
      "image/png": "[encoded data removed]",
      "text/plain": [
       "<Figure size 1200x800 with 1 Axes>"
      ]
     },
     "metadata": {},
     "output_type": "display_data"
    }
   ],
   "source": [
    "plot_history(dict_history, ['val_f1', 'train_f1'])"
   ]
  },
  {
   "cell_type": "markdown",
   "id": "9763d7cb-3c09-425e-984f-7675f7fae0e9",
   "metadata": {},
   "source": [
    "# Evaluate model"
   ]
  },
  {
   "cell_type": "code",
   "execution_count": 46,
   "id": "4bb7e54e-5868-4379-8456-c3c5ef648c33",
   "metadata": {},
   "outputs": [
    {
     "name": "stdout",
     "output_type": "stream",
     "text": [
      "2050/2050 [==============================] - 98s 46ms/step\n"
     ]
    }
   ],
   "source": [
    "test_predictions = np.argmax(model.predict(test_x, 32), axis=-1)"
   ]
  },
  {
   "cell_type": "code",
   "execution_count": 47,
   "id": "bc061fbf-e0a9-40be-8cb7-e356aef090d5",
   "metadata": {},
   "outputs": [
    {
     "name": "stdout",
     "output_type": "stream",
     "text": [
      "Overall test f1-score : 0.5306388990298775\n"
     ]
    }
   ],
   "source": [
    "test_f1 = f1_score(y_true=test_y, y_pred=test_predictions,\n",
    "                         average='macro')\n",
    "print(f'Overall test f1-score : {test_f1}')"
   ]
  },
  {
   "cell_type": "code",
   "execution_count": 48,
   "id": "24a4badc-8c22-4bdc-8fb2-f7f68dbb56b7",
   "metadata": {},
   "outputs": [
    {
     "name": "stdout",
     "output_type": "stream",
     "text": [
      "test f1 score for dataset rozetka : 0.4970701443531024\n",
      "test f1 score for dataset tripadvisor_hotels_ukraine : 0.5560594729908599\n",
      "test f1 score for dataset tripadvisor_restaurants_ukraine : 0.5497543386856073\n",
      "test f1 score for translated==True : 0.534583782657965\n",
      "test f1 score for translated==False : 0.4961701467937975\n"
     ]
    }
   ],
   "source": [
    "test_results = evaluate_on_datasets(y_true=test_y, y_pred=test_predictions,split='test')\n",
    "                     "
   ]
  },
  {
   "cell_type": "markdown",
   "id": "5447ad8a-3695-499c-9fe3-6d6d9cc2834c",
   "metadata": {},
   "source": [
    "# Save history results"
   ]
  },
  {
   "cell_type": "code",
   "execution_count": 49,
   "id": "b1d1cb15-8dae-414b-80c9-cabbcfd4168d",
   "metadata": {},
   "outputs": [],
   "source": [
    "history = pd.DataFrame(dict_history)\n",
    "for k,v in test_results.items():\n",
    "    history[k] = v"
   ]
  },
  {
   "cell_type": "code",
   "execution_count": 50,
   "id": "b2fc4c15-4277-4913-8080-91cddcc4d734",
   "metadata": {},
   "outputs": [],
   "source": [
    "history['model'] = model_name"
   ]
  },
  {
   "cell_type": "code",
   "execution_count": 51,
   "id": "344fd96f-8e81-47b6-8332-0bb3892edfa4",
   "metadata": {},
   "outputs": [],
   "source": [
    "history.to_csv(\"/home/user/jupyter_notebooks/Ukranian-SA/notebooks/training/training_results_filtered.csv\", mode='a', header=None, index=None)"
   ]
  },
  {
   "cell_type": "code",
   "execution_count": null,
   "id": "cf61010a-6dee-42b8-93a1-f9a02ebb4d07",
   "metadata": {},
   "outputs": [],
   "source": []
  }
 ],
 "metadata": {
  "kernelspec": {
   "display_name": "tensorflow_cuda12",
   "language": "python",
   "name": "tensorflow_cuda12"
  },
  "language_info": {
   "codemirror_mode": {
    "name": "ipython",
    "version": 3
   },
   "file_extension": ".py",
   "mimetype": "text/x-python",
   "name": "python",
   "nbconvert_exporter": "python",
   "pygments_lexer": "ipython3",
   "version": "3.8.10"
  }
 },
 "nbformat": 4,
 "nbformat_minor": 5
}
