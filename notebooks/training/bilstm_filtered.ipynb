{
 "cells": [
  {
   "cell_type": "code",
   "execution_count": 1,
   "id": "94761116-1530-448d-a1f6-593d90bec639",
   "metadata": {},
   "outputs": [
    {
     "name": "stdout",
     "output_type": "stream",
     "text": [
      "Collecting tokenizers\n",
      "  Downloading tokenizers-0.13.3-cp38-cp38-manylinux_2_17_x86_64.manylinux2014_x86_64.whl (7.8 MB)\n",
      "\u001b[2K     \u001b[90m━━━━━━━━━━━━━━━━━━━━━━━━━━━━━━━━━━━━━━━━\u001b[0m \u001b[32m7.8/7.8 MB\u001b[0m \u001b[31m10.9 MB/s\u001b[0m eta \u001b[36m0:00:00\u001b[0m00:01\u001b[0m00:01\u001b[0m\n",
      "\u001b[?25hInstalling collected packages: tokenizers\n",
      "Successfully installed tokenizers-0.13.3\n",
      "\u001b[33mWARNING: Running pip as the 'root' user can result in broken permissions and conflicting behaviour with the system package manager. It is recommended to use a virtual environment instead: https://pip.pypa.io/warnings/venv\u001b[0m\u001b[33m\n",
      "\u001b[0m"
     ]
    },
    {
     "name": "stderr",
     "output_type": "stream",
     "text": [
      "2023-05-07 20:20:31.433480: I tensorflow/core/platform/cpu_feature_guard.cc:194] This TensorFlow binary is optimized with oneAPI Deep Neural Network Library (oneDNN) to use the following CPU instructions in performance-critical operations:  SSE3 SSE4.1 SSE4.2 AVX\n",
      "To enable them in other operations, rebuild TensorFlow with the appropriate compiler flags.\n"
     ]
    }
   ],
   "source": [
    "!pip install tokenizers\n",
    "import tensorflow as tf\n",
    "from tokenizers import Tokenizer, models, pre_tokenizers, trainers, Regex\n",
    "import tokenizers\n",
    "import pandas as pd"
   ]
  },
  {
   "cell_type": "code",
   "execution_count": 2,
   "id": "fada8fbb-9dc2-4e9d-935d-2cb0d6684738",
   "metadata": {},
   "outputs": [],
   "source": [
    "model_name = 'bilstm'"
   ]
  },
  {
   "cell_type": "code",
   "execution_count": 3,
   "id": "1a448d1e-55a6-486c-bcd5-7303ebd3a369",
   "metadata": {
    "tags": []
   },
   "outputs": [
    {
     "name": "stdout",
     "output_type": "stream",
     "text": [
      "user\n"
     ]
    }
   ],
   "source": [
    "!ls /home/"
   ]
  },
  {
   "cell_type": "markdown",
   "id": "aa46fb49-08a8-4809-b697-680813299d47",
   "metadata": {},
   "source": [
    "# Load data"
   ]
  },
  {
   "cell_type": "code",
   "execution_count": 4,
   "id": "d01ad050-f023-4253-bc33-72c76bce3944",
   "metadata": {
    "tags": []
   },
   "outputs": [],
   "source": [
    "df = pd.read_csv('/home/user/files_for_research_Vova/processed_data.csv', usecols=['review_translate',\n",
    "                                                            'dataset_name',\n",
    "                                                            'rating',\n",
    "                                                           'translated'])"
   ]
  },
  {
   "cell_type": "code",
   "execution_count": 5,
   "id": "99ee8e3a-2281-4ec1-8107-49e3ba47d2a9",
   "metadata": {},
   "outputs": [
    {
     "data": {
      "text/html": [
       "<div>\n",
       "<style scoped>\n",
       "    .dataframe tbody tr th:only-of-type {\n",
       "        vertical-align: middle;\n",
       "    }\n",
       "\n",
       "    .dataframe tbody tr th {\n",
       "        vertical-align: top;\n",
       "    }\n",
       "\n",
       "    .dataframe thead th {\n",
       "        text-align: right;\n",
       "    }\n",
       "</style>\n",
       "<table border=\"1\" class=\"dataframe\">\n",
       "  <thead>\n",
       "    <tr style=\"text-align: right;\">\n",
       "      <th></th>\n",
       "      <th>review_translate</th>\n",
       "      <th>rating</th>\n",
       "      <th>dataset_name</th>\n",
       "      <th>translated</th>\n",
       "    </tr>\n",
       "  </thead>\n",
       "  <tbody>\n",
       "    <tr>\n",
       "      <th>0</th>\n",
       "      <td>Якісна пластмаса , переворот 360 градусвв</td>\n",
       "      <td>5.0</td>\n",
       "      <td>rozetka</td>\n",
       "      <td>False</td>\n",
       "    </tr>\n",
       "    <tr>\n",
       "      <th>1</th>\n",
       "      <td>За такі гроші це самий топ</td>\n",
       "      <td>5.0</td>\n",
       "      <td>rozetka</td>\n",
       "      <td>False</td>\n",
       "    </tr>\n",
       "    <tr>\n",
       "      <th>2</th>\n",
       "      <td>За такі гроші - просто супер ! Рекомендую .</td>\n",
       "      <td>5.0</td>\n",
       "      <td>rozetka</td>\n",
       "      <td>False</td>\n",
       "    </tr>\n",
       "    <tr>\n",
       "      <th>3</th>\n",
       "      <td>Виконує свою роботу не погано . але що ви хоті...</td>\n",
       "      <td>4.0</td>\n",
       "      <td>rozetka</td>\n",
       "      <td>False</td>\n",
       "    </tr>\n",
       "    <tr>\n",
       "      <th>4</th>\n",
       "      <td>Купляв на стару сістему як основний під віндов...</td>\n",
       "      <td>4.0</td>\n",
       "      <td>rozetka</td>\n",
       "      <td>False</td>\n",
       "    </tr>\n",
       "  </tbody>\n",
       "</table>\n",
       "</div>"
      ],
      "text/plain": [
       "                                    review_translate  rating dataset_name  \\\n",
       "0          Якісна пластмаса , переворот 360 градусвв     5.0      rozetka   \n",
       "1                         За такі гроші це самий топ     5.0      rozetka   \n",
       "2        За такі гроші - просто супер ! Рекомендую .     5.0      rozetka   \n",
       "3  Виконує свою роботу не погано . але що ви хоті...     4.0      rozetka   \n",
       "4  Купляв на стару сістему як основний під віндов...     4.0      rozetka   \n",
       "\n",
       "   translated  \n",
       "0       False  \n",
       "1       False  \n",
       "2       False  \n",
       "3       False  \n",
       "4       False  "
      ]
     },
     "execution_count": 5,
     "metadata": {},
     "output_type": "execute_result"
    }
   ],
   "source": [
    "df.head()"
   ]
  },
  {
   "cell_type": "code",
   "execution_count": 6,
   "id": "870b0de2-18ef-42ce-9bd5-1ff68b8a1776",
   "metadata": {},
   "outputs": [],
   "source": [
    "subsets = pd.read_csv('/home/user/files_for_research_Vova/train_val_test_indices.csv')"
   ]
  },
  {
   "cell_type": "code",
   "execution_count": 7,
   "id": "778fb1c0-5396-480b-8ce5-e728d06fc3d8",
   "metadata": {},
   "outputs": [
    {
     "data": {
      "text/html": [
       "<div>\n",
       "<style scoped>\n",
       "    .dataframe tbody tr th:only-of-type {\n",
       "        vertical-align: middle;\n",
       "    }\n",
       "\n",
       "    .dataframe tbody tr th {\n",
       "        vertical-align: top;\n",
       "    }\n",
       "\n",
       "    .dataframe thead th {\n",
       "        text-align: right;\n",
       "    }\n",
       "</style>\n",
       "<table border=\"1\" class=\"dataframe\">\n",
       "  <thead>\n",
       "    <tr style=\"text-align: right;\">\n",
       "      <th></th>\n",
       "      <th>index</th>\n",
       "      <th>split</th>\n",
       "    </tr>\n",
       "  </thead>\n",
       "  <tbody>\n",
       "    <tr>\n",
       "      <th>0</th>\n",
       "      <td>0</td>\n",
       "      <td>train</td>\n",
       "    </tr>\n",
       "    <tr>\n",
       "      <th>1</th>\n",
       "      <td>1</td>\n",
       "      <td>test</td>\n",
       "    </tr>\n",
       "    <tr>\n",
       "      <th>2</th>\n",
       "      <td>2</td>\n",
       "      <td>train</td>\n",
       "    </tr>\n",
       "    <tr>\n",
       "      <th>3</th>\n",
       "      <td>3</td>\n",
       "      <td>train</td>\n",
       "    </tr>\n",
       "    <tr>\n",
       "      <th>4</th>\n",
       "      <td>4</td>\n",
       "      <td>train</td>\n",
       "    </tr>\n",
       "  </tbody>\n",
       "</table>\n",
       "</div>"
      ],
      "text/plain": [
       "   index  split\n",
       "0      0  train\n",
       "1      1   test\n",
       "2      2  train\n",
       "3      3  train\n",
       "4      4  train"
      ]
     },
     "execution_count": 7,
     "metadata": {},
     "output_type": "execute_result"
    }
   ],
   "source": [
    "subsets.head()"
   ]
  },
  {
   "cell_type": "code",
   "execution_count": 8,
   "id": "bb145e0a-2bf5-4004-b334-15433414769a",
   "metadata": {},
   "outputs": [],
   "source": [
    "subsets = subsets.merge(df[['dataset_name', 'translated']], left_on='index', right_index=True)"
   ]
  },
  {
   "cell_type": "code",
   "execution_count": 9,
   "id": "0d3e53a9-99b6-4665-90fd-1f5d3b279e1f",
   "metadata": {
    "tags": []
   },
   "outputs": [],
   "source": [
    "bad_indices = pd.read_csv('/home/user/files_for_research_Vova/files_to_check.csv')\n",
    "subsets = subsets[~subsets.index.isin(bad_indices['id'].values)]\n",
    "df = df[~df.index.isin(bad_indices['id'].values)]\n",
    "df, subsets = df.reset_index().drop(columns='index'), subsets.reset_index().drop(columns='index')"
   ]
  },
  {
   "cell_type": "markdown",
   "id": "f35025fc-9c2c-490e-9231-10f4b38e230b",
   "metadata": {},
   "source": [
    "# Load tokenizer"
   ]
  },
  {
   "cell_type": "code",
   "execution_count": 10,
   "id": "dc7ca142-1e37-49c2-b8b8-2d5f74ee98c8",
   "metadata": {},
   "outputs": [],
   "source": [
    "tokenizer = Tokenizer.from_file(\"/home/user/files_for_research_Vova/tokenizer_30k.json\")\n"
   ]
  },
  {
   "cell_type": "markdown",
   "id": "a86c13af-5e8f-49e4-b337-7b3a70163c1c",
   "metadata": {},
   "source": [
    "# Encode text"
   ]
  },
  {
   "cell_type": "code",
   "execution_count": 11,
   "id": "ef69c9c8-b050-4904-8e93-5e1b89361f8d",
   "metadata": {},
   "outputs": [],
   "source": [
    "import seaborn as sns\n",
    "import numpy as np"
   ]
  },
  {
   "cell_type": "code",
   "execution_count": 12,
   "id": "e2e913ba-749b-4161-a2db-0cb6af2b025c",
   "metadata": {},
   "outputs": [],
   "source": [
    "sns.set()"
   ]
  },
  {
   "cell_type": "code",
   "execution_count": 13,
   "id": "0dda1c9a-9961-4097-bd69-3e5bd58d6789",
   "metadata": {},
   "outputs": [],
   "source": [
    "df['review_translate'] = df['review_translate'].str.lower()"
   ]
  },
  {
   "cell_type": "code",
   "execution_count": 14,
   "id": "3151fe97-eded-408c-be0d-df2b49051e7c",
   "metadata": {},
   "outputs": [],
   "source": [
    "df['encoded'] = tokenizer.encode_batch(df['review_translate'].values)"
   ]
  },
  {
   "cell_type": "code",
   "execution_count": 15,
   "id": "8c01d676-5e85-4b7d-b7c0-5d99b8ba1d44",
   "metadata": {},
   "outputs": [],
   "source": [
    "df['encoded'] = df['encoded'].apply(lambda x: x.ids)"
   ]
  },
  {
   "cell_type": "code",
   "execution_count": 16,
   "id": "47ddda71-f140-49f7-89c8-fea94b8bcdfd",
   "metadata": {},
   "outputs": [
    {
     "name": "stderr",
     "output_type": "stream",
     "text": [
      "/tmp/ipykernel_1/3749403729.py:1: UserWarning: \n",
      "\n",
      "`distplot` is a deprecated function and will be removed in seaborn v0.14.0.\n",
      "\n",
      "Please adapt your code to use either `displot` (a figure-level function with\n",
      "similar flexibility) or `histplot` (an axes-level function for histograms).\n",
      "\n",
      "For a guide to updating your code to use the new functions, please see\n",
      "https://gist.github.com/mwaskom/de44147ed2974457ad6372750bbe5751\n",
      "\n",
      "  sns.distplot(np.log10(df['encoded'].apply(len)))\n"
     ]
    },
    {
     "data": {
      "text/plain": [
       "<AxesSubplot: xlabel='encoded', ylabel='Density'>"
      ]
     },
     "execution_count": 16,
     "metadata": {},
     "output_type": "execute_result"
    },
    {
     "data": {
      "image/png": "[encoded data removed]",
      "text/plain": [
       "<Figure size 640x480 with 1 Axes>"
      ]
     },
     "metadata": {},
     "output_type": "display_data"
    }
   ],
   "source": [
    "sns.distplot(np.log10(df['encoded'].apply(len)))"
   ]
  },
  {
   "cell_type": "code",
   "execution_count": 17,
   "id": "e81a0c0b-0dd0-4437-872e-0c13fc041b99",
   "metadata": {},
   "outputs": [
    {
     "data": {
      "text/plain": [
       "324.0"
      ]
     },
     "execution_count": 17,
     "metadata": {},
     "output_type": "execute_result"
    }
   ],
   "source": [
    "np.percentile(df['encoded'].apply(len), 99)"
   ]
  },
  {
   "cell_type": "code",
   "execution_count": 18,
   "id": "c680a61a-cee2-4fbd-9a97-17a9c7ec74a9",
   "metadata": {},
   "outputs": [],
   "source": [
    "encoded_tokens = df['encoded'].values"
   ]
  },
  {
   "cell_type": "code",
   "execution_count": 19,
   "id": "b3d6e285-87e6-4ce1-be8a-cb614270a8a4",
   "metadata": {},
   "outputs": [],
   "source": [
    "from itertools import chain"
   ]
  },
  {
   "cell_type": "code",
   "execution_count": 20,
   "id": "7f8c9fac-7ed8-45c3-8114-763b1ed0c138",
   "metadata": {},
   "outputs": [],
   "source": [
    "padded_tokens = tf.keras.preprocessing.sequence\\\n",
    ".pad_sequences(encoded_tokens, maxlen=300, padding=\"post\")\n"
   ]
  },
  {
   "cell_type": "code",
   "execution_count": 21,
   "id": "8137187b-fd7f-4199-883e-7ff778a94c0a",
   "metadata": {},
   "outputs": [
    {
     "data": {
      "text/plain": [
       "(655470, 300)"
      ]
     },
     "execution_count": 21,
     "metadata": {},
     "output_type": "execute_result"
    }
   ],
   "source": [
    "padded_tokens.shape"
   ]
  },
  {
   "cell_type": "markdown",
   "id": "5bc9a5b3-3794-4ab8-a16d-fa572ac9d2f6",
   "metadata": {},
   "source": [
    "# Get labels and split data"
   ]
  },
  {
   "cell_type": "code",
   "execution_count": 22,
   "id": "fbdb3b33-cbb6-4024-b683-8819ad6d7b3f",
   "metadata": {},
   "outputs": [],
   "source": [
    "mapping = dict([(i,c) for c,i in enumerate(df['rating'].unique())])"
   ]
  },
  {
   "cell_type": "code",
   "execution_count": 23,
   "id": "0d9dcd18-b69c-4b71-8f83-85f750be1daa",
   "metadata": {},
   "outputs": [],
   "source": [
    "y = df['rating'].map(mapping).values"
   ]
  },
  {
   "cell_type": "code",
   "execution_count": 24,
   "id": "abf0a14a-7050-4689-806f-dbe4f094f0d8",
   "metadata": {},
   "outputs": [],
   "source": [
    "num_classes = len(set(y))"
   ]
  },
  {
   "cell_type": "code",
   "execution_count": 25,
   "id": "59b5a397-faf0-43be-b498-a3d4af06fbc0",
   "metadata": {},
   "outputs": [],
   "source": [
    "train_indices, val_indices, test_indices = subsets[subsets['split']=='train'].index.tolist(),\\\n",
    "subsets[subsets['split']=='val'].index.tolist(),\\\n",
    "subsets[subsets['split']=='test'].index.tolist()\n"
   ]
  },
  {
   "cell_type": "code",
   "execution_count": 26,
   "id": "7564a2e1-11d7-44cf-803b-03b4eb3b0dce",
   "metadata": {},
   "outputs": [],
   "source": [
    "train_y, val_y, test_y = y[train_indices], y[val_indices], y[test_indices]"
   ]
  },
  {
   "cell_type": "code",
   "execution_count": 27,
   "id": "39adcfe4-0446-4673-bbad-dfdc972fb7d0",
   "metadata": {},
   "outputs": [],
   "source": [
    "train_x, val_x, test_x = padded_tokens[train_indices], padded_tokens[val_indices],\\\n",
    "padded_tokens[test_indices]"
   ]
  },
  {
   "cell_type": "code",
   "execution_count": 28,
   "id": "bce92ef9-7a5c-4f99-86e0-18544e93101f",
   "metadata": {},
   "outputs": [
    {
     "data": {
      "text/plain": [
       "(524346, 300)"
      ]
     },
     "execution_count": 28,
     "metadata": {},
     "output_type": "execute_result"
    }
   ],
   "source": [
    "train_x.shape"
   ]
  },
  {
   "cell_type": "markdown",
   "id": "a0f0ac0e-11a7-436a-9fd3-cfa9229d7ec8",
   "metadata": {},
   "source": [
    "# Create  model"
   ]
  },
  {
   "cell_type": "code",
   "execution_count": 29,
   "id": "91941772-c544-43ae-bf45-b08d249c49c7",
   "metadata": {},
   "outputs": [
    {
     "name": "stderr",
     "output_type": "stream",
     "text": [
      "2023-05-07 20:21:30.689450: I tensorflow/core/platform/cpu_feature_guard.cc:194] This TensorFlow binary is optimized with oneAPI Deep Neural Network Library (oneDNN) to use the following CPU instructions in performance-critical operations:  SSE3 SSE4.1 SSE4.2 AVX\n",
      "To enable them in other operations, rebuild TensorFlow with the appropriate compiler flags.\n",
      "2023-05-07 20:21:30.852065: I tensorflow/core/common_runtime/gpu/gpu_device.cc:1621] Created device /job:localhost/replica:0/task:0/device:GPU:0 with 14148 MB memory:  -> device: 0, name: NVIDIA RTX A4000, pci bus id: 0000:03:00.0, compute capability: 8.6\n"
     ]
    }
   ],
   "source": [
    "tf.keras.backend.clear_session()\n",
    "np.random.seed(0)\n",
    "tf.random.set_seed(0)\n",
    "input_layer = tf.keras.layers.Input(shape=(300,), name='input')\n",
    "word_embedding = tf.keras.layers.Embedding(input_dim=tokenizer.get_vocab_size(),\n",
    "                                                   output_dim=300,\n",
    "                                                   trainable=True,\n",
    "                                           name='embedding',\n",
    "                                           mask_zero=True\n",
    "                                                   )\n",
    "dropout = tf.keras.layers.SpatialDropout1D(0.3)\n",
    "lstm = tf.keras.layers.Bidirectional(tf.keras.layers.LSTM(128, name='lstm'))\n",
    "embedded = dropout(word_embedding(input_layer))\n",
    "hidden = lstm(embedded)\n",
    "x = tf.keras.layers.Dense(128, activation='relu', name='dense')(hidden)\n",
    "x = tf.keras.layers.Dropout(0.5, name='dropout')(x)\n",
    "output = tf.keras.layers.Dense(num_classes, activation='softmax', name='output')(x)\n",
    "model = tf.keras.Model(input_layer, output)"
   ]
  },
  {
   "cell_type": "markdown",
   "id": "5df15e13-921d-4eaa-b433-7500dc153a5f",
   "metadata": {},
   "source": [
    "# Compile model"
   ]
  },
  {
   "cell_type": "code",
   "execution_count": 30,
   "id": "a272e87d-a23a-4940-81fa-569451e2ea5c",
   "metadata": {},
   "outputs": [],
   "source": [
    "model.compile(loss='sparse_categorical_crossentropy', \\\n",
    "              optimizer=tf.keras.optimizers.Adam(),\n",
    "             metrics=['acc'])"
   ]
  },
  {
   "cell_type": "markdown",
   "id": "d9db9424-2b20-4d10-8da4-0c55152abe57",
   "metadata": {},
   "source": [
    "# Early stopping"
   ]
  },
  {
   "cell_type": "code",
   "execution_count": 31,
   "id": "9c9801fe-9cd2-47e2-9cad-58efbf4205a7",
   "metadata": {},
   "outputs": [],
   "source": [
    "import operator\n",
    "class EarlyStopping:\n",
    "    def __init__(self, tolerance=5, mode='min'):\n",
    "        assert mode in ['min','max'], 'Mode should be min or max'\n",
    "        self.mode = operator.lt if mode=='min' else operator.gt \n",
    "        self.tolerance = tolerance\n",
    "        self.counter = 0\n",
    "        self.early_stop = False\n",
    "        self.extremum_value = None\n",
    "        self.best_model = None\n",
    "    \n",
    "    @staticmethod\n",
    "    def copy_model(model):\n",
    "        copied_model = tf.keras.models.clone_model(model)\n",
    "        copied_model.set_weights(model.get_weights())\n",
    "        return copied_model\n",
    "        \n",
    "    def __call__(self, val, model):\n",
    "        if self.extremum_value is None:\n",
    "            self.extremum_value = val\n",
    "            self.best_model = self.copy_model(model)\n",
    "        else:\n",
    "            if not self.mode(val, self.extremum_value):\n",
    "                self.counter+=1\n",
    "            else:\n",
    "                self.extremum_value = val\n",
    "                self.best_model = self.copy_model(model)\n",
    "                self.counter = 0\n",
    "        \n",
    "        if self.counter==self.tolerance:\n",
    "            self.early_stop=True"
   ]
  },
  {
   "cell_type": "markdown",
   "id": "7676e473-8116-488e-990d-dc7937d9119c",
   "metadata": {},
   "source": [
    "# Train model"
   ]
  },
  {
   "cell_type": "code",
   "execution_count": 32,
   "id": "eed6de2d-be45-45cd-af31-b9042d1a20af",
   "metadata": {},
   "outputs": [],
   "source": [
    "from sklearn.metrics import f1_score"
   ]
  },
  {
   "cell_type": "code",
   "execution_count": 35,
   "id": "fbe8fc41-6661-4a56-ad5d-d1a4ed3e53f5",
   "metadata": {},
   "outputs": [],
   "source": [
    "def evaluate_on_datasets(y_true, y_pred, split='val'):\n",
    "    d = {}\n",
    "    for dataset_name in subsets['dataset_name'].unique():\n",
    "            idx = subsets[subsets['split']==split].copy()\n",
    "            idx['index'] = list(range(idx.shape[0]))\n",
    "            idx = idx[(idx['dataset_name']==dataset_name)]\\\n",
    "            ['index'].values.tolist()\n",
    "            score = f1_score(y_true=y_true[idx], y_pred=y_pred[idx],\n",
    "                                 average='macro')\n",
    "            print(f'{split} f1 score for dataset {dataset_name} : {score}')\n",
    "            d[f'{split}_f1_{dataset_name}'] = score\n",
    "            \n",
    "    for flag in [True, False]:\n",
    "        idx = subsets[subsets['split']==split].copy()\n",
    "        idx['index'] = list(range(idx.shape[0]))\n",
    "        idx = idx[idx['translated']==flag]['index'].values.tolist()\n",
    "        score = f1_score(y_true=y_true[idx], y_pred=y_pred[idx],\n",
    "                                 average='macro')\n",
    "        print(f'{split} f1 score for translated=={flag} : {score}')\n",
    "        d[f'{split}_f1_translated=={flag}'] = score\n",
    "    return d"
   ]
  },
  {
   "cell_type": "code",
   "execution_count": 36,
   "id": "f43c7824-1d7a-4fc1-b095-53902f428b3f",
   "metadata": {},
   "outputs": [],
   "source": [
    "def update_history(history, d):\n",
    "    for key, value in d.items():\n",
    "        res = history.get(key, [])\n",
    "        res.append(value)\n",
    "        history[key] = res"
   ]
  },
  {
   "cell_type": "code",
   "execution_count": 37,
   "id": "39c90c92-f6c9-4f00-94f0-582ebdf71912",
   "metadata": {},
   "outputs": [],
   "source": [
    "early_stopping = EarlyStopping(mode='max', tolerance=4)"
   ]
  },
  {
   "cell_type": "code",
   "execution_count": 39,
   "id": "e4354a40-79f8-4991-a26e-6d2422a4b9dd",
   "metadata": {},
   "outputs": [],
   "source": [
    "def training_loop(model, epochs=10, batch_size=128):\n",
    "    dict_history = {}\n",
    "    for i in range(epochs):\n",
    "        \n",
    "        #train model\n",
    "        history = model.fit(train_x, train_y, validation_data=(val_x, val_y), \n",
    "          epochs=1, batch_size=batch_size,\n",
    "                           verbose=0)\n",
    "        train_loss, val_loss = history.history['loss'][-1], history.history['val_loss'][-1]\n",
    "        \n",
    "        #evaluate model\n",
    "        train_prediction = np.argmax(model.predict(train_x, batch_size=batch_size), axis=-1)\n",
    "        val_prediction = np.argmax(model.predict(val_x, batch_size=batch_size), axis=-1)\n",
    "        train_f1 = f1_score(y_true=train_y, y_pred=train_prediction,\n",
    "                           average='macro')\n",
    "        val_f1 = f1_score(y_true=val_y, y_pred=val_prediction,\n",
    "                         average='macro')\n",
    "        \n",
    "        #printing evaluation\n",
    "        print(f'Epoch {i}')\n",
    "        print(f'Overall train f1 : {train_f1}, overall val f1: {val_f1}')\n",
    "        print(f'Train loss : {train_loss}, val loss: {val_loss}')\n",
    "        d_train = evaluate_on_datasets(y_true=train_y, y_pred=train_prediction, split='train')\n",
    "        d_val = evaluate_on_datasets(y_true=val_y, y_pred=val_prediction, split='val')\n",
    "            \n",
    "        if i!=epochs-1:\n",
    "            print('-'*30)\n",
    "            \n",
    "        #save history\n",
    "        update_history(dict_history, d_train)\n",
    "        update_history(dict_history, d_val)\n",
    "        update_history(dict_history, {'train_f1': train_f1})\n",
    "        update_history(dict_history, {'val_f1': val_f1})\n",
    "        update_history(dict_history, {'train_loss': train_loss})\n",
    "        update_history(dict_history, {'val_loss': val_loss})\n",
    "        #early stopping\n",
    "        \n",
    "        early_stopping(val_f1, model)\n",
    "        if early_stopping.early_stop:\n",
    "            print('Stopping early')\n",
    "            model = early_stopping.best_model\n",
    "            break\n",
    "        \n",
    "    return dict_history, model"
   ]
  },
  {
   "cell_type": "code",
   "execution_count": 40,
   "id": "73c7d40c-fd2c-41cc-9938-ee4f58a8a0b5",
   "metadata": {},
   "outputs": [
    {
     "name": "stderr",
     "output_type": "stream",
     "text": [
      "2023-05-07 20:22:01.771212: W tensorflow/core/common_runtime/type_inference.cc:339] Type inference failed. This indicates an invalid graph that escaped type checking. Error message: INVALID_ARGUMENT: expected compatible input types, but input 1:\n",
      "type_id: TFT_OPTIONAL\n",
      "args {\n",
      "  type_id: TFT_PRODUCT\n",
      "  args {\n",
      "    type_id: TFT_TENSOR\n",
      "    args {\n",
      "      type_id: TFT_INT32\n",
      "    }\n",
      "  }\n",
      "}\n",
      " is neither a subtype nor a supertype of the combined inputs preceding it:\n",
      "type_id: TFT_OPTIONAL\n",
      "args {\n",
      "  type_id: TFT_PRODUCT\n",
      "  args {\n",
      "    type_id: TFT_TENSOR\n",
      "    args {\n",
      "      type_id: TFT_FLOAT\n",
      "    }\n",
      "  }\n",
      "}\n",
      "\n",
      "\twhile inferring type of node 'cond_40/output/_23'\n",
      "2023-05-07 20:22:02.120046: I tensorflow/compiler/xla/stream_executor/cuda/cuda_dnn.cc:428] Loaded cuDNN version 8700\n",
      "2023-05-07 20:22:02.448148: I tensorflow/compiler/xla/stream_executor/cuda/cuda_blas.cc:648] TensorFloat-32 will be used for the matrix multiplication. This will only be logged once.\n",
      "2023-05-07 20:22:02.510750: I tensorflow/compiler/xla/service/service.cc:173] XLA service 0x15faaa00 initialized for platform CUDA (this does not guarantee that XLA will be used). Devices:\n",
      "2023-05-07 20:22:02.510838: I tensorflow/compiler/xla/service/service.cc:181]   StreamExecutor device (0): NVIDIA RTX A4000, Compute Capability 8.6\n",
      "2023-05-07 20:22:02.518207: I tensorflow/compiler/mlir/tensorflow/utils/dump_mlir_util.cc:268] disabling MLIR crash reproducer, set env var `MLIR_CRASH_REPRODUCER_DIRECTORY` to enable.\n",
      "2023-05-07 20:22:02.676370: I tensorflow/compiler/jit/xla_compilation_cache.cc:480] Compiled cluster using XLA!  This line is logged at most once for the lifetime of the process.\n"
     ]
    },
    {
     "name": "stdout",
     "output_type": "stream",
     "text": [
      "513/513 [==============================] - 18s 29ms/step\n",
      "65/65 [==============================] - 2s 28ms/step\n",
      "Epoch 0\n",
      "Overall train f1 : 0.4909542710069893, overall val f1: 0.46315861074759185\n",
      "Train loss : 0.7250731587409973, val loss: 0.6465298533439636\n",
      "train f1 score for dataset rozetka : 0.437367747642386\n",
      "train f1 score for dataset tripadvisor_hotels_ukraine : 0.5293523900508075\n",
      "train f1 score for dataset tripadvisor_restaurants_ukraine : 0.5256623980390459\n",
      "train f1 score for translated==True : 0.4983898927232565\n",
      "train f1 score for translated==False : 0.43437107813815246\n",
      "val f1 score for dataset rozetka : 0.4095496084745546\n",
      "val f1 score for dataset tripadvisor_hotels_ukraine : 0.5005684022552526\n",
      "val f1 score for dataset tripadvisor_restaurants_ukraine : 0.4981498844302175\n",
      "val f1 score for translated==True : 0.4702923295482476\n",
      "val f1 score for translated==False : 0.4073151833273066\n",
      "------------------------------\n",
      "513/513 [==============================] - 15s 29ms/step\n",
      "65/65 [==============================] - 2s 28ms/step\n",
      "Epoch 1\n",
      "Overall train f1 : 0.5542993990260499, overall val f1: 0.491141153472405\n",
      "Train loss : 0.591680645942688, val loss: 0.6426146030426025\n",
      "train f1 score for dataset rozetka : 0.5145919734381261\n",
      "train f1 score for dataset tripadvisor_hotels_ukraine : 0.5719446881362562\n",
      "train f1 score for dataset tripadvisor_restaurants_ukraine : 0.5849139379480904\n",
      "train f1 score for translated==True : 0.5591699414255232\n",
      "train f1 score for translated==False : 0.5176429874952249\n",
      "val f1 score for dataset rozetka : 0.449691481727855\n",
      "val f1 score for dataset tripadvisor_hotels_ukraine : 0.5137251117466658\n",
      "val f1 score for dataset tripadvisor_restaurants_ukraine : 0.5210864891351906\n",
      "val f1 score for translated==True : 0.4975852386007352\n",
      "val f1 score for translated==False : 0.44162287468319983\n",
      "------------------------------\n",
      "513/513 [==============================] - 15s 30ms/step\n",
      "65/65 [==============================] - 2s 28ms/step\n",
      "Epoch 2\n",
      "Overall train f1 : 0.6141155206760776, overall val f1: 0.5063041168770956\n",
      "Train loss : 0.5335545539855957, val loss: 0.66872239112854\n",
      "train f1 score for dataset rozetka : 0.5827558257036892\n",
      "train f1 score for dataset tripadvisor_hotels_ukraine : 0.6330626778503772\n",
      "train f1 score for dataset tripadvisor_restaurants_ukraine : 0.6367493313244652\n",
      "train f1 score for translated==True : 0.617663556220885\n",
      "train f1 score for translated==False : 0.5880156792438174\n",
      "val f1 score for dataset rozetka : 0.47204747463408336\n",
      "val f1 score for dataset tripadvisor_hotels_ukraine : 0.5212850470376819\n",
      "val f1 score for dataset tripadvisor_restaurants_ukraine : 0.5335486076440024\n",
      "val f1 score for translated==True : 0.5119820338667869\n",
      "val f1 score for translated==False : 0.4646706530015304\n",
      "------------------------------\n",
      "513/513 [==============================] - 15s 30ms/step\n",
      "65/65 [==============================] - 2s 29ms/step\n",
      "Epoch 3\n",
      "Overall train f1 : 0.636569630096224, overall val f1: 0.5003840689273307\n",
      "Train loss : 0.4853099584579468, val loss: 0.7201712727546692\n",
      "train f1 score for dataset rozetka : 0.6084245082248224\n",
      "train f1 score for dataset tripadvisor_hotels_ukraine : 0.6543406384852164\n",
      "train f1 score for dataset tripadvisor_restaurants_ukraine : 0.656020880666486\n",
      "train f1 score for translated==True : 0.6391226032526481\n",
      "train f1 score for translated==False : 0.6169578783689993\n",
      "val f1 score for dataset rozetka : 0.4673933508779551\n",
      "val f1 score for dataset tripadvisor_hotels_ukraine : 0.5039417048327101\n",
      "val f1 score for dataset tripadvisor_restaurants_ukraine : 0.5294935007416763\n",
      "val f1 score for translated==True : 0.5060316523502114\n",
      "val f1 score for translated==False : 0.45928629576109337\n",
      "------------------------------\n",
      "513/513 [==============================] - 15s 29ms/step\n",
      "65/65 [==============================] - 2s 28ms/step\n",
      "Epoch 4\n",
      "Overall train f1 : 0.7016689479269342, overall val f1: 0.5186255040436825\n",
      "Train loss : 0.43656766414642334, val loss: 0.7753233313560486\n",
      "train f1 score for dataset rozetka : 0.6738936014350353\n",
      "train f1 score for dataset tripadvisor_hotels_ukraine : 0.7198837932369796\n",
      "train f1 score for dataset tripadvisor_restaurants_ukraine : 0.7206720262070402\n",
      "train f1 score for translated==True : 0.7036721205349766\n",
      "train f1 score for translated==False : 0.6851865334898164\n",
      "val f1 score for dataset rozetka : 0.4867926823140326\n",
      "val f1 score for dataset tripadvisor_hotels_ukraine : 0.5206334966068212\n",
      "val f1 score for dataset tripadvisor_restaurants_ukraine : 0.5463230836478336\n",
      "val f1 score for translated==True : 0.5232921308558778\n",
      "val f1 score for translated==False : 0.48309047169357955\n",
      "------------------------------\n",
      "513/513 [==============================] - 15s 29ms/step\n",
      "65/65 [==============================] - 2s 28ms/step\n",
      "Epoch 5\n",
      "Overall train f1 : 0.7154672953683245, overall val f1: 0.5127587168534454\n",
      "Train loss : 0.39056700468063354, val loss: 0.8946325778961182\n",
      "train f1 score for dataset rozetka : 0.6911650425137446\n",
      "train f1 score for dataset tripadvisor_hotels_ukraine : 0.734854522991452\n",
      "train f1 score for dataset tripadvisor_restaurants_ukraine : 0.7312515978852716\n",
      "train f1 score for translated==True : 0.717215691012618\n",
      "train f1 score for translated==False : 0.7008609929213657\n",
      "val f1 score for dataset rozetka : 0.4848156309291821\n",
      "val f1 score for dataset tripadvisor_hotels_ukraine : 0.5186559890007983\n",
      "val f1 score for dataset tripadvisor_restaurants_ukraine : 0.5355260071206928\n",
      "val f1 score for translated==True : 0.5169009998498187\n",
      "val f1 score for translated==False : 0.4806680634284935\n",
      "------------------------------\n",
      "513/513 [==============================] - 15s 29ms/step\n",
      "65/65 [==============================] - 2s 29ms/step\n",
      "Epoch 6\n",
      "Overall train f1 : 0.6961762238136994, overall val f1: 0.4912688937087715\n",
      "Train loss : 0.35204601287841797, val loss: 0.986064076423645\n",
      "train f1 score for dataset rozetka : 0.6834039786126838\n",
      "train f1 score for dataset tripadvisor_hotels_ukraine : 0.6989184547895867\n",
      "train f1 score for dataset tripadvisor_restaurants_ukraine : 0.7035005439187242\n",
      "train f1 score for translated==True : 0.6967332489258288\n",
      "train f1 score for translated==False : 0.6899028913304137\n",
      "val f1 score for dataset rozetka : 0.4702324314486665\n",
      "val f1 score for dataset tripadvisor_hotels_ukraine : 0.48728594103346123\n",
      "val f1 score for dataset tripadvisor_restaurants_ukraine : 0.5104814859707708\n",
      "val f1 score for translated==True : 0.49468737321685463\n",
      "val f1 score for translated==False : 0.46471098248957815\n",
      "------------------------------\n",
      "513/513 [==============================] - 15s 29ms/step\n",
      "65/65 [==============================] - 2s 28ms/step\n",
      "Epoch 7\n",
      "Overall train f1 : 0.7350424599795404, overall val f1: 0.4971663663246878\n",
      "Train loss : 0.3238568603992462, val loss: 1.0353559255599976\n",
      "train f1 score for dataset rozetka : 0.7247121419701938\n",
      "train f1 score for dataset tripadvisor_hotels_ukraine : 0.7331359867389742\n",
      "train f1 score for dataset tripadvisor_restaurants_ukraine : 0.7424191138057445\n",
      "train f1 score for translated==True : 0.7351496298311879\n",
      "train f1 score for translated==False : 0.7322503281829913\n",
      "val f1 score for dataset rozetka : 0.480571484910271\n",
      "val f1 score for dataset tripadvisor_hotels_ukraine : 0.48915467285385245\n",
      "val f1 score for dataset tripadvisor_restaurants_ukraine : 0.5136180930123109\n",
      "val f1 score for translated==True : 0.499497071984369\n",
      "val f1 score for translated==False : 0.4781855066638088\n",
      "------------------------------\n",
      "513/513 [==============================] - 15s 29ms/step\n",
      "65/65 [==============================] - 2s 27ms/step\n",
      "Epoch 8\n",
      "Overall train f1 : 0.7649561007335428, overall val f1: 0.5089468115050101\n",
      "Train loss : 0.2980184257030487, val loss: 1.1306785345077515\n",
      "train f1 score for dataset rozetka : 0.7482842330655494\n",
      "train f1 score for dataset tripadvisor_hotels_ukraine : 0.7771732476960734\n",
      "train f1 score for dataset tripadvisor_restaurants_ukraine : 0.7743206887428986\n",
      "train f1 score for translated==True : 0.7659238120857308\n",
      "train f1 score for translated==False : 0.7560278885755092\n",
      "val f1 score for dataset rozetka : 0.49167981669465705\n",
      "val f1 score for dataset tripadvisor_hotels_ukraine : 0.49991926543779497\n",
      "val f1 score for dataset tripadvisor_restaurants_ukraine : 0.5245903738283947\n",
      "val f1 score for translated==True : 0.511922178246489\n",
      "val f1 score for translated==False : 0.4854328708260646\n",
      "------------------------------\n",
      "Stopping early\n"
     ]
    }
   ],
   "source": [
    "dict_history, model = \\\n",
    "training_loop(model, epochs=20, batch_size=1024)"
   ]
  },
  {
   "cell_type": "code",
   "execution_count": 41,
   "id": "fc16eb41-29c6-443e-95a6-b263a76a65bc",
   "metadata": {},
   "outputs": [
    {
     "data": {
      "text/plain": [
       "{'train_f1_rozetka': [0.437367747642386,\n",
       "  0.5145919734381261,\n",
       "  0.5827558257036892,\n",
       "  0.6084245082248224,\n",
       "  0.6738936014350353,\n",
       "  0.6911650425137446,\n",
       "  0.6834039786126838,\n",
       "  0.7247121419701938,\n",
       "  0.7482842330655494],\n",
       " 'train_f1_tripadvisor_hotels_ukraine': [0.5293523900508075,\n",
       "  0.5719446881362562,\n",
       "  0.6330626778503772,\n",
       "  0.6543406384852164,\n",
       "  0.7198837932369796,\n",
       "  0.734854522991452,\n",
       "  0.6989184547895867,\n",
       "  0.7331359867389742,\n",
       "  0.7771732476960734],\n",
       " 'train_f1_tripadvisor_restaurants_ukraine': [0.5256623980390459,\n",
       "  0.5849139379480904,\n",
       "  0.6367493313244652,\n",
       "  0.656020880666486,\n",
       "  0.7206720262070402,\n",
       "  0.7312515978852716,\n",
       "  0.7035005439187242,\n",
       "  0.7424191138057445,\n",
       "  0.7743206887428986],\n",
       " 'train_f1_translated==True': [0.4983898927232565,\n",
       "  0.5591699414255232,\n",
       "  0.617663556220885,\n",
       "  0.6391226032526481,\n",
       "  0.7036721205349766,\n",
       "  0.717215691012618,\n",
       "  0.6967332489258288,\n",
       "  0.7351496298311879,\n",
       "  0.7659238120857308],\n",
       " 'train_f1_translated==False': [0.43437107813815246,\n",
       "  0.5176429874952249,\n",
       "  0.5880156792438174,\n",
       "  0.6169578783689993,\n",
       "  0.6851865334898164,\n",
       "  0.7008609929213657,\n",
       "  0.6899028913304137,\n",
       "  0.7322503281829913,\n",
       "  0.7560278885755092],\n",
       " 'val_f1_rozetka': [0.4095496084745546,\n",
       "  0.449691481727855,\n",
       "  0.47204747463408336,\n",
       "  0.4673933508779551,\n",
       "  0.4867926823140326,\n",
       "  0.4848156309291821,\n",
       "  0.4702324314486665,\n",
       "  0.480571484910271,\n",
       "  0.49167981669465705],\n",
       " 'val_f1_tripadvisor_hotels_ukraine': [0.5005684022552526,\n",
       "  0.5137251117466658,\n",
       "  0.5212850470376819,\n",
       "  0.5039417048327101,\n",
       "  0.5206334966068212,\n",
       "  0.5186559890007983,\n",
       "  0.48728594103346123,\n",
       "  0.48915467285385245,\n",
       "  0.49991926543779497],\n",
       " 'val_f1_tripadvisor_restaurants_ukraine': [0.4981498844302175,\n",
       "  0.5210864891351906,\n",
       "  0.5335486076440024,\n",
       "  0.5294935007416763,\n",
       "  0.5463230836478336,\n",
       "  0.5355260071206928,\n",
       "  0.5104814859707708,\n",
       "  0.5136180930123109,\n",
       "  0.5245903738283947],\n",
       " 'val_f1_translated==True': [0.4702923295482476,\n",
       "  0.4975852386007352,\n",
       "  0.5119820338667869,\n",
       "  0.5060316523502114,\n",
       "  0.5232921308558778,\n",
       "  0.5169009998498187,\n",
       "  0.49468737321685463,\n",
       "  0.499497071984369,\n",
       "  0.511922178246489],\n",
       " 'val_f1_translated==False': [0.4073151833273066,\n",
       "  0.44162287468319983,\n",
       "  0.4646706530015304,\n",
       "  0.45928629576109337,\n",
       "  0.48309047169357955,\n",
       "  0.4806680634284935,\n",
       "  0.46471098248957815,\n",
       "  0.4781855066638088,\n",
       "  0.4854328708260646],\n",
       " 'train_f1': [0.4909542710069893,\n",
       "  0.5542993990260499,\n",
       "  0.6141155206760776,\n",
       "  0.636569630096224,\n",
       "  0.7016689479269342,\n",
       "  0.7154672953683245,\n",
       "  0.6961762238136994,\n",
       "  0.7350424599795404,\n",
       "  0.7649561007335428],\n",
       " 'val_f1': [0.46315861074759185,\n",
       "  0.491141153472405,\n",
       "  0.5063041168770956,\n",
       "  0.5003840689273307,\n",
       "  0.5186255040436825,\n",
       "  0.5127587168534454,\n",
       "  0.4912688937087715,\n",
       "  0.4971663663246878,\n",
       "  0.5089468115050101],\n",
       " 'train_loss': [0.7250731587409973,\n",
       "  0.591680645942688,\n",
       "  0.5335545539855957,\n",
       "  0.4853099584579468,\n",
       "  0.43656766414642334,\n",
       "  0.39056700468063354,\n",
       "  0.35204601287841797,\n",
       "  0.3238568603992462,\n",
       "  0.2980184257030487],\n",
       " 'val_loss': [0.6465298533439636,\n",
       "  0.6426146030426025,\n",
       "  0.66872239112854,\n",
       "  0.7201712727546692,\n",
       "  0.7753233313560486,\n",
       "  0.8946325778961182,\n",
       "  0.986064076423645,\n",
       "  1.0353559255599976,\n",
       "  1.1306785345077515]}"
      ]
     },
     "execution_count": 41,
     "metadata": {},
     "output_type": "execute_result"
    }
   ],
   "source": [
    "dict_history"
   ]
  },
  {
   "cell_type": "markdown",
   "id": "b8d77413-4c00-4295-b7db-fe06dd7b23b5",
   "metadata": {},
   "source": [
    "# Show charts"
   ]
  },
  {
   "cell_type": "code",
   "execution_count": 42,
   "id": "b7f8ef02-623e-4ebb-8e1d-8da77c3ed9bc",
   "metadata": {},
   "outputs": [],
   "source": [
    "import seaborn as sns\n",
    "import matplotlib.pyplot as plt"
   ]
  },
  {
   "cell_type": "code",
   "execution_count": 43,
   "id": "521cf7cf-e1b2-42ce-8e95-5a2e61440247",
   "metadata": {},
   "outputs": [],
   "source": [
    "def plot_history(dict_history, columns):\n",
    "    plt.figure(figsize=(12,8))\n",
    "    for i in columns:\n",
    "        to_plot = dict_history[i]\n",
    "        plt.plot(range(len(to_plot)), to_plot, 'o-')\n",
    "    plt.xticks(range(len(to_plot)), range(len(to_plot)))\n",
    "    plt.xlabel('Epochs')\n",
    "    plt.legend(columns)"
   ]
  },
  {
   "cell_type": "code",
   "execution_count": 44,
   "id": "7c3ca35a-2166-4552-bc23-67c6bfe314d7",
   "metadata": {},
   "outputs": [
    {
     "data": {
      "image/png": "[encoded data removed]",
      "text/plain": [
       "<Figure size 1200x800 with 1 Axes>"
      ]
     },
     "metadata": {},
     "output_type": "display_data"
    }
   ],
   "source": [
    "plot_history(dict_history, ['val_loss', 'train_loss'])"
   ]
  },
  {
   "cell_type": "code",
   "execution_count": 45,
   "id": "09978e6c-1975-4fe9-b6ed-064e00c1809e",
   "metadata": {},
   "outputs": [
    {
     "data": {
      "image/png": "[encoded data removed]",
      "text/plain": [
       "<Figure size 1200x800 with 1 Axes>"
      ]
     },
     "metadata": {},
     "output_type": "display_data"
    }
   ],
   "source": [
    "plot_history(dict_history, ['val_f1', 'train_f1'])"
   ]
  },
  {
   "cell_type": "markdown",
   "id": "9763d7cb-3c09-425e-984f-7675f7fae0e9",
   "metadata": {},
   "source": [
    "# Evaluate model"
   ]
  },
  {
   "cell_type": "code",
   "execution_count": 46,
   "id": "4bb7e54e-5868-4379-8456-c3c5ef648c33",
   "metadata": {},
   "outputs": [
    {
     "name": "stdout",
     "output_type": "stream",
     "text": [
      "65/65 [==============================] - 5s 28ms/step\n"
     ]
    }
   ],
   "source": [
    "test_predictions = np.argmax(model.predict(test_x, batch_size=1024), axis=-1)"
   ]
  },
  {
   "cell_type": "code",
   "execution_count": 56,
   "id": "bc061fbf-e0a9-40be-8cb7-e356aef090d5",
   "metadata": {},
   "outputs": [
    {
     "name": "stdout",
     "output_type": "stream",
     "text": [
      "Overall test f1-score : 0.5170779404855335\n"
     ]
    }
   ],
   "source": [
    "test_f1 = f1_score(y_true=test_y, y_pred=test_predictions,\n",
    "                         average='macro')\n",
    "print(f'Overall test f1-score : {test_f1}')"
   ]
  },
  {
   "cell_type": "code",
   "execution_count": 57,
   "id": "24a4badc-8c22-4bdc-8fb2-f7f68dbb56b7",
   "metadata": {},
   "outputs": [
    {
     "name": "stdout",
     "output_type": "stream",
     "text": [
      "test f1 score for dataset rozetka : 0.48337212491971\n",
      "test f1 score for dataset tripadvisor_hotels_ukraine : 0.532364525215911\n",
      "test f1 score for dataset tripadvisor_restaurants_ukraine : 0.5408745555941045\n",
      "test f1 score for translated==True : 0.5217788794936691\n",
      "test f1 score for translated==False : 0.48064572931906735\n"
     ]
    }
   ],
   "source": [
    "test_results = evaluate_on_datasets(y_true=test_y, y_pred=test_predictions,split='test')\n",
    "                     "
   ]
  },
  {
   "cell_type": "markdown",
   "id": "fe8efb21-1b71-49e7-8483-c00a9c357b1f",
   "metadata": {},
   "source": [
    "# Confusion matrix"
   ]
  },
  {
   "cell_type": "code",
   "execution_count": 49,
   "id": "5ea3f06f-0b96-4d3c-97bf-aad82784f2ac",
   "metadata": {},
   "outputs": [],
   "source": [
    "from sklearn.metrics import confusion_matrix"
   ]
  },
  {
   "cell_type": "code",
   "execution_count": 50,
   "id": "ab600e88-5b7f-43e8-8bae-52d9abe58ca3",
   "metadata": {},
   "outputs": [
    {
     "data": {
      "text/plain": [
       "array([0, 1, 2, 3, 4])"
      ]
     },
     "execution_count": 50,
     "metadata": {},
     "output_type": "execute_result"
    }
   ],
   "source": [
    "np.unique(test_y)"
   ]
  },
  {
   "cell_type": "code",
   "execution_count": 51,
   "id": "701c2bfe-a20e-4880-a580-01dbf0f8f92c",
   "metadata": {},
   "outputs": [
    {
     "data": {
      "image/png": "[encoded data removed]",
      "text/plain": [
       "<Figure size 1400x1000 with 2 Axes>"
      ]
     },
     "metadata": {},
     "output_type": "display_data"
    }
   ],
   "source": [
    "matrix = confusion_matrix(test_y, test_predictions)\n",
    "matrix_scaled = matrix.astype('float') / matrix.sum(axis=1)[:, np.newaxis]\n",
    "plt.figure(figsize=(14,10))\n",
    "sns.heatmap(matrix_scaled, annot=True, cmap=plt.cm.Blues, xticklabels=np.unique(test_y),\\\n",
    "            yticklabels=np.unique(test_y))\n",
    "plt.title('Confusion matrix')\n",
    "plt.xlabel('Predicted label')\n",
    "plt.ylabel('True label')\n",
    "\n",
    "plt.show()"
   ]
  },
  {
   "cell_type": "markdown",
   "id": "5447ad8a-3695-499c-9fe3-6d6d9cc2834c",
   "metadata": {},
   "source": [
    "# Save history results"
   ]
  },
  {
   "cell_type": "code",
   "execution_count": 63,
   "id": "b1d1cb15-8dae-414b-80c9-cabbcfd4168d",
   "metadata": {},
   "outputs": [],
   "source": [
    "history = pd.DataFrame(dict_history)\n",
    "for k,v in test_results.items():\n",
    "    history[k] = v"
   ]
  },
  {
   "cell_type": "code",
   "execution_count": 64,
   "id": "b2fc4c15-4277-4913-8080-91cddcc4d734",
   "metadata": {},
   "outputs": [],
   "source": [
    "history['model'] = model_name"
   ]
  },
  {
   "cell_type": "code",
   "execution_count": 65,
   "id": "5c502f4d-c578-411d-893e-20af974b0d20",
   "metadata": {
    "tags": []
   },
   "outputs": [
    {
     "data": {
      "text/html": [
       "<div>\n",
       "<style scoped>\n",
       "    .dataframe tbody tr th:only-of-type {\n",
       "        vertical-align: middle;\n",
       "    }\n",
       "\n",
       "    .dataframe tbody tr th {\n",
       "        vertical-align: top;\n",
       "    }\n",
       "\n",
       "    .dataframe thead th {\n",
       "        text-align: right;\n",
       "    }\n",
       "</style>\n",
       "<table border=\"1\" class=\"dataframe\">\n",
       "  <thead>\n",
       "    <tr style=\"text-align: right;\">\n",
       "      <th></th>\n",
       "      <th>train_f1_rozetka</th>\n",
       "      <th>train_f1_tripadvisor_hotels_ukraine</th>\n",
       "      <th>train_f1_tripadvisor_restaurants_ukraine</th>\n",
       "      <th>train_f1_translated==True</th>\n",
       "      <th>train_f1_translated==False</th>\n",
       "      <th>val_f1_rozetka</th>\n",
       "      <th>val_f1_tripadvisor_hotels_ukraine</th>\n",
       "      <th>val_f1_tripadvisor_restaurants_ukraine</th>\n",
       "      <th>val_f1_translated==True</th>\n",
       "      <th>val_f1_translated==False</th>\n",
       "      <th>train_f1</th>\n",
       "      <th>val_f1</th>\n",
       "      <th>train_loss</th>\n",
       "      <th>val_loss</th>\n",
       "      <th>test_f1_rozetka</th>\n",
       "      <th>test_f1_tripadvisor_hotels_ukraine</th>\n",
       "      <th>test_f1_tripadvisor_restaurants_ukraine</th>\n",
       "      <th>test_f1_translated==True</th>\n",
       "      <th>test_f1_translated==False</th>\n",
       "      <th>model</th>\n",
       "    </tr>\n",
       "  </thead>\n",
       "  <tbody>\n",
       "    <tr>\n",
       "      <th>0</th>\n",
       "      <td>0.437368</td>\n",
       "      <td>0.529352</td>\n",
       "      <td>0.525662</td>\n",
       "      <td>0.498390</td>\n",
       "      <td>0.434371</td>\n",
       "      <td>0.409550</td>\n",
       "      <td>0.500568</td>\n",
       "      <td>0.498150</td>\n",
       "      <td>0.470292</td>\n",
       "      <td>0.407315</td>\n",
       "      <td>0.490954</td>\n",
       "      <td>0.463159</td>\n",
       "      <td>0.725073</td>\n",
       "      <td>0.646530</td>\n",
       "      <td>0.483372</td>\n",
       "      <td>0.532365</td>\n",
       "      <td>0.540875</td>\n",
       "      <td>0.521779</td>\n",
       "      <td>0.480646</td>\n",
       "      <td>bilstm</td>\n",
       "    </tr>\n",
       "    <tr>\n",
       "      <th>1</th>\n",
       "      <td>0.514592</td>\n",
       "      <td>0.571945</td>\n",
       "      <td>0.584914</td>\n",
       "      <td>0.559170</td>\n",
       "      <td>0.517643</td>\n",
       "      <td>0.449691</td>\n",
       "      <td>0.513725</td>\n",
       "      <td>0.521086</td>\n",
       "      <td>0.497585</td>\n",
       "      <td>0.441623</td>\n",
       "      <td>0.554299</td>\n",
       "      <td>0.491141</td>\n",
       "      <td>0.591681</td>\n",
       "      <td>0.642615</td>\n",
       "      <td>0.483372</td>\n",
       "      <td>0.532365</td>\n",
       "      <td>0.540875</td>\n",
       "      <td>0.521779</td>\n",
       "      <td>0.480646</td>\n",
       "      <td>bilstm</td>\n",
       "    </tr>\n",
       "    <tr>\n",
       "      <th>2</th>\n",
       "      <td>0.582756</td>\n",
       "      <td>0.633063</td>\n",
       "      <td>0.636749</td>\n",
       "      <td>0.617664</td>\n",
       "      <td>0.588016</td>\n",
       "      <td>0.472047</td>\n",
       "      <td>0.521285</td>\n",
       "      <td>0.533549</td>\n",
       "      <td>0.511982</td>\n",
       "      <td>0.464671</td>\n",
       "      <td>0.614116</td>\n",
       "      <td>0.506304</td>\n",
       "      <td>0.533555</td>\n",
       "      <td>0.668722</td>\n",
       "      <td>0.483372</td>\n",
       "      <td>0.532365</td>\n",
       "      <td>0.540875</td>\n",
       "      <td>0.521779</td>\n",
       "      <td>0.480646</td>\n",
       "      <td>bilstm</td>\n",
       "    </tr>\n",
       "    <tr>\n",
       "      <th>3</th>\n",
       "      <td>0.608425</td>\n",
       "      <td>0.654341</td>\n",
       "      <td>0.656021</td>\n",
       "      <td>0.639123</td>\n",
       "      <td>0.616958</td>\n",
       "      <td>0.467393</td>\n",
       "      <td>0.503942</td>\n",
       "      <td>0.529494</td>\n",
       "      <td>0.506032</td>\n",
       "      <td>0.459286</td>\n",
       "      <td>0.636570</td>\n",
       "      <td>0.500384</td>\n",
       "      <td>0.485310</td>\n",
       "      <td>0.720171</td>\n",
       "      <td>0.483372</td>\n",
       "      <td>0.532365</td>\n",
       "      <td>0.540875</td>\n",
       "      <td>0.521779</td>\n",
       "      <td>0.480646</td>\n",
       "      <td>bilstm</td>\n",
       "    </tr>\n",
       "    <tr>\n",
       "      <th>4</th>\n",
       "      <td>0.673894</td>\n",
       "      <td>0.719884</td>\n",
       "      <td>0.720672</td>\n",
       "      <td>0.703672</td>\n",
       "      <td>0.685187</td>\n",
       "      <td>0.486793</td>\n",
       "      <td>0.520633</td>\n",
       "      <td>0.546323</td>\n",
       "      <td>0.523292</td>\n",
       "      <td>0.483090</td>\n",
       "      <td>0.701669</td>\n",
       "      <td>0.518626</td>\n",
       "      <td>0.436568</td>\n",
       "      <td>0.775323</td>\n",
       "      <td>0.483372</td>\n",
       "      <td>0.532365</td>\n",
       "      <td>0.540875</td>\n",
       "      <td>0.521779</td>\n",
       "      <td>0.480646</td>\n",
       "      <td>bilstm</td>\n",
       "    </tr>\n",
       "    <tr>\n",
       "      <th>5</th>\n",
       "      <td>0.691165</td>\n",
       "      <td>0.734855</td>\n",
       "      <td>0.731252</td>\n",
       "      <td>0.717216</td>\n",
       "      <td>0.700861</td>\n",
       "      <td>0.484816</td>\n",
       "      <td>0.518656</td>\n",
       "      <td>0.535526</td>\n",
       "      <td>0.516901</td>\n",
       "      <td>0.480668</td>\n",
       "      <td>0.715467</td>\n",
       "      <td>0.512759</td>\n",
       "      <td>0.390567</td>\n",
       "      <td>0.894633</td>\n",
       "      <td>0.483372</td>\n",
       "      <td>0.532365</td>\n",
       "      <td>0.540875</td>\n",
       "      <td>0.521779</td>\n",
       "      <td>0.480646</td>\n",
       "      <td>bilstm</td>\n",
       "    </tr>\n",
       "    <tr>\n",
       "      <th>6</th>\n",
       "      <td>0.683404</td>\n",
       "      <td>0.698918</td>\n",
       "      <td>0.703501</td>\n",
       "      <td>0.696733</td>\n",
       "      <td>0.689903</td>\n",
       "      <td>0.470232</td>\n",
       "      <td>0.487286</td>\n",
       "      <td>0.510481</td>\n",
       "      <td>0.494687</td>\n",
       "      <td>0.464711</td>\n",
       "      <td>0.696176</td>\n",
       "      <td>0.491269</td>\n",
       "      <td>0.352046</td>\n",
       "      <td>0.986064</td>\n",
       "      <td>0.483372</td>\n",
       "      <td>0.532365</td>\n",
       "      <td>0.540875</td>\n",
       "      <td>0.521779</td>\n",
       "      <td>0.480646</td>\n",
       "      <td>bilstm</td>\n",
       "    </tr>\n",
       "    <tr>\n",
       "      <th>7</th>\n",
       "      <td>0.724712</td>\n",
       "      <td>0.733136</td>\n",
       "      <td>0.742419</td>\n",
       "      <td>0.735150</td>\n",
       "      <td>0.732250</td>\n",
       "      <td>0.480571</td>\n",
       "      <td>0.489155</td>\n",
       "      <td>0.513618</td>\n",
       "      <td>0.499497</td>\n",
       "      <td>0.478186</td>\n",
       "      <td>0.735042</td>\n",
       "      <td>0.497166</td>\n",
       "      <td>0.323857</td>\n",
       "      <td>1.035356</td>\n",
       "      <td>0.483372</td>\n",
       "      <td>0.532365</td>\n",
       "      <td>0.540875</td>\n",
       "      <td>0.521779</td>\n",
       "      <td>0.480646</td>\n",
       "      <td>bilstm</td>\n",
       "    </tr>\n",
       "    <tr>\n",
       "      <th>8</th>\n",
       "      <td>0.748284</td>\n",
       "      <td>0.777173</td>\n",
       "      <td>0.774321</td>\n",
       "      <td>0.765924</td>\n",
       "      <td>0.756028</td>\n",
       "      <td>0.491680</td>\n",
       "      <td>0.499919</td>\n",
       "      <td>0.524590</td>\n",
       "      <td>0.511922</td>\n",
       "      <td>0.485433</td>\n",
       "      <td>0.764956</td>\n",
       "      <td>0.508947</td>\n",
       "      <td>0.298018</td>\n",
       "      <td>1.130679</td>\n",
       "      <td>0.483372</td>\n",
       "      <td>0.532365</td>\n",
       "      <td>0.540875</td>\n",
       "      <td>0.521779</td>\n",
       "      <td>0.480646</td>\n",
       "      <td>bilstm</td>\n",
       "    </tr>\n",
       "  </tbody>\n",
       "</table>\n",
       "</div>"
      ],
      "text/plain": [
       "   train_f1_rozetka  train_f1_tripadvisor_hotels_ukraine  \\\n",
       "0          0.437368                             0.529352   \n",
       "1          0.514592                             0.571945   \n",
       "2          0.582756                             0.633063   \n",
       "3          0.608425                             0.654341   \n",
       "4          0.673894                             0.719884   \n",
       "5          0.691165                             0.734855   \n",
       "6          0.683404                             0.698918   \n",
       "7          0.724712                             0.733136   \n",
       "8          0.748284                             0.777173   \n",
       "\n",
       "   train_f1_tripadvisor_restaurants_ukraine  train_f1_translated==True  \\\n",
       "0                                  0.525662                   0.498390   \n",
       "1                                  0.584914                   0.559170   \n",
       "2                                  0.636749                   0.617664   \n",
       "3                                  0.656021                   0.639123   \n",
       "4                                  0.720672                   0.703672   \n",
       "5                                  0.731252                   0.717216   \n",
       "6                                  0.703501                   0.696733   \n",
       "7                                  0.742419                   0.735150   \n",
       "8                                  0.774321                   0.765924   \n",
       "\n",
       "   train_f1_translated==False  val_f1_rozetka  \\\n",
       "0                    0.434371        0.409550   \n",
       "1                    0.517643        0.449691   \n",
       "2                    0.588016        0.472047   \n",
       "3                    0.616958        0.467393   \n",
       "4                    0.685187        0.486793   \n",
       "5                    0.700861        0.484816   \n",
       "6                    0.689903        0.470232   \n",
       "7                    0.732250        0.480571   \n",
       "8                    0.756028        0.491680   \n",
       "\n",
       "   val_f1_tripadvisor_hotels_ukraine  val_f1_tripadvisor_restaurants_ukraine  \\\n",
       "0                           0.500568                                0.498150   \n",
       "1                           0.513725                                0.521086   \n",
       "2                           0.521285                                0.533549   \n",
       "3                           0.503942                                0.529494   \n",
       "4                           0.520633                                0.546323   \n",
       "5                           0.518656                                0.535526   \n",
       "6                           0.487286                                0.510481   \n",
       "7                           0.489155                                0.513618   \n",
       "8                           0.499919                                0.524590   \n",
       "\n",
       "   val_f1_translated==True  val_f1_translated==False  train_f1    val_f1  \\\n",
       "0                 0.470292                  0.407315  0.490954  0.463159   \n",
       "1                 0.497585                  0.441623  0.554299  0.491141   \n",
       "2                 0.511982                  0.464671  0.614116  0.506304   \n",
       "3                 0.506032                  0.459286  0.636570  0.500384   \n",
       "4                 0.523292                  0.483090  0.701669  0.518626   \n",
       "5                 0.516901                  0.480668  0.715467  0.512759   \n",
       "6                 0.494687                  0.464711  0.696176  0.491269   \n",
       "7                 0.499497                  0.478186  0.735042  0.497166   \n",
       "8                 0.511922                  0.485433  0.764956  0.508947   \n",
       "\n",
       "   train_loss  val_loss  test_f1_rozetka  test_f1_tripadvisor_hotels_ukraine  \\\n",
       "0    0.725073  0.646530         0.483372                            0.532365   \n",
       "1    0.591681  0.642615         0.483372                            0.532365   \n",
       "2    0.533555  0.668722         0.483372                            0.532365   \n",
       "3    0.485310  0.720171         0.483372                            0.532365   \n",
       "4    0.436568  0.775323         0.483372                            0.532365   \n",
       "5    0.390567  0.894633         0.483372                            0.532365   \n",
       "6    0.352046  0.986064         0.483372                            0.532365   \n",
       "7    0.323857  1.035356         0.483372                            0.532365   \n",
       "8    0.298018  1.130679         0.483372                            0.532365   \n",
       "\n",
       "   test_f1_tripadvisor_restaurants_ukraine  test_f1_translated==True  \\\n",
       "0                                 0.540875                  0.521779   \n",
       "1                                 0.540875                  0.521779   \n",
       "2                                 0.540875                  0.521779   \n",
       "3                                 0.540875                  0.521779   \n",
       "4                                 0.540875                  0.521779   \n",
       "5                                 0.540875                  0.521779   \n",
       "6                                 0.540875                  0.521779   \n",
       "7                                 0.540875                  0.521779   \n",
       "8                                 0.540875                  0.521779   \n",
       "\n",
       "   test_f1_translated==False   model  \n",
       "0                   0.480646  bilstm  \n",
       "1                   0.480646  bilstm  \n",
       "2                   0.480646  bilstm  \n",
       "3                   0.480646  bilstm  \n",
       "4                   0.480646  bilstm  \n",
       "5                   0.480646  bilstm  \n",
       "6                   0.480646  bilstm  \n",
       "7                   0.480646  bilstm  \n",
       "8                   0.480646  bilstm  "
      ]
     },
     "execution_count": 65,
     "metadata": {},
     "output_type": "execute_result"
    }
   ],
   "source": [
    "history"
   ]
  },
  {
   "cell_type": "code",
   "execution_count": 66,
   "id": "344fd96f-8e81-47b6-8332-0bb3892edfa4",
   "metadata": {},
   "outputs": [],
   "source": [
    "history.to_csv(\"/home/user/jupyter_notebooks/Ukranian-SA/notebooks/training/training_results_filtered.csv\", mode='a', header=None, index=None)"
   ]
  },
  {
   "cell_type": "code",
   "execution_count": null,
   "id": "fa349138-0297-447d-bad4-30b30ed0b94b",
   "metadata": {},
   "outputs": [
    {
     "name": "stdout",
     "output_type": "stream",
     "text": [
      "WARNING:tensorflow:Compiled the loaded model, but the compiled metrics have yet to be built. `model.compile_metrics` will be empty until you train or evaluate the model.\n"
     ]
    }
   ],
   "source": [
    "model.save(f'/home/user/files_for_research_Vova/{model_name}.h5')"
   ]
  },
  {
   "cell_type": "code",
   "execution_count": null,
   "id": "58b7f411-15fd-4de5-9d94-6119c6fe038f",
   "metadata": {},
   "outputs": [],
   "source": []
  }
 ],
 "metadata": {
  "kernelspec": {
   "display_name": "tensorflow_cuda12",
   "language": "python",
   "name": "tensorflow_cuda12"
  },
  "language_info": {
   "codemirror_mode": {
    "name": "ipython",
    "version": 3
   },
   "file_extension": ".py",
   "mimetype": "text/x-python",
   "name": "python",
   "nbconvert_exporter": "python",
   "pygments_lexer": "ipython3",
   "version": "3.8.10"
  }
 },
 "nbformat": 4,
 "nbformat_minor": 5
}
