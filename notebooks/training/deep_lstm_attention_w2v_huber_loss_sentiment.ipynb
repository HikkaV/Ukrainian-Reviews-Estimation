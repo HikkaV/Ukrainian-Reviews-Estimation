{
 "cells": [
  {
   "cell_type": "code",
   "execution_count": 1,
   "id": "94761116-1530-448d-a1f6-593d90bec639",
   "metadata": {},
   "outputs": [
    {
     "name": "stdout",
     "output_type": "stream",
     "text": [
      "Collecting tokenizers\n",
      "  Downloading tokenizers-0.13.3-cp38-cp38-manylinux_2_17_x86_64.manylinux2014_x86_64.whl (7.8 MB)\n",
      "\u001b[2K     \u001b[90m━━━━━━━━━━━━━━━━━━━━━━━━━━━━━━━━━━━━━━━━\u001b[0m \u001b[32m7.8/7.8 MB\u001b[0m \u001b[31m10.9 MB/s\u001b[0m eta \u001b[36m0:00:00\u001b[0m00:01\u001b[0m00:01\u001b[0m\n",
      "\u001b[?25hInstalling collected packages: tokenizers\n",
      "Successfully installed tokenizers-0.13.3\n",
      "\u001b[33mWARNING: Running pip as the 'root' user can result in broken permissions and conflicting behaviour with the system package manager. It is recommended to use a virtual environment instead: https://pip.pypa.io/warnings/venv\u001b[0m\u001b[33m\n",
      "\u001b[0m"
     ]
    },
    {
     "name": "stderr",
     "output_type": "stream",
     "text": [
      "2023-05-14 22:52:43.271521: I tensorflow/core/platform/cpu_feature_guard.cc:194] This TensorFlow binary is optimized with oneAPI Deep Neural Network Library (oneDNN) to use the following CPU instructions in performance-critical operations:  SSE3 SSE4.1 SSE4.2 AVX\n",
      "To enable them in other operations, rebuild TensorFlow with the appropriate compiler flags.\n"
     ]
    }
   ],
   "source": [
    "!pip install tokenizers\n",
    "import tensorflow as tf\n",
    "from tokenizers import Tokenizer, models, pre_tokenizers, trainers, Regex\n",
    "import tokenizers\n",
    "import pandas as pd"
   ]
  },
  {
   "cell_type": "code",
   "execution_count": 2,
   "id": "fada8fbb-9dc2-4e9d-935d-2cb0d6684738",
   "metadata": {},
   "outputs": [],
   "source": [
    "model_name = 'deep_lstm_attention_w2v_huber'"
   ]
  },
  {
   "cell_type": "markdown",
   "id": "aa46fb49-08a8-4809-b697-680813299d47",
   "metadata": {},
   "source": [
    "# Load data"
   ]
  },
  {
   "cell_type": "code",
   "execution_count": 3,
   "id": "d01ad050-f023-4253-bc33-72c76bce3944",
   "metadata": {},
   "outputs": [],
   "source": [
    "df = pd.read_csv('/home/user/files_for_research_Vova/processed_data.csv',\\\n",
    "                 usecols=['review_translate',\n",
    "                                                            'dataset_name',\n",
    "                                                            'rating',\n",
    "                                                           'translated'])"
   ]
  },
  {
   "cell_type": "code",
   "execution_count": 4,
   "id": "99ee8e3a-2281-4ec1-8107-49e3ba47d2a9",
   "metadata": {},
   "outputs": [
    {
     "data": {
      "text/html": [
       "<div>\n",
       "<style scoped>\n",
       "    .dataframe tbody tr th:only-of-type {\n",
       "        vertical-align: middle;\n",
       "    }\n",
       "\n",
       "    .dataframe tbody tr th {\n",
       "        vertical-align: top;\n",
       "    }\n",
       "\n",
       "    .dataframe thead th {\n",
       "        text-align: right;\n",
       "    }\n",
       "</style>\n",
       "<table border=\"1\" class=\"dataframe\">\n",
       "  <thead>\n",
       "    <tr style=\"text-align: right;\">\n",
       "      <th></th>\n",
       "      <th>review_translate</th>\n",
       "      <th>rating</th>\n",
       "      <th>dataset_name</th>\n",
       "      <th>translated</th>\n",
       "    </tr>\n",
       "  </thead>\n",
       "  <tbody>\n",
       "    <tr>\n",
       "      <th>0</th>\n",
       "      <td>Якісна пластмаса , переворот 360 градусвв</td>\n",
       "      <td>5.0</td>\n",
       "      <td>rozetka</td>\n",
       "      <td>False</td>\n",
       "    </tr>\n",
       "    <tr>\n",
       "      <th>1</th>\n",
       "      <td>За такі гроші це самий топ</td>\n",
       "      <td>5.0</td>\n",
       "      <td>rozetka</td>\n",
       "      <td>False</td>\n",
       "    </tr>\n",
       "    <tr>\n",
       "      <th>2</th>\n",
       "      <td>За такі гроші - просто супер ! Рекомендую .</td>\n",
       "      <td>5.0</td>\n",
       "      <td>rozetka</td>\n",
       "      <td>False</td>\n",
       "    </tr>\n",
       "    <tr>\n",
       "      <th>3</th>\n",
       "      <td>Виконує свою роботу не погано . але що ви хоті...</td>\n",
       "      <td>4.0</td>\n",
       "      <td>rozetka</td>\n",
       "      <td>False</td>\n",
       "    </tr>\n",
       "    <tr>\n",
       "      <th>4</th>\n",
       "      <td>Купляв на стару сістему як основний під віндов...</td>\n",
       "      <td>4.0</td>\n",
       "      <td>rozetka</td>\n",
       "      <td>False</td>\n",
       "    </tr>\n",
       "  </tbody>\n",
       "</table>\n",
       "</div>"
      ],
      "text/plain": [
       "                                    review_translate  rating dataset_name  \\\n",
       "0          Якісна пластмаса , переворот 360 градусвв     5.0      rozetka   \n",
       "1                         За такі гроші це самий топ     5.0      rozetka   \n",
       "2        За такі гроші - просто супер ! Рекомендую .     5.0      rozetka   \n",
       "3  Виконує свою роботу не погано . але що ви хоті...     4.0      rozetka   \n",
       "4  Купляв на стару сістему як основний під віндов...     4.0      rozetka   \n",
       "\n",
       "   translated  \n",
       "0       False  \n",
       "1       False  \n",
       "2       False  \n",
       "3       False  \n",
       "4       False  "
      ]
     },
     "execution_count": 4,
     "metadata": {},
     "output_type": "execute_result"
    }
   ],
   "source": [
    "df.head()"
   ]
  },
  {
   "cell_type": "code",
   "execution_count": 5,
   "id": "9df9684b-0b26-4d99-ad21-771ddbc66966",
   "metadata": {},
   "outputs": [],
   "source": [
    "df['rating'] = df['rating'].astype(int).map({1:'negative', 2 : 'negative', \n",
    "                                          3 : 'neutral', 4 : 'positive',\n",
    "                                          5 : 'positive'})"
   ]
  },
  {
   "cell_type": "code",
   "execution_count": 6,
   "id": "870b0de2-18ef-42ce-9bd5-1ff68b8a1776",
   "metadata": {},
   "outputs": [],
   "source": [
    "subsets = pd.read_csv('/home/user/files_for_research_Vova/train_val_test_indices.csv')"
   ]
  },
  {
   "cell_type": "code",
   "execution_count": 7,
   "id": "778fb1c0-5396-480b-8ce5-e728d06fc3d8",
   "metadata": {},
   "outputs": [
    {
     "data": {
      "text/html": [
       "<div>\n",
       "<style scoped>\n",
       "    .dataframe tbody tr th:only-of-type {\n",
       "        vertical-align: middle;\n",
       "    }\n",
       "\n",
       "    .dataframe tbody tr th {\n",
       "        vertical-align: top;\n",
       "    }\n",
       "\n",
       "    .dataframe thead th {\n",
       "        text-align: right;\n",
       "    }\n",
       "</style>\n",
       "<table border=\"1\" class=\"dataframe\">\n",
       "  <thead>\n",
       "    <tr style=\"text-align: right;\">\n",
       "      <th></th>\n",
       "      <th>index</th>\n",
       "      <th>split</th>\n",
       "    </tr>\n",
       "  </thead>\n",
       "  <tbody>\n",
       "    <tr>\n",
       "      <th>0</th>\n",
       "      <td>0</td>\n",
       "      <td>train</td>\n",
       "    </tr>\n",
       "    <tr>\n",
       "      <th>1</th>\n",
       "      <td>1</td>\n",
       "      <td>test</td>\n",
       "    </tr>\n",
       "    <tr>\n",
       "      <th>2</th>\n",
       "      <td>2</td>\n",
       "      <td>train</td>\n",
       "    </tr>\n",
       "    <tr>\n",
       "      <th>3</th>\n",
       "      <td>3</td>\n",
       "      <td>train</td>\n",
       "    </tr>\n",
       "    <tr>\n",
       "      <th>4</th>\n",
       "      <td>4</td>\n",
       "      <td>train</td>\n",
       "    </tr>\n",
       "  </tbody>\n",
       "</table>\n",
       "</div>"
      ],
      "text/plain": [
       "   index  split\n",
       "0      0  train\n",
       "1      1   test\n",
       "2      2  train\n",
       "3      3  train\n",
       "4      4  train"
      ]
     },
     "execution_count": 7,
     "metadata": {},
     "output_type": "execute_result"
    }
   ],
   "source": [
    "subsets.head()"
   ]
  },
  {
   "cell_type": "code",
   "execution_count": 8,
   "id": "bb145e0a-2bf5-4004-b334-15433414769a",
   "metadata": {},
   "outputs": [],
   "source": [
    "subsets = subsets.merge(df[['dataset_name', 'translated']], left_on='index', right_index=True)"
   ]
  },
  {
   "cell_type": "markdown",
   "id": "30e15a6e-3ce1-4488-b779-c00e23570fd9",
   "metadata": {},
   "source": [
    "# Filter data"
   ]
  },
  {
   "cell_type": "code",
   "execution_count": 9,
   "id": "719c38c1-8226-4995-90a7-427907e02867",
   "metadata": {
    "tags": []
   },
   "outputs": [],
   "source": [
    "bad_indices = pd.read_csv('/home/user/files_for_research_Vova/files_to_check.csv')"
   ]
  },
  {
   "cell_type": "code",
   "execution_count": 10,
   "id": "1a551a47-2420-4cf8-a611-c49f2a74deb9",
   "metadata": {
    "tags": []
   },
   "outputs": [],
   "source": [
    "subsets = subsets[~subsets.index.isin(bad_indices['id'].values)]"
   ]
  },
  {
   "cell_type": "code",
   "execution_count": 11,
   "id": "44c17bd9-1620-44ff-b600-b16d1841b89b",
   "metadata": {
    "tags": []
   },
   "outputs": [],
   "source": [
    "df = df[~df.index.isin(bad_indices['id'].values)]"
   ]
  },
  {
   "cell_type": "code",
   "execution_count": 12,
   "id": "b451982a-aabd-4a43-8cfd-72b822ff9bb6",
   "metadata": {
    "tags": []
   },
   "outputs": [],
   "source": [
    "df, subsets = df.reset_index().drop(columns='index'), subsets.reset_index().drop(columns='index')"
   ]
  },
  {
   "cell_type": "markdown",
   "id": "f35025fc-9c2c-490e-9231-10f4b38e230b",
   "metadata": {},
   "source": [
    "# Load tokenizer"
   ]
  },
  {
   "cell_type": "code",
   "execution_count": 13,
   "id": "dc7ca142-1e37-49c2-b8b8-2d5f74ee98c8",
   "metadata": {},
   "outputs": [],
   "source": [
    "tokenizer = Tokenizer(models.BPE.from_file(vocab='/home/user/files_for_research_Vova/tokenizer_30k.json',\n",
    "            merges='/home/user/files_for_research_Vova/merges_tokenizer.txt',\n",
    "                                          end_of_word_suffix='</w>'))\n",
    "tokenizer.pre_tokenizer = pre_tokenizers.Split(Regex(r\"[\\w'-]+|[^\\w\\s'-]+\"),'removed', True)"
   ]
  },
  {
   "cell_type": "markdown",
   "id": "a86c13af-5e8f-49e4-b337-7b3a70163c1c",
   "metadata": {},
   "source": [
    "# Encode text"
   ]
  },
  {
   "cell_type": "code",
   "execution_count": 14,
   "id": "ef69c9c8-b050-4904-8e93-5e1b89361f8d",
   "metadata": {},
   "outputs": [],
   "source": [
    "import seaborn as sns\n",
    "import numpy as np"
   ]
  },
  {
   "cell_type": "code",
   "execution_count": 15,
   "id": "e2e913ba-749b-4161-a2db-0cb6af2b025c",
   "metadata": {},
   "outputs": [],
   "source": [
    "sns.set()"
   ]
  },
  {
   "cell_type": "code",
   "execution_count": 16,
   "id": "0dda1c9a-9961-4097-bd69-3e5bd58d6789",
   "metadata": {},
   "outputs": [],
   "source": [
    "df['review_translate'] = df['review_translate'].str.lower()"
   ]
  },
  {
   "cell_type": "code",
   "execution_count": 17,
   "id": "3151fe97-eded-408c-be0d-df2b49051e7c",
   "metadata": {},
   "outputs": [],
   "source": [
    "df['encoded'] = tokenizer.encode_batch(df['review_translate'].values)"
   ]
  },
  {
   "cell_type": "code",
   "execution_count": 18,
   "id": "8c01d676-5e85-4b7d-b7c0-5d99b8ba1d44",
   "metadata": {},
   "outputs": [],
   "source": [
    "df['encoded'] = df['encoded'].apply(lambda x: x.ids)"
   ]
  },
  {
   "cell_type": "code",
   "execution_count": 19,
   "id": "47ddda71-f140-49f7-89c8-fea94b8bcdfd",
   "metadata": {},
   "outputs": [
    {
     "name": "stderr",
     "output_type": "stream",
     "text": [
      "/tmp/ipykernel_1/3749403729.py:1: UserWarning: \n",
      "\n",
      "`distplot` is a deprecated function and will be removed in seaborn v0.14.0.\n",
      "\n",
      "Please adapt your code to use either `displot` (a figure-level function with\n",
      "similar flexibility) or `histplot` (an axes-level function for histograms).\n",
      "\n",
      "For a guide to updating your code to use the new functions, please see\n",
      "https://gist.github.com/mwaskom/de44147ed2974457ad6372750bbe5751\n",
      "\n",
      "  sns.distplot(np.log10(df['encoded'].apply(len)))\n"
     ]
    },
    {
     "data": {
      "text/plain": [
       "<AxesSubplot: xlabel='encoded', ylabel='Density'>"
      ]
     },
     "execution_count": 19,
     "metadata": {},
     "output_type": "execute_result"
    },
    {
     "data": {
      "image/png": "[encoded data removed]",
      "text/plain": [
       "<Figure size 640x480 with 1 Axes>"
      ]
     },
     "metadata": {},
     "output_type": "display_data"
    }
   ],
   "source": [
    "sns.distplot(np.log10(df['encoded'].apply(len)))"
   ]
  },
  {
   "cell_type": "code",
   "execution_count": 20,
   "id": "e81a0c0b-0dd0-4437-872e-0c13fc041b99",
   "metadata": {},
   "outputs": [
    {
     "data": {
      "text/plain": [
       "326.0"
      ]
     },
     "execution_count": 20,
     "metadata": {},
     "output_type": "execute_result"
    }
   ],
   "source": [
    "np.percentile(df['encoded'].apply(len), 99)"
   ]
  },
  {
   "cell_type": "code",
   "execution_count": 21,
   "id": "c680a61a-cee2-4fbd-9a97-17a9c7ec74a9",
   "metadata": {},
   "outputs": [],
   "source": [
    "encoded_tokens = df['encoded'].values"
   ]
  },
  {
   "cell_type": "code",
   "execution_count": 22,
   "id": "b3d6e285-87e6-4ce1-be8a-cb614270a8a4",
   "metadata": {},
   "outputs": [],
   "source": [
    "from itertools import chain"
   ]
  },
  {
   "cell_type": "code",
   "execution_count": 23,
   "id": "7f8c9fac-7ed8-45c3-8114-763b1ed0c138",
   "metadata": {},
   "outputs": [],
   "source": [
    "padded_tokens = tf.keras.preprocessing.sequence\\\n",
    ".pad_sequences(encoded_tokens, maxlen=300, padding=\"post\")\n"
   ]
  },
  {
   "cell_type": "code",
   "execution_count": 24,
   "id": "8137187b-fd7f-4199-883e-7ff778a94c0a",
   "metadata": {},
   "outputs": [
    {
     "data": {
      "text/plain": [
       "(655470, 300)"
      ]
     },
     "execution_count": 24,
     "metadata": {},
     "output_type": "execute_result"
    }
   ],
   "source": [
    "padded_tokens.shape"
   ]
  },
  {
   "cell_type": "markdown",
   "id": "a1c7967c-c7b1-418a-8861-dbb9877e1abe",
   "metadata": {},
   "source": [
    "# Get embeddings"
   ]
  },
  {
   "cell_type": "code",
   "execution_count": 25,
   "id": "8b9cb626-f2d2-4f92-9da9-a414d1c51441",
   "metadata": {
    "tags": []
   },
   "outputs": [
    {
     "name": "stdout",
     "output_type": "stream",
     "text": [
      "huggingface/tokenizers: The current process just got forked, after parallelism has already been used. Disabling parallelism to avoid deadlocks...\n",
      "To disable this warning, you can either:\n",
      "\t- Avoid using `tokenizers` before the fork if possible\n",
      "\t- Explicitly set the environment variable TOKENIZERS_PARALLELISM=(true | false)\n",
      "Collecting gensim\n",
      "  Downloading gensim-4.3.1-cp38-cp38-manylinux_2_17_x86_64.manylinux2014_x86_64.whl (26.5 MB)\n",
      "\u001b[2K     \u001b[90m━━━━━━━━━━━━━━━━━━━━━━━━━━━━━━━━━━━━━━━━\u001b[0m \u001b[32m26.5/26.5 MB\u001b[0m \u001b[31m9.7 MB/s\u001b[0m eta \u001b[36m0:00:00\u001b[0m:00:01\u001b[0m00:01\u001b[0m\n",
      "\u001b[?25hCollecting smart-open>=1.8.1\n",
      "  Downloading smart_open-6.3.0-py3-none-any.whl (56 kB)\n",
      "\u001b[2K     \u001b[90m━━━━━━━━━━━━━━━━━━━━━━━━━━━━━━━━━━━━━━━━\u001b[0m \u001b[32m56.8/56.8 kB\u001b[0m \u001b[31m9.1 MB/s\u001b[0m eta \u001b[36m0:00:00\u001b[0m\n",
      "\u001b[?25hCollecting scipy>=1.7.0\n",
      "  Downloading scipy-1.10.1-cp38-cp38-manylinux_2_17_x86_64.manylinux2014_x86_64.whl (34.5 MB)\n",
      "\u001b[2K     \u001b[90m━━━━━━━━━━━━━━━━━━━━━━━━━━━━━━━━━━━━━━━━\u001b[0m \u001b[32m34.5/34.5 MB\u001b[0m \u001b[31m9.5 MB/s\u001b[0m eta \u001b[36m0:00:00\u001b[0m:00:01\u001b[0m00:01\u001b[0m\n",
      "\u001b[?25hRequirement already satisfied: numpy>=1.18.5 in /usr/local/lib/python3.8/dist-packages (from gensim) (1.22.2)\n",
      "Installing collected packages: smart-open, scipy, gensim\n",
      "  Attempting uninstall: scipy\n",
      "    Found existing installation: scipy 1.6.3\n",
      "    Uninstalling scipy-1.6.3:\n",
      "      Successfully uninstalled scipy-1.6.3\n",
      "Successfully installed gensim-4.3.1 scipy-1.10.1 smart-open-6.3.0\n",
      "\u001b[33mWARNING: Running pip as the 'root' user can result in broken permissions and conflicting behaviour with the system package manager. It is recommended to use a virtual environment instead: https://pip.pypa.io/warnings/venv\u001b[0m\u001b[33m\n",
      "\u001b[0m"
     ]
    }
   ],
   "source": [
    "!pip install gensim"
   ]
  },
  {
   "cell_type": "code",
   "execution_count": 26,
   "id": "0fd88a5a-f52d-4723-8580-33979d9e51e0",
   "metadata": {
    "tags": []
   },
   "outputs": [],
   "source": [
    "import gensim"
   ]
  },
  {
   "cell_type": "code",
   "execution_count": 27,
   "id": "4c013631-8fa6-4cbd-8969-fd135ab7a0d6",
   "metadata": {
    "tags": []
   },
   "outputs": [],
   "source": [
    "def load_w2vec(path, vocab, embed_dim=300, glove_backup={}):\n",
    "    vectors = gensim.models.KeyedVectors.load_word2vec_format(path, binary=True)\n",
    "    emb_matrix = np.zeros(shape = (len(vocab) + 1, embed_dim))\n",
    "    missed = 0\n",
    "    for word, idx in vocab.items():\n",
    "        if idx!=0:\n",
    "            try:\n",
    "                emb_matrix[idx,:] = vectors[word]\n",
    "            except KeyError:\n",
    "                if glove_backup:\n",
    "                    try:\n",
    "                        emb_matrix[idx,:] = glove_backup[word]\n",
    "                    except:\n",
    "                        missed+=1\n",
    "                else:\n",
    "                    missed+=1\n",
    "    print(f'Missed words : {missed}')\n",
    "    return emb_matrix, vectors"
   ]
  },
  {
   "cell_type": "code",
   "execution_count": 28,
   "id": "89e196ea-1888-415d-b4c7-3e8ffc0b7ed4",
   "metadata": {
    "tags": []
   },
   "outputs": [
    {
     "name": "stdout",
     "output_type": "stream",
     "text": [
      "Missed words : 397\n"
     ]
    }
   ],
   "source": [
    "emb_matrix, vectors = load_w2vec('/home/user/files_for_research_Vova/embeddings_w2v.bin',\n",
    "                                tokenizer.get_vocab())"
   ]
  },
  {
   "cell_type": "markdown",
   "id": "5bc9a5b3-3794-4ab8-a16d-fa572ac9d2f6",
   "metadata": {},
   "source": [
    "# Get labels and split data"
   ]
  },
  {
   "cell_type": "code",
   "execution_count": 29,
   "id": "fbdb3b33-cbb6-4024-b683-8819ad6d7b3f",
   "metadata": {},
   "outputs": [],
   "source": [
    "mapping = dict([(i,c) for c,i in enumerate(df['rating'].unique())])"
   ]
  },
  {
   "cell_type": "code",
   "execution_count": 30,
   "id": "0d9dcd18-b69c-4b71-8f83-85f750be1daa",
   "metadata": {},
   "outputs": [],
   "source": [
    "y = df['rating'].map(mapping).values"
   ]
  },
  {
   "cell_type": "code",
   "execution_count": 31,
   "id": "abf0a14a-7050-4689-806f-dbe4f094f0d8",
   "metadata": {},
   "outputs": [],
   "source": [
    "num_classes = len(set(y))"
   ]
  },
  {
   "cell_type": "code",
   "execution_count": 32,
   "id": "59b5a397-faf0-43be-b498-a3d4af06fbc0",
   "metadata": {},
   "outputs": [],
   "source": [
    "train_indices, val_indices, test_indices = subsets[subsets['split']=='train'].index.tolist(),\\\n",
    "subsets[subsets['split']=='val'].index.tolist(),\\\n",
    "subsets[subsets['split']=='test'].index.tolist()\n"
   ]
  },
  {
   "cell_type": "code",
   "execution_count": 33,
   "id": "7564a2e1-11d7-44cf-803b-03b4eb3b0dce",
   "metadata": {},
   "outputs": [],
   "source": [
    "train_y, val_y, test_y = y[train_indices], y[val_indices], y[test_indices]"
   ]
  },
  {
   "cell_type": "code",
   "execution_count": 34,
   "id": "39adcfe4-0446-4673-bbad-dfdc972fb7d0",
   "metadata": {},
   "outputs": [],
   "source": [
    "train_x, val_x, test_x = padded_tokens[train_indices], padded_tokens[val_indices],\\\n",
    "padded_tokens[test_indices]"
   ]
  },
  {
   "cell_type": "code",
   "execution_count": 35,
   "id": "bce92ef9-7a5c-4f99-86e0-18544e93101f",
   "metadata": {},
   "outputs": [
    {
     "data": {
      "text/plain": [
       "(524346, 300)"
      ]
     },
     "execution_count": 35,
     "metadata": {},
     "output_type": "execute_result"
    }
   ],
   "source": [
    "train_x.shape"
   ]
  },
  {
   "cell_type": "markdown",
   "id": "a0f0ac0e-11a7-436a-9fd3-cfa9229d7ec8",
   "metadata": {},
   "source": [
    "# Create  model"
   ]
  },
  {
   "cell_type": "code",
   "execution_count": 36,
   "id": "ed87bb21-82b8-49ef-834f-a7cb983b48fa",
   "metadata": {},
   "outputs": [],
   "source": [
    "class Attention(tf.keras.layers.Layer):\n",
    "    def __init__(self,  \n",
    "                 units=128, **kwargs):\n",
    "        super(Attention,self).__init__(**kwargs)\n",
    "        self.units = units\n",
    "    \n",
    "    def build(self, input_shape):\n",
    "        self.W1=self.add_weight(name='attention_weights_1', shape=(input_shape[-1], self.units), \n",
    "                               initializer='glorot_uniform', trainable=True)\n",
    "        \n",
    "        self.W2=self.add_weight(name='attention_weights_2', shape=(1, self.units), \n",
    "                               initializer='glorot_uniform', trainable=True) \n",
    "        \n",
    "        super(Attention, self).build(input_shape)\n",
    "        \n",
    "    def call(self, x):\n",
    "        x = tf.transpose(x, perm=[0, 2, 1])\n",
    "        attention = tf.nn.softmax(tf.matmul(self.W2, tf.nn.tanh(tf.matmul(self.W1, x))))\n",
    "        weighted_context = tf.reduce_sum(x * attention, axis=-1)\n",
    "        return weighted_context, attention\n",
    "    \n",
    "    def get_config(self):\n",
    "        config = super().get_config().copy()\n",
    "        config.update({\n",
    "            'units': self.units\n",
    "        })\n",
    "        return config\n"
   ]
  },
  {
   "cell_type": "code",
   "execution_count": 37,
   "id": "91941772-c544-43ae-bf45-b08d249c49c7",
   "metadata": {},
   "outputs": [
    {
     "name": "stderr",
     "output_type": "stream",
     "text": [
      "2023-05-14 22:53:57.802167: I tensorflow/core/platform/cpu_feature_guard.cc:194] This TensorFlow binary is optimized with oneAPI Deep Neural Network Library (oneDNN) to use the following CPU instructions in performance-critical operations:  SSE3 SSE4.1 SSE4.2 AVX\n",
      "To enable them in other operations, rebuild TensorFlow with the appropriate compiler flags.\n",
      "2023-05-14 22:53:57.992164: I tensorflow/core/common_runtime/gpu/gpu_device.cc:1621] Created device /job:localhost/replica:0/task:0/device:GPU:0 with 14148 MB memory:  -> device: 0, name: NVIDIA RTX A4000, pci bus id: 0000:03:00.0, compute capability: 8.6\n"
     ]
    }
   ],
   "source": [
    "tf.keras.backend.clear_session()\n",
    "np.random.seed(0)\n",
    "tf.random.set_seed(0)\n",
    "# define layers\n",
    "attention = Attention(units=128, name='attention')\n",
    "input_layer = tf.keras.layers.Input(shape=(300,), name='input')\n",
    "word_embedding = tf.keras.layers.Embedding(input_dim=tokenizer.get_vocab_size()+1,\n",
    "                                                   output_dim=300,\n",
    "                                                   trainable=True,\n",
    "                                           name='embedding',\n",
    "                                           mask_zero=True,\n",
    "                                                   weights=[emb_matrix])\n",
    "batch_norm = tf.keras.layers.LayerNormalization(axis=-1)\n",
    "spatial_dropout = tf.keras.layers.SpatialDropout1D(0.3, name='spatial_dropout')\n",
    "lstm1 = tf.keras.layers.LSTM(256, name='lstm1',\n",
    "                            return_sequences=True)\n",
    "lstm2 = tf.keras.layers.LSTM(128, name='lstm2',\n",
    "                            return_sequences=True, return_state=True)\n",
    "dense1 = tf.keras.layers.Dense(128, activation='relu', name='dense')\n",
    "dropout = tf.keras.layers.Dropout(0.5, name='dropout')\n",
    "logits_layer = tf.keras.layers.Dense(num_classes, activation='softmax', name='output')\n",
    "\n",
    "#actual flow\n",
    "embedded = spatial_dropout(word_embedding(input_layer))\n",
    "lstm_lvl1 = lstm1(embedded)\n",
    "normed = batch_norm(lstm_lvl1)\n",
    "context_vector, state_h, _ = lstm2(normed)\n",
    "weighted_context, attention_scores = attention(context_vector)\n",
    "final_attn_output = tf.concat([state_h, weighted_context], axis=1)\n",
    "x = dense1(final_attn_output)\n",
    "x = dropout(x)\n",
    "x = logits_layer(x)\n",
    "model = tf.keras.Model(input_layer, x)"
   ]
  },
  {
   "cell_type": "markdown",
   "id": "5df15e13-921d-4eaa-b433-7500dc153a5f",
   "metadata": {},
   "source": [
    "# Compile model"
   ]
  },
  {
   "cell_type": "code",
   "execution_count": 38,
   "id": "a272e87d-a23a-4940-81fa-569451e2ea5c",
   "metadata": {},
   "outputs": [],
   "source": [
    "model.compile(loss=tf.keras.losses.Huber(1.0), \\\n",
    "              optimizer=tf.keras.optimizers.Adam(),\n",
    "             metrics=['acc'])"
   ]
  },
  {
   "cell_type": "markdown",
   "id": "d9db9424-2b20-4d10-8da4-0c55152abe57",
   "metadata": {},
   "source": [
    "# Early stopping"
   ]
  },
  {
   "cell_type": "code",
   "execution_count": 39,
   "id": "9c9801fe-9cd2-47e2-9cad-58efbf4205a7",
   "metadata": {},
   "outputs": [],
   "source": [
    "import operator\n",
    "class EarlyStopping:\n",
    "    def __init__(self, tolerance=5, mode='min'):\n",
    "        assert mode in ['min','max'], 'Mode should be min or max'\n",
    "        self.mode = operator.lt if mode=='min' else operator.gt \n",
    "        self.tolerance = tolerance\n",
    "        self.counter = 0\n",
    "        self.early_stop = False\n",
    "        self.extremum_value = None\n",
    "        self.best_model = None\n",
    "    \n",
    "    @staticmethod\n",
    "    def copy_model(model):\n",
    "        copied_model = tf.keras.models.clone_model(model)\n",
    "        copied_model.set_weights(model.get_weights())\n",
    "        return copied_model\n",
    "        \n",
    "    def __call__(self, val, model):\n",
    "        if self.extremum_value is None:\n",
    "            self.extremum_value = val\n",
    "            self.best_model = self.copy_model(model)\n",
    "        else:\n",
    "            if not self.mode(val, self.extremum_value):\n",
    "                self.counter+=1\n",
    "            else:\n",
    "                self.extremum_value = val\n",
    "                self.best_model = self.copy_model(model)\n",
    "                self.counter = 0\n",
    "        \n",
    "        if self.counter==self.tolerance:\n",
    "            self.early_stop=True"
   ]
  },
  {
   "cell_type": "markdown",
   "id": "7676e473-8116-488e-990d-dc7937d9119c",
   "metadata": {},
   "source": [
    "# Train model"
   ]
  },
  {
   "cell_type": "code",
   "execution_count": 40,
   "id": "eed6de2d-be45-45cd-af31-b9042d1a20af",
   "metadata": {},
   "outputs": [],
   "source": [
    "from sklearn.metrics import f1_score"
   ]
  },
  {
   "cell_type": "code",
   "execution_count": 41,
   "id": "fbe8fc41-6661-4a56-ad5d-d1a4ed3e53f5",
   "metadata": {},
   "outputs": [],
   "source": [
    "def evaluate_on_datasets(y_true, y_pred, split='val'):\n",
    "    d = {}\n",
    "    for dataset_name in subsets['dataset_name'].unique():\n",
    "            idx = subsets[subsets['split']==split].copy()\n",
    "            idx['index'] = list(range(idx.shape[0]))\n",
    "            idx = idx[(idx['dataset_name']==dataset_name)]\\\n",
    "            ['index'].values.tolist()\n",
    "            score = f1_score(y_true=y_true[idx], y_pred=y_pred[idx],\n",
    "                                 average='macro')\n",
    "            print(f'{split} f1 score for dataset {dataset_name} : {score}')\n",
    "            d[f'{split}_f1_{dataset_name}'] = score\n",
    "            \n",
    "    for flag in [True, False]:\n",
    "        idx = subsets[subsets['split']==split].copy()\n",
    "        idx['index'] = list(range(idx.shape[0]))\n",
    "        idx = idx[idx['translated']==flag]['index'].values.tolist()\n",
    "        score = f1_score(y_true=y_true[idx], y_pred=y_pred[idx],\n",
    "                                 average='macro')\n",
    "        print(f'{split} f1 score for translated=={flag} : {score}')\n",
    "        d[f'{split}_f1_translated=={flag}'] = score\n",
    "    return d"
   ]
  },
  {
   "cell_type": "code",
   "execution_count": 42,
   "id": "f43c7824-1d7a-4fc1-b095-53902f428b3f",
   "metadata": {},
   "outputs": [],
   "source": [
    "def update_history(history, d):\n",
    "    for key, value in d.items():\n",
    "        res = history.get(key, [])\n",
    "        res.append(value)\n",
    "        history[key] = res"
   ]
  },
  {
   "cell_type": "code",
   "execution_count": 43,
   "id": "39c90c92-f6c9-4f00-94f0-582ebdf71912",
   "metadata": {},
   "outputs": [],
   "source": [
    "early_stopping = EarlyStopping(mode='max', tolerance=4)"
   ]
  },
  {
   "cell_type": "code",
   "execution_count": 44,
   "id": "e4354a40-79f8-4991-a26e-6d2422a4b9dd",
   "metadata": {},
   "outputs": [],
   "source": [
    "def training_loop(model, train_x, train_y, val_x, val_y, epochs=10, batch_size=128,\n",
    "                 shuffle=True):\n",
    "    dict_history = {}\n",
    "    for i in range(epochs):\n",
    "        if shuffle and i==0:\n",
    "            indices = np.arange(len(train_x))\n",
    "            np.random.shuffle(indices)\n",
    "            train_x = train_x[indices]\n",
    "            train_y = train_y[indices]\n",
    "            \n",
    "        #train model\n",
    "        history = model.fit(train_x,tf.one_hot(train_y,num_classes), \\\n",
    "                            validation_data=(val_x,tf.one_hot(val_y,num_classes)), \n",
    "          epochs=1, batch_size=batch_size,\n",
    "                           verbose=0, shuffle=False)\n",
    "        train_loss, val_loss = history.history['loss'][-1], history.history['val_loss'][-1]\n",
    "        \n",
    "        #evaluate model\n",
    "        train_prediction = np.argmax(model.predict(train_x, batch_size=batch_size), axis=-1)\n",
    "        val_prediction = np.argmax(model.predict(val_x, batch_size=batch_size), axis=-1)\n",
    "        train_f1 = f1_score(y_true=train_y, y_pred=train_prediction,\n",
    "                           average='macro')\n",
    "        val_f1 = f1_score(y_true=val_y, y_pred=val_prediction,\n",
    "                         average='macro')\n",
    "        \n",
    "        #printing evaluation\n",
    "        print(f'Epoch {i}')\n",
    "        print(f'Overall train f1 : {train_f1}, overall val f1: {val_f1}')\n",
    "        print(f'Train loss : {train_loss}, val loss: {val_loss}')\n",
    "        d_train = evaluate_on_datasets(y_true=train_y, y_pred=train_prediction, split='train')\n",
    "        d_val = evaluate_on_datasets(y_true=val_y, y_pred=val_prediction, split='val')\n",
    "            \n",
    "        if i!=epochs-1:\n",
    "            print('-'*30)\n",
    "            \n",
    "        #save history\n",
    "        update_history(dict_history, d_train)\n",
    "        update_history(dict_history, d_val)\n",
    "        update_history(dict_history, {'train_f1': train_f1})\n",
    "        update_history(dict_history, {'val_f1': val_f1})\n",
    "        update_history(dict_history, {'train_loss': train_loss})\n",
    "        update_history(dict_history, {'val_loss': val_loss})\n",
    "        #early stopping\n",
    "        \n",
    "        early_stopping(val_f1, model)\n",
    "        if early_stopping.early_stop:\n",
    "            print('Stopping early')\n",
    "            model = early_stopping.best_model\n",
    "            break\n",
    "        \n",
    "    return dict_history, model"
   ]
  },
  {
   "cell_type": "code",
   "execution_count": 45,
   "id": "73c7d40c-fd2c-41cc-9938-ee4f58a8a0b5",
   "metadata": {
    "tags": []
   },
   "outputs": [
    {
     "name": "stderr",
     "output_type": "stream",
     "text": [
      "2023-05-14 22:54:09.840538: W tensorflow/core/grappler/costs/op_level_cost_estimator.cc:690] Error in PredictCost() for the op: op: \"Softmax\" attr { key: \"T\" value { type: DT_FLOAT } } inputs { dtype: DT_FLOAT shape { unknown_rank: true } } device { type: \"GPU\" vendor: \"NVIDIA\" model: \"NVIDIA RTX A4000\" frequency: 1560 num_cores: 48 environment { key: \"architecture\" value: \"8.6\" } environment { key: \"cuda\" value: \"12000\" } environment { key: \"cudnn\" value: \"8700\" } num_registers: 65536 l1_cache_size: 24576 l2_cache_size: 4194304 shared_memory_size_per_multiprocessor: 102400 memory_size: 14835253248 bandwidth: 448064000 } outputs { dtype: DT_FLOAT shape { unknown_rank: true } }\n",
      "2023-05-14 22:54:11.074298: I tensorflow/compiler/xla/stream_executor/cuda/cuda_dnn.cc:428] Loaded cuDNN version 8700\n",
      "2023-05-14 22:54:11.943136: I tensorflow/compiler/xla/stream_executor/cuda/cuda_blas.cc:648] TensorFloat-32 will be used for the matrix multiplication. This will only be logged once.\n",
      "2023-05-14 22:54:11.977004: I tensorflow/compiler/xla/service/service.cc:173] XLA service 0x7faba8bb6970 initialized for platform CUDA (this does not guarantee that XLA will be used). Devices:\n",
      "2023-05-14 22:54:11.977052: I tensorflow/compiler/xla/service/service.cc:181]   StreamExecutor device (0): NVIDIA RTX A4000, Compute Capability 8.6\n",
      "2023-05-14 22:54:11.986815: I tensorflow/compiler/mlir/tensorflow/utils/dump_mlir_util.cc:268] disabling MLIR crash reproducer, set env var `MLIR_CRASH_REPRODUCER_DIRECTORY` to enable.\n",
      "2023-05-14 22:54:12.195805: I tensorflow/compiler/jit/xla_compilation_cache.cc:480] Compiled cluster using XLA!  This line is logged at most once for the lifetime of the process.\n",
      "2023-05-14 22:56:08.488377: W tensorflow/core/grappler/costs/op_level_cost_estimator.cc:690] Error in PredictCost() for the op: op: \"Softmax\" attr { key: \"T\" value { type: DT_FLOAT } } inputs { dtype: DT_FLOAT shape { unknown_rank: true } } device { type: \"GPU\" vendor: \"NVIDIA\" model: \"NVIDIA RTX A4000\" frequency: 1560 num_cores: 48 environment { key: \"architecture\" value: \"8.6\" } environment { key: \"cuda\" value: \"12000\" } environment { key: \"cudnn\" value: \"8700\" } num_registers: 65536 l1_cache_size: 24576 l2_cache_size: 4194304 shared_memory_size_per_multiprocessor: 102400 memory_size: 14835253248 bandwidth: 448064000 } outputs { dtype: DT_FLOAT shape { unknown_rank: true } }\n",
      "2023-05-14 22:56:14.849230: W tensorflow/core/grappler/costs/op_level_cost_estimator.cc:690] Error in PredictCost() for the op: op: \"Softmax\" attr { key: \"T\" value { type: DT_FLOAT } } inputs { dtype: DT_FLOAT shape { unknown_rank: true } } device { type: \"GPU\" vendor: \"NVIDIA\" model: \"NVIDIA RTX A4000\" frequency: 1560 num_cores: 48 environment { key: \"architecture\" value: \"8.6\" } environment { key: \"cuda\" value: \"12000\" } environment { key: \"cudnn\" value: \"8700\" } num_registers: 65536 l1_cache_size: 24576 l2_cache_size: 4194304 shared_memory_size_per_multiprocessor: 102400 memory_size: 14835253248 bandwidth: 448064000 } outputs { dtype: DT_FLOAT shape { unknown_rank: true } }\n"
     ]
    },
    {
     "name": "stdout",
     "output_type": "stream",
     "text": [
      "257/257 [==============================] - 22s 74ms/step\n",
      "33/33 [==============================] - 3s 74ms/step\n",
      "Epoch 0\n",
      "Overall train f1 : 0.6285606369085661, overall val f1: 0.6258727454343121\n",
      "Train loss : 0.031419288367033005, val loss: 0.024775419384241104\n",
      "train f1 score for dataset rozetka : 0.6265938471522564\n",
      "train f1 score for dataset tripadvisor_hotels_ukraine : 0.6288893505760348\n",
      "train f1 score for dataset tripadvisor_restaurants_ukraine : 0.6324233332052337\n",
      "train f1 score for translated==True : 0.6287135026922399\n",
      "train f1 score for translated==False : 0.627915097766555\n",
      "val f1 score for dataset rozetka : 0.5739862799625851\n",
      "val f1 score for dataset tripadvisor_hotels_ukraine : 0.6524672813055724\n",
      "val f1 score for dataset tripadvisor_restaurants_ukraine : 0.6628854406352814\n",
      "val f1 score for translated==True : 0.6316131009692186\n",
      "val f1 score for translated==False : 0.57293670885975\n",
      "------------------------------\n",
      "257/257 [==============================] - 19s 75ms/step\n",
      "33/33 [==============================] - 2s 73ms/step\n",
      "Epoch 1\n",
      "Overall train f1 : 0.6535675487547291, overall val f1: 0.6386949332050291\n",
      "Train loss : 0.023552119731903076, val loss: 0.022398678585886955\n",
      "train f1 score for dataset rozetka : 0.6490432964150014\n",
      "train f1 score for dataset tripadvisor_hotels_ukraine : 0.6583346825837466\n",
      "train f1 score for dataset tripadvisor_restaurants_ukraine : 0.6607591561868226\n",
      "train f1 score for translated==True : 0.6554036771754247\n",
      "train f1 score for translated==False : 0.6454944460579427\n",
      "val f1 score for dataset rozetka : 0.5835879427714533\n",
      "val f1 score for dataset tripadvisor_hotels_ukraine : 0.6628231815256174\n",
      "val f1 score for dataset tripadvisor_restaurants_ukraine : 0.6759518690869788\n",
      "val f1 score for translated==True : 0.645410840136789\n",
      "val f1 score for translated==False : 0.5760475395736957\n",
      "------------------------------\n",
      "257/257 [==============================] - 19s 75ms/step\n",
      "33/33 [==============================] - 3s 74ms/step\n",
      "Epoch 2\n",
      "Overall train f1 : 0.7025089032935621, overall val f1: 0.6727374296238393\n",
      "Train loss : 0.02116703800857067, val loss: 0.021434348076581955\n",
      "train f1 score for dataset rozetka : 0.6972252947801355\n",
      "train f1 score for dataset tripadvisor_hotels_ukraine : 0.7099881530537752\n",
      "train f1 score for dataset tripadvisor_restaurants_ukraine : 0.7101340707098199\n",
      "train f1 score for translated==True : 0.704334131632841\n",
      "train f1 score for translated==False : 0.694509402317187\n",
      "val f1 score for dataset rozetka : 0.606945337105391\n",
      "val f1 score for dataset tripadvisor_hotels_ukraine : 0.7089824789953725\n",
      "val f1 score for dataset tripadvisor_restaurants_ukraine : 0.7091176883054039\n",
      "val f1 score for translated==True : 0.6812019160649417\n",
      "val f1 score for translated==False : 0.5919887637742336\n",
      "------------------------------\n",
      "257/257 [==============================] - 19s 74ms/step\n",
      "33/33 [==============================] - 2s 74ms/step\n",
      "Epoch 14\n",
      "Overall train f1 : 0.9318959346736265, overall val f1: 0.7149999313463166\n",
      "Train loss : 0.009207405149936676, val loss: 0.025740869343280792\n",
      "train f1 score for dataset rozetka : 0.927944619506378\n",
      "train f1 score for dataset tripadvisor_hotels_ukraine : 0.9359896866769151\n",
      "train f1 score for dataset tripadvisor_restaurants_ukraine : 0.9383081874601125\n",
      "train f1 score for translated==True : 0.9336466955876036\n",
      "train f1 score for translated==False : 0.9242446878303077\n",
      "val f1 score for dataset rozetka : 0.6906234911618201\n",
      "val f1 score for dataset tripadvisor_hotels_ukraine : 0.7261648241760517\n",
      "val f1 score for dataset tripadvisor_restaurants_ukraine : 0.7335519821903516\n",
      "val f1 score for translated==True : 0.7197753804227869\n",
      "val f1 score for translated==False : 0.6754635500807838\n",
      "------------------------------\n",
      "257/257 [==============================] - 19s 75ms/step\n",
      "33/33 [==============================] - 2s 74ms/step\n",
      "Epoch 15\n",
      "Overall train f1 : 0.9328529454503415, overall val f1: 0.7021385025477803\n",
      "Train loss : 0.008524774573743343, val loss: 0.025596648454666138\n",
      "train f1 score for dataset rozetka : 0.9282608947135249\n",
      "train f1 score for dataset tripadvisor_hotels_ukraine : 0.9351676477427587\n",
      "train f1 score for dataset tripadvisor_restaurants_ukraine : 0.941197649006679\n",
      "train f1 score for translated==True : 0.9343131729185862\n",
      "train f1 score for translated==False : 0.926414939305281\n",
      "val f1 score for dataset rozetka : 0.6853296610923231\n",
      "val f1 score for dataset tripadvisor_hotels_ukraine : 0.7044524081373488\n",
      "val f1 score for dataset tripadvisor_restaurants_ukraine : 0.7170399717512576\n",
      "val f1 score for translated==True : 0.7047268034705595\n",
      "val f1 score for translated==False : 0.6791940445401966\n",
      "------------------------------\n",
      "257/257 [==============================] - 19s 75ms/step\n",
      "33/33 [==============================] - 2s 74ms/step\n",
      "Epoch 16\n",
      "Overall train f1 : 0.939600004711234, overall val f1: 0.7055212251729494\n",
      "Train loss : 0.007914557121694088, val loss: 0.02608727477490902\n",
      "train f1 score for dataset rozetka : 0.9365965997446479\n",
      "train f1 score for dataset tripadvisor_hotels_ukraine : 0.9400627288672716\n",
      "train f1 score for dataset tripadvisor_restaurants_ukraine : 0.9455333169977217\n",
      "train f1 score for translated==True : 0.9407731351222192\n",
      "train f1 score for translated==False : 0.9344453172627111\n",
      "val f1 score for dataset rozetka : 0.6879441644418002\n",
      "val f1 score for dataset tripadvisor_hotels_ukraine : 0.7077663272725007\n",
      "val f1 score for dataset tripadvisor_restaurants_ukraine : 0.721396768788643\n",
      "val f1 score for translated==True : 0.7087109735229138\n",
      "val f1 score for translated==False : 0.6778520560267881\n",
      "------------------------------\n",
      "Stopping early\n"
     ]
    }
   ],
   "source": [
    "dict_history, model = \\\n",
    "training_loop(model, train_x, train_y, \n",
    "              val_x, val_y, epochs=20, batch_size=2048, shuffle=True)"
   ]
  },
  {
   "cell_type": "code",
   "execution_count": 46,
   "id": "fc16eb41-29c6-443e-95a6-b263a76a65bc",
   "metadata": {},
   "outputs": [
    {
     "data": {
      "text/plain": [
       "{'train_f1_rozetka': [0.6265938471522564,\n",
       "  0.6490432964150014,\n",
       "  0.6972252947801355,\n",
       "  0.7227904292595042,\n",
       "  0.750749945498594,\n",
       "  0.7617675229017116,\n",
       "  0.7967444394400723,\n",
       "  0.8262626618999063,\n",
       "  0.8119122654062454,\n",
       "  0.8632864578035829,\n",
       "  0.8584279844767474,\n",
       "  0.8943152177692432,\n",
       "  0.9107052647311407,\n",
       "  0.9176359131054389,\n",
       "  0.927944619506378,\n",
       "  0.9282608947135249,\n",
       "  0.9365965997446479],\n",
       " 'train_f1_tripadvisor_hotels_ukraine': [0.6288893505760348,\n",
       "  0.6583346825837466,\n",
       "  0.7099881530537752,\n",
       "  0.7293618742824548,\n",
       "  0.764239141711363,\n",
       "  0.7784624457194645,\n",
       "  0.8166001143273528,\n",
       "  0.8418945289519111,\n",
       "  0.8223429460400237,\n",
       "  0.8780111394251074,\n",
       "  0.8712266301201187,\n",
       "  0.9022358461903627,\n",
       "  0.9200816827881534,\n",
       "  0.9244831628062361,\n",
       "  0.9359896866769151,\n",
       "  0.9351676477427587,\n",
       "  0.9400627288672716],\n",
       " 'train_f1_tripadvisor_restaurants_ukraine': [0.6324233332052337,\n",
       "  0.6607591561868226,\n",
       "  0.7101340707098199,\n",
       "  0.7338336054755324,\n",
       "  0.7674501152928325,\n",
       "  0.7805798255422527,\n",
       "  0.8199361522963526,\n",
       "  0.8475883206896927,\n",
       "  0.8278458245144966,\n",
       "  0.8820981741696864,\n",
       "  0.8772074281875041,\n",
       "  0.9087490133757204,\n",
       "  0.9236831818059356,\n",
       "  0.9294121687842262,\n",
       "  0.9383081874601125,\n",
       "  0.941197649006679,\n",
       "  0.9455333169977217],\n",
       " 'train_f1_translated==True': [0.6287135026922399,\n",
       "  0.6554036771754247,\n",
       "  0.704334131632841,\n",
       "  0.7292252037178937,\n",
       "  0.7602248294919108,\n",
       "  0.7727916923564084,\n",
       "  0.8093253408066223,\n",
       "  0.837527175735131,\n",
       "  0.820480359155169,\n",
       "  0.8739084728057219,\n",
       "  0.8684624222007747,\n",
       "  0.9016866699824329,\n",
       "  0.91801262114417,\n",
       "  0.9238861915069326,\n",
       "  0.9336466955876036,\n",
       "  0.9343131729185862,\n",
       "  0.9407731351222192],\n",
       " 'train_f1_translated==False': [0.627915097766555,\n",
       "  0.6454944460579427,\n",
       "  0.694509402317187,\n",
       "  0.7160047298033091,\n",
       "  0.7439360620444084,\n",
       "  0.7536438137655868,\n",
       "  0.7907637650635772,\n",
       "  0.8202656264506164,\n",
       "  0.805870966208146,\n",
       "  0.855594285338443,\n",
       "  0.8521185053565966,\n",
       "  0.8896327078354638,\n",
       "  0.9049061731276656,\n",
       "  0.9129579644099372,\n",
       "  0.9242446878303077,\n",
       "  0.926414939305281,\n",
       "  0.9344453172627111],\n",
       " 'val_f1_rozetka': [0.5739862799625851,\n",
       "  0.5835879427714533,\n",
       "  0.606945337105391,\n",
       "  0.6235460664719835,\n",
       "  0.6401195148137452,\n",
       "  0.6464069494763713,\n",
       "  0.6624869652294666,\n",
       "  0.6692561500909978,\n",
       "  0.6544544537353413,\n",
       "  0.6701707715848212,\n",
       "  0.6702236650321938,\n",
       "  0.6870981932536758,\n",
       "  0.6904596284737669,\n",
       "  0.6873548230650829,\n",
       "  0.6906234911618201,\n",
       "  0.6853296610923231,\n",
       "  0.6879441644418002],\n",
       " 'val_f1_tripadvisor_hotels_ukraine': [0.6524672813055724,\n",
       "  0.6628231815256174,\n",
       "  0.7089824789953725,\n",
       "  0.7157504299534043,\n",
       "  0.717322334439967,\n",
       "  0.7180737866932461,\n",
       "  0.7165655305573141,\n",
       "  0.7231971686680296,\n",
       "  0.7138561296511998,\n",
       "  0.724862234689223,\n",
       "  0.7053187105529193,\n",
       "  0.7297506545328291,\n",
       "  0.729870349434,\n",
       "  0.7280715757861217,\n",
       "  0.7261648241760517,\n",
       "  0.7044524081373488,\n",
       "  0.7077663272725007],\n",
       " 'val_f1_tripadvisor_restaurants_ukraine': [0.6628854406352814,\n",
       "  0.6759518690869788,\n",
       "  0.7091176883054039,\n",
       "  0.7173593431922208,\n",
       "  0.727190861043662,\n",
       "  0.718942130810496,\n",
       "  0.7282102916917848,\n",
       "  0.7301135960107007,\n",
       "  0.7253181494239467,\n",
       "  0.7289696986855484,\n",
       "  0.709196249428548,\n",
       "  0.7303730470420193,\n",
       "  0.7363854251485704,\n",
       "  0.7399471021301608,\n",
       "  0.7335519821903516,\n",
       "  0.7170399717512576,\n",
       "  0.721396768788643],\n",
       " 'val_f1_translated==True': [0.6316131009692186,\n",
       "  0.645410840136789,\n",
       "  0.6812019160649417,\n",
       "  0.6890507979280877,\n",
       "  0.6992389210060797,\n",
       "  0.6990975622242604,\n",
       "  0.7056759850626793,\n",
       "  0.7088122033088528,\n",
       "  0.699057490441816,\n",
       "  0.7106385714564712,\n",
       "  0.6962141132784007,\n",
       "  0.7170989819453162,\n",
       "  0.720917283060723,\n",
       "  0.7205583078795872,\n",
       "  0.7197753804227869,\n",
       "  0.7047268034705595,\n",
       "  0.7087109735229138],\n",
       " 'val_f1_translated==False': [0.57293670885975,\n",
       "  0.5760475395736957,\n",
       "  0.5919887637742336,\n",
       "  0.6213375370811445,\n",
       "  0.629520161588223,\n",
       "  0.6368805714515439,\n",
       "  0.6601615023372859,\n",
       "  0.6741441405022681,\n",
       "  0.6585136202560317,\n",
       "  0.6592317059110081,\n",
       "  0.6643143205363954,\n",
       "  0.6754519183919325,\n",
       "  0.6815211247006072,\n",
       "  0.677554497661511,\n",
       "  0.6754635500807838,\n",
       "  0.6791940445401966,\n",
       "  0.6778520560267881],\n",
       " 'train_f1': [0.6285606369085661,\n",
       "  0.6535675487547291,\n",
       "  0.7025089032935621,\n",
       "  0.7267725101203123,\n",
       "  0.7572116609902989,\n",
       "  0.7692469062016732,\n",
       "  0.8058917253227657,\n",
       "  0.8343340516835355,\n",
       "  0.8177646944332132,\n",
       "  0.8705277749020331,\n",
       "  0.8654593916150889,\n",
       "  0.8994501355419214,\n",
       "  0.915567304709322,\n",
       "  0.9218407196871313,\n",
       "  0.9318959346736265,\n",
       "  0.9328529454503415,\n",
       "  0.939600004711234],\n",
       " 'val_f1': [0.6258727454343121,\n",
       "  0.6386949332050291,\n",
       "  0.6727374296238393,\n",
       "  0.6828358939051687,\n",
       "  0.6926318344431097,\n",
       "  0.693210674082477,\n",
       "  0.7010269688284149,\n",
       "  0.705186531516189,\n",
       "  0.6951656136550416,\n",
       "  0.7051707271328259,\n",
       "  0.6928880362872976,\n",
       "  0.7127837161353693,\n",
       "  0.7165680988112375,\n",
       "  0.7157068603320883,\n",
       "  0.7149999313463166,\n",
       "  0.7021385025477803,\n",
       "  0.7055212251729494],\n",
       " 'train_loss': [0.031419288367033005,\n",
       "  0.023552119731903076,\n",
       "  0.02116703800857067,\n",
       "  0.01969846338033676,\n",
       "  0.01852467842400074,\n",
       "  0.017539838328957558,\n",
       "  0.016251444816589355,\n",
       "  0.01521327905356884,\n",
       "  0.014317803084850311,\n",
       "  0.013816162012517452,\n",
       "  0.012620399706065655,\n",
       "  0.011577521450817585,\n",
       "  0.010733060538768768,\n",
       "  0.009926465339958668,\n",
       "  0.009207405149936676,\n",
       "  0.008524774573743343,\n",
       "  0.007914557121694088],\n",
       " 'val_loss': [0.024775419384241104,\n",
       "  0.022398678585886955,\n",
       "  0.021434348076581955,\n",
       "  0.021621670573949814,\n",
       "  0.021092761307954788,\n",
       "  0.0221874862909317,\n",
       "  0.02201702818274498,\n",
       "  0.022442370653152466,\n",
       "  0.024658340960741043,\n",
       "  0.023294463753700256,\n",
       "  0.02365506812930107,\n",
       "  0.02352824993431568,\n",
       "  0.024613872170448303,\n",
       "  0.025821682065725327,\n",
       "  0.025740869343280792,\n",
       "  0.025596648454666138,\n",
       "  0.02608727477490902]}"
      ]
     },
     "execution_count": 46,
     "metadata": {},
     "output_type": "execute_result"
    }
   ],
   "source": [
    "dict_history"
   ]
  },
  {
   "cell_type": "markdown",
   "id": "b8d77413-4c00-4295-b7db-fe06dd7b23b5",
   "metadata": {},
   "source": [
    "# Show charts"
   ]
  },
  {
   "cell_type": "code",
   "execution_count": 47,
   "id": "b7f8ef02-623e-4ebb-8e1d-8da77c3ed9bc",
   "metadata": {},
   "outputs": [],
   "source": [
    "import seaborn as sns\n",
    "import matplotlib.pyplot as plt"
   ]
  },
  {
   "cell_type": "code",
   "execution_count": 48,
   "id": "521cf7cf-e1b2-42ce-8e95-5a2e61440247",
   "metadata": {},
   "outputs": [],
   "source": [
    "def plot_history(dict_history, columns):\n",
    "    plt.figure(figsize=(12,8))\n",
    "    for i in columns:\n",
    "        to_plot = dict_history[i]\n",
    "        plt.plot(range(len(to_plot)), to_plot, 'o-')\n",
    "    plt.xticks(range(len(to_plot)), range(len(to_plot)))\n",
    "    plt.xlabel('Epochs')\n",
    "    plt.legend(columns)"
   ]
  },
  {
   "cell_type": "code",
   "execution_count": 49,
   "id": "7c3ca35a-2166-4552-bc23-67c6bfe314d7",
   "metadata": {},
   "outputs": [
    {
     "data": {
      "image/png": "[encoded data removed]",
      "text/plain": [
       "<Figure size 1200x800 with 1 Axes>"
      ]
     },
     "metadata": {},
     "output_type": "display_data"
    }
   ],
   "source": [
    "plot_history(dict_history, ['val_loss', 'train_loss'])"
   ]
  },
  {
   "cell_type": "code",
   "execution_count": 50,
   "id": "09978e6c-1975-4fe9-b6ed-064e00c1809e",
   "metadata": {},
   "outputs": [
    {
     "data": {
      "image/png": "[encoded data removed]",
      "text/plain": [
       "<Figure size 1200x800 with 1 Axes>"
      ]
     },
     "metadata": {},
     "output_type": "display_data"
    }
   ],
   "source": [
    "plot_history(dict_history, ['val_f1', 'train_f1'])"
   ]
  },
  {
   "cell_type": "markdown",
   "id": "9763d7cb-3c09-425e-984f-7675f7fae0e9",
   "metadata": {},
   "source": [
    "# Evaluate model"
   ]
  },
  {
   "cell_type": "code",
   "execution_count": 51,
   "id": "4bb7e54e-5868-4379-8456-c3c5ef648c33",
   "metadata": {},
   "outputs": [
    {
     "name": "stderr",
     "output_type": "stream",
     "text": [
      "2023-05-14 23:22:52.256677: W tensorflow/core/grappler/costs/op_level_cost_estimator.cc:690] Error in PredictCost() for the op: op: \"Softmax\" attr { key: \"T\" value { type: DT_FLOAT } } inputs { dtype: DT_FLOAT shape { unknown_rank: true } } device { type: \"GPU\" vendor: \"NVIDIA\" model: \"NVIDIA RTX A4000\" frequency: 1560 num_cores: 48 environment { key: \"architecture\" value: \"8.6\" } environment { key: \"cuda\" value: \"12000\" } environment { key: \"cudnn\" value: \"8700\" } num_registers: 65536 l1_cache_size: 24576 l2_cache_size: 4194304 shared_memory_size_per_multiprocessor: 102400 memory_size: 14835253248 bandwidth: 448064000 } outputs { dtype: DT_FLOAT shape { unknown_rank: true } }\n"
     ]
    },
    {
     "name": "stdout",
     "output_type": "stream",
     "text": [
      "33/33 [==============================] - 5s 70ms/step\n"
     ]
    }
   ],
   "source": [
    "test_predictions = np.argmax(model.predict(test_x, batch_size=2048), axis=-1)"
   ]
  },
  {
   "cell_type": "code",
   "execution_count": 52,
   "id": "bc061fbf-e0a9-40be-8cb7-e356aef090d5",
   "metadata": {},
   "outputs": [
    {
     "name": "stdout",
     "output_type": "stream",
     "text": [
      "Overall test f1-score : 0.7195840508080447\n"
     ]
    }
   ],
   "source": [
    "test_f1 = f1_score(y_true=test_y, y_pred=test_predictions,\n",
    "                         average='macro')\n",
    "print(f'Overall test f1-score : {test_f1}')"
   ]
  },
  {
   "cell_type": "code",
   "execution_count": 53,
   "id": "24a4badc-8c22-4bdc-8fb2-f7f68dbb56b7",
   "metadata": {},
   "outputs": [
    {
     "name": "stdout",
     "output_type": "stream",
     "text": [
      "test f1 score for dataset rozetka : 0.692781117318471\n",
      "test f1 score for dataset tripadvisor_hotels_ukraine : 0.7239087667066687\n",
      "test f1 score for dataset tripadvisor_restaurants_ukraine : 0.7446423718968175\n",
      "test f1 score for translated==True : 0.72310292008305\n",
      "test f1 score for translated==False : 0.6898541340727689\n"
     ]
    }
   ],
   "source": [
    "test_results = evaluate_on_datasets(y_true=test_y, y_pred=test_predictions,split='test')\n",
    "                     "
   ]
  },
  {
   "cell_type": "markdown",
   "id": "fe8efb21-1b71-49e7-8483-c00a9c357b1f",
   "metadata": {},
   "source": [
    "# Confusion matrix"
   ]
  },
  {
   "cell_type": "code",
   "execution_count": 54,
   "id": "5b2c68b6-4749-458b-b84d-d32db8f84491",
   "metadata": {
    "tags": []
   },
   "outputs": [],
   "source": [
    "inverse_mapping = dict([(v,k) for k,v in mapping.items()])"
   ]
  },
  {
   "cell_type": "code",
   "execution_count": 55,
   "id": "5ea3f06f-0b96-4d3c-97bf-aad82784f2ac",
   "metadata": {},
   "outputs": [],
   "source": [
    "from sklearn.metrics import confusion_matrix"
   ]
  },
  {
   "cell_type": "code",
   "execution_count": 56,
   "id": "ab600e88-5b7f-43e8-8bae-52d9abe58ca3",
   "metadata": {},
   "outputs": [
    {
     "data": {
      "text/plain": [
       "array([0, 1, 2])"
      ]
     },
     "execution_count": 56,
     "metadata": {},
     "output_type": "execute_result"
    }
   ],
   "source": [
    "np.unique(test_y)"
   ]
  },
  {
   "cell_type": "code",
   "execution_count": 57,
   "id": "701c2bfe-a20e-4880-a580-01dbf0f8f92c",
   "metadata": {},
   "outputs": [
    {
     "data": {
      "image/png": "[encoded data removed]",
      "text/plain": [
       "<Figure size 1400x1000 with 2 Axes>"
      ]
     },
     "metadata": {},
     "output_type": "display_data"
    }
   ],
   "source": [
    "matrix = confusion_matrix(test_y, test_predictions)\n",
    "matrix_scaled = matrix.astype('float') / matrix.sum(axis=1)[:, np.newaxis]\n",
    "plt.figure(figsize=(14,10))\n",
    "sns.heatmap(matrix_scaled, annot=True, cmap=plt.cm.Blues, xticklabels=[inverse_mapping[i] for i in np.unique(test_y)],\\\n",
    "            yticklabels=[inverse_mapping[i] for i in np.unique(test_y)])\n",
    "plt.title('Confusion matrix')\n",
    "plt.xlabel('Predicted label')\n",
    "plt.ylabel('True label')\n",
    "\n",
    "plt.show()"
   ]
  },
  {
   "cell_type": "code",
   "execution_count": 58,
   "id": "8f8e32d5-9c11-4b5f-955a-d02ccc60f49d",
   "metadata": {
    "tags": []
   },
   "outputs": [],
   "source": [
    "test_df = df[subsets['split']=='test'].copy()"
   ]
  },
  {
   "cell_type": "code",
   "execution_count": 59,
   "id": "ff992540-590e-4674-8144-09ff1f347a62",
   "metadata": {
    "tags": []
   },
   "outputs": [],
   "source": [
    "test_df['predicted_rating'] = [inverse_mapping[i] for i in test_predictions]"
   ]
  },
  {
   "cell_type": "markdown",
   "id": "5447ad8a-3695-499c-9fe3-6d6d9cc2834c",
   "metadata": {},
   "source": [
    "# Save history results"
   ]
  },
  {
   "cell_type": "code",
   "execution_count": 60,
   "id": "b1d1cb15-8dae-414b-80c9-cabbcfd4168d",
   "metadata": {},
   "outputs": [],
   "source": [
    "history = pd.DataFrame(dict_history)\n",
    "for k,v in test_results.items():\n",
    "    history[k] = v"
   ]
  },
  {
   "cell_type": "code",
   "execution_count": 61,
   "id": "b2fc4c15-4277-4913-8080-91cddcc4d734",
   "metadata": {},
   "outputs": [],
   "source": [
    "history['model'] = model_name"
   ]
  },
  {
   "cell_type": "code",
   "execution_count": 62,
   "id": "344fd96f-8e81-47b6-8332-0bb3892edfa4",
   "metadata": {},
   "outputs": [],
   "source": [
    "history.to_csv(\"/home/user/jupyter_notebooks/Ukranian-SA/notebooks/training/training_results_sentiment.csv\", mode='a', header=None, index=None)"
   ]
  },
  {
   "cell_type": "markdown",
   "id": "556a9626-e8de-47ab-bc7c-8917a38b2204",
   "metadata": {},
   "source": [
    "# Save model"
   ]
  },
  {
   "cell_type": "code",
   "execution_count": 60,
   "id": "cf61010a-6dee-42b8-93a1-f9a02ebb4d07",
   "metadata": {},
   "outputs": [
    {
     "name": "stdout",
     "output_type": "stream",
     "text": [
      "WARNING:tensorflow:Compiled the loaded model, but the compiled metrics have yet to be built. `model.compile_metrics` will be empty until you train or evaluate the model.\n"
     ]
    }
   ],
   "source": [
    "model.save(f'/home/user/files_for_research_Vova/{model_name}_sentiment.h5')"
   ]
  },
  {
   "cell_type": "code",
   "execution_count": null,
   "id": "bcbfa9cc-5750-42bf-b360-f4168fd434f7",
   "metadata": {},
   "outputs": [],
   "source": []
  }
 ],
 "metadata": {
  "kernelspec": {
   "display_name": "tensorflow_cuda12",
   "language": "python",
   "name": "tensorflow_cuda12"
  },
  "language_info": {
   "codemirror_mode": {
    "name": "ipython",
    "version": 3
   },
   "file_extension": ".py",
   "mimetype": "text/x-python",
   "name": "python",
   "nbconvert_exporter": "python",
   "pygments_lexer": "ipython3",
   "version": "3.8.10"
  }
 },
 "nbformat": 4,
 "nbformat_minor": 5
}
