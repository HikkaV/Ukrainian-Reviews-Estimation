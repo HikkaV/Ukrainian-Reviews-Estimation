{
 "cells": [
  {
   "cell_type": "code",
   "execution_count": 1,
   "id": "94761116-1530-448d-a1f6-593d90bec639",
   "metadata": {},
   "outputs": [
    {
     "name": "stdout",
     "output_type": "stream",
     "text": [
      "Collecting tokenizers\n",
      "  Downloading tokenizers-0.13.3-cp38-cp38-manylinux_2_17_x86_64.manylinux2014_x86_64.whl (7.8 MB)\n",
      "\u001b[2K     \u001b[90m━━━━━━━━━━━━━━━━━━━━━━━━━━━━━━━━━━━━━━━━\u001b[0m \u001b[32m7.8/7.8 MB\u001b[0m \u001b[31m11.0 MB/s\u001b[0m eta \u001b[36m0:00:00\u001b[0m00:01\u001b[0m00:01\u001b[0m\n",
      "\u001b[?25hInstalling collected packages: tokenizers\n",
      "Successfully installed tokenizers-0.13.3\n",
      "\u001b[33mWARNING: Running pip as the 'root' user can result in broken permissions and conflicting behaviour with the system package manager. It is recommended to use a virtual environment instead: https://pip.pypa.io/warnings/venv\u001b[0m\u001b[33m\n",
      "\u001b[0m"
     ]
    },
    {
     "name": "stderr",
     "output_type": "stream",
     "text": [
      "2023-05-06 13:51:10.934823: I tensorflow/core/platform/cpu_feature_guard.cc:194] This TensorFlow binary is optimized with oneAPI Deep Neural Network Library (oneDNN) to use the following CPU instructions in performance-critical operations:  SSE3 SSE4.1 SSE4.2 AVX\n",
      "To enable them in other operations, rebuild TensorFlow with the appropriate compiler flags.\n"
     ]
    }
   ],
   "source": [
    "!pip install tokenizers\n",
    "import tensorflow as tf\n",
    "from tokenizers import Tokenizer, models, pre_tokenizers, trainers, Regex\n",
    "import tokenizers\n",
    "import pandas as pd"
   ]
  },
  {
   "cell_type": "code",
   "execution_count": 2,
   "id": "fada8fbb-9dc2-4e9d-935d-2cb0d6684738",
   "metadata": {},
   "outputs": [],
   "source": [
    "model_name = 'deep_lstm'"
   ]
  },
  {
   "cell_type": "markdown",
   "id": "aa46fb49-08a8-4809-b697-680813299d47",
   "metadata": {},
   "source": [
    "# Load data"
   ]
  },
  {
   "cell_type": "code",
   "execution_count": 3,
   "id": "d01ad050-f023-4253-bc33-72c76bce3944",
   "metadata": {},
   "outputs": [],
   "source": [
    "df = pd.read_csv('/home/user/files_for_research_Vova/processed_data.csv',\\\n",
    "                 usecols=['review_translate',\n",
    "                                                            'dataset_name',\n",
    "                                                            'rating',\n",
    "                                                           'translated'])"
   ]
  },
  {
   "cell_type": "code",
   "execution_count": 4,
   "id": "99ee8e3a-2281-4ec1-8107-49e3ba47d2a9",
   "metadata": {},
   "outputs": [
    {
     "data": {
      "text/html": [
       "<div>\n",
       "<style scoped>\n",
       "    .dataframe tbody tr th:only-of-type {\n",
       "        vertical-align: middle;\n",
       "    }\n",
       "\n",
       "    .dataframe tbody tr th {\n",
       "        vertical-align: top;\n",
       "    }\n",
       "\n",
       "    .dataframe thead th {\n",
       "        text-align: right;\n",
       "    }\n",
       "</style>\n",
       "<table border=\"1\" class=\"dataframe\">\n",
       "  <thead>\n",
       "    <tr style=\"text-align: right;\">\n",
       "      <th></th>\n",
       "      <th>review_translate</th>\n",
       "      <th>rating</th>\n",
       "      <th>dataset_name</th>\n",
       "      <th>translated</th>\n",
       "    </tr>\n",
       "  </thead>\n",
       "  <tbody>\n",
       "    <tr>\n",
       "      <th>0</th>\n",
       "      <td>Якісна пластмаса , переворот 360 градусвв</td>\n",
       "      <td>5.0</td>\n",
       "      <td>rozetka</td>\n",
       "      <td>False</td>\n",
       "    </tr>\n",
       "    <tr>\n",
       "      <th>1</th>\n",
       "      <td>За такі гроші це самий топ</td>\n",
       "      <td>5.0</td>\n",
       "      <td>rozetka</td>\n",
       "      <td>False</td>\n",
       "    </tr>\n",
       "    <tr>\n",
       "      <th>2</th>\n",
       "      <td>За такі гроші - просто супер ! Рекомендую .</td>\n",
       "      <td>5.0</td>\n",
       "      <td>rozetka</td>\n",
       "      <td>False</td>\n",
       "    </tr>\n",
       "    <tr>\n",
       "      <th>3</th>\n",
       "      <td>Виконує свою роботу не погано . але що ви хоті...</td>\n",
       "      <td>4.0</td>\n",
       "      <td>rozetka</td>\n",
       "      <td>False</td>\n",
       "    </tr>\n",
       "    <tr>\n",
       "      <th>4</th>\n",
       "      <td>Купляв на стару сістему як основний під віндов...</td>\n",
       "      <td>4.0</td>\n",
       "      <td>rozetka</td>\n",
       "      <td>False</td>\n",
       "    </tr>\n",
       "  </tbody>\n",
       "</table>\n",
       "</div>"
      ],
      "text/plain": [
       "                                    review_translate  rating dataset_name  \\\n",
       "0          Якісна пластмаса , переворот 360 градусвв     5.0      rozetka   \n",
       "1                         За такі гроші це самий топ     5.0      rozetka   \n",
       "2        За такі гроші - просто супер ! Рекомендую .     5.0      rozetka   \n",
       "3  Виконує свою роботу не погано . але що ви хоті...     4.0      rozetka   \n",
       "4  Купляв на стару сістему як основний під віндов...     4.0      rozetka   \n",
       "\n",
       "   translated  \n",
       "0       False  \n",
       "1       False  \n",
       "2       False  \n",
       "3       False  \n",
       "4       False  "
      ]
     },
     "execution_count": 4,
     "metadata": {},
     "output_type": "execute_result"
    }
   ],
   "source": [
    "df.head()"
   ]
  },
  {
   "cell_type": "code",
   "execution_count": 5,
   "id": "870b0de2-18ef-42ce-9bd5-1ff68b8a1776",
   "metadata": {},
   "outputs": [],
   "source": [
    "subsets = pd.read_csv('/home/user/files_for_research_Vova/train_val_test_indices.csv')"
   ]
  },
  {
   "cell_type": "code",
   "execution_count": 6,
   "id": "778fb1c0-5396-480b-8ce5-e728d06fc3d8",
   "metadata": {},
   "outputs": [
    {
     "data": {
      "text/html": [
       "<div>\n",
       "<style scoped>\n",
       "    .dataframe tbody tr th:only-of-type {\n",
       "        vertical-align: middle;\n",
       "    }\n",
       "\n",
       "    .dataframe tbody tr th {\n",
       "        vertical-align: top;\n",
       "    }\n",
       "\n",
       "    .dataframe thead th {\n",
       "        text-align: right;\n",
       "    }\n",
       "</style>\n",
       "<table border=\"1\" class=\"dataframe\">\n",
       "  <thead>\n",
       "    <tr style=\"text-align: right;\">\n",
       "      <th></th>\n",
       "      <th>index</th>\n",
       "      <th>split</th>\n",
       "    </tr>\n",
       "  </thead>\n",
       "  <tbody>\n",
       "    <tr>\n",
       "      <th>0</th>\n",
       "      <td>0</td>\n",
       "      <td>train</td>\n",
       "    </tr>\n",
       "    <tr>\n",
       "      <th>1</th>\n",
       "      <td>1</td>\n",
       "      <td>test</td>\n",
       "    </tr>\n",
       "    <tr>\n",
       "      <th>2</th>\n",
       "      <td>2</td>\n",
       "      <td>train</td>\n",
       "    </tr>\n",
       "    <tr>\n",
       "      <th>3</th>\n",
       "      <td>3</td>\n",
       "      <td>train</td>\n",
       "    </tr>\n",
       "    <tr>\n",
       "      <th>4</th>\n",
       "      <td>4</td>\n",
       "      <td>train</td>\n",
       "    </tr>\n",
       "  </tbody>\n",
       "</table>\n",
       "</div>"
      ],
      "text/plain": [
       "   index  split\n",
       "0      0  train\n",
       "1      1   test\n",
       "2      2  train\n",
       "3      3  train\n",
       "4      4  train"
      ]
     },
     "execution_count": 6,
     "metadata": {},
     "output_type": "execute_result"
    }
   ],
   "source": [
    "subsets.head()"
   ]
  },
  {
   "cell_type": "code",
   "execution_count": 7,
   "id": "bb145e0a-2bf5-4004-b334-15433414769a",
   "metadata": {},
   "outputs": [],
   "source": [
    "subsets = subsets.merge(df[['dataset_name', 'translated']], left_on='index', right_index=True)"
   ]
  },
  {
   "cell_type": "markdown",
   "id": "30e15a6e-3ce1-4488-b779-c00e23570fd9",
   "metadata": {},
   "source": [
    "# Filter data"
   ]
  },
  {
   "cell_type": "code",
   "execution_count": 8,
   "id": "719c38c1-8226-4995-90a7-427907e02867",
   "metadata": {
    "tags": []
   },
   "outputs": [],
   "source": [
    "bad_indices = pd.read_csv('/home/user/files_for_research_Vova/files_to_check.csv')"
   ]
  },
  {
   "cell_type": "code",
   "execution_count": 9,
   "id": "1a551a47-2420-4cf8-a611-c49f2a74deb9",
   "metadata": {
    "tags": []
   },
   "outputs": [],
   "source": [
    "subsets = subsets[~subsets.index.isin(bad_indices['id'].values)]"
   ]
  },
  {
   "cell_type": "code",
   "execution_count": 10,
   "id": "44c17bd9-1620-44ff-b600-b16d1841b89b",
   "metadata": {
    "tags": []
   },
   "outputs": [],
   "source": [
    "df = df[~df.index.isin(bad_indices['id'].values)]"
   ]
  },
  {
   "cell_type": "code",
   "execution_count": 11,
   "id": "b451982a-aabd-4a43-8cfd-72b822ff9bb6",
   "metadata": {
    "tags": []
   },
   "outputs": [],
   "source": [
    "df, subsets = df.reset_index().drop(columns='index'), subsets.reset_index().drop(columns='index')"
   ]
  },
  {
   "cell_type": "markdown",
   "id": "f35025fc-9c2c-490e-9231-10f4b38e230b",
   "metadata": {},
   "source": [
    "# Load tokenizer"
   ]
  },
  {
   "cell_type": "code",
   "execution_count": 12,
   "id": "dc7ca142-1e37-49c2-b8b8-2d5f74ee98c8",
   "metadata": {},
   "outputs": [],
   "source": [
    "tokenizer = Tokenizer.from_file(\"/home/user/files_for_research_Vova/tokenizer_30k.json\")\n"
   ]
  },
  {
   "cell_type": "markdown",
   "id": "a86c13af-5e8f-49e4-b337-7b3a70163c1c",
   "metadata": {},
   "source": [
    "# Encode text"
   ]
  },
  {
   "cell_type": "code",
   "execution_count": 13,
   "id": "ef69c9c8-b050-4904-8e93-5e1b89361f8d",
   "metadata": {},
   "outputs": [],
   "source": [
    "import seaborn as sns\n",
    "import numpy as np"
   ]
  },
  {
   "cell_type": "code",
   "execution_count": 14,
   "id": "e2e913ba-749b-4161-a2db-0cb6af2b025c",
   "metadata": {},
   "outputs": [],
   "source": [
    "sns.set()"
   ]
  },
  {
   "cell_type": "code",
   "execution_count": 15,
   "id": "0dda1c9a-9961-4097-bd69-3e5bd58d6789",
   "metadata": {},
   "outputs": [],
   "source": [
    "df['review_translate'] = df['review_translate'].str.lower()"
   ]
  },
  {
   "cell_type": "code",
   "execution_count": 16,
   "id": "3151fe97-eded-408c-be0d-df2b49051e7c",
   "metadata": {},
   "outputs": [],
   "source": [
    "df['encoded'] = tokenizer.encode_batch(df['review_translate'].values)"
   ]
  },
  {
   "cell_type": "code",
   "execution_count": 17,
   "id": "8c01d676-5e85-4b7d-b7c0-5d99b8ba1d44",
   "metadata": {},
   "outputs": [],
   "source": [
    "df['encoded'] = df['encoded'].apply(lambda x: x.ids)"
   ]
  },
  {
   "cell_type": "code",
   "execution_count": 18,
   "id": "47ddda71-f140-49f7-89c8-fea94b8bcdfd",
   "metadata": {},
   "outputs": [
    {
     "name": "stderr",
     "output_type": "stream",
     "text": [
      "/tmp/ipykernel_1/3749403729.py:1: UserWarning: \n",
      "\n",
      "`distplot` is a deprecated function and will be removed in seaborn v0.14.0.\n",
      "\n",
      "Please adapt your code to use either `displot` (a figure-level function with\n",
      "similar flexibility) or `histplot` (an axes-level function for histograms).\n",
      "\n",
      "For a guide to updating your code to use the new functions, please see\n",
      "https://gist.github.com/mwaskom/de44147ed2974457ad6372750bbe5751\n",
      "\n",
      "  sns.distplot(np.log10(df['encoded'].apply(len)))\n"
     ]
    },
    {
     "data": {
      "text/plain": [
       "<AxesSubplot: xlabel='encoded', ylabel='Density'>"
      ]
     },
     "execution_count": 18,
     "metadata": {},
     "output_type": "execute_result"
    },
    {
     "data": {
      "image/png": "[encoded data removed]",
      "text/plain": [
       "<Figure size 640x480 with 1 Axes>"
      ]
     },
     "metadata": {},
     "output_type": "display_data"
    }
   ],
   "source": [
    "sns.distplot(np.log10(df['encoded'].apply(len)))"
   ]
  },
  {
   "cell_type": "code",
   "execution_count": 19,
   "id": "e81a0c0b-0dd0-4437-872e-0c13fc041b99",
   "metadata": {},
   "outputs": [
    {
     "data": {
      "text/plain": [
       "324.0"
      ]
     },
     "execution_count": 19,
     "metadata": {},
     "output_type": "execute_result"
    }
   ],
   "source": [
    "np.percentile(df['encoded'].apply(len), 99)"
   ]
  },
  {
   "cell_type": "code",
   "execution_count": 20,
   "id": "c680a61a-cee2-4fbd-9a97-17a9c7ec74a9",
   "metadata": {},
   "outputs": [],
   "source": [
    "encoded_tokens = df['encoded'].values"
   ]
  },
  {
   "cell_type": "code",
   "execution_count": 21,
   "id": "b3d6e285-87e6-4ce1-be8a-cb614270a8a4",
   "metadata": {},
   "outputs": [],
   "source": [
    "from itertools import chain"
   ]
  },
  {
   "cell_type": "code",
   "execution_count": 22,
   "id": "7f8c9fac-7ed8-45c3-8114-763b1ed0c138",
   "metadata": {},
   "outputs": [],
   "source": [
    "padded_tokens = tf.keras.preprocessing.sequence\\\n",
    ".pad_sequences(encoded_tokens, maxlen=300, padding=\"post\")\n"
   ]
  },
  {
   "cell_type": "code",
   "execution_count": 23,
   "id": "8137187b-fd7f-4199-883e-7ff778a94c0a",
   "metadata": {},
   "outputs": [
    {
     "data": {
      "text/plain": [
       "(655470, 300)"
      ]
     },
     "execution_count": 23,
     "metadata": {},
     "output_type": "execute_result"
    }
   ],
   "source": [
    "padded_tokens.shape"
   ]
  },
  {
   "cell_type": "markdown",
   "id": "5bc9a5b3-3794-4ab8-a16d-fa572ac9d2f6",
   "metadata": {},
   "source": [
    "# Get labels and split data"
   ]
  },
  {
   "cell_type": "code",
   "execution_count": 24,
   "id": "fbdb3b33-cbb6-4024-b683-8819ad6d7b3f",
   "metadata": {},
   "outputs": [],
   "source": [
    "mapping = dict([(i,c) for c,i in enumerate(df['rating'].unique())])"
   ]
  },
  {
   "cell_type": "code",
   "execution_count": 25,
   "id": "0d9dcd18-b69c-4b71-8f83-85f750be1daa",
   "metadata": {},
   "outputs": [],
   "source": [
    "y = df['rating'].map(mapping).values"
   ]
  },
  {
   "cell_type": "code",
   "execution_count": 26,
   "id": "abf0a14a-7050-4689-806f-dbe4f094f0d8",
   "metadata": {},
   "outputs": [],
   "source": [
    "num_classes = len(set(y))"
   ]
  },
  {
   "cell_type": "code",
   "execution_count": 27,
   "id": "59b5a397-faf0-43be-b498-a3d4af06fbc0",
   "metadata": {},
   "outputs": [],
   "source": [
    "train_indices, val_indices, test_indices = subsets[subsets['split']=='train'].index.tolist(),\\\n",
    "subsets[subsets['split']=='val'].index.tolist(),\\\n",
    "subsets[subsets['split']=='test'].index.tolist()\n"
   ]
  },
  {
   "cell_type": "code",
   "execution_count": 28,
   "id": "7564a2e1-11d7-44cf-803b-03b4eb3b0dce",
   "metadata": {},
   "outputs": [],
   "source": [
    "train_y, val_y, test_y = y[train_indices], y[val_indices], y[test_indices]"
   ]
  },
  {
   "cell_type": "code",
   "execution_count": 29,
   "id": "39adcfe4-0446-4673-bbad-dfdc972fb7d0",
   "metadata": {},
   "outputs": [],
   "source": [
    "train_x, val_x, test_x = padded_tokens[train_indices], padded_tokens[val_indices],\\\n",
    "padded_tokens[test_indices]"
   ]
  },
  {
   "cell_type": "code",
   "execution_count": 30,
   "id": "bce92ef9-7a5c-4f99-86e0-18544e93101f",
   "metadata": {},
   "outputs": [
    {
     "data": {
      "text/plain": [
       "(524346, 300)"
      ]
     },
     "execution_count": 30,
     "metadata": {},
     "output_type": "execute_result"
    }
   ],
   "source": [
    "train_x.shape"
   ]
  },
  {
   "cell_type": "markdown",
   "id": "a0f0ac0e-11a7-436a-9fd3-cfa9229d7ec8",
   "metadata": {},
   "source": [
    "# Create  model"
   ]
  },
  {
   "cell_type": "code",
   "execution_count": 45,
   "id": "91941772-c544-43ae-bf45-b08d249c49c7",
   "metadata": {},
   "outputs": [],
   "source": [
    "tf.keras.backend.clear_session()\n",
    "np.random.seed(0)\n",
    "tf.random.set_seed(0)\n",
    "input_layer = tf.keras.layers.Input(shape=(300,), name='input')\n",
    "word_embedding = tf.keras.layers.Embedding(input_dim=tokenizer.get_vocab_size(),\n",
    "                                                   output_dim=300,\n",
    "                                                   trainable=True,\n",
    "                                           name='embedding',\n",
    "                                           mask_zero=True\n",
    "                                                   )\n",
    "spat_dropout = tf.keras.layers.SpatialDropout1D(0.3, name='spatial_dropout')\n",
    "layer_norm = tf.keras.layers.LayerNormalization(axis=-1)\n",
    "lstm_1 = tf.keras.layers.LSTM(256, name='lstm1', return_sequences=True)\n",
    "dropout_lstm = tf.keras.layers.Dropout(0.25)\n",
    "lstm_2 = tf.keras.layers.LSTM(128, name='lstm2')\n",
    "\n",
    "embedded = spat_dropout(word_embedding(input_layer))\n",
    "lstm_lvl1 = lstm_1(embedded)\n",
    "normed = layer_norm(dropout_lstm(lstm_lvl1))\n",
    "lstm_lvl2 = lstm_2(normed)\n",
    "x = tf.keras.layers.Dense(128, activation='relu', name='dense')(lstm_lvl2)\n",
    "x = tf.keras.layers.Dropout(0.5, name='dense_dropout')(x)\n",
    "output = tf.keras.layers.Dense(num_classes, activation='softmax', name='output')(x)\n",
    "model = tf.keras.Model(input_layer, output)"
   ]
  },
  {
   "cell_type": "markdown",
   "id": "5df15e13-921d-4eaa-b433-7500dc153a5f",
   "metadata": {},
   "source": [
    "# Compile model"
   ]
  },
  {
   "cell_type": "code",
   "execution_count": 46,
   "id": "a272e87d-a23a-4940-81fa-569451e2ea5c",
   "metadata": {},
   "outputs": [],
   "source": [
    "model.compile(loss='sparse_categorical_crossentropy', \\\n",
    "              optimizer=tf.keras.optimizers.Adam(),\n",
    "             metrics=['acc'])"
   ]
  },
  {
   "cell_type": "markdown",
   "id": "d9db9424-2b20-4d10-8da4-0c55152abe57",
   "metadata": {},
   "source": [
    "# Early stopping"
   ]
  },
  {
   "cell_type": "code",
   "execution_count": 33,
   "id": "9c9801fe-9cd2-47e2-9cad-58efbf4205a7",
   "metadata": {},
   "outputs": [],
   "source": [
    "import operator\n",
    "class EarlyStopping:\n",
    "    def __init__(self, tolerance=5, mode='min'):\n",
    "        assert mode in ['min','max'], 'Mode should be min or max'\n",
    "        self.mode = operator.lt if mode=='min' else operator.gt \n",
    "        self.tolerance = tolerance\n",
    "        self.counter = 0\n",
    "        self.early_stop = False\n",
    "        self.extremum_value = None\n",
    "        self.best_model = None\n",
    "    \n",
    "    @staticmethod\n",
    "    def copy_model(model):\n",
    "        copied_model = tf.keras.models.clone_model(model)\n",
    "        copied_model.set_weights(model.get_weights())\n",
    "        return copied_model\n",
    "        \n",
    "    def __call__(self, val, model):\n",
    "        if self.extremum_value is None:\n",
    "            self.extremum_value = val\n",
    "            self.best_model = self.copy_model(model)\n",
    "        else:\n",
    "            if not self.mode(val, self.extremum_value):\n",
    "                self.counter+=1\n",
    "            else:\n",
    "                self.extremum_value = val\n",
    "                self.best_model = self.copy_model(model)\n",
    "                self.counter = 0\n",
    "        \n",
    "        if self.counter==self.tolerance:\n",
    "            self.early_stop=True"
   ]
  },
  {
   "cell_type": "markdown",
   "id": "7676e473-8116-488e-990d-dc7937d9119c",
   "metadata": {},
   "source": [
    "# Train model"
   ]
  },
  {
   "cell_type": "code",
   "execution_count": 34,
   "id": "eed6de2d-be45-45cd-af31-b9042d1a20af",
   "metadata": {},
   "outputs": [],
   "source": [
    "from sklearn.metrics import f1_score"
   ]
  },
  {
   "cell_type": "code",
   "execution_count": 40,
   "id": "fbe8fc41-6661-4a56-ad5d-d1a4ed3e53f5",
   "metadata": {},
   "outputs": [],
   "source": [
    "def evaluate_on_datasets(y_true, y_pred, split='val'):\n",
    "    d = {}\n",
    "    for dataset_name in subsets['dataset_name'].unique():\n",
    "            idx = subsets[subsets['split']==split].copy()\n",
    "            idx['index'] = list(range(idx.shape[0]))\n",
    "            idx = idx[(idx['dataset_name']==dataset_name)]\\\n",
    "            ['index'].values.tolist()\n",
    "            score = f1_score(y_true=y_true[idx], y_pred=y_pred[idx],\n",
    "                                 average='macro')\n",
    "            print(f'{split} f1 score for dataset {dataset_name} : {score}')\n",
    "            d[f'{split}_f1_{dataset_name}'] = score\n",
    "            \n",
    "    for flag in [True, False]:\n",
    "        idx = subsets[subsets['split']==split].copy()\n",
    "        idx['index'] = list(range(idx.shape[0]))\n",
    "        idx = idx[idx['translated']==flag]['index'].values.tolist()\n",
    "        score = f1_score(y_true=y_true[idx], y_pred=y_pred[idx],\n",
    "                                 average='macro')\n",
    "        print(f'{split} f1 score for translated=={flag} : {score}')\n",
    "        d[f'{split}_f1_translated=={flag}'] = score\n",
    "    return d"
   ]
  },
  {
   "cell_type": "code",
   "execution_count": 41,
   "id": "f43c7824-1d7a-4fc1-b095-53902f428b3f",
   "metadata": {},
   "outputs": [],
   "source": [
    "def update_history(history, d):\n",
    "    for key, value in d.items():\n",
    "        res = history.get(key, [])\n",
    "        res.append(value)\n",
    "        history[key] = res"
   ]
  },
  {
   "cell_type": "code",
   "execution_count": 42,
   "id": "39c90c92-f6c9-4f00-94f0-582ebdf71912",
   "metadata": {},
   "outputs": [],
   "source": [
    "early_stopping = EarlyStopping(mode='max', tolerance=4)"
   ]
  },
  {
   "cell_type": "code",
   "execution_count": 43,
   "id": "e4354a40-79f8-4991-a26e-6d2422a4b9dd",
   "metadata": {},
   "outputs": [],
   "source": [
    "def training_loop(model, train_x, train_y, val_x, val_y, epochs=10, batch_size=128,\n",
    "                 shuffle=True):\n",
    "    dict_history = {}\n",
    "    for i in range(epochs):\n",
    "        if shuffle and i==0:\n",
    "            indices = np.arange(len(train_x))\n",
    "            np.random.shuffle(indices)\n",
    "            train_x = train_x[indices]\n",
    "            train_y = train_y[indices]\n",
    "            \n",
    "        #train model\n",
    "        history = model.fit(train_x, train_y, validation_data=(val_x, val_y), \n",
    "          epochs=1, batch_size=batch_size,\n",
    "                           verbose=0, shuffle=False)\n",
    "        train_loss, val_loss = history.history['loss'][-1], history.history['val_loss'][-1]\n",
    "        \n",
    "        #evaluate model\n",
    "        train_prediction = np.argmax(model.predict(train_x, batch_size=batch_size), axis=-1)\n",
    "        val_prediction = np.argmax(model.predict(val_x, batch_size=batch_size), axis=-1)\n",
    "        train_f1 = f1_score(y_true=train_y, y_pred=train_prediction,\n",
    "                           average='macro')\n",
    "        val_f1 = f1_score(y_true=val_y, y_pred=val_prediction,\n",
    "                         average='macro')\n",
    "        \n",
    "        #printing evaluation\n",
    "        print(f'Epoch {i}')\n",
    "        print(f'Overall train f1 : {train_f1}, overall val f1: {val_f1}')\n",
    "        print(f'Train loss : {train_loss}, val loss: {val_loss}')\n",
    "        d_train = evaluate_on_datasets(y_true=train_y, y_pred=train_prediction, split='train')\n",
    "        d_val = evaluate_on_datasets(y_true=val_y, y_pred=val_prediction, split='val')\n",
    "            \n",
    "        if i!=epochs-1:\n",
    "            print('-'*30)\n",
    "            \n",
    "        #save history\n",
    "        update_history(dict_history, d_train)\n",
    "        update_history(dict_history, d_val)\n",
    "        update_history(dict_history, {'train_f1': train_f1})\n",
    "        update_history(dict_history, {'val_f1': val_f1})\n",
    "        update_history(dict_history, {'train_loss': train_loss})\n",
    "        update_history(dict_history, {'val_loss': val_loss})\n",
    "        #early stopping\n",
    "        \n",
    "        early_stopping(val_f1, model)\n",
    "        if early_stopping.early_stop:\n",
    "            print('Stopping early')\n",
    "            model = early_stopping.best_model\n",
    "            break\n",
    "        \n",
    "    return dict_history, model"
   ]
  },
  {
   "cell_type": "code",
   "execution_count": 47,
   "id": "73c7d40c-fd2c-41cc-9938-ee4f58a8a0b5",
   "metadata": {},
   "outputs": [
    {
     "name": "stdout",
     "output_type": "stream",
     "text": [
      "260/260 [==============================] - 20s 67ms/step\n",
      "33/33 [==============================] - 2s 66ms/step\n",
      "Epoch 0\n",
      "Overall train f1 : 0.4960631761556984, overall val f1: 0.467470300851617\n",
      "Train loss : 0.7517228126525879, val loss: 0.6440544128417969\n",
      "train f1 score for dataset rozetka : 0.4869108693323045\n",
      "train f1 score for dataset tripadvisor_hotels_ukraine : 0.5053915350202638\n",
      "train f1 score for dataset tripadvisor_restaurants_ukraine : 0.5108072705177449\n",
      "train f1 score for translated==True : 0.5002179801021348\n",
      "train f1 score for translated==False : 0.47797065719222803\n",
      "val f1 score for dataset rozetka : 0.414316804630357\n",
      "val f1 score for dataset tripadvisor_hotels_ukraine : 0.5008804350506052\n",
      "val f1 score for dataset tripadvisor_restaurants_ukraine : 0.5052870594440103\n",
      "val f1 score for translated==True : 0.4739978916018746\n",
      "val f1 score for translated==False : 0.4181229555870882\n",
      "------------------------------\n",
      "260/260 [==============================] - 17s 66ms/step\n",
      "33/33 [==============================] - 2s 66ms/step\n",
      "Epoch 1\n",
      "Overall train f1 : 0.5726506460783649, overall val f1: 0.5123836109946451\n",
      "Train loss : 0.6130192875862122, val loss: 0.6226648092269897\n",
      "train f1 score for dataset rozetka : 0.5595376822714255\n",
      "train f1 score for dataset tripadvisor_hotels_ukraine : 0.5787218275983127\n",
      "train f1 score for dataset tripadvisor_restaurants_ukraine : 0.5967571115027466\n",
      "train f1 score for translated==True : 0.578170239318647\n",
      "train f1 score for translated==False : 0.5486640632961948\n",
      "val f1 score for dataset rozetka : 0.46732381165179254\n",
      "val f1 score for dataset tripadvisor_hotels_ukraine : 0.5447092699814466\n",
      "val f1 score for dataset tripadvisor_restaurants_ukraine : 0.5421657980242673\n",
      "val f1 score for translated==True : 0.5191399592758796\n",
      "val f1 score for translated==False : 0.4600919527553452\n",
      "------------------------------\n",
      "260/260 [==============================] - 18s 67ms/step\n",
      "33/33 [==============================] - 2s 69ms/step\n",
      "Epoch 2\n",
      "Overall train f1 : 0.6085283607546212, overall val f1: 0.5221309320566643\n",
      "Train loss : 0.5590410232543945, val loss: 0.6312316060066223\n",
      "train f1 score for dataset rozetka : 0.5911726751174698\n",
      "train f1 score for dataset tripadvisor_hotels_ukraine : 0.6048960891864007\n",
      "train f1 score for dataset tripadvisor_restaurants_ukraine : 0.6453198197497162\n",
      "train f1 score for translated==True : 0.6132345584492286\n",
      "train f1 score for translated==False : 0.5880910965332692\n",
      "val f1 score for dataset rozetka : 0.47535681600923646\n",
      "val f1 score for dataset tripadvisor_hotels_ukraine : 0.553141697417247\n",
      "val f1 score for dataset tripadvisor_restaurants_ukraine : 0.5536375388618342\n",
      "val f1 score for translated==True : 0.5279190475449838\n",
      "val f1 score for translated==False : 0.47584876824076494\n",
      "------------------------------\n",
      "260/260 [==============================] - 17s 67ms/step\n",
      "33/33 [==============================] - 2s 66ms/step\n",
      "Epoch 3\n",
      "Overall train f1 : 0.5588940640375742, overall val f1: 0.4746350877187025\n",
      "Train loss : 0.5183168053627014, val loss: 0.747116208076477\n",
      "train f1 score for dataset rozetka : 0.5458502235220389\n",
      "train f1 score for dataset tripadvisor_hotels_ukraine : 0.5534061156947443\n",
      "train f1 score for dataset tripadvisor_restaurants_ukraine : 0.5875044138144303\n",
      "train f1 score for translated==True : 0.5613743558390356\n",
      "train f1 score for translated==False : 0.5480663203740584\n",
      "val f1 score for dataset rozetka : 0.44663924254175813\n",
      "val f1 score for dataset tripadvisor_hotels_ukraine : 0.4759978134836783\n",
      "val f1 score for dataset tripadvisor_restaurants_ukraine : 0.4974493252719109\n",
      "val f1 score for translated==True : 0.47789900566488086\n",
      "val f1 score for translated==False : 0.44689668912340375\n",
      "------------------------------\n",
      "260/260 [==============================] - 17s 67ms/step\n",
      "33/33 [==============================] - 2s 66ms/step\n",
      "Epoch 4\n",
      "Overall train f1 : 0.5953570874294923, overall val f1: 0.4791713934568044\n",
      "Train loss : 0.4860915243625641, val loss: 0.7439704537391663\n",
      "train f1 score for dataset rozetka : 0.5780896024411015\n",
      "train f1 score for dataset tripadvisor_hotels_ukraine : 0.5933627470173226\n",
      "train f1 score for dataset tripadvisor_restaurants_ukraine : 0.6310033335998189\n",
      "train f1 score for translated==True : 0.5969602210367455\n",
      "train f1 score for translated==False : 0.5883028273967451\n",
      "val f1 score for dataset rozetka : 0.4496048700526072\n",
      "val f1 score for dataset tripadvisor_hotels_ukraine : 0.4948348336794234\n",
      "val f1 score for dataset tripadvisor_restaurants_ukraine : 0.49925959662334274\n",
      "val f1 score for translated==True : 0.4826801101667454\n",
      "val f1 score for translated==False : 0.4516639965818202\n",
      "------------------------------\n",
      "260/260 [==============================] - 17s 67ms/step\n",
      "33/33 [==============================] - 2s 69ms/step\n",
      "Epoch 5\n",
      "Overall train f1 : 0.6831586767395565, overall val f1: 0.5165094149975562\n",
      "Train loss : 0.45332762598991394, val loss: 0.7309014797210693\n",
      "train f1 score for dataset rozetka : 0.6600257484946228\n",
      "train f1 score for dataset tripadvisor_hotels_ukraine : 0.6728757059690038\n",
      "train f1 score for dataset tripadvisor_restaurants_ukraine : 0.7344765765371007\n",
      "train f1 score for translated==True : 0.6838134020554161\n",
      "train f1 score for translated==False : 0.680346362534429\n",
      "val f1 score for dataset rozetka : 0.48479660242547\n",
      "val f1 score for dataset tripadvisor_hotels_ukraine : 0.5231247119575316\n",
      "val f1 score for dataset tripadvisor_restaurants_ukraine : 0.5417127200190683\n",
      "val f1 score for translated==True : 0.5200543376556651\n",
      "val f1 score for translated==False : 0.48774972834237235\n",
      "------------------------------\n",
      "260/260 [==============================] - 17s 66ms/step\n",
      "33/33 [==============================] - 2s 68ms/step\n",
      "Epoch 6\n",
      "Overall train f1 : 0.7221805941125121, overall val f1: 0.5265398894811649\n",
      "Train loss : 0.41954171657562256, val loss: 0.7948089241981506\n",
      "train f1 score for dataset rozetka : 0.6964004822981325\n",
      "train f1 score for dataset tripadvisor_hotels_ukraine : 0.712943602255912\n",
      "train f1 score for dataset tripadvisor_restaurants_ukraine : 0.7791271176457162\n",
      "train f1 score for translated==True : 0.7222680723327015\n",
      "train f1 score for translated==False : 0.7218008728637599\n",
      "val f1 score for dataset rozetka : 0.4953843951940316\n",
      "val f1 score for dataset tripadvisor_hotels_ukraine : 0.5321508664356299\n",
      "val f1 score for dataset tripadvisor_restaurants_ukraine : 0.5510633008714377\n",
      "val f1 score for translated==True : 0.5307967111708228\n",
      "val f1 score for translated==False : 0.49211639780645655\n",
      "------------------------------\n",
      "260/260 [==============================] - 17s 67ms/step\n",
      "33/33 [==============================] - 2s 66ms/step\n",
      "Epoch 7\n",
      "Overall train f1 : 0.7208503871774201, overall val f1: 0.5128555881408465\n",
      "Train loss : 0.396870493888855, val loss: 0.8754767775535583\n",
      "train f1 score for dataset rozetka : 0.695249759322912\n",
      "train f1 score for dataset tripadvisor_hotels_ukraine : 0.7079814396621609\n",
      "train f1 score for dataset tripadvisor_restaurants_ukraine : 0.7779386310022327\n",
      "train f1 score for translated==True : 0.7203601327874812\n",
      "train f1 score for translated==False : 0.7229757144828349\n",
      "val f1 score for dataset rozetka : 0.48253145158982436\n",
      "val f1 score for dataset tripadvisor_hotels_ukraine : 0.5200209835769259\n",
      "val f1 score for dataset tripadvisor_restaurants_ukraine : 0.536251372760814\n",
      "val f1 score for translated==True : 0.5167221422211559\n",
      "val f1 score for translated==False : 0.48136489545867295\n",
      "------------------------------\n",
      "260/260 [==============================] - 17s 67ms/step\n",
      "33/33 [==============================] - 2s 66ms/step\n",
      "Epoch 8\n",
      "Overall train f1 : 0.753486603001123, overall val f1: 0.5217839068317135\n",
      "Train loss : 0.3737184405326843, val loss: 0.914612889289856\n",
      "train f1 score for dataset rozetka : 0.7263035991188644\n",
      "train f1 score for dataset tripadvisor_hotels_ukraine : 0.7458797347548691\n",
      "train f1 score for dataset tripadvisor_restaurants_ukraine : 0.8125177970578171\n",
      "train f1 score for translated==True : 0.7522303796808691\n",
      "train f1 score for translated==False : 0.7589069035253215\n",
      "val f1 score for dataset rozetka : 0.49477969452264403\n",
      "val f1 score for dataset tripadvisor_hotels_ukraine : 0.5238592953903801\n",
      "val f1 score for dataset tripadvisor_restaurants_ukraine : 0.5436680571620127\n",
      "val f1 score for translated==True : 0.5262742831065829\n",
      "val f1 score for translated==False : 0.48564253263729007\n",
      "------------------------------\n",
      "260/260 [==============================] - 18s 67ms/step\n",
      "33/33 [==============================] - 2s 66ms/step\n",
      "Epoch 9\n",
      "Overall train f1 : 0.7723889265700308, overall val f1: 0.5146227431595597\n",
      "Train loss : 0.35449227690696716, val loss: 0.9497703909873962\n",
      "train f1 score for dataset rozetka : 0.745338878521017\n",
      "train f1 score for dataset tripadvisor_hotels_ukraine : 0.7638415548906028\n",
      "train f1 score for dataset tripadvisor_restaurants_ukraine : 0.8306566244542462\n",
      "train f1 score for translated==True : 0.771445516491297\n",
      "train f1 score for translated==False : 0.7764758212653564\n",
      "val f1 score for dataset rozetka : 0.4921288656150059\n",
      "val f1 score for dataset tripadvisor_hotels_ukraine : 0.5205252009611334\n",
      "val f1 score for dataset tripadvisor_restaurants_ukraine : 0.5311780587175752\n",
      "val f1 score for translated==True : 0.5186186687899754\n",
      "val f1 score for translated==False : 0.48382622171333284\n",
      "------------------------------\n",
      "260/260 [==============================] - 18s 67ms/step\n",
      "33/33 [==============================] - 2s 67ms/step\n",
      "Epoch 10\n",
      "Overall train f1 : 0.7749905156029729, overall val f1: 0.5083067147901621\n",
      "Train loss : 0.33170077204704285, val loss: 1.001484990119934\n",
      "train f1 score for dataset rozetka : 0.7473236661755204\n",
      "train f1 score for dataset tripadvisor_hotels_ukraine : 0.7701334016002628\n",
      "train f1 score for dataset tripadvisor_restaurants_ukraine : 0.8324209032246273\n",
      "train f1 score for translated==True : 0.7750099095848413\n",
      "train f1 score for translated==False : 0.7748814998368384\n",
      "val f1 score for dataset rozetka : 0.4883144065077776\n",
      "val f1 score for dataset tripadvisor_hotels_ukraine : 0.5086847465897371\n",
      "val f1 score for dataset tripadvisor_restaurants_ukraine : 0.5250066237762998\n",
      "val f1 score for translated==True : 0.5125608681247006\n",
      "val f1 score for translated==False : 0.4758101879094522\n",
      "------------------------------\n",
      "Stopping early\n"
     ]
    }
   ],
   "source": [
    "dict_history, model = \\\n",
    "training_loop(model, train_x, train_y, \n",
    "              val_x, val_y, epochs=20, batch_size=2024, shuffle=True)"
   ]
  },
  {
   "cell_type": "code",
   "execution_count": 48,
   "id": "fc16eb41-29c6-443e-95a6-b263a76a65bc",
   "metadata": {},
   "outputs": [
    {
     "data": {
      "text/plain": [
       "{'train_f1_rozetka': [0.4869108693323045,\n",
       "  0.5595376822714255,\n",
       "  0.5911726751174698,\n",
       "  0.5458502235220389,\n",
       "  0.5780896024411015,\n",
       "  0.6600257484946228,\n",
       "  0.6964004822981325,\n",
       "  0.695249759322912,\n",
       "  0.7263035991188644,\n",
       "  0.745338878521017,\n",
       "  0.7473236661755204],\n",
       " 'train_f1_tripadvisor_hotels_ukraine': [0.5053915350202638,\n",
       "  0.5787218275983127,\n",
       "  0.6048960891864007,\n",
       "  0.5534061156947443,\n",
       "  0.5933627470173226,\n",
       "  0.6728757059690038,\n",
       "  0.712943602255912,\n",
       "  0.7079814396621609,\n",
       "  0.7458797347548691,\n",
       "  0.7638415548906028,\n",
       "  0.7701334016002628],\n",
       " 'train_f1_tripadvisor_restaurants_ukraine': [0.5108072705177449,\n",
       "  0.5967571115027466,\n",
       "  0.6453198197497162,\n",
       "  0.5875044138144303,\n",
       "  0.6310033335998189,\n",
       "  0.7344765765371007,\n",
       "  0.7791271176457162,\n",
       "  0.7779386310022327,\n",
       "  0.8125177970578171,\n",
       "  0.8306566244542462,\n",
       "  0.8324209032246273],\n",
       " 'train_f1_translated==True': [0.5002179801021348,\n",
       "  0.578170239318647,\n",
       "  0.6132345584492286,\n",
       "  0.5613743558390356,\n",
       "  0.5969602210367455,\n",
       "  0.6838134020554161,\n",
       "  0.7222680723327015,\n",
       "  0.7203601327874812,\n",
       "  0.7522303796808691,\n",
       "  0.771445516491297,\n",
       "  0.7750099095848413],\n",
       " 'train_f1_translated==False': [0.47797065719222803,\n",
       "  0.5486640632961948,\n",
       "  0.5880910965332692,\n",
       "  0.5480663203740584,\n",
       "  0.5883028273967451,\n",
       "  0.680346362534429,\n",
       "  0.7218008728637599,\n",
       "  0.7229757144828349,\n",
       "  0.7589069035253215,\n",
       "  0.7764758212653564,\n",
       "  0.7748814998368384],\n",
       " 'val_f1_rozetka': [0.414316804630357,\n",
       "  0.46732381165179254,\n",
       "  0.47535681600923646,\n",
       "  0.44663924254175813,\n",
       "  0.4496048700526072,\n",
       "  0.48479660242547,\n",
       "  0.4953843951940316,\n",
       "  0.48253145158982436,\n",
       "  0.49477969452264403,\n",
       "  0.4921288656150059,\n",
       "  0.4883144065077776],\n",
       " 'val_f1_tripadvisor_hotels_ukraine': [0.5008804350506052,\n",
       "  0.5447092699814466,\n",
       "  0.553141697417247,\n",
       "  0.4759978134836783,\n",
       "  0.4948348336794234,\n",
       "  0.5231247119575316,\n",
       "  0.5321508664356299,\n",
       "  0.5200209835769259,\n",
       "  0.5238592953903801,\n",
       "  0.5205252009611334,\n",
       "  0.5086847465897371],\n",
       " 'val_f1_tripadvisor_restaurants_ukraine': [0.5052870594440103,\n",
       "  0.5421657980242673,\n",
       "  0.5536375388618342,\n",
       "  0.4974493252719109,\n",
       "  0.49925959662334274,\n",
       "  0.5417127200190683,\n",
       "  0.5510633008714377,\n",
       "  0.536251372760814,\n",
       "  0.5436680571620127,\n",
       "  0.5311780587175752,\n",
       "  0.5250066237762998],\n",
       " 'val_f1_translated==True': [0.4739978916018746,\n",
       "  0.5191399592758796,\n",
       "  0.5279190475449838,\n",
       "  0.47789900566488086,\n",
       "  0.4826801101667454,\n",
       "  0.5200543376556651,\n",
       "  0.5307967111708228,\n",
       "  0.5167221422211559,\n",
       "  0.5262742831065829,\n",
       "  0.5186186687899754,\n",
       "  0.5125608681247006],\n",
       " 'val_f1_translated==False': [0.4181229555870882,\n",
       "  0.4600919527553452,\n",
       "  0.47584876824076494,\n",
       "  0.44689668912340375,\n",
       "  0.4516639965818202,\n",
       "  0.48774972834237235,\n",
       "  0.49211639780645655,\n",
       "  0.48136489545867295,\n",
       "  0.48564253263729007,\n",
       "  0.48382622171333284,\n",
       "  0.4758101879094522],\n",
       " 'train_f1': [0.4960631761556984,\n",
       "  0.5726506460783649,\n",
       "  0.6085283607546212,\n",
       "  0.5588940640375742,\n",
       "  0.5953570874294923,\n",
       "  0.6831586767395565,\n",
       "  0.7221805941125121,\n",
       "  0.7208503871774201,\n",
       "  0.753486603001123,\n",
       "  0.7723889265700308,\n",
       "  0.7749905156029729],\n",
       " 'val_f1': [0.467470300851617,\n",
       "  0.5123836109946451,\n",
       "  0.5221309320566643,\n",
       "  0.4746350877187025,\n",
       "  0.4791713934568044,\n",
       "  0.5165094149975562,\n",
       "  0.5265398894811649,\n",
       "  0.5128555881408465,\n",
       "  0.5217839068317135,\n",
       "  0.5146227431595597,\n",
       "  0.5083067147901621],\n",
       " 'train_loss': [0.7517228126525879,\n",
       "  0.6130192875862122,\n",
       "  0.5590410232543945,\n",
       "  0.5183168053627014,\n",
       "  0.4860915243625641,\n",
       "  0.45332762598991394,\n",
       "  0.41954171657562256,\n",
       "  0.396870493888855,\n",
       "  0.3737184405326843,\n",
       "  0.35449227690696716,\n",
       "  0.33170077204704285],\n",
       " 'val_loss': [0.6440544128417969,\n",
       "  0.6226648092269897,\n",
       "  0.6312316060066223,\n",
       "  0.747116208076477,\n",
       "  0.7439704537391663,\n",
       "  0.7309014797210693,\n",
       "  0.7948089241981506,\n",
       "  0.8754767775535583,\n",
       "  0.914612889289856,\n",
       "  0.9497703909873962,\n",
       "  1.001484990119934]}"
      ]
     },
     "execution_count": 48,
     "metadata": {},
     "output_type": "execute_result"
    }
   ],
   "source": [
    "dict_history"
   ]
  },
  {
   "cell_type": "markdown",
   "id": "b8d77413-4c00-4295-b7db-fe06dd7b23b5",
   "metadata": {},
   "source": [
    "# Show charts"
   ]
  },
  {
   "cell_type": "code",
   "execution_count": 49,
   "id": "b7f8ef02-623e-4ebb-8e1d-8da77c3ed9bc",
   "metadata": {},
   "outputs": [],
   "source": [
    "import seaborn as sns\n",
    "import matplotlib.pyplot as plt"
   ]
  },
  {
   "cell_type": "code",
   "execution_count": 50,
   "id": "521cf7cf-e1b2-42ce-8e95-5a2e61440247",
   "metadata": {},
   "outputs": [],
   "source": [
    "def plot_history(dict_history, columns):\n",
    "    plt.figure(figsize=(12,8))\n",
    "    for i in columns:\n",
    "        to_plot = dict_history[i]\n",
    "        plt.plot(range(len(to_plot)), to_plot, 'o-')\n",
    "    plt.xticks(range(len(to_plot)), range(len(to_plot)))\n",
    "    plt.xlabel('Epochs')\n",
    "    plt.legend(columns)"
   ]
  },
  {
   "cell_type": "code",
   "execution_count": 51,
   "id": "7c3ca35a-2166-4552-bc23-67c6bfe314d7",
   "metadata": {},
   "outputs": [
    {
     "data": {
      "image/png": "[encoded data removed]",
      "text/plain": [
       "<Figure size 1200x800 with 1 Axes>"
      ]
     },
     "metadata": {},
     "output_type": "display_data"
    }
   ],
   "source": [
    "plot_history(dict_history, ['val_loss', 'train_loss'])"
   ]
  },
  {
   "cell_type": "code",
   "execution_count": 52,
   "id": "09978e6c-1975-4fe9-b6ed-064e00c1809e",
   "metadata": {},
   "outputs": [
    {
     "data": {
      "image/png": "[encoded data removed]",
      "text/plain": [
       "<Figure size 1200x800 with 1 Axes>"
      ]
     },
     "metadata": {},
     "output_type": "display_data"
    }
   ],
   "source": [
    "plot_history(dict_history, ['val_f1', 'train_f1'])"
   ]
  },
  {
   "cell_type": "markdown",
   "id": "9763d7cb-3c09-425e-984f-7675f7fae0e9",
   "metadata": {},
   "source": [
    "# Evaluate model"
   ]
  },
  {
   "cell_type": "code",
   "execution_count": 53,
   "id": "4bb7e54e-5868-4379-8456-c3c5ef648c33",
   "metadata": {},
   "outputs": [
    {
     "name": "stdout",
     "output_type": "stream",
     "text": [
      "33/33 [==============================] - 5s 66ms/step\n"
     ]
    }
   ],
   "source": [
    "test_predictions = np.argmax(model.predict(test_x, batch_size=2024), axis=-1)"
   ]
  },
  {
   "cell_type": "code",
   "execution_count": 54,
   "id": "bc061fbf-e0a9-40be-8cb7-e356aef090d5",
   "metadata": {},
   "outputs": [
    {
     "name": "stdout",
     "output_type": "stream",
     "text": [
      "Overall test f1-score : 0.5282140922167834\n"
     ]
    }
   ],
   "source": [
    "test_f1 = f1_score(y_true=test_y, y_pred=test_predictions,\n",
    "                         average='macro')\n",
    "print(f'Overall test f1-score : {test_f1}')"
   ]
  },
  {
   "cell_type": "code",
   "execution_count": 55,
   "id": "24a4badc-8c22-4bdc-8fb2-f7f68dbb56b7",
   "metadata": {},
   "outputs": [
    {
     "name": "stdout",
     "output_type": "stream",
     "text": [
      "test f1 score for dataset rozetka : 0.4918797702795163\n",
      "test f1 score for dataset tripadvisor_hotels_ukraine : 0.548781584502241\n",
      "test f1 score for dataset tripadvisor_restaurants_ukraine : 0.5540068479063447\n",
      "test f1 score for translated==True : 0.532537063141008\n",
      "test f1 score for translated==False : 0.49425845610886227\n"
     ]
    }
   ],
   "source": [
    "test_results = evaluate_on_datasets(y_true=test_y, y_pred=test_predictions,split='test')\n",
    "                     "
   ]
  },
  {
   "cell_type": "markdown",
   "id": "fe8efb21-1b71-49e7-8483-c00a9c357b1f",
   "metadata": {},
   "source": [
    "# Confusion matrix"
   ]
  },
  {
   "cell_type": "code",
   "execution_count": 56,
   "id": "5b2c68b6-4749-458b-b84d-d32db8f84491",
   "metadata": {
    "tags": []
   },
   "outputs": [],
   "source": [
    "inverse_mapping = dict([(v,k) for k,v in mapping.items()])"
   ]
  },
  {
   "cell_type": "code",
   "execution_count": 57,
   "id": "5ea3f06f-0b96-4d3c-97bf-aad82784f2ac",
   "metadata": {},
   "outputs": [],
   "source": [
    "from sklearn.metrics import confusion_matrix"
   ]
  },
  {
   "cell_type": "code",
   "execution_count": 58,
   "id": "ab600e88-5b7f-43e8-8bae-52d9abe58ca3",
   "metadata": {},
   "outputs": [
    {
     "data": {
      "text/plain": [
       "array([0, 1, 2, 3, 4])"
      ]
     },
     "execution_count": 58,
     "metadata": {},
     "output_type": "execute_result"
    }
   ],
   "source": [
    "np.unique(test_y)"
   ]
  },
  {
   "cell_type": "code",
   "execution_count": 59,
   "id": "701c2bfe-a20e-4880-a580-01dbf0f8f92c",
   "metadata": {},
   "outputs": [
    {
     "data": {
      "image/png": "[encoded data removed]",
      "text/plain": [
       "<Figure size 1400x1000 with 2 Axes>"
      ]
     },
     "metadata": {},
     "output_type": "display_data"
    }
   ],
   "source": [
    "matrix = confusion_matrix(test_y, test_predictions)\n",
    "matrix_scaled = matrix.astype('float') / matrix.sum(axis=1)[:, np.newaxis]\n",
    "plt.figure(figsize=(14,10))\n",
    "sns.heatmap(matrix_scaled, annot=True, cmap=plt.cm.Blues, xticklabels=[inverse_mapping[i] for i in np.unique(test_y)],\\\n",
    "            yticklabels=[inverse_mapping[i] for i in np.unique(test_y)])\n",
    "plt.title('Confusion matrix')\n",
    "plt.xlabel('Predicted label')\n",
    "plt.ylabel('True label')\n",
    "\n",
    "plt.show()"
   ]
  },
  {
   "cell_type": "markdown",
   "id": "5447ad8a-3695-499c-9fe3-6d6d9cc2834c",
   "metadata": {},
   "source": [
    "# Save history results"
   ]
  },
  {
   "cell_type": "code",
   "execution_count": 60,
   "id": "b1d1cb15-8dae-414b-80c9-cabbcfd4168d",
   "metadata": {},
   "outputs": [],
   "source": [
    "history = pd.DataFrame(dict_history)\n",
    "for k,v in test_results.items():\n",
    "    history[k] = v"
   ]
  },
  {
   "cell_type": "code",
   "execution_count": 61,
   "id": "b2fc4c15-4277-4913-8080-91cddcc4d734",
   "metadata": {},
   "outputs": [],
   "source": [
    "history['model'] = model_name"
   ]
  },
  {
   "cell_type": "code",
   "execution_count": 62,
   "id": "344fd96f-8e81-47b6-8332-0bb3892edfa4",
   "metadata": {},
   "outputs": [],
   "source": [
    "history.to_csv(\"/home/user/jupyter_notebooks/Ukranian-SA/notebooks/training/training_results_filtered.csv\", mode='w', index=None)"
   ]
  },
  {
   "cell_type": "markdown",
   "id": "a97ec701-a932-433a-9883-965a7b4c5a0a",
   "metadata": {},
   "source": [
    "# Save model"
   ]
  },
  {
   "cell_type": "code",
   "execution_count": 63,
   "id": "cf61010a-6dee-42b8-93a1-f9a02ebb4d07",
   "metadata": {},
   "outputs": [
    {
     "name": "stdout",
     "output_type": "stream",
     "text": [
      "WARNING:tensorflow:Compiled the loaded model, but the compiled metrics have yet to be built. `model.compile_metrics` will be empty until you train or evaluate the model.\n"
     ]
    }
   ],
   "source": [
    "model.save(f'/home/user/files_for_research_Vova/{model_name}.h5')"
   ]
  },
  {
   "cell_type": "code",
   "execution_count": null,
   "id": "571b3d58-3688-4da4-870e-eeb0a4252648",
   "metadata": {},
   "outputs": [],
   "source": []
  }
 ],
 "metadata": {
  "kernelspec": {
   "display_name": "tensorflow_cuda12",
   "language": "python",
   "name": "tensorflow_cuda12"
  },
  "language_info": {
   "codemirror_mode": {
    "name": "ipython",
    "version": 3
   },
   "file_extension": ".py",
   "mimetype": "text/x-python",
   "name": "python",
   "nbconvert_exporter": "python",
   "pygments_lexer": "ipython3",
   "version": "3.8.10"
  }
 },
 "nbformat": 4,
 "nbformat_minor": 5
}
