{
 "cells": [
  {
   "cell_type": "code",
   "execution_count": 1,
   "id": "94761116-1530-448d-a1f6-593d90bec639",
   "metadata": {},
   "outputs": [
    {
     "name": "stdout",
     "output_type": "stream",
     "text": [
      "Collecting tokenizers\n",
      "  Downloading tokenizers-0.13.3-cp38-cp38-manylinux_2_17_x86_64.manylinux2014_x86_64.whl (7.8 MB)\n",
      "\u001b[2K     \u001b[90m━━━━━━━━━━━━━━━━━━━━━━━━━━━━━━━━━━━━━━━━\u001b[0m \u001b[32m7.8/7.8 MB\u001b[0m \u001b[31m10.9 MB/s\u001b[0m eta \u001b[36m0:00:00\u001b[0m00:01\u001b[0m00:01\u001b[0m\n",
      "\u001b[?25hInstalling collected packages: tokenizers\n",
      "Successfully installed tokenizers-0.13.3\n",
      "\u001b[33mWARNING: Running pip as the 'root' user can result in broken permissions and conflicting behaviour with the system package manager. It is recommended to use a virtual environment instead: https://pip.pypa.io/warnings/venv\u001b[0m\u001b[33m\n",
      "\u001b[0m"
     ]
    },
    {
     "name": "stderr",
     "output_type": "stream",
     "text": [
      "2023-04-09 10:10:42.435538: I tensorflow/core/platform/cpu_feature_guard.cc:194] This TensorFlow binary is optimized with oneAPI Deep Neural Network Library (oneDNN) to use the following CPU instructions in performance-critical operations:  SSE3 SSE4.1 SSE4.2 AVX\n",
      "To enable them in other operations, rebuild TensorFlow with the appropriate compiler flags.\n"
     ]
    }
   ],
   "source": [
    "!pip install tokenizers\n",
    "import tensorflow as tf\n",
    "from tokenizers import Tokenizer, models, pre_tokenizers, trainers, Regex\n",
    "import tokenizers\n",
    "import pandas as pd"
   ]
  },
  {
   "cell_type": "code",
   "execution_count": 87,
   "id": "fada8fbb-9dc2-4e9d-935d-2cb0d6684738",
   "metadata": {},
   "outputs": [],
   "source": [
    "model_name = 'depp_lstm_kim_cnn_dropout_cnn'"
   ]
  },
  {
   "cell_type": "markdown",
   "id": "aa46fb49-08a8-4809-b697-680813299d47",
   "metadata": {},
   "source": [
    "# Load data"
   ]
  },
  {
   "cell_type": "code",
   "execution_count": 4,
   "id": "d01ad050-f023-4253-bc33-72c76bce3944",
   "metadata": {},
   "outputs": [],
   "source": [
    "df = pd.read_csv('/home/user/files_for_research_Vova/processed_data.csv', usecols=['review_translate',\n",
    "                                                            'dataset_name',\n",
    "                                                            'rating',\n",
    "                                                           'translated'])"
   ]
  },
  {
   "cell_type": "code",
   "execution_count": 5,
   "id": "99ee8e3a-2281-4ec1-8107-49e3ba47d2a9",
   "metadata": {},
   "outputs": [
    {
     "data": {
      "text/html": [
       "<div>\n",
       "<style scoped>\n",
       "    .dataframe tbody tr th:only-of-type {\n",
       "        vertical-align: middle;\n",
       "    }\n",
       "\n",
       "    .dataframe tbody tr th {\n",
       "        vertical-align: top;\n",
       "    }\n",
       "\n",
       "    .dataframe thead th {\n",
       "        text-align: right;\n",
       "    }\n",
       "</style>\n",
       "<table border=\"1\" class=\"dataframe\">\n",
       "  <thead>\n",
       "    <tr style=\"text-align: right;\">\n",
       "      <th></th>\n",
       "      <th>review_translate</th>\n",
       "      <th>rating</th>\n",
       "      <th>dataset_name</th>\n",
       "      <th>translated</th>\n",
       "    </tr>\n",
       "  </thead>\n",
       "  <tbody>\n",
       "    <tr>\n",
       "      <th>0</th>\n",
       "      <td>Якісна пластмаса , переворот 360 градусвв</td>\n",
       "      <td>5.0</td>\n",
       "      <td>rozetka</td>\n",
       "      <td>False</td>\n",
       "    </tr>\n",
       "    <tr>\n",
       "      <th>1</th>\n",
       "      <td>За такі гроші це самий топ</td>\n",
       "      <td>5.0</td>\n",
       "      <td>rozetka</td>\n",
       "      <td>False</td>\n",
       "    </tr>\n",
       "    <tr>\n",
       "      <th>2</th>\n",
       "      <td>За такі гроші - просто супер ! Рекомендую .</td>\n",
       "      <td>5.0</td>\n",
       "      <td>rozetka</td>\n",
       "      <td>False</td>\n",
       "    </tr>\n",
       "    <tr>\n",
       "      <th>3</th>\n",
       "      <td>Виконує свою роботу не погано . але що ви хоті...</td>\n",
       "      <td>4.0</td>\n",
       "      <td>rozetka</td>\n",
       "      <td>False</td>\n",
       "    </tr>\n",
       "    <tr>\n",
       "      <th>4</th>\n",
       "      <td>Купляв на стару сістему як основний під віндов...</td>\n",
       "      <td>4.0</td>\n",
       "      <td>rozetka</td>\n",
       "      <td>False</td>\n",
       "    </tr>\n",
       "  </tbody>\n",
       "</table>\n",
       "</div>"
      ],
      "text/plain": [
       "                                    review_translate  rating dataset_name  \\\n",
       "0          Якісна пластмаса , переворот 360 градусвв     5.0      rozetka   \n",
       "1                         За такі гроші це самий топ     5.0      rozetka   \n",
       "2        За такі гроші - просто супер ! Рекомендую .     5.0      rozetka   \n",
       "3  Виконує свою роботу не погано . але що ви хоті...     4.0      rozetka   \n",
       "4  Купляв на стару сістему як основний під віндов...     4.0      rozetka   \n",
       "\n",
       "   translated  \n",
       "0       False  \n",
       "1       False  \n",
       "2       False  \n",
       "3       False  \n",
       "4       False  "
      ]
     },
     "execution_count": 5,
     "metadata": {},
     "output_type": "execute_result"
    }
   ],
   "source": [
    "df.head()"
   ]
  },
  {
   "cell_type": "code",
   "execution_count": 6,
   "id": "870b0de2-18ef-42ce-9bd5-1ff68b8a1776",
   "metadata": {},
   "outputs": [],
   "source": [
    "subsets = pd.read_csv('/home/user/files_for_research_Vova/train_val_test_indices.csv')"
   ]
  },
  {
   "cell_type": "code",
   "execution_count": 7,
   "id": "778fb1c0-5396-480b-8ce5-e728d06fc3d8",
   "metadata": {},
   "outputs": [
    {
     "data": {
      "text/html": [
       "<div>\n",
       "<style scoped>\n",
       "    .dataframe tbody tr th:only-of-type {\n",
       "        vertical-align: middle;\n",
       "    }\n",
       "\n",
       "    .dataframe tbody tr th {\n",
       "        vertical-align: top;\n",
       "    }\n",
       "\n",
       "    .dataframe thead th {\n",
       "        text-align: right;\n",
       "    }\n",
       "</style>\n",
       "<table border=\"1\" class=\"dataframe\">\n",
       "  <thead>\n",
       "    <tr style=\"text-align: right;\">\n",
       "      <th></th>\n",
       "      <th>index</th>\n",
       "      <th>split</th>\n",
       "    </tr>\n",
       "  </thead>\n",
       "  <tbody>\n",
       "    <tr>\n",
       "      <th>0</th>\n",
       "      <td>0</td>\n",
       "      <td>train</td>\n",
       "    </tr>\n",
       "    <tr>\n",
       "      <th>1</th>\n",
       "      <td>1</td>\n",
       "      <td>test</td>\n",
       "    </tr>\n",
       "    <tr>\n",
       "      <th>2</th>\n",
       "      <td>2</td>\n",
       "      <td>train</td>\n",
       "    </tr>\n",
       "    <tr>\n",
       "      <th>3</th>\n",
       "      <td>3</td>\n",
       "      <td>train</td>\n",
       "    </tr>\n",
       "    <tr>\n",
       "      <th>4</th>\n",
       "      <td>4</td>\n",
       "      <td>train</td>\n",
       "    </tr>\n",
       "  </tbody>\n",
       "</table>\n",
       "</div>"
      ],
      "text/plain": [
       "   index  split\n",
       "0      0  train\n",
       "1      1   test\n",
       "2      2  train\n",
       "3      3  train\n",
       "4      4  train"
      ]
     },
     "execution_count": 7,
     "metadata": {},
     "output_type": "execute_result"
    }
   ],
   "source": [
    "subsets.head()"
   ]
  },
  {
   "cell_type": "code",
   "execution_count": 8,
   "id": "bb145e0a-2bf5-4004-b334-15433414769a",
   "metadata": {},
   "outputs": [],
   "source": [
    "subsets = subsets.merge(df[['dataset_name', 'translated']], left_on='index', right_index=True)"
   ]
  },
  {
   "cell_type": "markdown",
   "id": "f35025fc-9c2c-490e-9231-10f4b38e230b",
   "metadata": {},
   "source": [
    "# Load tokenizer"
   ]
  },
  {
   "cell_type": "code",
   "execution_count": 9,
   "id": "dc7ca142-1e37-49c2-b8b8-2d5f74ee98c8",
   "metadata": {},
   "outputs": [],
   "source": [
    "tokenizer = Tokenizer.from_file(\"/home/user/files_for_research_Vova/tokenizer_30k.json\")\n"
   ]
  },
  {
   "cell_type": "markdown",
   "id": "a86c13af-5e8f-49e4-b337-7b3a70163c1c",
   "metadata": {},
   "source": [
    "# Encode text"
   ]
  },
  {
   "cell_type": "code",
   "execution_count": 10,
   "id": "ef69c9c8-b050-4904-8e93-5e1b89361f8d",
   "metadata": {},
   "outputs": [],
   "source": [
    "import seaborn as sns\n",
    "import numpy as np"
   ]
  },
  {
   "cell_type": "code",
   "execution_count": 11,
   "id": "e2e913ba-749b-4161-a2db-0cb6af2b025c",
   "metadata": {},
   "outputs": [],
   "source": [
    "sns.set()"
   ]
  },
  {
   "cell_type": "code",
   "execution_count": 12,
   "id": "0dda1c9a-9961-4097-bd69-3e5bd58d6789",
   "metadata": {},
   "outputs": [],
   "source": [
    "df['review_translate'] = df['review_translate'].str.lower()"
   ]
  },
  {
   "cell_type": "code",
   "execution_count": 13,
   "id": "3151fe97-eded-408c-be0d-df2b49051e7c",
   "metadata": {},
   "outputs": [],
   "source": [
    "df['encoded'] = tokenizer.encode_batch(df['review_translate'].values)"
   ]
  },
  {
   "cell_type": "code",
   "execution_count": 14,
   "id": "8c01d676-5e85-4b7d-b7c0-5d99b8ba1d44",
   "metadata": {},
   "outputs": [],
   "source": [
    "df['encoded'] = df['encoded'].apply(lambda x: x.ids)"
   ]
  },
  {
   "cell_type": "code",
   "execution_count": 15,
   "id": "47ddda71-f140-49f7-89c8-fea94b8bcdfd",
   "metadata": {},
   "outputs": [
    {
     "name": "stderr",
     "output_type": "stream",
     "text": [
      "/tmp/ipykernel_1/3749403729.py:1: UserWarning: \n",
      "\n",
      "`distplot` is a deprecated function and will be removed in seaborn v0.14.0.\n",
      "\n",
      "Please adapt your code to use either `displot` (a figure-level function with\n",
      "similar flexibility) or `histplot` (an axes-level function for histograms).\n",
      "\n",
      "For a guide to updating your code to use the new functions, please see\n",
      "https://gist.github.com/mwaskom/de44147ed2974457ad6372750bbe5751\n",
      "\n",
      "  sns.distplot(np.log10(df['encoded'].apply(len)))\n"
     ]
    },
    {
     "data": {
      "text/plain": [
       "<AxesSubplot: xlabel='encoded', ylabel='Density'>"
      ]
     },
     "execution_count": 15,
     "metadata": {},
     "output_type": "execute_result"
    },
    {
     "data": {
      "image/png": "[encoded data removed]",
      "text/plain": [
       "<Figure size 640x480 with 1 Axes>"
      ]
     },
     "metadata": {},
     "output_type": "display_data"
    }
   ],
   "source": [
    "sns.distplot(np.log10(df['encoded'].apply(len)))"
   ]
  },
  {
   "cell_type": "code",
   "execution_count": 16,
   "id": "e81a0c0b-0dd0-4437-872e-0c13fc041b99",
   "metadata": {},
   "outputs": [
    {
     "data": {
      "text/plain": [
       "323.0"
      ]
     },
     "execution_count": 16,
     "metadata": {},
     "output_type": "execute_result"
    }
   ],
   "source": [
    "np.percentile(df['encoded'].apply(len), 99)"
   ]
  },
  {
   "cell_type": "code",
   "execution_count": 17,
   "id": "c680a61a-cee2-4fbd-9a97-17a9c7ec74a9",
   "metadata": {},
   "outputs": [],
   "source": [
    "encoded_tokens = df['encoded'].values"
   ]
  },
  {
   "cell_type": "code",
   "execution_count": 18,
   "id": "b3d6e285-87e6-4ce1-be8a-cb614270a8a4",
   "metadata": {},
   "outputs": [],
   "source": [
    "from itertools import chain"
   ]
  },
  {
   "cell_type": "code",
   "execution_count": 19,
   "id": "7f8c9fac-7ed8-45c3-8114-763b1ed0c138",
   "metadata": {},
   "outputs": [],
   "source": [
    "padded_tokens = tf.keras.preprocessing.sequence\\\n",
    ".pad_sequences(encoded_tokens, maxlen=300, padding=\"post\")\n"
   ]
  },
  {
   "cell_type": "code",
   "execution_count": 20,
   "id": "8137187b-fd7f-4199-883e-7ff778a94c0a",
   "metadata": {},
   "outputs": [
    {
     "data": {
      "text/plain": [
       "(662907, 300)"
      ]
     },
     "execution_count": 20,
     "metadata": {},
     "output_type": "execute_result"
    }
   ],
   "source": [
    "padded_tokens.shape"
   ]
  },
  {
   "cell_type": "markdown",
   "id": "5bc9a5b3-3794-4ab8-a16d-fa572ac9d2f6",
   "metadata": {},
   "source": [
    "# Get labels and split data"
   ]
  },
  {
   "cell_type": "code",
   "execution_count": 21,
   "id": "fbdb3b33-cbb6-4024-b683-8819ad6d7b3f",
   "metadata": {},
   "outputs": [],
   "source": [
    "mapping = dict([(i,c) for c,i in enumerate(df['rating'].unique())])"
   ]
  },
  {
   "cell_type": "code",
   "execution_count": 22,
   "id": "0d9dcd18-b69c-4b71-8f83-85f750be1daa",
   "metadata": {},
   "outputs": [],
   "source": [
    "y = df['rating'].map(mapping).values"
   ]
  },
  {
   "cell_type": "code",
   "execution_count": 23,
   "id": "abf0a14a-7050-4689-806f-dbe4f094f0d8",
   "metadata": {},
   "outputs": [],
   "source": [
    "num_classes = len(set(y))"
   ]
  },
  {
   "cell_type": "code",
   "execution_count": 24,
   "id": "59b5a397-faf0-43be-b498-a3d4af06fbc0",
   "metadata": {},
   "outputs": [],
   "source": [
    "train_indices, val_indices, test_indices = subsets[subsets['split']=='train'].index.tolist(),\\\n",
    "subsets[subsets['split']=='val'].index.tolist(),\\\n",
    "subsets[subsets['split']=='test'].index.tolist()\n"
   ]
  },
  {
   "cell_type": "code",
   "execution_count": 25,
   "id": "7564a2e1-11d7-44cf-803b-03b4eb3b0dce",
   "metadata": {},
   "outputs": [],
   "source": [
    "train_y, val_y, test_y = y[train_indices], y[val_indices], y[test_indices]"
   ]
  },
  {
   "cell_type": "code",
   "execution_count": 26,
   "id": "39adcfe4-0446-4673-bbad-dfdc972fb7d0",
   "metadata": {},
   "outputs": [],
   "source": [
    "train_x, val_x, test_x = padded_tokens[train_indices], padded_tokens[val_indices],\\\n",
    "padded_tokens[test_indices]"
   ]
  },
  {
   "cell_type": "code",
   "execution_count": 27,
   "id": "bce92ef9-7a5c-4f99-86e0-18544e93101f",
   "metadata": {},
   "outputs": [
    {
     "data": {
      "text/plain": [
       "(530324, 300)"
      ]
     },
     "execution_count": 27,
     "metadata": {},
     "output_type": "execute_result"
    }
   ],
   "source": [
    "train_x.shape"
   ]
  },
  {
   "cell_type": "markdown",
   "id": "a0f0ac0e-11a7-436a-9fd3-cfa9229d7ec8",
   "metadata": {},
   "source": [
    "# Create  model"
   ]
  },
  {
   "cell_type": "code",
   "execution_count": 61,
   "id": "1ecd0ac6-34d4-4daf-9b29-61a5bb3e48be",
   "metadata": {
    "tags": []
   },
   "outputs": [],
   "source": [
    "n_grams_num = [3, 4, 5, 7, 9]\n",
    "pool_window = 2"
   ]
  },
  {
   "cell_type": "code",
   "execution_count": 88,
   "id": "91941772-c544-43ae-bf45-b08d249c49c7",
   "metadata": {},
   "outputs": [],
   "source": [
    "tf.keras.backend.clear_session()\n",
    "np.random.seed(0)\n",
    "tf.random.set_seed(0)\n",
    "input_layer = tf.keras.layers.Input(shape=(300,), name='input')\n",
    "word_embedding = tf.keras.layers.Embedding(input_dim=tokenizer.get_vocab_size(),\n",
    "                                                   output_dim=300,\n",
    "                                                   trainable=True,\n",
    "                                           name='embedding',\n",
    "                                           mask_zero=True)\n",
    "\n",
    "dropout = tf.keras.layers.SpatialDropout1D(0.3)\n",
    "lstm_1 = tf.keras.layers.LSTM(256, name='lstm1', return_sequences=True)\n",
    "lstm_2 = tf.keras.layers.LSTM(128, name='lstm2', return_sequences=True)\n",
    "dropout_between_lstm = tf.keras.layers.Dropout(0.15, name='dropout_between_lstm')\n",
    "\n",
    "embedded = dropout(word_embedding(input_layer))\n",
    "hidden_states1 = lstm_1(embedded)\n",
    "hidden_states1 = dropout_between_lstm(hidden_states1)\n",
    "hidden_states2 = lstm_2(hidden_states1)\n",
    "concat = []\n",
    "for i in n_grams_num:\n",
    "    conv1d = tf.keras.layers.Conv1D(filters=32, kernel_size=i,\n",
    "                                   name=f'conv_ngram_{i}', activation='relu')\n",
    "    max_pooling = tf.keras.layers.MaxPool1D(pool_size=pool_window, strides=1,\n",
    "                                           padding='valid')\n",
    "    dropout_cnn = tf.keras.layers.Dropout(0.1, name=f'dropout_conv_ngram{i}')\n",
    "    concat.append(dropout_cnn(max_pooling(conv1d(hidden_states2))))\n",
    "    \n",
    "x = tf.keras.layers.concatenate(concat, axis=1, name='concat')\n",
    "x = tf.keras.layers.Flatten(name='flatten')(x)\n",
    "x = tf.keras.layers.Dense(128, activation='relu', name='dense')(x)\n",
    "x = tf.keras.layers.Dropout(0.5, name='dropout')(x)\n",
    "output = tf.keras.layers.Dense(num_classes, activation='softmax', name='output')(x)\n",
    "model = tf.keras.Model(input_layer, output)"
   ]
  },
  {
   "cell_type": "code",
   "execution_count": 89,
   "id": "ff15a6a7-6034-4532-9002-8ae18b12b1c2",
   "metadata": {
    "tags": []
   },
   "outputs": [
    {
     "name": "stdout",
     "output_type": "stream",
     "text": [
      "Model: \"model\"\n",
      "__________________________________________________________________________________________________\n",
      " Layer (type)                   Output Shape         Param #     Connected to                     \n",
      "==================================================================================================\n",
      " input (InputLayer)             [(None, 300)]        0           []                               \n",
      "                                                                                                  \n",
      " embedding (Embedding)          (None, 300, 300)     9000000     ['input[0][0]']                  \n",
      "                                                                                                  \n",
      " spatial_dropout1d (SpatialDrop  (None, 300, 300)    0           ['embedding[0][0]']              \n",
      " out1D)                                                                                           \n",
      "                                                                                                  \n",
      " lstm1 (LSTM)                   (None, 300, 256)     570368      ['spatial_dropout1d[0][0]']      \n",
      "                                                                                                  \n",
      " dropout_between_lstm (Dropout)  (None, 300, 256)    0           ['lstm1[0][0]']                  \n",
      "                                                                                                  \n",
      " lstm2 (LSTM)                   (None, 300, 128)     197120      ['dropout_between_lstm[0][0]']   \n",
      "                                                                                                  \n",
      " conv_ngram_3 (Conv1D)          (None, 298, 32)      12320       ['lstm2[0][0]']                  \n",
      "                                                                                                  \n",
      " conv_ngram_4 (Conv1D)          (None, 297, 32)      16416       ['lstm2[0][0]']                  \n",
      "                                                                                                  \n",
      " conv_ngram_5 (Conv1D)          (None, 296, 32)      20512       ['lstm2[0][0]']                  \n",
      "                                                                                                  \n",
      " conv_ngram_7 (Conv1D)          (None, 294, 32)      28704       ['lstm2[0][0]']                  \n",
      "                                                                                                  \n",
      " conv_ngram_9 (Conv1D)          (None, 292, 32)      36896       ['lstm2[0][0]']                  \n",
      "                                                                                                  \n",
      " max_pooling1d (MaxPooling1D)   (None, 297, 32)      0           ['conv_ngram_3[0][0]']           \n",
      "                                                                                                  \n",
      " max_pooling1d_1 (MaxPooling1D)  (None, 296, 32)     0           ['conv_ngram_4[0][0]']           \n",
      "                                                                                                  \n",
      " max_pooling1d_2 (MaxPooling1D)  (None, 295, 32)     0           ['conv_ngram_5[0][0]']           \n",
      "                                                                                                  \n",
      " max_pooling1d_3 (MaxPooling1D)  (None, 293, 32)     0           ['conv_ngram_7[0][0]']           \n",
      "                                                                                                  \n",
      " max_pooling1d_4 (MaxPooling1D)  (None, 291, 32)     0           ['conv_ngram_9[0][0]']           \n",
      "                                                                                                  \n",
      " dropout_conv_ngram3 (Dropout)  (None, 297, 32)      0           ['max_pooling1d[0][0]']          \n",
      "                                                                                                  \n",
      " dropout_conv_ngram4 (Dropout)  (None, 296, 32)      0           ['max_pooling1d_1[0][0]']        \n",
      "                                                                                                  \n",
      " dropout_conv_ngram5 (Dropout)  (None, 295, 32)      0           ['max_pooling1d_2[0][0]']        \n",
      "                                                                                                  \n",
      " dropout_conv_ngram7 (Dropout)  (None, 293, 32)      0           ['max_pooling1d_3[0][0]']        \n",
      "                                                                                                  \n",
      " dropout_conv_ngram9 (Dropout)  (None, 291, 32)      0           ['max_pooling1d_4[0][0]']        \n",
      "                                                                                                  \n",
      " concat (Concatenate)           (None, 1472, 32)     0           ['dropout_conv_ngram3[0][0]',    \n",
      "                                                                  'dropout_conv_ngram4[0][0]',    \n",
      "                                                                  'dropout_conv_ngram5[0][0]',    \n",
      "                                                                  'dropout_conv_ngram7[0][0]',    \n",
      "                                                                  'dropout_conv_ngram9[0][0]']    \n",
      "                                                                                                  \n",
      " flatten (Flatten)              (None, 47104)        0           ['concat[0][0]']                 \n",
      "                                                                                                  \n",
      " dense (Dense)                  (None, 128)          6029440     ['flatten[0][0]']                \n",
      "                                                                                                  \n",
      " dropout (Dropout)              (None, 128)          0           ['dense[0][0]']                  \n",
      "                                                                                                  \n",
      " output (Dense)                 (None, 5)            645         ['dropout[0][0]']                \n",
      "                                                                                                  \n",
      "==================================================================================================\n",
      "Total params: 15,912,421\n",
      "Trainable params: 15,912,421\n",
      "Non-trainable params: 0\n",
      "__________________________________________________________________________________________________\n"
     ]
    }
   ],
   "source": [
    "model.summary()"
   ]
  },
  {
   "cell_type": "markdown",
   "id": "5df15e13-921d-4eaa-b433-7500dc153a5f",
   "metadata": {},
   "source": [
    "# Compile model"
   ]
  },
  {
   "cell_type": "code",
   "execution_count": 90,
   "id": "a272e87d-a23a-4940-81fa-569451e2ea5c",
   "metadata": {},
   "outputs": [],
   "source": [
    "model.compile(loss='sparse_categorical_crossentropy', \\\n",
    "              optimizer=tf.keras.optimizers.Adam(),\n",
    "             metrics=['acc'])"
   ]
  },
  {
   "cell_type": "markdown",
   "id": "d9db9424-2b20-4d10-8da4-0c55152abe57",
   "metadata": {},
   "source": [
    "# Early stopping"
   ]
  },
  {
   "cell_type": "code",
   "execution_count": 91,
   "id": "9c9801fe-9cd2-47e2-9cad-58efbf4205a7",
   "metadata": {},
   "outputs": [],
   "source": [
    "import operator\n",
    "class EarlyStopping:\n",
    "    def __init__(self, tolerance=5, mode='min'):\n",
    "        assert mode in ['min','max'], 'Mode should be min or max'\n",
    "        self.mode = operator.lt if mode=='min' else operator.gt \n",
    "        self.tolerance = tolerance\n",
    "        self.counter = 0\n",
    "        self.early_stop = False\n",
    "        self.extremum_value = None\n",
    "        self.best_model = None\n",
    "    \n",
    "    @staticmethod\n",
    "    def copy_model(model):\n",
    "        copied_model = tf.keras.models.clone_model(model)\n",
    "        copied_model.set_weights(model.get_weights())\n",
    "        return copied_model\n",
    "        \n",
    "    def __call__(self, val, model):\n",
    "        if self.extremum_value is None:\n",
    "            self.extremum_value = val\n",
    "            self.best_model = self.copy_model(model)\n",
    "        else:\n",
    "            if not self.mode(val, self.extremum_value):\n",
    "                self.counter+=1\n",
    "            else:\n",
    "                self.extremum_value = val\n",
    "                self.best_model = self.copy_model(model)\n",
    "                self.counter = 0\n",
    "        \n",
    "        if self.counter==self.tolerance:\n",
    "            self.early_stop=True"
   ]
  },
  {
   "cell_type": "markdown",
   "id": "7676e473-8116-488e-990d-dc7937d9119c",
   "metadata": {},
   "source": [
    "# Train model"
   ]
  },
  {
   "cell_type": "code",
   "execution_count": 92,
   "id": "eed6de2d-be45-45cd-af31-b9042d1a20af",
   "metadata": {},
   "outputs": [],
   "source": [
    "from sklearn.metrics import f1_score"
   ]
  },
  {
   "cell_type": "code",
   "execution_count": 93,
   "id": "fbe8fc41-6661-4a56-ad5d-d1a4ed3e53f5",
   "metadata": {},
   "outputs": [],
   "source": [
    "def evaluate_on_datasets(y_true, y_pred, split='val'):\n",
    "    d = {}\n",
    "    for dataset_name in subsets['dataset_name'].unique():\n",
    "            idx = subsets[subsets['split']==split].copy()\n",
    "            idx['index'] = list(range(idx.shape[0]))\n",
    "            idx = idx[(idx['dataset_name']==dataset_name)]\\\n",
    "            ['index'].values.tolist()\n",
    "            score = f1_score(y_true=y_true[idx], y_pred=y_pred[idx],\n",
    "                                 average='micro')\n",
    "            print(f'{split} f1 score for dataset {dataset_name} : {score}')\n",
    "            d[f'{split}_f1_{dataset_name}'] = score\n",
    "            \n",
    "    for flag in [True, False]:\n",
    "        idx = subsets[subsets['split']==split].copy()\n",
    "        idx['index'] = list(range(idx.shape[0]))\n",
    "        idx = idx[idx['translated']==flag]['index'].values.tolist()\n",
    "        score = f1_score(y_true=y_true[idx], y_pred=y_pred[idx],\n",
    "                                 average='micro')\n",
    "        print(f'{split} f1 score for translated=={flag} : {score}')\n",
    "        d[f'{split}_f1_translated=={flag}'] = score\n",
    "    return d"
   ]
  },
  {
   "cell_type": "code",
   "execution_count": 94,
   "id": "f43c7824-1d7a-4fc1-b095-53902f428b3f",
   "metadata": {},
   "outputs": [],
   "source": [
    "def update_history(history, d):\n",
    "    for key, value in d.items():\n",
    "        res = history.get(key, [])\n",
    "        res.append(value)\n",
    "        history[key] = res"
   ]
  },
  {
   "cell_type": "code",
   "execution_count": 95,
   "id": "39c90c92-f6c9-4f00-94f0-582ebdf71912",
   "metadata": {},
   "outputs": [],
   "source": [
    "early_stopping = EarlyStopping(mode='max', tolerance=4)"
   ]
  },
  {
   "cell_type": "code",
   "execution_count": 96,
   "id": "e4354a40-79f8-4991-a26e-6d2422a4b9dd",
   "metadata": {},
   "outputs": [],
   "source": [
    "def training_loop(model, epochs=10, batch_size=128):\n",
    "    dict_history = {}\n",
    "    for i in range(epochs):\n",
    "        \n",
    "        #train model\n",
    "        history = model.fit(train_x, train_y, validation_data=(val_x, val_y), \n",
    "          epochs=1, batch_size=batch_size,\n",
    "                           verbose=0)\n",
    "        train_loss, val_loss = history.history['loss'][-1], history.history['val_loss'][-1]\n",
    "        \n",
    "        #evaluate model\n",
    "        train_prediction = np.argmax(model.predict(train_x, batch_size), axis=-1)\n",
    "        val_prediction = np.argmax(model.predict(val_x, batch_size), axis=-1)\n",
    "        train_f1 = f1_score(y_true=train_y, y_pred=train_prediction,\n",
    "                           average='micro')\n",
    "        val_f1 = f1_score(y_true=val_y, y_pred=val_prediction,\n",
    "                         average='micro')\n",
    "        \n",
    "        #printing evaluation\n",
    "        print(f'Epoch {i}')\n",
    "        print(f'Overall train f1 : {train_f1}, overall val f1: {val_f1}')\n",
    "        print(f'Train loss : {train_loss}, val loss: {val_loss}')\n",
    "        d_train = evaluate_on_datasets(y_true=train_y, y_pred=train_prediction, split='train')\n",
    "        d_val = evaluate_on_datasets(y_true=val_y, y_pred=val_prediction, split='val')\n",
    "            \n",
    "        if i!=epochs-1:\n",
    "            print('-'*30)\n",
    "            \n",
    "        #save history\n",
    "        update_history(dict_history, d_train)\n",
    "        update_history(dict_history, d_val)\n",
    "        update_history(dict_history, {'train_f1': train_f1})\n",
    "        update_history(dict_history, {'val_f1': val_f1})\n",
    "        update_history(dict_history, {'train_loss': train_loss})\n",
    "        update_history(dict_history, {'val_loss': val_loss})\n",
    "        #early stopping\n",
    "        \n",
    "        early_stopping(val_f1, model)\n",
    "        if early_stopping.early_stop:\n",
    "            print('Stopping early')\n",
    "            model = early_stopping.best_model\n",
    "            break\n",
    "        \n",
    "    return dict_history, model"
   ]
  },
  {
   "cell_type": "code",
   "execution_count": 97,
   "id": "73c7d40c-fd2c-41cc-9938-ee4f58a8a0b5",
   "metadata": {},
   "outputs": [
    {
     "name": "stdout",
     "output_type": "stream",
     "text": [
      "518/518 [==============================] - 28s 48ms/step\n",
      "65/65 [==============================] - 3s 48ms/step\n",
      "Epoch 0\n",
      "Overall train f1 : 0.7528020606270883, overall val f1: 0.7419821994267611\n",
      "Train loss : 0.7545626163482666, val loss: 0.6560627222061157\n",
      "train f1 score for dataset rozetka : 0.7759861147890896\n",
      "train f1 score for dataset tripadvisor_hotels_ukraine : 0.70103995621237\n",
      "train f1 score for dataset tripadvisor_restaurants_ukraine : 0.7269339400596265\n",
      "train f1 score for translated==True : 0.7455337092378972\n",
      "train f1 score for translated==False : 0.7838477212862184\n",
      "val f1 score for dataset rozetka : 0.7681096533768952\n",
      "val f1 score for dataset tripadvisor_hotels_ukraine : 0.686350556737145\n",
      "val f1 score for dataset tripadvisor_restaurants_ukraine : 0.7117004027407291\n",
      "val f1 score for translated==True : 0.7336064047663378\n",
      "val f1 score for translated==False : 0.7777424483306836\n",
      "------------------------------\n",
      "518/518 [==============================] - 25s 48ms/step\n",
      "65/65 [==============================] - 3s 47ms/step\n",
      "Epoch 1\n",
      "Overall train f1 : 0.7732650228916662, overall val f1: 0.7438527681399909\n",
      "Train loss : 0.6343426704406738, val loss: 0.648032009601593\n",
      "train f1 score for dataset rozetka : 0.7919866507990696\n",
      "train f1 score for dataset tripadvisor_hotels_ukraine : 0.7323950269763078\n",
      "train f1 score for dataset tripadvisor_restaurants_ukraine : 0.7519875516501909\n",
      "train f1 score for translated==True : 0.767031478710506\n",
      "train f1 score for translated==False : 0.7998906614979375\n",
      "val f1 score for dataset rozetka : 0.7691306345397928\n",
      "val f1 score for dataset tripadvisor_hotels_ukraine : 0.6892280745652446\n",
      "val f1 score for dataset tripadvisor_restaurants_ukraine : 0.7148909461791935\n",
      "val f1 score for translated==True : 0.735188977843977\n",
      "val f1 score for translated==False : 0.7808426073131955\n",
      "------------------------------\n",
      "518/518 [==============================] - 25s 48ms/step\n",
      "65/65 [==============================] - 3s 48ms/step\n",
      "Epoch 2\n",
      "Overall train f1 : 0.7840207118667079, overall val f1: 0.7339116005430684\n",
      "Train loss : 0.5824945569038391, val loss: 0.6860221028327942\n",
      "train f1 score for dataset rozetka : 0.8022346511308853\n",
      "train f1 score for dataset tripadvisor_hotels_ukraine : 0.7434514035499256\n",
      "train f1 score for dataset tripadvisor_restaurants_ukraine : 0.7636578795962133\n",
      "train f1 score for translated==True : 0.7775802326636709\n",
      "train f1 score for translated==False : 0.8115302420356841\n",
      "val f1 score for dataset rozetka : 0.76303027209148\n",
      "val f1 score for dataset tripadvisor_hotels_ukraine : 0.6753409233078944\n",
      "val f1 score for dataset tripadvisor_restaurants_ukraine : 0.6987290130236937\n",
      "val f1 score for translated==True : 0.7235896481102215\n",
      "val f1 score for translated==False : 0.7779809220985692\n",
      "------------------------------\n",
      "518/518 [==============================] - 25s 48ms/step\n",
      "65/65 [==============================] - 3s 47ms/step\n",
      "Epoch 3\n",
      "Overall train f1 : 0.7897568279014339, overall val f1: 0.7359028511087645\n",
      "Train loss : 0.5391268730163574, val loss: 0.7487335205078125\n",
      "train f1 score for dataset rozetka : 0.8072693163001272\n",
      "train f1 score for dataset tripadvisor_hotels_ukraine : 0.7517710532488857\n",
      "train f1 score for dataset tripadvisor_restaurants_ukraine : 0.7697512945237721\n",
      "train f1 score for translated==True : 0.7837191280813741\n",
      "train f1 score for translated==False : 0.8155459470205259\n",
      "val f1 score for dataset rozetka : 0.7619071928122927\n",
      "val f1 score for dataset tripadvisor_hotels_ukraine : 0.686350556737145\n",
      "val f1 score for dataset tripadvisor_restaurants_ukraine : 0.7033317642136095\n",
      "val f1 score for translated==True : 0.72614038354124\n",
      "val f1 score for translated==False : 0.7775834658187599\n",
      "------------------------------\n",
      "518/518 [==============================] - 25s 49ms/step\n",
      "65/65 [==============================] - 3s 50ms/step\n",
      "Epoch 4\n",
      "Overall train f1 : 0.7908391851019377, overall val f1: 0.7260521949011919\n",
      "Train loss : 0.5006258487701416, val loss: 0.7734577059745789\n",
      "train f1 score for dataset rozetka : 0.8067237347133464\n",
      "train f1 score for dataset tripadvisor_hotels_ukraine : 0.7555555555555555\n",
      "train f1 score for dataset tripadvisor_restaurants_ukraine : 0.7730399079449761\n",
      "train f1 score for translated==True : 0.7849827445377096\n",
      "train f1 score for translated==False : 0.8158540827990658\n",
      "val f1 score for dataset rozetka : 0.7510592679565062\n",
      "val f1 score for dataset tripadvisor_hotels_ukraine : 0.6724634054797948\n",
      "val f1 score for dataset tripadvisor_restaurants_ukraine : 0.6972121972906533\n",
      "val f1 score for translated==True : 0.7165704710482219\n",
      "val f1 score for translated==False : 0.7665341812400635\n",
      "------------------------------\n",
      "518/518 [==============================] - 25s 49ms/step\n",
      "65/65 [==============================] - 3s 48ms/step\n",
      "Epoch 5\n",
      "Overall train f1 : 0.798492996734072, overall val f1: 0.7190526474581385\n",
      "Train loss : 0.4708569645881653, val loss: 0.7988793849945068\n",
      "train f1 score for dataset rozetka : 0.8165282505974278\n",
      "train f1 score for dataset tripadvisor_hotels_ukraine : 0.7555086402377041\n",
      "train f1 score for dataset tripadvisor_restaurants_ukraine : 0.779505988806946\n",
      "train f1 score for translated==True : 0.7924062003309139\n",
      "train f1 score for translated==False : 0.8244918244620049\n",
      "val f1 score for dataset rozetka : 0.7480728980550309\n",
      "val f1 score for dataset tripadvisor_hotels_ukraine : 0.657700487926936\n",
      "val f1 score for dataset tripadvisor_restaurants_ukraine : 0.6852345833987133\n",
      "val f1 score for translated==True : 0.708583131632843\n",
      "val f1 score for translated==False : 0.763751987281399\n",
      "------------------------------\n",
      "Stopping early\n"
     ]
    }
   ],
   "source": [
    "dict_history, model = \\\n",
    "training_loop(model, epochs=20, batch_size=1024)"
   ]
  },
  {
   "cell_type": "code",
   "execution_count": 98,
   "id": "fc16eb41-29c6-443e-95a6-b263a76a65bc",
   "metadata": {},
   "outputs": [
    {
     "data": {
      "text/plain": [
       "{'train_f1_rozetka': [0.7759861147890896,\n",
       "  0.7919866507990696,\n",
       "  0.8022346511308853,\n",
       "  0.8072693163001272,\n",
       "  0.8067237347133464,\n",
       "  0.8165282505974278],\n",
       " 'train_f1_tripadvisor_hotels_ukraine': [0.70103995621237,\n",
       "  0.7323950269763078,\n",
       "  0.7434514035499256,\n",
       "  0.7517710532488857,\n",
       "  0.7555555555555555,\n",
       "  0.7555086402377041],\n",
       " 'train_f1_tripadvisor_restaurants_ukraine': [0.7269339400596265,\n",
       "  0.7519875516501909,\n",
       "  0.7636578795962133,\n",
       "  0.7697512945237721,\n",
       "  0.7730399079449761,\n",
       "  0.779505988806946],\n",
       " 'train_f1_translated==True': [0.7455337092378972,\n",
       "  0.767031478710506,\n",
       "  0.7775802326636709,\n",
       "  0.7837191280813741,\n",
       "  0.7849827445377096,\n",
       "  0.7924062003309139],\n",
       " 'train_f1_translated==False': [0.7838477212862184,\n",
       "  0.7998906614979375,\n",
       "  0.8115302420356841,\n",
       "  0.8155459470205259,\n",
       "  0.8158540827990658,\n",
       "  0.8244918244620049],\n",
       " 'val_f1_rozetka': [0.7681096533768952,\n",
       "  0.7691306345397928,\n",
       "  0.76303027209148,\n",
       "  0.7619071928122927,\n",
       "  0.7510592679565062,\n",
       "  0.7480728980550309],\n",
       " 'val_f1_tripadvisor_hotels_ukraine': [0.686350556737145,\n",
       "  0.6892280745652446,\n",
       "  0.6753409233078944,\n",
       "  0.686350556737145,\n",
       "  0.6724634054797948,\n",
       "  0.657700487926936],\n",
       " 'val_f1_tripadvisor_restaurants_ukraine': [0.7117004027407291,\n",
       "  0.7148909461791935,\n",
       "  0.6987290130236937,\n",
       "  0.7033317642136095,\n",
       "  0.6972121972906533,\n",
       "  0.6852345833987133],\n",
       " 'val_f1_translated==True': [0.7336064047663378,\n",
       "  0.735188977843977,\n",
       "  0.7235896481102215,\n",
       "  0.72614038354124,\n",
       "  0.7165704710482219,\n",
       "  0.708583131632843],\n",
       " 'val_f1_translated==False': [0.7777424483306836,\n",
       "  0.7808426073131955,\n",
       "  0.7779809220985692,\n",
       "  0.7775834658187599,\n",
       "  0.7665341812400635,\n",
       "  0.763751987281399],\n",
       " 'train_f1': [0.7528020606270883,\n",
       "  0.7732650228916662,\n",
       "  0.7840207118667079,\n",
       "  0.7897568279014339,\n",
       "  0.7908391851019377,\n",
       "  0.798492996734072],\n",
       " 'val_f1': [0.7419821994267611,\n",
       "  0.7438527681399909,\n",
       "  0.7339116005430684,\n",
       "  0.7359028511087645,\n",
       "  0.7260521949011919,\n",
       "  0.7190526474581385],\n",
       " 'train_loss': [0.7545626163482666,\n",
       "  0.6343426704406738,\n",
       "  0.5824945569038391,\n",
       "  0.5391268730163574,\n",
       "  0.5006258487701416,\n",
       "  0.4708569645881653],\n",
       " 'val_loss': [0.6560627222061157,\n",
       "  0.648032009601593,\n",
       "  0.6860221028327942,\n",
       "  0.7487335205078125,\n",
       "  0.7734577059745789,\n",
       "  0.7988793849945068]}"
      ]
     },
     "execution_count": 98,
     "metadata": {},
     "output_type": "execute_result"
    }
   ],
   "source": [
    "dict_history"
   ]
  },
  {
   "cell_type": "markdown",
   "id": "b8d77413-4c00-4295-b7db-fe06dd7b23b5",
   "metadata": {},
   "source": [
    "# Show charts"
   ]
  },
  {
   "cell_type": "code",
   "execution_count": 99,
   "id": "b7f8ef02-623e-4ebb-8e1d-8da77c3ed9bc",
   "metadata": {},
   "outputs": [],
   "source": [
    "import seaborn as sns\n",
    "import matplotlib.pyplot as plt"
   ]
  },
  {
   "cell_type": "code",
   "execution_count": 100,
   "id": "521cf7cf-e1b2-42ce-8e95-5a2e61440247",
   "metadata": {},
   "outputs": [],
   "source": [
    "def plot_history(dict_history, columns):\n",
    "    plt.figure(figsize=(12,8))\n",
    "    for i in columns:\n",
    "        to_plot = dict_history[i]\n",
    "        plt.plot(range(len(to_plot)), to_plot, 'o-')\n",
    "    plt.xticks(range(len(to_plot)), range(len(to_plot)))\n",
    "    plt.xlabel('Epochs')\n",
    "    plt.legend(columns)"
   ]
  },
  {
   "cell_type": "code",
   "execution_count": 101,
   "id": "7c3ca35a-2166-4552-bc23-67c6bfe314d7",
   "metadata": {},
   "outputs": [
    {
     "data": {
      "image/png": "[encoded data removed]",
      "text/plain": [
       "<Figure size 1200x800 with 1 Axes>"
      ]
     },
     "metadata": {},
     "output_type": "display_data"
    }
   ],
   "source": [
    "plot_history(dict_history, ['val_loss', 'train_loss'])"
   ]
  },
  {
   "cell_type": "code",
   "execution_count": 102,
   "id": "09978e6c-1975-4fe9-b6ed-064e00c1809e",
   "metadata": {},
   "outputs": [
    {
     "data": {
      "image/png": "[encoded data removed]",
      "text/plain": [
       "<Figure size 1200x800 with 1 Axes>"
      ]
     },
     "metadata": {},
     "output_type": "display_data"
    }
   ],
   "source": [
    "plot_history(dict_history, ['val_f1', 'train_f1'])"
   ]
  },
  {
   "cell_type": "markdown",
   "id": "9763d7cb-3c09-425e-984f-7675f7fae0e9",
   "metadata": {},
   "source": [
    "# Evaluate model"
   ]
  },
  {
   "cell_type": "code",
   "execution_count": 103,
   "id": "4bb7e54e-5868-4379-8456-c3c5ef648c33",
   "metadata": {},
   "outputs": [
    {
     "name": "stdout",
     "output_type": "stream",
     "text": [
      "65/65 [==============================] - 6s 46ms/step\n"
     ]
    }
   ],
   "source": [
    "test_predictions = np.argmax(model.predict(test_x, batch_size=1024), axis=-1)"
   ]
  },
  {
   "cell_type": "code",
   "execution_count": 104,
   "id": "bc061fbf-e0a9-40be-8cb7-e356aef090d5",
   "metadata": {},
   "outputs": [
    {
     "name": "stdout",
     "output_type": "stream",
     "text": [
      "Overall test f1-score : 0.7430648786448041\n"
     ]
    }
   ],
   "source": [
    "test_f1 = f1_score(y_true=test_y, y_pred=test_predictions,\n",
    "                         average='micro')\n",
    "print(f'Overall test f1-score : {test_f1}')"
   ]
  },
  {
   "cell_type": "code",
   "execution_count": 105,
   "id": "24a4badc-8c22-4bdc-8fb2-f7f68dbb56b7",
   "metadata": {},
   "outputs": [
    {
     "name": "stdout",
     "output_type": "stream",
     "text": [
      "test f1 score for dataset rozetka : 0.7689068123229281\n",
      "test f1 score for dataset tripadvisor_hotels_ukraine : 0.6907680760570428\n",
      "test f1 score for dataset tripadvisor_restaurants_ukraine : 0.7119769874476987\n",
      "test f1 score for translated==True : 0.7346661201371292\n",
      "test f1 score for translated==False : 0.7787813960858886\n"
     ]
    }
   ],
   "source": [
    "test_results = evaluate_on_datasets(y_true=test_y, y_pred=test_predictions,split='test')\n",
    "                     "
   ]
  },
  {
   "cell_type": "markdown",
   "id": "fe8efb21-1b71-49e7-8483-c00a9c357b1f",
   "metadata": {},
   "source": [
    "# Confusion matrix"
   ]
  },
  {
   "cell_type": "code",
   "execution_count": 106,
   "id": "5ea3f06f-0b96-4d3c-97bf-aad82784f2ac",
   "metadata": {},
   "outputs": [],
   "source": [
    "from sklearn.metrics import confusion_matrix"
   ]
  },
  {
   "cell_type": "code",
   "execution_count": 107,
   "id": "ab600e88-5b7f-43e8-8bae-52d9abe58ca3",
   "metadata": {},
   "outputs": [
    {
     "data": {
      "text/plain": [
       "array([0, 1, 2, 3, 4])"
      ]
     },
     "execution_count": 107,
     "metadata": {},
     "output_type": "execute_result"
    }
   ],
   "source": [
    "np.unique(test_y)"
   ]
  },
  {
   "cell_type": "code",
   "execution_count": 108,
   "id": "701c2bfe-a20e-4880-a580-01dbf0f8f92c",
   "metadata": {},
   "outputs": [
    {
     "data": {
      "image/png": "[encoded data removed]",
      "text/plain": [
       "<Figure size 1400x1000 with 2 Axes>"
      ]
     },
     "metadata": {},
     "output_type": "display_data"
    }
   ],
   "source": [
    "matrix = confusion_matrix(test_y, test_predictions)\n",
    "matrix_scaled = matrix.astype('float') / matrix.sum(axis=1)[:, np.newaxis]\n",
    "plt.figure(figsize=(14,10))\n",
    "sns.heatmap(matrix_scaled, annot=True, cmap=plt.cm.Blues, xticklabels=np.unique(test_y),\\\n",
    "            yticklabels=np.unique(test_y))\n",
    "plt.title('Confusion matrix')\n",
    "plt.xlabel('Predicted label')\n",
    "plt.ylabel('True label')\n",
    "\n",
    "plt.show()"
   ]
  },
  {
   "cell_type": "markdown",
   "id": "5447ad8a-3695-499c-9fe3-6d6d9cc2834c",
   "metadata": {},
   "source": [
    "# Save history results"
   ]
  },
  {
   "cell_type": "code",
   "execution_count": 109,
   "id": "b1d1cb15-8dae-414b-80c9-cabbcfd4168d",
   "metadata": {},
   "outputs": [],
   "source": [
    "history = pd.DataFrame(dict_history)\n",
    "for k,v in test_results.items():\n",
    "    history[k] = v"
   ]
  },
  {
   "cell_type": "code",
   "execution_count": 110,
   "id": "b2fc4c15-4277-4913-8080-91cddcc4d734",
   "metadata": {},
   "outputs": [],
   "source": [
    "history['model'] = model_name"
   ]
  },
  {
   "cell_type": "code",
   "execution_count": 111,
   "id": "344fd96f-8e81-47b6-8332-0bb3892edfa4",
   "metadata": {},
   "outputs": [],
   "source": [
    "history.to_csv(\"/home/user/jupyter_notebooks/Ukranian-SA/notebooks/training/training_results.csv\", mode='a', header=None, index=None)"
   ]
  },
  {
   "cell_type": "code",
   "execution_count": null,
   "id": "fa349138-0297-447d-bad4-30b30ed0b94b",
   "metadata": {},
   "outputs": [],
   "source": []
  },
  {
   "cell_type": "code",
   "execution_count": null,
   "id": "cf61010a-6dee-42b8-93a1-f9a02ebb4d07",
   "metadata": {},
   "outputs": [],
   "source": []
  }
 ],
 "metadata": {
  "kernelspec": {
   "display_name": "tensorflow_cuda12",
   "language": "python",
   "name": "tensorflow_cuda12"
  },
  "language_info": {
   "codemirror_mode": {
    "name": "ipython",
    "version": 3
   },
   "file_extension": ".py",
   "mimetype": "text/x-python",
   "name": "python",
   "nbconvert_exporter": "python",
   "pygments_lexer": "ipython3",
   "version": "3.8.10"
  }
 },
 "nbformat": 4,
 "nbformat_minor": 5
}
