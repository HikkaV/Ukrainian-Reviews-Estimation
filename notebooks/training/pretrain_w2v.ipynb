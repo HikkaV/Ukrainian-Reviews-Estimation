{
 "cells": [
  {
   "cell_type": "code",
   "execution_count": 1,
   "id": "d8fc6db6-772f-4235-b504-ee8fd2352099",
   "metadata": {
    "tags": []
   },
   "outputs": [],
   "source": [
    "from tokenizers import Tokenizer, models, pre_tokenizers, trainers, Regex\n",
    "import tokenizers\n",
    "import pandas as pd"
   ]
  },
  {
   "cell_type": "code",
   "execution_count": 2,
   "id": "8a9cc81e-79ce-4063-bb69-8e88477cd1a1",
   "metadata": {
    "tags": []
   },
   "outputs": [],
   "source": [
    "df = pd.read_csv('/home/web/files_for_research_Vova/processed_data.csv',\\\n",
    "                 usecols=['review_translate',\n",
    "                                                            'dataset_name',\n",
    "                                                            'rating',\n",
    "                                                           'translated'])"
   ]
  },
  {
   "cell_type": "code",
   "execution_count": 3,
   "id": "f55c779e-5435-413b-bf49-50b75140968b",
   "metadata": {
    "tags": []
   },
   "outputs": [],
   "source": [
    "tokenizer = Tokenizer(models.BPE.from_file(vocab='/home/web/files_for_research_Vova/tokenizer_30k.json',\n",
    "            merges='/home/web/files_for_research_Vova/merges_tokenizer.txt',\n",
    "                                          end_of_word_suffix='</w>'))\n",
    "tokenizer.pre_tokenizer = pre_tokenizers.Split(Regex(r\"[\\w'-]+|[^\\w\\s'-]+\"),'removed', True)"
   ]
  },
  {
   "cell_type": "code",
   "execution_count": 4,
   "id": "b9332574-7b69-4b03-a708-14ceaf8aa128",
   "metadata": {
    "tags": []
   },
   "outputs": [],
   "source": [
    "df['review_translate'] = df['review_translate'].str.lower()"
   ]
  },
  {
   "cell_type": "code",
   "execution_count": 5,
   "id": "c4066795-1f9a-4553-8f26-e51edd493c46",
   "metadata": {
    "tags": []
   },
   "outputs": [],
   "source": [
    "df['encoded'] = tokenizer.encode_batch(df['review_translate'].values)"
   ]
  },
  {
   "cell_type": "code",
   "execution_count": 6,
   "id": "30c4b586-3d18-4685-982d-4e90a296a997",
   "metadata": {
    "tags": []
   },
   "outputs": [],
   "source": [
    "df['encoded'] = df['encoded'].apply(lambda x: x.tokens)"
   ]
  },
  {
   "cell_type": "markdown",
   "id": "5e44e9fa-f339-4a69-87c7-75a3b503af5c",
   "metadata": {},
   "source": [
    "# Make word2vec model"
   ]
  },
  {
   "cell_type": "code",
   "execution_count": 7,
   "id": "48ff1831-dee8-4430-8fa2-d4eec8259f6b",
   "metadata": {
    "tags": []
   },
   "outputs": [],
   "source": [
    "import gensim\n",
    "import time\n",
    "def save_vectors(model, name):\n",
    "    model.wv.save_word2vec_format(name, binary=True)"
   ]
  },
  {
   "cell_type": "code",
   "execution_count": 8,
   "id": "7a5cf7d3-b849-42c9-95d1-4078eeb6aea8",
   "metadata": {
    "tags": []
   },
   "outputs": [],
   "source": [
    "def train(type_model, data, path, epochs=10):\n",
    "    start = time.time()\n",
    "    model = type_model(size=300, window=10,\n",
    "                                               min_count=10, workers=30, sg=0, hs=1,\n",
    "                                               cbow_mean=1,\n",
    "                                               sample=1e-3,\n",
    "                                               alpha=0.001)\n",
    "    model.build_vocab(data, progress_per=100_000)\n",
    "    model.train(data, epochs=epochs, report_delay=1, total_examples=model.corpus_count)\n",
    "    end = time.time()\n",
    "    save_vectors(model, path)\n",
    "    print(f'It took : {(end-start)/60} minutes')"
   ]
  },
  {
   "cell_type": "code",
   "execution_count": 9,
   "id": "09bb885b-1e91-48fb-ba90-78b4b75ec986",
   "metadata": {
    "tags": []
   },
   "outputs": [
    {
     "name": "stdout",
     "output_type": "stream",
     "text": [
      "It took : 7.764649343490601 minutes\n"
     ]
    }
   ],
   "source": [
    "train(gensim.models.Word2Vec, \\\n",
    "      df['encoded'].values.tolist(), '/home/web/files_for_research_Vova/embeddings_w2v.bin')"
   ]
  },
  {
   "cell_type": "code",
   "execution_count": 10,
   "id": "03a8ecaa-de0c-4dd9-bc17-36f3774f846b",
   "metadata": {},
   "outputs": [],
   "source": [
    "embeddings = gensim.models.KeyedVectors.load_word2vec_format('/home/web/files_for_research_Vova/embeddings_w2v.bin', binary=True)"
   ]
  },
  {
   "cell_type": "code",
   "execution_count": 11,
   "id": "caa29ef6-06c6-4034-bb65-0153b19008a2",
   "metadata": {
    "tags": []
   },
   "outputs": [
    {
     "name": "stderr",
     "output_type": "stream",
     "text": [
      "/tmp/ipykernel_2956820/1721352991.py:1: DeprecationWarning: Call to deprecated `wv` (Attribute will be removed in 4.0.0, use self instead).\n",
      "  len(embeddings.wv.vocab)\n"
     ]
    },
    {
     "data": {
      "text/plain": [
       "29602"
      ]
     },
     "execution_count": 11,
     "metadata": {},
     "output_type": "execute_result"
    }
   ],
   "source": [
    "len(embeddings.wv.vocab)"
   ]
  },
  {
   "cell_type": "code",
   "execution_count": 12,
   "id": "e723db31-f6ae-4d2c-a8a7-d779dffa73e3",
   "metadata": {},
   "outputs": [
    {
     "data": {
      "text/plain": [
       "['якісна</w>',\n",
       " 'пласт',\n",
       " 'маса</w>',\n",
       " ',</w>',\n",
       " 'пере',\n",
       " 'воро',\n",
       " 'т</w>',\n",
       " '360</w>',\n",
       " 'граду',\n",
       " 'св',\n",
       " 'в</w>']"
      ]
     },
     "execution_count": 12,
     "metadata": {},
     "output_type": "execute_result"
    }
   ],
   "source": [
    "df['encoded'].values[0]"
   ]
  },
  {
   "cell_type": "code",
   "execution_count": null,
   "id": "d6d471e9-702e-4be2-9e95-36863f89b2d4",
   "metadata": {},
   "outputs": [],
   "source": []
  }
 ],
 "metadata": {
  "kernelspec": {
   "display_name": "Python 3 (ipykernel)",
   "language": "python",
   "name": "python3"
  },
  "language_info": {
   "codemirror_mode": {
    "name": "ipython",
    "version": 3
   },
   "file_extension": ".py",
   "mimetype": "text/x-python",
   "name": "python",
   "nbconvert_exporter": "python",
   "pygments_lexer": "ipython3",
   "version": "3.8.10"
  }
 },
 "nbformat": 4,
 "nbformat_minor": 5
}
