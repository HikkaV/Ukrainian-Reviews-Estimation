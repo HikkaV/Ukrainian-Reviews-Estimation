{
 "cells": [
  {
   "cell_type": "code",
   "execution_count": 1,
   "id": "94761116-1530-448d-a1f6-593d90bec639",
   "metadata": {},
   "outputs": [
    {
     "name": "stdout",
     "output_type": "stream",
     "text": [
      "Collecting tokenizers\n",
      "  Downloading tokenizers-0.13.3-cp38-cp38-manylinux_2_17_x86_64.manylinux2014_x86_64.whl (7.8 MB)\n",
      "\u001b[2K     \u001b[90m━━━━━━━━━━━━━━━━━━━━━━━━━━━━━━━━━━━━━━━━\u001b[0m \u001b[32m7.8/7.8 MB\u001b[0m \u001b[31m11.0 MB/s\u001b[0m eta \u001b[36m0:00:00\u001b[0m00:01\u001b[0m00:01\u001b[0m\n",
      "\u001b[?25hInstalling collected packages: tokenizers\n",
      "Successfully installed tokenizers-0.13.3\n",
      "\u001b[33mWARNING: Running pip as the 'root' user can result in broken permissions and conflicting behaviour with the system package manager. It is recommended to use a virtual environment instead: https://pip.pypa.io/warnings/venv\u001b[0m\u001b[33m\n",
      "\u001b[0m"
     ]
    },
    {
     "name": "stderr",
     "output_type": "stream",
     "text": [
      "2023-05-08 20:03:36.979090: I tensorflow/core/platform/cpu_feature_guard.cc:194] This TensorFlow binary is optimized with oneAPI Deep Neural Network Library (oneDNN) to use the following CPU instructions in performance-critical operations:  SSE3 SSE4.1 SSE4.2 AVX\n",
      "To enable them in other operations, rebuild TensorFlow with the appropriate compiler flags.\n"
     ]
    }
   ],
   "source": [
    "!pip install tokenizers\n",
    "import tensorflow as tf\n",
    "from tokenizers import Tokenizer, models, pre_tokenizers, trainers, Regex\n",
    "import tokenizers\n",
    "import pandas as pd"
   ]
  },
  {
   "cell_type": "code",
   "execution_count": 2,
   "id": "fada8fbb-9dc2-4e9d-935d-2cb0d6684738",
   "metadata": {},
   "outputs": [],
   "source": [
    "model_name = 'deep_lstm_attention_w2v_class_weights'"
   ]
  },
  {
   "cell_type": "markdown",
   "id": "aa46fb49-08a8-4809-b697-680813299d47",
   "metadata": {},
   "source": [
    "# Load data"
   ]
  },
  {
   "cell_type": "code",
   "execution_count": 3,
   "id": "d01ad050-f023-4253-bc33-72c76bce3944",
   "metadata": {},
   "outputs": [],
   "source": [
    "df = pd.read_csv('/home/user/files_for_research_Vova/processed_data.csv',\\\n",
    "                 usecols=['review_translate',\n",
    "                                                            'dataset_name',\n",
    "                                                            'rating',\n",
    "                                                           'translated'])"
   ]
  },
  {
   "cell_type": "code",
   "execution_count": 4,
   "id": "99ee8e3a-2281-4ec1-8107-49e3ba47d2a9",
   "metadata": {},
   "outputs": [
    {
     "data": {
      "text/html": [
       "<div>\n",
       "<style scoped>\n",
       "    .dataframe tbody tr th:only-of-type {\n",
       "        vertical-align: middle;\n",
       "    }\n",
       "\n",
       "    .dataframe tbody tr th {\n",
       "        vertical-align: top;\n",
       "    }\n",
       "\n",
       "    .dataframe thead th {\n",
       "        text-align: right;\n",
       "    }\n",
       "</style>\n",
       "<table border=\"1\" class=\"dataframe\">\n",
       "  <thead>\n",
       "    <tr style=\"text-align: right;\">\n",
       "      <th></th>\n",
       "      <th>review_translate</th>\n",
       "      <th>rating</th>\n",
       "      <th>dataset_name</th>\n",
       "      <th>translated</th>\n",
       "    </tr>\n",
       "  </thead>\n",
       "  <tbody>\n",
       "    <tr>\n",
       "      <th>0</th>\n",
       "      <td>Якісна пластмаса , переворот 360 градусвв</td>\n",
       "      <td>5.0</td>\n",
       "      <td>rozetka</td>\n",
       "      <td>False</td>\n",
       "    </tr>\n",
       "    <tr>\n",
       "      <th>1</th>\n",
       "      <td>За такі гроші це самий топ</td>\n",
       "      <td>5.0</td>\n",
       "      <td>rozetka</td>\n",
       "      <td>False</td>\n",
       "    </tr>\n",
       "    <tr>\n",
       "      <th>2</th>\n",
       "      <td>За такі гроші - просто супер ! Рекомендую .</td>\n",
       "      <td>5.0</td>\n",
       "      <td>rozetka</td>\n",
       "      <td>False</td>\n",
       "    </tr>\n",
       "    <tr>\n",
       "      <th>3</th>\n",
       "      <td>Виконує свою роботу не погано . але що ви хоті...</td>\n",
       "      <td>4.0</td>\n",
       "      <td>rozetka</td>\n",
       "      <td>False</td>\n",
       "    </tr>\n",
       "    <tr>\n",
       "      <th>4</th>\n",
       "      <td>Купляв на стару сістему як основний під віндов...</td>\n",
       "      <td>4.0</td>\n",
       "      <td>rozetka</td>\n",
       "      <td>False</td>\n",
       "    </tr>\n",
       "  </tbody>\n",
       "</table>\n",
       "</div>"
      ],
      "text/plain": [
       "                                    review_translate  rating dataset_name  \\\n",
       "0          Якісна пластмаса , переворот 360 градусвв     5.0      rozetka   \n",
       "1                         За такі гроші це самий топ     5.0      rozetka   \n",
       "2        За такі гроші - просто супер ! Рекомендую .     5.0      rozetka   \n",
       "3  Виконує свою роботу не погано . але що ви хоті...     4.0      rozetka   \n",
       "4  Купляв на стару сістему як основний під віндов...     4.0      rozetka   \n",
       "\n",
       "   translated  \n",
       "0       False  \n",
       "1       False  \n",
       "2       False  \n",
       "3       False  \n",
       "4       False  "
      ]
     },
     "execution_count": 4,
     "metadata": {},
     "output_type": "execute_result"
    }
   ],
   "source": [
    "df.head()"
   ]
  },
  {
   "cell_type": "code",
   "execution_count": 5,
   "id": "870b0de2-18ef-42ce-9bd5-1ff68b8a1776",
   "metadata": {},
   "outputs": [],
   "source": [
    "subsets = pd.read_csv('/home/user/files_for_research_Vova/train_val_test_indices.csv')"
   ]
  },
  {
   "cell_type": "code",
   "execution_count": 6,
   "id": "778fb1c0-5396-480b-8ce5-e728d06fc3d8",
   "metadata": {},
   "outputs": [
    {
     "data": {
      "text/html": [
       "<div>\n",
       "<style scoped>\n",
       "    .dataframe tbody tr th:only-of-type {\n",
       "        vertical-align: middle;\n",
       "    }\n",
       "\n",
       "    .dataframe tbody tr th {\n",
       "        vertical-align: top;\n",
       "    }\n",
       "\n",
       "    .dataframe thead th {\n",
       "        text-align: right;\n",
       "    }\n",
       "</style>\n",
       "<table border=\"1\" class=\"dataframe\">\n",
       "  <thead>\n",
       "    <tr style=\"text-align: right;\">\n",
       "      <th></th>\n",
       "      <th>index</th>\n",
       "      <th>split</th>\n",
       "    </tr>\n",
       "  </thead>\n",
       "  <tbody>\n",
       "    <tr>\n",
       "      <th>0</th>\n",
       "      <td>0</td>\n",
       "      <td>train</td>\n",
       "    </tr>\n",
       "    <tr>\n",
       "      <th>1</th>\n",
       "      <td>1</td>\n",
       "      <td>test</td>\n",
       "    </tr>\n",
       "    <tr>\n",
       "      <th>2</th>\n",
       "      <td>2</td>\n",
       "      <td>train</td>\n",
       "    </tr>\n",
       "    <tr>\n",
       "      <th>3</th>\n",
       "      <td>3</td>\n",
       "      <td>train</td>\n",
       "    </tr>\n",
       "    <tr>\n",
       "      <th>4</th>\n",
       "      <td>4</td>\n",
       "      <td>train</td>\n",
       "    </tr>\n",
       "  </tbody>\n",
       "</table>\n",
       "</div>"
      ],
      "text/plain": [
       "   index  split\n",
       "0      0  train\n",
       "1      1   test\n",
       "2      2  train\n",
       "3      3  train\n",
       "4      4  train"
      ]
     },
     "execution_count": 6,
     "metadata": {},
     "output_type": "execute_result"
    }
   ],
   "source": [
    "subsets.head()"
   ]
  },
  {
   "cell_type": "code",
   "execution_count": 7,
   "id": "bb145e0a-2bf5-4004-b334-15433414769a",
   "metadata": {},
   "outputs": [],
   "source": [
    "subsets = subsets.merge(df[['dataset_name', 'translated']], left_on='index', right_index=True)"
   ]
  },
  {
   "cell_type": "markdown",
   "id": "30e15a6e-3ce1-4488-b779-c00e23570fd9",
   "metadata": {},
   "source": [
    "# Filter data"
   ]
  },
  {
   "cell_type": "code",
   "execution_count": 8,
   "id": "719c38c1-8226-4995-90a7-427907e02867",
   "metadata": {
    "tags": []
   },
   "outputs": [],
   "source": [
    "bad_indices = pd.read_csv('/home/user/files_for_research_Vova/files_to_check.csv')"
   ]
  },
  {
   "cell_type": "code",
   "execution_count": 9,
   "id": "1a551a47-2420-4cf8-a611-c49f2a74deb9",
   "metadata": {
    "tags": []
   },
   "outputs": [],
   "source": [
    "subsets = subsets[~subsets.index.isin(bad_indices['id'].values)]"
   ]
  },
  {
   "cell_type": "code",
   "execution_count": 10,
   "id": "44c17bd9-1620-44ff-b600-b16d1841b89b",
   "metadata": {
    "tags": []
   },
   "outputs": [],
   "source": [
    "df = df[~df.index.isin(bad_indices['id'].values)]"
   ]
  },
  {
   "cell_type": "code",
   "execution_count": 11,
   "id": "b451982a-aabd-4a43-8cfd-72b822ff9bb6",
   "metadata": {
    "tags": []
   },
   "outputs": [],
   "source": [
    "df, subsets = df.reset_index().drop(columns='index'), subsets.reset_index().drop(columns='index')"
   ]
  },
  {
   "cell_type": "markdown",
   "id": "b52abc9b-80d4-46e5-b4f8-504002ad5189",
   "metadata": {},
   "source": [
    "# Sentiment"
   ]
  },
  {
   "cell_type": "code",
   "execution_count": 12,
   "id": "ace4df60-30a0-4094-8027-a001e1477426",
   "metadata": {},
   "outputs": [],
   "source": [
    "df['rating'] = df['rating'].astype(int).map({1:'negative', 2 : 'negative', \n",
    "                                          3 : 'neutral', 4 : 'positive',\n",
    "                                          5 : 'positive'})"
   ]
  },
  {
   "cell_type": "markdown",
   "id": "f35025fc-9c2c-490e-9231-10f4b38e230b",
   "metadata": {},
   "source": [
    "# Load tokenizer"
   ]
  },
  {
   "cell_type": "code",
   "execution_count": 13,
   "id": "dc7ca142-1e37-49c2-b8b8-2d5f74ee98c8",
   "metadata": {},
   "outputs": [],
   "source": [
    "tokenizer = Tokenizer.from_file(\"/home/user/files_for_research_Vova/tokenizer_30k.json\")\n"
   ]
  },
  {
   "cell_type": "markdown",
   "id": "a86c13af-5e8f-49e4-b337-7b3a70163c1c",
   "metadata": {},
   "source": [
    "# Encode text"
   ]
  },
  {
   "cell_type": "code",
   "execution_count": 14,
   "id": "ef69c9c8-b050-4904-8e93-5e1b89361f8d",
   "metadata": {},
   "outputs": [],
   "source": [
    "import seaborn as sns\n",
    "import numpy as np"
   ]
  },
  {
   "cell_type": "code",
   "execution_count": 15,
   "id": "e2e913ba-749b-4161-a2db-0cb6af2b025c",
   "metadata": {},
   "outputs": [],
   "source": [
    "sns.set()"
   ]
  },
  {
   "cell_type": "code",
   "execution_count": 16,
   "id": "0dda1c9a-9961-4097-bd69-3e5bd58d6789",
   "metadata": {},
   "outputs": [],
   "source": [
    "df['review_translate'] = df['review_translate'].str.lower()"
   ]
  },
  {
   "cell_type": "code",
   "execution_count": 17,
   "id": "3151fe97-eded-408c-be0d-df2b49051e7c",
   "metadata": {},
   "outputs": [],
   "source": [
    "df['encoded'] = tokenizer.encode_batch(df['review_translate'].values)"
   ]
  },
  {
   "cell_type": "code",
   "execution_count": 18,
   "id": "8c01d676-5e85-4b7d-b7c0-5d99b8ba1d44",
   "metadata": {},
   "outputs": [],
   "source": [
    "df['encoded'] = df['encoded'].apply(lambda x: x.ids)"
   ]
  },
  {
   "cell_type": "code",
   "execution_count": 19,
   "id": "47ddda71-f140-49f7-89c8-fea94b8bcdfd",
   "metadata": {},
   "outputs": [
    {
     "name": "stderr",
     "output_type": "stream",
     "text": [
      "/tmp/ipykernel_1/3749403729.py:1: UserWarning: \n",
      "\n",
      "`distplot` is a deprecated function and will be removed in seaborn v0.14.0.\n",
      "\n",
      "Please adapt your code to use either `displot` (a figure-level function with\n",
      "similar flexibility) or `histplot` (an axes-level function for histograms).\n",
      "\n",
      "For a guide to updating your code to use the new functions, please see\n",
      "https://gist.github.com/mwaskom/de44147ed2974457ad6372750bbe5751\n",
      "\n",
      "  sns.distplot(np.log10(df['encoded'].apply(len)))\n"
     ]
    },
    {
     "data": {
      "text/plain": [
       "<AxesSubplot: xlabel='encoded', ylabel='Density'>"
      ]
     },
     "execution_count": 19,
     "metadata": {},
     "output_type": "execute_result"
    },
    {
     "data": {
      "image/png": "[encoded data removed]",
      "text/plain": [
       "<Figure size 640x480 with 1 Axes>"
      ]
     },
     "metadata": {},
     "output_type": "display_data"
    }
   ],
   "source": [
    "sns.distplot(np.log10(df['encoded'].apply(len)))"
   ]
  },
  {
   "cell_type": "code",
   "execution_count": 20,
   "id": "e81a0c0b-0dd0-4437-872e-0c13fc041b99",
   "metadata": {},
   "outputs": [
    {
     "data": {
      "text/plain": [
       "324.0"
      ]
     },
     "execution_count": 20,
     "metadata": {},
     "output_type": "execute_result"
    }
   ],
   "source": [
    "np.percentile(df['encoded'].apply(len), 99)"
   ]
  },
  {
   "cell_type": "code",
   "execution_count": 21,
   "id": "c680a61a-cee2-4fbd-9a97-17a9c7ec74a9",
   "metadata": {},
   "outputs": [],
   "source": [
    "encoded_tokens = df['encoded'].values"
   ]
  },
  {
   "cell_type": "code",
   "execution_count": 22,
   "id": "b3d6e285-87e6-4ce1-be8a-cb614270a8a4",
   "metadata": {},
   "outputs": [],
   "source": [
    "from itertools import chain"
   ]
  },
  {
   "cell_type": "code",
   "execution_count": 23,
   "id": "7f8c9fac-7ed8-45c3-8114-763b1ed0c138",
   "metadata": {},
   "outputs": [],
   "source": [
    "padded_tokens = tf.keras.preprocessing.sequence\\\n",
    ".pad_sequences(encoded_tokens, maxlen=300, padding=\"post\")\n"
   ]
  },
  {
   "cell_type": "code",
   "execution_count": 24,
   "id": "8137187b-fd7f-4199-883e-7ff778a94c0a",
   "metadata": {},
   "outputs": [
    {
     "data": {
      "text/plain": [
       "(655470, 300)"
      ]
     },
     "execution_count": 24,
     "metadata": {},
     "output_type": "execute_result"
    }
   ],
   "source": [
    "padded_tokens.shape"
   ]
  },
  {
   "cell_type": "markdown",
   "id": "a1c7967c-c7b1-418a-8861-dbb9877e1abe",
   "metadata": {},
   "source": [
    "# Get embeddings"
   ]
  },
  {
   "cell_type": "code",
   "execution_count": 25,
   "id": "8b9cb626-f2d2-4f92-9da9-a414d1c51441",
   "metadata": {
    "tags": []
   },
   "outputs": [
    {
     "name": "stdout",
     "output_type": "stream",
     "text": [
      "huggingface/tokenizers: The current process just got forked, after parallelism has already been used. Disabling parallelism to avoid deadlocks...\n",
      "To disable this warning, you can either:\n",
      "\t- Avoid using `tokenizers` before the fork if possible\n",
      "\t- Explicitly set the environment variable TOKENIZERS_PARALLELISM=(true | false)\n",
      "Collecting gensim\n",
      "  Downloading gensim-4.3.1-cp38-cp38-manylinux_2_17_x86_64.manylinux2014_x86_64.whl (26.5 MB)\n",
      "\u001b[2K     \u001b[90m━━━━━━━━━━━━━━━━━━━━━━━━━━━━━━━━━━━━━━━━\u001b[0m \u001b[32m26.5/26.5 MB\u001b[0m \u001b[31m9.7 MB/s\u001b[0m eta \u001b[36m0:00:00\u001b[0m:00:01\u001b[0m00:01\u001b[0m\n",
      "\u001b[?25hCollecting smart-open>=1.8.1\n",
      "  Downloading smart_open-6.3.0-py3-none-any.whl (56 kB)\n",
      "\u001b[2K     \u001b[90m━━━━━━━━━━━━━━━━━━━━━━━━━━━━━━━━━━━━━━━━\u001b[0m \u001b[32m56.8/56.8 kB\u001b[0m \u001b[31m8.2 MB/s\u001b[0m eta \u001b[36m0:00:00\u001b[0m\n",
      "\u001b[?25hRequirement already satisfied: numpy>=1.18.5 in /usr/local/lib/python3.8/dist-packages (from gensim) (1.22.2)\n",
      "Collecting scipy>=1.7.0\n",
      "  Downloading scipy-1.10.1-cp38-cp38-manylinux_2_17_x86_64.manylinux2014_x86_64.whl (34.5 MB)\n",
      "\u001b[2K     \u001b[90m━━━━━━━━━━━━━━━━━━━━━━━━━━━━━━━━━━━━━━━━\u001b[0m \u001b[32m34.5/34.5 MB\u001b[0m \u001b[31m9.5 MB/s\u001b[0m eta \u001b[36m0:00:00\u001b[0m:00:01\u001b[0m00:01\u001b[0m\n",
      "\u001b[?25hInstalling collected packages: smart-open, scipy, gensim\n",
      "  Attempting uninstall: scipy\n",
      "    Found existing installation: scipy 1.6.3\n",
      "    Uninstalling scipy-1.6.3:\n",
      "      Successfully uninstalled scipy-1.6.3\n",
      "Successfully installed gensim-4.3.1 scipy-1.10.1 smart-open-6.3.0\n",
      "\u001b[33mWARNING: Running pip as the 'root' user can result in broken permissions and conflicting behaviour with the system package manager. It is recommended to use a virtual environment instead: https://pip.pypa.io/warnings/venv\u001b[0m\u001b[33m\n",
      "\u001b[0m"
     ]
    }
   ],
   "source": [
    "!pip install gensim"
   ]
  },
  {
   "cell_type": "code",
   "execution_count": 26,
   "id": "0fd88a5a-f52d-4723-8580-33979d9e51e0",
   "metadata": {
    "tags": []
   },
   "outputs": [],
   "source": [
    "import gensim"
   ]
  },
  {
   "cell_type": "code",
   "execution_count": 27,
   "id": "4c013631-8fa6-4cbd-8969-fd135ab7a0d6",
   "metadata": {
    "tags": []
   },
   "outputs": [],
   "source": [
    "def load_w2vec(path, vocab, embed_dim=300, glove_backup={}):\n",
    "    vectors = gensim.models.KeyedVectors.load_word2vec_format(path, binary=True)\n",
    "    emb_matrix = np.zeros(shape = (len(vocab) + 1, embed_dim))\n",
    "    missed = 0\n",
    "    for word, idx in vocab.items():\n",
    "        if idx!=0:\n",
    "            try:\n",
    "                emb_matrix[idx,:] = vectors[word]\n",
    "            except KeyError:\n",
    "                if glove_backup:\n",
    "                    try:\n",
    "                        emb_matrix[idx,:] = glove_backup[word]\n",
    "                    except:\n",
    "                        missed+=1\n",
    "                else:\n",
    "                    missed+=1\n",
    "    print(f'Missed words : {missed}')\n",
    "    return emb_matrix, vectors"
   ]
  },
  {
   "cell_type": "code",
   "execution_count": 28,
   "id": "89e196ea-1888-415d-b4c7-3e8ffc0b7ed4",
   "metadata": {
    "tags": []
   },
   "outputs": [
    {
     "name": "stdout",
     "output_type": "stream",
     "text": [
      "Missed words : 312\n"
     ]
    }
   ],
   "source": [
    "emb_matrix, vectors = load_w2vec('/home/user/files_for_research_Vova/embeddings_w2v.bin',\n",
    "                                tokenizer.get_vocab())"
   ]
  },
  {
   "cell_type": "markdown",
   "id": "5bc9a5b3-3794-4ab8-a16d-fa572ac9d2f6",
   "metadata": {},
   "source": [
    "# Get labels and split data"
   ]
  },
  {
   "cell_type": "code",
   "execution_count": 29,
   "id": "fbdb3b33-cbb6-4024-b683-8819ad6d7b3f",
   "metadata": {},
   "outputs": [],
   "source": [
    "mapping = dict([(i,c) for c,i in enumerate(df['rating'].unique())])"
   ]
  },
  {
   "cell_type": "code",
   "execution_count": 30,
   "id": "0d9dcd18-b69c-4b71-8f83-85f750be1daa",
   "metadata": {},
   "outputs": [],
   "source": [
    "y = df['rating'].map(mapping).values"
   ]
  },
  {
   "cell_type": "code",
   "execution_count": 31,
   "id": "abf0a14a-7050-4689-806f-dbe4f094f0d8",
   "metadata": {},
   "outputs": [],
   "source": [
    "num_classes = len(set(y))"
   ]
  },
  {
   "cell_type": "code",
   "execution_count": 32,
   "id": "59b5a397-faf0-43be-b498-a3d4af06fbc0",
   "metadata": {},
   "outputs": [],
   "source": [
    "train_indices, val_indices, test_indices = subsets[subsets['split']=='train'].index.tolist(),\\\n",
    "subsets[subsets['split']=='val'].index.tolist(),\\\n",
    "subsets[subsets['split']=='test'].index.tolist()\n"
   ]
  },
  {
   "cell_type": "code",
   "execution_count": 33,
   "id": "7564a2e1-11d7-44cf-803b-03b4eb3b0dce",
   "metadata": {},
   "outputs": [],
   "source": [
    "train_y, val_y, test_y = y[train_indices], y[val_indices], y[test_indices]"
   ]
  },
  {
   "cell_type": "code",
   "execution_count": 34,
   "id": "39adcfe4-0446-4673-bbad-dfdc972fb7d0",
   "metadata": {},
   "outputs": [],
   "source": [
    "train_x, val_x, test_x = padded_tokens[train_indices], padded_tokens[val_indices],\\\n",
    "padded_tokens[test_indices]"
   ]
  },
  {
   "cell_type": "code",
   "execution_count": 35,
   "id": "bce92ef9-7a5c-4f99-86e0-18544e93101f",
   "metadata": {},
   "outputs": [
    {
     "data": {
      "text/plain": [
       "(524346, 300)"
      ]
     },
     "execution_count": 35,
     "metadata": {},
     "output_type": "execute_result"
    }
   ],
   "source": [
    "train_x.shape"
   ]
  },
  {
   "cell_type": "markdown",
   "id": "8b2dba15-6e30-4b85-b6b7-ba48ad44c6cf",
   "metadata": {},
   "source": [
    "# Class weights"
   ]
  },
  {
   "cell_type": "code",
   "execution_count": 36,
   "id": "627224b2-1a14-4755-92ce-b349a9ab0415",
   "metadata": {
    "tags": []
   },
   "outputs": [],
   "source": [
    "from sklearn.utils.class_weight import compute_class_weight"
   ]
  },
  {
   "cell_type": "code",
   "execution_count": 37,
   "id": "41a46ab4-2501-44d9-9de3-637fe9036a04",
   "metadata": {
    "tags": []
   },
   "outputs": [],
   "source": [
    "unique_cls = np.unique(train_y)\n",
    "class_weights = dict(zip(list(unique_cls), \\\n",
    "                         list(compute_class_weight('balanced', classes=unique_cls, y=train_y))))"
   ]
  },
  {
   "cell_type": "markdown",
   "id": "a0f0ac0e-11a7-436a-9fd3-cfa9229d7ec8",
   "metadata": {},
   "source": [
    "# Create  model"
   ]
  },
  {
   "cell_type": "code",
   "execution_count": 38,
   "id": "ed87bb21-82b8-49ef-834f-a7cb983b48fa",
   "metadata": {},
   "outputs": [],
   "source": [
    "class Attention(tf.keras.layers.Layer):\n",
    "    def __init__(self,  \n",
    "                 units=128, **kwargs):\n",
    "        super(Attention,self).__init__(**kwargs)\n",
    "        self.units = units\n",
    "    \n",
    "    def build(self, input_shape):\n",
    "        self.W1=self.add_weight(name='attention_weights_1', shape=(input_shape[-1], self.units), \n",
    "                               initializer='glorot_uniform', trainable=True)\n",
    "        \n",
    "        self.W2=self.add_weight(name='attention_weights_2', shape=(1, self.units), \n",
    "                               initializer='glorot_uniform', trainable=True) \n",
    "        \n",
    "        super(Attention, self).build(input_shape)\n",
    "        \n",
    "    def call(self, x):\n",
    "        x = tf.transpose(x, perm=[0, 2, 1])\n",
    "        attention = tf.nn.softmax(tf.matmul(self.W2, tf.nn.tanh(tf.matmul(self.W1, x))))\n",
    "        weighted_context = tf.reduce_sum(x * attention, axis=-1)\n",
    "        return weighted_context, attention\n",
    "    \n",
    "    def get_config(self):\n",
    "        config = super().get_config().copy()\n",
    "        config.update({\n",
    "            'units': self.units\n",
    "        })\n",
    "        return config\n"
   ]
  },
  {
   "cell_type": "code",
   "execution_count": 39,
   "id": "91941772-c544-43ae-bf45-b08d249c49c7",
   "metadata": {},
   "outputs": [
    {
     "name": "stderr",
     "output_type": "stream",
     "text": [
      "2023-05-08 20:04:50.921919: I tensorflow/core/platform/cpu_feature_guard.cc:194] This TensorFlow binary is optimized with oneAPI Deep Neural Network Library (oneDNN) to use the following CPU instructions in performance-critical operations:  SSE3 SSE4.1 SSE4.2 AVX\n",
      "To enable them in other operations, rebuild TensorFlow with the appropriate compiler flags.\n",
      "2023-05-08 20:04:51.093393: I tensorflow/core/common_runtime/gpu/gpu_device.cc:1621] Created device /job:localhost/replica:0/task:0/device:GPU:0 with 14148 MB memory:  -> device: 0, name: NVIDIA RTX A4000, pci bus id: 0000:03:00.0, compute capability: 8.6\n"
     ]
    }
   ],
   "source": [
    "tf.keras.backend.clear_session()\n",
    "np.random.seed(0)\n",
    "tf.random.set_seed(0)\n",
    "# define layers\n",
    "attention = Attention(units=128, name='attention')\n",
    "input_layer = tf.keras.layers.Input(shape=(300,), name='input')\n",
    "word_embedding = tf.keras.layers.Embedding(input_dim=tokenizer.get_vocab_size()+1,\n",
    "                                                   output_dim=300,\n",
    "                                                   trainable=True,\n",
    "                                           name='embedding',\n",
    "                                           mask_zero=True,\n",
    "                                                   weights=[emb_matrix])\n",
    "batch_norm = tf.keras.layers.LayerNormalization(axis=-1)\n",
    "spatial_dropout = tf.keras.layers.SpatialDropout1D(0.3, name='spatial_dropout')\n",
    "lstm1 = tf.keras.layers.LSTM(256, name='lstm1',\n",
    "                            return_sequences=True)\n",
    "lstm2 = tf.keras.layers.LSTM(128, name='lstm2',\n",
    "                            return_sequences=True, return_state=True)\n",
    "dense1 = tf.keras.layers.Dense(128, activation='relu', name='dense')\n",
    "dropout = tf.keras.layers.Dropout(0.5, name='dropout')\n",
    "logits_layer = tf.keras.layers.Dense(num_classes, activation='softmax', name='output')\n",
    "\n",
    "#actual flow\n",
    "embedded = spatial_dropout(word_embedding(input_layer))\n",
    "lstm_lvl1 = lstm1(embedded)\n",
    "normed = batch_norm(lstm_lvl1)\n",
    "context_vector, state_h, _ = lstm2(normed)\n",
    "weighted_context, attention_scores = attention(context_vector)\n",
    "final_attn_output = tf.concat([state_h, weighted_context], axis=1)\n",
    "x = dense1(final_attn_output)\n",
    "x = dropout(x)\n",
    "x = logits_layer(x)\n",
    "model = tf.keras.Model(input_layer, x)"
   ]
  },
  {
   "cell_type": "markdown",
   "id": "5df15e13-921d-4eaa-b433-7500dc153a5f",
   "metadata": {},
   "source": [
    "# Compile model"
   ]
  },
  {
   "cell_type": "code",
   "execution_count": 40,
   "id": "a272e87d-a23a-4940-81fa-569451e2ea5c",
   "metadata": {},
   "outputs": [],
   "source": [
    "model.compile(loss='sparse_categorical_crossentropy', \\\n",
    "              optimizer=tf.keras.optimizers.Adam(),\n",
    "             metrics=['acc'])"
   ]
  },
  {
   "cell_type": "markdown",
   "id": "d9db9424-2b20-4d10-8da4-0c55152abe57",
   "metadata": {},
   "source": [
    "# Early stopping"
   ]
  },
  {
   "cell_type": "code",
   "execution_count": 41,
   "id": "9c9801fe-9cd2-47e2-9cad-58efbf4205a7",
   "metadata": {},
   "outputs": [],
   "source": [
    "import operator\n",
    "class EarlyStopping:\n",
    "    def __init__(self, tolerance=5, mode='min'):\n",
    "        assert mode in ['min','max'], 'Mode should be min or max'\n",
    "        self.mode = operator.lt if mode=='min' else operator.gt \n",
    "        self.tolerance = tolerance\n",
    "        self.counter = 0\n",
    "        self.early_stop = False\n",
    "        self.extremum_value = None\n",
    "        self.best_model = None\n",
    "    \n",
    "    @staticmethod\n",
    "    def copy_model(model):\n",
    "        copied_model = tf.keras.models.clone_model(model)\n",
    "        copied_model.set_weights(model.get_weights())\n",
    "        return copied_model\n",
    "        \n",
    "    def __call__(self, val, model):\n",
    "        if self.extremum_value is None:\n",
    "            self.extremum_value = val\n",
    "            self.best_model = self.copy_model(model)\n",
    "        else:\n",
    "            if not self.mode(val, self.extremum_value):\n",
    "                self.counter+=1\n",
    "            else:\n",
    "                self.extremum_value = val\n",
    "                self.best_model = self.copy_model(model)\n",
    "                self.counter = 0\n",
    "        \n",
    "        if self.counter==self.tolerance:\n",
    "            self.early_stop=True"
   ]
  },
  {
   "cell_type": "markdown",
   "id": "7676e473-8116-488e-990d-dc7937d9119c",
   "metadata": {},
   "source": [
    "# Train model"
   ]
  },
  {
   "cell_type": "code",
   "execution_count": 42,
   "id": "eed6de2d-be45-45cd-af31-b9042d1a20af",
   "metadata": {},
   "outputs": [],
   "source": [
    "from sklearn.metrics import f1_score"
   ]
  },
  {
   "cell_type": "code",
   "execution_count": 43,
   "id": "fbe8fc41-6661-4a56-ad5d-d1a4ed3e53f5",
   "metadata": {},
   "outputs": [],
   "source": [
    "def evaluate_on_datasets(y_true, y_pred, split='val'):\n",
    "    d = {}\n",
    "    for dataset_name in subsets['dataset_name'].unique():\n",
    "            idx = subsets[subsets['split']==split].copy()\n",
    "            idx['index'] = list(range(idx.shape[0]))\n",
    "            idx = idx[(idx['dataset_name']==dataset_name)]\\\n",
    "            ['index'].values.tolist()\n",
    "            score = f1_score(y_true=y_true[idx], y_pred=y_pred[idx],\n",
    "                                 average='macro')\n",
    "            print(f'{split} f1 score for dataset {dataset_name} : {score}')\n",
    "            d[f'{split}_f1_{dataset_name}'] = score\n",
    "            \n",
    "    for flag in [True, False]:\n",
    "        idx = subsets[subsets['split']==split].copy()\n",
    "        idx['index'] = list(range(idx.shape[0]))\n",
    "        idx = idx[idx['translated']==flag]['index'].values.tolist()\n",
    "        score = f1_score(y_true=y_true[idx], y_pred=y_pred[idx],\n",
    "                                 average='macro')\n",
    "        print(f'{split} f1 score for translated=={flag} : {score}')\n",
    "        d[f'{split}_f1_translated=={flag}'] = score\n",
    "    return d"
   ]
  },
  {
   "cell_type": "code",
   "execution_count": 44,
   "id": "f43c7824-1d7a-4fc1-b095-53902f428b3f",
   "metadata": {},
   "outputs": [],
   "source": [
    "def update_history(history, d):\n",
    "    for key, value in d.items():\n",
    "        res = history.get(key, [])\n",
    "        res.append(value)\n",
    "        history[key] = res"
   ]
  },
  {
   "cell_type": "code",
   "execution_count": 45,
   "id": "39c90c92-f6c9-4f00-94f0-582ebdf71912",
   "metadata": {},
   "outputs": [],
   "source": [
    "early_stopping = EarlyStopping(mode='max', tolerance=4)"
   ]
  },
  {
   "cell_type": "code",
   "execution_count": 46,
   "id": "e4354a40-79f8-4991-a26e-6d2422a4b9dd",
   "metadata": {},
   "outputs": [],
   "source": [
    "def training_loop(model, train_x, train_y, val_x, val_y, epochs=10, batch_size=128,\n",
    "                 shuffle=True):\n",
    "    dict_history = {}\n",
    "    for i in range(epochs):\n",
    "        if shuffle and i==0:\n",
    "            indices = np.arange(len(train_x))\n",
    "            np.random.shuffle(indices)\n",
    "            train_x = train_x[indices]\n",
    "            train_y = train_y[indices]\n",
    "            \n",
    "        #train model\n",
    "        history = model.fit(train_x, train_y, validation_data=(val_x, val_y), \n",
    "          epochs=1, batch_size=batch_size,\n",
    "                           verbose=0, shuffle=False,\n",
    "                           class_weight=class_weights)\n",
    "        train_loss, val_loss = history.history['loss'][-1], history.history['val_loss'][-1]\n",
    "        \n",
    "        #evaluate model\n",
    "        train_prediction = np.argmax(model.predict(train_x, batch_size=batch_size), axis=-1)\n",
    "        val_prediction = np.argmax(model.predict(val_x, batch_size=batch_size), axis=-1)\n",
    "        train_f1 = f1_score(y_true=train_y, y_pred=train_prediction,\n",
    "                           average='macro')\n",
    "        val_f1 = f1_score(y_true=val_y, y_pred=val_prediction,\n",
    "                         average='macro')\n",
    "        \n",
    "        #printing evaluation\n",
    "        print(f'Epoch {i}')\n",
    "        print(f'Overall train f1 : {train_f1}, overall val f1: {val_f1}')\n",
    "        print(f'Train loss : {train_loss}, val loss: {val_loss}')\n",
    "        d_train = evaluate_on_datasets(y_true=train_y, y_pred=train_prediction, split='train')\n",
    "        d_val = evaluate_on_datasets(y_true=val_y, y_pred=val_prediction, split='val')\n",
    "            \n",
    "        if i!=epochs-1:\n",
    "            print('-'*30)\n",
    "            \n",
    "        #save history\n",
    "        update_history(dict_history, d_train)\n",
    "        update_history(dict_history, d_val)\n",
    "        update_history(dict_history, {'train_f1': train_f1})\n",
    "        update_history(dict_history, {'val_f1': val_f1})\n",
    "        update_history(dict_history, {'train_loss': train_loss})\n",
    "        update_history(dict_history, {'val_loss': val_loss})\n",
    "        #early stopping\n",
    "        \n",
    "        early_stopping(val_f1, model)\n",
    "        if early_stopping.early_stop:\n",
    "            print('Stopping early')\n",
    "            model = early_stopping.best_model\n",
    "            break\n",
    "        \n",
    "    return dict_history, model"
   ]
  },
  {
   "cell_type": "code",
   "execution_count": 47,
   "id": "73c7d40c-fd2c-41cc-9938-ee4f58a8a0b5",
   "metadata": {
    "collapsed": true,
    "jupyter": {
     "outputs_hidden": true
    },
    "tags": []
   },
   "outputs": [
    {
     "name": "stderr",
     "output_type": "stream",
     "text": [
      "2023-05-08 20:05:02.734453: W tensorflow/core/grappler/costs/op_level_cost_estimator.cc:690] Error in PredictCost() for the op: op: \"Softmax\" attr { key: \"T\" value { type: DT_FLOAT } } inputs { dtype: DT_FLOAT shape { unknown_rank: true } } device { type: \"GPU\" vendor: \"NVIDIA\" model: \"NVIDIA RTX A4000\" frequency: 1560 num_cores: 48 environment { key: \"architecture\" value: \"8.6\" } environment { key: \"cuda\" value: \"12000\" } environment { key: \"cudnn\" value: \"8700\" } num_registers: 65536 l1_cache_size: 24576 l2_cache_size: 4194304 shared_memory_size_per_multiprocessor: 102400 memory_size: 14835253248 bandwidth: 448064000 } outputs { dtype: DT_FLOAT shape { unknown_rank: true } }\n",
      "2023-05-08 20:05:04.006856: I tensorflow/compiler/xla/stream_executor/cuda/cuda_dnn.cc:428] Loaded cuDNN version 8700\n",
      "2023-05-08 20:05:04.502389: I tensorflow/compiler/xla/stream_executor/cuda/cuda_blas.cc:648] TensorFloat-32 will be used for the matrix multiplication. This will only be logged once.\n",
      "2023-05-08 20:05:04.534055: I tensorflow/compiler/xla/service/service.cc:173] XLA service 0x7f69e08e9570 initialized for platform CUDA (this does not guarantee that XLA will be used). Devices:\n",
      "2023-05-08 20:05:04.534119: I tensorflow/compiler/xla/service/service.cc:181]   StreamExecutor device (0): NVIDIA RTX A4000, Compute Capability 8.6\n",
      "2023-05-08 20:05:04.541570: I tensorflow/compiler/mlir/tensorflow/utils/dump_mlir_util.cc:268] disabling MLIR crash reproducer, set env var `MLIR_CRASH_REPRODUCER_DIRECTORY` to enable.\n",
      "2023-05-08 20:05:04.713959: I tensorflow/compiler/jit/xla_compilation_cache.cc:480] Compiled cluster using XLA!  This line is logged at most once for the lifetime of the process.\n",
      "2023-05-08 20:07:02.127797: W tensorflow/core/grappler/costs/op_level_cost_estimator.cc:690] Error in PredictCost() for the op: op: \"Softmax\" attr { key: \"T\" value { type: DT_FLOAT } } inputs { dtype: DT_FLOAT shape { unknown_rank: true } } device { type: \"GPU\" vendor: \"NVIDIA\" model: \"NVIDIA RTX A4000\" frequency: 1560 num_cores: 48 environment { key: \"architecture\" value: \"8.6\" } environment { key: \"cuda\" value: \"12000\" } environment { key: \"cudnn\" value: \"8700\" } num_registers: 65536 l1_cache_size: 24576 l2_cache_size: 4194304 shared_memory_size_per_multiprocessor: 102400 memory_size: 14835253248 bandwidth: 448064000 } outputs { dtype: DT_FLOAT shape { unknown_rank: true } }\n",
      "2023-05-08 20:07:09.714858: W tensorflow/core/grappler/costs/op_level_cost_estimator.cc:690] Error in PredictCost() for the op: op: \"Softmax\" attr { key: \"T\" value { type: DT_FLOAT } } inputs { dtype: DT_FLOAT shape { unknown_rank: true } } device { type: \"GPU\" vendor: \"NVIDIA\" model: \"NVIDIA RTX A4000\" frequency: 1560 num_cores: 48 environment { key: \"architecture\" value: \"8.6\" } environment { key: \"cuda\" value: \"12000\" } environment { key: \"cudnn\" value: \"8700\" } num_registers: 65536 l1_cache_size: 24576 l2_cache_size: 4194304 shared_memory_size_per_multiprocessor: 102400 memory_size: 14835253248 bandwidth: 448064000 } outputs { dtype: DT_FLOAT shape { unknown_rank: true } }\n"
     ]
    },
    {
     "name": "stdout",
     "output_type": "stream",
     "text": [
      "257/257 [==============================] - 24s 75ms/step\n",
      "33/33 [==============================] - 2s 73ms/step\n",
      "Epoch 0\n",
      "Overall train f1 : 0.6369710641042698, overall val f1: 0.6284291234282667\n",
      "Train loss : 0.6623685359954834, val loss: 0.49655789136886597\n",
      "train f1 score for dataset rozetka : 0.6344055570194446\n",
      "train f1 score for dataset tripadvisor_hotels_ukraine : 0.6401619653003207\n",
      "train f1 score for dataset tripadvisor_restaurants_ukraine : 0.640852224245831\n",
      "train f1 score for translated==True : 0.6381779191129099\n",
      "train f1 score for translated==False : 0.6317235618237299\n",
      "val f1 score for dataset rozetka : 0.577877445303635\n",
      "val f1 score for dataset tripadvisor_hotels_ukraine : 0.6555794911489892\n",
      "val f1 score for dataset tripadvisor_restaurants_ukraine : 0.6851694794655835\n",
      "val f1 score for translated==True : 0.6363273366365753\n",
      "val f1 score for translated==False : 0.5724344697745855\n",
      "------------------------------\n",
      "257/257 [==============================] - 19s 75ms/step\n",
      "33/33 [==============================] - 3s 78ms/step\n",
      "Epoch 1\n",
      "Overall train f1 : 0.7213746122603434, overall val f1: 0.6955991114249381\n",
      "Train loss : 0.5295687317848206, val loss: 0.3237133026123047\n",
      "train f1 score for dataset rozetka : 0.7170909951236375\n",
      "train f1 score for dataset tripadvisor_hotels_ukraine : 0.726681843392636\n",
      "train f1 score for dataset tripadvisor_restaurants_ukraine : 0.7278798005258862\n",
      "train f1 score for translated==True : 0.7236193347257475\n",
      "train f1 score for translated==False : 0.7115911892632926\n",
      "val f1 score for dataset rozetka : 0.6567619479180504\n",
      "val f1 score for dataset tripadvisor_hotels_ukraine : 0.7111911990072218\n",
      "val f1 score for dataset tripadvisor_restaurants_ukraine : 0.7366992230548886\n",
      "val f1 score for translated==True : 0.7009267239244114\n",
      "val f1 score for translated==False : 0.6567678824437532\n",
      "------------------------------\n",
      "257/257 [==============================] - 19s 75ms/step\n",
      "33/33 [==============================] - 3s 75ms/step\n",
      "Epoch 2\n",
      "Overall train f1 : 0.739709472709222, overall val f1: 0.691676106976299\n",
      "Train loss : 0.4694042503833771, val loss: 0.34874671697616577\n",
      "train f1 score for dataset rozetka : 0.7344705276858973\n",
      "train f1 score for dataset tripadvisor_hotels_ukraine : 0.7448053421409456\n",
      "train f1 score for dataset tripadvisor_restaurants_ukraine : 0.748262612614469\n",
      "train f1 score for translated==True : 0.7422174957143085\n",
      "train f1 score for translated==False : 0.7288091162041709\n",
      "val f1 score for dataset rozetka : 0.6574683004442412\n",
      "val f1 score for dataset tripadvisor_hotels_ukraine : 0.6994745464435472\n",
      "val f1 score for dataset tripadvisor_restaurants_ukraine : 0.7280311828134375\n",
      "val f1 score for translated==True : 0.6959406110866683\n",
      "val f1 score for translated==False : 0.6589909495182641\n",
      "------------------------------\n",
      "257/257 [==============================] - 19s 76ms/step\n",
      "33/33 [==============================] - 3s 77ms/step\n",
      "Epoch 3\n",
      "Overall train f1 : 0.7623382575433174, overall val f1: 0.688712784200323\n",
      "Train loss : 0.41601991653442383, val loss: 0.36127927899360657\n",
      "train f1 score for dataset rozetka : 0.7556562245179425\n",
      "train f1 score for dataset tripadvisor_hotels_ukraine : 0.7689294223170391\n",
      "train f1 score for dataset tripadvisor_restaurants_ukraine : 0.7732205670539267\n",
      "train f1 score for translated==True : 0.7655221020028314\n",
      "train f1 score for translated==False : 0.7485221045262215\n",
      "val f1 score for dataset rozetka : 0.655909155195365\n",
      "val f1 score for dataset tripadvisor_hotels_ukraine : 0.6961892621529354\n",
      "val f1 score for dataset tripadvisor_restaurants_ukraine : 0.7235075929741567\n",
      "val f1 score for translated==True : 0.6931636054902142\n",
      "val f1 score for translated==False : 0.6553450191240486\n",
      "------------------------------\n",
      "257/257 [==============================] - 20s 75ms/step\n",
      "33/33 [==============================] - 2s 74ms/step\n",
      "Epoch 4\n",
      "Overall train f1 : 0.7873547794154855, overall val f1: 0.694404057470576\n",
      "Train loss : 0.37231266498565674, val loss: 0.3500842750072479\n",
      "train f1 score for dataset rozetka : 0.7802311088946432\n",
      "train f1 score for dataset tripadvisor_hotels_ukraine : 0.7940940661116369\n",
      "train f1 score for dataset tripadvisor_restaurants_ukraine : 0.7990663414180702\n",
      "train f1 score for translated==True : 0.7902744778932869\n",
      "train f1 score for translated==False : 0.7746715204322278\n",
      "val f1 score for dataset rozetka : 0.6614207425208062\n",
      "val f1 score for dataset tripadvisor_hotels_ukraine : 0.7058964591578377\n",
      "val f1 score for dataset tripadvisor_restaurants_ukraine : 0.7287545922874011\n",
      "val f1 score for translated==True : 0.6981014256815371\n",
      "val f1 score for translated==False : 0.6647472280207799\n",
      "------------------------------\n",
      "257/257 [==============================] - 19s 75ms/step\n",
      "33/33 [==============================] - 2s 73ms/step\n",
      "Epoch 5\n",
      "Overall train f1 : 0.8139652443006554, overall val f1: 0.7047465536422175\n",
      "Train loss : 0.3361132740974426, val loss: 0.3266311585903168\n",
      "train f1 score for dataset rozetka : 0.8081743861639916\n",
      "train f1 score for dataset tripadvisor_hotels_ukraine : 0.8177093138778395\n",
      "train f1 score for dataset tripadvisor_restaurants_ukraine : 0.8241818298944179\n",
      "train f1 score for translated==True : 0.8166055239841109\n",
      "train f1 score for translated==False : 0.8024653381670169\n",
      "val f1 score for dataset rozetka : 0.6800188654139886\n",
      "val f1 score for dataset tripadvisor_hotels_ukraine : 0.7085041008302814\n",
      "val f1 score for dataset tripadvisor_restaurants_ukraine : 0.7272053322535097\n",
      "val f1 score for translated==True : 0.70685269135696\n",
      "val f1 score for translated==False : 0.6853735250343128\n",
      "------------------------------\n",
      "257/257 [==============================] - 19s 75ms/step\n",
      "33/33 [==============================] - 2s 74ms/step\n",
      "Epoch 6\n",
      "Overall train f1 : 0.8192324090014984, overall val f1: 0.6892993226957596\n",
      "Train loss : 0.2974185049533844, val loss: 0.35860875248908997\n",
      "train f1 score for dataset rozetka : 0.8110150167936524\n",
      "train f1 score for dataset tripadvisor_hotels_ukraine : 0.8229571006895166\n",
      "train f1 score for dataset tripadvisor_restaurants_ukraine : 0.8342880515003216\n",
      "train f1 score for translated==True : 0.8227511501389086\n",
      "train f1 score for translated==False : 0.8036917917174925\n",
      "val f1 score for dataset rozetka : 0.6609365443764899\n",
      "val f1 score for dataset tripadvisor_hotels_ukraine : 0.6940720548133609\n",
      "val f1 score for dataset tripadvisor_restaurants_ukraine : 0.7163292888940019\n",
      "val f1 score for translated==True : 0.6910687408851861\n",
      "val f1 score for translated==False : 0.671023254570244\n",
      "------------------------------\n",
      "257/257 [==============================] - 19s 75ms/step\n",
      "33/33 [==============================] - 3s 74ms/step\n",
      "Epoch 7\n",
      "Overall train f1 : 0.833643126120009, overall val f1: 0.6916124374011446\n",
      "Train loss : 0.2680388391017914, val loss: 0.3837394714355469\n",
      "train f1 score for dataset rozetka : 0.8281174372096278\n",
      "train f1 score for dataset tripadvisor_hotels_ukraine : 0.8373911416005311\n",
      "train f1 score for dataset tripadvisor_restaurants_ukraine : 0.8433377244902317\n",
      "train f1 score for translated==True : 0.8364114813584783\n",
      "train f1 score for translated==False : 0.8215843392695811\n",
      "val f1 score for dataset rozetka : 0.660352712569265\n",
      "val f1 score for dataset tripadvisor_hotels_ukraine : 0.6959562254996071\n",
      "val f1 score for dataset tripadvisor_restaurants_ukraine : 0.7225485700215857\n",
      "val f1 score for translated==True : 0.6944902295776233\n",
      "val f1 score for translated==False : 0.664270393902774\n",
      "------------------------------\n",
      "257/257 [==============================] - 20s 76ms/step\n",
      "33/33 [==============================] - 3s 75ms/step\n",
      "Epoch 8\n",
      "Overall train f1 : 0.8368375893267407, overall val f1: 0.6894093716489342\n",
      "Train loss : 0.23385022580623627, val loss: 0.435872882604599\n",
      "train f1 score for dataset rozetka : 0.8330905507961939\n",
      "train f1 score for dataset tripadvisor_hotels_ukraine : 0.8387562572097563\n",
      "train f1 score for dataset tripadvisor_restaurants_ukraine : 0.8437010390997303\n",
      "train f1 score for translated==True : 0.8387970170054513\n",
      "train f1 score for translated==False : 0.8283314351352754\n",
      "val f1 score for dataset rozetka : 0.659872444511062\n",
      "val f1 score for dataset tripadvisor_hotels_ukraine : 0.6965039260947973\n",
      "val f1 score for dataset tripadvisor_restaurants_ukraine : 0.7158396517670723\n",
      "val f1 score for translated==True : 0.6917845944536171\n",
      "val f1 score for translated==False : 0.6663063372686995\n",
      "------------------------------\n",
      "257/257 [==============================] - 19s 75ms/step\n",
      "33/33 [==============================] - 3s 73ms/step\n",
      "Epoch 9\n",
      "Overall train f1 : 0.8535580988651815, overall val f1: 0.6851189104318539\n",
      "Train loss : 0.21711128950119019, val loss: 0.43978455662727356\n",
      "train f1 score for dataset rozetka : 0.8480179871696424\n",
      "train f1 score for dataset tripadvisor_hotels_ukraine : 0.8574331004529466\n",
      "train f1 score for dataset tripadvisor_restaurants_ukraine : 0.8631781918725575\n",
      "train f1 score for translated==True : 0.8561485298616072\n",
      "train f1 score for translated==False : 0.8422099525903072\n",
      "val f1 score for dataset rozetka : 0.65761297267164\n",
      "val f1 score for dataset tripadvisor_hotels_ukraine : 0.6935917280038861\n",
      "val f1 score for dataset tripadvisor_restaurants_ukraine : 0.7092635411440223\n",
      "val f1 score for translated==True : 0.6870215629487681\n",
      "val f1 score for translated==False : 0.6656771431406089\n",
      "------------------------------\n",
      "Stopping early\n"
     ]
    }
   ],
   "source": [
    "dict_history, model = \\\n",
    "training_loop(model, train_x, train_y, \n",
    "              val_x, val_y, epochs=20, batch_size=2048, shuffle=True)"
   ]
  },
  {
   "cell_type": "code",
   "execution_count": 48,
   "id": "fc16eb41-29c6-443e-95a6-b263a76a65bc",
   "metadata": {},
   "outputs": [
    {
     "data": {
      "text/plain": [
       "{'train_f1_rozetka': [0.6344055570194446,\n",
       "  0.7170909951236375,\n",
       "  0.7344705276858973,\n",
       "  0.7556562245179425,\n",
       "  0.7802311088946432,\n",
       "  0.8081743861639916,\n",
       "  0.8110150167936524,\n",
       "  0.8281174372096278,\n",
       "  0.8330905507961939,\n",
       "  0.8480179871696424],\n",
       " 'train_f1_tripadvisor_hotels_ukraine': [0.6401619653003207,\n",
       "  0.726681843392636,\n",
       "  0.7448053421409456,\n",
       "  0.7689294223170391,\n",
       "  0.7940940661116369,\n",
       "  0.8177093138778395,\n",
       "  0.8229571006895166,\n",
       "  0.8373911416005311,\n",
       "  0.8387562572097563,\n",
       "  0.8574331004529466],\n",
       " 'train_f1_tripadvisor_restaurants_ukraine': [0.640852224245831,\n",
       "  0.7278798005258862,\n",
       "  0.748262612614469,\n",
       "  0.7732205670539267,\n",
       "  0.7990663414180702,\n",
       "  0.8241818298944179,\n",
       "  0.8342880515003216,\n",
       "  0.8433377244902317,\n",
       "  0.8437010390997303,\n",
       "  0.8631781918725575],\n",
       " 'train_f1_translated==True': [0.6381779191129099,\n",
       "  0.7236193347257475,\n",
       "  0.7422174957143085,\n",
       "  0.7655221020028314,\n",
       "  0.7902744778932869,\n",
       "  0.8166055239841109,\n",
       "  0.8227511501389086,\n",
       "  0.8364114813584783,\n",
       "  0.8387970170054513,\n",
       "  0.8561485298616072],\n",
       " 'train_f1_translated==False': [0.6317235618237299,\n",
       "  0.7115911892632926,\n",
       "  0.7288091162041709,\n",
       "  0.7485221045262215,\n",
       "  0.7746715204322278,\n",
       "  0.8024653381670169,\n",
       "  0.8036917917174925,\n",
       "  0.8215843392695811,\n",
       "  0.8283314351352754,\n",
       "  0.8422099525903072],\n",
       " 'val_f1_rozetka': [0.577877445303635,\n",
       "  0.6567619479180504,\n",
       "  0.6574683004442412,\n",
       "  0.655909155195365,\n",
       "  0.6614207425208062,\n",
       "  0.6800188654139886,\n",
       "  0.6609365443764899,\n",
       "  0.660352712569265,\n",
       "  0.659872444511062,\n",
       "  0.65761297267164],\n",
       " 'val_f1_tripadvisor_hotels_ukraine': [0.6555794911489892,\n",
       "  0.7111911990072218,\n",
       "  0.6994745464435472,\n",
       "  0.6961892621529354,\n",
       "  0.7058964591578377,\n",
       "  0.7085041008302814,\n",
       "  0.6940720548133609,\n",
       "  0.6959562254996071,\n",
       "  0.6965039260947973,\n",
       "  0.6935917280038861],\n",
       " 'val_f1_tripadvisor_restaurants_ukraine': [0.6851694794655835,\n",
       "  0.7366992230548886,\n",
       "  0.7280311828134375,\n",
       "  0.7235075929741567,\n",
       "  0.7287545922874011,\n",
       "  0.7272053322535097,\n",
       "  0.7163292888940019,\n",
       "  0.7225485700215857,\n",
       "  0.7158396517670723,\n",
       "  0.7092635411440223],\n",
       " 'val_f1_translated==True': [0.6363273366365753,\n",
       "  0.7009267239244114,\n",
       "  0.6959406110866683,\n",
       "  0.6931636054902142,\n",
       "  0.6981014256815371,\n",
       "  0.70685269135696,\n",
       "  0.6910687408851861,\n",
       "  0.6944902295776233,\n",
       "  0.6917845944536171,\n",
       "  0.6870215629487681],\n",
       " 'val_f1_translated==False': [0.5724344697745855,\n",
       "  0.6567678824437532,\n",
       "  0.6589909495182641,\n",
       "  0.6553450191240486,\n",
       "  0.6647472280207799,\n",
       "  0.6853735250343128,\n",
       "  0.671023254570244,\n",
       "  0.664270393902774,\n",
       "  0.6663063372686995,\n",
       "  0.6656771431406089],\n",
       " 'train_f1': [0.6369710641042698,\n",
       "  0.7213746122603434,\n",
       "  0.739709472709222,\n",
       "  0.7623382575433174,\n",
       "  0.7873547794154855,\n",
       "  0.8139652443006554,\n",
       "  0.8192324090014984,\n",
       "  0.833643126120009,\n",
       "  0.8368375893267407,\n",
       "  0.8535580988651815],\n",
       " 'val_f1': [0.6284291234282667,\n",
       "  0.6955991114249381,\n",
       "  0.691676106976299,\n",
       "  0.688712784200323,\n",
       "  0.694404057470576,\n",
       "  0.7047465536422175,\n",
       "  0.6892993226957596,\n",
       "  0.6916124374011446,\n",
       "  0.6894093716489342,\n",
       "  0.6851189104318539],\n",
       " 'train_loss': [0.6623685359954834,\n",
       "  0.5295687317848206,\n",
       "  0.4694042503833771,\n",
       "  0.41601991653442383,\n",
       "  0.37231266498565674,\n",
       "  0.3361132740974426,\n",
       "  0.2974185049533844,\n",
       "  0.2680388391017914,\n",
       "  0.23385022580623627,\n",
       "  0.21711128950119019],\n",
       " 'val_loss': [0.49655789136886597,\n",
       "  0.3237133026123047,\n",
       "  0.34874671697616577,\n",
       "  0.36127927899360657,\n",
       "  0.3500842750072479,\n",
       "  0.3266311585903168,\n",
       "  0.35860875248908997,\n",
       "  0.3837394714355469,\n",
       "  0.435872882604599,\n",
       "  0.43978455662727356]}"
      ]
     },
     "execution_count": 48,
     "metadata": {},
     "output_type": "execute_result"
    }
   ],
   "source": [
    "dict_history"
   ]
  },
  {
   "cell_type": "markdown",
   "id": "b8d77413-4c00-4295-b7db-fe06dd7b23b5",
   "metadata": {},
   "source": [
    "# Show charts"
   ]
  },
  {
   "cell_type": "code",
   "execution_count": 49,
   "id": "b7f8ef02-623e-4ebb-8e1d-8da77c3ed9bc",
   "metadata": {},
   "outputs": [],
   "source": [
    "import seaborn as sns\n",
    "import matplotlib.pyplot as plt"
   ]
  },
  {
   "cell_type": "code",
   "execution_count": 50,
   "id": "521cf7cf-e1b2-42ce-8e95-5a2e61440247",
   "metadata": {},
   "outputs": [],
   "source": [
    "def plot_history(dict_history, columns):\n",
    "    plt.figure(figsize=(12,8))\n",
    "    for i in columns:\n",
    "        to_plot = dict_history[i]\n",
    "        plt.plot(range(len(to_plot)), to_plot, 'o-')\n",
    "    plt.xticks(range(len(to_plot)), range(len(to_plot)))\n",
    "    plt.xlabel('Epochs')\n",
    "    plt.legend(columns)"
   ]
  },
  {
   "cell_type": "code",
   "execution_count": 51,
   "id": "7c3ca35a-2166-4552-bc23-67c6bfe314d7",
   "metadata": {},
   "outputs": [
    {
     "data": {
      "image/png": "[encoded data removed]",
      "text/plain": [
       "<Figure size 1200x800 with 1 Axes>"
      ]
     },
     "metadata": {},
     "output_type": "display_data"
    }
   ],
   "source": [
    "plot_history(dict_history, ['val_loss', 'train_loss'])"
   ]
  },
  {
   "cell_type": "code",
   "execution_count": 52,
   "id": "09978e6c-1975-4fe9-b6ed-064e00c1809e",
   "metadata": {},
   "outputs": [
    {
     "data": {
      "image/png": "[encoded data removed]",
      "text/plain": [
       "<Figure size 1200x800 with 1 Axes>"
      ]
     },
     "metadata": {},
     "output_type": "display_data"
    }
   ],
   "source": [
    "plot_history(dict_history, ['val_f1', 'train_f1'])"
   ]
  },
  {
   "cell_type": "markdown",
   "id": "9763d7cb-3c09-425e-984f-7675f7fae0e9",
   "metadata": {},
   "source": [
    "# Evaluate model"
   ]
  },
  {
   "cell_type": "code",
   "execution_count": 53,
   "id": "4bb7e54e-5868-4379-8456-c3c5ef648c33",
   "metadata": {},
   "outputs": [
    {
     "name": "stderr",
     "output_type": "stream",
     "text": [
      "2023-05-08 20:22:19.217207: W tensorflow/core/grappler/costs/op_level_cost_estimator.cc:690] Error in PredictCost() for the op: op: \"Softmax\" attr { key: \"T\" value { type: DT_FLOAT } } inputs { dtype: DT_FLOAT shape { unknown_rank: true } } device { type: \"GPU\" vendor: \"NVIDIA\" model: \"NVIDIA RTX A4000\" frequency: 1560 num_cores: 48 environment { key: \"architecture\" value: \"8.6\" } environment { key: \"cuda\" value: \"12000\" } environment { key: \"cudnn\" value: \"8700\" } num_registers: 65536 l1_cache_size: 24576 l2_cache_size: 4194304 shared_memory_size_per_multiprocessor: 102400 memory_size: 14835253248 bandwidth: 448064000 } outputs { dtype: DT_FLOAT shape { unknown_rank: true } }\n"
     ]
    },
    {
     "name": "stdout",
     "output_type": "stream",
     "text": [
      "33/33 [==============================] - 5s 71ms/step\n"
     ]
    }
   ],
   "source": [
    "test_predictions = np.argmax(model.predict(test_x, batch_size=2048), axis=-1)"
   ]
  },
  {
   "cell_type": "code",
   "execution_count": 54,
   "id": "bc061fbf-e0a9-40be-8cb7-e356aef090d5",
   "metadata": {},
   "outputs": [
    {
     "name": "stdout",
     "output_type": "stream",
     "text": [
      "Overall test f1-score : 0.7058713869699386\n"
     ]
    }
   ],
   "source": [
    "test_f1 = f1_score(y_true=test_y, y_pred=test_predictions,\n",
    "                         average='macro')\n",
    "print(f'Overall test f1-score : {test_f1}')"
   ]
  },
  {
   "cell_type": "code",
   "execution_count": 55,
   "id": "24a4badc-8c22-4bdc-8fb2-f7f68dbb56b7",
   "metadata": {},
   "outputs": [
    {
     "name": "stdout",
     "output_type": "stream",
     "text": [
      "test f1 score for dataset rozetka : 0.676869892621501\n",
      "test f1 score for dataset tripadvisor_hotels_ukraine : 0.7006801031297658\n",
      "test f1 score for dataset tripadvisor_restaurants_ukraine : 0.7381904707402076\n",
      "test f1 score for translated==True : 0.7099083814437099\n",
      "test f1 score for translated==False : 0.6732502116233832\n"
     ]
    }
   ],
   "source": [
    "test_results = evaluate_on_datasets(y_true=test_y, y_pred=test_predictions,split='test')\n",
    "                     "
   ]
  },
  {
   "cell_type": "markdown",
   "id": "fe8efb21-1b71-49e7-8483-c00a9c357b1f",
   "metadata": {},
   "source": [
    "# Confusion matrix"
   ]
  },
  {
   "cell_type": "code",
   "execution_count": 56,
   "id": "5b2c68b6-4749-458b-b84d-d32db8f84491",
   "metadata": {
    "tags": []
   },
   "outputs": [],
   "source": [
    "inverse_mapping = dict([(v,k) for k,v in mapping.items()])"
   ]
  },
  {
   "cell_type": "code",
   "execution_count": 57,
   "id": "5ea3f06f-0b96-4d3c-97bf-aad82784f2ac",
   "metadata": {},
   "outputs": [],
   "source": [
    "from sklearn.metrics import confusion_matrix"
   ]
  },
  {
   "cell_type": "code",
   "execution_count": 58,
   "id": "ab600e88-5b7f-43e8-8bae-52d9abe58ca3",
   "metadata": {},
   "outputs": [
    {
     "data": {
      "text/plain": [
       "array([0, 1, 2])"
      ]
     },
     "execution_count": 58,
     "metadata": {},
     "output_type": "execute_result"
    }
   ],
   "source": [
    "np.unique(test_y)"
   ]
  },
  {
   "cell_type": "code",
   "execution_count": 59,
   "id": "701c2bfe-a20e-4880-a580-01dbf0f8f92c",
   "metadata": {
    "tags": []
   },
   "outputs": [
    {
     "data": {
      "image/png": "[encoded data removed]",
      "text/plain": [
       "<Figure size 1400x1000 with 2 Axes>"
      ]
     },
     "metadata": {},
     "output_type": "display_data"
    }
   ],
   "source": [
    "matrix = confusion_matrix(test_y, test_predictions)\n",
    "matrix_scaled = matrix.astype('float') / matrix.sum(axis=1)[:, np.newaxis]\n",
    "plt.figure(figsize=(14,10))\n",
    "sns.heatmap(matrix_scaled, annot=True, cmap=plt.cm.Blues, xticklabels=[inverse_mapping[i] for i in np.unique(test_y)],\\\n",
    "            yticklabels=[inverse_mapping[i] for i in np.unique(test_y)])\n",
    "plt.title('Confusion matrix')\n",
    "plt.xlabel('Predicted label')\n",
    "plt.ylabel('True label')\n",
    "\n",
    "plt.show()"
   ]
  },
  {
   "cell_type": "code",
   "execution_count": 60,
   "id": "8f8e32d5-9c11-4b5f-955a-d02ccc60f49d",
   "metadata": {
    "tags": []
   },
   "outputs": [],
   "source": [
    "test_df = df[subsets['split']=='test'].copy()"
   ]
  },
  {
   "cell_type": "code",
   "execution_count": 61,
   "id": "ff992540-590e-4674-8144-09ff1f347a62",
   "metadata": {
    "tags": []
   },
   "outputs": [],
   "source": [
    "test_df['predicted_rating'] = [inverse_mapping[i] for i in test_predictions]"
   ]
  },
  {
   "cell_type": "markdown",
   "id": "5447ad8a-3695-499c-9fe3-6d6d9cc2834c",
   "metadata": {},
   "source": [
    "# Save history results"
   ]
  },
  {
   "cell_type": "code",
   "execution_count": 62,
   "id": "b1d1cb15-8dae-414b-80c9-cabbcfd4168d",
   "metadata": {},
   "outputs": [],
   "source": [
    "history = pd.DataFrame(dict_history)\n",
    "for k,v in test_results.items():\n",
    "    history[k] = v"
   ]
  },
  {
   "cell_type": "code",
   "execution_count": 63,
   "id": "b2fc4c15-4277-4913-8080-91cddcc4d734",
   "metadata": {},
   "outputs": [],
   "source": [
    "history['model'] = model_name"
   ]
  },
  {
   "cell_type": "code",
   "execution_count": 64,
   "id": "344fd96f-8e81-47b6-8332-0bb3892edfa4",
   "metadata": {},
   "outputs": [],
   "source": [
    "history.to_csv(\"/home/user/jupyter_notebooks/Ukranian-SA/notebooks/training/training_results_sentiment.csv\", mode='a', \\\n",
    "               header=None, index=None)"
   ]
  },
  {
   "cell_type": "markdown",
   "id": "556a9626-e8de-47ab-bc7c-8917a38b2204",
   "metadata": {},
   "source": [
    "# Save model"
   ]
  },
  {
   "cell_type": "code",
   "execution_count": 65,
   "id": "cf61010a-6dee-42b8-93a1-f9a02ebb4d07",
   "metadata": {},
   "outputs": [
    {
     "name": "stdout",
     "output_type": "stream",
     "text": [
      "WARNING:tensorflow:Compiled the loaded model, but the compiled metrics have yet to be built. `model.compile_metrics` will be empty until you train or evaluate the model.\n"
     ]
    }
   ],
   "source": [
    "model.save(f'/home/user/files_for_research_Vova/{model_name}_sentiment.h5')"
   ]
  },
  {
   "cell_type": "code",
   "execution_count": null,
   "id": "3b2bf21e-5b02-435c-865a-0f462d8d44ca",
   "metadata": {},
   "outputs": [],
   "source": []
  }
 ],
 "metadata": {
  "kernelspec": {
   "display_name": "tensorflow_cuda12",
   "language": "python",
   "name": "tensorflow_cuda12"
  },
  "language_info": {
   "codemirror_mode": {
    "name": "ipython",
    "version": 3
   },
   "file_extension": ".py",
   "mimetype": "text/x-python",
   "name": "python",
   "nbconvert_exporter": "python",
   "pygments_lexer": "ipython3",
   "version": "3.8.10"
  }
 },
 "nbformat": 4,
 "nbformat_minor": 5
}
