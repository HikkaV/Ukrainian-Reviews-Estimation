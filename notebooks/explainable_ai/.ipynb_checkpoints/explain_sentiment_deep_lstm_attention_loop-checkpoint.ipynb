{
 "cells": [
  {
   "cell_type": "code",
   "execution_count": 1,
   "id": "22a98b96-ef38-4f8b-9030-e31b094e0d38",
   "metadata": {
    "tags": []
   },
   "outputs": [
    {
     "name": "stdout",
     "output_type": "stream",
     "text": [
      "Collecting tokenizers\n",
      "  Downloading tokenizers-0.13.3-cp38-cp38-manylinux_2_17_x86_64.manylinux2014_x86_64.whl (7.8 MB)\n",
      "\u001b[2K     \u001b[90m━━━━━━━━━━━━━━━━━━━━━━━━━━━━━━━━━━━━━━━━\u001b[0m \u001b[32m7.8/7.8 MB\u001b[0m \u001b[31m11.0 MB/s\u001b[0m eta \u001b[36m0:00:00\u001b[0m00:01\u001b[0m00:01\u001b[0m\n",
      "\u001b[?25hInstalling collected packages: tokenizers\n",
      "Successfully installed tokenizers-0.13.3\n",
      "\u001b[33mWARNING: Running pip as the 'root' user can result in broken permissions and conflicting behaviour with the system package manager. It is recommended to use a virtual environment instead: https://pip.pypa.io/warnings/venv\u001b[0m\u001b[33m\n",
      "\u001b[0m"
     ]
    },
    {
     "name": "stderr",
     "output_type": "stream",
     "text": [
      "2023-05-21 10:50:38.504279: I tensorflow/core/platform/cpu_feature_guard.cc:194] This TensorFlow binary is optimized with oneAPI Deep Neural Network Library (oneDNN) to use the following CPU instructions in performance-critical operations:  SSE3 SSE4.1 SSE4.2 AVX\n",
      "To enable them in other operations, rebuild TensorFlow with the appropriate compiler flags.\n"
     ]
    }
   ],
   "source": [
    "!pip install tokenizers\n",
    "import tensorflow as tf\n",
    "from tokenizers import Tokenizer, models, pre_tokenizers, trainers, Regex\n",
    "import tokenizers\n",
    "import pandas as pd\n",
    "import os\n",
    "from collections import Counter\n",
    "import gc\n",
    "import numpy as np"
   ]
  },
  {
   "cell_type": "code",
   "execution_count": 2,
   "id": "e6315b2e-3b1e-491f-87aa-1ed1e0eada8e",
   "metadata": {
    "tags": []
   },
   "outputs": [],
   "source": [
    "import ast\n",
    "def str_to_list(x):\n",
    "    try:\n",
    "        return list(ast.literal_eval(x))\n",
    "    except:\n",
    "        return None\n",
    "\n",
    "\n",
    "def string_to_list_dataframe(df):\n",
    "    columns = df.columns.tolist()\n",
    "    columns_w_lists = []\n",
    "    for column in columns:\n",
    "        if df[column].astype(str). \\\n",
    "                apply(lambda x: x.startswith('[') and x.endswith(']')) \\\n",
    "                .astype(int).mean() > 0.8:\n",
    "            columns_w_lists.append(column)\n",
    "    for column in columns_w_lists:\n",
    "        df[column] = df[column].apply(lambda x: str_to_list(x))\n",
    "        df = df[~df[column].isna()]\n",
    "    return df"
   ]
  },
  {
   "cell_type": "code",
   "execution_count": 3,
   "id": "5f328be8-1484-48c4-8c9e-646217c0e693",
   "metadata": {
    "tags": []
   },
   "outputs": [],
   "source": [
    "def map_rating(ratings):\n",
    "    mean_rating = np.mean(ratings)\n",
    "    if mean_rating<3:\n",
    "        return '<3'\n",
    "    elif 4>mean_rating>=3:\n",
    "        return '3'\n",
    "    elif  mean_rating>=4:\n",
    "        return '>3'"
   ]
  },
  {
   "cell_type": "markdown",
   "id": "c77a0caf-2bf8-49b5-8541-62d02d59aaab",
   "metadata": {},
   "source": [
    "# Load data"
   ]
  },
  {
   "cell_type": "code",
   "execution_count": 4,
   "id": "e196439f-3e57-49b4-b258-e513973254a3",
   "metadata": {
    "tags": []
   },
   "outputs": [],
   "source": [
    "df = pd.read_csv('/home/user/files_for_research_Vova/processed_data.csv',\\\n",
    "                 usecols=['review_translate','entity_name',\n",
    "                                                            'dataset_name',\n",
    "                                                            'rating',\n",
    "                                                           'translated'])\n",
    "subsets = pd.read_csv('/home/user/files_for_research_Vova/train_val_test_indices.csv')\n",
    "subsets = subsets.merge(df[['dataset_name', 'translated']], left_on='index', right_index=True)\n",
    "bad_indices = pd.read_csv('/home/user/files_for_research_Vova/files_to_check.csv')\n",
    "subsets = subsets[~subsets.index.isin(bad_indices['id'].values)]\n",
    "df = df[~df.index.isin(bad_indices['id'].values)]\n",
    "df, subsets = df.reset_index().drop(columns='index'), subsets.reset_index().drop(columns='index')\n",
    "df['sentiment'] = df['rating'].astype(int).map({1:'negative', 2 : 'negative', \n",
    "                                          3 : 'neutral', 4 : 'positive',\n",
    "                                          5 : 'positive'})\n",
    "mapping = dict([(i,c) for c,i in enumerate(df['sentiment'].unique())])\n",
    "inverse_mapping = dict([(v,k) for k,v in mapping.items()])\n",
    "df['review_translate'] = df['review_translate'].str.lower()\n",
    "if not os.path.exists('/home/user/jupyter_notebooks/df_for_ex_ai.csv'):\n",
    "    df = df[subsets['split']=='test']\n",
    "    df = df.groupby(['dataset_name','entity_name'], as_index=False).agg({'rating' : list,\n",
    "                                                   'review_translate':list\n",
    "                                                   })\n",
    "    df = df[df['rating'].apply(len)>10]\n",
    "    df['mapped_rating'] = df['rating'].apply(map_rating)\n",
    "    df_for_ex_ai = pd.DataFrame()\n",
    "    for i in df['dataset_name'].unique():\n",
    "        num_reviews_each = 15\n",
    "        df_dataset = df[df['dataset_name']==i]\n",
    "        unique_map_rat = df_dataset['mapped_rating'].unique()\n",
    "        for c, j in enumerate(unique_map_rat):\n",
    "            samples_per_cat = num_reviews_each//(len(unique_map_rat)-c)\n",
    "            df_dataset_rat = df_dataset[df_dataset['mapped_rating']==j]\n",
    "            len_df = df_dataset_rat.shape[0]\n",
    "            to_sample = samples_per_cat\n",
    "            if len_df<samples_per_cat:\n",
    "                to_sample = len_df\n",
    "            df_for_ex_ai = df_for_ex_ai.append(df_dataset_rat.sample(to_sample))\n",
    "            num_reviews_each-=to_sample\n",
    "    \n",
    "    df_for_ex_ai.reset_index().drop(columns='index')\\\n",
    "    .to_csv('/home/user/jupyter_notebooks/df_for_ex_ai.csv', index=False)\n",
    "    \n",
    "else:\n",
    "    del df;\n",
    "    gc.collect();\n",
    "    df_for_ex_ai = pd.read_csv('/home/user/jupyter_notebooks/df_for_ex_ai.csv')\n",
    "    df_for_ex_ai = string_to_list_dataframe(df_for_ex_ai)\n",
    "    "
   ]
  },
  {
   "cell_type": "markdown",
   "id": "0bfb26a9-6795-41e4-913d-78c7eea4f172",
   "metadata": {},
   "source": [
    "# Load model and make prediction"
   ]
  },
  {
   "cell_type": "code",
   "execution_count": 5,
   "id": "e9c83905-591e-411c-b5d4-4712fdd9219d",
   "metadata": {
    "tags": []
   },
   "outputs": [],
   "source": [
    "class Attention(tf.keras.layers.Layer):\n",
    "    def __init__(self,  \n",
    "                 units=128, **kwargs):\n",
    "        super(Attention,self).__init__(**kwargs)\n",
    "        self.units = units\n",
    "    \n",
    "    def build(self, input_shape):\n",
    "        self.W1=self.add_weight(name='attention_weights_1', shape=(input_shape[-1], self.units), \n",
    "                               initializer='glorot_uniform', trainable=True)\n",
    "        \n",
    "        self.W2=self.add_weight(name='attention_weights_2', shape=(1, self.units), \n",
    "                               initializer='glorot_uniform', trainable=True) \n",
    "        \n",
    "        super(Attention, self).build(input_shape)\n",
    "        \n",
    "    def call(self, x):\n",
    "        x = tf.transpose(x, perm=[0, 2, 1])\n",
    "        attention = tf.nn.softmax(tf.matmul(self.W2, tf.nn.tanh(tf.matmul(self.W1, x))))\n",
    "        weighted_context = tf.reduce_sum(x * attention, axis=-1)\n",
    "        return weighted_context, attention\n",
    "    \n",
    "    def get_config(self):\n",
    "        config = super().get_config().copy()\n",
    "        config.update({\n",
    "            'units': self.units\n",
    "        })\n",
    "        return config\n"
   ]
  },
  {
   "cell_type": "code",
   "execution_count": 6,
   "id": "fd174125-ee99-49a8-ac2f-e8eb3d756ddf",
   "metadata": {
    "tags": []
   },
   "outputs": [
    {
     "name": "stderr",
     "output_type": "stream",
     "text": [
      "2023-05-21 10:51:02.319447: I tensorflow/core/platform/cpu_feature_guard.cc:194] This TensorFlow binary is optimized with oneAPI Deep Neural Network Library (oneDNN) to use the following CPU instructions in performance-critical operations:  SSE3 SSE4.1 SSE4.2 AVX\n",
      "To enable them in other operations, rebuild TensorFlow with the appropriate compiler flags.\n",
      "2023-05-21 10:51:02.453992: I tensorflow/core/common_runtime/gpu/gpu_device.cc:1621] Created device /job:localhost/replica:0/task:0/device:GPU:0 with 14148 MB memory:  -> device: 0, name: NVIDIA RTX A4000, pci bus id: 0000:03:00.0, compute capability: 8.6\n"
     ]
    }
   ],
   "source": [
    "model = tf.keras.models.load_model('/home/user/files_for_research_Vova/deep_lstm_attention_w2v_huber_sentiment.h5',\n",
    "                                  compile=False,\n",
    "                                  custom_objects={'Attention':Attention})"
   ]
  },
  {
   "cell_type": "markdown",
   "id": "100472bb-3a45-4460-b333-44efc966bfc7",
   "metadata": {},
   "source": [
    "### remake model to give back attention scores"
   ]
  },
  {
   "cell_type": "code",
   "execution_count": 7,
   "id": "84ed9909-abdb-4b68-add2-a76e8b52e816",
   "metadata": {
    "tags": []
   },
   "outputs": [],
   "source": [
    "attention_model = tf.keras.models.Model(inputs=model.layers[0].input,\n",
    "                                        outputs=[[i for i in model.layers if i.name=='attention'][0].output,\n",
    "                                                 model.layers[-1].output])"
   ]
  },
  {
   "cell_type": "markdown",
   "id": "18937d99-a802-42dd-be5b-0d335407aa9e",
   "metadata": {},
   "source": [
    "### tokenize and prepare data"
   ]
  },
  {
   "cell_type": "code",
   "execution_count": 8,
   "id": "fbac01db-3a37-48b4-ab3f-479a1f87135a",
   "metadata": {
    "tags": []
   },
   "outputs": [],
   "source": [
    "from tokenizers import Tokenizer, models, decoders, processors\n",
    "from tokenizers import pre_tokenizers, trainers, Regex"
   ]
  },
  {
   "cell_type": "code",
   "execution_count": 9,
   "id": "85824555-75ea-4342-8341-159eba1f6dea",
   "metadata": {
    "tags": []
   },
   "outputs": [],
   "source": [
    "### because of incorrect work of BPE decoding, we should make decoding ourselves + special logic"
   ]
  },
  {
   "cell_type": "code",
   "execution_count": 10,
   "id": "986478a3-c5c8-405c-85b1-8edbc9f19129",
   "metadata": {
    "tags": []
   },
   "outputs": [],
   "source": [
    "class BPETokenizer:\n",
    "    def __init__(self, vocab, merges):\n",
    "        self.suffix = '</w>'\n",
    "        self.tokenizer = Tokenizer(models.BPE.from_file(vocab=vocab,\n",
    "            merges=merges, end_of_word_suffix=self.suffix))\n",
    "        self.tokenizer.pre_tokenizer = pre_tokenizers.Split(Regex(r\"[\\w'-]+|[^\\w\\s'-]+\"),'removed', True)\n",
    "        self.id_to_token = self.tokenizer.id_to_token\n",
    "        self.encode_batch = self.tokenizer.encode_batch\n",
    "        self.token_to_id = self.tokenizer.token_to_id\n",
    "        self.encode = self.tokenizer.encode\n",
    "        \n",
    "    def tokens_to_ids(self, tokens):\n",
    "        return list(map(self.token_to_id, tokens))\n",
    "    \n",
    "    def ids_to_tokens(self, ids):\n",
    "        return list(map(self.id_to_token, ids))\n",
    "        \n",
    "\n",
    "    def decode(self, tokens, return_indices=False):\n",
    "        decoded = []\n",
    "        merged_indices = []\n",
    "        i = 0\n",
    "        while i<len(tokens):\n",
    "            if tokens[i].endswith(self.suffix):\n",
    "                decoded.append(tokens[i])\n",
    "                merged_indices.append([i])\n",
    "                i+=1\n",
    "            else:\n",
    "                merged_token = ''\n",
    "                tmp_indc = []\n",
    "                while not tokens[i].endswith(self.suffix):\n",
    "                    merged_token+=tokens[i]\n",
    "                    tmp_indc.append(i)\n",
    "                    i+=1\n",
    "                merged_token+=tokens[i]\n",
    "                tmp_indc.append(i)\n",
    "                decoded.append(merged_token)\n",
    "                merged_indices.append(tmp_indc)\n",
    "                i+=1\n",
    "                \n",
    "        if return_indices:\n",
    "            return decoded, merged_indices\n",
    "        else:\n",
    "            return decoded\n",
    "        "
   ]
  },
  {
   "cell_type": "code",
   "execution_count": 11,
   "id": "53f053d0-c523-448f-8523-e1b315d9c929",
   "metadata": {
    "tags": []
   },
   "outputs": [],
   "source": [
    "tokenizer = BPETokenizer(vocab='/home/user/files_for_research_Vova/tokenizer_30k.json',\n",
    "            merges='/home/user/files_for_research_Vova/merges_tokenizer.txt'\n",
    "                        )"
   ]
  },
  {
   "cell_type": "code",
   "execution_count": 12,
   "id": "84dafca3-afd6-4840-9029-59f0ea2fe155",
   "metadata": {
    "tags": []
   },
   "outputs": [],
   "source": [
    "encoded = df_for_ex_ai['review_translate'].apply(lambda x: [i.ids for i in tokenizer.encode_batch(x)])"
   ]
  },
  {
   "cell_type": "code",
   "execution_count": 13,
   "id": "814dc92d-8f5a-4559-bac0-ba18a420c5ca",
   "metadata": {
    "tags": []
   },
   "outputs": [],
   "source": [
    "padded = []\n",
    "for i in encoded.values:\n",
    "    padded.append(tf.keras.preprocessing.sequence.pad_sequences(i, maxlen=300,\n",
    "                                                 padding='post'))"
   ]
  },
  {
   "cell_type": "code",
   "execution_count": 14,
   "id": "6db21506-e2e7-4cff-b94b-3efb943006a1",
   "metadata": {
    "tags": []
   },
   "outputs": [
    {
     "data": {
      "text/plain": [
       "(30, 300)"
      ]
     },
     "execution_count": 14,
     "metadata": {},
     "output_type": "execute_result"
    }
   ],
   "source": [
    "padded[0].shape"
   ]
  },
  {
   "cell_type": "markdown",
   "id": "3d749b06-b44e-46e7-941a-c8b3ba39103b",
   "metadata": {},
   "source": [
    "# Attention based explainable AI"
   ]
  },
  {
   "cell_type": "code",
   "execution_count": 15,
   "id": "1aaf3669-4c1d-4563-a740-8fa75edd6559",
   "metadata": {
    "tags": []
   },
   "outputs": [],
   "source": [
    "class AttentionExplainer:\n",
    "    def __init__(self, attention_model,\n",
    "                 tokenizer, mapping):\n",
    "        self.attention_model = attention_model\n",
    "        self.tokenizer = tokenizer\n",
    "        self.mapping = mapping\n",
    "        \n",
    "    def explain(self, sample):\n",
    "        (_, attention_scores), predicted_rating = self.attention_model.predict(sample)\n",
    "        attention_scores = attention_scores.reshape(sample.shape)\n",
    "        #get only those scores which aren't relevant to PAD tokens\n",
    "        masked_scores = []\n",
    "        for i in range(attention_scores.shape[0]):\n",
    "            masked_scores.append(attention_scores[i][sample[i]!=0])\n",
    "        #actual process\n",
    "        final_scores = []\n",
    "        final_tokens = []\n",
    "        for c,sequence in enumerate(sample):\n",
    "            #map back indices to tokens\n",
    "            sequence = [i for i in sequence if i!=0]\n",
    "            tokens = self.tokenizer.ids_to_tokens(sequence)\n",
    "            #get merges of tokens\n",
    "            decoded, merged_indices = self.tokenizer.decode(tokens, True)\n",
    "            #sum up attention scores for indices which are merged\n",
    "            if len(tokens)!=len(decoded):\n",
    "                tmp_scores = []\n",
    "                for i in merged_indices:\n",
    "                    if len(i)>1:\n",
    "                        tmp_scores.append(sum([masked_scores[c][j] for j in i]))\n",
    "                    else:\n",
    "                        tmp_scores.append(masked_scores[c][i[0]])\n",
    "            else:\n",
    "                tmp_scores = list(masked_scores[c])\n",
    "            #get rid of suffix at the end of token\n",
    "            decoded = [i.rstrip(tokenizer.suffix) for i in decoded]\n",
    "            final_scores.append(tmp_scores)\n",
    "            final_tokens.append(decoded)\n",
    "        return final_scores, final_tokens, list(map(lambda x: self.mapping.get(x),\n",
    "                                                    np.argmax(predicted_rating, axis=-1)))\n",
    "                        \n",
    "        "
   ]
  },
  {
   "cell_type": "code",
   "execution_count": 16,
   "id": "91c5131a-07b7-4e6d-96b6-ee1e310e375e",
   "metadata": {
    "tags": []
   },
   "outputs": [],
   "source": [
    "attention_explainer = AttentionExplainer(attention_model, tokenizer,\n",
    "                                        mapping=inverse_mapping)"
   ]
  },
  {
   "cell_type": "markdown",
   "id": "949c509d-a7c4-455b-b920-a8dc5fb74512",
   "metadata": {},
   "source": [
    "### agregate scores"
   ]
  },
  {
   "cell_type": "code",
   "execution_count": 17,
   "id": "e28f1259-ce04-4e7d-a4e1-1c627a4ccdb5",
   "metadata": {
    "tags": []
   },
   "outputs": [
    {
     "name": "stdout",
     "output_type": "stream",
     "text": [
      "huggingface/tokenizers: The current process just got forked, after parallelism has already been used. Disabling parallelism to avoid deadlocks...\n",
      "To disable this warning, you can either:\n",
      "\t- Avoid using `tokenizers` before the fork if possible\n",
      "\t- Explicitly set the environment variable TOKENIZERS_PARALLELISM=(true | false)\n",
      "Collecting tqdm\n",
      "  Downloading tqdm-4.65.0-py3-none-any.whl (77 kB)\n",
      "\u001b[2K     \u001b[90m━━━━━━━━━━━━━━━━━━━━━━━━━━━━━━━━━━━━━━━━\u001b[0m \u001b[32m77.1/77.1 kB\u001b[0m \u001b[31m7.9 MB/s\u001b[0m eta \u001b[36m0:00:00\u001b[0m\n",
      "\u001b[?25hInstalling collected packages: tqdm\n",
      "Successfully installed tqdm-4.65.0\n",
      "\u001b[33mWARNING: Running pip as the 'root' user can result in broken permissions and conflicting behaviour with the system package manager. It is recommended to use a virtual environment instead: https://pip.pypa.io/warnings/venv\u001b[0m\u001b[33m\n",
      "\u001b[0m"
     ]
    }
   ],
   "source": [
    "from collections import Counter\n",
    "!pip install tqdm\n",
    "from tqdm import tqdm"
   ]
  },
  {
   "cell_type": "code",
   "execution_count": 18,
   "id": "df509004-ad69-4956-8b89-073be9051c0a",
   "metadata": {
    "tags": []
   },
   "outputs": [],
   "source": [
    "from sklearn.metrics.pairwise import pairwise_distances\n",
    "from functools import partial\n",
    "from itertools import chain"
   ]
  },
  {
   "cell_type": "code",
   "execution_count": 19,
   "id": "ba3519e7-6d74-4e50-9d05-75f78ab690d1",
   "metadata": {
    "tags": []
   },
   "outputs": [],
   "source": [
    "def counter_average(dict_values, counter):\n",
    "    new_dict = {}\n",
    "    for k, v in counter.items():\n",
    "        new_dict[k] = dict_values[k]/v\n",
    "    return new_dict"
   ]
  },
  {
   "cell_type": "code",
   "execution_count": 20,
   "id": "3bc2764d-aaa1-4a86-860c-e44f95f09bd9",
   "metadata": {
    "tags": []
   },
   "outputs": [],
   "source": [
    "def dicts_addition(dicts):\n",
    "    overall_dict = {}\n",
    "    for dict_ in dicts:\n",
    "        for k,v in dict_.items():\n",
    "            score = overall_dict.get(k, 0)\n",
    "            overall_dict[k] = score+v\n",
    "    return overall_dict"
   ]
  },
  {
   "cell_type": "code",
   "execution_count": 21,
   "id": "b31b4658-7f69-46cb-a433-42e558219535",
   "metadata": {
    "tags": []
   },
   "outputs": [],
   "source": [
    "def generate_ngrams(tokens_scores, n_gram=2, func_agg='mean'):\n",
    "    new_tokens_scores = []\n",
    "    for token_score in tokens_scores:\n",
    "        n_gram_token_score = [token_score[i:i+n_gram] \\\n",
    "                              for i in range(len(token_score)-(n_gram-1))]\n",
    "        n_gram_token_score = [(' '.join([j[0] for j in i]), sum([j[1] for j in i]))\\\n",
    "        for i in n_gram_token_score]\n",
    "        if func_agg=='mean':\n",
    "            n_gram_token_score = [(i[0], i[1]/n_gram) for i in n_gram_token_score]\n",
    "        new_tokens_scores.append(n_gram_token_score)\n",
    "    return new_tokens_scores"
   ]
  },
  {
   "cell_type": "code",
   "execution_count": 22,
   "id": "2e191509-4408-4132-bae0-fd13d6311455",
   "metadata": {
    "tags": []
   },
   "outputs": [],
   "source": [
    "def similarity_function(phrase_i, phrase_j, diversify=2):\n",
    "    sub_phrases = [' '.join(phrase_i[i:i+diversify]) for i in range(len(phrase_i)-diversify)]\n",
    "    phrase_j = ' '.join(phrase_j)\n",
    "    for i in sub_phrases:\n",
    "        if i in phrase_j:\n",
    "            return 1.0\n",
    "    return 0.0"
   ]
  },
  {
   "cell_type": "code",
   "execution_count": 23,
   "id": "8a27a7ee-7fdb-45d2-a5ef-8bdca5df05c7",
   "metadata": {
    "tags": []
   },
   "outputs": [],
   "source": [
    "def find_similar(aggregated_results, diversify=2):\n",
    "    new_results = {}\n",
    "    local_similarity_function = partial(similarity_function, diversify=diversify)\n",
    "    for k, v in tqdm(aggregated_results.items()):\n",
    "        tmp_results = {}\n",
    "        phrases = [i[0].split() for i in v]\n",
    "        scores = [i[1] for i in v]\n",
    "        not_to_use = []\n",
    "        for i in range(len(phrases)):\n",
    "            if i not in not_to_use:\n",
    "                group = [i]\n",
    "                for j in range(i+1, len(phrases)):\n",
    "                    if j not in not_to_use:\n",
    "                        if local_similarity_function(phrases[i], phrases[j]) or \\\n",
    "                        local_similarity_function(phrases[j], phrases[i]):\n",
    "                            group.append(j)\n",
    "                    \n",
    "            idx, score = max(list(zip(list(group), [scores[i] for i in group])), key=lambda x: x[1])\n",
    "            not_to_use.extend(group)\n",
    "            not_to_use.remove(idx)\n",
    "            tmp_results[' '.join(phrases[idx])] = score\n",
    "        new_results[k] = list(tmp_results.items())\n",
    "        \n",
    "                   \n",
    "    return new_results"
   ]
  },
  {
   "cell_type": "code",
   "execution_count": 24,
   "id": "28c7c318-549b-40b7-96a5-c8c072c23257",
   "metadata": {
    "tags": []
   },
   "outputs": [],
   "source": [
    "def aggregate_results(scores, tokens, ratings, \n",
    "                      n_gram=1,\n",
    "                      func_agg_n_gram='mean',\n",
    "                     func_agg_overall='mean', diversify=False, top_n=None):\n",
    "    tokens_scores = [list(zip(i,scores[c])) for c, i in enumerate(tokens)]\n",
    "    if n_gram>1:\n",
    "        tokens_scores = generate_ngrams(tokens_scores, n_gram, func_agg_n_gram)\n",
    "    aggregated_results = {}\n",
    "    for c, rating in enumerate(ratings):\n",
    "        tmp_dict = {}\n",
    "        tmp_counter = Counter()\n",
    "        for token, score in tokens_scores[c]:\n",
    "            local_score = tmp_dict.get(token, 0)\n",
    "            local_score+=score\n",
    "            tmp_dict[token] = local_score\n",
    "            tmp_counter.update([token])\n",
    "                \n",
    "        previous_dict, previous_counter = aggregated_results.get(rating, [{}, Counter()]) \n",
    "        aggregated_results[rating] = [dicts_addition([tmp_dict,previous_dict]), \\\n",
    "                                      previous_counter+tmp_counter]\n",
    "    if func_agg_overall=='mean':\n",
    "        aggregated_results = dict([(k, sorted(counter_average(v[0], v[1]).items(),\n",
    "                                   key=lambda x: x[1], reverse=True)) \\\n",
    "                                                 for k, v in aggregated_results.items()])\n",
    "    else:\n",
    "        aggregated_results = dict([(k, sorted(v[0].items(),\n",
    "                                             key=lambda x: x[1], reverse=True)) \\\n",
    "                                                 for k, v in aggregated_results.items()],\n",
    "                                  )\n",
    "        \n",
    "    if diversify and n_gram>1:\n",
    "        aggregated_results = find_similar(aggregated_results, diversify)\n",
    "            \n",
    "        \n",
    "    if top_n:\n",
    "        aggregated_results = dict([(k, v[:top_n]) for k, v in aggregated_results.items()])\n",
    "    #aggregated_results = dict([(k, [i for i in v if i[1]>0]) for k,v in aggregated_results.items()])\n",
    "    return aggregated_results"
   ]
  },
  {
   "cell_type": "markdown",
   "id": "b35608b2-e2e9-4db5-ab08-8f84da995b85",
   "metadata": {},
   "source": [
    "# LIME based explainable AI"
   ]
  },
  {
   "cell_type": "code",
   "execution_count": 25,
   "id": "722611cf-d480-48fe-9b17-76a8c404286e",
   "metadata": {
    "tags": []
   },
   "outputs": [
    {
     "name": "stdout",
     "output_type": "stream",
     "text": [
      "huggingface/tokenizers: The current process just got forked, after parallelism has already been used. Disabling parallelism to avoid deadlocks...\n",
      "To disable this warning, you can either:\n",
      "\t- Avoid using `tokenizers` before the fork if possible\n",
      "\t- Explicitly set the environment variable TOKENIZERS_PARALLELISM=(true | false)\n",
      "Collecting lime\n",
      "  Downloading lime-0.2.0.1.tar.gz (275 kB)\n",
      "\u001b[2K     \u001b[90m━━━━━━━━━━━━━━━━━━━━━━━━━━━━━━━━━━━━━━\u001b[0m \u001b[32m275.7/275.7 kB\u001b[0m \u001b[31m10.4 MB/s\u001b[0m eta \u001b[36m0:00:00\u001b[0m\n",
      "\u001b[?25h  Preparing metadata (setup.py) ... \u001b[?25ldone\n",
      "\u001b[?25hRequirement already satisfied: matplotlib in /usr/local/lib/python3.8/dist-packages (from lime) (3.6.2)\n",
      "Requirement already satisfied: numpy in /usr/local/lib/python3.8/dist-packages (from lime) (1.22.2)\n",
      "Requirement already satisfied: scipy in /usr/local/lib/python3.8/dist-packages (from lime) (1.6.3)\n",
      "Requirement already satisfied: tqdm in /usr/local/lib/python3.8/dist-packages (from lime) (4.65.0)\n",
      "Requirement already satisfied: scikit-learn>=0.18 in /usr/local/lib/python3.8/dist-packages (from lime) (0.24.2)\n",
      "Collecting scikit-image>=0.12\n",
      "  Downloading scikit_image-0.20.0-cp38-cp38-manylinux_2_17_x86_64.manylinux2014_x86_64.whl (13.4 MB)\n",
      "\u001b[2K     \u001b[90m━━━━━━━━━━━━━━━━━━━━━━━━━━━━━━━━━━━━━━━━\u001b[0m \u001b[32m13.4/13.4 MB\u001b[0m \u001b[31m10.8 MB/s\u001b[0m eta \u001b[36m0:00:00\u001b[0m00:01\u001b[0m00:01\u001b[0m\n",
      "\u001b[?25hRequirement already satisfied: packaging>=20.0 in /usr/local/lib/python3.8/dist-packages (from scikit-image>=0.12->lime) (22.0)\n",
      "Collecting imageio>=2.4.1\n",
      "  Downloading imageio-2.28.1-py3-none-any.whl (3.4 MB)\n",
      "\u001b[2K     \u001b[90m━━━━━━━━━━━━━━━━━━━━━━━━━━━━━━━━━━━━━━━━\u001b[0m \u001b[32m3.4/3.4 MB\u001b[0m \u001b[31m10.7 MB/s\u001b[0m eta \u001b[36m0:00:00\u001b[0m00:01\u001b[0m00:01\u001b[0m\n",
      "\u001b[?25hCollecting lazy_loader>=0.1\n",
      "  Downloading lazy_loader-0.2-py3-none-any.whl (8.6 kB)\n",
      "Collecting PyWavelets>=1.1.1\n",
      "  Downloading PyWavelets-1.4.1-cp38-cp38-manylinux_2_17_x86_64.manylinux2014_x86_64.whl (6.9 MB)\n",
      "\u001b[2K     \u001b[90m━━━━━━━━━━━━━━━━━━━━━━━━━━━━━━━━━━━━━━━━\u001b[0m \u001b[32m6.9/6.9 MB\u001b[0m \u001b[31m11.0 MB/s\u001b[0m eta \u001b[36m0:00:00\u001b[0m00:01\u001b[0m00:01\u001b[0m\n",
      "\u001b[?25hCollecting tifffile>=2019.7.26\n",
      "  Downloading tifffile-2023.4.12-py3-none-any.whl (219 kB)\n",
      "\u001b[2K     \u001b[90m━━━━━━━━━━━━━━━━━━━━━━━━━━━━━━━━━━━━━━━\u001b[0m \u001b[32m219.4/219.4 kB\u001b[0m \u001b[31m9.5 MB/s\u001b[0m eta \u001b[36m0:00:00\u001b[0m\n",
      "\u001b[?25hRequirement already satisfied: pillow>=9.0.1 in /usr/local/lib/python3.8/dist-packages (from scikit-image>=0.12->lime) (9.3.0)\n",
      "Collecting scipy\n",
      "  Downloading scipy-1.9.1-cp38-cp38-manylinux_2_17_x86_64.manylinux2014_x86_64.whl (43.4 MB)\n",
      "\u001b[2K     \u001b[90m━━━━━━━━━━━━━━━━━━━━━━━━━━━━━━━━━━━━━━━━\u001b[0m \u001b[32m43.4/43.4 MB\u001b[0m \u001b[31m8.9 MB/s\u001b[0m eta \u001b[36m0:00:00\u001b[0m:00:01\u001b[0m00:01\u001b[0m\n",
      "\u001b[?25hCollecting networkx>=2.8\n",
      "  Downloading networkx-3.1-py3-none-any.whl (2.1 MB)\n",
      "\u001b[2K     \u001b[90m━━━━━━━━━━━━━━━━━━━━━━━━━━━━━━━━━━━━━━━━\u001b[0m \u001b[32m2.1/2.1 MB\u001b[0m \u001b[31m10.6 MB/s\u001b[0m eta \u001b[36m0:00:00\u001b[0m00:01\u001b[0m00:01\u001b[0m\n",
      "\u001b[?25hRequirement already satisfied: threadpoolctl>=2.0.0 in /usr/local/lib/python3.8/dist-packages (from scikit-learn>=0.18->lime) (3.1.0)\n",
      "Requirement already satisfied: joblib>=0.11 in /usr/local/lib/python3.8/dist-packages (from scikit-learn>=0.18->lime) (1.2.0)\n",
      "Requirement already satisfied: pyparsing>=2.2.1 in /usr/local/lib/python3.8/dist-packages (from matplotlib->lime) (3.0.9)\n",
      "Requirement already satisfied: contourpy>=1.0.1 in /usr/local/lib/python3.8/dist-packages (from matplotlib->lime) (1.0.6)\n",
      "Requirement already satisfied: kiwisolver>=1.0.1 in /usr/local/lib/python3.8/dist-packages (from matplotlib->lime) (1.4.4)\n",
      "Requirement already satisfied: cycler>=0.10 in /usr/local/lib/python3.8/dist-packages (from matplotlib->lime) (0.11.0)\n",
      "Requirement already satisfied: python-dateutil>=2.7 in /usr/local/lib/python3.8/dist-packages (from matplotlib->lime) (2.8.2)\n",
      "Requirement already satisfied: fonttools>=4.22.0 in /usr/local/lib/python3.8/dist-packages (from matplotlib->lime) (4.38.0)\n",
      "Requirement already satisfied: six>=1.5 in /usr/local/lib/python3.8/dist-packages (from python-dateutil>=2.7->matplotlib->lime) (1.16.0)\n",
      "Building wheels for collected packages: lime\n",
      "  Building wheel for lime (setup.py) ... \u001b[?25ldone\n",
      "\u001b[?25h  Created wheel for lime: filename=lime-0.2.0.1-py3-none-any.whl size=283858 sha256=fa93da2b3e1df2867f2800779837364ef0ac7ad78897d98c5225e187cc95264b\n",
      "  Stored in directory: /root/.cache/pip/wheels/e6/a6/20/cc1e293fcdb67ede666fed293cb895395e7ecceb4467779546\n",
      "Successfully built lime\n",
      "Installing collected packages: tifffile, scipy, PyWavelets, networkx, lazy_loader, imageio, scikit-image, lime\n",
      "  Attempting uninstall: scipy\n",
      "    Found existing installation: scipy 1.6.3\n",
      "    Uninstalling scipy-1.6.3:\n",
      "      Successfully uninstalled scipy-1.6.3\n",
      "  Attempting uninstall: networkx\n",
      "    Found existing installation: networkx 2.6.3\n",
      "    Uninstalling networkx-2.6.3:\n",
      "      Successfully uninstalled networkx-2.6.3\n",
      "Successfully installed PyWavelets-1.4.1 imageio-2.28.1 lazy_loader-0.2 lime-0.2.0.1 networkx-3.1 scikit-image-0.20.0 scipy-1.9.1 tifffile-2023.4.12\n",
      "\u001b[33mWARNING: Running pip as the 'root' user can result in broken permissions and conflicting behaviour with the system package manager. It is recommended to use a virtual environment instead: https://pip.pypa.io/warnings/venv\u001b[0m\u001b[33m\n",
      "\u001b[0m"
     ]
    }
   ],
   "source": [
    "!pip install lime\n",
    "from lime.lime_text import LimeTextExplainer\n",
    "import re"
   ]
  },
  {
   "cell_type": "code",
   "execution_count": 26,
   "id": "b20e6321-2620-401a-80b8-fa8e12886aa7",
   "metadata": {
    "tags": []
   },
   "outputs": [],
   "source": [
    "def predict_proba(arr_text, model, tokenizer, max_len, batch_size):\n",
    "    #processing\n",
    "    encoded = [i.ids for i in tokenizer.encode_batch(arr_text)]\n",
    "    padded = tf.keras.preprocessing.sequence.pad_sequences(encoded, maxlen=max_len,\n",
    "                                                 padding='post')\n",
    "    #prediction\n",
    "    pred=model.predict(padded, batch_size=batch_size)\n",
    "   \n",
    "    return pred"
   ]
  },
  {
   "cell_type": "code",
   "execution_count": 36,
   "id": "f994a760-102e-4381-97a0-51fcee60da45",
   "metadata": {
    "tags": []
   },
   "outputs": [],
   "source": [
    "class LimeExplainer:\n",
    "    def __init__(self, model, tokenizer, mapping, max_len=300, batch_size=512):\n",
    "        self.mapping = mapping\n",
    "        self.n_classes = len(self.mapping)\n",
    "        self.predict_proba = partial(predict_proba, model=model, tokenizer=tokenizer, max_len=max_len,\n",
    "                                    batch_size=batch_size)\n",
    "        self.explainer = LimeTextExplainer(class_names=self.mapping.keys(),\n",
    "                                          bow=False, feature_selection='none',\n",
    "                                          random_state=0)\n",
    "    \n",
    "    def explain(self, text_instances):\n",
    "        all_tokens = []\n",
    "        all_scores = []\n",
    "        all_ratings = []\n",
    "        for text in text_instances:\n",
    "            #use same tokenization as in lime\n",
    "            tokens = re.findall(r'\\w+', text.lower())\n",
    "            order = dict(zip(tokens, list(range(len(tokens)))))\n",
    "            ratings = []\n",
    "            scores = []\n",
    "            try:\n",
    "                explanation = self.explainer.explain_instance(text, self.predict_proba,\n",
    "                                                             top_labels= self.n_classes)\n",
    "                for k, v in self.mapping.items():\n",
    "                    result = explanation.as_list(k)\n",
    "                    result = sorted(result, key=lambda x: order[x[0]])\n",
    "                    result = [i[1] for i in result]\n",
    "                    all_scores.append(result)\n",
    "                    all_tokens.append(tokens)\n",
    "                    all_ratings.append(v)\n",
    "            except:\n",
    "                pass\n",
    "\n",
    "        return all_scores, all_tokens, all_ratings"
   ]
  },
  {
   "cell_type": "code",
   "execution_count": 37,
   "id": "863a7cbe-bf6f-4209-8039-3edc0ec599bd",
   "metadata": {
    "tags": []
   },
   "outputs": [],
   "source": [
    "lime_explainer = LimeExplainer(model, tokenizer, inverse_mapping, 300, 512)"
   ]
  },
  {
   "cell_type": "markdown",
   "id": "b526d3a9-db4b-438f-9655-10e487ad361b",
   "metadata": {},
   "source": [
    "# Actual process"
   ]
  },
  {
   "cell_type": "markdown",
   "id": "0747ac67-7a34-4d31-b1d7-4e4b6c54e1b3",
   "metadata": {},
   "source": [
    "## attention explainer"
   ]
  },
  {
   "cell_type": "code",
   "execution_count": 29,
   "id": "20788c47-b56d-4ad8-9d1c-51b252669c68",
   "metadata": {
    "collapsed": true,
    "jupyter": {
     "outputs_hidden": true
    },
    "tags": []
   },
   "outputs": [
    {
     "name": "stderr",
     "output_type": "stream",
     "text": [
      "  0%|          | 0/41 [00:00<?, ?it/s]2023-05-21 10:51:32.618006: W tensorflow/core/grappler/costs/op_level_cost_estimator.cc:690] Error in PredictCost() for the op: op: \"Softmax\" attr { key: \"T\" value { type: DT_FLOAT } } inputs { dtype: DT_FLOAT shape { unknown_rank: true } } device { type: \"GPU\" vendor: \"NVIDIA\" model: \"NVIDIA RTX A4000\" frequency: 1560 num_cores: 48 environment { key: \"architecture\" value: \"8.6\" } environment { key: \"cuda\" value: \"12000\" } environment { key: \"cudnn\" value: \"8700\" } num_registers: 65536 l1_cache_size: 24576 l2_cache_size: 4194304 shared_memory_size_per_multiprocessor: 102400 memory_size: 14835253248 bandwidth: 448064000 } outputs { dtype: DT_FLOAT shape { unknown_rank: true } }\n",
      "2023-05-21 10:51:33.032948: I tensorflow/compiler/xla/stream_executor/cuda/cuda_dnn.cc:428] Loaded cuDNN version 8700\n"
     ]
    },
    {
     "name": "stdout",
     "output_type": "stream",
     "text": [
      "1/1 [==============================] - 3s 3s/step\n"
     ]
    },
    {
     "name": "stderr",
     "output_type": "stream",
     "text": [
      "2023-05-21 10:51:33.272738: I tensorflow/compiler/xla/stream_executor/cuda/cuda_blas.cc:648] TensorFloat-32 will be used for the matrix multiplication. This will only be logged once.\n",
      "\n",
      "  0%|          | 0/2 [00:00<?, ?it/s]\u001b[A\n",
      "100%|██████████| 2/2 [00:00<00:00,  2.57it/s]\u001b[A\n",
      "  2%|▏         | 1/41 [00:04<02:41,  4.03s/it]"
     ]
    },
    {
     "name": "stdout",
     "output_type": "stream",
     "text": [
      "1/1 [==============================] - 0s 32ms/step\n"
     ]
    },
    {
     "name": "stderr",
     "output_type": "stream",
     "text": [
      "\n",
      "100%|██████████| 1/1 [00:00<00:00, 15.78it/s]\n",
      "  5%|▍         | 2/41 [00:04<01:08,  1.76s/it]"
     ]
    },
    {
     "name": "stdout",
     "output_type": "stream",
     "text": [
      "1/1 [==============================] - 0s 31ms/step\n"
     ]
    },
    {
     "name": "stderr",
     "output_type": "stream",
     "text": [
      "\n",
      "100%|██████████| 3/3 [00:00<00:00, 39.87it/s]\n",
      "  7%|▋         | 3/41 [00:04<00:39,  1.04s/it]"
     ]
    },
    {
     "name": "stdout",
     "output_type": "stream",
     "text": [
      "1/1 [==============================] - 0s 34ms/step\n"
     ]
    },
    {
     "name": "stderr",
     "output_type": "stream",
     "text": [
      "\n",
      "100%|██████████| 3/3 [00:00<00:00, 296.62it/s]\n",
      " 10%|▉         | 4/41 [00:04<00:24,  1.49it/s]"
     ]
    },
    {
     "name": "stdout",
     "output_type": "stream",
     "text": [
      "1/1 [==============================] - 0s 31ms/step\n"
     ]
    },
    {
     "name": "stderr",
     "output_type": "stream",
     "text": [
      "\n",
      "  0%|          | 0/2 [00:00<?, ?it/s]\u001b[A\n",
      "100%|██████████| 2/2 [00:00<00:00, 18.83it/s]\u001b[A\n",
      " 12%|█▏        | 5/41 [00:04<00:18,  1.98it/s]"
     ]
    },
    {
     "name": "stdout",
     "output_type": "stream",
     "text": [
      "1/1 [==============================] - 0s 226ms/step\n"
     ]
    },
    {
     "name": "stderr",
     "output_type": "stream",
     "text": [
      "\n",
      "  0%|          | 0/3 [00:00<?, ?it/s]\u001b[A\n",
      "100%|██████████| 3/3 [00:00<00:00, 10.10it/s]\u001b[A\n",
      " 15%|█▍        | 6/41 [00:05<00:18,  1.86it/s]"
     ]
    },
    {
     "name": "stdout",
     "output_type": "stream",
     "text": [
      "2/2 [==============================] - 0s 20ms/step\n"
     ]
    },
    {
     "name": "stderr",
     "output_type": "stream",
     "text": [
      "\n",
      "  0%|          | 0/3 [00:00<?, ?it/s]\u001b[A\n",
      " 33%|███▎      | 1/3 [00:00<00:01,  1.06it/s]\u001b[A\n",
      " 67%|██████▋   | 2/3 [00:01<00:00,  1.89it/s]\u001b[A\n",
      "100%|██████████| 3/3 [00:16<00:00,  5.44s/it]\u001b[A\n",
      " 17%|█▋        | 7/41 [00:21<03:16,  5.78s/it]"
     ]
    },
    {
     "name": "stdout",
     "output_type": "stream",
     "text": [
      "1/1 [==============================] - 0s 130ms/step\n"
     ]
    },
    {
     "name": "stderr",
     "output_type": "stream",
     "text": [
      "\n",
      "  0%|          | 0/3 [00:00<?, ?it/s]\u001b[A\n",
      " 33%|███▎      | 1/3 [00:00<00:00,  9.24it/s]\u001b[A\n",
      " 67%|██████▋   | 2/3 [00:00<00:00,  3.99it/s]\u001b[A\n",
      "100%|██████████| 3/3 [00:00<00:00,  3.33it/s]\u001b[A\n",
      " 20%|█▉        | 8/41 [00:23<02:22,  4.31s/it]"
     ]
    },
    {
     "name": "stdout",
     "output_type": "stream",
     "text": [
      "4/4 [==============================] - 0s 14ms/step\n"
     ]
    },
    {
     "name": "stderr",
     "output_type": "stream",
     "text": [
      "\n",
      "  0%|          | 0/3 [00:00<?, ?it/s]\u001b[A\n",
      " 33%|███▎      | 1/3 [00:06<00:13,  6.86s/it]\u001b[A\n",
      " 67%|██████▋   | 2/3 [00:07<00:03,  3.20s/it]\u001b[A\n",
      "100%|██████████| 3/3 [00:07<00:00,  2.65s/it]\u001b[A\n",
      " 22%|██▏       | 9/41 [00:31<02:58,  5.59s/it]"
     ]
    },
    {
     "name": "stdout",
     "output_type": "stream",
     "text": [
      "1/1 [==============================] - 0s 42ms/step\n"
     ]
    },
    {
     "name": "stderr",
     "output_type": "stream",
     "text": [
      "\n",
      "  0%|          | 0/3 [00:00<?, ?it/s]\u001b[A\n",
      "100%|██████████| 3/3 [00:00<00:00, 12.74it/s]\u001b[A\n",
      " 24%|██▍       | 10/41 [00:31<02:03,  3.98s/it]"
     ]
    },
    {
     "name": "stdout",
     "output_type": "stream",
     "text": [
      "1/1 [==============================] - 0s 31ms/step\n"
     ]
    },
    {
     "name": "stderr",
     "output_type": "stream",
     "text": [
      "\n",
      "100%|██████████| 2/2 [00:00<00:00, 57.81it/s]\n",
      " 27%|██▋       | 11/41 [00:31<01:24,  2.81s/it]"
     ]
    },
    {
     "name": "stdout",
     "output_type": "stream",
     "text": [
      "1/1 [==============================] - 0s 35ms/step\n"
     ]
    },
    {
     "name": "stderr",
     "output_type": "stream",
     "text": [
      "\n",
      "100%|██████████| 3/3 [00:00<00:00, 137.29it/s]\n",
      " 29%|██▉       | 12/41 [00:32<00:57,  1.99s/it]"
     ]
    },
    {
     "name": "stdout",
     "output_type": "stream",
     "text": [
      "1/1 [==============================] - 0s 262ms/step\n"
     ]
    },
    {
     "name": "stderr",
     "output_type": "stream",
     "text": [
      "\n",
      "  0%|          | 0/3 [00:00<?, ?it/s]\u001b[A\n",
      " 33%|███▎      | 1/3 [00:00<00:00,  8.14it/s]\u001b[A\n",
      "100%|██████████| 3/3 [00:00<00:00,  9.53it/s]\u001b[A\n",
      " 32%|███▏      | 13/41 [00:32<00:44,  1.59s/it]"
     ]
    },
    {
     "name": "stdout",
     "output_type": "stream",
     "text": [
      "1/1 [==============================] - 0s 35ms/step\n"
     ]
    },
    {
     "name": "stderr",
     "output_type": "stream",
     "text": [
      "\n",
      "  0%|          | 0/3 [00:00<?, ?it/s]\u001b[A\n",
      " 33%|███▎      | 1/3 [00:00<00:00,  2.93it/s]\u001b[A\n",
      "100%|██████████| 3/3 [00:00<00:00,  5.72it/s]\u001b[A\n",
      " 34%|███▍      | 14/41 [00:33<00:35,  1.30s/it]"
     ]
    },
    {
     "name": "stdout",
     "output_type": "stream",
     "text": [
      "1/1 [==============================] - 0s 143ms/step\n"
     ]
    },
    {
     "name": "stderr",
     "output_type": "stream",
     "text": [
      "\n",
      "  0%|          | 0/2 [00:00<?, ?it/s]\u001b[A\n",
      " 50%|█████     | 1/2 [00:01<00:01,  1.58s/it]\u001b[A\n",
      "100%|██████████| 2/2 [00:01<00:00,  1.15it/s]\u001b[A\n",
      " 37%|███▋      | 15/41 [00:35<00:39,  1.51s/it]"
     ]
    },
    {
     "name": "stdout",
     "output_type": "stream",
     "text": [
      "1/1 [==============================] - 0s 39ms/step\n"
     ]
    },
    {
     "name": "stderr",
     "output_type": "stream",
     "text": [
      "\n",
      "  0%|          | 0/2 [00:00<?, ?it/s]\u001b[A\n",
      "100%|██████████| 2/2 [00:03<00:00,  1.83s/it]\u001b[A\n",
      " 39%|███▉      | 16/41 [00:39<00:54,  2.20s/it]"
     ]
    },
    {
     "name": "stdout",
     "output_type": "stream",
     "text": [
      "1/1 [==============================] - 0s 79ms/step\n"
     ]
    },
    {
     "name": "stderr",
     "output_type": "stream",
     "text": [
      "\n",
      "  0%|          | 0/3 [00:00<?, ?it/s]\u001b[A\n",
      "100%|██████████| 3/3 [00:01<00:00,  2.00it/s]\u001b[A\n",
      " 41%|████▏     | 17/41 [00:40<00:48,  2.04s/it]"
     ]
    },
    {
     "name": "stdout",
     "output_type": "stream",
     "text": [
      "2/2 [==============================] - 0s 21ms/step\n"
     ]
    },
    {
     "name": "stderr",
     "output_type": "stream",
     "text": [
      "\n",
      "  0%|          | 0/3 [00:00<?, ?it/s]\u001b[A\n",
      " 33%|███▎      | 1/3 [02:25<04:51, 145.92s/it]\u001b[A\n",
      " 67%|██████▋   | 2/3 [02:26<01:00, 60.28s/it] \u001b[A\n",
      "100%|██████████| 3/3 [02:26<00:00, 48.82s/it]\u001b[A\n",
      " 44%|████▍     | 18/41 [03:07<17:27, 45.56s/it]"
     ]
    },
    {
     "name": "stdout",
     "output_type": "stream",
     "text": [
      "1/1 [==============================] - 0s 50ms/step\n"
     ]
    },
    {
     "name": "stderr",
     "output_type": "stream",
     "text": [
      "\n",
      "  0%|          | 0/1 [00:00<?, ?it/s]\u001b[A\n",
      "100%|██████████| 1/1 [00:03<00:00,  3.64s/it]\u001b[A\n",
      " 46%|████▋     | 19/41 [03:11<12:06, 33.01s/it]"
     ]
    },
    {
     "name": "stdout",
     "output_type": "stream",
     "text": [
      "1/1 [==============================] - 0s 37ms/step\n"
     ]
    },
    {
     "name": "stderr",
     "output_type": "stream",
     "text": [
      "\n",
      "  0%|          | 0/2 [00:00<?, ?it/s]\u001b[A\n",
      " 50%|█████     | 1/2 [00:00<00:00,  2.90it/s]\u001b[A\n",
      "100%|██████████| 2/2 [00:03<00:00,  1.57s/it]\u001b[A\n",
      " 49%|████▉     | 20/41 [03:14<08:25, 24.08s/it]"
     ]
    },
    {
     "name": "stdout",
     "output_type": "stream",
     "text": [
      "1/1 [==============================] - 0s 39ms/step\n"
     ]
    },
    {
     "name": "stderr",
     "output_type": "stream",
     "text": [
      "\n",
      "  0%|          | 0/3 [00:00<?, ?it/s]\u001b[A\n",
      " 33%|███▎      | 1/3 [00:00<00:00,  3.62it/s]\u001b[A\n",
      "100%|██████████| 3/3 [00:01<00:00,  2.02it/s]\u001b[A\n",
      " 51%|█████     | 21/41 [03:16<05:46, 17.34s/it]"
     ]
    },
    {
     "name": "stdout",
     "output_type": "stream",
     "text": [
      "2/2 [==============================] - 0s 20ms/step\n"
     ]
    },
    {
     "name": "stderr",
     "output_type": "stream",
     "text": [
      "\n",
      "  0%|          | 0/3 [00:00<?, ?it/s]\u001b[A\n",
      " 33%|███▎      | 1/3 [01:14<02:28, 74.31s/it]\u001b[A\n",
      " 67%|██████▋   | 2/3 [01:14<00:30, 30.67s/it]\u001b[A\n",
      "100%|██████████| 3/3 [01:15<00:00, 25.24s/it]\u001b[A\n",
      " 54%|█████▎    | 22/41 [04:32<11:04, 34.96s/it]"
     ]
    },
    {
     "name": "stdout",
     "output_type": "stream",
     "text": [
      "1/1 [==============================] - 0s 52ms/step\n"
     ]
    },
    {
     "name": "stderr",
     "output_type": "stream",
     "text": [
      "\n",
      "  0%|          | 0/3 [00:00<?, ?it/s]\u001b[A\n",
      " 33%|███▎      | 1/3 [00:02<00:04,  2.48s/it]\u001b[A\n",
      " 67%|██████▋   | 2/3 [00:03<00:01,  1.35s/it]\u001b[A\n",
      "100%|██████████| 3/3 [00:03<00:00,  1.10s/it]\u001b[A\n",
      " 56%|█████▌    | 23/41 [04:35<07:39, 25.51s/it]"
     ]
    },
    {
     "name": "stdout",
     "output_type": "stream",
     "text": [
      "1/1 [==============================] - 0s 45ms/step\n"
     ]
    },
    {
     "name": "stderr",
     "output_type": "stream",
     "text": [
      "\n",
      "  0%|          | 0/3 [00:00<?, ?it/s]\u001b[A\n",
      " 33%|███▎      | 1/3 [00:08<00:16,  8.03s/it]\u001b[A\n",
      "100%|██████████| 3/3 [00:08<00:00,  2.85s/it]\u001b[A\n",
      " 59%|█████▊    | 24/41 [04:44<05:48, 20.47s/it]"
     ]
    },
    {
     "name": "stdout",
     "output_type": "stream",
     "text": [
      "1/1 [==============================] - 0s 42ms/step\n"
     ]
    },
    {
     "name": "stderr",
     "output_type": "stream",
     "text": [
      "\n",
      "  0%|          | 0/3 [00:00<?, ?it/s]\u001b[A\n",
      " 33%|███▎      | 1/3 [00:01<00:02,  1.08s/it]\u001b[A\n",
      "100%|██████████| 3/3 [00:03<00:00,  1.07s/it]\u001b[A\n",
      " 61%|██████    | 25/41 [04:48<04:05, 15.34s/it]"
     ]
    },
    {
     "name": "stdout",
     "output_type": "stream",
     "text": [
      "3/3 [==============================] - 0s 23ms/step\n"
     ]
    },
    {
     "name": "stderr",
     "output_type": "stream",
     "text": [
      "\n",
      "  0%|          | 0/3 [00:00<?, ?it/s]\u001b[A\n",
      " 33%|███▎      | 1/3 [00:21<00:42, 21.19s/it]\u001b[A\n",
      " 67%|██████▋   | 2/3 [01:41<00:55, 55.69s/it]\u001b[A\n",
      "100%|██████████| 3/3 [02:00<00:00, 40.17s/it]\u001b[A\n",
      " 63%|██████▎   | 26/41 [06:48<11:45, 47.03s/it]"
     ]
    },
    {
     "name": "stdout",
     "output_type": "stream",
     "text": [
      "1/1 [==============================] - 0s 53ms/step\n"
     ]
    },
    {
     "name": "stderr",
     "output_type": "stream",
     "text": [
      "\n",
      "  0%|          | 0/2 [00:00<?, ?it/s]\u001b[A\n",
      "100%|██████████| 2/2 [00:01<00:00,  1.51it/s]\u001b[A\n",
      " 66%|██████▌   | 27/41 [06:50<07:47, 33.37s/it]"
     ]
    },
    {
     "name": "stdout",
     "output_type": "stream",
     "text": [
      "2/2 [==============================] - 0s 19ms/step\n"
     ]
    },
    {
     "name": "stderr",
     "output_type": "stream",
     "text": [
      "\n",
      "  0%|          | 0/3 [00:00<?, ?it/s]\u001b[A\n",
      " 33%|███▎      | 1/3 [00:04<00:09,  4.95s/it]\u001b[A\n",
      " 67%|██████▋   | 2/3 [00:05<00:02,  2.10s/it]\u001b[A\n",
      "100%|██████████| 3/3 [00:05<00:00,  1.77s/it]\u001b[A\n",
      " 68%|██████▊   | 28/41 [06:55<05:25, 25.01s/it]"
     ]
    },
    {
     "name": "stdout",
     "output_type": "stream",
     "text": [
      "5/5 [==============================] - 0s 16ms/step\n"
     ]
    },
    {
     "name": "stderr",
     "output_type": "stream",
     "text": [
      "\n",
      "  0%|          | 0/3 [00:00<?, ?it/s]\u001b[A\n",
      " 33%|███▎      | 1/3 [03:15<06:31, 195.56s/it]\u001b[A\n",
      " 67%|██████▋   | 2/3 [03:16<01:21, 81.13s/it] \u001b[A\n",
      "100%|██████████| 3/3 [03:16<00:00, 65.56s/it]\u001b[A\n",
      " 71%|███████   | 29/41 [10:13<15:20, 76.73s/it]"
     ]
    },
    {
     "name": "stdout",
     "output_type": "stream",
     "text": [
      "1/1 [==============================] - 0s 44ms/step\n"
     ]
    },
    {
     "name": "stderr",
     "output_type": "stream",
     "text": [
      "\n",
      "  0%|          | 0/3 [00:00<?, ?it/s]\u001b[A\n",
      "100%|██████████| 3/3 [00:00<00:00, 13.41it/s]\u001b[A\n",
      " 73%|███████▎  | 30/41 [10:13<09:51, 53.81s/it]"
     ]
    },
    {
     "name": "stdout",
     "output_type": "stream",
     "text": [
      "1/1 [==============================] - 0s 93ms/step\n"
     ]
    },
    {
     "name": "stderr",
     "output_type": "stream",
     "text": [
      "\n",
      "  0%|          | 0/3 [00:00<?, ?it/s]\u001b[A\n",
      "100%|██████████| 3/3 [00:00<00:00,  8.34it/s]\u001b[A\n",
      " 76%|███████▌  | 31/41 [10:14<06:18, 37.83s/it]"
     ]
    },
    {
     "name": "stdout",
     "output_type": "stream",
     "text": [
      "2/2 [==============================] - 0s 22ms/step\n"
     ]
    },
    {
     "name": "stderr",
     "output_type": "stream",
     "text": [
      "\n",
      "  0%|          | 0/3 [00:00<?, ?it/s]\u001b[A\n",
      " 33%|███▎      | 1/3 [00:07<00:14,  7.36s/it]\u001b[A\n",
      "100%|██████████| 3/3 [00:15<00:00,  5.02s/it]\u001b[A\n",
      " 78%|███████▊  | 32/41 [10:29<04:39, 31.07s/it]"
     ]
    },
    {
     "name": "stdout",
     "output_type": "stream",
     "text": [
      "1/1 [==============================] - 0s 191ms/step\n"
     ]
    },
    {
     "name": "stderr",
     "output_type": "stream",
     "text": [
      "\n",
      "  0%|          | 0/3 [00:00<?, ?it/s]\u001b[A\n",
      " 33%|███▎      | 1/3 [00:00<00:01,  1.81it/s]\u001b[A\n",
      "100%|██████████| 3/3 [00:00<00:00,  3.54it/s]\u001b[A\n",
      " 80%|████████  | 33/41 [10:30<02:56, 22.09s/it]"
     ]
    },
    {
     "name": "stdout",
     "output_type": "stream",
     "text": [
      "1/1 [==============================] - 0s 218ms/step\n"
     ]
    },
    {
     "name": "stderr",
     "output_type": "stream",
     "text": [
      "\n",
      "  0%|          | 0/3 [00:00<?, ?it/s]\u001b[A\n",
      " 33%|███▎      | 1/3 [00:01<00:02,  1.13s/it]\u001b[A\n",
      "100%|██████████| 3/3 [00:01<00:00,  2.25it/s]\u001b[A\n",
      " 83%|████████▎ | 34/41 [10:32<01:51, 15.96s/it]"
     ]
    },
    {
     "name": "stdout",
     "output_type": "stream",
     "text": [
      "1/1 [==============================] - 0s 40ms/step\n"
     ]
    },
    {
     "name": "stderr",
     "output_type": "stream",
     "text": [
      "\n",
      "  0%|          | 0/3 [00:00<?, ?it/s]\u001b[A\n",
      "100%|██████████| 3/3 [00:00<00:00, 10.30it/s]\u001b[A\n",
      " 85%|████████▌ | 35/41 [10:32<01:07, 11.29s/it]"
     ]
    },
    {
     "name": "stdout",
     "output_type": "stream",
     "text": [
      "1/1 [==============================] - 0s 36ms/step\n"
     ]
    },
    {
     "name": "stderr",
     "output_type": "stream",
     "text": [
      "\n",
      "  0%|          | 0/3 [00:00<?, ?it/s]\u001b[A\n",
      "100%|██████████| 3/3 [00:00<00:00, 18.13it/s]\u001b[A\n",
      " 88%|████████▊ | 36/41 [10:33<00:39,  7.99s/it]"
     ]
    },
    {
     "name": "stdout",
     "output_type": "stream",
     "text": [
      "1/1 [==============================] - 0s 237ms/step\n"
     ]
    },
    {
     "name": "stderr",
     "output_type": "stream",
     "text": [
      "\n",
      "  0%|          | 0/2 [00:00<?, ?it/s]\u001b[A\n",
      "100%|██████████| 2/2 [00:01<00:00,  1.19it/s]\u001b[A\n",
      " 90%|█████████ | 37/41 [10:35<00:24,  6.19s/it]"
     ]
    },
    {
     "name": "stdout",
     "output_type": "stream",
     "text": [
      "3/3 [==============================] - 0s 18ms/step\n"
     ]
    },
    {
     "name": "stderr",
     "output_type": "stream",
     "text": [
      "\n",
      "  0%|          | 0/3 [00:00<?, ?it/s]\u001b[A\n",
      " 33%|███▎      | 1/3 [00:16<00:32, 16.33s/it]\u001b[A\n",
      " 67%|██████▋   | 2/3 [00:33<00:16, 16.91s/it]\u001b[A\n",
      "100%|██████████| 3/3 [00:34<00:00, 11.34s/it]\u001b[A\n",
      " 93%|█████████▎| 38/41 [11:09<00:43, 14.65s/it]"
     ]
    },
    {
     "name": "stdout",
     "output_type": "stream",
     "text": [
      "1/1 [==============================] - 0s 51ms/step\n"
     ]
    },
    {
     "name": "stderr",
     "output_type": "stream",
     "text": [
      "\n",
      "  0%|          | 0/3 [00:00<?, ?it/s]\u001b[A\n",
      "100%|██████████| 3/3 [00:01<00:00,  1.69it/s]\u001b[A\n",
      " 95%|█████████▌| 39/41 [11:11<00:21, 10.83s/it]"
     ]
    },
    {
     "name": "stdout",
     "output_type": "stream",
     "text": [
      "1/1 [==============================] - 0s 41ms/step\n"
     ]
    },
    {
     "name": "stderr",
     "output_type": "stream",
     "text": [
      "\n",
      "  0%|          | 0/3 [00:00<?, ?it/s]\u001b[A\n",
      " 33%|███▎      | 1/3 [00:07<00:15,  7.79s/it]\u001b[A\n",
      "100%|██████████| 3/3 [00:08<00:00,  2.72s/it]\u001b[A\n",
      " 98%|█████████▊| 40/41 [11:19<00:10, 10.08s/it]"
     ]
    },
    {
     "name": "stdout",
     "output_type": "stream",
     "text": [
      "2/2 [==============================] - 0s 10ms/step\n"
     ]
    },
    {
     "name": "stderr",
     "output_type": "stream",
     "text": [
      "\n",
      "  0%|          | 0/3 [00:00<?, ?it/s]\u001b[A\n",
      " 33%|███▎      | 1/3 [00:23<00:46, 23.38s/it]\u001b[A\n",
      "100%|██████████| 3/3 [00:23<00:00,  7.87s/it]\u001b[A\n",
      "100%|██████████| 41/41 [11:43<00:00, 17.16s/it]\n"
     ]
    }
   ],
   "source": [
    "attention_based_scores = []\n",
    "for i in tqdm(padded):\n",
    "    scores, tokens, ratings = attention_explainer.explain(i)\n",
    "    aggregated = aggregate_results(scores, tokens, ratings, n_gram=4, \n",
    "                  func_agg_n_gram='mean',\n",
    "                  func_agg_overall='mean',\n",
    "                  diversify=2,\n",
    "                 top_n=20)\n",
    "    attention_based_scores.append(aggregated)"
   ]
  },
  {
   "cell_type": "code",
   "execution_count": 30,
   "id": "d410ed2b-eee7-4a43-b4bb-52e33d803daf",
   "metadata": {
    "tags": []
   },
   "outputs": [
    {
     "data": {
      "text/plain": [
       "{'positive': [('супер кашу мої діти', 0.186240304261446),\n",
       "  (', я задоволена !', 0.17827390553429723),\n",
       "  ('малюку дуже подобається )', 0.14767705742269754),\n",
       "  ('каша . гербер як', 0.13407266419380903),\n",
       "  ('бренд . рекомендую кашу', 0.1278467159718275),\n",
       "  ('смачний . дитині подобалося', 0.12729751784354448),\n",
       "  ('хороша , дитина їсть', 0.11834514420479536),\n",
       "  ('сподобалася , зручна ,', 0.11133681703358889),\n",
       "  ('ціна на акції найвигідніша', 0.10214434657245874),\n",
       "  ('моєму синочку дуже смакує', 0.0991404689848423),\n",
       "  ('я задоволений складом ,', 0.09055655682459474),\n",
       "  ('! ну дуже смакує', 0.0891364123672247),\n",
       "  ('смакує . дякуємо .', 0.0875660665333271),\n",
       "  ('! склад хороший .', 0.08446752466261387),\n",
       "  (', ну дуууже смачно', 0.0837143522221595),\n",
       "  ('+ корисна . моєму', 0.08303668349981308),\n",
       "  ('смачно , добре розчиняється', 0.07944355579093099),\n",
       "  ('склад і перевірений бренд', 0.07347284583374858),\n",
       "  ('. каша дуже смачно', 0.072933086194098),\n",
       "  ('. смак дуже смачний', 0.07284064637497067)],\n",
       " 'negative': [('дитина відмовилася їсти кашу', 0.04618609184399247)]}"
      ]
     },
     "execution_count": 30,
     "metadata": {},
     "output_type": "execute_result"
    }
   ],
   "source": [
    "attention_based_scores[0]"
   ]
  },
  {
   "cell_type": "code",
   "execution_count": 31,
   "id": "d7208d06-df87-4523-8e6a-29851f1d5203",
   "metadata": {
    "tags": []
   },
   "outputs": [],
   "source": [
    "attention_explanation = pd.DataFrame(attention_based_scores)"
   ]
  },
  {
   "cell_type": "code",
   "execution_count": 32,
   "id": "51b52e0c-b86a-4465-a06a-e78df9f0b196",
   "metadata": {
    "tags": []
   },
   "outputs": [],
   "source": [
    "attention_explanation = pd.concat([df_for_ex_ai, attention_explanation], axis=1)"
   ]
  },
  {
   "cell_type": "code",
   "execution_count": 33,
   "id": "847048d0-3124-493e-9c18-16f0e51cdb5e",
   "metadata": {
    "tags": []
   },
   "outputs": [],
   "source": [
    "attention_explanation.to_csv('/home/user/files_for_research_Vova/attention_explanation_rating_sentiment.csv',\n",
    "                            index=False)"
   ]
  },
  {
   "cell_type": "markdown",
   "id": "f153d81e-a09c-4e03-be9d-deaeaa788786",
   "metadata": {},
   "source": [
    "## lime explainer"
   ]
  },
  {
   "cell_type": "code",
   "execution_count": 38,
   "id": "631567b0-e814-4fa0-8e6c-d02120ed24f6",
   "metadata": {
    "collapsed": true,
    "jupyter": {
     "outputs_hidden": true
    },
    "tags": []
   },
   "outputs": [
    {
     "name": "stderr",
     "output_type": "stream",
     "text": [
      "  0%|          | 0/41 [00:00<?, ?it/s]"
     ]
    },
    {
     "name": "stdout",
     "output_type": "stream",
     "text": [
      "10/10 [==============================] - 0s 19ms/step\n",
      "10/10 [==============================] - 0s 18ms/step\n",
      "10/10 [==============================] - 0s 18ms/step\n",
      "10/10 [==============================] - 0s 22ms/step\n",
      "10/10 [==============================] - 0s 21ms/step\n",
      "10/10 [==============================] - 0s 23ms/step\n",
      "10/10 [==============================] - 0s 27ms/step\n",
      "10/10 [==============================] - 0s 20ms/step\n",
      "10/10 [==============================] - 0s 21ms/step\n",
      "10/10 [==============================] - 0s 20ms/step\n",
      "10/10 [==============================] - 0s 22ms/step\n",
      "10/10 [==============================] - 0s 19ms/step\n",
      "10/10 [==============================] - 0s 15ms/step\n",
      "10/10 [==============================] - 0s 22ms/step\n",
      "10/10 [==============================] - 0s 21ms/step\n",
      "10/10 [==============================] - 0s 27ms/step\n",
      "10/10 [==============================] - 0s 21ms/step\n",
      "10/10 [==============================] - 0s 20ms/step\n",
      "10/10 [==============================] - 0s 20ms/step\n",
      "10/10 [==============================] - 0s 20ms/step\n",
      "10/10 [==============================] - 0s 21ms/step\n",
      "10/10 [==============================] - 3s 311ms/step\n",
      "10/10 [==============================] - 0s 20ms/step\n",
      "10/10 [==============================] - 3s 306ms/step\n",
      "10/10 [==============================] - 0s 23ms/step\n",
      "10/10 [==============================] - 3s 278ms/step\n",
      "10/10 [==============================] - 0s 19ms/step\n",
      "10/10 [==============================] - 0s 20ms/step\n",
      "10/10 [==============================] - 0s 18ms/step\n",
      "10/10 [==============================] - 0s 16ms/step\n"
     ]
    },
    {
     "name": "stderr",
     "output_type": "stream",
     "text": [
      "\n",
      "  0%|          | 0/3 [00:00<?, ?it/s]\u001b[A\n",
      " 33%|███▎      | 1/3 [00:00<00:01,  1.93it/s]\u001b[A\n",
      " 67%|██████▋   | 2/3 [00:01<00:00,  1.95it/s]\u001b[A\n",
      "100%|██████████| 3/3 [00:01<00:00,  2.00it/s]\u001b[A\n",
      "  2%|▏         | 1/41 [00:40<27:11, 40.78s/it]"
     ]
    },
    {
     "name": "stdout",
     "output_type": "stream",
     "text": [
      "10/10 [==============================] - 0s 19ms/step\n",
      "10/10 [==============================] - 3s 309ms/step\n",
      "10/10 [==============================] - 0s 20ms/step\n",
      "10/10 [==============================] - 0s 21ms/step\n",
      "10/10 [==============================] - 3s 307ms/step\n",
      "10/10 [==============================] - 0s 20ms/step\n",
      "10/10 [==============================] - 0s 23ms/step\n",
      "10/10 [==============================] - 3s 307ms/step\n",
      "10/10 [==============================] - 0s 18ms/step\n",
      "10/10 [==============================] - 0s 19ms/step\n",
      "10/10 [==============================] - 0s 19ms/step\n",
      "10/10 [==============================] - 0s 17ms/step\n",
      "10/10 [==============================] - 0s 19ms/step\n",
      "10/10 [==============================] - 0s 19ms/step\n",
      "10/10 [==============================] - 0s 17ms/step\n",
      "10/10 [==============================] - 0s 18ms/step\n"
     ]
    },
    {
     "name": "stderr",
     "output_type": "stream",
     "text": [
      "\n",
      "  0%|          | 0/3 [00:00<?, ?it/s]\u001b[A\n",
      "100%|██████████| 3/3 [00:00<00:00, 19.48it/s]\u001b[A\n",
      "  5%|▍         | 2/41 [01:04<20:05, 30.90s/it]"
     ]
    },
    {
     "name": "stdout",
     "output_type": "stream",
     "text": [
      "10/10 [==============================] - 0s 18ms/step\n",
      "10/10 [==============================] - 3s 305ms/step\n",
      "10/10 [==============================] - 0s 20ms/step\n",
      "10/10 [==============================] - 0s 22ms/step\n",
      "10/10 [==============================] - 0s 19ms/step\n",
      "10/10 [==============================] - 0s 19ms/step\n",
      "10/10 [==============================] - 0s 22ms/step\n",
      "10/10 [==============================] - 0s 19ms/step\n",
      "10/10 [==============================] - 0s 25ms/step\n",
      "10/10 [==============================] - 0s 19ms/step\n",
      "10/10 [==============================] - 0s 16ms/step\n",
      "10/10 [==============================] - 0s 20ms/step\n",
      "10/10 [==============================] - 0s 18ms/step\n",
      "10/10 [==============================] - 0s 19ms/step\n",
      "10/10 [==============================] - 0s 21ms/step\n",
      "10/10 [==============================] - 0s 23ms/step\n",
      "10/10 [==============================] - 3s 311ms/step\n"
     ]
    },
    {
     "name": "stderr",
     "output_type": "stream",
     "text": [
      "\n",
      "  0%|          | 0/3 [00:00<?, ?it/s]\u001b[A\n",
      "100%|██████████| 3/3 [00:00<00:00, 10.33it/s]\u001b[A\n",
      "  7%|▋         | 3/41 [01:27<17:18, 27.34s/it]"
     ]
    },
    {
     "name": "stdout",
     "output_type": "stream",
     "text": [
      "10/10 [==============================] - 3s 300ms/step\n",
      "10/10 [==============================] - 0s 19ms/step\n",
      "10/10 [==============================] - 0s 20ms/step\n",
      "10/10 [==============================] - 0s 21ms/step\n",
      "10/10 [==============================] - 0s 17ms/step\n",
      "10/10 [==============================] - 0s 18ms/step\n",
      "10/10 [==============================] - 0s 24ms/step\n",
      "10/10 [==============================] - 0s 21ms/step\n",
      "10/10 [==============================] - 0s 19ms/step\n",
      "10/10 [==============================] - 0s 19ms/step\n",
      "10/10 [==============================] - 0s 19ms/step\n"
     ]
    },
    {
     "name": "stderr",
     "output_type": "stream",
     "text": [
      "\n",
      "100%|██████████| 3/3 [00:00<00:00, 42.81it/s]\n",
      " 10%|▉         | 4/41 [01:41<13:24, 21.74s/it]"
     ]
    },
    {
     "name": "stdout",
     "output_type": "stream",
     "text": [
      "10/10 [==============================] - 0s 23ms/step\n",
      "10/10 [==============================] - 0s 19ms/step\n",
      "10/10 [==============================] - 0s 21ms/step\n",
      "10/10 [==============================] - 0s 24ms/step\n",
      "10/10 [==============================] - 0s 19ms/step\n",
      "10/10 [==============================] - 0s 17ms/step\n",
      "10/10 [==============================] - 0s 21ms/step\n",
      "10/10 [==============================] - 0s 20ms/step\n",
      "10/10 [==============================] - 0s 24ms/step\n",
      "10/10 [==============================] - 0s 22ms/step\n",
      "10/10 [==============================] - 0s 19ms/step\n",
      "10/10 [==============================] - 0s 20ms/step\n",
      "10/10 [==============================] - 0s 20ms/step\n",
      "10/10 [==============================] - 0s 17ms/step\n",
      "10/10 [==============================] - 0s 20ms/step\n",
      "10/10 [==============================] - 0s 18ms/step\n",
      "10/10 [==============================] - 0s 20ms/step\n"
     ]
    },
    {
     "name": "stderr",
     "output_type": "stream",
     "text": [
      "\n",
      "  0%|          | 0/3 [00:00<?, ?it/s]\u001b[A\n",
      " 33%|███▎      | 1/3 [00:00<00:00,  9.11it/s]\u001b[A\n",
      "100%|██████████| 3/3 [00:00<00:00, 11.48it/s]\u001b[A\n",
      " 12%|█▏        | 5/41 [01:58<12:11, 20.32s/it]"
     ]
    },
    {
     "name": "stdout",
     "output_type": "stream",
     "text": [
      "10/10 [==============================] - 0s 23ms/step\n",
      "10/10 [==============================] - 3s 305ms/step\n",
      "10/10 [==============================] - 0s 33ms/step\n",
      "10/10 [==============================] - 0s 21ms/step\n",
      "10/10 [==============================] - 0s 21ms/step\n",
      "10/10 [==============================] - 0s 19ms/step\n",
      "10/10 [==============================] - 3s 249ms/step\n",
      "10/10 [==============================] - 3s 249ms/step\n",
      "10/10 [==============================] - 0s 22ms/step\n",
      "10/10 [==============================] - 0s 17ms/step\n",
      "10/10 [==============================] - 0s 19ms/step\n",
      "10/10 [==============================] - 0s 19ms/step\n",
      "10/10 [==============================] - 3s 305ms/step\n",
      "10/10 [==============================] - 0s 24ms/step\n",
      "10/10 [==============================] - 0s 17ms/step\n",
      "10/10 [==============================] - 0s 28ms/step\n",
      "10/10 [==============================] - 0s 19ms/step\n",
      "10/10 [==============================] - 0s 22ms/step\n",
      "10/10 [==============================] - 0s 23ms/step\n"
     ]
    },
    {
     "name": "stderr",
     "output_type": "stream",
     "text": [
      "\n",
      "  0%|          | 0/3 [00:00<?, ?it/s]\u001b[A\n",
      " 33%|███▎      | 1/3 [00:00<00:00,  2.30it/s]\u001b[A\n",
      " 67%|██████▋   | 2/3 [00:00<00:00,  2.31it/s]\u001b[A\n",
      "100%|██████████| 3/3 [00:01<00:00,  2.28it/s]\u001b[A\n",
      " 15%|█▍        | 6/41 [02:29<13:59, 23.99s/it]"
     ]
    },
    {
     "name": "stdout",
     "output_type": "stream",
     "text": [
      "10/10 [==============================] - 3s 255ms/step\n",
      "10/10 [==============================] - 1s 43ms/step\n",
      "10/10 [==============================] - 0s 18ms/step\n",
      "10/10 [==============================] - 3s 262ms/step\n",
      "10/10 [==============================] - 0s 27ms/step\n",
      "10/10 [==============================] - 0s 23ms/step\n",
      "10/10 [==============================] - 0s 26ms/step\n",
      "10/10 [==============================] - 0s 18ms/step\n",
      "10/10 [==============================] - 0s 34ms/step\n",
      "10/10 [==============================] - 0s 23ms/step\n",
      "10/10 [==============================] - 0s 18ms/step\n",
      "10/10 [==============================] - 0s 17ms/step\n",
      "10/10 [==============================] - 0s 21ms/step\n",
      "10/10 [==============================] - 0s 22ms/step\n",
      "10/10 [==============================] - 0s 25ms/step\n",
      "10/10 [==============================] - 0s 24ms/step\n",
      "10/10 [==============================] - 0s 17ms/step\n",
      "10/10 [==============================] - 0s 20ms/step\n",
      "10/10 [==============================] - 0s 26ms/step\n",
      "10/10 [==============================] - 0s 19ms/step\n",
      "10/10 [==============================] - 0s 18ms/step\n",
      "10/10 [==============================] - 0s 30ms/step\n",
      "10/10 [==============================] - 0s 21ms/step\n",
      "10/10 [==============================] - 0s 20ms/step\n",
      "10/10 [==============================] - 0s 28ms/step\n",
      "10/10 [==============================] - 0s 22ms/step\n",
      "10/10 [==============================] - 0s 23ms/step\n",
      "10/10 [==============================] - 0s 40ms/step\n",
      "10/10 [==============================] - 0s 21ms/step\n",
      "10/10 [==============================] - 0s 19ms/step\n",
      "10/10 [==============================] - 0s 26ms/step\n",
      "10/10 [==============================] - 0s 19ms/step\n",
      "10/10 [==============================] - 0s 27ms/step\n",
      "10/10 [==============================] - 0s 17ms/step\n",
      "10/10 [==============================] - 0s 20ms/step\n",
      "10/10 [==============================] - 0s 28ms/step\n",
      "10/10 [==============================] - 3s 254ms/step\n",
      "10/10 [==============================] - 0s 25ms/step\n",
      "10/10 [==============================] - 0s 19ms/step\n",
      "10/10 [==============================] - 0s 22ms/step\n",
      "10/10 [==============================] - 0s 32ms/step\n",
      "10/10 [==============================] - 0s 24ms/step\n",
      "10/10 [==============================] - 0s 20ms/step\n",
      "10/10 [==============================] - 0s 19ms/step\n",
      "10/10 [==============================] - 0s 35ms/step\n",
      "10/10 [==============================] - 0s 18ms/step\n",
      "10/10 [==============================] - 0s 25ms/step\n",
      "10/10 [==============================] - 0s 20ms/step\n"
     ]
    },
    {
     "name": "stderr",
     "output_type": "stream",
     "text": [
      "\n",
      "  0%|          | 0/3 [00:00<?, ?it/s]\u001b[A\n",
      " 33%|███▎      | 1/3 [00:35<01:10, 35.12s/it]\u001b[A\n",
      " 67%|██████▋   | 2/3 [01:20<00:41, 41.36s/it]\u001b[A\n",
      "100%|██████████| 3/3 [02:11<00:00, 43.75s/it]\u001b[A\n",
      " 17%|█▋        | 7/41 [05:49<46:03, 81.27s/it]"
     ]
    },
    {
     "name": "stdout",
     "output_type": "stream",
     "text": [
      "10/10 [==============================] - 0s 21ms/step\n",
      "10/10 [==============================] - 0s 34ms/step\n",
      "10/10 [==============================] - 0s 21ms/step\n",
      "10/10 [==============================] - 0s 25ms/step\n",
      "10/10 [==============================] - 0s 21ms/step\n",
      "10/10 [==============================] - 0s 23ms/step\n",
      "10/10 [==============================] - 0s 18ms/step\n",
      "10/10 [==============================] - 0s 25ms/step\n",
      "10/10 [==============================] - 0s 19ms/step\n",
      "10/10 [==============================] - 0s 19ms/step\n",
      "10/10 [==============================] - 0s 18ms/step\n",
      "10/10 [==============================] - 0s 18ms/step\n",
      "10/10 [==============================] - 0s 21ms/step\n",
      "10/10 [==============================] - 0s 26ms/step\n",
      "10/10 [==============================] - 0s 19ms/step\n",
      "10/10 [==============================] - 0s 26ms/step\n",
      "10/10 [==============================] - 0s 24ms/step\n",
      "10/10 [==============================] - 0s 17ms/step\n",
      "10/10 [==============================] - 0s 17ms/step\n",
      "10/10 [==============================] - 0s 27ms/step\n",
      "10/10 [==============================] - 0s 18ms/step\n",
      "10/10 [==============================] - 0s 20ms/step\n",
      "10/10 [==============================] - 0s 21ms/step\n",
      "10/10 [==============================] - 0s 14ms/step\n",
      "10/10 [==============================] - 0s 19ms/step\n",
      "10/10 [==============================] - 0s 21ms/step\n",
      "10/10 [==============================] - 0s 16ms/step\n",
      "10/10 [==============================] - 0s 14ms/step\n",
      "10/10 [==============================] - 0s 19ms/step\n",
      "10/10 [==============================] - 0s 23ms/step\n"
     ]
    },
    {
     "name": "stderr",
     "output_type": "stream",
     "text": [
      "\n",
      "  0%|          | 0/3 [00:00<?, ?it/s]\u001b[A\n",
      " 33%|███▎      | 1/3 [00:03<00:06,  3.23s/it]\u001b[A\n",
      " 67%|██████▋   | 2/3 [00:06<00:03,  3.36s/it]\u001b[A\n",
      "100%|██████████| 3/3 [00:09<00:00,  3.33s/it]\u001b[A\n",
      " 20%|█▉        | 8/41 [06:31<37:51, 68.84s/it]"
     ]
    },
    {
     "name": "stdout",
     "output_type": "stream",
     "text": [
      "10/10 [==============================] - 0s 23ms/step\n",
      "10/10 [==============================] - 0s 19ms/step\n",
      "10/10 [==============================] - 0s 21ms/step\n",
      "10/10 [==============================] - 0s 20ms/step\n",
      "10/10 [==============================] - 0s 20ms/step\n",
      "10/10 [==============================] - 3s 303ms/step\n",
      "10/10 [==============================] - 3s 304ms/step\n",
      "10/10 [==============================] - 0s 22ms/step\n",
      "10/10 [==============================] - 3s 306ms/step\n",
      "10/10 [==============================] - 0s 22ms/step\n",
      "10/10 [==============================] - 0s 22ms/step\n",
      "10/10 [==============================] - 0s 18ms/step\n",
      "10/10 [==============================] - 0s 17ms/step\n",
      "10/10 [==============================] - 0s 19ms/step\n",
      "10/10 [==============================] - 0s 19ms/step\n",
      "10/10 [==============================] - 0s 20ms/step\n",
      "10/10 [==============================] - 0s 21ms/step\n",
      "10/10 [==============================] - 3s 307ms/step\n",
      "10/10 [==============================] - 0s 21ms/step\n",
      "10/10 [==============================] - 0s 23ms/step\n",
      "10/10 [==============================] - 0s 23ms/step\n",
      "10/10 [==============================] - 0s 20ms/step\n",
      "10/10 [==============================] - 0s 15ms/step\n",
      "10/10 [==============================] - 0s 22ms/step\n",
      "10/10 [==============================] - 0s 17ms/step\n",
      "10/10 [==============================] - 0s 22ms/step\n",
      "10/10 [==============================] - 0s 19ms/step\n",
      "10/10 [==============================] - 0s 21ms/step\n",
      "10/10 [==============================] - 0s 18ms/step\n",
      "10/10 [==============================] - 0s 20ms/step\n",
      "10/10 [==============================] - 0s 18ms/step\n",
      "10/10 [==============================] - 0s 19ms/step\n",
      "10/10 [==============================] - 0s 18ms/step\n",
      "10/10 [==============================] - 0s 28ms/step\n",
      "10/10 [==============================] - 0s 17ms/step\n",
      "10/10 [==============================] - 0s 15ms/step\n",
      "10/10 [==============================] - 0s 18ms/step\n",
      "10/10 [==============================] - 0s 17ms/step\n",
      "10/10 [==============================] - 0s 18ms/step\n",
      "10/10 [==============================] - 0s 21ms/step\n",
      "10/10 [==============================] - 0s 24ms/step\n",
      "10/10 [==============================] - 0s 19ms/step\n",
      "10/10 [==============================] - 0s 21ms/step\n",
      "10/10 [==============================] - 0s 24ms/step\n",
      "10/10 [==============================] - 0s 21ms/step\n",
      "10/10 [==============================] - 0s 19ms/step\n",
      "10/10 [==============================] - 0s 22ms/step\n",
      "10/10 [==============================] - 0s 17ms/step\n",
      "10/10 [==============================] - 0s 19ms/step\n",
      "10/10 [==============================] - 0s 22ms/step\n",
      "10/10 [==============================] - 0s 19ms/step\n",
      "10/10 [==============================] - 0s 20ms/step\n",
      "10/10 [==============================] - 0s 25ms/step\n",
      "10/10 [==============================] - 0s 19ms/step\n",
      "10/10 [==============================] - 0s 19ms/step\n",
      "10/10 [==============================] - 0s 20ms/step\n",
      "10/10 [==============================] - 3s 306ms/step\n",
      "10/10 [==============================] - 0s 23ms/step\n",
      "10/10 [==============================] - 0s 22ms/step\n",
      "10/10 [==============================] - 0s 18ms/step\n",
      "10/10 [==============================] - 0s 20ms/step\n",
      "10/10 [==============================] - 0s 21ms/step\n",
      "10/10 [==============================] - 0s 20ms/step\n",
      "10/10 [==============================] - 0s 19ms/step\n",
      "10/10 [==============================] - 0s 26ms/step\n",
      "10/10 [==============================] - 0s 18ms/step\n",
      "10/10 [==============================] - 3s 250ms/step\n",
      "10/10 [==============================] - 0s 22ms/step\n",
      "10/10 [==============================] - 0s 22ms/step\n",
      "10/10 [==============================] - 0s 17ms/step\n",
      "10/10 [==============================] - 0s 21ms/step\n",
      "10/10 [==============================] - 0s 17ms/step\n",
      "10/10 [==============================] - 0s 19ms/step\n",
      "10/10 [==============================] - 0s 23ms/step\n",
      "10/10 [==============================] - 0s 19ms/step\n",
      "10/10 [==============================] - 0s 17ms/step\n",
      "10/10 [==============================] - 0s 21ms/step\n",
      "10/10 [==============================] - 0s 23ms/step\n",
      "10/10 [==============================] - 0s 16ms/step\n",
      "10/10 [==============================] - 0s 20ms/step\n",
      "10/10 [==============================] - 0s 19ms/step\n",
      "10/10 [==============================] - 0s 18ms/step\n",
      "10/10 [==============================] - 0s 19ms/step\n",
      "10/10 [==============================] - 0s 21ms/step\n",
      "10/10 [==============================] - 0s 17ms/step\n",
      "10/10 [==============================] - 0s 18ms/step\n",
      "10/10 [==============================] - 0s 17ms/step\n",
      "10/10 [==============================] - 0s 19ms/step\n",
      "10/10 [==============================] - 0s 22ms/step\n",
      "10/10 [==============================] - 0s 17ms/step\n",
      "10/10 [==============================] - 0s 21ms/step\n",
      "10/10 [==============================] - 3s 310ms/step\n",
      "10/10 [==============================] - 0s 17ms/step\n",
      "10/10 [==============================] - 0s 20ms/step\n",
      "10/10 [==============================] - 0s 41ms/step\n",
      "10/10 [==============================] - 0s 21ms/step\n",
      "10/10 [==============================] - 0s 17ms/step\n",
      "10/10 [==============================] - 0s 18ms/step\n",
      "10/10 [==============================] - 0s 17ms/step\n",
      "10/10 [==============================] - 3s 306ms/step\n",
      "10/10 [==============================] - 0s 20ms/step\n",
      "10/10 [==============================] - 0s 16ms/step\n",
      "10/10 [==============================] - 0s 19ms/step\n",
      "10/10 [==============================] - 0s 21ms/step\n",
      "10/10 [==============================] - 0s 18ms/step\n",
      "10/10 [==============================] - 0s 18ms/step\n",
      "10/10 [==============================] - 0s 15ms/step\n",
      "10/10 [==============================] - 3s 307ms/step\n",
      "10/10 [==============================] - 0s 19ms/step\n"
     ]
    },
    {
     "name": "stderr",
     "output_type": "stream",
     "text": [
      "\n",
      "  0%|          | 0/3 [00:00<?, ?it/s]\u001b[A\n",
      " 33%|███▎      | 1/3 [00:17<00:35, 17.72s/it]\u001b[A\n",
      " 67%|██████▋   | 2/3 [00:36<00:18, 18.31s/it]\u001b[A\n",
      "100%|██████████| 3/3 [00:56<00:00, 18.94s/it]\u001b[A\n",
      " 22%|██▏       | 9/41 [09:43<57:21, 107.53s/it]"
     ]
    },
    {
     "name": "stdout",
     "output_type": "stream",
     "text": [
      "10/10 [==============================] - 0s 21ms/step\n",
      "10/10 [==============================] - 0s 26ms/step\n",
      "10/10 [==============================] - 0s 19ms/step\n",
      "10/10 [==============================] - 0s 23ms/step\n",
      "10/10 [==============================] - 0s 18ms/step\n",
      "10/10 [==============================] - 0s 19ms/step\n",
      "10/10 [==============================] - 0s 25ms/step\n",
      "10/10 [==============================] - 0s 19ms/step\n",
      "10/10 [==============================] - 3s 312ms/step\n",
      "10/10 [==============================] - 0s 21ms/step\n",
      "10/10 [==============================] - 0s 20ms/step\n",
      "10/10 [==============================] - 0s 21ms/step\n",
      "10/10 [==============================] - 0s 27ms/step\n",
      "10/10 [==============================] - 0s 17ms/step\n",
      "10/10 [==============================] - 3s 309ms/step\n",
      "10/10 [==============================] - 0s 18ms/step\n",
      "10/10 [==============================] - 0s 17ms/step\n",
      "10/10 [==============================] - 0s 22ms/step\n",
      "10/10 [==============================] - 0s 17ms/step\n",
      "10/10 [==============================] - 0s 21ms/step\n",
      "10/10 [==============================] - 0s 22ms/step\n",
      "10/10 [==============================] - 0s 20ms/step\n",
      "10/10 [==============================] - 0s 21ms/step\n",
      "10/10 [==============================] - 0s 20ms/step\n",
      "10/10 [==============================] - 0s 25ms/step\n",
      "10/10 [==============================] - 0s 20ms/step\n",
      "10/10 [==============================] - 0s 23ms/step\n"
     ]
    },
    {
     "name": "stderr",
     "output_type": "stream",
     "text": [
      "\n",
      "  0%|          | 0/3 [00:00<?, ?it/s]\u001b[A\n",
      " 33%|███▎      | 1/3 [00:00<00:01,  1.55it/s]\u001b[A\n",
      " 67%|██████▋   | 2/3 [00:01<00:00,  1.69it/s]\u001b[A\n",
      "100%|██████████| 3/3 [00:01<00:00,  1.66it/s]\u001b[A\n",
      " 24%|██▍       | 10/41 [10:20<44:10, 85.50s/it]"
     ]
    },
    {
     "name": "stdout",
     "output_type": "stream",
     "text": [
      "10/10 [==============================] - 0s 20ms/step\n",
      "10/10 [==============================] - 0s 23ms/step\n",
      "10/10 [==============================] - 0s 20ms/step\n",
      "10/10 [==============================] - 3s 310ms/step\n",
      "10/10 [==============================] - 0s 24ms/step\n",
      "10/10 [==============================] - 0s 21ms/step\n",
      "10/10 [==============================] - 0s 24ms/step\n",
      "10/10 [==============================] - 3s 305ms/step\n",
      "10/10 [==============================] - 0s 21ms/step\n",
      "10/10 [==============================] - 0s 18ms/step\n",
      "10/10 [==============================] - 0s 19ms/step\n",
      "10/10 [==============================] - 0s 22ms/step\n"
     ]
    },
    {
     "name": "stderr",
     "output_type": "stream",
     "text": [
      "\n",
      "  0%|          | 0/3 [00:00<?, ?it/s]\u001b[A\n",
      "100%|██████████| 3/3 [00:00<00:00, 15.72it/s]\u001b[A\n",
      " 27%|██▋       | 11/41 [10:38<32:25, 64.85s/it]"
     ]
    },
    {
     "name": "stdout",
     "output_type": "stream",
     "text": [
      "10/10 [==============================] - 3s 309ms/step\n",
      "10/10 [==============================] - 3s 310ms/step\n",
      "10/10 [==============================] - 0s 23ms/step\n",
      "10/10 [==============================] - 0s 20ms/step\n",
      "10/10 [==============================] - 0s 21ms/step\n",
      "10/10 [==============================] - 0s 18ms/step\n",
      "10/10 [==============================] - 3s 313ms/step\n",
      "10/10 [==============================] - 0s 18ms/step\n",
      "10/10 [==============================] - 0s 20ms/step\n",
      "10/10 [==============================] - 0s 24ms/step\n",
      "10/10 [==============================] - 0s 21ms/step\n"
     ]
    },
    {
     "name": "stderr",
     "output_type": "stream",
     "text": [
      "\n",
      "  0%|          | 0/3 [00:00<?, ?it/s]\u001b[A\n",
      "100%|██████████| 3/3 [00:00<00:00, 18.13it/s]\u001b[A\n",
      " 29%|██▉       | 12/41 [10:58<24:43, 51.17s/it]"
     ]
    },
    {
     "name": "stdout",
     "output_type": "stream",
     "text": [
      "10/10 [==============================] - 0s 25ms/step\n",
      "10/10 [==============================] - 0s 19ms/step\n",
      "10/10 [==============================] - 0s 20ms/step\n",
      "10/10 [==============================] - 0s 20ms/step\n",
      "10/10 [==============================] - 0s 21ms/step\n",
      "10/10 [==============================] - 0s 31ms/step\n",
      "10/10 [==============================] - 0s 18ms/step\n",
      "10/10 [==============================] - 0s 19ms/step\n",
      "10/10 [==============================] - 0s 26ms/step\n",
      "10/10 [==============================] - 0s 19ms/step\n",
      "10/10 [==============================] - 0s 25ms/step\n",
      "10/10 [==============================] - 0s 20ms/step\n",
      "10/10 [==============================] - 0s 22ms/step\n",
      "10/10 [==============================] - 0s 28ms/step\n"
     ]
    },
    {
     "name": "stderr",
     "output_type": "stream",
     "text": [
      "\n",
      "  0%|          | 0/3 [00:00<?, ?it/s]\u001b[A\n",
      " 33%|███▎      | 1/3 [00:00<00:01,  1.62it/s]\u001b[A\n",
      " 67%|██████▋   | 2/3 [00:01<00:00,  1.62it/s]\u001b[A\n",
      "100%|██████████| 3/3 [00:01<00:00,  1.62it/s]\u001b[A\n",
      " 32%|███▏      | 13/41 [11:16<19:17, 41.34s/it]"
     ]
    },
    {
     "name": "stdout",
     "output_type": "stream",
     "text": [
      "10/10 [==============================] - 0s 31ms/step\n",
      "10/10 [==============================] - 0s 20ms/step\n",
      "10/10 [==============================] - 0s 19ms/step\n",
      "10/10 [==============================] - 0s 26ms/step\n",
      "10/10 [==============================] - 0s 20ms/step\n",
      "10/10 [==============================] - 0s 19ms/step\n",
      "10/10 [==============================] - 0s 22ms/step\n",
      "10/10 [==============================] - 0s 26ms/step\n",
      "10/10 [==============================] - 0s 35ms/step\n",
      "10/10 [==============================] - 0s 26ms/step\n",
      "10/10 [==============================] - 0s 21ms/step\n",
      "10/10 [==============================] - 0s 19ms/step\n",
      "10/10 [==============================] - 0s 23ms/step\n",
      "10/10 [==============================] - 3s 313ms/step\n"
     ]
    },
    {
     "name": "stderr",
     "output_type": "stream",
     "text": [
      "\n",
      "  0%|          | 0/3 [00:00<?, ?it/s]\u001b[A\n",
      " 33%|███▎      | 1/3 [00:01<00:02,  1.42s/it]\u001b[A\n",
      " 67%|██████▋   | 2/3 [00:02<00:01,  1.43s/it]\u001b[A\n",
      "100%|██████████| 3/3 [00:04<00:00,  1.43s/it]\u001b[A\n",
      " 34%|███▍      | 14/41 [11:40<16:14, 36.09s/it]"
     ]
    },
    {
     "name": "stdout",
     "output_type": "stream",
     "text": [
      "10/10 [==============================] - 0s 25ms/step\n",
      "10/10 [==============================] - 0s 23ms/step\n",
      "10/10 [==============================] - 0s 20ms/step\n",
      "10/10 [==============================] - 0s 23ms/step\n",
      "10/10 [==============================] - 0s 20ms/step\n",
      "10/10 [==============================] - 0s 21ms/step\n",
      "10/10 [==============================] - 0s 22ms/step\n",
      "10/10 [==============================] - 0s 21ms/step\n",
      "10/10 [==============================] - 0s 24ms/step\n",
      "10/10 [==============================] - 0s 22ms/step\n",
      "10/10 [==============================] - 0s 26ms/step\n",
      "10/10 [==============================] - 0s 23ms/step\n",
      "10/10 [==============================] - 0s 22ms/step\n",
      "10/10 [==============================] - 0s 32ms/step\n",
      "10/10 [==============================] - 0s 19ms/step\n",
      "10/10 [==============================] - 0s 29ms/step\n",
      "10/10 [==============================] - 0s 26ms/step\n"
     ]
    },
    {
     "name": "stderr",
     "output_type": "stream",
     "text": [
      "\n",
      "  0%|          | 0/3 [00:00<?, ?it/s]\u001b[A\n",
      " 33%|███▎      | 1/3 [00:02<00:04,  2.12s/it]\u001b[A\n",
      " 67%|██████▋   | 2/3 [00:04<00:02,  2.05s/it]\u001b[A\n",
      "100%|██████████| 3/3 [00:06<00:00,  2.05s/it]\u001b[A\n",
      " 37%|███▋      | 15/41 [12:09<14:38, 33.79s/it]"
     ]
    },
    {
     "name": "stdout",
     "output_type": "stream",
     "text": [
      "10/10 [==============================] - 0s 16ms/step\n",
      "10/10 [==============================] - 0s 18ms/step\n",
      "10/10 [==============================] - 0s 19ms/step\n",
      "10/10 [==============================] - 0s 20ms/step\n",
      "10/10 [==============================] - 0s 20ms/step\n",
      "10/10 [==============================] - 0s 24ms/step\n",
      "10/10 [==============================] - 0s 24ms/step\n",
      "10/10 [==============================] - 0s 24ms/step\n",
      "10/10 [==============================] - 0s 25ms/step\n",
      "10/10 [==============================] - 0s 20ms/step\n",
      "10/10 [==============================] - 0s 35ms/step\n",
      "10/10 [==============================] - 0s 24ms/step\n",
      "10/10 [==============================] - 0s 33ms/step\n",
      "10/10 [==============================] - 0s 23ms/step\n",
      "10/10 [==============================] - 0s 22ms/step\n",
      "10/10 [==============================] - 0s 28ms/step\n"
     ]
    },
    {
     "name": "stderr",
     "output_type": "stream",
     "text": [
      "\n",
      "  0%|          | 0/3 [00:00<?, ?it/s]\u001b[A\n",
      " 33%|███▎      | 1/3 [00:03<00:06,  3.03s/it]\u001b[A\n",
      " 67%|██████▋   | 2/3 [00:06<00:03,  3.18s/it]\u001b[A\n",
      "100%|██████████| 3/3 [00:09<00:00,  3.24s/it]\u001b[A\n",
      " 39%|███▉      | 16/41 [12:40<13:45, 33.04s/it]"
     ]
    },
    {
     "name": "stdout",
     "output_type": "stream",
     "text": [
      "10/10 [==============================] - 0s 23ms/step\n",
      "10/10 [==============================] - 0s 26ms/step\n",
      "10/10 [==============================] - 0s 23ms/step\n",
      "10/10 [==============================] - 0s 22ms/step\n",
      "10/10 [==============================] - 0s 21ms/step\n",
      "10/10 [==============================] - 0s 39ms/step\n",
      "10/10 [==============================] - 1s 42ms/step\n",
      "10/10 [==============================] - 0s 21ms/step\n",
      "10/10 [==============================] - 0s 23ms/step\n",
      "10/10 [==============================] - 0s 20ms/step\n",
      "10/10 [==============================] - 0s 21ms/step\n",
      "10/10 [==============================] - 0s 28ms/step\n",
      "10/10 [==============================] - 0s 26ms/step\n"
     ]
    },
    {
     "name": "stderr",
     "output_type": "stream",
     "text": [
      "\n",
      "  0%|          | 0/3 [00:00<?, ?it/s]\u001b[A\n",
      " 33%|███▎      | 1/3 [00:02<00:04,  2.42s/it]\u001b[A\n",
      " 67%|██████▋   | 2/3 [00:04<00:02,  2.41s/it]\u001b[A\n",
      "100%|██████████| 3/3 [00:07<00:00,  2.44s/it]\u001b[A\n",
      " 41%|████▏     | 17/41 [13:06<12:24, 31.00s/it]"
     ]
    },
    {
     "name": "stdout",
     "output_type": "stream",
     "text": [
      "10/10 [==============================] - 0s 22ms/step\n",
      "10/10 [==============================] - 1s 37ms/step\n",
      "10/10 [==============================] - 0s 21ms/step\n",
      "10/10 [==============================] - 0s 19ms/step\n",
      "10/10 [==============================] - 0s 26ms/step\n",
      "10/10 [==============================] - 0s 36ms/step\n",
      "10/10 [==============================] - 0s 41ms/step\n",
      "10/10 [==============================] - 0s 21ms/step\n",
      "10/10 [==============================] - 0s 24ms/step\n",
      "10/10 [==============================] - 0s 17ms/step\n",
      "10/10 [==============================] - 0s 20ms/step\n",
      "10/10 [==============================] - 0s 26ms/step\n",
      "10/10 [==============================] - 0s 19ms/step\n",
      "10/10 [==============================] - 0s 36ms/step\n",
      "10/10 [==============================] - 0s 20ms/step\n",
      "10/10 [==============================] - 0s 31ms/step\n",
      "10/10 [==============================] - 0s 25ms/step\n",
      "10/10 [==============================] - 0s 21ms/step\n",
      "10/10 [==============================] - 0s 28ms/step\n",
      "10/10 [==============================] - 0s 26ms/step\n",
      "10/10 [==============================] - 0s 19ms/step\n",
      "10/10 [==============================] - 0s 21ms/step\n",
      "10/10 [==============================] - 0s 20ms/step\n",
      "10/10 [==============================] - 0s 37ms/step\n",
      "10/10 [==============================] - 0s 23ms/step\n",
      "10/10 [==============================] - 0s 20ms/step\n",
      "10/10 [==============================] - 0s 17ms/step\n",
      "10/10 [==============================] - 0s 21ms/step\n",
      "10/10 [==============================] - 0s 19ms/step\n",
      "10/10 [==============================] - 0s 20ms/step\n",
      "10/10 [==============================] - 0s 20ms/step\n",
      "10/10 [==============================] - 0s 27ms/step\n",
      "10/10 [==============================] - 0s 24ms/step\n",
      "10/10 [==============================] - 0s 24ms/step\n",
      "10/10 [==============================] - 0s 22ms/step\n",
      "10/10 [==============================] - 0s 20ms/step\n",
      "10/10 [==============================] - 0s 22ms/step\n",
      "10/10 [==============================] - 0s 25ms/step\n",
      "10/10 [==============================] - 0s 22ms/step\n",
      "10/10 [==============================] - 0s 21ms/step\n",
      "10/10 [==============================] - 0s 30ms/step\n",
      "10/10 [==============================] - 0s 27ms/step\n",
      "10/10 [==============================] - 0s 21ms/step\n",
      "10/10 [==============================] - 0s 28ms/step\n",
      "10/10 [==============================] - 0s 23ms/step\n",
      "10/10 [==============================] - 0s 35ms/step\n",
      "10/10 [==============================] - 0s 21ms/step\n",
      "10/10 [==============================] - 0s 20ms/step\n",
      "10/10 [==============================] - 0s 22ms/step\n",
      "10/10 [==============================] - 0s 17ms/step\n",
      "10/10 [==============================] - 0s 22ms/step\n",
      "10/10 [==============================] - 0s 24ms/step\n",
      "10/10 [==============================] - 0s 21ms/step\n",
      "10/10 [==============================] - 0s 28ms/step\n",
      "10/10 [==============================] - 0s 20ms/step\n",
      "10/10 [==============================] - 0s 27ms/step\n",
      "10/10 [==============================] - 0s 28ms/step\n",
      "10/10 [==============================] - 0s 20ms/step\n",
      "10/10 [==============================] - 0s 23ms/step\n",
      "10/10 [==============================] - 0s 21ms/step\n",
      "10/10 [==============================] - 0s 30ms/step\n"
     ]
    },
    {
     "name": "stderr",
     "output_type": "stream",
     "text": [
      "\n",
      "  0%|          | 0/3 [00:00<?, ?it/s]\u001b[A\n",
      " 33%|███▎      | 1/3 [02:51<05:42, 171.27s/it]\u001b[A\n",
      " 67%|██████▋   | 2/3 [06:00<03:01, 181.68s/it]\u001b[A\n",
      "100%|██████████| 3/3 [09:12<00:00, 184.05s/it]\u001b[A\n",
      " 44%|████▍     | 18/41 [23:41<1:21:22, 212.27s/it]"
     ]
    },
    {
     "name": "stdout",
     "output_type": "stream",
     "text": [
      "10/10 [==============================] - 0s 26ms/step\n",
      "10/10 [==============================] - 0s 20ms/step\n",
      "10/10 [==============================] - 0s 21ms/step\n",
      "10/10 [==============================] - 0s 27ms/step\n",
      "10/10 [==============================] - 0s 20ms/step\n",
      "10/10 [==============================] - 0s 25ms/step\n",
      "10/10 [==============================] - 0s 22ms/step\n",
      "10/10 [==============================] - 0s 28ms/step\n",
      "10/10 [==============================] - 0s 21ms/step\n",
      "10/10 [==============================] - 0s 34ms/step\n",
      "10/10 [==============================] - 0s 22ms/step\n",
      "10/10 [==============================] - 0s 22ms/step\n",
      "10/10 [==============================] - 0s 21ms/step\n",
      "10/10 [==============================] - 0s 29ms/step\n"
     ]
    },
    {
     "name": "stderr",
     "output_type": "stream",
     "text": [
      "\n",
      "  0%|          | 0/3 [00:00<?, ?it/s]\u001b[A\n",
      " 33%|███▎      | 1/3 [00:01<00:03,  1.99s/it]\u001b[A\n",
      " 67%|██████▋   | 2/3 [00:04<00:02,  2.04s/it]\u001b[A\n",
      "100%|██████████| 3/3 [00:06<00:00,  2.02s/it]\u001b[A\n",
      " 46%|████▋     | 19/41 [24:05<57:06, 155.77s/it]  "
     ]
    },
    {
     "name": "stdout",
     "output_type": "stream",
     "text": [
      "10/10 [==============================] - 0s 29ms/step\n",
      "10/10 [==============================] - 0s 23ms/step\n",
      "10/10 [==============================] - 0s 40ms/step\n",
      "10/10 [==============================] - 0s 25ms/step\n",
      "10/10 [==============================] - 0s 23ms/step\n",
      "10/10 [==============================] - 0s 43ms/step\n",
      "10/10 [==============================] - 0s 28ms/step\n",
      "10/10 [==============================] - 0s 25ms/step\n",
      "10/10 [==============================] - 0s 23ms/step\n",
      "10/10 [==============================] - 0s 24ms/step\n",
      "10/10 [==============================] - 0s 39ms/step\n"
     ]
    },
    {
     "name": "stderr",
     "output_type": "stream",
     "text": [
      "\n",
      "  0%|          | 0/3 [00:00<?, ?it/s]\u001b[A\n",
      " 33%|███▎      | 1/3 [00:10<00:20, 10.07s/it]\u001b[A\n",
      " 67%|██████▋   | 2/3 [00:20<00:10, 10.31s/it]\u001b[A\n",
      "100%|██████████| 3/3 [00:31<00:00, 10.53s/it]\u001b[A\n",
      " 49%|████▉     | 20/41 [24:58<43:43, 124.91s/it]"
     ]
    },
    {
     "name": "stdout",
     "output_type": "stream",
     "text": [
      "10/10 [==============================] - 0s 38ms/step\n",
      "10/10 [==============================] - 0s 22ms/step\n",
      "10/10 [==============================] - 0s 19ms/step\n",
      "10/10 [==============================] - 0s 27ms/step\n",
      "10/10 [==============================] - 0s 27ms/step\n",
      "10/10 [==============================] - 0s 21ms/step\n",
      "10/10 [==============================] - 0s 27ms/step\n",
      "10/10 [==============================] - 0s 40ms/step\n",
      "10/10 [==============================] - 0s 26ms/step\n",
      "10/10 [==============================] - 0s 25ms/step\n",
      "10/10 [==============================] - 0s 19ms/step\n",
      "10/10 [==============================] - 0s 26ms/step\n"
     ]
    },
    {
     "name": "stderr",
     "output_type": "stream",
     "text": [
      "\n",
      "  0%|          | 0/3 [00:00<?, ?it/s]\u001b[A\n",
      " 33%|███▎      | 1/3 [00:02<00:05,  2.79s/it]\u001b[A\n",
      " 67%|██████▋   | 2/3 [00:05<00:02,  2.92s/it]\u001b[A\n",
      "100%|██████████| 3/3 [00:08<00:00,  2.90s/it]\u001b[A\n",
      " 51%|█████     | 21/41 [25:24<31:47, 95.36s/it] "
     ]
    },
    {
     "name": "stdout",
     "output_type": "stream",
     "text": [
      "10/10 [==============================] - 0s 22ms/step\n",
      "10/10 [==============================] - 0s 23ms/step\n",
      "10/10 [==============================] - 0s 29ms/step\n",
      "10/10 [==============================] - 0s 25ms/step\n",
      "10/10 [==============================] - 0s 19ms/step\n",
      "10/10 [==============================] - 0s 19ms/step\n",
      "10/10 [==============================] - 0s 21ms/step\n",
      "10/10 [==============================] - 0s 41ms/step\n",
      "10/10 [==============================] - 0s 22ms/step\n",
      "10/10 [==============================] - 0s 40ms/step\n",
      "10/10 [==============================] - 0s 21ms/step\n",
      "10/10 [==============================] - 0s 22ms/step\n",
      "10/10 [==============================] - 0s 41ms/step\n",
      "10/10 [==============================] - 0s 22ms/step\n",
      "10/10 [==============================] - 0s 20ms/step\n",
      "10/10 [==============================] - 0s 23ms/step\n",
      "10/10 [==============================] - 0s 22ms/step\n",
      "10/10 [==============================] - 0s 23ms/step\n",
      "10/10 [==============================] - 0s 39ms/step\n",
      "10/10 [==============================] - 0s 22ms/step\n",
      "10/10 [==============================] - 0s 28ms/step\n",
      "10/10 [==============================] - 0s 22ms/step\n",
      "10/10 [==============================] - 0s 30ms/step\n",
      "10/10 [==============================] - 0s 22ms/step\n",
      "10/10 [==============================] - 0s 20ms/step\n",
      "10/10 [==============================] - 0s 27ms/step\n",
      "10/10 [==============================] - 0s 22ms/step\n",
      "10/10 [==============================] - 0s 35ms/step\n",
      "10/10 [==============================] - 0s 31ms/step\n",
      "10/10 [==============================] - 0s 30ms/step\n",
      "10/10 [==============================] - 0s 25ms/step\n",
      "10/10 [==============================] - 0s 31ms/step\n",
      "10/10 [==============================] - 0s 36ms/step\n",
      "10/10 [==============================] - 0s 22ms/step\n",
      "10/10 [==============================] - 0s 20ms/step\n",
      "10/10 [==============================] - 0s 24ms/step\n",
      "10/10 [==============================] - 0s 24ms/step\n",
      "10/10 [==============================] - 0s 31ms/step\n",
      "10/10 [==============================] - 0s 20ms/step\n",
      "10/10 [==============================] - 0s 26ms/step\n",
      "10/10 [==============================] - 0s 22ms/step\n",
      "10/10 [==============================] - 0s 35ms/step\n",
      "10/10 [==============================] - 0s 22ms/step\n",
      "10/10 [==============================] - 0s 23ms/step\n",
      "10/10 [==============================] - 0s 23ms/step\n"
     ]
    },
    {
     "name": "stderr",
     "output_type": "stream",
     "text": [
      "\n",
      "  0%|          | 0/3 [00:00<?, ?it/s]\u001b[A\n",
      " 33%|███▎      | 1/3 [01:51<03:42, 111.15s/it]\u001b[A\n",
      " 67%|██████▋   | 2/3 [04:03<02:03, 123.87s/it]\u001b[A\n",
      "100%|██████████| 3/3 [06:18<00:00, 126.22s/it]\u001b[A\n",
      " 54%|█████▎    | 22/41 [32:47<1:03:16, 199.79s/it]"
     ]
    },
    {
     "name": "stdout",
     "output_type": "stream",
     "text": [
      "10/10 [==============================] - 0s 23ms/step\n",
      "10/10 [==============================] - 0s 21ms/step\n",
      "10/10 [==============================] - 0s 34ms/step\n",
      "10/10 [==============================] - 0s 27ms/step\n",
      "10/10 [==============================] - 0s 24ms/step\n",
      "10/10 [==============================] - 0s 29ms/step\n",
      "10/10 [==============================] - 0s 24ms/step\n",
      "10/10 [==============================] - 0s 32ms/step\n",
      "10/10 [==============================] - 0s 33ms/step\n",
      "10/10 [==============================] - 0s 28ms/step\n",
      "10/10 [==============================] - 0s 21ms/step\n",
      "10/10 [==============================] - 0s 22ms/step\n",
      "10/10 [==============================] - 0s 22ms/step\n",
      "10/10 [==============================] - 0s 23ms/step\n",
      "10/10 [==============================] - 0s 29ms/step\n",
      "10/10 [==============================] - 0s 24ms/step\n",
      "10/10 [==============================] - 0s 39ms/step\n",
      "10/10 [==============================] - 0s 22ms/step\n",
      "10/10 [==============================] - 0s 20ms/step\n"
     ]
    },
    {
     "name": "stderr",
     "output_type": "stream",
     "text": [
      "\n",
      "  0%|          | 0/3 [00:00<?, ?it/s]\u001b[A\n",
      " 33%|███▎      | 1/3 [00:10<00:20, 10.22s/it]\u001b[A\n",
      " 67%|██████▋   | 2/3 [00:20<00:10, 10.43s/it]\u001b[A\n",
      "100%|██████████| 3/3 [00:30<00:00, 10.16s/it]\u001b[A\n",
      " 56%|█████▌    | 23/41 [33:45<47:08, 157.11s/it]  "
     ]
    },
    {
     "name": "stdout",
     "output_type": "stream",
     "text": [
      "10/10 [==============================] - 0s 23ms/step\n",
      "10/10 [==============================] - 0s 30ms/step\n",
      "10/10 [==============================] - 0s 37ms/step\n",
      "10/10 [==============================] - 0s 26ms/step\n",
      "10/10 [==============================] - 0s 21ms/step\n",
      "10/10 [==============================] - 0s 18ms/step\n",
      "10/10 [==============================] - 0s 23ms/step\n",
      "10/10 [==============================] - 1s 39ms/step\n",
      "10/10 [==============================] - 0s 22ms/step\n",
      "10/10 [==============================] - 0s 21ms/step\n",
      "10/10 [==============================] - 0s 23ms/step\n",
      "10/10 [==============================] - 0s 24ms/step\n",
      "10/10 [==============================] - 0s 22ms/step\n",
      "10/10 [==============================] - 0s 41ms/step\n",
      "10/10 [==============================] - 0s 30ms/step\n",
      "10/10 [==============================] - 0s 20ms/step\n",
      "10/10 [==============================] - 0s 19ms/step\n",
      "10/10 [==============================] - 0s 20ms/step\n",
      "10/10 [==============================] - 0s 28ms/step\n",
      "10/10 [==============================] - 0s 29ms/step\n"
     ]
    },
    {
     "name": "stderr",
     "output_type": "stream",
     "text": [
      "\n",
      "  0%|          | 0/3 [00:00<?, ?it/s]\u001b[A\n",
      " 33%|███▎      | 1/3 [00:13<00:27, 13.82s/it]\u001b[A\n",
      " 67%|██████▋   | 2/3 [00:28<00:14, 14.28s/it]\u001b[A\n",
      "100%|██████████| 3/3 [00:42<00:00, 14.16s/it]\u001b[A\n",
      " 59%|█████▊    | 24/41 [34:57<37:18, 131.65s/it]"
     ]
    },
    {
     "name": "stdout",
     "output_type": "stream",
     "text": [
      "10/10 [==============================] - 0s 31ms/step\n",
      "10/10 [==============================] - 0s 39ms/step\n",
      "10/10 [==============================] - 0s 20ms/step\n",
      "10/10 [==============================] - 0s 21ms/step\n",
      "10/10 [==============================] - 0s 22ms/step\n",
      "10/10 [==============================] - 0s 31ms/step\n",
      "10/10 [==============================] - 0s 37ms/step\n",
      "10/10 [==============================] - 0s 37ms/step\n",
      "10/10 [==============================] - 0s 23ms/step\n",
      "10/10 [==============================] - 0s 21ms/step\n",
      "10/10 [==============================] - 0s 21ms/step\n",
      "10/10 [==============================] - 0s 27ms/step\n",
      "10/10 [==============================] - 0s 33ms/step\n",
      "10/10 [==============================] - 0s 19ms/step\n",
      "10/10 [==============================] - 0s 22ms/step\n"
     ]
    },
    {
     "name": "stderr",
     "output_type": "stream",
     "text": [
      "\n",
      "  0%|          | 0/3 [00:00<?, ?it/s]\u001b[A\n",
      " 33%|███▎      | 1/3 [00:09<00:19,  9.98s/it]\u001b[A\n",
      " 67%|██████▋   | 2/3 [00:19<00:09,  9.65s/it]\u001b[A\n",
      "100%|██████████| 3/3 [00:29<00:00,  9.90s/it]\u001b[A\n",
      " 61%|██████    | 25/41 [35:51<28:54, 108.38s/it]"
     ]
    },
    {
     "name": "stdout",
     "output_type": "stream",
     "text": [
      "10/10 [==============================] - 0s 23ms/step\n",
      "10/10 [==============================] - 0s 23ms/step\n",
      "10/10 [==============================] - 0s 27ms/step\n",
      "10/10 [==============================] - 0s 37ms/step\n",
      "10/10 [==============================] - 0s 21ms/step\n",
      "10/10 [==============================] - 0s 23ms/step\n",
      "10/10 [==============================] - 0s 37ms/step\n",
      "10/10 [==============================] - 0s 33ms/step\n",
      "10/10 [==============================] - 0s 29ms/step\n",
      "10/10 [==============================] - 0s 21ms/step\n",
      "10/10 [==============================] - 0s 29ms/step\n",
      "10/10 [==============================] - 0s 24ms/step\n",
      "10/10 [==============================] - 0s 30ms/step\n",
      "10/10 [==============================] - 0s 27ms/step\n",
      "10/10 [==============================] - 0s 20ms/step\n",
      "10/10 [==============================] - 0s 24ms/step\n",
      "10/10 [==============================] - 0s 22ms/step\n",
      "10/10 [==============================] - 0s 24ms/step\n",
      "10/10 [==============================] - 0s 23ms/step\n",
      "10/10 [==============================] - 0s 32ms/step\n",
      "10/10 [==============================] - 0s 23ms/step\n",
      "10/10 [==============================] - 0s 28ms/step\n",
      "10/10 [==============================] - 0s 33ms/step\n",
      "10/10 [==============================] - 0s 20ms/step\n",
      "10/10 [==============================] - 0s 33ms/step\n",
      "10/10 [==============================] - 0s 38ms/step\n",
      "10/10 [==============================] - 0s 21ms/step\n",
      "10/10 [==============================] - 0s 33ms/step\n",
      "10/10 [==============================] - 0s 26ms/step\n",
      "10/10 [==============================] - 0s 24ms/step\n",
      "10/10 [==============================] - 0s 29ms/step\n",
      "10/10 [==============================] - 0s 38ms/step\n",
      "10/10 [==============================] - 0s 29ms/step\n",
      "10/10 [==============================] - 0s 22ms/step\n",
      "10/10 [==============================] - 0s 25ms/step\n",
      "10/10 [==============================] - 0s 41ms/step\n",
      "10/10 [==============================] - 0s 40ms/step\n",
      "10/10 [==============================] - 0s 34ms/step\n",
      "10/10 [==============================] - 0s 20ms/step\n",
      "10/10 [==============================] - 0s 22ms/step\n",
      "10/10 [==============================] - 0s 22ms/step\n",
      "10/10 [==============================] - 0s 30ms/step\n",
      "10/10 [==============================] - 0s 21ms/step\n",
      "10/10 [==============================] - 0s 40ms/step\n",
      "10/10 [==============================] - 0s 29ms/step\n",
      "10/10 [==============================] - 0s 21ms/step\n",
      "10/10 [==============================] - 0s 37ms/step\n",
      "10/10 [==============================] - 0s 30ms/step\n",
      "10/10 [==============================] - 0s 28ms/step\n",
      "10/10 [==============================] - 0s 21ms/step\n",
      "10/10 [==============================] - 0s 36ms/step\n",
      "10/10 [==============================] - 0s 23ms/step\n",
      "10/10 [==============================] - 0s 32ms/step\n",
      "10/10 [==============================] - 0s 26ms/step\n",
      "10/10 [==============================] - 0s 20ms/step\n",
      "10/10 [==============================] - 0s 21ms/step\n",
      "10/10 [==============================] - 0s 24ms/step\n",
      "10/10 [==============================] - 0s 21ms/step\n",
      "10/10 [==============================] - 0s 23ms/step\n",
      "10/10 [==============================] - 0s 23ms/step\n",
      "10/10 [==============================] - 0s 22ms/step\n",
      "10/10 [==============================] - 0s 23ms/step\n",
      "10/10 [==============================] - 0s 21ms/step\n",
      "10/10 [==============================] - 0s 38ms/step\n",
      "10/10 [==============================] - 0s 22ms/step\n"
     ]
    },
    {
     "name": "stderr",
     "output_type": "stream",
     "text": [
      "\n",
      "  0%|          | 0/3 [00:00<?, ?it/s]\u001b[A\n",
      " 33%|███▎      | 1/3 [09:28<18:57, 568.59s/it]\u001b[A\n",
      " 67%|██████▋   | 2/3 [19:41<09:54, 594.90s/it]\u001b[A\n",
      "100%|██████████| 3/3 [29:55<00:00, 598.55s/it]\u001b[A\n",
      " 63%|██████▎   | 26/41 [1:07:27<2:41:10, 644.69s/it]"
     ]
    },
    {
     "name": "stdout",
     "output_type": "stream",
     "text": [
      "10/10 [==============================] - 0s 25ms/step\n",
      "10/10 [==============================] - 0s 28ms/step\n",
      "10/10 [==============================] - 0s 21ms/step\n",
      "10/10 [==============================] - 0s 21ms/step\n",
      "10/10 [==============================] - 0s 20ms/step\n",
      "10/10 [==============================] - 0s 24ms/step\n",
      "10/10 [==============================] - 0s 22ms/step\n",
      "10/10 [==============================] - 0s 23ms/step\n",
      "10/10 [==============================] - 0s 21ms/step\n",
      "10/10 [==============================] - 0s 21ms/step\n",
      "10/10 [==============================] - 0s 23ms/step\n",
      "10/10 [==============================] - 0s 18ms/step\n",
      "10/10 [==============================] - 0s 20ms/step\n",
      "10/10 [==============================] - 0s 15ms/step\n",
      "10/10 [==============================] - 0s 17ms/step\n",
      "10/10 [==============================] - 0s 37ms/step\n",
      "10/10 [==============================] - 0s 18ms/step\n",
      "10/10 [==============================] - 0s 20ms/step\n"
     ]
    },
    {
     "name": "stderr",
     "output_type": "stream",
     "text": [
      "\n",
      "  0%|          | 0/3 [00:00<?, ?it/s]\u001b[A\n",
      " 33%|███▎      | 1/3 [00:01<00:02,  1.44s/it]\u001b[A\n",
      " 67%|██████▋   | 2/3 [00:02<00:01,  1.39s/it]\u001b[A\n",
      "100%|██████████| 3/3 [00:04<00:00,  1.40s/it]\u001b[A\n",
      " 66%|██████▌   | 27/41 [1:07:52<1:47:00, 458.57s/it]"
     ]
    },
    {
     "name": "stdout",
     "output_type": "stream",
     "text": [
      "10/10 [==============================] - 0s 17ms/step\n",
      "10/10 [==============================] - 0s 21ms/step\n",
      "10/10 [==============================] - 0s 21ms/step\n",
      "10/10 [==============================] - 0s 23ms/step\n",
      "10/10 [==============================] - 0s 20ms/step\n",
      "10/10 [==============================] - 0s 23ms/step\n",
      "10/10 [==============================] - 0s 21ms/step\n",
      "10/10 [==============================] - 0s 23ms/step\n",
      "10/10 [==============================] - 0s 20ms/step\n",
      "10/10 [==============================] - 0s 19ms/step\n",
      "10/10 [==============================] - 0s 19ms/step\n",
      "10/10 [==============================] - 0s 15ms/step\n",
      "10/10 [==============================] - 0s 18ms/step\n",
      "10/10 [==============================] - 0s 20ms/step\n",
      "10/10 [==============================] - 0s 19ms/step\n",
      "10/10 [==============================] - 0s 15ms/step\n",
      "10/10 [==============================] - 0s 19ms/step\n",
      "10/10 [==============================] - 0s 17ms/step\n",
      "10/10 [==============================] - 0s 19ms/step\n",
      "10/10 [==============================] - 0s 24ms/step\n",
      "10/10 [==============================] - 0s 24ms/step\n",
      "10/10 [==============================] - 0s 20ms/step\n",
      "10/10 [==============================] - 0s 24ms/step\n",
      "10/10 [==============================] - 0s 32ms/step\n",
      "10/10 [==============================] - 0s 20ms/step\n",
      "10/10 [==============================] - 0s 24ms/step\n",
      "10/10 [==============================] - 0s 20ms/step\n",
      "10/10 [==============================] - 0s 19ms/step\n",
      "10/10 [==============================] - 0s 15ms/step\n",
      "10/10 [==============================] - 0s 19ms/step\n",
      "10/10 [==============================] - 0s 19ms/step\n",
      "10/10 [==============================] - 0s 19ms/step\n",
      "10/10 [==============================] - 0s 25ms/step\n",
      "10/10 [==============================] - 0s 26ms/step\n",
      "10/10 [==============================] - 0s 25ms/step\n",
      "10/10 [==============================] - 0s 19ms/step\n",
      "10/10 [==============================] - 0s 34ms/step\n",
      "10/10 [==============================] - 0s 17ms/step\n"
     ]
    },
    {
     "name": "stderr",
     "output_type": "stream",
     "text": [
      "\n",
      "  0%|          | 0/3 [00:00<?, ?it/s]\u001b[A\n",
      " 33%|███▎      | 1/3 [00:08<00:17,  8.82s/it]\u001b[A\n",
      " 67%|██████▋   | 2/3 [00:17<00:08,  8.71s/it]\u001b[A\n",
      "100%|██████████| 3/3 [00:26<00:00,  8.87s/it]\u001b[A\n",
      " 68%|██████▊   | 28/41 [1:09:00<1:14:01, 341.66s/it]"
     ]
    },
    {
     "name": "stdout",
     "output_type": "stream",
     "text": [
      "10/10 [==============================] - 0s 28ms/step\n",
      "10/10 [==============================] - 0s 21ms/step\n",
      "10/10 [==============================] - 0s 19ms/step\n",
      "10/10 [==============================] - 0s 21ms/step\n",
      "10/10 [==============================] - 0s 28ms/step\n",
      "10/10 [==============================] - 0s 21ms/step\n",
      "10/10 [==============================] - 0s 20ms/step\n",
      "10/10 [==============================] - 0s 21ms/step\n",
      "10/10 [==============================] - 0s 21ms/step\n",
      "10/10 [==============================] - 0s 18ms/step\n",
      "10/10 [==============================] - 0s 20ms/step\n",
      "10/10 [==============================] - 0s 20ms/step\n",
      "10/10 [==============================] - 0s 23ms/step\n",
      "10/10 [==============================] - 0s 22ms/step\n",
      "10/10 [==============================] - 0s 20ms/step\n",
      "10/10 [==============================] - 0s 15ms/step\n",
      "10/10 [==============================] - 0s 19ms/step\n",
      "10/10 [==============================] - 0s 20ms/step\n",
      "10/10 [==============================] - 0s 21ms/step\n",
      "10/10 [==============================] - 0s 26ms/step\n",
      "10/10 [==============================] - 0s 20ms/step\n",
      "10/10 [==============================] - 0s 21ms/step\n",
      "10/10 [==============================] - 0s 20ms/step\n",
      "10/10 [==============================] - 0s 22ms/step\n",
      "10/10 [==============================] - 0s 19ms/step\n",
      "10/10 [==============================] - 0s 17ms/step\n",
      "10/10 [==============================] - 0s 19ms/step\n",
      "10/10 [==============================] - 0s 19ms/step\n",
      "10/10 [==============================] - 0s 21ms/step\n",
      "10/10 [==============================] - 0s 22ms/step\n",
      "10/10 [==============================] - 0s 16ms/step\n",
      "10/10 [==============================] - 0s 22ms/step\n",
      "10/10 [==============================] - 0s 16ms/step\n",
      "10/10 [==============================] - 0s 20ms/step\n",
      "10/10 [==============================] - 0s 23ms/step\n",
      "10/10 [==============================] - 0s 22ms/step\n",
      "10/10 [==============================] - 0s 21ms/step\n",
      "10/10 [==============================] - 0s 21ms/step\n",
      "10/10 [==============================] - 0s 26ms/step\n",
      "10/10 [==============================] - 0s 23ms/step\n",
      "10/10 [==============================] - 0s 21ms/step\n",
      "10/10 [==============================] - 0s 26ms/step\n",
      "10/10 [==============================] - 0s 23ms/step\n",
      "10/10 [==============================] - 0s 19ms/step\n",
      "10/10 [==============================] - 0s 23ms/step\n",
      "10/10 [==============================] - 0s 19ms/step\n",
      "10/10 [==============================] - 0s 27ms/step\n",
      "10/10 [==============================] - 0s 18ms/step\n",
      "10/10 [==============================] - 0s 20ms/step\n",
      "10/10 [==============================] - 0s 18ms/step\n",
      "10/10 [==============================] - 0s 20ms/step\n",
      "10/10 [==============================] - 0s 23ms/step\n",
      "10/10 [==============================] - 0s 40ms/step\n",
      "10/10 [==============================] - 0s 18ms/step\n",
      "10/10 [==============================] - 0s 20ms/step\n",
      "10/10 [==============================] - 0s 19ms/step\n",
      "10/10 [==============================] - 0s 16ms/step\n",
      "10/10 [==============================] - 0s 20ms/step\n",
      "10/10 [==============================] - 0s 18ms/step\n",
      "10/10 [==============================] - 0s 19ms/step\n",
      "10/10 [==============================] - 0s 20ms/step\n",
      "10/10 [==============================] - 0s 18ms/step\n",
      "10/10 [==============================] - 0s 22ms/step\n",
      "10/10 [==============================] - 0s 19ms/step\n",
      "10/10 [==============================] - 0s 24ms/step\n",
      "10/10 [==============================] - 0s 22ms/step\n",
      "10/10 [==============================] - 0s 21ms/step\n",
      "10/10 [==============================] - 0s 19ms/step\n",
      "10/10 [==============================] - 0s 20ms/step\n",
      "10/10 [==============================] - 0s 21ms/step\n",
      "10/10 [==============================] - 0s 19ms/step\n",
      "10/10 [==============================] - 0s 21ms/step\n",
      "10/10 [==============================] - 0s 24ms/step\n",
      "10/10 [==============================] - 0s 20ms/step\n",
      "10/10 [==============================] - 0s 18ms/step\n",
      "10/10 [==============================] - 0s 18ms/step\n",
      "10/10 [==============================] - 0s 19ms/step\n",
      "10/10 [==============================] - 0s 22ms/step\n",
      "10/10 [==============================] - 0s 20ms/step\n",
      "10/10 [==============================] - 0s 23ms/step\n",
      "10/10 [==============================] - 0s 20ms/step\n",
      "10/10 [==============================] - 0s 19ms/step\n",
      "10/10 [==============================] - 0s 21ms/step\n",
      "10/10 [==============================] - 0s 21ms/step\n",
      "10/10 [==============================] - 0s 36ms/step\n",
      "10/10 [==============================] - 0s 18ms/step\n",
      "10/10 [==============================] - 0s 18ms/step\n",
      "10/10 [==============================] - 0s 20ms/step\n",
      "10/10 [==============================] - 0s 25ms/step\n",
      "10/10 [==============================] - 0s 18ms/step\n",
      "10/10 [==============================] - 0s 22ms/step\n",
      "10/10 [==============================] - 0s 19ms/step\n",
      "10/10 [==============================] - 0s 19ms/step\n",
      "10/10 [==============================] - 0s 24ms/step\n",
      "10/10 [==============================] - 0s 17ms/step\n",
      "10/10 [==============================] - 0s 17ms/step\n",
      "10/10 [==============================] - 0s 19ms/step\n",
      "10/10 [==============================] - 0s 19ms/step\n",
      "10/10 [==============================] - 0s 20ms/step\n",
      "10/10 [==============================] - 0s 18ms/step\n",
      "10/10 [==============================] - 0s 21ms/step\n",
      "10/10 [==============================] - 0s 18ms/step\n",
      "10/10 [==============================] - 0s 18ms/step\n",
      "10/10 [==============================] - 0s 21ms/step\n",
      "10/10 [==============================] - 0s 20ms/step\n",
      "10/10 [==============================] - 0s 20ms/step\n",
      "10/10 [==============================] - 0s 19ms/step\n",
      "10/10 [==============================] - 0s 20ms/step\n",
      "10/10 [==============================] - 0s 23ms/step\n",
      "10/10 [==============================] - 0s 25ms/step\n",
      "10/10 [==============================] - 0s 29ms/step\n",
      "10/10 [==============================] - 0s 22ms/step\n",
      "10/10 [==============================] - 0s 19ms/step\n",
      "10/10 [==============================] - 0s 21ms/step\n",
      "10/10 [==============================] - 0s 23ms/step\n",
      "10/10 [==============================] - 0s 21ms/step\n",
      "10/10 [==============================] - 0s 19ms/step\n",
      "10/10 [==============================] - 0s 22ms/step\n",
      "10/10 [==============================] - 0s 21ms/step\n",
      "10/10 [==============================] - 0s 19ms/step\n",
      "10/10 [==============================] - 0s 21ms/step\n",
      "10/10 [==============================] - 0s 19ms/step\n",
      "10/10 [==============================] - 0s 19ms/step\n",
      "10/10 [==============================] - 0s 20ms/step\n",
      "10/10 [==============================] - 0s 20ms/step\n",
      "10/10 [==============================] - 0s 20ms/step\n",
      "10/10 [==============================] - 0s 22ms/step\n",
      "10/10 [==============================] - 0s 18ms/step\n",
      "10/10 [==============================] - 0s 20ms/step\n",
      "10/10 [==============================] - 0s 19ms/step\n",
      "10/10 [==============================] - 0s 21ms/step\n"
     ]
    },
    {
     "name": "stderr",
     "output_type": "stream",
     "text": [
      "\n",
      "  0%|          | 0/3 [00:00<?, ?it/s]\u001b[A\n",
      " 33%|███▎      | 1/3 [03:13<06:26, 193.11s/it]\u001b[A\n",
      " 67%|██████▋   | 2/3 [07:02<03:34, 214.29s/it]\u001b[A\n",
      "100%|██████████| 3/3 [11:03<00:00, 221.31s/it]\u001b[A\n",
      " 71%|███████   | 29/41 [1:22:30<1:36:23, 481.95s/it]"
     ]
    },
    {
     "name": "stdout",
     "output_type": "stream",
     "text": [
      "10/10 [==============================] - 0s 24ms/step\n",
      "10/10 [==============================] - 0s 24ms/step\n",
      "10/10 [==============================] - 0s 19ms/step\n",
      "10/10 [==============================] - 0s 27ms/step\n",
      "10/10 [==============================] - 0s 20ms/step\n",
      "10/10 [==============================] - 0s 19ms/step\n",
      "10/10 [==============================] - 0s 19ms/step\n",
      "10/10 [==============================] - 0s 23ms/step\n",
      "10/10 [==============================] - 0s 19ms/step\n",
      "10/10 [==============================] - 0s 20ms/step\n",
      "10/10 [==============================] - 0s 20ms/step\n",
      "10/10 [==============================] - 0s 19ms/step\n",
      "10/10 [==============================] - 0s 24ms/step\n",
      "10/10 [==============================] - 0s 20ms/step\n"
     ]
    },
    {
     "name": "stderr",
     "output_type": "stream",
     "text": [
      "\n",
      "  0%|          | 0/3 [00:00<?, ?it/s]\u001b[A\n",
      " 33%|███▎      | 1/3 [00:00<00:00,  2.87it/s]\u001b[A\n",
      " 67%|██████▋   | 2/3 [00:00<00:00,  3.03it/s]\u001b[A\n",
      "100%|██████████| 3/3 [00:00<00:00,  3.06it/s]\u001b[A\n",
      " 73%|███████▎  | 30/41 [1:22:47<1:02:46, 342.45s/it]"
     ]
    },
    {
     "name": "stdout",
     "output_type": "stream",
     "text": [
      "10/10 [==============================] - 0s 20ms/step\n",
      "10/10 [==============================] - 0s 18ms/step\n",
      "10/10 [==============================] - 0s 19ms/step\n",
      "10/10 [==============================] - 0s 22ms/step\n",
      "10/10 [==============================] - 0s 19ms/step\n",
      "10/10 [==============================] - 0s 22ms/step\n",
      "10/10 [==============================] - 0s 19ms/step\n",
      "10/10 [==============================] - 0s 23ms/step\n",
      "10/10 [==============================] - 0s 27ms/step\n",
      "10/10 [==============================] - 0s 20ms/step\n",
      "10/10 [==============================] - 0s 18ms/step\n",
      "10/10 [==============================] - 0s 30ms/step\n",
      "10/10 [==============================] - 0s 20ms/step\n",
      "10/10 [==============================] - 0s 20ms/step\n"
     ]
    },
    {
     "name": "stderr",
     "output_type": "stream",
     "text": [
      "\n",
      "  0%|          | 0/3 [00:00<?, ?it/s]\u001b[A\n",
      " 33%|███▎      | 1/3 [00:00<00:00,  2.15it/s]\u001b[A\n",
      " 67%|██████▋   | 2/3 [00:00<00:00,  2.32it/s]\u001b[A\n",
      "100%|██████████| 3/3 [00:01<00:00,  2.35it/s]\u001b[A\n",
      " 76%|███████▌  | 31/41 [1:23:04<40:47, 244.76s/it]  "
     ]
    },
    {
     "name": "stdout",
     "output_type": "stream",
     "text": [
      "10/10 [==============================] - 0s 38ms/step\n",
      "10/10 [==============================] - 0s 25ms/step\n",
      "10/10 [==============================] - 0s 20ms/step\n",
      "10/10 [==============================] - 0s 18ms/step\n",
      "10/10 [==============================] - 0s 20ms/step\n",
      "10/10 [==============================] - 0s 23ms/step\n",
      "10/10 [==============================] - 0s 24ms/step\n",
      "10/10 [==============================] - 0s 17ms/step\n",
      "10/10 [==============================] - 0s 25ms/step\n",
      "10/10 [==============================] - 0s 20ms/step\n",
      "10/10 [==============================] - 0s 18ms/step\n",
      "10/10 [==============================] - 0s 23ms/step\n",
      "10/10 [==============================] - 0s 23ms/step\n",
      "10/10 [==============================] - 0s 18ms/step\n",
      "10/10 [==============================] - 0s 30ms/step\n",
      "10/10 [==============================] - 0s 29ms/step\n",
      "10/10 [==============================] - 0s 17ms/step\n",
      "10/10 [==============================] - 0s 30ms/step\n",
      "10/10 [==============================] - 0s 21ms/step\n",
      "10/10 [==============================] - 0s 15ms/step\n",
      "10/10 [==============================] - 0s 18ms/step\n",
      "10/10 [==============================] - 0s 26ms/step\n",
      "10/10 [==============================] - 0s 19ms/step\n",
      "10/10 [==============================] - 0s 18ms/step\n",
      "10/10 [==============================] - 0s 25ms/step\n",
      "10/10 [==============================] - 0s 19ms/step\n",
      "10/10 [==============================] - 0s 17ms/step\n",
      "10/10 [==============================] - 0s 27ms/step\n",
      "10/10 [==============================] - 0s 20ms/step\n",
      "10/10 [==============================] - 0s 24ms/step\n",
      "10/10 [==============================] - 0s 17ms/step\n",
      "10/10 [==============================] - 0s 39ms/step\n",
      "10/10 [==============================] - 0s 20ms/step\n",
      "10/10 [==============================] - 0s 37ms/step\n",
      "10/10 [==============================] - 0s 25ms/step\n",
      "10/10 [==============================] - 0s 21ms/step\n",
      "10/10 [==============================] - 0s 17ms/step\n",
      "10/10 [==============================] - 0s 22ms/step\n"
     ]
    },
    {
     "name": "stderr",
     "output_type": "stream",
     "text": [
      "\n",
      "  0%|          | 0/3 [00:00<?, ?it/s]\u001b[A\n",
      " 33%|███▎      | 1/3 [00:31<01:02, 31.40s/it]\u001b[A\n",
      " 67%|██████▋   | 2/3 [01:05<00:32, 32.84s/it]\u001b[A\n",
      "100%|██████████| 3/3 [01:37<00:00, 32.44s/it]\u001b[A\n",
      " 78%|███████▊  | 32/41 [1:25:29<32:14, 215.00s/it]"
     ]
    },
    {
     "name": "stdout",
     "output_type": "stream",
     "text": [
      "10/10 [==============================] - 0s 32ms/step\n",
      "10/10 [==============================] - 0s 18ms/step\n",
      "10/10 [==============================] - 0s 30ms/step\n",
      "10/10 [==============================] - 0s 19ms/step\n",
      "10/10 [==============================] - 0s 22ms/step\n",
      "10/10 [==============================] - 0s 21ms/step\n",
      "10/10 [==============================] - 0s 21ms/step\n",
      "10/10 [==============================] - 0s 19ms/step\n",
      "10/10 [==============================] - 0s 17ms/step\n",
      "10/10 [==============================] - 0s 21ms/step\n",
      "10/10 [==============================] - 0s 17ms/step\n",
      "10/10 [==============================] - 0s 26ms/step\n",
      "10/10 [==============================] - 0s 35ms/step\n",
      "10/10 [==============================] - 0s 33ms/step\n",
      "10/10 [==============================] - 0s 21ms/step\n",
      "10/10 [==============================] - 0s 21ms/step\n"
     ]
    },
    {
     "name": "stderr",
     "output_type": "stream",
     "text": [
      "\n",
      "  0%|          | 0/3 [00:00<?, ?it/s]\u001b[A\n",
      " 33%|███▎      | 1/3 [00:02<00:04,  2.09s/it]\u001b[A\n",
      " 67%|██████▋   | 2/3 [00:04<00:02,  2.03s/it]\u001b[A\n",
      "100%|██████████| 3/3 [00:06<00:00,  2.06s/it]\u001b[A\n",
      " 80%|████████  | 33/41 [1:25:55<21:06, 158.26s/it]"
     ]
    },
    {
     "name": "stdout",
     "output_type": "stream",
     "text": [
      "10/10 [==============================] - 0s 20ms/step\n",
      "10/10 [==============================] - 0s 19ms/step\n",
      "10/10 [==============================] - 0s 36ms/step\n",
      "10/10 [==============================] - 0s 19ms/step\n",
      "10/10 [==============================] - 0s 24ms/step\n",
      "10/10 [==============================] - 0s 27ms/step\n",
      "10/10 [==============================] - 0s 20ms/step\n",
      "10/10 [==============================] - 0s 23ms/step\n",
      "10/10 [==============================] - 0s 19ms/step\n",
      "10/10 [==============================] - 0s 22ms/step\n",
      "10/10 [==============================] - 0s 22ms/step\n",
      "10/10 [==============================] - 0s 16ms/step\n",
      "10/10 [==============================] - 0s 19ms/step\n",
      "10/10 [==============================] - 0s 22ms/step\n",
      "10/10 [==============================] - 0s 23ms/step\n",
      "10/10 [==============================] - 0s 19ms/step\n",
      "10/10 [==============================] - 0s 19ms/step\n",
      "10/10 [==============================] - 0s 17ms/step\n",
      "10/10 [==============================] - 0s 22ms/step\n",
      "10/10 [==============================] - 0s 21ms/step\n",
      "10/10 [==============================] - 0s 24ms/step\n",
      "10/10 [==============================] - 0s 21ms/step\n"
     ]
    },
    {
     "name": "stderr",
     "output_type": "stream",
     "text": [
      "\n",
      "  0%|          | 0/3 [00:00<?, ?it/s]\u001b[A\n",
      " 33%|███▎      | 1/3 [00:02<00:04,  2.06s/it]\u001b[A\n",
      " 67%|██████▋   | 2/3 [00:04<00:02,  2.04s/it]\u001b[A\n",
      "100%|██████████| 3/3 [00:06<00:00,  2.03s/it]\u001b[A\n",
      " 83%|████████▎ | 34/41 [1:26:25<13:58, 119.81s/it]"
     ]
    },
    {
     "name": "stdout",
     "output_type": "stream",
     "text": [
      "10/10 [==============================] - 0s 21ms/step\n",
      "10/10 [==============================] - 0s 22ms/step\n",
      "10/10 [==============================] - 0s 23ms/step\n",
      "10/10 [==============================] - 0s 21ms/step\n",
      "10/10 [==============================] - 0s 26ms/step\n",
      "10/10 [==============================] - 0s 23ms/step\n",
      "10/10 [==============================] - 0s 20ms/step\n",
      "10/10 [==============================] - 0s 20ms/step\n",
      "10/10 [==============================] - 0s 21ms/step\n",
      "10/10 [==============================] - 0s 40ms/step\n",
      "10/10 [==============================] - 0s 24ms/step\n",
      "10/10 [==============================] - 0s 21ms/step\n"
     ]
    },
    {
     "name": "stderr",
     "output_type": "stream",
     "text": [
      "\n",
      "  0%|          | 0/3 [00:00<?, ?it/s]\u001b[A\n",
      " 33%|███▎      | 1/3 [00:00<00:00,  2.18it/s]\u001b[A\n",
      " 67%|██████▋   | 2/3 [00:00<00:00,  2.21it/s]\u001b[A\n",
      "100%|██████████| 3/3 [00:01<00:00,  2.28it/s]\u001b[A\n",
      " 85%|████████▌ | 35/41 [1:26:41<08:52, 88.71s/it] "
     ]
    },
    {
     "name": "stdout",
     "output_type": "stream",
     "text": [
      "10/10 [==============================] - 0s 21ms/step\n",
      "10/10 [==============================] - 0s 22ms/step\n",
      "10/10 [==============================] - 0s 31ms/step\n",
      "10/10 [==============================] - 0s 24ms/step\n",
      "10/10 [==============================] - 0s 26ms/step\n",
      "10/10 [==============================] - 0s 19ms/step\n",
      "10/10 [==============================] - 0s 22ms/step\n",
      "10/10 [==============================] - 0s 24ms/step\n",
      "10/10 [==============================] - 0s 21ms/step\n",
      "10/10 [==============================] - 0s 23ms/step\n",
      "10/10 [==============================] - 0s 30ms/step\n"
     ]
    },
    {
     "name": "stderr",
     "output_type": "stream",
     "text": [
      "\n",
      "  0%|          | 0/3 [00:00<?, ?it/s]\u001b[A\n",
      " 33%|███▎      | 1/3 [00:00<00:00,  3.75it/s]\u001b[A\n",
      " 67%|██████▋   | 2/3 [00:00<00:00,  3.94it/s]\u001b[A\n",
      "100%|██████████| 3/3 [00:00<00:00,  3.93it/s]\u001b[A\n",
      " 88%|████████▊ | 36/41 [1:26:54<05:30, 66.06s/it]"
     ]
    },
    {
     "name": "stdout",
     "output_type": "stream",
     "text": [
      "10/10 [==============================] - 0s 22ms/step\n",
      "10/10 [==============================] - 0s 23ms/step\n",
      "10/10 [==============================] - 0s 22ms/step\n",
      "10/10 [==============================] - 0s 40ms/step\n",
      "10/10 [==============================] - 0s 32ms/step\n",
      "10/10 [==============================] - 0s 20ms/step\n",
      "10/10 [==============================] - 0s 30ms/step\n",
      "10/10 [==============================] - 0s 19ms/step\n",
      "10/10 [==============================] - 0s 21ms/step\n",
      "10/10 [==============================] - 0s 23ms/step\n",
      "10/10 [==============================] - 0s 22ms/step\n",
      "10/10 [==============================] - 0s 15ms/step\n",
      "10/10 [==============================] - 0s 28ms/step\n",
      "10/10 [==============================] - 0s 21ms/step\n"
     ]
    },
    {
     "name": "stderr",
     "output_type": "stream",
     "text": [
      "\n",
      "  0%|          | 0/3 [00:00<?, ?it/s]\u001b[A\n",
      " 33%|███▎      | 1/3 [00:01<00:03,  1.86s/it]\u001b[A\n",
      " 67%|██████▋   | 2/3 [00:03<00:01,  1.88s/it]\u001b[A\n",
      "100%|██████████| 3/3 [00:05<00:00,  1.88s/it]\u001b[A\n",
      " 90%|█████████ | 37/41 [1:27:19<03:33, 53.49s/it]"
     ]
    },
    {
     "name": "stdout",
     "output_type": "stream",
     "text": [
      "10/10 [==============================] - 0s 29ms/step\n",
      "10/10 [==============================] - 0s 21ms/step\n",
      "10/10 [==============================] - 0s 23ms/step\n",
      "10/10 [==============================] - 0s 20ms/step\n",
      "10/10 [==============================] - 0s 21ms/step\n",
      "10/10 [==============================] - 0s 19ms/step\n",
      "10/10 [==============================] - 0s 26ms/step\n",
      "10/10 [==============================] - 0s 19ms/step\n",
      "10/10 [==============================] - 0s 17ms/step\n",
      "10/10 [==============================] - 0s 22ms/step\n",
      "10/10 [==============================] - 0s 22ms/step\n",
      "10/10 [==============================] - 0s 20ms/step\n",
      "10/10 [==============================] - 0s 21ms/step\n",
      "10/10 [==============================] - 0s 26ms/step\n",
      "10/10 [==============================] - 0s 19ms/step\n",
      "10/10 [==============================] - 0s 28ms/step\n",
      "10/10 [==============================] - 0s 17ms/step\n",
      "10/10 [==============================] - 0s 40ms/step\n",
      "10/10 [==============================] - 0s 18ms/step\n",
      "10/10 [==============================] - 0s 23ms/step\n",
      "10/10 [==============================] - 0s 18ms/step\n",
      "10/10 [==============================] - 0s 34ms/step\n",
      "10/10 [==============================] - 0s 21ms/step\n",
      "10/10 [==============================] - 0s 37ms/step\n",
      "10/10 [==============================] - 0s 23ms/step\n",
      "10/10 [==============================] - 0s 17ms/step\n",
      "10/10 [==============================] - 0s 21ms/step\n",
      "10/10 [==============================] - 0s 25ms/step\n",
      "10/10 [==============================] - 0s 22ms/step\n",
      "10/10 [==============================] - 0s 21ms/step\n",
      "10/10 [==============================] - 0s 24ms/step\n",
      "10/10 [==============================] - 0s 24ms/step\n",
      "10/10 [==============================] - 0s 21ms/step\n",
      "10/10 [==============================] - 0s 28ms/step\n",
      "10/10 [==============================] - 0s 20ms/step\n",
      "10/10 [==============================] - 0s 21ms/step\n",
      "10/10 [==============================] - 0s 18ms/step\n",
      "10/10 [==============================] - 0s 18ms/step\n",
      "10/10 [==============================] - 0s 28ms/step\n",
      "10/10 [==============================] - 0s 31ms/step\n",
      "10/10 [==============================] - 0s 21ms/step\n",
      "10/10 [==============================] - 0s 26ms/step\n",
      "10/10 [==============================] - 0s 22ms/step\n",
      "10/10 [==============================] - 0s 26ms/step\n",
      "10/10 [==============================] - 0s 21ms/step\n",
      "10/10 [==============================] - 0s 29ms/step\n",
      "10/10 [==============================] - 0s 19ms/step\n",
      "10/10 [==============================] - 0s 18ms/step\n",
      "10/10 [==============================] - 0s 14ms/step\n",
      "10/10 [==============================] - 0s 20ms/step\n",
      "10/10 [==============================] - 0s 19ms/step\n",
      "10/10 [==============================] - 0s 30ms/step\n",
      "10/10 [==============================] - 0s 20ms/step\n",
      "10/10 [==============================] - 0s 17ms/step\n",
      "10/10 [==============================] - 0s 19ms/step\n",
      "10/10 [==============================] - 0s 22ms/step\n",
      "10/10 [==============================] - 0s 27ms/step\n",
      "10/10 [==============================] - 0s 19ms/step\n",
      "10/10 [==============================] - 0s 20ms/step\n",
      "10/10 [==============================] - 0s 18ms/step\n",
      "10/10 [==============================] - 0s 25ms/step\n",
      "10/10 [==============================] - 0s 27ms/step\n",
      "10/10 [==============================] - 0s 28ms/step\n",
      "10/10 [==============================] - 0s 34ms/step\n",
      "10/10 [==============================] - 0s 31ms/step\n"
     ]
    },
    {
     "name": "stderr",
     "output_type": "stream",
     "text": [
      "\n",
      "  0%|          | 0/3 [00:00<?, ?it/s]\u001b[A\n",
      " 33%|███▎      | 1/3 [01:44<03:28, 104.14s/it]\u001b[A\n",
      " 67%|██████▋   | 2/3 [03:31<01:46, 106.07s/it]\u001b[A\n",
      "100%|██████████| 3/3 [05:27<00:00, 109.26s/it]\u001b[A\n",
      " 93%|█████████▎| 38/41 [1:34:04<07:57, 159.20s/it]"
     ]
    },
    {
     "name": "stdout",
     "output_type": "stream",
     "text": [
      "10/10 [==============================] - 0s 22ms/step\n",
      "10/10 [==============================] - 0s 22ms/step\n",
      "10/10 [==============================] - 0s 21ms/step\n",
      "10/10 [==============================] - 0s 22ms/step\n",
      "10/10 [==============================] - 0s 23ms/step\n",
      "10/10 [==============================] - 0s 20ms/step\n",
      "10/10 [==============================] - 0s 26ms/step\n",
      "10/10 [==============================] - 0s 22ms/step\n",
      "10/10 [==============================] - 0s 29ms/step\n",
      "10/10 [==============================] - 0s 33ms/step\n",
      "10/10 [==============================] - 0s 19ms/step\n",
      "10/10 [==============================] - 0s 22ms/step\n",
      "10/10 [==============================] - 0s 20ms/step\n",
      "10/10 [==============================] - 0s 20ms/step\n",
      "10/10 [==============================] - 0s 19ms/step\n",
      "10/10 [==============================] - 0s 25ms/step\n",
      "10/10 [==============================] - 0s 22ms/step\n",
      "10/10 [==============================] - 0s 21ms/step\n",
      "10/10 [==============================] - 0s 23ms/step\n",
      "10/10 [==============================] - 0s 23ms/step\n"
     ]
    },
    {
     "name": "stderr",
     "output_type": "stream",
     "text": [
      "\n",
      "  0%|          | 0/3 [00:00<?, ?it/s]\u001b[A\n",
      " 33%|███▎      | 1/3 [00:02<00:04,  2.00s/it]\u001b[A\n",
      " 67%|██████▋   | 2/3 [00:03<00:01,  1.92s/it]\u001b[A\n",
      "100%|██████████| 3/3 [00:05<00:00,  1.92s/it]\u001b[A\n",
      " 95%|█████████▌| 39/41 [1:34:34<04:00, 120.38s/it]"
     ]
    },
    {
     "name": "stdout",
     "output_type": "stream",
     "text": [
      "10/10 [==============================] - 0s 26ms/step\n",
      "10/10 [==============================] - 0s 20ms/step\n",
      "10/10 [==============================] - 0s 22ms/step\n",
      "10/10 [==============================] - 0s 23ms/step\n",
      "10/10 [==============================] - 0s 27ms/step\n",
      "10/10 [==============================] - 0s 24ms/step\n",
      "10/10 [==============================] - 0s 18ms/step\n",
      "10/10 [==============================] - 0s 20ms/step\n",
      "10/10 [==============================] - 0s 22ms/step\n",
      "10/10 [==============================] - 0s 19ms/step\n",
      "10/10 [==============================] - 0s 25ms/step\n",
      "10/10 [==============================] - 0s 19ms/step\n",
      "10/10 [==============================] - 0s 20ms/step\n",
      "10/10 [==============================] - 0s 36ms/step\n",
      "10/10 [==============================] - 0s 20ms/step\n",
      "10/10 [==============================] - 0s 36ms/step\n",
      "10/10 [==============================] - 0s 25ms/step\n",
      "10/10 [==============================] - 0s 19ms/step\n",
      "10/10 [==============================] - 0s 26ms/step\n",
      "10/10 [==============================] - 0s 44ms/step\n",
      "10/10 [==============================] - 0s 19ms/step\n",
      "10/10 [==============================] - 0s 21ms/step\n",
      "10/10 [==============================] - 0s 19ms/step\n",
      "10/10 [==============================] - 0s 28ms/step\n",
      "10/10 [==============================] - 0s 21ms/step\n",
      "10/10 [==============================] - 0s 29ms/step\n",
      "10/10 [==============================] - 0s 24ms/step\n",
      "10/10 [==============================] - 0s 21ms/step\n"
     ]
    },
    {
     "name": "stderr",
     "output_type": "stream",
     "text": [
      "\n",
      "  0%|          | 0/3 [00:00<?, ?it/s]\u001b[A\n",
      " 33%|███▎      | 1/3 [00:13<00:26, 13.20s/it]\u001b[A\n",
      " 67%|██████▋   | 2/3 [00:29<00:14, 14.80s/it]\u001b[A\n",
      "100%|██████████| 3/3 [00:46<00:00, 15.33s/it]\u001b[A\n",
      " 98%|█████████▊| 40/41 [1:35:57<01:49, 109.06s/it]"
     ]
    },
    {
     "name": "stdout",
     "output_type": "stream",
     "text": [
      "10/10 [==============================] - 0s 21ms/step\n",
      "10/10 [==============================] - 0s 23ms/step\n",
      "10/10 [==============================] - 0s 23ms/step\n",
      "10/10 [==============================] - 0s 25ms/step\n",
      "10/10 [==============================] - 0s 22ms/step\n",
      "10/10 [==============================] - 0s 21ms/step\n",
      "10/10 [==============================] - 0s 23ms/step\n",
      "10/10 [==============================] - 0s 20ms/step\n",
      "10/10 [==============================] - 0s 35ms/step\n",
      "10/10 [==============================] - 0s 27ms/step\n",
      "10/10 [==============================] - 0s 18ms/step\n",
      "10/10 [==============================] - 0s 26ms/step\n",
      "10/10 [==============================] - 0s 18ms/step\n",
      "10/10 [==============================] - 0s 22ms/step\n",
      "10/10 [==============================] - 0s 21ms/step\n",
      "10/10 [==============================] - 0s 30ms/step\n",
      "10/10 [==============================] - 0s 24ms/step\n",
      "10/10 [==============================] - 0s 25ms/step\n",
      "10/10 [==============================] - 0s 23ms/step\n",
      "10/10 [==============================] - 0s 20ms/step\n",
      "10/10 [==============================] - 0s 34ms/step\n",
      "10/10 [==============================] - 0s 23ms/step\n",
      "10/10 [==============================] - 0s 29ms/step\n",
      "10/10 [==============================] - 0s 25ms/step\n",
      "10/10 [==============================] - 0s 28ms/step\n",
      "10/10 [==============================] - 0s 19ms/step\n",
      "10/10 [==============================] - 0s 20ms/step\n",
      "10/10 [==============================] - 0s 19ms/step\n",
      "10/10 [==============================] - 0s 17ms/step\n",
      "10/10 [==============================] - 0s 19ms/step\n",
      "10/10 [==============================] - 0s 28ms/step\n",
      "10/10 [==============================] - 0s 21ms/step\n",
      "10/10 [==============================] - 0s 18ms/step\n"
     ]
    },
    {
     "name": "stderr",
     "output_type": "stream",
     "text": [
      "\n",
      "  0%|          | 0/3 [00:00<?, ?it/s]\u001b[A\n",
      " 33%|███▎      | 1/3 [00:20<00:41, 20.58s/it]\u001b[A\n",
      " 67%|██████▋   | 2/3 [00:42<00:21, 21.15s/it]\u001b[A\n",
      "100%|██████████| 3/3 [01:02<00:00, 20.95s/it]\u001b[A\n",
      "100%|██████████| 41/41 [1:37:43<00:00, 143.01s/it]\n"
     ]
    }
   ],
   "source": [
    "lime_based_scores = []\n",
    "for i in tqdm(df_for_ex_ai['review_translate'].values):\n",
    "    scores, tokens, ratings = lime_explainer.explain(i)\n",
    "    aggregated = aggregate_results(scores, tokens, ratings, n_gram=4, \n",
    "                  func_agg_n_gram='mean',\n",
    "                  func_agg_overall='mean',\n",
    "                  diversify=2,\n",
    "                 top_n=15)\n",
    "    lime_based_scores.append(aggregated)"
   ]
  },
  {
   "cell_type": "code",
   "execution_count": 43,
   "id": "7c66e5cf-5b89-4fcf-b824-b7da3cbf1cff",
   "metadata": {
    "tags": []
   },
   "outputs": [
    {
     "data": {
      "text/plain": [
       "{'positive': [('в цілому все добре', 0.20725854871570476),\n",
       "  ('класна миша вибачте що', 0.17673367722443517),\n",
       "  ('миша чудова за кращу', 0.15806885405267967),\n",
       "  ('я використовую мишу imba', 0.1306511591906742),\n",
       "  ('мене це не варте', 0.06326709581447701),\n",
       "  ('програмованими кнопками стосовно цього', 0.0465224356055165),\n",
       "  ('целом если по скидкам', 0.039661644947611555),\n",
       "  ('imba протягом 2 тижнів', 0.03816473993130973),\n",
       "  ('своих денег так как', 0.03658832250702586),\n",
       "  ('за 1400 но я', 0.03410504870482029),\n",
       "  ('но сейчас меняю на', 0.03379859585199217),\n",
       "  ('кращу ціну в категорії', 0.03231058919438318),\n",
       "  ('дефект не був підтверджений', 0.03032949655962209),\n",
       "  ('цього нарікань немає головний', 0.02989826123090632),\n",
       "  ('головний недолік в моєму', 0.028919822000371607)],\n",
       " 'negative': [('ааа миша 10 з', 0.2337411529741005),\n",
       "  ('через рік фарба перестала', 0.2151967300756923),\n",
       "  ('з 10 удача 0', 0.1776437532056154),\n",
       "  ('через бренд в руці', 0.16132356158111297),\n",
       "  ('у мене почалися булінги', 0.1387576919002311),\n",
       "  ('я ее покупал за', 0.11177417251088911),\n",
       "  ('другую так как скрип', 0.0892240151957577),\n",
       "  ('знову почали відривати датчик', 0.08361441480725734),\n",
       "  ('день дуже сильно відірвався', 0.07734647602831382),\n",
       "  ('не зробив з причиною', 0.07534815799918751),\n",
       "  ('по гарантії сервісний центр', 0.05482936374054845),\n",
       "  ('що я її вкрав', 0.05404331596604395),\n",
       "  ('відірвався від датчика думка', 0.044347735686592483),\n",
       "  ('роки використання почали регулярно', 0.04396346373897996),\n",
       "  ('скрип очень сильно надоел', 0.04331368709385499)],\n",
       " 'neutral': [('почалися булінги телепортує курси', 0.10256458630860368),\n",
       "  ('але кнопка миші лемша', 0.08729894061323838),\n",
       "  ('дублюватися натискання на ліву', 0.06167677294750055),\n",
       "  ('лемша при сильному натисканні', 0.05638686008620096),\n",
       "  ('тиждень у мене почалися', 0.053838352382684265),\n",
       "  ('при відпусканні починає трястися', 0.05170555795756257),\n",
       "  ('цього нарікань немає головний', 0.049960836663483846),\n",
       "  ('використання почали регулярно дублюватися', 0.04695892099124714),\n",
       "  ('скрип очень сильно надоел', 0.04017774128324592),\n",
       "  ('ліву кнопку миші звернувся', 0.039571646157528735),\n",
       "  ('другую так как скрип', 0.039385528160804026),\n",
       "  ('березні 2019 року зараз', 0.027674981601653426),\n",
       "  ('був шлюб розетка чи', 0.027623498132457878),\n",
       "  ('головний недолік в моєму', 0.02697631836640977),\n",
       "  ('з кольорового килима купили', 0.02586270598254583)]}"
      ]
     },
     "execution_count": 43,
     "metadata": {},
     "output_type": "execute_result"
    }
   ],
   "source": [
    "lime_based_scores[5]"
   ]
  },
  {
   "cell_type": "code",
   "execution_count": 40,
   "id": "074decf7-103d-4ec5-905e-7740916cc339",
   "metadata": {
    "tags": []
   },
   "outputs": [],
   "source": [
    "lime_explanation = pd.DataFrame(lime_based_scores)"
   ]
  },
  {
   "cell_type": "code",
   "execution_count": 41,
   "id": "64598234-57f9-472b-9323-aff8aea60c4a",
   "metadata": {
    "tags": []
   },
   "outputs": [],
   "source": [
    "lime_explanation = pd.concat([df_for_ex_ai, lime_explanation], axis=1)"
   ]
  },
  {
   "cell_type": "code",
   "execution_count": 42,
   "id": "75f06dc8-687b-4938-a039-c7bebb3c430e",
   "metadata": {},
   "outputs": [],
   "source": [
    "lime_explanation.to_csv('/home/user/files_for_research_Vova/lime_explanation_rating_sentiment.csv',\n",
    "                       index=False)"
   ]
  },
  {
   "cell_type": "code",
   "execution_count": null,
   "id": "37fa26ac-fd66-4d7e-9398-19e74a18009b",
   "metadata": {},
   "outputs": [],
   "source": []
  }
 ],
 "metadata": {
  "kernelspec": {
   "display_name": "tensorflow_cuda12",
   "language": "python",
   "name": "tensorflow_cuda12"
  },
  "language_info": {
   "codemirror_mode": {
    "name": "ipython",
    "version": 3
   },
   "file_extension": ".py",
   "mimetype": "text/x-python",
   "name": "python",
   "nbconvert_exporter": "python",
   "pygments_lexer": "ipython3",
   "version": "3.8.10"
  }
 },
 "nbformat": 4,
 "nbformat_minor": 5
}
